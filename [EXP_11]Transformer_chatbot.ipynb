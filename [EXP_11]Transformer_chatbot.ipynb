{
  "nbformat": 4,
  "nbformat_minor": 0,
  "metadata": {
    "colab": {
      "provenance": [],
      "collapsed_sections": []
    },
    "kernelspec": {
      "name": "python3",
      "display_name": "Python 3"
    },
    "language_info": {
      "name": "python"
    },
    "accelerator": "GPU",
    "gpuClass": "standard"
  },
  "cells": [
    {
      "cell_type": "markdown",
      "source": [
        "## [EXPLORATION:14] 14. Transformer로 챗봇 구현하기\n",
        "\n",
        "목차\n",
        "\n",
        "1. QA 텍스트 데이터 전처리\n",
        "2. SubwordTextEncoder를 활용한 토크나이징 \n",
        "3. Transformer Modeling\n",
        "4. 최종 결과 확인"
      ],
      "metadata": {
        "id": "AvKpln1AYfAZ"
      }
    },
    {
      "cell_type": "code",
      "execution_count": null,
      "metadata": {
        "id": "_k5zMNm-NWc9"
      },
      "outputs": [],
      "source": [
        "#Module import\n",
        "import tensorflow as tf\n",
        "import tensorflow_datasets as tfds\n",
        "import os\n",
        "import re\n",
        "import numpy as np\n",
        "import matplotlib.pyplot as plt\n",
        "import pandas as pd"
      ]
    },
    {
      "cell_type": "code",
      "source": [
        "from google.colab import drive\n",
        "drive.mount('/content/drive')"
      ],
      "metadata": {
        "colab": {
          "base_uri": "https://localhost:8080/"
        },
        "id": "gq_nh0rY8SJL",
        "outputId": "740a3130-2ba8-478e-b7be-9f58d358a17c"
      },
      "execution_count": null,
      "outputs": [
        {
          "output_type": "stream",
          "name": "stdout",
          "text": [
            "Drive already mounted at /content/drive; to attempt to forcibly remount, call drive.mount(\"/content/drive\", force_remount=True).\n"
          ]
        }
      ]
    },
    {
      "cell_type": "code",
      "source": [
        "#data import\n",
        "data_path = '/content/drive/MyDrive/Chatbot_data/ChatbotData.csv'\n",
        "data_df = pd.read_csv(data_path)"
      ],
      "metadata": {
        "id": "knqM3HG5Ps-S"
      },
      "execution_count": null,
      "outputs": []
    },
    {
      "cell_type": "code",
      "source": [
        "#data 확인\n",
        "data_df.head"
      ],
      "metadata": {
        "colab": {
          "base_uri": "https://localhost:8080/"
        },
        "id": "PvxTA_hHRWRc",
        "outputId": "2c400cf1-244f-4200-aec2-10ec2c441223"
      },
      "execution_count": null,
      "outputs": [
        {
          "output_type": "execute_result",
          "data": {
            "text/plain": [
              "<bound method NDFrame.head of                              Q                         A  label\n",
              "0                       12시 땡!                하루가 또 가네요.      0\n",
              "1                  1지망 학교 떨어졌어                 위로해 드립니다.      0\n",
              "2                 3박4일 놀러가고 싶다               여행은 언제나 좋죠.      0\n",
              "3              3박4일 정도 놀러가고 싶다               여행은 언제나 좋죠.      0\n",
              "4                      PPL 심하네                눈살이 찌푸려지죠.      0\n",
              "...                        ...                       ...    ...\n",
              "11818           훔쳐보는 것도 눈치 보임.        티가 나니까 눈치가 보이는 거죠!      2\n",
              "11819           훔쳐보는 것도 눈치 보임.             훔쳐보는 거 티나나봐요.      2\n",
              "11820              흑기사 해주는 짝남.                    설렜겠어요.      2\n",
              "11821  힘든 연애 좋은 연애라는게 무슨 차이일까?  잘 헤어질 수 있는 사이 여부인 거 같아요.      2\n",
              "11822               힘들어서 결혼할까봐        도피성 결혼은 하지 않길 바라요.      2\n",
              "\n",
              "[11823 rows x 3 columns]>"
            ]
          },
          "metadata": {},
          "execution_count": 4
        }
      ]
    },
    {
      "cell_type": "markdown",
      "source": [
        "## 1. 전처리"
      ],
      "metadata": {
        "id": "h6j81qMu-7Pc"
      }
    },
    {
      "cell_type": "code",
      "source": [
        "#train test set split\n",
        "#input, label을 각각 question, answer로 설정\n",
        "from sklearn.model_selection import train_test_split\n",
        "\n",
        "def load_data():\n",
        "  questions = []\n",
        "  answers = []\n",
        "  with open('/content/drive/MyDrive/Chatbot_data/ChatbotData.csv', 'r', encoding='utf-8') as f:\n",
        "    for line in f.read().splitlines():\n",
        "      questions.append(line.split(',')[0:1][0])\n",
        "      answers.append(line.split(',')[1:2][0])\n",
        "  train_input, eval_input, train_label, eval_label = train_test_split(questions, answers,\n",
        "                                                                      test_size=0.05,\n",
        "                                                                      random_state=111) \n",
        "  return train_input, eval_input, train_label, eval_label"
      ],
      "metadata": {
        "id": "t_FQxgVPR-1b"
      },
      "execution_count": null,
      "outputs": []
    },
    {
      "cell_type": "code",
      "source": [
        "train_input, eval_input, train_label, eval_label = load_data()"
      ],
      "metadata": {
        "id": "ltALTz9WR_2q"
      },
      "execution_count": null,
      "outputs": []
    },
    {
      "cell_type": "code",
      "source": [
        "#Train/test split 확인\n",
        "print('Question_train data:', len(train_input))\n",
        "print('Question_test_data :', len(eval_input))\n",
        "print('Answer_train_data :', len(train_label))\n",
        "print('Answer_test_data :', len(eval_label))"
      ],
      "metadata": {
        "colab": {
          "base_uri": "https://localhost:8080/"
        },
        "id": "vXXmnYlDSIhC",
        "outputId": "ade4aa71-743d-453a-b182-a9017bba6fcb"
      },
      "execution_count": null,
      "outputs": [
        {
          "output_type": "stream",
          "name": "stdout",
          "text": [
            "Question_train data: 11232\n",
            "Question_test_data : 592\n",
            "Answer_train_data : 11232\n",
            "Answer_test_data : 592\n"
          ]
        }
      ]
    },
    {
      "cell_type": "code",
      "source": [
        "# 전처리 함수\n",
        "def preprocess_sentence(sentence):\n",
        "  sentence = sentence.lower().strip()\n",
        "  #단어와 구두점 사이에 space를 만들어줌\n",
        "  sentence = re.sub(r\"([?.!,])\", r\" \\1 \", sentence)\n",
        "  sentence = re.sub(r'[\" \"]+', \" \", sentence)\n",
        "  sentence = sentence.strip()\n",
        "  return sentence"
      ],
      "metadata": {
        "id": "o_YcrXlTCrpZ"
      },
      "execution_count": null,
      "outputs": []
    },
    {
      "cell_type": "code",
      "source": [
        "print('전처리 후의 22번째 질문 샘플: {}'.format(preprocess_sentence(train_input[23])))\n",
        "print('전처리 후의 22번째 답변 샘플: {}'.format(preprocess_sentence(train_label[23])))"
      ],
      "metadata": {
        "colab": {
          "base_uri": "https://localhost:8080/"
        },
        "id": "fCwpqTLxRim-",
        "outputId": "6865c29d-08e6-443d-a738-263e2bceddeb"
      },
      "execution_count": null,
      "outputs": [
        {
          "output_type": "stream",
          "name": "stdout",
          "text": [
            "전처리 후의 22번째 질문 샘플: 무기력증 극복하는 방법\n",
            "전처리 후의 22번째 답변 샘플: 자신의 감정을 주변 사람들에게 터놓고 이야기해보세요 .\n"
          ]
        }
      ]
    },
    {
      "cell_type": "markdown",
      "source": [
        "# 2. SubwordTextEncoder\n",
        "\n",
        "- SubwordTextEncoder는 텐서플로우를 통해 사용할 수 있는 서브워드 토크나이저\n",
        "- BPE(Byte Pair Encoding)와 유사한 알고리즘인 Wordpiece Model을 채택\n",
        "- 이를 바탕으로 토크나이징 진행"
      ],
      "metadata": {
        "id": "sY_ZOn2Nl1la"
      }
    },
    {
      "cell_type": "code",
      "source": [
        "#train_input, train_label 데이터셋에 대한 Vocabulary 생성\n",
        "tokenizer = tfds.deprecated.text.SubwordTextEncoder.build_from_corpus(train_input + train_label, target_vocab_size=2**13)"
      ],
      "metadata": {
        "id": "FiM8WgtTTyo5"
      },
      "execution_count": null,
      "outputs": []
    },
    {
      "cell_type": "code",
      "source": [
        "#토큰화된 Subwords 확인\n",
        "print(tokenizer.subwords[:20])"
      ],
      "metadata": {
        "colab": {
          "base_uri": "https://localhost:8080/"
        },
        "id": "mcdEFtdC92WV",
        "outputId": "cdf1d14e-d8d1-4cd1-a07b-a391e5937a8e"
      },
      "execution_count": null,
      "outputs": [
        {
          "output_type": "stream",
          "name": "stdout",
          "text": [
            "['거예요', '수_', '게_', '너무_', '더_', '이_', '거_', '는_', '좋아하는_', '을_', '잘_', '도_', '고_', '. ', '요', '것_', '많이_', '안_', '좋은_', '한_']\n"
          ]
        }
      ]
    },
    {
      "cell_type": "code",
      "source": [
        "#시작 토큰과 종료 토큰에 정수 부여\n",
        "START_TOKEN, END_TOKEN = [tokenizer.vocab_size], [tokenizer.vocab_size + 1]"
      ],
      "metadata": {
        "id": "jrv9g8j_ePKj"
      },
      "execution_count": null,
      "outputs": []
    },
    {
      "cell_type": "code",
      "source": [
        "print('START_TOKEN의 번호 :' ,[tokenizer.vocab_size])\n",
        "print('END_TOKEN의 번호 :' ,[tokenizer.vocab_size + 1])"
      ],
      "metadata": {
        "colab": {
          "base_uri": "https://localhost:8080/"
        },
        "id": "dTL2tEp8VH_Y",
        "outputId": "c0b5334b-c3d3-4d7e-e25a-b0fe3fe284f5"
      },
      "execution_count": null,
      "outputs": [
        {
          "output_type": "stream",
          "name": "stdout",
          "text": [
            "START_TOKEN의 번호 : [7872]\n",
            "END_TOKEN의 번호 : [7873]\n"
          ]
        }
      ]
    },
    {
      "cell_type": "code",
      "source": [
        "#시작, 종료 토큰을 포함하여 Vocab_size 구성\n",
        "VOCAB_SIZE = tokenizer.vocab_size + 2\n",
        "print(VOCAB_SIZE)"
      ],
      "metadata": {
        "colab": {
          "base_uri": "https://localhost:8080/"
        },
        "id": "l768ha5ZVtsb",
        "outputId": "dfc6db36-b248-4428-cbad-05f31e55d7b6"
      },
      "execution_count": null,
      "outputs": [
        {
          "output_type": "stream",
          "name": "stdout",
          "text": [
            "7874\n"
          ]
        }
      ]
    },
    {
      "cell_type": "code",
      "source": [
        "# 임의의 21번째 샘플에 대해서 정수 인코딩 작업을 수행\n",
        "print('정수 인코딩 후의 21번째 질문 샘플: {}'.format(tokenizer.encode(train_input[21])))\n",
        "print('정수 인코딩 후의 21번째 답변 샘플: {}'.format(tokenizer.encode(train_label[21])))"
      ],
      "metadata": {
        "colab": {
          "base_uri": "https://localhost:8080/"
        },
        "id": "Ddu7dPzMVwC6",
        "outputId": "ff95341d-19d7-447a-ed89-9adc5358beca"
      },
      "execution_count": null,
      "outputs": [
        {
          "output_type": "stream",
          "name": "stdout",
          "text": [
            "정수 인코딩 후의 21번째 질문 샘플: [2465, 18, 4520]\n",
            "정수 인코딩 후의 21번째 답변 샘플: [1926, 31, 7662]\n"
          ]
        }
      ]
    },
    {
      "cell_type": "code",
      "source": [
        "#MAX_LENGTH 설정\n",
        "MAX_LENGTH = 40"
      ],
      "metadata": {
        "id": "y9rH0wRrd0Tv"
      },
      "execution_count": null,
      "outputs": []
    },
    {
      "cell_type": "code",
      "source": [
        "# 정수 인코딩, 최대 길이를 초과하는 샘플 제거, 패딩\n",
        "def tokenize_and_filter(inputs, outputs):\n",
        "  tokenized_inputs, tokenized_outputs = [], []\n",
        "  \n",
        "  for (sentence1, sentence2) in zip(inputs, outputs):\n",
        "    # 정수 인코딩 과정에서 시작 토큰과 종료 토큰을 추가\n",
        "    sentence1 = START_TOKEN + tokenizer.encode(sentence1) + END_TOKEN\n",
        "    sentence2 = START_TOKEN + tokenizer.encode(sentence2) + END_TOKEN\n",
        "\n",
        "    # 최대 길이 40 이하인 경우에만 데이터셋으로 허용\n",
        "    if len(sentence1) <= MAX_LENGTH and len(sentence2) <= MAX_LENGTH:\n",
        "      tokenized_inputs.append(sentence1)\n",
        "      tokenized_outputs.append(sentence2)\n",
        "  \n",
        "  # 최대 길이 40으로 모든 데이터셋을 패딩\n",
        "  tokenized_inputs = tf.keras.preprocessing.sequence.pad_sequences(\n",
        "      tokenized_inputs, maxlen=MAX_LENGTH, padding='post')\n",
        "  tokenized_outputs = tf.keras.preprocessing.sequence.pad_sequences(\n",
        "      tokenized_outputs, maxlen=MAX_LENGTH, padding='post')\n",
        "  \n",
        "  return tokenized_inputs, tokenized_outputs"
      ],
      "metadata": {
        "id": "HZD4Y7YFd4i5"
      },
      "execution_count": null,
      "outputs": []
    },
    {
      "cell_type": "code",
      "source": [
        "questions, answers = tokenize_and_filter(train_input, train_label)\n",
        "print('단어장의 크기 :',(VOCAB_SIZE))\n",
        "print('필터링 후의 질문 샘플 개수: {}'.format(len(train_input)))\n",
        "print('필터링 후의 답변 샘플 개수: {}'.format(len(train_label)))"
      ],
      "metadata": {
        "colab": {
          "base_uri": "https://localhost:8080/"
        },
        "id": "pDGFogdVeBCO",
        "outputId": "573c49ff-e4fe-48aa-b518-d36f2db8b29f"
      },
      "execution_count": null,
      "outputs": [
        {
          "output_type": "stream",
          "name": "stdout",
          "text": [
            "단어장의 크기 : 7874\n",
            "필터링 후의 질문 샘플 개수: 11232\n",
            "필터링 후의 답변 샘플 개수: 11232\n"
          ]
        }
      ]
    },
    {
      "cell_type": "markdown",
      "source": [
        "## 3. 트랜스포머 모델 구성하기\n",
        "\n",
        "- PositionalEncoding \n",
        "- scaled_dot_product_attention\n",
        "- MultiHeadAttention\n",
        "- Padding, look-ahead mask \n",
        "- encoder layer, encoder\n",
        "- decoder layer, decoder\n"
      ],
      "metadata": {
        "id": "xS899pawx2Cl"
      }
    },
    {
      "cell_type": "markdown",
      "source": [
        "### PostiionalEncoding\n",
        "\n",
        "sequential data를 다루는 RNN과 달리 트랜스포머는 모든 단어를 한꺼번에 '문장' 단위로 받기때문에 위치정보를 알려줄 필요가 있다.\n",
        "이를 위해 사인 함수와 코사인 함수의 값을 임베딩 벡터에 더해줌으로써 단어의 순서 정보를 더해준다. 그럼 왜 사인과 코사인을 활용하는가?\n",
        "\n",
        "1. 사인 코사인의 출력값이 입력값에 따라 상대적인 위치로 사용된다.\n",
        "2. 사인 코사인은 규칙적으로 증가/감소하는 특징을 갖는다.\n",
        "3. 이론적으로 무한대 길이의 값도, 어떠한 위치의 값도 출력이 가능하다는 이점을 지닌다. "
      ],
      "metadata": {
        "id": "0DBuFbsVEPso"
      }
    },
    {
      "cell_type": "code",
      "source": [
        "class PositionalEncoding(tf.keras.layers.Layer):\n",
        "    def __init__(self, position, d_model):\n",
        "        super(PositionalEncoding, self).__init__()\n",
        "        self.pos_encoding = self.positional_encoding(position, d_model)\n",
        "\n",
        "    def get_angles(self, position, i, d_model):\n",
        "        angles = 1 / tf.pow(10000, (2 * (i // 2)) / tf.cast(d_model, tf.float32))\n",
        "        return position * angles\n",
        "\n",
        "    def positional_encoding(self, position, d_model):\n",
        "        angle_rads = self.get_angles(\n",
        "            position=tf.range(position, dtype=tf.float32)[:, tf.newaxis],\n",
        "            i=tf.range(d_model, dtype=tf.float32)[tf.newaxis, :],\n",
        "            d_model=d_model)\n",
        "        # 배열의 짝수 인덱스에는 sin 함수 적용\n",
        "        sines = tf.math.sin(angle_rads[:, 0::2])\n",
        "        # 배열의 홀수 인덱스에는 cosine 함수 적용\n",
        "        cosines = tf.math.cos(angle_rads[:, 1::2])\n",
        "\n",
        "        pos_encoding = tf.concat([sines, cosines], axis=-1)\n",
        "        pos_encoding = pos_encoding[tf.newaxis, ...]\n",
        "        return tf.cast(pos_encoding, tf.float32)\n",
        "\n",
        "    def call(self, inputs):\n",
        "        return inputs + self.pos_encoding[:, :tf.shape(inputs)[1], :]"
      ],
      "metadata": {
        "id": "_PLqKLlCeQSL"
      },
      "execution_count": null,
      "outputs": []
    },
    {
      "cell_type": "markdown",
      "source": [
        "### Scaled-dot-product-attention\n",
        "\n",
        "\n",
        "1. 어떻게 단어들 간의 유사도를 구할 것인가?\n",
        "2. 쿼리(Query)'에 대해서 모든 '키(Key)’와의 유사도를 구한다.\n",
        "3. 그렇다면 유사도를 구한다는 의미는 쿼리, 키 행렬에 대해 내적을 계산하고, 이를 소프트맥스 함수를 통해 내적값에 대한 정규화 작업을 수행한다.이후 스코어 행렬(attention_weights)에 value 행렬(Value)를 곱해 최종적인 attention value를 구한다.\n",
        "3. 여기서는 바로 attention value를 구하는 과정까지를 scaled_dot_product_attention 함수에 구현\n",
        "\n"
      ],
      "metadata": {
        "id": "OJNQRuUVFBTb"
      }
    },
    {
      "cell_type": "code",
      "source": [
        "# 스케일드 닷 프로덕트 어텐션 함수\n",
        "def scaled_dot_product_attention(query, key, value, mask):\n",
        "  # 어텐션 가중치는 Q와 K의 닷 프로덕트\n",
        "  matmul_qk = tf.matmul(query, key, transpose_b=True)\n",
        "\n",
        "  # 가중치를 정규화\n",
        "  depth = tf.cast(tf.shape(key)[-1], tf.float32)\n",
        "  logits = matmul_qk / tf.math.sqrt(depth)\n",
        "\n",
        "  # 패딩에 마스크 추가\n",
        "  if mask is not None:\n",
        "    logits += (mask * -1e9)\n",
        "\n",
        "  # softmax적용\n",
        "  attention_weights = tf.nn.softmax(logits, axis=-1)\n",
        "\n",
        "  # 최종 어텐션은 가중치와 V의 닷 프로덕트\n",
        "  output = tf.matmul(attention_weights, value)\n",
        "  return output"
      ],
      "metadata": {
        "id": "Iv_wGkmMeZuF"
      },
      "execution_count": null,
      "outputs": []
    },
    {
      "cell_type": "markdown",
      "source": [
        "### MultiheadAttention\n",
        "\n",
        "1. Attention 결과의 정확도를 높이기 위해  어떠한 방법을 도입할 수 있는가?\n",
        "\n",
        "2. n개의 어텐션 행렬을 구한 다음 그 결과(attention head)를 concatenate해서 새로운 가중치 행렬을 곱해서 multi-head-attentiond을 구현해보자!"
      ],
      "metadata": {
        "id": "hQUjZY67G4ik"
      }
    },
    {
      "cell_type": "code",
      "source": [
        "class MultiHeadAttention(tf.keras.layers.Layer):\n",
        "\n",
        "  def __init__(self, d_model, num_heads, name=\"multi_head_attention\"):\n",
        "    super(MultiHeadAttention, self).__init__(name=name)\n",
        "    self.num_heads = num_heads\n",
        "    self.d_model = d_model\n",
        "\n",
        "    assert d_model % self.num_heads == 0\n",
        "\n",
        "    self.depth = d_model // self.num_heads\n",
        "\n",
        "    self.query_dense = tf.keras.layers.Dense(units=d_model)\n",
        "    self.key_dense = tf.keras.layers.Dense(units=d_model)\n",
        "    self.value_dense = tf.keras.layers.Dense(units=d_model)\n",
        "\n",
        "    self.dense = tf.keras.layers.Dense(units=d_model)\n",
        "\n",
        "  def split_heads(self, inputs, batch_size):\n",
        "    inputs = tf.reshape(\n",
        "        inputs, shape=(batch_size, -1, self.num_heads, self.depth))\n",
        "    return tf.transpose(inputs, perm=[0, 2, 1, 3])\n",
        "\n",
        "  def call(self, inputs):\n",
        "    query, key, value, mask = inputs['query'], inputs['key'], inputs[\n",
        "        'value'], inputs['mask']\n",
        "    batch_size = tf.shape(query)[0]\n",
        "\n",
        "    # Q, K, V에 각각 Dense를 적용합니다\n",
        "    query = self.query_dense(query)\n",
        "    key = self.key_dense(key)\n",
        "    value = self.value_dense(value)\n",
        "\n",
        "    # 병렬 연산을 위한 머리를 여러 개 만듭니다\n",
        "    query = self.split_heads(query, batch_size)\n",
        "    key = self.split_heads(key, batch_size)\n",
        "    value = self.split_heads(value, batch_size)\n",
        "\n",
        "    # 스케일드 닷 프로덕트 어텐션 함수\n",
        "    scaled_attention = scaled_dot_product_attention(query, key, value, mask)\n",
        "\n",
        "    scaled_attention = tf.transpose(scaled_attention, perm=[0, 2, 1, 3])\n",
        "\n",
        "    # 어텐션 연산 후에 각 결과를 다시 연결(concatenate)합니다\n",
        "    concat_attention = tf.reshape(scaled_attention,\n",
        "                                  (batch_size, -1, self.d_model))\n",
        "\n",
        "    # 최종 결과에도 Dense를 한 번 더 적용합니다\n",
        "    outputs = self.dense(concat_attention)\n",
        "\n",
        "    return outputs"
      ],
      "metadata": {
        "id": "PPdvwmGaecMo"
      },
      "execution_count": null,
      "outputs": []
    },
    {
      "cell_type": "markdown",
      "source": [
        "### Padding_mask, look_ahead_mask\n",
        "\n",
        "1. pad_sequences를 통해 만들었던던 0들이 있었다. padding mask를 통해 숫자 0인 위치를 체크해주어야 한다! \n",
        "\n",
        "2. Look-ahead-mask에서는 그럼 무엇을 하는가? RNN은 step이라는 개념이 존재해서 각 step마다 단어가 순서대로 입력으로 들어가는 구조인 반면 트랜스포머의 경우에는 문장 행렬을 만들어 한 번에 행렬 형태로 입력으로 들어간다는 특징이 있다. 이때 우리가 원하는 것은 위치와 상관없이 모든 단어를 참고해서 다음 단어를 예측하는 것이 아니라, 이전 단어들로부터 다음 단어를 예측하는 훈련을 하는 것이다. 따라서 자신보다 다음에 나올 단어를 참고하지 않도록 가리는 기법이 필요하고, 이것이 룩 어헤드 마스킹 기법이다."
      ],
      "metadata": {
        "id": "NAkqB8qlG7R9"
      }
    },
    {
      "cell_type": "code",
      "source": [
        "def create_padding_mask(x):\n",
        "  mask = tf.cast(tf.math.equal(x, 0), tf.float32)\n",
        "  # (batch_size, 1, 1, sequence length)\n",
        "  return mask[:, tf.newaxis, tf.newaxis, :]"
      ],
      "metadata": {
        "id": "QmVVvdtGed97"
      },
      "execution_count": null,
      "outputs": []
    },
    {
      "cell_type": "code",
      "source": [
        "def create_look_ahead_mask(x):\n",
        "  seq_len = tf.shape(x)[1]\n",
        "  look_ahead_mask = 1 - tf.linalg.band_part(tf.ones((seq_len, seq_len)), -1, 0)\n",
        "  padding_mask = create_padding_mask(x)\n",
        "  return tf.maximum(look_ahead_mask, padding_mask)"
      ],
      "metadata": {
        "id": "Y0tMiLJ7egJx"
      },
      "execution_count": null,
      "outputs": []
    },
    {
      "cell_type": "markdown",
      "source": [
        "### Encoder\n",
        "\n",
        "1. 임베딩 층(Embedding layer) 과 포지셔널 인코딩(Positional Encoding) 을 연결\n",
        "\n",
        "2. Dropout과 Layer Normalization을 사용\n",
        "\n",
        "3. num_layers 개수의 인코더 층을 쌓아줌"
      ],
      "metadata": {
        "id": "hi5rse-uHAWB"
      }
    },
    {
      "cell_type": "code",
      "source": [
        "def encoder_layer(units, d_model, num_heads, dropout, name=\"encoder_layer\"):\n",
        "    inputs = tf.keras.Input(shape=(None, d_model), name=\"inputs\")\n",
        "\n",
        "    # 패딩 마스크 사용\n",
        "    padding_mask = tf.keras.Input(shape=(1, 1, None), name=\"padding_mask\")\n",
        "\n",
        "    # 첫번째 서브 레이어 : 멀티 헤드 어텐션 수행 (셀프 어텐션)\n",
        "    attention = MultiHeadAttention(\n",
        "          d_model, num_heads, name=\"attention\")({\n",
        "              'query': inputs,\n",
        "              'key': inputs,\n",
        "              'value': inputs,\n",
        "              'mask': padding_mask\n",
        "          })\n",
        "\n",
        "    # 어텐션의 결과는 Dropout과 Layer Normalization이라는 훈련을 돕는 테크닉을 수행\n",
        "    attention = tf.keras.layers.Dropout(rate=dropout)(attention)\n",
        "    attention = tf.keras.layers.LayerNormalization(\n",
        "          epsilon=1e-6)(inputs + attention)\n",
        "\n",
        "    # 두번째 서브 레이어 : 2개의 완전연결층\n",
        "    outputs = tf.keras.layers.Dense(units=units, activation='relu')(attention)\n",
        "    outputs = tf.keras.layers.Dense(units=d_model)(outputs)\n",
        "\n",
        "    # 완전연결층의 결과는 Dropout과 LayerNormalization이라는 훈련을 돕는 테크닉을 수행\n",
        "    outputs = tf.keras.layers.Dropout(rate=dropout)(outputs)\n",
        "    outputs = tf.keras.layers.LayerNormalization(\n",
        "          epsilon=1e-6)(attention + outputs)\n",
        "\n",
        "    return tf.keras.Model(\n",
        "          inputs=[inputs, padding_mask], outputs=outputs, name=name)"
      ],
      "metadata": {
        "id": "wj_ssXbWeh78"
      },
      "execution_count": null,
      "outputs": []
    },
    {
      "cell_type": "code",
      "source": [
        "def encoder(vocab_size,\n",
        "            num_layers,\n",
        "            units,\n",
        "            d_model,\n",
        "            num_heads,\n",
        "            dropout,\n",
        "            name=\"encoder\"):\n",
        "  inputs = tf.keras.Input(shape=(None,), name=\"inputs\")\n",
        "\n",
        "\t# 패딩 마스크 사용\n",
        "  padding_mask = tf.keras.Input(shape=(1, 1, None), name=\"padding_mask\")\n",
        "\n",
        "  # 임베딩 레이어\n",
        "  embeddings = tf.keras.layers.Embedding(vocab_size, d_model)(inputs)\n",
        "  embeddings *= tf.math.sqrt(tf.cast(d_model, tf.float32))\n",
        "\n",
        "  # 포지셔널 인코딩\n",
        "  embeddings = PositionalEncoding(vocab_size, d_model)(embeddings)\n",
        "\n",
        "  outputs = tf.keras.layers.Dropout(rate=dropout)(embeddings)\n",
        "\n",
        "  # num_layers만큼 쌓아올린 인코더의 층.\n",
        "  for i in range(num_layers):\n",
        "    outputs = encoder_layer(\n",
        "        units=units,\n",
        "        d_model=d_model,\n",
        "        num_heads=num_heads,\n",
        "        dropout=dropout,\n",
        "        name=\"encoder_layer_{}\".format(i),\n",
        "    )([outputs, padding_mask])\n",
        "\n",
        "  return tf.keras.Model(\n",
        "      inputs=[inputs, padding_mask], outputs=outputs, name=name)"
      ],
      "metadata": {
        "id": "F2wbVGKTelaX"
      },
      "execution_count": null,
      "outputs": []
    },
    {
      "cell_type": "markdown",
      "source": [
        "### Decoder\n",
        "\n",
        "1. 셀프 어텐션, 인코더-디코더 어텐션 두 개의 어텐션 모두 스케일드 닷 프로덕트 어텐션을 멀티 헤드 어텐션으로 병렬적으로 수행\n",
        "\n",
        "2. 인코더와 마찬가지로 임베딩 층(Embedding layer) 과 포지셔널 인코딩(Positional Encoding) 을 연결,  Dropout과 LayerNormalization 사용, num_layers 개수의 디코더 층을 쌓음, \n",
        "\n",
        "3. 크게 마스크드 멀티헤드어텐션, 멀티헤드어텐션, 피드포워드로 구성"
      ],
      "metadata": {
        "id": "XATytg-VHCmw"
      }
    },
    {
      "cell_type": "code",
      "source": [
        "def decoder_layer(units, d_model, num_heads, dropout, name=\"decoder_layer\"):\n",
        "    inputs = tf.keras.Input(shape=(None, d_model), name=\"inputs\")\n",
        "    enc_outputs = tf.keras.Input(shape=(None, d_model), name=\"encoder_outputs\")\n",
        "    look_ahead_mask = tf.keras.Input(\n",
        "          shape=(1, None, None), name=\"look_ahead_mask\")\n",
        "    padding_mask = tf.keras.Input(shape=(1, 1, None), name='padding_mask')\n",
        "\n",
        "    # 첫번째 서브 레이어 : 멀티 헤드 어텐션 수행 (셀프 어텐션)\n",
        "    attention1 = MultiHeadAttention(\n",
        "          d_model, num_heads, name=\"attention_1\")(inputs={\n",
        "              'query': inputs,\n",
        "              'key': inputs,\n",
        "              'value': inputs,\n",
        "              'mask': look_ahead_mask\n",
        "          })\n",
        "\n",
        "    # 멀티 헤드 어텐션의 결과는 LayerNormalization이라는 훈련을 돕는 테크닉을 수행\n",
        "    attention1 = tf.keras.layers.LayerNormalization(\n",
        "          epsilon=1e-6)(attention1 + inputs)\n",
        "\n",
        "    # 두번째 서브 레이어 : 마스크드 멀티 헤드 어텐션 수행 (인코더-디코더 어텐션)\n",
        "    attention2 = MultiHeadAttention(\n",
        "          d_model, num_heads, name=\"attention_2\")(inputs={\n",
        "              'query': attention1,\n",
        "              'key': enc_outputs,\n",
        "              'value': enc_outputs,\n",
        "              'mask': padding_mask\n",
        "          })\n",
        "\n",
        "    # 마스크드 멀티 헤드 어텐션의 결과는\n",
        "    # Dropout과 LayerNormalization이라는 훈련을 돕는 테크닉을 수행\n",
        "    attention2 = tf.keras.layers.Dropout(rate=dropout)(attention2)\n",
        "    attention2 = tf.keras.layers.LayerNormalization(\n",
        "          epsilon=1e-6)(attention2 + attention1)\n",
        "\n",
        "    # 세번째 서브 레이어 : 2개의 완전연결층\n",
        "    outputs = tf.keras.layers.Dense(units=units, activation='relu')(attention2)\n",
        "    outputs = tf.keras.layers.Dense(units=d_model)(outputs)\n",
        "\n",
        "    # 완전연결층의 결과는 Dropout과 LayerNormalization 수행\n",
        "    outputs = tf.keras.layers.Dropout(rate=dropout)(outputs)\n",
        "    outputs = tf.keras.layers.LayerNormalization(\n",
        "          epsilon=1e-6)(outputs + attention2)\n",
        "\n",
        "    return tf.keras.Model(\n",
        "          inputs=[inputs, enc_outputs, look_ahead_mask, padding_mask],\n",
        "          outputs=outputs,\n",
        "          name=name)"
      ],
      "metadata": {
        "id": "QIm7_PNFenU9"
      },
      "execution_count": null,
      "outputs": []
    },
    {
      "cell_type": "code",
      "source": [
        "def decoder(vocab_size,\n",
        "            num_layers,\n",
        "            units,\n",
        "            d_model,\n",
        "            num_heads,\n",
        "            dropout,\n",
        "            name='decoder'):\n",
        "    inputs = tf.keras.Input(shape=(None,), name='inputs')\n",
        "    enc_outputs = tf.keras.Input(shape=(None, d_model), name='encoder_outputs')\n",
        "    look_ahead_mask = tf.keras.Input(\n",
        "      shape=(1, None, None), name='look_ahead_mask')\n",
        "\n",
        "    # 패딩 마스크\n",
        "    padding_mask = tf.keras.Input(shape=(1, 1, None), name='padding_mask')\n",
        "\n",
        "    # 임베딩 레이어\n",
        "    embeddings = tf.keras.layers.Embedding(vocab_size, d_model)(inputs)\n",
        "    embeddings *= tf.math.sqrt(tf.cast(d_model, tf.float32))\n",
        "\n",
        "    # 포지셔널 인코딩\n",
        "    embeddings = PositionalEncoding(vocab_size, d_model)(embeddings)\n",
        "\n",
        "    # Dropout이라는 훈련을 돕는 테크닉을 수행\n",
        "    outputs = tf.keras.layers.Dropout(rate=dropout)(embeddings)\n",
        "\n",
        "    for i in range(num_layers):\n",
        "        outputs = decoder_layer(\n",
        "            units=units,\n",
        "            d_model=d_model,\n",
        "            num_heads=num_heads,\n",
        "            dropout=dropout,\n",
        "            name='decoder_layer_{}'.format(i),\n",
        "        )(inputs=[outputs, enc_outputs, look_ahead_mask, padding_mask])\n",
        "\n",
        "    return tf.keras.Model(\n",
        "      inputs=[inputs, enc_outputs, look_ahead_mask, padding_mask],\n",
        "      outputs=outputs,\n",
        "      name=name)"
      ],
      "metadata": {
        "id": "Aeu-_Hbmeo7d"
      },
      "execution_count": null,
      "outputs": []
    },
    {
      "cell_type": "code",
      "source": [
        "BATCH_SIZE = 64\n",
        "BUFFER_SIZE = 20000\n",
        "\n",
        "# 디코더는 이전의 target을 다음의 input으로 사용합니다.\n",
        "# 이에 따라 outputs에서는 START_TOKEN을 제거하겠습니다.\n",
        "dataset = tf.data.Dataset.from_tensor_slices((\n",
        "    {\n",
        "        'inputs': questions,\n",
        "        'dec_inputs': answers[:, :-1]\n",
        "    },\n",
        "    {\n",
        "        'outputs': answers[:, 1:]\n",
        "    },\n",
        "))\n",
        "\n",
        "dataset = dataset.cache()\n",
        "dataset = dataset.shuffle(BUFFER_SIZE)\n",
        "dataset = dataset.batch(BATCH_SIZE)\n",
        "dataset = dataset.prefetch(tf.data.experimental.AUTOTUNE)"
      ],
      "metadata": {
        "id": "IS4Ja1eC_JK4"
      },
      "execution_count": null,
      "outputs": []
    },
    {
      "cell_type": "markdown",
      "source": [
        "### 최종적으로 transformer 구성"
      ],
      "metadata": {
        "id": "IO6MXXv5HFkk"
      }
    },
    {
      "cell_type": "code",
      "source": [
        "def transformer(vocab_size,\n",
        "                num_layers,\n",
        "                units,\n",
        "                d_model,\n",
        "                num_heads,\n",
        "                dropout,\n",
        "                name=\"transformer\"):\n",
        "  inputs = tf.keras.Input(shape=(None,), name=\"inputs\")\n",
        "  dec_inputs = tf.keras.Input(shape=(None,), name=\"dec_inputs\")\n",
        "\n",
        "  # 인코더에서 패딩을 위한 마스크\n",
        "  enc_padding_mask = tf.keras.layers.Lambda(\n",
        "      create_padding_mask, output_shape=(1, 1, None),\n",
        "      name='enc_padding_mask')(inputs)\n",
        "\n",
        "  # 디코더에서 미래의 토큰을 마스크 하기 위해서 사용합니다.\n",
        "  # 내부적으로 패딩 마스크도 포함되어져 있습니다.\n",
        "  look_ahead_mask = tf.keras.layers.Lambda(\n",
        "      create_look_ahead_mask,\n",
        "      output_shape=(1, None, None),\n",
        "      name='look_ahead_mask')(dec_inputs)\n",
        "\n",
        "  # 두 번째 어텐션 블록에서 인코더의 벡터들을 마스킹\n",
        "  # 디코더에서 패딩을 위한 마스크\n",
        "  dec_padding_mask = tf.keras.layers.Lambda(\n",
        "      create_padding_mask, output_shape=(1, 1, None),\n",
        "      name='dec_padding_mask')(inputs)\n",
        "\n",
        "  # 인코더\n",
        "  enc_outputs = encoder(\n",
        "      vocab_size=vocab_size,\n",
        "      num_layers=num_layers,\n",
        "      units=units,\n",
        "      d_model=d_model,\n",
        "      num_heads=num_heads,\n",
        "      dropout=dropout,\n",
        "  )(inputs=[inputs, enc_padding_mask])\n",
        "\n",
        "  # 디코더\n",
        "  dec_outputs = decoder(\n",
        "      vocab_size=vocab_size,\n",
        "      num_layers=num_layers,\n",
        "      units=units,\n",
        "      d_model=d_model,\n",
        "      num_heads=num_heads,\n",
        "      dropout=dropout,\n",
        "  )(inputs=[dec_inputs, enc_outputs, look_ahead_mask, dec_padding_mask])\n",
        "\n",
        "  # 완전연결층\n",
        "  outputs = tf.keras.layers.Dense(units=vocab_size, name=\"outputs\")(dec_outputs)\n",
        "\n",
        "  return tf.keras.Model(inputs=[inputs, dec_inputs], outputs=outputs, name=name)"
      ],
      "metadata": {
        "id": "r12vKv5KeqWt"
      },
      "execution_count": null,
      "outputs": []
    },
    {
      "cell_type": "code",
      "source": [
        "tf.keras.backend.clear_session()\n",
        "\n",
        "# 하이퍼파라미터\n",
        "NUM_LAYERS = 2 # 인코더와 디코더의 층의 개수\n",
        "D_MODEL = 256 # 인코더와 디코더 내부의 입, 출력의 고정 차원\n",
        "NUM_HEADS = 8 # 멀티 헤드 어텐션에서의 헤드 수 \n",
        "UNITS = 512 # 피드 포워드 신경망의 은닉층의 크기\n",
        "DROPOUT = 0.1 # 드롭아웃의 비율\n",
        "\n",
        "model = transformer(\n",
        "    vocab_size=VOCAB_SIZE,\n",
        "    num_layers=NUM_LAYERS,\n",
        "    units=UNITS,\n",
        "    d_model=D_MODEL,\n",
        "    num_heads=NUM_HEADS,\n",
        "    dropout=DROPOUT)\n",
        "\n",
        "model.summary()"
      ],
      "metadata": {
        "colab": {
          "base_uri": "https://localhost:8080/"
        },
        "id": "h0QEdsvAewRG",
        "outputId": "b25fc4ce-3109-4826-c7b3-6555da8ae887"
      },
      "execution_count": null,
      "outputs": [
        {
          "output_type": "stream",
          "name": "stdout",
          "text": [
            "Model: \"transformer\"\n",
            "__________________________________________________________________________________________________\n",
            " Layer (type)                   Output Shape         Param #     Connected to                     \n",
            "==================================================================================================\n",
            " inputs (InputLayer)            [(None, None)]       0           []                               \n",
            "                                                                                                  \n",
            " dec_inputs (InputLayer)        [(None, None)]       0           []                               \n",
            "                                                                                                  \n",
            " enc_padding_mask (Lambda)      (None, 1, 1, None)   0           ['inputs[0][0]']                 \n",
            "                                                                                                  \n",
            " encoder (Functional)           (None, None, 256)    3069952     ['inputs[0][0]',                 \n",
            "                                                                  'enc_padding_mask[0][0]']       \n",
            "                                                                                                  \n",
            " look_ahead_mask (Lambda)       (None, 1, None, Non  0           ['dec_inputs[0][0]']             \n",
            "                                e)                                                                \n",
            "                                                                                                  \n",
            " dec_padding_mask (Lambda)      (None, 1, 1, None)   0           ['inputs[0][0]']                 \n",
            "                                                                                                  \n",
            " decoder (Functional)           (None, None, 256)    3597312     ['dec_inputs[0][0]',             \n",
            "                                                                  'encoder[0][0]',                \n",
            "                                                                  'look_ahead_mask[0][0]',        \n",
            "                                                                  'dec_padding_mask[0][0]']       \n",
            "                                                                                                  \n",
            " outputs (Dense)                (None, None, 7874)   2023618     ['decoder[0][0]']                \n",
            "                                                                                                  \n",
            "==================================================================================================\n",
            "Total params: 8,690,882\n",
            "Trainable params: 8,690,882\n",
            "Non-trainable params: 0\n",
            "__________________________________________________________________________________________________\n"
          ]
        }
      ]
    },
    {
      "cell_type": "code",
      "source": [
        "tf.keras.utils.plot_model(model, 'model.png', show_shapes=True)"
      ],
      "metadata": {
        "colab": {
          "base_uri": "https://localhost:8080/",
          "height": 336
        },
        "id": "jm9Dt1MIubhw",
        "outputId": "c2f9964f-f467-4c43-b114-1e579a4782e2"
      },
      "execution_count": null,
      "outputs": [
        {
          "output_type": "execute_result",
          "data": {
            "text/plain": [
              "<IPython.core.display.Image object>"
            ],
            "image/png": "[encoded data removed]"
          },
          "metadata": {},
          "execution_count": 31
        }
      ]
    },
    {
      "cell_type": "code",
      "source": [
        "def loss_function(y_true, y_pred):\n",
        "  y_true = tf.reshape(y_true, shape=(-1, MAX_LENGTH - 1))\n",
        "  \n",
        "  loss = tf.keras.losses.SparseCategoricalCrossentropy(\n",
        "      from_logits=True, reduction='none')(y_true, y_pred)\n",
        "\n",
        "  mask = tf.cast(tf.not_equal(y_true, 0), tf.float32)\n",
        "  loss = tf.multiply(loss, mask)\n",
        "\n",
        "  return tf.reduce_mean(loss)"
      ],
      "metadata": {
        "id": "vLwKWdH_eyiu"
      },
      "execution_count": null,
      "outputs": []
    },
    {
      "cell_type": "code",
      "source": [
        "class CustomSchedule(tf.keras.optimizers.schedules.LearningRateSchedule):\n",
        "\n",
        "  def __init__(self, d_model, warmup_steps=4000):\n",
        "    super(CustomSchedule, self).__init__()\n",
        "\n",
        "    self.d_model = d_model\n",
        "    self.d_model = tf.cast(self.d_model, tf.float32)\n",
        "\n",
        "    self.warmup_steps = warmup_steps\n",
        "\n",
        "  def __call__(self, step):\n",
        "    arg1 = tf.math.rsqrt(step)\n",
        "    arg2 = step * (self.warmup_steps**-1.5)\n",
        "\n",
        "    return tf.math.rsqrt(self.d_model) * tf.math.minimum(arg1, arg2)"
      ],
      "metadata": {
        "id": "2smgHHR-ezx1"
      },
      "execution_count": null,
      "outputs": []
    },
    {
      "cell_type": "code",
      "source": [
        "learning_rate = CustomSchedule(D_MODEL)\n",
        "\n",
        "optimizer = tf.keras.optimizers.Adam(\n",
        "    learning_rate, beta_1=0.9, beta_2=0.98, epsilon=1e-9)\n",
        "\n",
        "def accuracy(y_true, y_pred):\n",
        "  y_true = tf.reshape(y_true, shape=(-1, MAX_LENGTH - 1))\n",
        "  return tf.keras.metrics.sparse_categorical_accuracy(y_true, y_pred)\n",
        "\n",
        "model.compile(optimizer=optimizer, loss=loss_function, metrics=[accuracy])"
      ],
      "metadata": {
        "id": "62Fq9x1Se2Fi"
      },
      "execution_count": null,
      "outputs": []
    },
    {
      "cell_type": "code",
      "source": [
        "EPOCHS = 20\n",
        "history = model.fit(dataset, epochs=EPOCHS, verbose=1)"
      ],
      "metadata": {
        "colab": {
          "base_uri": "https://localhost:8080/"
        },
        "id": "5hHIc_yKe7EA",
        "outputId": "09bf0f9f-e1b2-4cb4-84bc-28402b09ad8f"
      },
      "execution_count": null,
      "outputs": [
        {
          "output_type": "stream",
          "name": "stdout",
          "text": [
            "Epoch 1/20\n",
            "176/176 [==============================] - 20s 57ms/step - loss: 1.4646 - accuracy: 0.0234\n",
            "Epoch 2/20\n",
            "176/176 [==============================] - 10s 56ms/step - loss: 1.2033 - accuracy: 0.0491\n",
            "Epoch 3/20\n",
            "176/176 [==============================] - 10s 57ms/step - loss: 1.0213 - accuracy: 0.0503\n",
            "Epoch 4/20\n",
            "176/176 [==============================] - 10s 57ms/step - loss: 0.9417 - accuracy: 0.0536\n",
            "Epoch 5/20\n",
            "176/176 [==============================] - 10s 58ms/step - loss: 0.8842 - accuracy: 0.0569\n",
            "Epoch 6/20\n",
            "176/176 [==============================] - 10s 57ms/step - loss: 0.8261 - accuracy: 0.0607\n",
            "Epoch 7/20\n",
            "176/176 [==============================] - 11s 63ms/step - loss: 0.7631 - accuracy: 0.0662\n",
            "Epoch 8/20\n",
            "176/176 [==============================] - 11s 64ms/step - loss: 0.6931 - accuracy: 0.0738\n",
            "Epoch 9/20\n",
            "176/176 [==============================] - 11s 64ms/step - loss: 0.6175 - accuracy: 0.0821\n",
            "Epoch 10/20\n",
            "176/176 [==============================] - 10s 58ms/step - loss: 0.5390 - accuracy: 0.0907\n",
            "Epoch 11/20\n",
            "176/176 [==============================] - 10s 59ms/step - loss: 0.4595 - accuracy: 0.1004\n",
            "Epoch 12/20\n",
            "176/176 [==============================] - 10s 59ms/step - loss: 0.3803 - accuracy: 0.1108\n",
            "Epoch 13/20\n",
            "176/176 [==============================] - 10s 58ms/step - loss: 0.3050 - accuracy: 0.1214\n",
            "Epoch 14/20\n",
            "176/176 [==============================] - 10s 57ms/step - loss: 0.2365 - accuracy: 0.1320\n",
            "Epoch 15/20\n",
            "176/176 [==============================] - 10s 57ms/step - loss: 0.1769 - accuracy: 0.1419\n",
            "Epoch 16/20\n",
            "176/176 [==============================] - 10s 58ms/step - loss: 0.1301 - accuracy: 0.1499\n",
            "Epoch 17/20\n",
            "176/176 [==============================] - 10s 57ms/step - loss: 0.0934 - accuracy: 0.1571\n",
            "Epoch 18/20\n",
            "176/176 [==============================] - 10s 57ms/step - loss: 0.0702 - accuracy: 0.1612\n",
            "Epoch 19/20\n",
            "176/176 [==============================] - 10s 57ms/step - loss: 0.0553 - accuracy: 0.1636\n",
            "Epoch 20/20\n",
            "176/176 [==============================] - 10s 58ms/step - loss: 0.0464 - accuracy: 0.1652\n"
          ]
        }
      ]
    },
    {
      "cell_type": "code",
      "source": [
        "import matplotlib.pyplot as plt\n",
        "\n",
        "plt.plot(history.history['accuracy'])\n",
        "plt.title('Model accuracy')\n",
        "plt.ylabel('Accuracy')\n",
        "plt.xlabel('Epoch')\n",
        "plt.legend(['Train'], loc='upper left')\n",
        "plt.show()\n",
        "\n",
        "plt.plot(history.history['loss'])\n",
        "plt.title('Model loss')\n",
        "plt.ylabel('Loss')\n",
        "plt.xlabel('Epoch')\n",
        "plt.legend(['Train'], loc='upper left')\n",
        "plt.show()"
      ],
      "metadata": {
        "id": "2qxIqZUfe8HS",
        "colab": {
          "base_uri": "https://localhost:8080/",
          "height": 573
        },
        "outputId": "a85dcdd2-18ca-4d48-b8c2-86b42831b917"
      },
      "execution_count": null,
      "outputs": [
        {
          "output_type": "display_data",
          "data": {
            "text/plain": [
              "<Figure size 432x288 with 1 Axes>"
            ],
            "image/png": "[encoded data removed]"
          },
          "metadata": {
            "needs_background": "light"
          }
        },
        {
          "output_type": "display_data",
          "data": {
            "text/plain": [
              "<Figure size 432x288 with 1 Axes>"
            ],
            "image/png": "[encoded data removed]"
          },
          "metadata": {
            "needs_background": "light"
          }
        }
      ]
    },
    {
      "cell_type": "markdown",
      "source": [
        "### accuracy와 loss가 안정적으로 떨어지는 것을 확인!"
      ],
      "metadata": {
        "id": "djfjQ3JRHMic"
      }
    },
    {
      "cell_type": "markdown",
      "source": [
        "## 3. 결과 확인을 위한 inference model 구성"
      ],
      "metadata": {
        "id": "tJiYMd7tyJaa"
      }
    },
    {
      "cell_type": "code",
      "source": [
        "def decoder_inference(sentence):\n",
        "  sentence = preprocess_sentence(sentence)\n",
        "\n",
        "  # 입력된 문장을 정수 인코딩 후, 시작 토큰과 종료 토큰을 앞뒤로 추가.\n",
        "  # ex) Where have you been? → [[8331   86   30    5 1059    7 8332]]\n",
        "  sentence = tf.expand_dims(\n",
        "      START_TOKEN + tokenizer.encode(sentence) + END_TOKEN, axis=0)\n",
        "\n",
        "  # 디코더의 현재까지의 예측한 출력 시퀀스가 지속적으로 저장되는 변수.\n",
        "  # 처음에는 예측한 내용이 없음으로 시작 토큰만 별도 저장. ex) 8331\n",
        "  output_sequence = tf.expand_dims(START_TOKEN, 0)\n",
        "\n",
        "  # 디코더의 인퍼런스 단계\n",
        "  for i in range(MAX_LENGTH):\n",
        "    # 디코더는 최대 MAX_LENGTH의 길이만큼 다음 단어 예측을 반복합니다.\n",
        "    predictions = model(inputs=[sentence, output_sequence], training=False)\n",
        "    predictions = predictions[:, -1:, :]\n",
        "\n",
        "    # 현재 예측한 단어의 정수\n",
        "    predicted_id = tf.cast(tf.argmax(predictions, axis=-1), tf.int32)\n",
        "\n",
        "    # 만약 현재 예측한 단어가 종료 토큰이라면 for문을 종료\n",
        "    if tf.equal(predicted_id, END_TOKEN[0]):\n",
        "      break\n",
        "\n",
        "    # 예측한 단어들은 지속적으로 output_sequence에 추가됩니다.\n",
        "    # 이 output_sequence는 다시 디코더의 입력이 됩니다.\n",
        "    output_sequence = tf.concat([output_sequence, predicted_id], axis=-1)\n",
        "\n",
        "  return tf.squeeze(output_sequence, axis=0)"
      ],
      "metadata": {
        "id": "ZxEG3jU_fAGX"
      },
      "execution_count": null,
      "outputs": []
    },
    {
      "cell_type": "code",
      "source": [
        "def sentence_generation(sentence):\n",
        "  # 입력 문장에 대해서 디코더를 동작 시켜 예측된 정수 시퀀스를 리턴받습니다.\n",
        "  prediction = decoder_inference(sentence)\n",
        "\n",
        "  # 정수 시퀀스를 다시 텍스트 시퀀스로 변환합니다.\n",
        "  predicted_sentence = tokenizer.decode(\n",
        "      [i for i in prediction if i < tokenizer.vocab_size])\n",
        "  return predicted_sentence"
      ],
      "metadata": {
        "id": "_OfhlqfEfDaw"
      },
      "execution_count": null,
      "outputs": []
    },
    {
      "cell_type": "markdown",
      "source": [
        "## 결과확인"
      ],
      "metadata": {
        "id": "cl47WLhHxAAW"
      }
    },
    {
      "cell_type": "code",
      "source": [
        "for i in range(20):\n",
        "    print('질문 입력 : {}'.format(eval_input[i]))\n",
        "    print('예측 출력 : {}'.format(sentence_generation(eval_input[i])))\n",
        "    print('-'*30)"
      ],
      "metadata": {
        "id": "Waby66pafFtq",
        "colab": {
          "base_uri": "https://localhost:8080/"
        },
        "outputId": "3471344b-e7d6-4b42-cb6a-0d63270874b9"
      },
      "execution_count": null,
      "outputs": [
        {
          "output_type": "stream",
          "name": "stdout",
          "text": [
            "질문 입력 : 수건 썩었어\n",
            "예측 출력 : 식초 넣고 빨래해보세요.\n",
            "------------------------------\n",
            "질문 입력 : 내 마음을 좀 알아 달라고\n",
            "예측 출력 : 저처럼 연락 늦는 사람도 있어요.\n",
            "------------------------------\n",
            "질문 입력 : 꿈이 너무 무서웠어\n",
            "예측 출력 : 혼자가 아니에요.\n",
            "------------------------------\n",
            "질문 입력 : 저기\n",
            "예측 출력 : 자요.\n",
            "------------------------------\n",
            "질문 입력 : 너무 추워서 나가기 귀찮아\n",
            "예측 출력 : 오늘은 쉬었다가 가세요.\n",
            "------------------------------\n",
            "질문 입력 : 몸살 감기에 걸릴 거 같아\n",
            "예측 출력 : 이럴 때는 잘 쉬는 게 중요해요.\n",
            "------------------------------\n",
            "질문 입력 : 사랑에 빠진 거 같아\n",
            "예측 출력 : 행복해 보여요.\n",
            "------------------------------\n",
            "질문 입력 : 이별을 극복하면서 참 많이 힘들기도 했었네.\n",
            "예측 출력 : 그런 이별은 힘든 건 없어요.\n",
            "------------------------------\n",
            "질문 입력 : 전화하는 거 힘들다\n",
            "예측 출력 : 다른 연락을 많이 하거나 더 자주 만나세요.\n",
            "------------------------------\n",
            "질문 입력 : 사랑이 날 힘들게 해\n",
            "예측 출력 : 그 사람도 당신을 좋아하길 바랍니다.\n",
            "------------------------------\n",
            "질문 입력 : 몸에서 멀어지면 맘에서도 멀어진데\n",
            "예측 출력 : 보통 사랑은 그렇죠.\n",
            "------------------------------\n",
            "질문 입력 : 볼링 치고 놀았어\n",
            "예측 출력 : 잘 찾아보세요.\n",
            "------------------------------\n",
            "질문 입력 : 궁금해\n",
            "예측 출력 : 궁금할 수 있어요.\n",
            "------------------------------\n",
            "질문 입력 : 헤어진지 1개월뿐이안됐네.\n",
            "예측 출력 : 더 생각날 거예요.\n",
            "------------------------------\n",
            "질문 입력 : 전화하기 너무 늦나\n",
            "예측 출력 : 이제 올라갈 일만 남았네요.\n",
            "------------------------------\n",
            "질문 입력 : 헤어진지 12일째인데.\n",
            "예측 출력 : 얼마 되지 않았네요.\n",
            "------------------------------\n",
            "질문 입력 : 왼손잡이가 뭐 어때서\n",
            "예측 출력 : 절대 아니죠.\n",
            "------------------------------\n",
            "질문 입력 : 조교하면서 공부할까?\n",
            "예측 출력 : 노력하겠습니다.\n",
            "------------------------------\n",
            "질문 입력 : 결혼 가치관 때문에 헤어졌네.\n",
            "예측 출력 : 힘들었을 거라 생각해요.\n",
            "------------------------------\n",
            "질문 입력 : 어리석은 나\n",
            "예측 출력 : 가지 마세요.\n",
            "------------------------------\n"
          ]
        }
      ]
    },
    {
      "cell_type": "code",
      "source": [
        "def predict(sentence):\n",
        "  prediction = decoder_inference(sentence)\n",
        "\n",
        "  # prediction == 디코더가 리턴한 챗봇의 대답에 해당하는 정수 시퀀스\n",
        "  # tokenizer.decode()를 통해 정수 시퀀스를 문자열로 디코딩.\n",
        "  predicted_sentence = tokenizer.decode(\n",
        "      [i for i in prediction if i < tokenizer.vocab_size])\n",
        "\n",
        "  print('Input: {}'.format(sentence))\n",
        "  print('Output: {}'.format(predicted_sentence))\n",
        "\n",
        "  return predicted_sentence"
      ],
      "metadata": {
        "id": "QXIFoPVwfLp9"
      },
      "execution_count": null,
      "outputs": []
    },
    {
      "cell_type": "code",
      "source": [
        "output = predict(\"영화 볼래?\")"
      ],
      "metadata": {
        "id": "JgDBIOBcwpMx",
        "colab": {
          "base_uri": "https://localhost:8080/"
        },
        "outputId": "2fc47db9-7990-4815-eaf4-8464faf8d57e"
      },
      "execution_count": null,
      "outputs": [
        {
          "output_type": "stream",
          "name": "stdout",
          "text": [
            "Input: 영화 볼래?\n",
            "Output: 차분히 생각해봐요.\n"
          ]
        }
      ]
    },
    {
      "cell_type": "code",
      "source": [
        "output = predict(\"고민이 있어\")"
      ],
      "metadata": {
        "id": "4SNciEgfwqrv",
        "colab": {
          "base_uri": "https://localhost:8080/"
        },
        "outputId": "0028e875-5d8e-487b-f233-04cfdc1228d1"
      },
      "execution_count": null,
      "outputs": [
        {
          "output_type": "stream",
          "name": "stdout",
          "text": [
            "Input: 고민이 있어\n",
            "Output: 제가 들어드릴게요.\n"
          ]
        }
      ]
    },
    {
      "cell_type": "code",
      "source": [
        "output = predict(\"너무 화가나\")"
      ],
      "metadata": {
        "id": "A-OouEOJw2y7",
        "colab": {
          "base_uri": "https://localhost:8080/"
        },
        "outputId": "551c201c-51bb-4e82-f553-059bf986e2d6"
      },
      "execution_count": null,
      "outputs": [
        {
          "output_type": "stream",
          "name": "stdout",
          "text": [
            "Input: 너무 화가나\n",
            "Output: 제가 풀어드릴게요.\n"
          ]
        }
      ]
    },
    {
      "cell_type": "code",
      "source": [
        "output = predict(\"카페갈래?\")"
      ],
      "metadata": {
        "id": "39DDjwyHw4Qy",
        "colab": {
          "base_uri": "https://localhost:8080/"
        },
        "outputId": "918f2501-f944-4fc5-c096-dd3570b32e2a"
      },
      "execution_count": null,
      "outputs": [
        {
          "output_type": "stream",
          "name": "stdout",
          "text": [
            "Input: 카페갈래?\n",
            "Output: 카페 데이트 좋죠.\n"
          ]
        }
      ]
    },
    {
      "cell_type": "markdown",
      "source": [
        "## 회고\n",
        "\n",
        "\n",
        "1. 전체적으로 그럴듯한 문장을 생성하는 것을 확인 가능\n",
        "2. Chatbot에 대해서 명확한 평가지표를 찾을 수 없지만, 특정한 Task를 수행하는 chatbot이 아닌 일상적 대화를 이끌어나가는 수다용 챗봇의 경우 더 그럴 수 밖에없음.\n",
        "3. 수건이 썩었다는 질문에 식초 넣고 빨래를 해보라는 그럴듯한 해결책을 제시하는 부분은 흥미롭다.\n",
        "4. 하지만 왼손잡이가 뭐 어때서 라는 질문에 대해 절대 아니죠라는 대답은 어색, 혹은 조교하면서 공부할까?라는 질문에도 본인이 ‘노력하겠습니다’라는 답볍을 내놓은 것 역시 어색함.\n",
        "5. 마지막에 등장하는 ‘어리석은 나’에 대한 답변으로 ‘가지 마세요’라는 답변은 분명 어색하지만, 정작 누군가가 ‘어리석은 나’라고 카톡이 온다면… 무엇이라 답장할지 본인도 모르겠음.\n",
        "6. 전체적으로 Transformer의 개념을 이해하는데 많은 시간을 쏟은 노드였음."
      ],
      "metadata": {
        "id": "AGHJ0na1_9qA"
      }
    }
  ]
}