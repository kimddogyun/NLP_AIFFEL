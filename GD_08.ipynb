{
  "nbformat": 4,
  "nbformat_minor": 0,
  "metadata": {
    "colab": {
      "provenance": [],
      "collapsed_sections": []
    },
    "kernelspec": {
      "name": "python3",
      "display_name": "Python 3"
    },
    "language_info": {
      "name": "python"
    },
    "accelerator": "GPU",
    "gpuClass": "standard"
  },
  "cells": [
    {
      "cell_type": "markdown",
      "source": [
        "## SEQ2SEQ"
      ],
      "metadata": {
        "id": "gk0ZQ4GaBIYg"
      }
    },
    {
      "cell_type": "code",
      "execution_count": null,
      "metadata": {
        "colab": {
          "base_uri": "https://localhost:8080/"
        },
        "id": "06HghCTWVJtw",
        "outputId": "40620d9e-cddc-4e79-e931-044b79ff0228"
      },
      "outputs": [
        {
          "output_type": "stream",
          "name": "stdout",
          "text": [
            "2.8.2\n"
          ]
        }
      ],
      "source": [
        "import tensorflow as tf\n",
        "import numpy as np\n",
        "\n",
        "from sklearn.model_selection import train_test_split\n",
        "\n",
        "import matplotlib.ticker as ticker\n",
        "import matplotlib.pyplot as plt\n",
        "\n",
        "import time\n",
        "import re\n",
        "import os\n",
        "import io\n",
        "import random\n",
        "\n",
        "print(tf.__version__)"
      ]
    },
    {
      "cell_type": "code",
      "source": [
        "from google.colab import drive\n",
        "drive.mount('/content/drive')"
      ],
      "metadata": {
        "colab": {
          "base_uri": "https://localhost:8080/"
        },
        "id": "cKVXkVm4VOWH",
        "outputId": "7904e978-b04e-4cd4-8e0a-354bf083681f"
      },
      "execution_count": null,
      "outputs": [
        {
          "output_type": "stream",
          "name": "stdout",
          "text": [
            "Mounted at /content/drive\n"
          ]
        }
      ]
    },
    {
      "cell_type": "code",
      "source": [
        "file_path = '/content/drive/MyDrive/gd8/korean-english-news-v1'"
      ],
      "metadata": {
        "id": "PxwgdE4qVO0J"
      },
      "execution_count": null,
      "outputs": []
    },
    {
      "cell_type": "code",
      "source": [
        "def load_file(file_name):\n",
        "    with open(file_path+'/{}'.format(file_name), \"r\") as f:\n",
        "        raw = f.read().splitlines()\n",
        "\n",
        "    print(\"Data Size:\", len(raw))\n",
        "    print(\"Example:\")\n",
        "\n",
        "    for sen in raw[0:100][::20]: \n",
        "        print(\">>\", sen)\n",
        "    \n",
        "    return raw"
      ],
      "metadata": {
        "id": "EAG0KnyrVYXx"
      },
      "execution_count": null,
      "outputs": []
    },
    {
      "cell_type": "markdown",
      "source": [
        "## Encoder 한국어 데이터 "
      ],
      "metadata": {
        "id": "5-NwABuCBLYj"
      }
    },
    {
      "cell_type": "code",
      "source": [
        "raw_kor = load_file('korean-english-park.train.ko')\n",
        "raw_kor += load_file('korean-english-park.dev.ko')\n",
        "raw_kor += load_file('korean-english-park.test.ko')\n",
        "print('total data size:', len(raw_kor))"
      ],
      "metadata": {
        "colab": {
          "base_uri": "https://localhost:8080/"
        },
        "id": "NKLOx-N4Z2jH",
        "outputId": "34aab24e-ae9f-4a3e-e6dc-57dfb231b3d5"
      },
      "execution_count": null,
      "outputs": [
        {
          "output_type": "stream",
          "name": "stdout",
          "text": [
            "Data Size: 94123\n",
            "Example:\n",
            ">> 개인용 컴퓨터 사용의 상당 부분은 \"이것보다 뛰어날 수 있느냐?\"\n",
            ">> 북한의 핵무기 계획을 포기하도록 하려는 압력이 거세지고 있는 가운데, 일본과 북한의 외교관들이 외교 관계를 정상화하려는 회담을 재개했다.\n",
            ">> \"경호 로보트가 침입자나 화재를 탐지하기 위해서 개인적으로, 그리고 전문적으로 사용되고 있습니다.\"\n",
            ">> 수자원부 당국은 논란이 되고 있고, 막대한 비용이 드는 이 사업에 대해 내년에 건설을 시작할 계획이다.\n",
            ">> 또한 근력 운동은 활발하게 걷는 것이나 최소한 20분 동안 뛰는 것과 같은 유산소 활동에서 얻는 운동 효과를 심장과 폐에 주지 않기 때문에, 연구학자들은 근력 운동이 심장에 큰 영향을 미치는지 여부에 대해 논쟁을 해왔다.\n",
            "Data Size: 1000\n",
            "Example:\n",
            ">> 세계 에서 가장 강력한 수퍼컴퓨터를 1년 동안이나 독점해 오던 정부의 연구학자들이 이 1억1천만 달러 짜리 경이로운 설비를 공개하며, 이것이 핵전쟁으로부터 세계를 구하는데 도움이 될지도 모른다고 말했다.\n",
            ">> 무기 사찰관들의 복귀에 대하여 이라크 측의 한 관리가 \"유익하고 효과적인\" 논의였다고 말한 회합에서 유엔 무기 사찰단장이 이라크 대표단을 만났다.\n",
            ">> 하드웨어를 구입하는 비용의 문제가 커다란 장애입니다.\n",
            ">> 토의에 참가한 대부분의 사람들은 정부가 통신 내용을 도청할 수 있는 권리를 보유해야 할 필요성이 있는 합법적인 부분도 있다는 데에 동의를 한다.\n",
            ">> 그는 눈에 띄지 않게 행동하는 것으로 알려져있다. 그는 영국 시사잡지 타임즈에서 “파티에 잘 참석하지 않는다”며 자신의 생활에 대한 날조된 이야기를 즐기고 있다.\n",
            "Data Size: 2000\n",
            "Example:\n",
            ">> 토론에 참여한 사람들은 법 집행과 국가 안전보장에 대한 우려를 표명해야 할 필요성을 진지하게 받아 들이고 있습니다.\n",
            ">> 비록 그 위협(의 가능성)은 적지만, 그 잠재적인 영향력은 가히 파괴적인 것이다.\n",
            ">> 한국은 세계 에서 네번째로 원유를 많이 수입하는 나라이며, 전적으로 원유 수입에 의존하고 있다.\n",
            ">> 불과 1,379년 전이다.\n",
            ">> 대신, 그들은 \"안정\"이라는 면에서 서방 세계와 똑같은 이해 관계를 갖고 있는 각 지역의 소수 엘리트를 대표하고 있다.\n",
            "total data size: 97123\n"
          ]
        }
      ]
    },
    {
      "cell_type": "markdown",
      "source": [
        "## Decoder 영어 데이터"
      ],
      "metadata": {
        "id": "lN4nEkMZBPcu"
      }
    },
    {
      "cell_type": "code",
      "source": [
        "raw_en = load_file('korean-english-park.train.en')\n",
        "raw_en += load_file('korean-english-park.dev.en')\n",
        "raw_en += load_file('korean-english-park.test.en')\n",
        "print('total data size:', len(raw_en))"
      ],
      "metadata": {
        "colab": {
          "base_uri": "https://localhost:8080/"
        },
        "id": "sRWJQcFbVZn6",
        "outputId": "e59abfd4-16ac-4125-f7d2-0175a98c67b3"
      },
      "execution_count": null,
      "outputs": [
        {
          "output_type": "stream",
          "name": "stdout",
          "text": [
            "Data Size: 94123\n",
            "Example:\n",
            ">> Much of personal computing is about \"can you top this?\"\n",
            ">> Amid mounting pressure on North Korea to abandon its nuclear weapons program Japanese and North Korean diplomats have resumed talks on normalizing diplomatic relations.\n",
            ">> “Guard robots are used privately and professionally to detect intruders or fire,” Karlsson said.\n",
            ">> Authorities from the Water Resources Ministry plan to begin construction next year on the controversial and hugely expensive project.\n",
            ">> Researchers also have debated whether weight-training has a big impact on the heart, since it does not give the heart and lungs the kind of workout they get from aerobic activities such as brisk walking or running for at least 20 minutes.\n",
            "Data Size: 1000\n",
            "Example:\n",
            ">> After keeping the world's most powerful supercomputer to themselves for a year, government researchers showed off the $110 million wonder and said it might help save the world from nuclear war.\n",
            ">> The head of the U.N. weapons inspection team met with an Iraqi delegation in what a Baghdad official called \"useful and fruitful\" discussions on the return of weapons inspectors.\n",
            ">> \"The issue of it just being a hardware expense is a serious impediment.\n",
            ">> Most of the people involved in the discussion agree that there is a legitimate area in which the government needs to retain the right to intercept communications.\n",
            ">> He's been known to keep a low profile \"You will never see me at a party,\" he told the Times of London and delights in concocting stories about his life.\n",
            "Data Size: 2000\n",
            "Example:\n",
            ">> Those involved in the discussions do take seriously the need to address concerns of law enforcement and national security.\n",
            ">> Even though the threat is small, the potential effects are devastating.\n",
            ">> South Korea is the world's fourth largest oil importer and wholly depends on imports of crude.\n",
            ">> That is only 1,379 years ago.\n",
            ">> Instead, they represent a small elite in each place that has a common interest with the West in “stability.”\n",
            "total data size: 97123\n"
          ]
        }
      ]
    },
    {
      "cell_type": "code",
      "source": [
        "raw = zip(raw_kor, raw_en)"
      ],
      "metadata": {
        "id": "Xw-4ZbT-Z0NQ"
      },
      "execution_count": null,
      "outputs": []
    },
    {
      "cell_type": "code",
      "source": [
        "set_raw = set(raw)"
      ],
      "metadata": {
        "id": "LyP2cUeobrQh"
      },
      "execution_count": null,
      "outputs": []
    },
    {
      "cell_type": "code",
      "source": [
        "len(set_raw)"
      ],
      "metadata": {
        "colab": {
          "base_uri": "https://localhost:8080/"
        },
        "id": "53Pl3rIGbwOn",
        "outputId": "72ce8ab1-f66c-443d-d2e3-200f98c32354"
      },
      "execution_count": null,
      "outputs": [
        {
          "output_type": "execute_result",
          "data": {
            "text/plain": [
              "81959"
            ]
          },
          "metadata": {},
          "execution_count": 9
        }
      ]
    },
    {
      "cell_type": "code",
      "source": [
        "cleaned_corpus_kor, cleaned_corpus_eng =zip(*set_raw)"
      ],
      "metadata": {
        "id": "MyXCiaUvbwxK"
      },
      "execution_count": null,
      "outputs": []
    },
    {
      "cell_type": "code",
      "source": [
        "print('korean data size:', len(cleaned_corpus_kor))\n",
        "print('english data size:', len(cleaned_corpus_eng))"
      ],
      "metadata": {
        "colab": {
          "base_uri": "https://localhost:8080/"
        },
        "id": "G3Ul3VuYb0iz",
        "outputId": "53f0146c-0df8-4ed7-9c54-576ca005cde1"
      },
      "execution_count": null,
      "outputs": [
        {
          "output_type": "stream",
          "name": "stdout",
          "text": [
            "korean data size: 81959\n",
            "english data size: 81959\n"
          ]
        }
      ]
    },
    {
      "cell_type": "markdown",
      "source": [
        "# Preprocessing"
      ],
      "metadata": {
        "id": "m1BfvRMVBU5T"
      }
    },
    {
      "cell_type": "code",
      "source": [
        "def preprocess_sentence(sentence, s_token=False, e_token=False):\n",
        "    sentence = sentence.lower().strip()\n",
        "\n",
        "    sentence = re.sub(r\"([?.!,])\", r\" \\1 \", sentence)\n",
        "    sentence = re.sub(r'[\" \"]+', \" \", sentence)\n",
        "    sentence = re.sub(r\"[^a-zA-Z?.!가-힣ㄱ-ㅎㅏ-ㅣ]+\", \" \", sentence)\n",
        "\n",
        "    sentence = sentence.strip()\n",
        "\n",
        "    if s_token:\n",
        "        sentence = '<start> ' + sentence\n",
        "\n",
        "    if e_token:\n",
        "        sentence += ' <end>'\n",
        "    \n",
        "    return sentence"
      ],
      "metadata": {
        "id": "Kc-XvEsSb2sC"
      },
      "execution_count": null,
      "outputs": []
    },
    {
      "cell_type": "code",
      "source": [
        "enc_corpus = []\n",
        "dec_corpus = []\n",
        "\n",
        "# num_examples = 30000\n",
        "cnt=0\n",
        "\n",
        "for kor, eng in zip(cleaned_corpus_kor, cleaned_corpus_eng):\n",
        "    temp_kor = preprocess_sentence(kor)\n",
        "    temp_eng = preprocess_sentence(eng, s_token=True, e_token=True)\n",
        "\n",
        "    if len(temp_kor) <= 40:\n",
        "        enc_corpus.append(temp_kor)\n",
        "        dec_corpus.append(temp_eng)\n",
        "    \n",
        "print('korean data size:', len(enc_corpus))\n",
        "print('english data size:', len(dec_corpus))\n",
        "print(\"Korean:\", enc_corpus[100])   \n",
        "print(\"English:\", dec_corpus[100])  "
      ],
      "metadata": {
        "colab": {
          "base_uri": "https://localhost:8080/"
        },
        "id": "ebD9WuPab4dp",
        "outputId": "94a283b2-90b2-4f6b-f078-e5d5055eb430"
      },
      "execution_count": null,
      "outputs": [
        {
          "output_type": "stream",
          "name": "stdout",
          "text": [
            "korean data size: 17055\n",
            "english data size: 17055\n",
            "Korean: 그들은 시애틀 내시빌 그리고 샌디에이고에서 공연을 합니다 .\n",
            "English: <start> they ll play in seattle nashville and san diego . <end>\n"
          ]
        }
      ]
    },
    {
      "cell_type": "code",
      "source": [
        "#Mecab 설치\n",
        "%%capture\n",
        "!curl -s https://raw.githubusercontent.com/teddylee777/machine-learning/master/99-Misc/01-Colab/mecab-colab.sh | bash"
      ],
      "metadata": {
        "id": "CZ-4A9yVb7vS"
      },
      "execution_count": null,
      "outputs": []
    },
    {
      "cell_type": "code",
      "source": [
        "from konlpy.tag import Mecab"
      ],
      "metadata": {
        "id": "FskhxWVvcHuo",
        "colab": {
          "base_uri": "https://localhost:8080/",
          "height": 315
        },
        "outputId": "710260a7-2a73-47da-8110-9abdf406980a"
      },
      "execution_count": null,
      "outputs": [
        {
          "output_type": "error",
          "ename": "ModuleNotFoundError",
          "evalue": "ignored",
          "traceback": [
            "\u001b[0;31m---------------------------------------------------------------------------\u001b[0m",
            "\u001b[0;31mModuleNotFoundError\u001b[0m                       Traceback (most recent call last)",
            "\u001b[0;32m<ipython-input-1-c0ff29b7bc2d>\u001b[0m in \u001b[0;36m<module>\u001b[0;34m()\u001b[0m\n\u001b[0;32m----> 1\u001b[0;31m \u001b[0;32mfrom\u001b[0m \u001b[0mkonlpy\u001b[0m\u001b[0;34m.\u001b[0m\u001b[0mtag\u001b[0m \u001b[0;32mimport\u001b[0m \u001b[0mMecab\u001b[0m\u001b[0;34m\u001b[0m\u001b[0;34m\u001b[0m\u001b[0m\n\u001b[0m",
            "\u001b[0;31mModuleNotFoundError\u001b[0m: No module named 'konlpy'",
            "",
            "\u001b[0;31m---------------------------------------------------------------------------\u001b[0;32m\nNOTE: If your import is failing due to a missing package, you can\nmanually install dependencies using either !pip or !apt.\n\nTo view examples of installing some common dependencies, click the\n\"Open Examples\" button below.\n\u001b[0;31m---------------------------------------------------------------------------\u001b[0m\n"
          ],
          "errorDetails": {
            "actions": [
              {
                "action": "open_url",
                "actionText": "Open Examples",
                "url": "/notebooks/snippets/importing_libraries.ipynb"
              }
            ]
          }
        }
      ]
    },
    {
      "cell_type": "code",
      "source": [
        "from konlpy.tag import Mecab\n",
        "\n",
        "vocab_size = 50000\n",
        "def tokenize(corpus, kor=False, eng=True):\n",
        "    if kor:\n",
        "        mecab = Mecab()\n",
        "        morph = [\" \".join(mecab.morphs(sen)) for sen in corpus]\n",
        "        tokenizer = tf.keras.preprocessing.text.Tokenizer(filters='',\n",
        "                                                         num_words=vocab_size)\n",
        "        tokenizer.fit_on_texts(morph)\n",
        "\n",
        "        tensor = tokenizer.texts_to_sequences(morph)\n",
        "        tensor = tf.keras.preprocessing.sequence.pad_sequences(tensor, padding='post')\n",
        "\n",
        "        \n",
        "    if eng:\n",
        "        tokenizer = tf.keras.preprocessing.text.Tokenizer(filters='',\n",
        "                                                         num_words=vocab_size)\n",
        "        tokenizer.fit_on_texts(corpus)\n",
        "\n",
        "        tensor = tokenizer.texts_to_sequences(corpus)\n",
        "        tensor = tf.keras.preprocessing.sequence.pad_sequences(tensor, padding='post')\n",
        "\n",
        "    return tensor, tokenizer"
      ],
      "metadata": {
        "id": "m1XotGbockBq"
      },
      "execution_count": null,
      "outputs": []
    },
    {
      "cell_type": "code",
      "source": [
        "enc_tensor, enc_tokenizer = tokenize(enc_corpus, kor=True)\n",
        "dec_tensor, dec_tokenizer = tokenize(dec_corpus, eng=True)\n",
        "\n",
        "enc_train, enc_val, dec_train, dec_val = \\\n",
        "train_test_split(enc_tensor, dec_tensor, test_size=0.2)\n",
        "\n",
        "print(\"Korean Vocab Size:\", len(enc_tokenizer.index_word))\n",
        "print(\"English Vocab Size:\", len(dec_tokenizer.index_word))"
      ],
      "metadata": {
        "colab": {
          "base_uri": "https://localhost:8080/"
        },
        "id": "LADIAZDecmlJ",
        "outputId": "06700557-5af9-4d43-f9f5-0dc466257bed"
      },
      "execution_count": null,
      "outputs": [
        {
          "output_type": "stream",
          "name": "stdout",
          "text": [
            "Korean Vocab Size: 41796\n",
            "English Vocab Size: 17325\n"
          ]
        }
      ]
    },
    {
      "cell_type": "markdown",
      "source": [
        "## BahdanauAttention\n",
        "Seq2Seq 구조에서 Context vector가 인코더의 문장에 대한 정보를 충분히 담지 못한다!\n",
        "\n",
        "인코더의 역할은 소스 문장을 적절한 임베딩 벡터로 변환하는 것..! Encoder Rnn의 hidden state의 조합으로 $y_i$마다 다르게 조합해보자! Decoder RNN에서 $y_i$를 선택할 때 Encoder RNN의 $h_j$를  얼마만큼 이용할지를 $a_{ij}$로 정의, 이거를 attention weight이라 부르고, 얘도 neural network에 의해 학습된다!\n",
        "\n",
        "<hr>\n",
        "\n",
        "# Attention(Q, K, V) = Attention Value\n",
        "\n",
        "Q = Query :**t-1** 시점의 디코더 셀에서의 은닉 상태\n",
        "\n",
        "K = Keys : 모든 시점의 인코더 셀의 은닉 상태들\n",
        "\n",
        "V = Values : 모든 시점의 인코더 셀의 은닉 상태들\n",
        "\n",
        "$a_t$를 Aligment Vecotr라고 정의하고, $a_t의 각 성분 a_t1, ....a_Tx를 활용해서 $h_1,...h_Tx를 \n",
        "\n",
        "Weighted sum을 한 게 Context vector가 된다는 것!\n",
        "\n",
        "$a_t = Softmax((Score(s_t-1,h_j)))_{j=1}^{Tx} \\in \\mathbb{R}$\n"
      ],
      "metadata": {
        "id": "Yfea154rBj0r"
      }
    },
    {
      "cell_type": "code",
      "source": [
        "class BahdanauAttention(tf.keras.layers.Layer):\n",
        "    def __init__(self, units):\n",
        "        super(BahdanauAttention, self).__init__()\n",
        "        self.w_dec = tf.keras.layers.Dense(units)\n",
        "        self.w_enc = tf.keras.layers.Dense(units)\n",
        "        self.w_com = tf.keras.layers.Dense(1)\n",
        "    \n",
        "    def call(self, h_enc, h_dec):\n",
        "      \n",
        "        # h_enc shape: [batch x length x units]\n",
        "        # h_dec shape: [batch x units]\n",
        "\n",
        "        h_enc = self.w_enc(h_enc)\n",
        "        h_dec = tf.expand_dims(h_dec, 1)\n",
        "        h_dec = self.w_dec(h_dec)\n",
        "\n",
        "        score = self.w_com(tf.nn.tanh(h_dec + h_enc))\n",
        "        \n",
        "        attn = tf.nn.softmax(score, axis=1)\n",
        "\n",
        "        context_vec = attn * h_enc\n",
        "        context_vec = tf.reduce_sum(context_vec, axis=1)\n",
        "\n",
        "        return context_vec, attn"
      ],
      "metadata": {
        "id": "MuuPM3-LcoTE"
      },
      "execution_count": null,
      "outputs": []
    },
    {
      "cell_type": "code",
      "source": [
        "class Encoder(tf.keras.Model):\n",
        "    def __init__(self, vocab_size, embedding_dim, enc_units):\n",
        "        super(Encoder, self).__init__()\n",
        "        \n",
        "        self.enc_units = enc_units\n",
        "        self.embedding = tf.keras.layers.Embedding(vocab_size, embedding_dim)\n",
        "        self.gru = tf.keras.layers.GRU(enc_units,\n",
        "                                       return_sequences=True)\n",
        "        \n",
        "    def call(self, x):\n",
        "        out = self.embedding(x)\n",
        "        out = self.gru(out)\n",
        "        \n",
        "        return out"
      ],
      "metadata": {
        "id": "Oe-6ASwAcufz"
      },
      "execution_count": null,
      "outputs": []
    },
    {
      "cell_type": "code",
      "source": [
        "class Decoder(tf.keras.Model):\n",
        "    def __init__(self, vocab_size, embedding_dim, dec_units):\n",
        "        super(Decoder, self).__init__()\n",
        "        self.dec_units = dec_units\n",
        "        self.embedding = tf.keras.layers.Embedding(vocab_size, embedding_dim)\n",
        "        self.gru = tf.keras.layers.GRU(dec_units,\n",
        "                                       return_sequences=True,\n",
        "                                       return_state=True)\n",
        "        self.fc = tf.keras.layers.Dense(vocab_size)\n",
        "\n",
        "        self.attention = BahdanauAttention(self.dec_units)\n",
        "\n",
        "    def call(self, x, h_dec, enc_out):\n",
        "        context_vec, attn = self.attention(enc_out, h_dec)\n",
        "\n",
        "        out = self.embedding(x)\n",
        "        out = tf.concat([tf.expand_dims(context_vec, 1), out], axis=-1)\n",
        "        \n",
        "        out, h_dec = self.gru(out)\n",
        "        out = tf.reshape(out, (-1, out.shape[2]))\n",
        "        out = self.fc(out)\n",
        "\n",
        "        return out, h_dec, attn"
      ],
      "metadata": {
        "id": "4c5RRZlycwdo"
      },
      "execution_count": null,
      "outputs": []
    },
    {
      "cell_type": "code",
      "source": [
        "BATCH_SIZE     = 64\n",
        "SRC_VOCAB_SIZE = len(enc_tokenizer.index_word) + 1\n",
        "TGT_VOCAB_SIZE = len(dec_tokenizer.index_word) + 1\n",
        "\n",
        "units         = 1024\n",
        "embedding_dim = 512\n",
        "\n",
        "encoder = Encoder(SRC_VOCAB_SIZE, embedding_dim, units)\n",
        "decoder = Decoder(TGT_VOCAB_SIZE, embedding_dim, units)\n",
        "\n",
        "# sample input\n",
        "sequence_len = 30\n",
        "\n",
        "sample_enc = tf.random.uniform((BATCH_SIZE, sequence_len))\n",
        "sample_output = encoder(sample_enc)\n",
        "\n",
        "print ('Encoder Output:', sample_output.shape)\n",
        "\n",
        "sample_state = tf.random.uniform((BATCH_SIZE, units))\n",
        "\n",
        "sample_logits, h_dec, attn = decoder(tf.random.uniform((BATCH_SIZE, 1)),\n",
        "                                     sample_state, sample_output)\n",
        "\n",
        "print ('Decoder Output:', sample_logits.shape)\n",
        "print ('Decoder Hidden State:', h_dec.shape)\n",
        "print ('Attention:', attn.shape)"
      ],
      "metadata": {
        "colab": {
          "base_uri": "https://localhost:8080/"
        },
        "id": "JzcAeNlscxoG",
        "outputId": "11b84227-8d3a-4fa4-f82f-25755c92dc97"
      },
      "execution_count": null,
      "outputs": [
        {
          "output_type": "stream",
          "name": "stdout",
          "text": [
            "Encoder Output: (64, 30, 1024)\n",
            "Decoder Output: (64, 17326)\n",
            "Decoder Hidden State: (64, 1024)\n",
            "Attention: (64, 30, 1)\n"
          ]
        }
      ]
    },
    {
      "cell_type": "code",
      "source": [
        "optimizer = tf.keras.optimizers.Adam()\n",
        "#모델이 출력한 확률 분포와 정수 인덱스 답안을 비교해서 Cross-entropy 값을 구하겠다.\n",
        "loss_object = tf.keras.losses.SparseCategoricalCrossentropy(\n",
        "    from_logits=True, reduction='none'\n",
        ")\n",
        "\n",
        "def loss_function(real, pred):\n",
        "  mask = tf.math.logical_not(tf.math.equal(real, 0)) #편의상 0을 전달\n",
        "  loss = loss_object(real, pred)\n",
        "\n",
        "  mask = tf.cast(mask, dtype=loss.dtype) #정답지에서 <pad> 토큰 찾아내서, 거기에 대한 loss는 구하지 않도록\n",
        "  loss *= mask\n",
        "\n",
        "  return tf.reduce_mean(loss)"
      ],
      "metadata": {
        "id": "jMr60Ks3cz8h"
      },
      "execution_count": null,
      "outputs": []
    },
    {
      "cell_type": "code",
      "source": [
        "@tf.function\n",
        "def train_step(src, tgt, encoder, decoder, optimizer, dec_tok):\n",
        "    bsz = src.shape[0]\n",
        "    loss = 0\n",
        "\n",
        "    with tf.GradientTape() as tape:\n",
        "        enc_out = encoder(src)\n",
        "        h_dec = enc_out[:, -1]\n",
        "        \n",
        "        dec_src = tf.expand_dims([dec_tok.word_index['<start>']] * bsz, 1)\n",
        "\n",
        "        for t in range(1, tgt.shape[1]):\n",
        "            pred, h_dec, _ = decoder(dec_src, h_dec, enc_out)\n",
        "\n",
        "            loss += loss_function(tgt[:, t], pred)\n",
        "            dec_src = tf.expand_dims(tgt[:, t], 1)\n",
        "        \n",
        "    batch_loss = (loss / int(tgt.shape[1]))\n",
        "\n",
        "    variables = encoder.trainable_variables + decoder.trainable_variables\n",
        "    gradients = tape.gradient(loss, variables)\n",
        "    optimizer.apply_gradients(zip(gradients, variables))\n",
        "    \n",
        "    return batch_loss"
      ],
      "metadata": {
        "id": "1IKfl0l8c4EQ"
      },
      "execution_count": null,
      "outputs": []
    },
    {
      "cell_type": "code",
      "source": [
        "@tf.function\n",
        "def eval_step(src, tgt, encoder, decoder, dec_tok):\n",
        "    bsz = src.shape[0]\n",
        "    loss = 0\n",
        "\n",
        "    enc_out = encoder(src)\n",
        "\n",
        "    h_dec = enc_out[:, -1]\n",
        "    \n",
        "    dec_src = tf.expand_dims([dec_tok.word_index['<start>']] * bsz, 1)\n",
        "\n",
        "    for t in range(1, tgt.shape[1]):\n",
        "        pred, h_dec, _ = decoder(dec_src, h_dec, enc_out)\n",
        "\n",
        "        loss += loss_function(tgt[:, t], pred)\n",
        "        dec_src = tf.expand_dims(tgt[:, t], 1)\n",
        "        \n",
        "    batch_loss = (loss / int(tgt.shape[1]))\n",
        "    \n",
        "    return batch_loss\n"
      ],
      "metadata": {
        "id": "EZ6beV7jdLk-"
      },
      "execution_count": null,
      "outputs": []
    },
    {
      "cell_type": "code",
      "source": [
        "# Training Process\n",
        "\n",
        "from tqdm import tqdm\n",
        "\n",
        "EPOCHS = 30\n",
        "\n",
        "for epoch in range(EPOCHS):\n",
        "    total_loss = 0\n",
        "\n",
        "    idx_list = list(range(0, enc_train.shape[0], BATCH_SIZE))\n",
        "    random.shuffle(idx_list)\n",
        "    t = tqdm(idx_list)\n",
        "\n",
        "    for (batch, idx) in enumerate(t):\n",
        "        batch_loss = train_step(enc_train[idx:idx+BATCH_SIZE],\n",
        "                                dec_train[idx:idx+BATCH_SIZE],\n",
        "                                encoder,\n",
        "                                decoder,\n",
        "                                optimizer,\n",
        "                                dec_tokenizer)\n",
        "\n",
        "        total_loss += batch_loss\n",
        "\n",
        "        t.set_description_str('Epoch %2d' % (epoch + 1))\n",
        "        t.set_postfix_str('Loss %.4f' % (total_loss.numpy() / (batch + 1)))\n",
        "\n",
        "    test_loss = 0\n",
        "\n",
        "    idx_list = list(range(0, enc_val.shape[0], BATCH_SIZE))\n",
        "    random.shuffle(idx_list)\n",
        "    t = tqdm(idx_list)\n",
        "\n",
        "    for (test_batch, idx) in enumerate(t):\n",
        "        test_batch_loss = eval_step(enc_val[idx:idx+BATCH_SIZE],\n",
        "                                    dec_val[idx:idx+BATCH_SIZE],\n",
        "                                    encoder,\n",
        "                                    decoder,\n",
        "                                    dec_tokenizer)\n",
        "\n",
        "        test_loss += test_batch_loss\n",
        "\n",
        "        t.set_description_str('Test Epoch %2d' % (epoch + 1))\n",
        "        t.set_postfix_str('Test Loss %.4f' % (test_loss.numpy() / (test_batch + 1)))"
      ],
      "metadata": {
        "colab": {
          "base_uri": "https://localhost:8080/"
        },
        "id": "5oKYrruEc6fR",
        "outputId": "23820b80-0acf-4e34-e27d-44a3b1b46666"
      },
      "execution_count": null,
      "outputs": [
        {
          "output_type": "stream",
          "name": "stderr",
          "text": [
            "Epoch  1: 100%|██████████| 214/214 [03:32<00:00,  1.01it/s, Loss 1.5600]\n",
            "Test Epoch  1: 100%|██████████| 54/54 [00:52<00:00,  1.03it/s, Test Loss 1.5245]\n",
            "Epoch  2: 100%|██████████| 214/214 [01:24<00:00,  2.54it/s, Loss 1.3407]\n",
            "Test Epoch  2: 100%|██████████| 54/54 [00:08<00:00,  6.30it/s, Test Loss 1.3007]\n",
            "Epoch  3: 100%|██████████| 214/214 [01:24<00:00,  2.55it/s, Loss 1.2260]\n",
            "Test Epoch  3: 100%|██████████| 54/54 [00:08<00:00,  6.32it/s, Test Loss 1.2622]\n",
            "Epoch  4: 100%|██████████| 214/214 [01:24<00:00,  2.54it/s, Loss 1.1469]\n",
            "Test Epoch  4: 100%|██████████| 54/54 [00:08<00:00,  6.30it/s, Test Loss 1.2500]\n",
            "Epoch  5: 100%|██████████| 214/214 [01:23<00:00,  2.55it/s, Loss 1.0709]\n",
            "Test Epoch  5: 100%|██████████| 54/54 [00:08<00:00,  6.30it/s, Test Loss 1.2482]\n",
            "Epoch  6: 100%|██████████| 214/214 [01:24<00:00,  2.55it/s, Loss 0.9893]\n",
            "Test Epoch  6: 100%|██████████| 54/54 [00:08<00:00,  6.32it/s, Test Loss 1.2614]\n",
            "Epoch  7: 100%|██████████| 214/214 [01:23<00:00,  2.55it/s, Loss 0.9038]\n",
            "Test Epoch  7: 100%|██████████| 54/54 [00:08<00:00,  6.32it/s, Test Loss 1.2922]\n",
            "Epoch  8: 100%|██████████| 214/214 [01:24<00:00,  2.55it/s, Loss 0.8152]\n",
            "Test Epoch  8: 100%|██████████| 54/54 [00:08<00:00,  6.28it/s, Test Loss 1.3254]\n",
            "Epoch  9: 100%|██████████| 214/214 [01:23<00:00,  2.55it/s, Loss 0.7269]\n",
            "Test Epoch  9: 100%|██████████| 54/54 [00:08<00:00,  6.31it/s, Test Loss 1.3588]\n",
            "Epoch 10: 100%|██████████| 214/214 [01:24<00:00,  2.55it/s, Loss 0.6372]\n",
            "Test Epoch 10: 100%|██████████| 54/54 [00:08<00:00,  6.32it/s, Test Loss 1.4177]\n",
            "Epoch 11: 100%|██████████| 214/214 [01:24<00:00,  2.55it/s, Loss 0.5550]\n",
            "Test Epoch 11: 100%|██████████| 54/54 [00:08<00:00,  6.29it/s, Test Loss 1.4490]\n",
            "Epoch 12: 100%|██████████| 214/214 [01:24<00:00,  2.55it/s, Loss 0.4767]\n",
            "Test Epoch 12: 100%|██████████| 54/54 [00:08<00:00,  6.29it/s, Test Loss 1.4955]\n",
            "Epoch 13: 100%|██████████| 214/214 [01:23<00:00,  2.55it/s, Loss 0.4056]\n",
            "Test Epoch 13: 100%|██████████| 54/54 [00:08<00:00,  6.32it/s, Test Loss 1.5435]\n",
            "Epoch 14: 100%|██████████| 214/214 [01:23<00:00,  2.55it/s, Loss 0.3447]\n",
            "Test Epoch 14: 100%|██████████| 54/54 [00:08<00:00,  6.32it/s, Test Loss 1.5854]\n",
            "Epoch 15: 100%|██████████| 214/214 [01:24<00:00,  2.55it/s, Loss 0.2927]\n",
            "Test Epoch 15: 100%|██████████| 54/54 [00:08<00:00,  6.32it/s, Test Loss 1.6211]\n",
            "Epoch 16: 100%|██████████| 214/214 [01:24<00:00,  2.55it/s, Loss 0.2479]\n",
            "Test Epoch 16: 100%|██████████| 54/54 [00:08<00:00,  6.32it/s, Test Loss 1.6656]\n",
            "Epoch 17: 100%|██████████| 214/214 [01:23<00:00,  2.55it/s, Loss 0.2113]\n",
            "Test Epoch 17: 100%|██████████| 54/54 [00:08<00:00,  6.31it/s, Test Loss 1.7019]\n",
            "Epoch 18: 100%|██████████| 214/214 [01:24<00:00,  2.55it/s, Loss 0.1805]\n",
            "Test Epoch 18: 100%|██████████| 54/54 [00:08<00:00,  6.31it/s, Test Loss 1.7381]\n",
            "Epoch 19: 100%|██████████| 214/214 [01:24<00:00,  2.55it/s, Loss 0.1540]\n",
            "Test Epoch 19: 100%|██████████| 54/54 [00:08<00:00,  6.29it/s, Test Loss 1.7781]\n",
            "Epoch 20: 100%|██████████| 214/214 [01:24<00:00,  2.55it/s, Loss 0.1323]\n",
            "Test Epoch 20: 100%|██████████| 54/54 [00:08<00:00,  6.32it/s, Test Loss 1.8114]\n",
            "Epoch 21: 100%|██████████| 214/214 [01:24<00:00,  2.55it/s, Loss 0.1152]\n",
            "Test Epoch 21: 100%|██████████| 54/54 [00:08<00:00,  6.31it/s, Test Loss 1.8435]\n",
            "Epoch 22: 100%|██████████| 214/214 [01:24<00:00,  2.54it/s, Loss 0.1000]\n",
            "Test Epoch 22: 100%|██████████| 54/54 [00:08<00:00,  6.28it/s, Test Loss 1.8770]\n",
            "Epoch 23: 100%|██████████| 214/214 [01:24<00:00,  2.55it/s, Loss 0.0879]\n",
            "Test Epoch 23: 100%|██████████| 54/54 [00:08<00:00,  6.30it/s, Test Loss 1.9055]\n",
            "Epoch 24: 100%|██████████| 214/214 [01:24<00:00,  2.54it/s, Loss 0.0786]\n",
            "Test Epoch 24: 100%|██████████| 54/54 [00:08<00:00,  6.31it/s, Test Loss 1.9338]\n",
            "Epoch 25: 100%|██████████| 214/214 [01:23<00:00,  2.55it/s, Loss 0.0710]\n",
            "Test Epoch 25: 100%|██████████| 54/54 [00:08<00:00,  6.18it/s, Test Loss 1.9673]\n",
            "Epoch 26: 100%|██████████| 214/214 [01:24<00:00,  2.55it/s, Loss 0.0653]\n",
            "Test Epoch 26: 100%|██████████| 54/54 [00:08<00:00,  6.29it/s, Test Loss 1.9915]\n",
            "Epoch 27: 100%|██████████| 214/214 [01:24<00:00,  2.55it/s, Loss 0.0594]\n",
            "Test Epoch 27: 100%|██████████| 54/54 [00:08<00:00,  6.27it/s, Test Loss 2.0182]\n",
            "Epoch 28: 100%|██████████| 214/214 [01:24<00:00,  2.55it/s, Loss 0.0559]\n",
            "Test Epoch 28: 100%|██████████| 54/54 [00:08<00:00,  6.27it/s, Test Loss 2.0418]\n",
            "Epoch 29: 100%|██████████| 214/214 [01:24<00:00,  2.55it/s, Loss 0.0528]\n",
            "Test Epoch 29: 100%|██████████| 54/54 [00:08<00:00,  6.33it/s, Test Loss 2.0570]\n",
            "Epoch 30: 100%|██████████| 214/214 [01:24<00:00,  2.55it/s, Loss 0.0513]\n",
            "Test Epoch 30: 100%|██████████| 54/54 [00:08<00:00,  6.29it/s, Test Loss 2.0764]\n"
          ]
        }
      ]
    },
    {
      "cell_type": "code",
      "source": [
        "def evaluate(sentence, encoder, decoder):\n",
        "    attention = np.zeros((dec_train.shape[-1], enc_train.shape[-1]))\n",
        "    \n",
        "    sentence = preprocess_sentence(sentence)\n",
        "    inputs = enc_tokenizer.texts_to_sequences([sentence.split()])\n",
        "    inputs = tf.keras.preprocessing.sequence.pad_sequences(inputs,\n",
        "                                                           maxlen=enc_train.shape[-1],\n",
        "                                                           padding='post')\n",
        "\n",
        "    result = ''\n",
        "\n",
        "    enc_out = encoder(inputs)\n",
        "\n",
        "    dec_hidden = enc_out[:, -1]\n",
        "    dec_input = tf.expand_dims([dec_tokenizer.word_index['<start>']], 0)\n",
        "\n",
        "    for t in range(dec_train.shape[-1]):\n",
        "        predictions, dec_hidden, attention_weights = decoder(dec_input,\n",
        "                                                             dec_hidden,\n",
        "                                                             enc_out)\n",
        "\n",
        "        attention_weights = tf.reshape(attention_weights, (-1, ))\n",
        "        attention[t] = attention_weights.numpy()\n",
        "\n",
        "        predicted_id = \\\n",
        "        tf.argmax(tf.math.softmax(predictions, axis=-1)[0]).numpy()\n",
        "\n",
        "        result += dec_tokenizer.index_word[predicted_id] + ' '\n",
        "\n",
        "        if dec_tokenizer.index_word[predicted_id] == '<end>':\n",
        "            return result, sentence, attention\n",
        "\n",
        "        dec_input = tf.expand_dims([predicted_id], 0)\n",
        "\n",
        "    return result, sentence, attention\n",
        "\n",
        "\n",
        "def plot_attention(attention, sentence, predicted_sentence):\n",
        "    fig = plt.figure(figsize=(10,10))\n",
        "    ax = fig.add_subplot(1, 1, 1)\n",
        "    ax.matshow(attention, cmap='viridis')\n",
        "\n",
        "    fontdict = {'fontsize': 14}\n",
        "\n",
        "    ax.set_xticklabels([''] + sentence, fontdict=fontdict, rotation=90)\n",
        "    ax.set_yticklabels([''] + predicted_sentence, fontdict=fontdict)\n",
        "\n",
        "    ax.xaxis.set_major_locator(ticker.MultipleLocator(1))\n",
        "    ax.yaxis.set_major_locator(ticker.MultipleLocator(1))\n",
        "\n",
        "    plt.show()\n",
        "\n",
        "\n",
        "def translate(sentence, encoder, decoder):\n",
        "    result, sentence, attention = evaluate(sentence, encoder, decoder)\n",
        "\n",
        "    print('Input: %s' % (sentence))\n",
        "    print('Predicted translation: {}'.format(result))\n",
        "    \n",
        "    attention = attention[:len(result.split()), :len(sentence.split())]\n",
        "    plot_attention(attention, sentence.split(), result.split(' '))"
      ],
      "metadata": {
        "id": "BUbe4uXIc9TB"
      },
      "execution_count": null,
      "outputs": []
    },
    {
      "cell_type": "code",
      "source": [
        "!sudo apt-get install -y fonts-nanum\n",
        "!sudo fc-cache -fv\n",
        "!rm ~/.cache/matplotlib -rf"
      ],
      "metadata": {
        "id": "xN6HAemzTs7v"
      },
      "execution_count": null,
      "outputs": []
    },
    {
      "cell_type": "code",
      "source": [
        "import matplotlib.font_manager as fm\n",
        "import matplotlib as mpl\n",
        "\n",
        "fontpath = '/usr/share/fonts/truetype/nanum/NanumBarunGothic.ttf'\n",
        "font = fm.FontProperties(fname=fontpath, size=9)\n",
        "plt.rc('font', family='NanumBarunGothic')\n",
        "mpl.font_manager._rebuild()"
      ],
      "metadata": {
        "id": "NMnj8fL5dSG4"
      },
      "execution_count": null,
      "outputs": []
    },
    {
      "cell_type": "code",
      "source": [
        "translate(\"집에 가는 길은 이쪽입니다.\", encoder, decoder)"
      ],
      "metadata": {
        "id": "tX0wwFfsdWNd",
        "colab": {
          "base_uri": "https://localhost:8080/",
          "height": 685
        },
        "outputId": "469282a9-63bf-4667-b325-69d33e12c2da"
      },
      "execution_count": null,
      "outputs": [
        {
          "output_type": "stream",
          "name": "stdout",
          "text": [
            "Input: 집에 가는 길은 이쪽입니다 .\n",
            "Predicted translation: often took as you . <end> \n"
          ]
        },
        {
          "output_type": "display_data",
          "data": {
            "text/plain": [
              "<Figure size 720x720 with 1 Axes>"
            ],
            "image/png": "[encoded data removed]"
          },
          "metadata": {
            "needs_background": "light"
          }
        }
      ]
    },
    {
      "cell_type": "code",
      "source": [
        "from nltk.translate.bleu_score import sentence_bleu"
      ],
      "metadata": {
        "id": "U5awluyg1IuG"
      },
      "execution_count": null,
      "outputs": []
    },
    {
      "cell_type": "code",
      "source": [
        "reference = [[ \"The\", \"way\", \"home\", \"is\", \"this\", \"way\"]]\n",
        "candidate = [\"often\" \"took\" \"as\" \"you\"]\n",
        "score1 = sentence_bleu(reference, candidate, weights=(1, 0, 0, 0)) # 1.0\n",
        "print(score1)"
      ],
      "metadata": {
        "colab": {
          "base_uri": "https://localhost:8080/"
        },
        "id": "saSxugDC1Gww",
        "outputId": "ba2ecead-3d6b-489a-ab01-e42b76a22e18"
      },
      "execution_count": null,
      "outputs": [
        {
          "output_type": "stream",
          "name": "stdout",
          "text": [
            "0\n"
          ]
        }
      ]
    },
    {
      "cell_type": "code",
      "source": [
        "translate(\" 그들은 시애틀 내시빌 그리고 샌디에이고에서 공연을 합니다.\", encoder, decoder)"
      ],
      "metadata": {
        "colab": {
          "base_uri": "https://localhost:8080/",
          "height": 710
        },
        "id": "sOUCPG2nxy3C",
        "outputId": "67daa463-af72-479c-de29-0adba43135ef"
      },
      "execution_count": null,
      "outputs": [
        {
          "output_type": "stream",
          "name": "stdout",
          "text": [
            "Input: 그들은 시애틀 내시빌 그리고 샌디에이고에서 공연을 합니다 .\n",
            "Predicted translation: they ll play in seattle nashville and san diego . <end> \n"
          ]
        },
        {
          "output_type": "display_data",
          "data": {
            "text/plain": [
              "<Figure size 720x720 with 1 Axes>"
            ],
            "image/png": "[encoded data removed]"
          },
          "metadata": {
            "needs_background": "light"
          }
        }
      ]
    },
    {
      "cell_type": "code",
      "source": [
        "# 1-gram individual BLEU\n",
        "from nltk.translate.bleu_score import sentence_bleu\n",
        "reference = [['this', 'is', 'small', 'test']]\n",
        "candidate = ['this', 'is', 'a', 'test']\n",
        "score = sentence_bleu(reference, candidate, weights=(1, 0, 0, 0))\n",
        "print(score)"
      ],
      "metadata": {
        "colab": {
          "base_uri": "https://localhost:8080/"
        },
        "id": "j9bqyKOy3RRd",
        "outputId": "6825e319-0e5c-49f6-ea15-c004e8f243ce"
      },
      "execution_count": null,
      "outputs": [
        {
          "output_type": "stream",
          "name": "stdout",
          "text": [
            "0.75\n"
          ]
        },
        {
          "output_type": "stream",
          "name": "stderr",
          "text": [
            "/usr/local/lib/python3.7/dist-packages/nltk/translate/bleu_score.py:552: UserWarning: \n",
            "The hypothesis contains 0 counts of 3-gram overlaps.\n",
            "Therefore the BLEU score evaluates to 0, independently of\n",
            "how many N-gram overlaps of lower order it contains.\n",
            "Consider using lower n-gram order or use SmoothingFunction()\n",
            "  warnings.warn(_msg)\n",
            "/usr/local/lib/python3.7/dist-packages/nltk/translate/bleu_score.py:552: UserWarning: \n",
            "The hypothesis contains 0 counts of 4-gram overlaps.\n",
            "Therefore the BLEU score evaluates to 0, independently of\n",
            "how many N-gram overlaps of lower order it contains.\n",
            "Consider using lower n-gram order or use SmoothingFunction()\n",
            "  warnings.warn(_msg)\n"
          ]
        }
      ]
    },
    {
      "cell_type": "code",
      "source": [
        "from nltk.translate import bleu\n",
        "\n",
        "reference = [\"they\" ,\"ll\", \"play\", \"in\", \"seattle\", \"nashville\", \"and \", \"san diego\"]\n",
        "candidate = 'they ll play in seattle nashville and san diego'.split()\n",
        "bleu([reference], candidate)"
      ],
      "metadata": {
        "colab": {
          "base_uri": "https://localhost:8080/"
        },
        "id": "EUFuzFbe1y-B",
        "outputId": "b48f0ee6-660e-4333-cd7b-ba0575e9dd48"
      },
      "execution_count": null,
      "outputs": [
        {
          "output_type": "execute_result",
          "data": {
            "text/plain": [
              "0.5873949094699213"
            ]
          },
          "metadata": {},
          "execution_count": 56
        }
      ]
    },
    {
      "cell_type": "code",
      "source": [
        "translate(\"하드웨어를 구입하는 비용의 문제가 커다란 장애입니다.\", encoder, decoder)"
      ],
      "metadata": {
        "colab": {
          "base_uri": "https://localhost:8080/",
          "height": 685
        },
        "id": "ngFrXiFOyKdR",
        "outputId": "2381ce7c-e93d-41fd-ecb2-a55a49f082be"
      },
      "execution_count": null,
      "outputs": [
        {
          "output_type": "stream",
          "name": "stdout",
          "text": [
            "Input: 하드웨어를 구입하는 비용의 문제가 커다란 장애입니다 .\n",
            "Predicted translation: the issue of it just being a hardware expense is a serious impediment . <end> \n"
          ]
        },
        {
          "output_type": "display_data",
          "data": {
            "text/plain": [
              "<Figure size 720x720 with 1 Axes>"
            ],
            "image/png": "[encoded data removed]"
          },
          "metadata": {
            "needs_background": "light"
          }
        }
      ]
    },
    {
      "cell_type": "markdown",
      "source": [
        " Bleu score는 기본적으로 Document 단위로 만들어졌기 때문에,문장 단위의 번역에는 여러 형태의 Smoothing 기법을 도입할 수 있다!:\n",
        "\n",
        "<hr>\n",
        "\n",
        "http://acl2014.org/acl2014/W14-33/pdf/W14-3346.pdf"
      ],
      "metadata": {
        "id": "DT_1dock5wjm"
      }
    },
    {
      "cell_type": "code",
      "source": [
        "from nltk.translate.bleu_score import SmoothingFunction\n",
        "smoothie = SmoothingFunction().method4\n",
        "reference = ['the', 'cost', 'of', 'purchasing', 'hardware', 'is ', 'a', 'big', 'obstacle']\n",
        "candidate = 'the issue of it just being a hardware expense is a serious impediment'.split()\n",
        "bleu([reference], candidate,  smoothing_function=smoothie)"
      ],
      "metadata": {
        "colab": {
          "base_uri": "https://localhost:8080/"
        },
        "id": "zW7zTctu4cEM",
        "outputId": "860e35a9-cc51-4d38-d4b5-a7245733c688"
      },
      "execution_count": null,
      "outputs": [
        {
          "output_type": "execute_result",
          "data": {
            "text/plain": [
              "0.026480261910431388"
            ]
          },
          "metadata": {},
          "execution_count": 59
        }
      ]
    },
    {
      "cell_type": "markdown",
      "source": [
        "## 회고\n",
        "\n",
        "1. 원래 하고싶었던 목표가 있었지만... 제대로 이해하지 못해 노드의 흐름을 따라가는 것으로 제출!\n",
        "\n",
        "2. 물론 이후 노드에 트랜스포머를 통해서 더 좋은 NMT를 구현할 수 있지만, 노드에 제시된 seq2seq을 개선하기 위해서, Luong attention을 도입한다던가, 밑시딥2에 나오는 seq2seq 개선안 중 입력데이터를 반전(reverse)시켜 학습하는 방식을 가져온다던가 하는 방안들이 있었으나.. 코딩실력 미숙으로 인한 포기...\n",
        "\n",
        "3. 특히 Luong attention은  특정 하이퍼파라미터 D에 대해서 2D+1개만큼의 서브셋만큼 본다던가, 디코더의 Hidden State Vector를 구하는 방식이 간소화시킴을 통해 Computation path를 짧게 만들어서, 바다나우 어텐션보다 훨씬 더 많은 레퍼런스 코드들을 찾아볼 수 있을 것 같은데... 생각보다 찾아볼 수 있는 자료가 많지않다. \n",
        "\n",
        "4. 번역 과제에서 주로 쓰이는 Bleu score랑 이에 대한 여러 smoothing 기법에 대해서 한번 더 구체적으로 알아볼 필요가 있다!\n"
      ],
      "metadata": {
        "id": "eiZB8nVuyyrb"
      }
    },
    {
      "cell_type": "code",
      "source": [],
      "metadata": {
        "id": "51MDSoF50sRn"
      },
      "execution_count": null,
      "outputs": []
    }
  ]
}