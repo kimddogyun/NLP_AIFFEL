{
  "nbformat": 4,
  "nbformat_minor": 0,
  "metadata": {
    "colab": {
      "provenance": [],
      "collapsed_sections": [],
      "machine_shape": "hm"
    },
    "kernelspec": {
      "name": "python3",
      "display_name": "Python 3"
    },
    "language_info": {
      "name": "python"
    },
    "accelerator": "GPU",
    "gpuClass": "standard"
  },
  "cells": [
    {
      "cell_type": "markdown",
      "source": [
        "### GOING DEEPER:NLP 02\n",
        "\n",
        "#### Table of Contents\n",
        "1. Preprocessing\n",
        "2. Sentencepiece Training\n",
        "3. Sentencepiece 모델 비교\n",
        "4. Sentencepiece를 통한 토크나이징을 NSMC 감정분석\n",
        "5. Sentencepiece 성능비교\n",
        "6. Konlpy Tokenize 연산속도 비교\n",
        "7. Kobert, Khaiii 토큰화 방식 비교\n",
        "8. Mecab을 활용한 NSMC Modeling"
      ],
      "metadata": {
        "id": "r_FaQdOpwLWc"
      }
    },
    {
      "cell_type": "code",
      "source": [
        "from google.colab import drive\n",
        "drive.mount('/content/drive')"
      ],
      "metadata": {
        "colab": {
          "base_uri": "https://localhost:8080/"
        },
        "id": "P96AxkdFK8vM",
        "outputId": "d899d60c-8648-471d-faa4-c6d7cfb12c23"
      },
      "execution_count": null,
      "outputs": [
        {
          "output_type": "stream",
          "name": "stdout",
          "text": [
            "Drive already mounted at /content/drive; to attempt to forcibly remount, call drive.mount(\"/content/drive\", force_remount=True).\n"
          ]
        }
      ]
    },
    {
      "cell_type": "code",
      "source": [
        "%%capture\n",
        "pip install konlpy"
      ],
      "metadata": {
        "id": "hlP8vxWYNR_l"
      },
      "execution_count": null,
      "outputs": []
    },
    {
      "cell_type": "code",
      "source": [
        "%%capture\n",
        "pip install sentencepiece"
      ],
      "metadata": {
        "id": "s6FGitg6NXrS"
      },
      "execution_count": null,
      "outputs": []
    },
    {
      "cell_type": "code",
      "source": [
        "# Modules import\n",
        "import tensorflow as tf\n",
        "import numpy as np\n",
        "import matplotlib.pyplot as plt \n",
        "import konlpy\n",
        "import sentencepiece as spm\n",
        "import os\n",
        "import tensorflow as tf\n",
        "import numpy as np\n",
        "import time\n",
        "import pandas as pd\n",
        "\n",
        "%matplotlib inline"
      ],
      "metadata": {
        "id": "zKAO40-rNZxD"
      },
      "execution_count": null,
      "outputs": []
    },
    {
      "cell_type": "markdown",
      "source": [
        "# 1. Preprocessing\n"
      ],
      "metadata": {
        "id": "ukxHkkgBwgu3"
      }
    },
    {
      "cell_type": "code",
      "source": [
        "path_to_file = '/content/drive/MyDrive/naver_movie/ratings.txt'\n",
        "\n",
        "with open(path_to_file, \"r\") as f:\n",
        "    raw = f.read().splitlines()\n",
        "\n",
        "print(\"Data Size:\", len(raw))\n",
        "\n",
        "print(\"Example:\")\n",
        "for sen in raw[0:100][::20]: print(\">>\", sen)"
      ],
      "metadata": {
        "colab": {
          "base_uri": "https://localhost:8080/"
        },
        "id": "1O8ynGILNc6j",
        "outputId": "650754ed-1f13-4a70-c442-01b7b19a1552"
      },
      "execution_count": null,
      "outputs": [
        {
          "output_type": "stream",
          "name": "stdout",
          "text": [
            "Data Size: 200001\n",
            "Example:\n",
            ">> id\tdocument\tlabel\n",
            ">> 9468781\t어?생각없이 봤는데 상당한 수작.일본영화 10년내 최고로 마음에 들었다.강렬한 임팩트가 일품.\t1\n",
            ">> 6809191\t마치 바다속 , 아쿠아리움속으로 들어간듯한 느낌의 영화 어린자녀들에게 강추!!\t1\n",
            ">> 8255656\t재밌습니다.재밌습니다.\t1\n",
            ">> 8499726\t너무너무재밌게보고있어요! 중간부터 본방사수했지만 스토리가 탄탄하고 흥미진진해서 1화부터 다찾아서 봤네요 배우들 연기도 어디하나빠지는데가없네요 요새는 수백향만챙겨봐요\t1\n"
          ]
        }
      ]
    },
    {
      "cell_type": "code",
      "source": [
        "data = pd.read_table(path_to_file)\n",
        "data.head()"
      ],
      "metadata": {
        "colab": {
          "base_uri": "https://localhost:8080/",
          "height": 206
        },
        "id": "D7JWRuEZ_uo7",
        "outputId": "27c1dcc7-86a0-4587-dbcd-8beb58bfcb54"
      },
      "execution_count": null,
      "outputs": [
        {
          "output_type": "execute_result",
          "data": {
            "text/plain": [
              "         id                                           document  label\n",
              "0   8112052                                어릴때보고 지금다시봐도 재밌어요ㅋㅋ      1\n",
              "1   8132799  디자인을 배우는 학생으로, 외국디자이너와 그들이 일군 전통을 통해 발전해가는 문화산...      1\n",
              "2   4655635               폴리스스토리 시리즈는 1부터 뉴까지 버릴께 하나도 없음.. 최고.      1\n",
              "3   9251303  와.. 연기가 진짜 개쩔구나.. 지루할거라고 생각했는데 몰입해서 봤다.. 그래 이런...      1\n",
              "4  10067386                        안개 자욱한 밤하늘에 떠 있는 초승달 같은 영화.      1"
            ],
            "text/html": [
              "\n",
              "  <div id=\"df-40c24ecc-5797-4140-9924-be71c43438cc\">\n",
              "    <div class=\"colab-df-container\">\n",
              "      <div>\n",
              "<style scoped>\n",
              "    .dataframe tbody tr th:only-of-type {\n",
              "        vertical-align: middle;\n",
              "    }\n",
              "\n",
              "    .dataframe tbody tr th {\n",
              "        vertical-align: top;\n",
              "    }\n",
              "\n",
              "    .dataframe thead th {\n",
              "        text-align: right;\n",
              "    }\n",
              "</style>\n",
              "<table border=\"1\" class=\"dataframe\">\n",
              "  <thead>\n",
              "    <tr style=\"text-align: right;\">\n",
              "      <th></th>\n",
              "      <th>id</th>\n",
              "      <th>document</th>\n",
              "      <th>label</th>\n",
              "    </tr>\n",
              "  </thead>\n",
              "  <tbody>\n",
              "    <tr>\n",
              "      <th>0</th>\n",
              "      <td>8112052</td>\n",
              "      <td>어릴때보고 지금다시봐도 재밌어요ㅋㅋ</td>\n",
              "      <td>1</td>\n",
              "    </tr>\n",
              "    <tr>\n",
              "      <th>1</th>\n",
              "      <td>8132799</td>\n",
              "      <td>디자인을 배우는 학생으로, 외국디자이너와 그들이 일군 전통을 통해 발전해가는 문화산...</td>\n",
              "      <td>1</td>\n",
              "    </tr>\n",
              "    <tr>\n",
              "      <th>2</th>\n",
              "      <td>4655635</td>\n",
              "      <td>폴리스스토리 시리즈는 1부터 뉴까지 버릴께 하나도 없음.. 최고.</td>\n",
              "      <td>1</td>\n",
              "    </tr>\n",
              "    <tr>\n",
              "      <th>3</th>\n",
              "      <td>9251303</td>\n",
              "      <td>와.. 연기가 진짜 개쩔구나.. 지루할거라고 생각했는데 몰입해서 봤다.. 그래 이런...</td>\n",
              "      <td>1</td>\n",
              "    </tr>\n",
              "    <tr>\n",
              "      <th>4</th>\n",
              "      <td>10067386</td>\n",
              "      <td>안개 자욱한 밤하늘에 떠 있는 초승달 같은 영화.</td>\n",
              "      <td>1</td>\n",
              "    </tr>\n",
              "  </tbody>\n",
              "</table>\n",
              "</div>\n",
              "      <button class=\"colab-df-convert\" onclick=\"convertToInteractive('df-40c24ecc-5797-4140-9924-be71c43438cc')\"\n",
              "              title=\"Convert this dataframe to an interactive table.\"\n",
              "              style=\"display:none;\">\n",
              "        \n",
              "  <svg xmlns=\"http://www.w3.org/2000/svg\" height=\"24px\"viewBox=\"0 0 24 24\"\n",
              "       width=\"24px\">\n",
              "    <path d=\"M0 0h24v24H0V0z\" fill=\"none\"/>\n",
              "    <path d=\"M18.56 5.44l.94 2.06.94-2.06 2.06-.94-2.06-.94-.94-2.06-.94 2.06-2.06.94zm-11 1L8.5 8.5l.94-2.06 2.06-.94-2.06-.94L8.5 2.5l-.94 2.06-2.06.94zm10 10l.94 2.06.94-2.06 2.06-.94-2.06-.94-.94-2.06-.94 2.06-2.06.94z\"/><path d=\"M17.41 7.96l-1.37-1.37c-.4-.4-.92-.59-1.43-.59-.52 0-1.04.2-1.43.59L10.3 9.45l-7.72 7.72c-.78.78-.78 2.05 0 2.83L4 21.41c.39.39.9.59 1.41.59.51 0 1.02-.2 1.41-.59l7.78-7.78 2.81-2.81c.8-.78.8-2.07 0-2.86zM5.41 20L4 18.59l7.72-7.72 1.47 1.35L5.41 20z\"/>\n",
              "  </svg>\n",
              "      </button>\n",
              "      \n",
              "  <style>\n",
              "    .colab-df-container {\n",
              "      display:flex;\n",
              "      flex-wrap:wrap;\n",
              "      gap: 12px;\n",
              "    }\n",
              "\n",
              "    .colab-df-convert {\n",
              "      background-color: #E8F0FE;\n",
              "      border: none;\n",
              "      border-radius: 50%;\n",
              "      cursor: pointer;\n",
              "      display: none;\n",
              "      fill: #1967D2;\n",
              "      height: 32px;\n",
              "      padding: 0 0 0 0;\n",
              "      width: 32px;\n",
              "    }\n",
              "\n",
              "    .colab-df-convert:hover {\n",
              "      background-color: #E2EBFA;\n",
              "      box-shadow: 0px 1px 2px rgba(60, 64, 67, 0.3), 0px 1px 3px 1px rgba(60, 64, 67, 0.15);\n",
              "      fill: #174EA6;\n",
              "    }\n",
              "\n",
              "    [theme=dark] .colab-df-convert {\n",
              "      background-color: #3B4455;\n",
              "      fill: #D2E3FC;\n",
              "    }\n",
              "\n",
              "    [theme=dark] .colab-df-convert:hover {\n",
              "      background-color: #434B5C;\n",
              "      box-shadow: 0px 1px 3px 1px rgba(0, 0, 0, 0.15);\n",
              "      filter: drop-shadow(0px 1px 2px rgba(0, 0, 0, 0.3));\n",
              "      fill: #FFFFFF;\n",
              "    }\n",
              "  </style>\n",
              "\n",
              "      <script>\n",
              "        const buttonEl =\n",
              "          document.querySelector('#df-40c24ecc-5797-4140-9924-be71c43438cc button.colab-df-convert');\n",
              "        buttonEl.style.display =\n",
              "          google.colab.kernel.accessAllowed ? 'block' : 'none';\n",
              "\n",
              "        async function convertToInteractive(key) {\n",
              "          const element = document.querySelector('#df-40c24ecc-5797-4140-9924-be71c43438cc');\n",
              "          const dataTable =\n",
              "            await google.colab.kernel.invokeFunction('convertToInteractive',\n",
              "                                                     [key], {});\n",
              "          if (!dataTable) return;\n",
              "\n",
              "          const docLinkHtml = 'Like what you see? Visit the ' +\n",
              "            '<a target=\"_blank\" href=https://colab.research.google.com/notebooks/data_table.ipynb>data table notebook</a>'\n",
              "            + ' to learn more about interactive tables.';\n",
              "          element.innerHTML = '';\n",
              "          dataTable['output_type'] = 'display_data';\n",
              "          await google.colab.output.renderOutput(dataTable, element);\n",
              "          const docLink = document.createElement('div');\n",
              "          docLink.innerHTML = docLinkHtml;\n",
              "          element.appendChild(docLink);\n",
              "        }\n",
              "      </script>\n",
              "    </div>\n",
              "  </div>\n",
              "  "
            ]
          },
          "metadata": {},
          "execution_count": 6
        }
      ]
    },
    {
      "cell_type": "code",
      "source": [
        "data.dropna(how='any', inplace=True)\n",
        "data.drop_duplicates(inplace=True)"
      ],
      "metadata": {
        "id": "PBPjDzhtADw5"
      },
      "execution_count": null,
      "outputs": []
    },
    {
      "cell_type": "code",
      "source": [
        "print(f'remove null/duplicate data: {len(data)}')"
      ],
      "metadata": {
        "colab": {
          "base_uri": "https://localhost:8080/"
        },
        "id": "_miwfd9nAP7a",
        "outputId": "bead5547-d5f9-4d2c-e5c5-d5eb02496058"
      },
      "execution_count": null,
      "outputs": [
        {
          "output_type": "stream",
          "name": "stdout",
          "text": [
            "remove null/duplicate data: 199992\n"
          ]
        }
      ]
    },
    {
      "cell_type": "code",
      "source": [
        "def check_sentence_with_length(raw, length):\n",
        "    count = 0\n",
        "    \n",
        "    for sen in raw:\n",
        "        if len(sen) == length:\n",
        "            print(sen)\n",
        "            count += 1\n",
        "            if count > 100: return"
      ],
      "metadata": {
        "id": "PwJG9_j6N9bR"
      },
      "execution_count": null,
      "outputs": []
    },
    {
      "cell_type": "code",
      "source": [
        "check_sentence_with_length(raw, 11)"
      ],
      "metadata": {
        "colab": {
          "base_uri": "https://localhost:8080/"
        },
        "id": "LcxvrT67N-pi",
        "outputId": "c580918d-b3cc-449b-b5d4-a01e0c6b4784"
      },
      "execution_count": null,
      "outputs": [
        {
          "output_type": "stream",
          "name": "stdout",
          "text": [
            "7477618\t굿\t1\n",
            "5458245\t핡\t1\n",
            "3946738\t굿\t1\n",
            "7910238\t휴\t1\n",
            "6924850\t굿\t1\n",
            "7804013\tㅋ\t1\n",
            "5666738\tㅇ\t1\n",
            "3003689\t굿\t1\n",
            "7830757\t‥\t1\n",
            "6876426\tO\t1\n",
            "773168\t수작\t1\n",
            "3867260\t굿\t1\n",
            "7250157\t굿\t1\n",
            "7403577\t갑\t1\n",
            "7505484\tㅎ\t1\n",
            "7483267\t굿\t1\n",
            "7281794\t.\t1\n",
            "117697\t맞아\t1\n",
            "7225800\t올\t1\n",
            "7721830\t굿\t1\n",
            "7684134\t헷\t1\n",
            "971290\t명작\t1\n",
            "1426659\tg\t1\n",
            "8012399\t굿\t1\n",
            "261233\t오우\t1\n",
            "7499560\t♥\t1\n",
            "7764304\t.\t1\n",
            "4483055\t짱\t1\n",
            "4321484\t짱\t1\n",
            "7317454\tㅆ\t1\n",
            "7863935\t.\t1\n",
            "7723058\t굿\t1\n",
            "7125585\t짱\t1\n",
            "6813098\t굿\t1\n",
            "7236009\t.\t1\n",
            "4746939\t굿\t1\n",
            "6297864\t굿\t1\n",
            "7523848\t굿\t1\n",
            "100226\tgg\t1\n",
            "7083655\t.\t1\n",
            "3891011\t짱\t1\n",
            "7489303\t굳\t1\n",
            "7436370\t굿\t1\n",
            "5967897\t잼\t1\n",
            "7903489\t굿\t1\n",
            "3339077\t짱\t1\n",
            "283968\t후훗\t1\n",
            "3774728\t굿\t1\n",
            "3382434\t굿\t1\n",
            "7927389\tㅎ\t1\n",
            "6556188\t굿\t1\n",
            "150372\t나두\t1\n",
            "7677681\t굿\t1\n",
            "1815836\t굿\t1\n",
            "5277532\tㅁ\t1\n",
            "632718\t^^\t1\n",
            "7264736\t굳\t1\n",
            "6365131\t굿\t1\n",
            "5978698\t굿\t1\n",
            "6959675\t?\t1\n",
            "7863562\tㅎ\t1\n",
            "3945553\t굿\t1\n",
            "4319568\t굿\t1\n",
            "7221937\t.\t1\n",
            "7945393\t짱\t1\n",
            "4493033\tㅇ\t1\n",
            "7330348\tㅋ\t1\n",
            "4016750\t애\t1\n",
            "7143066\tㅋ\t1\n",
            "1447283\t굿\t1\n",
            "7338439\t?\t1\n",
            "79940\t^-^\t1\n",
            "7284441\t짱\t1\n",
            "7734153\t.\t1\n",
            "7104728\t흠\t1\n",
            "1403313\t굿\t1\n",
            "7474858\tㅋ\t1\n",
            "7533249\t찜\t1\n",
            "565434\t조앙\t1\n",
            "453949\t멋져\t1\n",
            "6898989\tb\t1\n",
            "7516020\t굿\t1\n",
            "6805929\t굳\t1\n",
            "7172398\t짱\t1\n",
            "7738495\t짱\t1\n",
            "3339075\t짱\t1\n",
            "5907584\t짱\t1\n",
            "7871392\t굿\t1\n",
            "6002763\t굿\t1\n",
            "7445412\t짱\t1\n",
            "3914028\t굿\t1\n",
            "7868198\t,\t1\n",
            "7282221\t♥\t1\n",
            "733002\t^^\t1\n",
            "7782812\t굳\t1\n",
            "7885266\t.\t1\n",
            "7878343\t굿\t1\n",
            "7088435\t굳\t1\n",
            "7936225\tㅎ\t1\n",
            "7756897\t굿\t1\n",
            "6335829\t굿\t1\n"
          ]
        }
      ]
    },
    {
      "cell_type": "code",
      "source": [
        "check_sentence_with_length(raw, 60)"
      ],
      "metadata": {
        "id": "uXDY97dxN_eC",
        "colab": {
          "base_uri": "https://localhost:8080/"
        },
        "outputId": "507f2fc7-ce08-4c25-ae77-628f2784f9ec"
      },
      "execution_count": null,
      "outputs": [
        {
          "output_type": "stream",
          "name": "stdout",
          "text": [
            "7154137\t순수함 그리고 진짜 웃음이 무엇인지 알 수 있었다그가 웃을때 나도 모르게 웃게 되는 순수함\t1\n",
            "7505364\t10점도 안아까운 영화이다...블레이드러너에 버금가는 영화임 한국은 결코 만들수 없는...\t1\n",
            "7636847\t상당히 현실성있고 중간중간 코믹요소도 좋았다. 리얼한 3류 양아치들의 애환을 잘 그려냈다.\t1\n",
            "4477460\t완전 잼있네요 ㅋㅋ근데 이거 2편을 계획하고 끝낸거 같은데....2편은 어찌...?;;ㅜㅡ\t1\n",
            "9763750\t현대소설속에서 많이 비쳐지던 죽음의 그림자가 짙게 드리워져 있는 여름향기가 못내 서글프네요\t1\n",
            "8559569\t10점 아닌게 놀라울 따름!!주제가도 너무 좋아 벨소리로 쓴적도 있었다.The real!!\t1\n",
            "10275569\t정말 미쓰와이프 별생각없이봤는데..왠걸요..너무재밌더라구요 ㅎ ㅎ돈이아깝지않은 영화입니다\t1\n",
            "7695857\t3D 움직임이 허접해서 처음에 안볼라고 했는데, 색감도 너무 이쁘고 재밌음!!! 빠져들어~\t1\n",
            "9330402\t진짜 호랑이다. 라이프오브파이 호랑이 본사람은 알것이다 cg기술이 뛰어나도 진짜는 못이긴다\t1\n",
            "7182947\t최고! 시청률은 아마 편성문제인듯 다른드라마 하는 중간에 시작했으니 갈아타기 힘들었을거같다\t1\n",
            "7408190\t예쁘고 강한 여주인공 캐릭터 별점 7개!, 스토리와 결말이 애매해서 별점 2개! 총 9개.\t1\n",
            "9340676\t용감한 보카의 모험이야기~ 로봇이 약간 무섭게 느껴지지만 땅콩캐릭인가요?? 무지 귀엽네욘~\t1\n",
            "9180395\t여자지만 홍영수 같은 대원 있으면 진심 짜증나고 난감할듯... 정철민 병장의 마음이 이해감\t1\n",
            "6490267\t우연찮게 봤는데 재밌었어요(별점이해x) !!!ㅋㅋ 이영은씨 최성국씨 두분에 팬이되겠습니다!\t1\n",
            "10147557\t이 영화 예전에는 8점대 후반이었는데 개베충의 엄청난 테러로 이만큼이나 평점이 떨어졌다.\t1\n",
            "7310072\t여진구 완전 조으다, 목소리가 좋으니 당연, 더빙 연기도 좋구, 아이들도 늠늠 좋아했어요~\t1\n",
            "8573279\t꿀잼 이예용 옥희의눈을통해 통속적일수있는내용이 순수하고 아름다운사랑이야기로 잘표현된거같아요\t1\n",
            "8569855\t여태 봤던 고수의 연기 중 제일 좋았던 작품인듯 싶습니다. 이 영화 정말 미친 이야기다..\t1\n",
            "9150312\t평점 조절위해 10점 내가봤을땐 6~7점 보다 아래로 준애들은 문학적 소양이 전혀 없는애들\t1\n",
            "10261582\t음악의 효과란 이런 것일까? 영화를 더 맛깔나게 만든다. 음식 영화를 가장한 성장이야기.\t1\n",
            "7132981\t왜이렇게 아이들에게 인기가 많은지 알것같더라구요. 영화가 너무 좋아서 보는내내 즐거웠씁니다\t1\n",
            "9694172\t일본을 좋아하지 않지만 영화로썬 평온하며 소중함을 느끼게해주는 따뜻한 영화 역시 최고입니다\t1\n",
            "9818542\t지금 누리고 있는 모든 것들이 북한 주민들에게는 꿈과 같은 것일수 있겠다는 생각이 듭니다.\t1\n",
            "7985061\t아장난함?ㅡㅡ 왜 2부작임?더해야지 이런드라마 너무이쁘고 좋다 더많들어라 뻔할뻔한드라마말고\t1\n",
            "9439650\t중국영화인데 진짜 우리를 위해서 만든것같다너무더럽다와 소름끼침그리고 그당시있던사람들좀안됐다\t1\n",
            "9484097\t공자관감독님! 역시..역시..한방 또 터드려주시네요ㅎㅎ꿀잼~~~담작품도 잘 부탁드립니닷!!\t1\n",
            "9369246\t월요일이 항상 기다려졌는데 끝난다니 너무 아쉽네요50부작인데 지루한적이 단 한번도 없었네요\t1\n",
            "7795346\t책을 읽은다음 책이재밌어서 영화도 봤는대 중간 내용이 좀 빠지는 느낌이들지만 재밌게본것같다\t1\n",
            "9414688\tㅎ 애들이랑 넘 재미나게 봤어요 하하호호하면서계속 웃음이 나면서가족애를 다시한번 느꼈답니다\t1\n",
            "8773165\t크레이지 뷰티풀 영화를 보는내내 제목선정을 너무 잘했네 라는 생각이 든다. 크레이지 뷰티풀\t1\n",
            "9957561\t그전에 보았던 쥬세페토르나토레, 앤니오모리꼬네 영화들과는 다른 스타일이지만 느낌만은 풍성함\t1\n",
            "9386009\t이런류 좋아한다. 산만하지 않고 잔잔한게 ost도 좋고...스토리도 긴장감있고 좋았음...\t1\n",
            "8092256\t솔직히 말하면 나 이거 일본가서도 보고 블루레이 사서도 봤지만아직까지 스토리 이해가 안간다\t1\n",
            "5342603\t디어 평양에 이어 내 가슴을 저리게한 영화, 한 가족의 이야기기에 더 몰입할 수 있는 시간\t1\n",
            "8834228\t눈물이 안가신다... 불혹을 앞두는 나인데도 기쁨과환희 그리고 반성의 마음이 앞을 가린다.\t1\n",
            "8649870\t이제것 본것중에 최고 삶에 활력소가되는 프로그램 대리만족 여행프로 보는족족 넘즐거워요^^♥\t1\n",
            "4955848\t이종격투기의 시원! '필립 리'와 '랄프 뮬러'와의 대결만으로도... 이 영화는 보석!!!\t1\n",
            "9169912\t소소하고 행복한 뮤지컬 영화! 갠적으로 맘마미아보다 더 재밌게봤어요 노래도 중독성 짜응!!\t1\n",
            "9853485\t음악, 서예, 검술 그리고 대의, 꾸며낸 이야기는 인간의 탐욕과 질투를 이야기 하기도 ..\t1\n",
            "9770609\t서영희...미치도록 연기를 잘하는 진정한 배우..!! 꼭 좋은 작품 다시 한번 해주세요!!\t1\n",
            "9346740\t송가연..애가 아직 어리긴 어리구나. 사리분간을 못하는거같은데 나중에 이불킥좀 하겠다..;\t1\n",
            "6899497\t별 기대없이 봤는데 와 진짜 치밀한 시나리오 대박. 연기자들 연기도 최상급. 당근 10점!\t1\n",
            "10137442\tost 정말 좋았다.. 중반쯤 좀 늘어지는데 그거빼면 꿀잼.. 왜 평점이 낮은지 이해불가\t1\n",
            "7926114\t21세기 일본 야쿠자 영화 중 최고. 배경도 없이 굉장히 길게 찍은 롱테이크가 인상적이다.\t1\n",
            "6769875\t여러분 제가 테드볼건데 재미없으면 돈낭비라서... 재미있나요? 재미있으면 답해주세요 제발요\t1\n",
            "10238615\t3류영화인줄 알고 봤는데 스토리가 너무 좋음!야하고 뭐고를 떠나서 내용에 몰입해서 보게됨\t1\n",
            "5587863\t그 시절,, '이게뭐야'하면서 보다가 잊을 수 없는 외화가 된 머나먼정글,,, 그립다...\t1\n",
            "5511961\t이거 2011년 2월에 개봉했는데 관객 1명. 그래서 수익이 딱 7000천원이래. 기사떳어\t1\n",
            "10136764\t영상미가 너무 아름답다 이 영화를 본지 시간이 꽤 지났는데도 아직도 선명하게 아름다웠다.\t1\n",
            "9479908\t뜨거운안녕을 감동깊게 봤는데 같은 감독의 영화라 보고싶은데 다시보기 할 데가 없는게 아쉽다\t1\n",
            "2540066\t영국 최고명배우들이 총출연... 심플리레드의 stars나올 때의 연기는 감동 그 자체...\t1\n",
            "8603301\t1편도 봤는데... 2편도 너무 재미있네요 ㅎ 아이들도 푹 빠져서, 집중! ㅎㅎ 강추에요~\t1\n",
            "8651674\t오랜만에 영화보면서 울었네요~^^마음이 따뜻해지는 영화!♥나를 돌아볼수 있었던 영화 ㅎ.ㅎ\t1\n",
            "9807617\t스토리 다 좋았는데 에릭은 좀... 그냥 이병헌이 자살하거나 그대로 죽는 결말이였다면...\t1\n",
            "9232835\t완전 재미있음오랜만에 드라마에 푹 빠져서 보내요볼 때마다 연민정때문에 빡치지만그래도 재밌음\t1\n",
            "10247562\t10년이 지나고 봐도 여운이 깊은 가슴을 울리는 영화.. 로빈 윌리암스 너무 보고 싶네요\t1\n",
            "10066419\t황정민의 연기는 몰입도가 쩌는듯. 지루하지 않게 봤다. 가족애가 중요한 포인트가 아닐까.\t1\n",
            "9973801\t전염병을 다룬 영화가 이렇게도 사실적이고 냉철하게 그려질 수 있을까..? 교과서적인 영화다\t1\n",
            "8220771\t무슨말이 필요있어...아버지가 검이랑 목걸이 집어던지고 안아줄때..참...부녀의 사랑이란.\t1\n",
            "9899410\t어떻게 된게 이 미친놈의 시리즈는 평점이 다 높냐 다크나이트 시리즈 평균 평점이 9.06임\t1\n",
            "8128698\t수련할떄랑 왕자랑 싸울떄 남자들이 놀리는데 그반응이 그렇게 귀여울수가없어... 사랑스럽다.\t1\n",
            "8319169\t내 인생 최고의 영화. 30년전에 들은 음악의 영화가 바로 이 영화였다니. 찬사를 보낸다.\t1\n",
            "8562884\t비현실적인 초능력이 아닌 다른 소재를 이용해 이끌어갔다면 엄청난 명작이 되었을지도 모른다.\t1\n",
            "8028221\t쏘우2까진가 보고 간만에 보니 왜이렇게 재밌지... 초집중해서 봤다. 정신이 번쩍 뜨인다.\t1\n",
            "8662437\t진짜재밌어요 해외영화 거의본적없지만 이렇게 안질리고 푹빠져본 영환데 왜7점대밖에 안되는거죠\t1\n",
            "7534286\t별점 10점도 아깝지 않습니다.어제 이동욱씨 열연에 감동했었는데 더 사랑받았으면 좋겠습니다\t1\n",
            "9989963\t와 재난영화중에서 제일명작이다 이때동안 재난영화보면서 이렇게 재밌는건 첨봤다 애들아 꼭봐라\t1\n",
            "9522451\t억지로 눈물 짜내지 않고 담담하게 담아내 더욱 먹먹한 영화삶에 대해 다시 생각해보게 합니다\t1\n",
            "9067456\t배우가 울지 않아도 관객을 울릴 수 있는 영화. 우리나라에도 이런 영화가 많이 나왔으면..\t1\n",
            "4899990\t좋은영화 였기에 아련한 추억으로 더욱 가슴에 남았던 영화!! 고맙습니다~ jjladam님.\t1\n",
            "9341808\t야밤에 몰입하면 본게 얼마만인지...한 가장으로써 리차드 기어의 역할 완전 몰입!!!초강추\t1\n",
            "8650212\t거짓말을 정당화하기 위해 살인을 멈출 수 없게 돼버린 리플리의 마지막 장면이 너무 슬펐다.\t1\n",
            "4911450\tI liked it. 한국인정서에는 좀 안맞을지도ps.로맨틱코메디를 보고싶은 사람에게는NO\t1\n",
            "8108739\t꼭 노인이 아니더라도 병수발 해본 사람들은 저기분 알지. 내가 알고있던 사람이 아니게됨..\t1\n",
            "8931909\t박해일 김혜수씨 뛰어난 연기력에 더 몰입해서봤네요...김혜수씨 마지막이..너무 가슴아파요ㅠ\t1\n",
            "7238745\t라이언 일병만 보지 말고 이런것도 봐라.. 이말 듣고 그 슬픈 라이언 일병 구하기를 탈출함\t1\n",
            "7785611\t어른들의 난장판 재밌네 ㅋㅋㅋ 자막으로 읽어서 원문 그대로의 느낌을 알수 없다는 게 아쉽다\t1\n",
            "8824182\t아이가 너무너무 조아해요 ㅋㅋㅋㅋ 또 보고싶다면 난리인지 ㅋㅋㅋㅋ한번 더 가야할듯싶어요~~\t1\n",
            "9235675\t이 영화를 보기 전까지 이 영화가 오락 액션영화인줄 알았다. 리들리스콧 감독님 죄송합니다.\t1\n",
            "8608674\t아이들과 함께 엄청 흥미진진하게 잘 봤습니다. 시간이 흐르는 것도 모를 정도로 재밌었어요!\t1\n",
            "9355756\t약간의 동심만 가지고 봐도 충분히 재미나고 매력적인 영화다! 박사님 정말 너무 좋음 ㅋㅋㅋ\t1\n",
            "8517662\t<아침극내손을잡아 > 월~금오전7시50분방송이오니,노치치마세요.많은시청바랍니다 제작진오림.\t1\n",
            "9019965\t특이한 보디가드 스토리가 눈을 사로잡는데, 홍콩영화 특유의 어설품이...살짝 눈에 거슬림.\t1\n",
            "7227966\t너무 재밋엇고 잘봣어요 할머니돌아가셔서 정말 슬프네요ㅠㅠㅠ 눈물 뚝뚝흘리면서 봣어요 ㅠㅠㅠ\t1\n",
            "8411864\t아니 짐캐리의 파트너 저 바보가 지금 그 유명한 뉴스룸의 제프다니엘스 였어?ㅋㅋㅋ대박ㅋㅋㅋ\t1\n",
            "8807131\t알지 못햇던 엄청난 영화엿다. 긴장감과 치밀한 각본, 러셀크러우의 완벽한 연기가 만난 영화\t1\n",
            "5348765\t1990년도 7월 28일에 대한극장에서 부모님과 여동생 4식구가 3시간 줄서서 결국 봤지.\t1\n",
            "9740924\t자신이 가난한게 모두 남탓이기 때문에 모두 죽어야한다는 생각을 가진 좌좀들이 좋아하는 영화\t1\n",
            "7559320\t내가 사랑하는 사람이 날 사랑하는 건 기적이다. 이 한마디가 깊게 남는다. 그래서 슬프다.\t1\n",
            "6679772\t1편도봣엇지만 이것도 괜찮앗어요ㅎ 내용은 좀 막장으로가도 노래가 소름돋아요 짱 잘하시는듯ㅎ\t1\n",
            "8610426\t좋았는데...연기력도 좋았고...원작 을 잘 살리면서도 동양정서에 맞게 잘 만든 영화였음.\t1\n",
            "8648273\t십점도아니지만 7점몇은 진짜아니기에 평점올릴려구 준다. 꽤 재미잇게 본영화인데 별점테런가?\t1\n",
            "10123241\t나에겐 믿고보는 소메타니 쇼타와 이쁜 스시녀들 아름다운 도쿄배경 그것만으로도 충분하다!!\t1\n",
            "10261865\t학교에서봣는데...와...걍감동...연기하는거 진짜조았다!!장애인 연기 진짜잘한거같다..\t1\n",
            "8613343\t무거운 소재를 밝고 경쾌하게 풀어내는게 굿굿. 간만에 재밌게 보고있어요ㅠㅠ흥해라 앙돌~~!\t1\n",
            "8494203\t보면볼수록 빠져드는 드라마다 로필 1~3까지 다너무 공감되고 재밋는듯 싱싱!!고구마!! ♥\t1\n",
            "9054121\t조선시대 영화중에 가장 재미있었던거 같은데..평점이 왜 낮은지 모르겠다. 10점 주고 간다\t1\n",
            "8363016\t정말 재미있었어요!제 나이가 애니메이션 볼 나이는 아니지만 진짜 재미있었어요 다시보고싶어요\t1\n",
            "6104505\t사는 이야기를 담담하게 담았네요 인생의 흔적이 묻어나는 40대, 현실에 맘 한켠이 아릿..\t1\n",
            "8200879\t와 대박... 진짜 영화 한편 본 느낌.... 연기자들도 한명한명 다 너무 잘 소화함...\t1\n",
            "9436570\t와...이거 진심 추억...완전 재미있었는데....테이프 너무 돌려봐서 테이프 버렷다...\t1\n"
          ]
        }
      ]
    },
    {
      "cell_type": "code",
      "source": [
        "document = data['document']"
      ],
      "metadata": {
        "id": "T7lpp0XIEpS1"
      },
      "execution_count": null,
      "outputs": []
    },
    {
      "cell_type": "code",
      "source": [
        "min_len = 999\n",
        "max_len = 0\n",
        "sum_len = 0\n",
        "\n",
        "for sen in document:\n",
        "    length = len(sen)\n",
        "    if min_len > length: min_len = length\n",
        "    if max_len < length: max_len = length\n",
        "    sum_len += length\n",
        "\n",
        "print(\"문장의 최단 길이:\", min_len)\n",
        "print(\"문장의 최장 길이:\", max_len)\n",
        "print(\"문장의 평균 길이:\", sum_len // len(document))\n",
        "\n",
        "train_length = np.zeros((max_len), dtype=np.int)\n",
        "\n",
        "for sen in document:   # 중복이 제거된 코퍼스 기준\n",
        "    train_length[len(sen)-1] += 1\n",
        "\n",
        "plt.bar(range(max_len), train_length, width=1.0)\n",
        "plt.title(\"Sentence Length Distribution\")\n",
        "plt.show()"
      ],
      "metadata": {
        "colab": {
          "base_uri": "https://localhost:8080/",
          "height": 412
        },
        "id": "VmI7dwZgFAri",
        "outputId": "3afaa741-c1e1-4af4-f8c5-a051dc3c563d"
      },
      "execution_count": null,
      "outputs": [
        {
          "output_type": "stream",
          "name": "stdout",
          "text": [
            "문장의 최단 길이: 1\n",
            "문장의 최장 길이: 142\n",
            "문장의 평균 길이: 35\n"
          ]
        },
        {
          "output_type": "stream",
          "name": "stderr",
          "text": [
            "/usr/local/lib/python3.7/dist-packages/ipykernel_launcher.py:15: DeprecationWarning: `np.int` is a deprecated alias for the builtin `int`. To silence this warning, use `int` by itself. Doing this will not modify any behavior and is safe. When replacing `np.int`, you may wish to use e.g. `np.int64` or `np.int32` to specify the precision. If you wish to review your current use, check the release note link for additional information.\n",
            "Deprecated in NumPy 1.20; for more details and guidance: https://numpy.org/devdocs/release/1.20.0-notes.html#deprecations\n",
            "  from ipykernel import kernelapp as app\n"
          ]
        },
        {
          "output_type": "display_data",
          "data": {
            "text/plain": [
              "<Figure size 432x288 with 1 Axes>"
            ],
            "image/png": "[encoded data removed]"
          },
          "metadata": {
            "needs_background": "light"
          }
        }
      ]
    },
    {
      "cell_type": "code",
      "source": [
        "def below_threshold_len(max_len, nested_list):\n",
        "    cnt = 0\n",
        "    for s in nested_list:\n",
        "        if(len(s) <= max_len):\n",
        "            cnt = cnt + 1\n",
        "    print('전체 샘플 중 길이가 %s 이하인 샘플의 비율: %s'%(max_len, (cnt / len(nested_list))*100))"
      ],
      "metadata": {
        "id": "HyV72iAISNde"
      },
      "execution_count": null,
      "outputs": []
    },
    {
      "cell_type": "code",
      "source": [
        "below_threshold_len(35, document)  # 평균\n",
        "below_threshold_len(80, document)  \n",
        "below_threshold_len(99, document) "
      ],
      "metadata": {
        "colab": {
          "base_uri": "https://localhost:8080/"
        },
        "id": "ioJoGYhoSPld",
        "outputId": "280b223a-7025-4c59-9464-afc335413b86"
      },
      "execution_count": null,
      "outputs": [
        {
          "output_type": "stream",
          "name": "stdout",
          "text": [
            "전체 샘플 중 길이가 35 이하인 샘플의 비율: 65.56262250490019\n",
            "전체 샘플 중 길이가 80 이하인 샘플의 비율: 91.09164366574663\n",
            "전체 샘플 중 길이가 99 이하인 샘플의 비율: 94.08976359054361\n"
          ]
        }
      ]
    },
    {
      "cell_type": "code",
      "source": [
        "max_len = 99\n",
        "min_len = 10\n",
        "\n",
        "# 길이 조건에 맞는 문장만 선택합니다.\n",
        "filtered_corpus = data[(data['document'].str.len() < max_len) & (data['document'].str.len() >= min_len)]\n",
        "\n",
        "# 분포도를 다시 그려봅니다.\n",
        "sentence_length = np.zeros((max_len), dtype=np.int)\n",
        "\n",
        "for sen in filtered_corpus['document']:\n",
        "    sentence_length[len(sen)-1] += 1\n",
        "\n",
        "plt.bar(range(max_len), sentence_length, width=1.0)\n",
        "plt.title(\"Sentence Length Distribution\")\n",
        "plt.show()"
      ],
      "metadata": {
        "colab": {
          "base_uri": "https://localhost:8080/",
          "height": 356
        },
        "id": "doSDciv-OXTx",
        "outputId": "f8b43147-a158-4b97-a2ea-aabf6c6a8e44"
      },
      "execution_count": null,
      "outputs": [
        {
          "output_type": "stream",
          "name": "stderr",
          "text": [
            "/usr/local/lib/python3.7/dist-packages/ipykernel_launcher.py:8: DeprecationWarning: `np.int` is a deprecated alias for the builtin `int`. To silence this warning, use `int` by itself. Doing this will not modify any behavior and is safe. When replacing `np.int`, you may wish to use e.g. `np.int64` or `np.int32` to specify the precision. If you wish to review your current use, check the release note link for additional information.\n",
            "Deprecated in NumPy 1.20; for more details and guidance: https://numpy.org/devdocs/release/1.20.0-notes.html#deprecations\n",
            "  \n"
          ]
        },
        {
          "output_type": "display_data",
          "data": {
            "text/plain": [
              "<Figure size 432x288 with 1 Axes>"
            ],
            "image/png": "[encoded data removed]"
          },
          "metadata": {
            "needs_background": "light"
          }
        }
      ]
    },
    {
      "cell_type": "markdown",
      "source": [
        "# 2. Sentencepiece Training\n",
        "\n",
        "- nsmc_spm --> vocab_size = 8000, model_type= unigram\n",
        "- nsmc_spm_2 --> vocab_size = 16000\n",
        "- nsmc_spm_3 --> vocab_size = 16000, model_type=bpe"
      ],
      "metadata": {
        "id": "NqUCDy51Ochz"
      }
    },
    {
      "cell_type": "code",
      "source": [
        "import sentencepiece as spm\n",
        "import pandas as pd\n",
        "\n",
        "nsmc_file = '/content/drive/MyDrive/nsmc/ratings.txt'\n",
        "\n",
        "vocab_size = 8000\n",
        "\n",
        "with open(nsmc_file, 'w') as f:\n",
        "    for row in filtered_corpus['document']:   # 이전 스텝에서 정제했던 corpus를 활용합니다.\n",
        "        f.write(str(row) + '\\n')\n",
        "\n",
        "#voacb_size=8000, model_type=unigram\n",
        "spm.SentencePieceTrainer.Train(\n",
        "    '--input={} --model_prefix=nsmc_spm --vocab_size={}'.format(nsmc_file, vocab_size)    \n",
        ")\n",
        "\n",
        "#vocab_Size=16000\n",
        "spm.SentencePieceTrainer.Train(\n",
        "    '--input={} --model_prefix=nsmc_spm_2 --vocab_size={}'.format(nsmc_file, vocab_size*2)    \n",
        ")\n",
        "\n",
        "#vocab_size=16000, model_type=bpe\n",
        "spm.SentencePieceTrainer.Train(\n",
        "    '--input={} --model_prefix=nsmc_spm_3 --model_type=bpe --vocab_size={}'.format(nsmc_file, vocab_size*2)    \n",
        ")"
      ],
      "metadata": {
        "id": "Vi3GLrqMOYmO"
      },
      "execution_count": null,
      "outputs": []
    },
    {
      "cell_type": "code",
      "source": [
        "!ls -l nsmc_spm*\n",
        "!ls -l nsmc_spm_2*\n",
        "!ls -l nsmc_spm_3*"
      ],
      "metadata": {
        "colab": {
          "base_uri": "https://localhost:8080/"
        },
        "id": "fWoRzJTMVvYx",
        "outputId": "b06abbc3-88d1-4d66-ab70-74719cbd8ff8"
      },
      "execution_count": null,
      "outputs": [
        {
          "output_type": "stream",
          "name": "stdout",
          "text": [
            "-rw-r--r-- 1 root root 534974 Jul 11 06:24 nsmc_spm_2.model\n",
            "-rw-r--r-- 1 root root 311695 Jul 11 06:24 nsmc_spm_2.vocab\n",
            "-rw-r--r-- 1 root root 524176 Jul 11 06:24 nsmc_spm_3.model\n",
            "-rw-r--r-- 1 root root 259406 Jul 11 06:24 nsmc_spm_3.vocab\n",
            "-rw-r--r-- 1 root root 375232 Jul 11 06:23 nsmc_spm.model\n",
            "-rw-r--r-- 1 root root 144694 Jul 11 06:23 nsmc_spm.vocab\n",
            "-rw-r--r-- 1 root root 534974 Jul 11 06:24 nsmc_spm_2.model\n",
            "-rw-r--r-- 1 root root 311695 Jul 11 06:24 nsmc_spm_2.vocab\n",
            "-rw-r--r-- 1 root root 524176 Jul 11 06:24 nsmc_spm_3.model\n",
            "-rw-r--r-- 1 root root 259406 Jul 11 06:24 nsmc_spm_3.vocab\n"
          ]
        }
      ]
    },
    {
      "cell_type": "markdown",
      "source": [
        "### 우선적으로 nsmc_spm 기본모델 확인"
      ],
      "metadata": {
        "id": "cG4TIvoaw_a8"
      }
    },
    {
      "cell_type": "code",
      "source": [
        "s = spm.SentencePieceProcessor()\n",
        "s.Load('nsmc_spm.model')"
      ],
      "metadata": {
        "colab": {
          "base_uri": "https://localhost:8080/"
        },
        "id": "e_nXLriNPF1x",
        "outputId": "87039268-2fa3-477c-c0d8-83784fbbe6f3"
      },
      "execution_count": null,
      "outputs": [
        {
          "output_type": "execute_result",
          "data": {
            "text/plain": [
              "True"
            ]
          },
          "metadata": {},
          "execution_count": 19
        }
      ]
    },
    {
      "cell_type": "code",
      "source": [
        "import csv\n",
        "vocab_list = pd.read_csv('nsmc_spm.vocab', sep='\\t', header=None, quoting=csv.QUOTE_NONE)\n",
        "vocab_list.sample(10)"
      ],
      "metadata": {
        "colab": {
          "base_uri": "https://localhost:8080/",
          "height": 363
        },
        "id": "K0vAfS6uPHfN",
        "outputId": "b525d01c-44a5-4ea5-d7b1-9e36cce37ba8"
      },
      "execution_count": null,
      "outputs": [
        {
          "output_type": "execute_result",
          "data": {
            "text/plain": [
              "          0         1\n",
              "4279   ▁남자의 -10.16830\n",
              "4949     멋있 -10.33750\n",
              "4819  ▁아이들과 -10.30610\n",
              "5747     갈때 -10.54640\n",
              "5064  ▁재밌었던 -10.37000\n",
              "2659      ᄀ  -9.64308\n",
              "6167    ▁뻔뻔 -10.66230\n",
              "3184    ▁젊은  -9.82880\n",
              "856      작품  -8.55119\n",
              "6020   ▁멋있고 -10.61930"
            ],
            "text/html": [
              "\n",
              "  <div id=\"df-ff3318b4-6535-4c58-80ad-a6067857fce1\">\n",
              "    <div class=\"colab-df-container\">\n",
              "      <div>\n",
              "<style scoped>\n",
              "    .dataframe tbody tr th:only-of-type {\n",
              "        vertical-align: middle;\n",
              "    }\n",
              "\n",
              "    .dataframe tbody tr th {\n",
              "        vertical-align: top;\n",
              "    }\n",
              "\n",
              "    .dataframe thead th {\n",
              "        text-align: right;\n",
              "    }\n",
              "</style>\n",
              "<table border=\"1\" class=\"dataframe\">\n",
              "  <thead>\n",
              "    <tr style=\"text-align: right;\">\n",
              "      <th></th>\n",
              "      <th>0</th>\n",
              "      <th>1</th>\n",
              "    </tr>\n",
              "  </thead>\n",
              "  <tbody>\n",
              "    <tr>\n",
              "      <th>4279</th>\n",
              "      <td>▁남자의</td>\n",
              "      <td>-10.16830</td>\n",
              "    </tr>\n",
              "    <tr>\n",
              "      <th>4949</th>\n",
              "      <td>멋있</td>\n",
              "      <td>-10.33750</td>\n",
              "    </tr>\n",
              "    <tr>\n",
              "      <th>4819</th>\n",
              "      <td>▁아이들과</td>\n",
              "      <td>-10.30610</td>\n",
              "    </tr>\n",
              "    <tr>\n",
              "      <th>5747</th>\n",
              "      <td>갈때</td>\n",
              "      <td>-10.54640</td>\n",
              "    </tr>\n",
              "    <tr>\n",
              "      <th>5064</th>\n",
              "      <td>▁재밌었던</td>\n",
              "      <td>-10.37000</td>\n",
              "    </tr>\n",
              "    <tr>\n",
              "      <th>2659</th>\n",
              "      <td>ᄀ</td>\n",
              "      <td>-9.64308</td>\n",
              "    </tr>\n",
              "    <tr>\n",
              "      <th>6167</th>\n",
              "      <td>▁뻔뻔</td>\n",
              "      <td>-10.66230</td>\n",
              "    </tr>\n",
              "    <tr>\n",
              "      <th>3184</th>\n",
              "      <td>▁젊은</td>\n",
              "      <td>-9.82880</td>\n",
              "    </tr>\n",
              "    <tr>\n",
              "      <th>856</th>\n",
              "      <td>작품</td>\n",
              "      <td>-8.55119</td>\n",
              "    </tr>\n",
              "    <tr>\n",
              "      <th>6020</th>\n",
              "      <td>▁멋있고</td>\n",
              "      <td>-10.61930</td>\n",
              "    </tr>\n",
              "  </tbody>\n",
              "</table>\n",
              "</div>\n",
              "      <button class=\"colab-df-convert\" onclick=\"convertToInteractive('df-ff3318b4-6535-4c58-80ad-a6067857fce1')\"\n",
              "              title=\"Convert this dataframe to an interactive table.\"\n",
              "              style=\"display:none;\">\n",
              "        \n",
              "  <svg xmlns=\"http://www.w3.org/2000/svg\" height=\"24px\"viewBox=\"0 0 24 24\"\n",
              "       width=\"24px\">\n",
              "    <path d=\"M0 0h24v24H0V0z\" fill=\"none\"/>\n",
              "    <path d=\"M18.56 5.44l.94 2.06.94-2.06 2.06-.94-2.06-.94-.94-2.06-.94 2.06-2.06.94zm-11 1L8.5 8.5l.94-2.06 2.06-.94-2.06-.94L8.5 2.5l-.94 2.06-2.06.94zm10 10l.94 2.06.94-2.06 2.06-.94-2.06-.94-.94-2.06-.94 2.06-2.06.94z\"/><path d=\"M17.41 7.96l-1.37-1.37c-.4-.4-.92-.59-1.43-.59-.52 0-1.04.2-1.43.59L10.3 9.45l-7.72 7.72c-.78.78-.78 2.05 0 2.83L4 21.41c.39.39.9.59 1.41.59.51 0 1.02-.2 1.41-.59l7.78-7.78 2.81-2.81c.8-.78.8-2.07 0-2.86zM5.41 20L4 18.59l7.72-7.72 1.47 1.35L5.41 20z\"/>\n",
              "  </svg>\n",
              "      </button>\n",
              "      \n",
              "  <style>\n",
              "    .colab-df-container {\n",
              "      display:flex;\n",
              "      flex-wrap:wrap;\n",
              "      gap: 12px;\n",
              "    }\n",
              "\n",
              "    .colab-df-convert {\n",
              "      background-color: #E8F0FE;\n",
              "      border: none;\n",
              "      border-radius: 50%;\n",
              "      cursor: pointer;\n",
              "      display: none;\n",
              "      fill: #1967D2;\n",
              "      height: 32px;\n",
              "      padding: 0 0 0 0;\n",
              "      width: 32px;\n",
              "    }\n",
              "\n",
              "    .colab-df-convert:hover {\n",
              "      background-color: #E2EBFA;\n",
              "      box-shadow: 0px 1px 2px rgba(60, 64, 67, 0.3), 0px 1px 3px 1px rgba(60, 64, 67, 0.15);\n",
              "      fill: #174EA6;\n",
              "    }\n",
              "\n",
              "    [theme=dark] .colab-df-convert {\n",
              "      background-color: #3B4455;\n",
              "      fill: #D2E3FC;\n",
              "    }\n",
              "\n",
              "    [theme=dark] .colab-df-convert:hover {\n",
              "      background-color: #434B5C;\n",
              "      box-shadow: 0px 1px 3px 1px rgba(0, 0, 0, 0.15);\n",
              "      filter: drop-shadow(0px 1px 2px rgba(0, 0, 0, 0.3));\n",
              "      fill: #FFFFFF;\n",
              "    }\n",
              "  </style>\n",
              "\n",
              "      <script>\n",
              "        const buttonEl =\n",
              "          document.querySelector('#df-ff3318b4-6535-4c58-80ad-a6067857fce1 button.colab-df-convert');\n",
              "        buttonEl.style.display =\n",
              "          google.colab.kernel.accessAllowed ? 'block' : 'none';\n",
              "\n",
              "        async function convertToInteractive(key) {\n",
              "          const element = document.querySelector('#df-ff3318b4-6535-4c58-80ad-a6067857fce1');\n",
              "          const dataTable =\n",
              "            await google.colab.kernel.invokeFunction('convertToInteractive',\n",
              "                                                     [key], {});\n",
              "          if (!dataTable) return;\n",
              "\n",
              "          const docLinkHtml = 'Like what you see? Visit the ' +\n",
              "            '<a target=\"_blank\" href=https://colab.research.google.com/notebooks/data_table.ipynb>data table notebook</a>'\n",
              "            + ' to learn more about interactive tables.';\n",
              "          element.innerHTML = '';\n",
              "          dataTable['output_type'] = 'display_data';\n",
              "          await google.colab.output.renderOutput(dataTable, element);\n",
              "          const docLink = document.createElement('div');\n",
              "          docLink.innerHTML = docLinkHtml;\n",
              "          element.appendChild(docLink);\n",
              "        }\n",
              "      </script>\n",
              "    </div>\n",
              "  </div>\n",
              "  "
            ]
          },
          "metadata": {},
          "execution_count": 20
        }
      ]
    },
    {
      "cell_type": "markdown",
      "source": [
        "### 단어집합의 크기 확인"
      ],
      "metadata": {
        "id": "danH1HdOxMhK"
      }
    },
    {
      "cell_type": "code",
      "source": [
        "len(vocab_list)"
      ],
      "metadata": {
        "colab": {
          "base_uri": "https://localhost:8080/"
        },
        "id": "aSxXuSqpPJiw",
        "outputId": "74881da0-6a10-46c2-ba08-5dda9948f490"
      },
      "execution_count": null,
      "outputs": [
        {
          "output_type": "execute_result",
          "data": {
            "text/plain": [
              "8000"
            ]
          },
          "metadata": {},
          "execution_count": 21
        }
      ]
    },
    {
      "cell_type": "code",
      "source": [
        "s.GetPieceSize()"
      ],
      "metadata": {
        "colab": {
          "base_uri": "https://localhost:8080/"
        },
        "id": "-DW9wf6mPL0n",
        "outputId": "78df193c-c19c-4995-cb28-5e28f0d8f993"
      },
      "execution_count": null,
      "outputs": [
        {
          "output_type": "execute_result",
          "data": {
            "text/plain": [
              "8000"
            ]
          },
          "metadata": {},
          "execution_count": 22
        }
      ]
    },
    {
      "cell_type": "markdown",
      "source": [
        "### 서브워드로부터 맵핑되는 정수"
      ],
      "metadata": {
        "id": "rkVyOz0txQtp"
      }
    },
    {
      "cell_type": "code",
      "source": [
        "s.PieceToId('▁흥미로웠')"
      ],
      "metadata": {
        "colab": {
          "base_uri": "https://localhost:8080/"
        },
        "id": "EY_A0MRWPNvx",
        "outputId": "1dbd9ad2-846b-4f3d-e99d-1de0d48558c8"
      },
      "execution_count": null,
      "outputs": [
        {
          "output_type": "execute_result",
          "data": {
            "text/plain": [
              "6240"
            ]
          },
          "metadata": {},
          "execution_count": 23
        }
      ]
    },
    {
      "cell_type": "markdown",
      "source": [
        "### Sentecncepiece encode"
      ],
      "metadata": {
        "id": "W2OZJwbZw7DZ"
      }
    },
    {
      "cell_type": "code",
      "source": [
        "print(s.encode('흠...포스터보고 초딩영화줄....오버연기조차 가볍지 않구나', out_type=str))\n",
        "print(s.encode('흠...포스터보고 초딩영화줄....오버연기조차 가볍지 않구나', out_type=int))"
      ],
      "metadata": {
        "colab": {
          "base_uri": "https://localhost:8080/"
        },
        "id": "9l4-LNPpPPFg",
        "outputId": "8339f961-3fe9-40f9-c3ee-24b378affb38"
      },
      "execution_count": null,
      "outputs": [
        {
          "output_type": "stream",
          "name": "stdout",
          "text": [
            "['▁흠', '...', '포스터', '보고', '▁초딩', '영화', '줄', '....', '오', '버', '연기', '조차', '▁가볍', '지', '▁않', '구나']\n",
            "[1619, 8, 4539, 158, 1314, 32, 250, 50, 168, 467, 370, 1487, 4898, 19, 719, 485]\n"
          ]
        }
      ]
    },
    {
      "cell_type": "code",
      "source": [
        "with open('./nsmc_spm.vocab', encoding='utf-8') as f:\n",
        "    Vo = [doc.strip().split(\"\\t\") for doc in f]\n",
        "\n",
        "word2idx = {w[0]: i for i, w in enumerate(Vo)}"
      ],
      "metadata": {
        "id": "0dSP_k35PQRc"
      },
      "execution_count": null,
      "outputs": []
    },
    {
      "cell_type": "code",
      "source": [
        "word2idx"
      ],
      "metadata": {
        "colab": {
          "base_uri": "https://localhost:8080/"
        },
        "id": "-k9H4Ic0Pt8p",
        "outputId": "791b9295-49a7-4464-80b6-94d8faf50bac"
      },
      "execution_count": null,
      "outputs": [
        {
          "output_type": "execute_result",
          "data": {
            "text/plain": [
              "{'<unk>': 0,\n",
              " '<s>': 1,\n",
              " '</s>': 2,\n",
              " '▁': 3,\n",
              " '.': 4,\n",
              " '..': 5,\n",
              " '이': 6,\n",
              " '▁영화': 7,\n",
              " '...': 8,\n",
              " '가': 9,\n",
              " '의': 10,\n",
              " '도': 11,\n",
              " '는': 12,\n",
              " ',': 13,\n",
              " '을': 14,\n",
              " '에': 15,\n",
              " '고': 16,\n",
              " '다': 17,\n",
              " '은': 18,\n",
              " '지': 19,\n",
              " '?': 20,\n",
              " '한': 21,\n",
              " '▁너무': 22,\n",
              " '!': 23,\n",
              " '를': 24,\n",
              " '▁정말': 25,\n",
              " '만': 26,\n",
              " '▁이': 27,\n",
              " '로': 28,\n",
              " '▁진짜': 29,\n",
              " '나': 30,\n",
              " '게': 31,\n",
              " '영화': 32,\n",
              " '~': 33,\n",
              " '과': 34,\n",
              " '기': 35,\n",
              " '어': 36,\n",
              " '라': 37,\n",
              " '리': 38,\n",
              " '점': 39,\n",
              " '네': 40,\n",
              " '서': 41,\n",
              " '인': 42,\n",
              " '하고': 43,\n",
              " '아': 44,\n",
              " '▁안': 45,\n",
              " '으로': 46,\n",
              " '▁잘': 47,\n",
              " '!!': 48,\n",
              " '요': 49,\n",
              " '....': 50,\n",
              " '▁1': 51,\n",
              " '▁왜': 52,\n",
              " '에서': 53,\n",
              " '와': 54,\n",
              " '들': 55,\n",
              " '▁그': 56,\n",
              " '▁이런': 57,\n",
              " '▁아': 58,\n",
              " '▁더': 59,\n",
              " '▁다': 60,\n",
              " '해': 61,\n",
              " '▁수': 62,\n",
              " '네요': 63,\n",
              " '스': 64,\n",
              " '거': 65,\n",
              " '하는': 66,\n",
              " '자': 67,\n",
              " '▁그냥': 68,\n",
              " '▁본': 69,\n",
              " '▁드라마': 70,\n",
              " '음': 71,\n",
              " '면': 72,\n",
              " '▁10': 73,\n",
              " '수': 74,\n",
              " '하': 75,\n",
              " '시': 76,\n",
              " '지만': 77,\n",
              " '야': 78,\n",
              " '니': 79,\n",
              " '대': 80,\n",
              " '▁보고': 81,\n",
              " '함': 82,\n",
              " '▁평점': 83,\n",
              " '▁연기': 84,\n",
              " '사': 85,\n",
              " '▁내': 86,\n",
              " '▁한': 87,\n",
              " '하다': 88,\n",
              " '▁좀': 89,\n",
              " '일': 90,\n",
              " '하게': 91,\n",
              " '이다': 92,\n",
              " '▁영화를': 93,\n",
              " '▁봤는데': 94,\n",
              " '진': 95,\n",
              " '우': 96,\n",
              " '▁이거': 97,\n",
              " '▁ᄏᄏ': 98,\n",
              " '▁최고의': 99,\n",
              " '▁최고': 100,\n",
              " '데': 101,\n",
              " '여': 102,\n",
              " '드': 103,\n",
              " '▁참': 104,\n",
              " '▁쓰레기': 105,\n",
              " '주': 106,\n",
              " '▁없는': 107,\n",
              " '보다': 108,\n",
              " '미': 109,\n",
              " '▁못': 110,\n",
              " '구': 111,\n",
              " '는데': 112,\n",
              " '▁완전': 113,\n",
              " '임': 114,\n",
              " '안': 115,\n",
              " '▁내가': 116,\n",
              " '▁없다': 117,\n",
              " '!!!': 118,\n",
              " '냐': 119,\n",
              " 'ᄏᄏ': 120,\n",
              " '▁스토리': 121,\n",
              " '▁영화는': 122,\n",
              " '▁이건': 123,\n",
              " '할': 124,\n",
              " '보': 125,\n",
              " '▁2': 126,\n",
              " '▁영화가': 127,\n",
              " '▁개': 128,\n",
              " '정': 129,\n",
              " '듯': 130,\n",
              " '들이': 131,\n",
              " '▁나': 132,\n",
              " '성': 133,\n",
              " '▁이게': 134,\n",
              " '▁있는': 135,\n",
              " '▁좋은': 136,\n",
              " '신': 137,\n",
              " '상': 138,\n",
              " '▁다시': 139,\n",
              " '해서': 140,\n",
              " '▁이렇게': 141,\n",
              " '장': 142,\n",
              " '까지': 143,\n",
              " '던': 144,\n",
              " '적': 145,\n",
              " '▁보는': 146,\n",
              " '^^': 147,\n",
              " '부': 148,\n",
              " '마': 149,\n",
              " '▁난': 150,\n",
              " '▁것': 151,\n",
              " '▁평점이': 152,\n",
              " '치': 153,\n",
              " '~~': 154,\n",
              " '전': 155,\n",
              " '중': 156,\n",
              " '▁3': 157,\n",
              " '보고': 158,\n",
              " '▁재밌게': 159,\n",
              " 'ᄏ': 160,\n",
              " '개': 161,\n",
              " '건': 162,\n",
              " '려': 163,\n",
              " '트': 164,\n",
              " '랑': 165,\n",
              " '때': 166,\n",
              " '1': 167,\n",
              " '오': 168,\n",
              " '러': 169,\n",
              " '▁말': 170,\n",
              " '▁지': 171,\n",
              " '▁역시': 172,\n",
              " '질': 173,\n",
              " '화': 174,\n",
              " ';;': 175,\n",
              " '▁뭐': 176,\n",
              " '▁보': 177,\n",
              " '히': 178,\n",
              " '▁작품': 179,\n",
              " '▁많이': 180,\n",
              " '▁넘': 181,\n",
              " '▁볼': 182,\n",
              " '년': 183,\n",
              " '분': 184,\n",
              " '그': 185,\n",
              " '원': 186,\n",
              " '▁전': 187,\n",
              " '용': 188,\n",
              " '세': 189,\n",
              " '인데': 190,\n",
              " '비': 191,\n",
              " '▁오': 192,\n",
              " '??': 193,\n",
              " '내': 194,\n",
              " '2': 195,\n",
              " '▁또': 196,\n",
              " '▁저': 197,\n",
              " '적인': 198,\n",
              " '▁재미': 199,\n",
              " '▁하': 200,\n",
              " '▁감동': 201,\n",
              " '▁마지막': 202,\n",
              " '물': 203,\n",
              " '소': 204,\n",
              " '▁무': 205,\n",
              " '▁아깝다': 206,\n",
              " '▁꼭': 207,\n",
              " '했다': 208,\n",
              " '▁별로': 209,\n",
              " '▁하나': 210,\n",
              " '▁ᄏᄏᄏ': 211,\n",
              " '▁별': 212,\n",
              " '진짜': 213,\n",
              " '선': 214,\n",
              " '▁감독': 215,\n",
              " '같은': 216,\n",
              " '급': 217,\n",
              " '감': 218,\n",
              " '▁생각': 219,\n",
              " '것': 220,\n",
              " '▁액션': 221,\n",
              " '▁시간': 222,\n",
              " '식': 223,\n",
              " '하지': 224,\n",
              " '▁기대': 225,\n",
              " 'ᅲᅲ': 226,\n",
              " '라고': 227,\n",
              " '▁주': 228,\n",
              " '제': 229,\n",
              " '▁하는': 230,\n",
              " '습니다': 231,\n",
              " '말': 232,\n",
              " '▁가장': 233,\n",
              " '▁없고': 234,\n",
              " 'ᄏᄏᄏ': 235,\n",
              " '▁명작': 236,\n",
              " '동': 237,\n",
              " '본': 238,\n",
              " '▁사': 239,\n",
              " '▁이야기': 240,\n",
              " '무': 241,\n",
              " '▁그리고': 242,\n",
              " \"'\": 243,\n",
              " '입니다': 244,\n",
              " '▁지금': 245,\n",
              " '더': 246,\n",
              " '너무': 247,\n",
              " '걸': 248,\n",
              " '▁정': 249,\n",
              " '줄': 250,\n",
              " '어요': 251,\n",
              " '란': 252,\n",
              " '▁보면': 253,\n",
              " '▁김': 254,\n",
              " '편': 255,\n",
              " ';': 256,\n",
              " '▁무슨': 257,\n",
              " '호': 258,\n",
              " '드라마': 259,\n",
              " '▁사랑': 260,\n",
              " '영': 261,\n",
              " '▁ᅲᅲ': 262,\n",
              " '▁한국': 263,\n",
              " '좀': 264,\n",
              " '▁중': 265,\n",
              " '▁만든': 266,\n",
              " '▁아니': 267,\n",
              " '유': 268,\n",
              " '으면': 269,\n",
              " '군': 270,\n",
              " '▁마': 271,\n",
              " '씨': 272,\n",
              " '당': 273,\n",
              " '조': 274,\n",
              " '작': 275,\n",
              " '▁비': 276,\n",
              " '없는': 277,\n",
              " '디': 278,\n",
              " '▁다른': 279,\n",
              " '이나': 280,\n",
              " '긴': 281,\n",
              " '▁할': 282,\n",
              " '▁처음': 283,\n",
              " '부터': 284,\n",
              " '▁ᄏ': 285,\n",
              " '울': 286,\n",
              " '남': 287,\n",
              " 'ᅲ': 288,\n",
              " ')': 289,\n",
              " '▁어': 290,\n",
              " '▁배우': 291,\n",
              " '▁ᅳᅳ': 292,\n",
              " '▁조': 293,\n",
              " '된': 294,\n",
              " '▁말이': 295,\n",
              " '심': 296,\n",
              " '정말': 297,\n",
              " '린': 298,\n",
              " '3': 299,\n",
              " '▁대': 300,\n",
              " '▁자': 301,\n",
              " '에게': 302,\n",
              " '▁일본': 303,\n",
              " '모': 304,\n",
              " '연': 305,\n",
              " '▁와': 306,\n",
              " '▁느낌': 307,\n",
              " '워': 308,\n",
              " '▁좋아': 309,\n",
              " '▁연출': 310,\n",
              " '운': 311,\n",
              " '▁영화다': 312,\n",
              " '르': 313,\n",
              " '▁끝까지': 314,\n",
              " '▁짱': 315,\n",
              " '타': 316,\n",
              " '라는': 317,\n",
              " '생': 318,\n",
              " '▁기': 319,\n",
              " '▁일': 320,\n",
              " '▁미': 321,\n",
              " '바': 322,\n",
              " '있는': 323,\n",
              " '▁두': 324,\n",
              " '크': 325,\n",
              " '▁유': 326,\n",
              " '위': 327,\n",
              " '한다': 328,\n",
              " '두': 329,\n",
              " '▁돈': 330,\n",
              " '래': 331,\n",
              " '▁내용': 332,\n",
              " '▁좋다': 333,\n",
              " '간': 334,\n",
              " '명': 335,\n",
              " '레': 336,\n",
              " '준': 337,\n",
              " '노': 338,\n",
              " '▁있다': 339,\n",
              " '▁같은': 340,\n",
              " '▁봐도': 341,\n",
              " ',,': 342,\n",
              " 'ᅳᅳ': 343,\n",
              " '인지': 344,\n",
              " '인가': 345,\n",
              " '잘': 346,\n",
              " '살': 347,\n",
              " '▁거': 348,\n",
              " '류': 349,\n",
              " '▁알': 350,\n",
              " '▁솔직히': 351,\n",
              " '들의': 352,\n",
              " '▁봤다': 353,\n",
              " '▁ᄒᄒ': 354,\n",
              " '난': 355,\n",
              " '▁때': 356,\n",
              " '▁여자': 357,\n",
              " '▁뭔가': 358,\n",
              " '프': 359,\n",
              " '하나': 360,\n",
              " '길': 361,\n",
              " '판': 362,\n",
              " '경': 363,\n",
              " '단': 364,\n",
              " '▁재미있게': 365,\n",
              " '루': 366,\n",
              " '죠': 367,\n",
              " '▁애': 368,\n",
              " '▁재밌다': 369,\n",
              " '연기': 370,\n",
              " '▁신': 371,\n",
              " '▁시': 372,\n",
              " '민': 373,\n",
              " '▁이걸': 374,\n",
              " '▁코미디': 375,\n",
              " '▁해': 376,\n",
              " '▁아주': 377,\n",
              " '으': 378,\n",
              " '발': 379,\n",
              " '▁최악': 380,\n",
              " '▁구': 381,\n",
              " '번': 382,\n",
              " \"▁'\": 383,\n",
              " '하지만': 384,\n",
              " '저': 385,\n",
              " '합니다': 386,\n",
              " '▁소': 387,\n",
              " '처럼': 388,\n",
              " '▁제': 389,\n",
              " '▁같다': 390,\n",
              " '겨': 391,\n",
              " '재': 392,\n",
              " '때문에': 393,\n",
              " '봤는데': 394,\n",
              " '▁전혀': 395,\n",
              " '었다': 396,\n",
              " '▁이영화': 397,\n",
              " '▁장': 398,\n",
              " '▁하지만': 399,\n",
              " '되는': 400,\n",
              " '림': 401,\n",
              " '▁내용이': 402,\n",
              " '방': 403,\n",
              " '했던': 404,\n",
              " '▁후': 405,\n",
              " '▁남': 406,\n",
              " '엔': 407,\n",
              " '이랑': 408,\n",
              " '▁대한': 409,\n",
              " '▁계속': 410,\n",
              " '▁모두': 411,\n",
              " '날': 412,\n",
              " '▁최악의': 413,\n",
              " '-': 414,\n",
              " '티': 415,\n",
              " '▁사람': 416,\n",
              " '▁줄': 417,\n",
              " '님': 418,\n",
              " '▁재미없다': 419,\n",
              " '▁부': 420,\n",
              " '파': 421,\n",
              " '하면': 422,\n",
              " '▁스': 423,\n",
              " '하네': 424,\n",
              " '▁모': 425,\n",
              " '든': 426,\n",
              " '▁나오는': 427,\n",
              " '지는': 428,\n",
              " '(': 429,\n",
              " '▁4': 430,\n",
              " '희': 431,\n",
              " '▁많은': 432,\n",
              " '▁그래도': 433,\n",
              " '면서': 434,\n",
              " '▁아니라': 435,\n",
              " '▁반': 436,\n",
              " '▁대박': 437,\n",
              " '시간': 438,\n",
              " '터': 439,\n",
              " '며': 440,\n",
              " '▁강': 441,\n",
              " '▁만들어': 442,\n",
              " '▁보기': 443,\n",
              " '▁한번': 444,\n",
              " '▁우': 445,\n",
              " '▁어떻게': 446,\n",
              " '관': 447,\n",
              " '▁아닌': 448,\n",
              " '키': 449,\n",
              " '▁않고': 450,\n",
              " '▁내내': 451,\n",
              " '~~~': 452,\n",
              " '피': 453,\n",
              " '박': 454,\n",
              " '없다': 455,\n",
              " '까': 456,\n",
              " '▁7': 457,\n",
              " '▁배우들': 458,\n",
              " '▁딱': 459,\n",
              " '▁공포': 460,\n",
              " '▁되': 461,\n",
              " '점도': 462,\n",
              " '10': 463,\n",
              " '들은': 464,\n",
              " '▁장면': 465,\n",
              " '이라': 466,\n",
              " '버': 467,\n",
              " '▁만드는': 468,\n",
              " '▁연기가': 469,\n",
              " '▁우리': 470,\n",
              " '!!!!': 471,\n",
              " '▁실망': 472,\n",
              " '▁이제': 473,\n",
              " '▁인생': 474,\n",
              " '▁5': 475,\n",
              " '차': 476,\n",
              " '국': 477,\n",
              " '▁아름다운': 478,\n",
              " 'o': 479,\n",
              " '따': 480,\n",
              " '▁아니다': 481,\n",
              " '다니': 482,\n",
              " '▁추천': 483,\n",
              " '▁박': 484,\n",
              " '구나': 485,\n",
              " '4': 486,\n",
              " '겠다': 487,\n",
              " '▁모든': 488,\n",
              " '애': 489,\n",
              " '▁건': 490,\n",
              " '▁조금': 491,\n",
              " '▁8': 492,\n",
              " '▁제일': 493,\n",
              " '없이': 494,\n",
              " '카': 495,\n",
              " '점이': 496,\n",
              " '형': 497,\n",
              " 'ᄒᄒ': 498,\n",
              " '▁남자': 499,\n",
              " '실': 500,\n",
              " '▁듯': 501,\n",
              " '반': 502,\n",
              " '▁전개': 503,\n",
              " '▁연기도': 504,\n",
              " '▁끝': 505,\n",
              " '▁개봉': 506,\n",
              " '▁내용도': 507,\n",
              " '되': 508,\n",
              " '못': 509,\n",
              " '볼': 510,\n",
              " '▁스릴러': 511,\n",
              " '▁9': 512,\n",
              " '▁요즘': 513,\n",
              " '현': 514,\n",
              " '▁그런': 515,\n",
              " '▁굿': 516,\n",
              " '▁보다가': 517,\n",
              " '달': 518,\n",
              " '▁남는': 519,\n",
              " '즈': 520,\n",
              " '지도': 521,\n",
              " '▁보다': 522,\n",
              " '▁않는': 523,\n",
              " '▁불': 524,\n",
              " '보면': 525,\n",
              " '▁바': 526,\n",
              " '5': 527,\n",
              " '문': 528,\n",
              " '년대': 529,\n",
              " '▁근데': 530,\n",
              " '▁피': 531,\n",
              " '코': 532,\n",
              " '▁않은': 533,\n",
              " '▁기억': 534,\n",
              " '▁0': 535,\n",
              " '적으로': 536,\n",
              " '▁이해': 537,\n",
              " '▁시간이': 538,\n",
              " '다가': 539,\n",
              " '망': 540,\n",
              " '▁아까운': 541,\n",
              " '한테': 542,\n",
              " '▁애니': 543,\n",
              " '▁주인공': 544,\n",
              " '▁나는': 545,\n",
              " '▁음악': 546,\n",
              " '▁재미도': 547,\n",
              " '▁이상': 548,\n",
              " '♥': 549,\n",
              " '▁감독이': 550,\n",
              " '▁노': 551,\n",
              " 't': 552,\n",
              " '하네요': 553,\n",
              " '▁아직도': 554,\n",
              " '생각': 555,\n",
              " 'ᄒ': 556,\n",
              " '▁속': 557,\n",
              " '▁욕': 558,\n",
              " '▁수준': 559,\n",
              " '보는': 560,\n",
              " 'ᅳ': 561,\n",
              " '체': 562,\n",
              " '▁여운이': 563,\n",
              " '공': 564,\n",
              " '왜': 565,\n",
              " '\"': 566,\n",
              " '▁영화라고': 567,\n",
              " '▁반전': 568,\n",
              " '이라는': 569,\n",
              " '▁절대': 570,\n",
              " '니까': 571,\n",
              " '이란': 572,\n",
              " '▁눈': 573,\n",
              " '▁싶다': 574,\n",
              " '▁좋고': 575,\n",
              " '▁엄청': 576,\n",
              " '▁때문에': 577,\n",
              " '인듯': 578,\n",
              " '▁스토리가': 579,\n",
              " '▁울': 580,\n",
              " '▁날': 581,\n",
              " '▁나름': 582,\n",
              " '▁OO': 583,\n",
              " '어서': 584,\n",
              " '석': 585,\n",
              " '알': 586,\n",
              " '▁오랜만에': 587,\n",
              " '짱': 588,\n",
              " '산': 589,\n",
              " '▁걸': 590,\n",
              " '져': 591,\n",
              " '▁배': 592,\n",
              " '정도': 593,\n",
              " '▁영화입니다': 594,\n",
              " '▁있': 595,\n",
              " '▁되는': 596,\n",
              " '▁막장': 597,\n",
              " ';;;': 598,\n",
              " '▁현실': 599,\n",
              " '배': 600,\n",
              " '▁ᄏᄏᄏᄏ': 601,\n",
              " '???': 602,\n",
              " '▁봤': 603,\n",
              " 'e': 604,\n",
              " '▁멋진': 605,\n",
              " '▁원': 606,\n",
              " '▁공포영화': 607,\n",
              " '했는데': 608,\n",
              " '▁재': 609,\n",
              " '후': 610,\n",
              " '▁하고': 611,\n",
              " '▁아니고': 612,\n",
              " '테': 613,\n",
              " '▁제대로': 614,\n",
              " '였다': 615,\n",
              " '▁차라리': 616,\n",
              " '▁재밌어요': 617,\n",
              " '뿐': 618,\n",
              " '해요': 619,\n",
              " '▁봤습니다': 620,\n",
              " '매': 621,\n",
              " '▁진심': 622,\n",
              " '태': 623,\n",
              " '참': 624,\n",
              " '▁진': 625,\n",
              " '토': 626,\n",
              " '속': 627,\n",
              " '회': 628,\n",
              " '▁스토리도': 629,\n",
              " '▁주는': 630,\n",
              " '▁발': 631,\n",
              " '넘': 632,\n",
              " '▁봤던': 633,\n",
              " '이고': 634,\n",
              " '▁도대체': 635,\n",
              " '것도': 636,\n",
              " '▁뻔한': 637,\n",
              " '포': 638,\n",
              " '▁지루하고': 639,\n",
              " '▁캐릭터': 640,\n",
              " '7': 641,\n",
              " '▁영화의': 642,\n",
              " '▁연': 643,\n",
              " '▁좋았다': 644,\n",
              " '▁나오': 645,\n",
              " '▁지루한': 646,\n",
              " '▁나온': 647,\n",
              " '▁결말': 648,\n",
              " '스토리': 649,\n",
              " '▁감독의': 650,\n",
              " '▁만들': 651,\n",
              " '▁미국': 652,\n",
              " '양': 653,\n",
              " '▁제목': 654,\n",
              " '▁공감': 655,\n",
              " '극': 656,\n",
              " '▁공': 657,\n",
              " 'ᄏᄏᄏᄏ': 658,\n",
              " '/': 659,\n",
              " '▁파': 660,\n",
              " '▁시리즈': 661,\n",
              " '▁나도': 662,\n",
              " '8': 663,\n",
              " '▁영': 664,\n",
              " '▁좋아하는': 665,\n",
              " '던데': 666,\n",
              " '▁성': 667,\n",
              " '평점': 668,\n",
              " '배우': 669,\n",
              " '꺼': 670,\n",
              " '금': 671,\n",
              " '하기': 672,\n",
              " '▁재밌': 673,\n",
              " '▁재밌는': 674,\n",
              " '▁세': 675,\n",
              " '▁20': 676,\n",
              " '▁정도': 677,\n",
              " '▁연기력': 678,\n",
              " '▁우리나라': 679,\n",
              " '▁B': 680,\n",
              " '▁최고다': 681,\n",
              " '▁가슴': 682,\n",
              " '▁머': 683,\n",
              " '▁여': 684,\n",
              " '잼': 685,\n",
              " '▁대사': 686,\n",
              " '등': 687,\n",
              " '봤': 688,\n",
              " '▁보면서': 689,\n",
              " '점은': 690,\n",
              " '죽': 691,\n",
              " '감동': 692,\n",
              " '역': 693,\n",
              " '▁원작': 694,\n",
              " '▁ᅲ': 695,\n",
              " 'ᅮᅮ': 696,\n",
              " '▁동': 697,\n",
              " '▁^^': 698,\n",
              " '격': 699,\n",
              " '▁걍': 700,\n",
              " '력': 701,\n",
              " '사람': 702,\n",
              " '▁눈물': 703,\n",
              " '▁초': 704,\n",
              " '릴': 705,\n",
              " '더라': 706,\n",
              " '▁수작': 707,\n",
              " '6': 708,\n",
              " '려고': 709,\n",
              " '▁몇': 710,\n",
              " '▁긴장감': 711,\n",
              " '▁싶은': 712,\n",
              " '▁가족': 713,\n",
              " '▁표현': 714,\n",
              " '리는': 715,\n",
              " '쳐': 716,\n",
              " '▁없음': 717,\n",
              " '니다': 718,\n",
              " '▁않': 719,\n",
              " '▁기억에': 720,\n",
              " '▁심': 721,\n",
              " '법': 722,\n",
              " '▁인간': 723,\n",
              " '움': 724,\n",
              " '~!': 725,\n",
              " '절': 726,\n",
              " '▁영상': 727,\n",
              " '봤다': 728,\n",
              " '먹': 729,\n",
              " '▁보세요': 730,\n",
              " '▁마지막에': 731,\n",
              " '된다': 732,\n",
              " '▁재미가': 733,\n",
              " ',,,': 734,\n",
              " '는거': 735,\n",
              " '이라고': 736,\n",
              " '봄': 737,\n",
              " '▁지루함': 738,\n",
              " '▁쓰': 739,\n",
              " '▁배우들의': 740,\n",
              " '▁뭘': 741,\n",
              " '▁이해가': 742,\n",
              " '해도': 743,\n",
              " '▁시작': 744,\n",
              " '집': 745,\n",
              " '들을': 746,\n",
              " '녀': 747,\n",
              " '▁기분': 748,\n",
              " 'i': 749,\n",
              " '예': 750,\n",
              " '▁영화에': 751,\n",
              " '▁특히': 752,\n",
              " '▁코믹': 753,\n",
              " '▁OOO': 754,\n",
              " '▁막': 755,\n",
              " '▁6': 756,\n",
              " '▁괜찮은': 757,\n",
              " '▁사람들': 758,\n",
              " '을까': 759,\n",
              " '▁졸작': 760,\n",
              " '않': 761,\n",
              " '건지': 762,\n",
              " '▁될': 763,\n",
              " '▁허': 764,\n",
              " '밖에': 765,\n",
              " '▁보는내내': 766,\n",
              " '▁뭔': 767,\n",
              " '종': 768,\n",
              " '천': 769,\n",
              " '는게': 770,\n",
              " '▁후회': 771,\n",
              " '사랑': 772,\n",
              " '▁선': 773,\n",
              " '▁애니메이션': 774,\n",
              " '▁알바': 775,\n",
              " '그냥': 776,\n",
              " '구만': 777,\n",
              " 'd': 778,\n",
              " '행': 779,\n",
              " '▁지루하다': 780,\n",
              " '▁함께': 781,\n",
              " '능': 782,\n",
              " '악': 783,\n",
              " '▁재밋': 784,\n",
              " '최고': 785,\n",
              " '라도': 786,\n",
              " '▁\"': 787,\n",
              " '탄': 788,\n",
              " '▁예': 789,\n",
              " '▁맞': 790,\n",
              " '장면': 791,\n",
              " '근': 792,\n",
              " '았': 793,\n",
              " '강': 794,\n",
              " '▁극장에서': 795,\n",
              " '승': 796,\n",
              " '봐도': 797,\n",
              " '▁타': 798,\n",
              " '▁필요': 799,\n",
              " '설': 800,\n",
              " '▁베': 801,\n",
              " '이런': 802,\n",
              " '▁봤어요': 803,\n",
              " '김': 804,\n",
              " '감독': 805,\n",
              " '▁망': 806,\n",
              " '불': 807,\n",
              " '▁사실': 808,\n",
              " '▁오늘': 809,\n",
              " '케': 810,\n",
              " '너': 811,\n",
              " '▁소재': 812,\n",
              " '교': 813,\n",
              " '창': 814,\n",
              " '스트': 815,\n",
              " '만큼': 816,\n",
              " '▁노래': 817,\n",
              " '직': 818,\n",
              " '주는': 819,\n",
              " '중에': 820,\n",
              " '▁강추': 821,\n",
              " '대로': 822,\n",
              " '없': 823,\n",
              " '▁졸': 824,\n",
              " '뭐': 825,\n",
              " '었는데': 826,\n",
              " '머': 827,\n",
              " '학': 828,\n",
              " 'a': 829,\n",
              " '▁시나리오': 830,\n",
              " '▁된': 831,\n",
              " '▁호': 832,\n",
              " '▁매': 833,\n",
              " '▁어떤': 834,\n",
              " '▁그저': 835,\n",
              " '별': 836,\n",
              " '▁차': 837,\n",
              " '▁개인적으로': 838,\n",
              " '점대': 839,\n",
              " '통': 840,\n",
              " '난다': 841,\n",
              " '돈': 842,\n",
              " '▁없': 843,\n",
              " '글': 844,\n",
              " '▁못한': 845,\n",
              " '▁결국': 846,\n",
              " '투': 847,\n",
              " '▁큰': 848,\n",
              " '있다': 849,\n",
              " '▁영화로': 850,\n",
              " '른': 851,\n",
              " '담': 852,\n",
              " '▁만화': 853,\n",
              " '론': 854,\n",
              " '▁캐스팅': 855,\n",
              " '작품': 856,\n",
              " '▁들': 857,\n",
              " '거야': 858,\n",
              " '하면서': 859,\n",
              " '▁죽': 860,\n",
              " '좋': 861,\n",
              " '▁최': 862,\n",
              " '▁한국영화': 863,\n",
              " '▁상': 864,\n",
              " '레이': 865,\n",
              " '▁더빙': 866,\n",
              " '락': 867,\n",
              " '▁몰입도': 868,\n",
              " '▁봐야': 869,\n",
              " '재밌': 870,\n",
              " '▁인': 871,\n",
              " '계': 872,\n",
              " '▁억지': 873,\n",
              " '▁모르겠다': 874,\n",
              " '▁좋아요': 875,\n",
              " '▁살': 876,\n",
              " '돌': 877,\n",
              " '▁없이': 878,\n",
              " '▁제발': 879,\n",
              " '했음': 880,\n",
              " '▁웃': 881,\n",
              " 'ᅮ': 882,\n",
              " 's': 883,\n",
              " '이상': 884,\n",
              " '이네': 885,\n",
              " '는지': 886,\n",
              " '기도': 887,\n",
              " '맨': 888,\n",
              " '▁아무리': 889,\n",
              " '했': 890,\n",
              " '▁생각이': 891,\n",
              " '재미': 892,\n",
              " '▁연기는': 893,\n",
              " '평': 894,\n",
              " '아니': 895,\n",
              " '이야': 896,\n",
              " '잡': 897,\n",
              " 'g': 898,\n",
              " '버린': 899,\n",
              " '▁안되는': 900,\n",
              " '인줄': 901,\n",
              " '▁극': 902,\n",
              " '▁감동이': 903,\n",
              " '▁아이': 904,\n",
              " '▁재밌음': 905,\n",
              " '점을': 906,\n",
              " '▁분위기': 907,\n",
              " '열': 908,\n",
              " '초': 909,\n",
              " '▁매우': 910,\n",
              " '▁잼': 911,\n",
              " '권': 912,\n",
              " '▁행복': 913,\n",
              " '베': 914,\n",
              " '▁마음이': 915,\n",
              " '이네요': 916,\n",
              " '액션': 917,\n",
              " '▁총': 918,\n",
              " '업': 919,\n",
              " '봐': 920,\n",
              " '영화는': 921,\n",
              " '기는': 922,\n",
              " '▁별점': 923,\n",
              " '▁예술': 924,\n",
              " '▁ᅮᅮ': 925,\n",
              " '슨': 926,\n",
              " '▁준': 927,\n",
              " '입': 928,\n",
              " '▁않는다': 929,\n",
              " '름': 930,\n",
              " '갈': 931,\n",
              " '끼': 932,\n",
              " '▁보게': 933,\n",
              " '▁얼마나': 934,\n",
              " '▁물': 935,\n",
              " '슬': 936,\n",
              " '▁눈물이': 937,\n",
              " '보단': 938,\n",
              " '▁ᄒ': 939,\n",
              " '이지만': 940,\n",
              " '▁너무나': 941,\n",
              " '▁사람이': 942,\n",
              " '+': 943,\n",
              " '만들': 944,\n",
              " '▁기억이': 945,\n",
              " '▁걸작': 946,\n",
              " '▁영화중': 947,\n",
              " '▁존나': 948,\n",
              " '▁한다': 949,\n",
              " '▁영화네요': 950,\n",
              " '▁잠': 951,\n",
              " '군요': 952,\n",
              " '▁당': 953,\n",
              " '브': 954,\n",
              " '▁같이': 955,\n",
              " '▁보지': 956,\n",
              " '▁따라': 957,\n",
              " '하며': 958,\n",
              " '▁재밌고': 959,\n",
              " '▁하나도': 960,\n",
              " '났': 961,\n",
              " '병': 962,\n",
              " '▁높': 963,\n",
              " '▁않다': 964,\n",
              " '환': 965,\n",
              " '았다': 966,\n",
              " '▁있고': 967,\n",
              " '짐': 968,\n",
              " '▁길': 969,\n",
              " '▁위한': 970,\n",
              " '▁존': 971,\n",
              " '▁출연': 972,\n",
              " '뻔': 973,\n",
              " '▁미친': 974,\n",
              " '싶': 975,\n",
              " '▁그렇게': 976,\n",
              " '▁유치': 977,\n",
              " '이었다': 978,\n",
              " '▁가슴이': 979,\n",
              " '었던': 980,\n",
              " '▁것이': 981,\n",
              " '▁그만': 982,\n",
              " '씬': 983,\n",
              " '▁볼만한': 984,\n",
              " '▁치': 985,\n",
              " '▁로맨스': 986,\n",
              " '수가': 987,\n",
              " '치는': 988,\n",
              " '▁내용은': 989,\n",
              " '약': 990,\n",
              " '▁장난': 991,\n",
              " '▁느낌이': 992,\n",
              " '온': 993,\n",
              " '▁적': 994,\n",
              " '▁훨씬': 995,\n",
              " '▁입': 996,\n",
              " '▁-': 997,\n",
              " '나는': 998,\n",
              " '▁매력': 999,\n",
              " ...}"
            ]
          },
          "metadata": {},
          "execution_count": 26
        }
      ]
    },
    {
      "cell_type": "markdown",
      "source": [
        "### tensor, word_index, index_word를 반환하는 sp_tokenize 정의"
      ],
      "metadata": {
        "id": "-IKrEJK3xUvb"
      }
    },
    {
      "cell_type": "code",
      "source": [
        "def sp_tokenize(s, corpus):\n",
        "\n",
        "    tensor = []\n",
        "\n",
        "    for sen in corpus:\n",
        "        tensor.append(s.EncodeAsIds(sen))\n",
        "\n",
        "    with open(\"./nsmc_spm.vocab\", 'r') as f:\n",
        "        vocab = f.readlines()\n",
        "\n",
        "    word_index = {}\n",
        "    index_word = {}\n",
        "\n",
        "    for idx, line in enumerate(vocab):\n",
        "        word = line.split(\"\\t\")[0]\n",
        "\n",
        "        word_index.update({idx:word})\n",
        "        index_word.update({word:idx})\n",
        "\n",
        "    tensor = tf.keras.preprocessing.sequence.pad_sequences(tensor, padding='pre')\n",
        "\n",
        "    return tensor, word_index, index_word"
      ],
      "metadata": {
        "id": "Px3iKpIeemqn"
      },
      "execution_count": null,
      "outputs": []
    },
    {
      "cell_type": "code",
      "source": [
        "lines = [\n",
        "         \"아 더빙.. 진짜 짜증나네요 목소리\",\n",
        "         \"교도소 이야기구먼 ..솔직히 재미는 없다..평점 조정\"\n",
        "]\n",
        "\n",
        "tensor, word_index, index_word = sp_tokenize(s, lines)\n",
        "\n",
        "for line in lines:\n",
        "  print(line)\n",
        "  print(tensor)\n",
        "  print(word_index)\n",
        "  print(index_word)\n",
        "  print()"
      ],
      "metadata": {
        "colab": {
          "base_uri": "https://localhost:8080/"
        },
        "id": "ZEyENUfsenak",
        "outputId": "c8d5e1aa-ec0b-402f-a8f6-7a3313ad49e3"
      },
      "execution_count": null,
      "outputs": [
        {
          "output_type": "stream",
          "name": "stdout",
          "text": [
            "아 더빙.. 진짜 짜증나네요 목소리\n",
            "[[   0    0    0    0    0    0    0   58  866    5   29 2015   63 1367]\n",
            " [1962   11  204  240 6560    3    5 5145 1167  117    5  668  293  129]]\n",
            "{0: '<unk>', 1: '<s>', 2: '</s>', 3: '▁', 4: '.', 5: '..', 6: '이', 7: '▁영화', 8: '...', 9: '가', 10: '의', 11: '도', 12: '는', 13: ',', 14: '을', 15: '에', 16: '고', 17: '다', 18: '은', 19: '지', 20: '?', 21: '한', 22: '▁너무', 23: '!', 24: '를', 25: '▁정말', 26: '만', 27: '▁이', 28: '로', 29: '▁진짜', 30: '나', 31: '게', 32: '영화', 33: '~', 34: '과', 35: '기', 36: '어', 37: '라', 38: '리', 39: '점', 40: '네', 41: '서', 42: '인', 43: '하고', 44: '아', 45: '▁안', 46: '으로', 47: '▁잘', 48: '!!', 49: '요', 50: '....', 51: '▁1', 52: '▁왜', 53: '에서', 54: '와', 55: '들', 56: '▁그', 57: '▁이런', 58: '▁아', 59: '▁더', 60: '▁다', 61: '해', 62: '▁수', 63: '네요', 64: '스', 65: '거', 66: '하는', 67: '자', 68: '▁그냥', 69: '▁본', 70: '▁드라마', 71: '음', 72: '면', 73: '▁10', 74: '수', 75: '하', 76: '시', 77: '지만', 78: '야', 79: '니', 80: '대', 81: '▁보고', 82: '함', 83: '▁평점', 84: '▁연기', 85: '사', 86: '▁내', 87: '▁한', 88: '하다', 89: '▁좀', 90: '일', 91: '하게', 92: '이다', 93: '▁영화를', 94: '▁봤는데', 95: '진', 96: '우', 97: '▁이거', 98: '▁ᄏᄏ', 99: '▁최고의', 100: '▁최고', 101: '데', 102: '여', 103: '드', 104: '▁참', 105: '▁쓰레기', 106: '주', 107: '▁없는', 108: '보다', 109: '미', 110: '▁못', 111: '구', 112: '는데', 113: '▁완전', 114: '임', 115: '안', 116: '▁내가', 117: '▁없다', 118: '!!!', 119: '냐', 120: 'ᄏᄏ', 121: '▁스토리', 122: '▁영화는', 123: '▁이건', 124: '할', 125: '보', 126: '▁2', 127: '▁영화가', 128: '▁개', 129: '정', 130: '듯', 131: '들이', 132: '▁나', 133: '성', 134: '▁이게', 135: '▁있는', 136: '▁좋은', 137: '신', 138: '상', 139: '▁다시', 140: '해서', 141: '▁이렇게', 142: '장', 143: '까지', 144: '던', 145: '적', 146: '▁보는', 147: '^^', 148: '부', 149: '마', 150: '▁난', 151: '▁것', 152: '▁평점이', 153: '치', 154: '~~', 155: '전', 156: '중', 157: '▁3', 158: '보고', 159: '▁재밌게', 160: 'ᄏ', 161: '개', 162: '건', 163: '려', 164: '트', 165: '랑', 166: '때', 167: '1', 168: '오', 169: '러', 170: '▁말', 171: '▁지', 172: '▁역시', 173: '질', 174: '화', 175: ';;', 176: '▁뭐', 177: '▁보', 178: '히', 179: '▁작품', 180: '▁많이', 181: '▁넘', 182: '▁볼', 183: '년', 184: '분', 185: '그', 186: '원', 187: '▁전', 188: '용', 189: '세', 190: '인데', 191: '비', 192: '▁오', 193: '??', 194: '내', 195: '2', 196: '▁또', 197: '▁저', 198: '적인', 199: '▁재미', 200: '▁하', 201: '▁감동', 202: '▁마지막', 203: '물', 204: '소', 205: '▁무', 206: '▁아깝다', 207: '▁꼭', 208: '했다', 209: '▁별로', 210: '▁하나', 211: '▁ᄏᄏᄏ', 212: '▁별', 213: '진짜', 214: '선', 215: '▁감독', 216: '같은', 217: '급', 218: '감', 219: '▁생각', 220: '것', 221: '▁액션', 222: '▁시간', 223: '식', 224: '하지', 225: '▁기대', 226: 'ᅲᅲ', 227: '라고', 228: '▁주', 229: '제', 230: '▁하는', 231: '습니다', 232: '말', 233: '▁가장', 234: '▁없고', 235: 'ᄏᄏᄏ', 236: '▁명작', 237: '동', 238: '본', 239: '▁사', 240: '▁이야기', 241: '무', 242: '▁그리고', 243: \"'\", 244: '입니다', 245: '▁지금', 246: '더', 247: '너무', 248: '걸', 249: '▁정', 250: '줄', 251: '어요', 252: '란', 253: '▁보면', 254: '▁김', 255: '편', 256: ';', 257: '▁무슨', 258: '호', 259: '드라마', 260: '▁사랑', 261: '영', 262: '▁ᅲᅲ', 263: '▁한국', 264: '좀', 265: '▁중', 266: '▁만든', 267: '▁아니', 268: '유', 269: '으면', 270: '군', 271: '▁마', 272: '씨', 273: '당', 274: '조', 275: '작', 276: '▁비', 277: '없는', 278: '디', 279: '▁다른', 280: '이나', 281: '긴', 282: '▁할', 283: '▁처음', 284: '부터', 285: '▁ᄏ', 286: '울', 287: '남', 288: 'ᅲ', 289: ')', 290: '▁어', 291: '▁배우', 292: '▁ᅳᅳ', 293: '▁조', 294: '된', 295: '▁말이', 296: '심', 297: '정말', 298: '린', 299: '3', 300: '▁대', 301: '▁자', 302: '에게', 303: '▁일본', 304: '모', 305: '연', 306: '▁와', 307: '▁느낌', 308: '워', 309: '▁좋아', 310: '▁연출', 311: '운', 312: '▁영화다', 313: '르', 314: '▁끝까지', 315: '▁짱', 316: '타', 317: '라는', 318: '생', 319: '▁기', 320: '▁일', 321: '▁미', 322: '바', 323: '있는', 324: '▁두', 325: '크', 326: '▁유', 327: '위', 328: '한다', 329: '두', 330: '▁돈', 331: '래', 332: '▁내용', 333: '▁좋다', 334: '간', 335: '명', 336: '레', 337: '준', 338: '노', 339: '▁있다', 340: '▁같은', 341: '▁봐도', 342: ',,', 343: 'ᅳᅳ', 344: '인지', 345: '인가', 346: '잘', 347: '살', 348: '▁거', 349: '류', 350: '▁알', 351: '▁솔직히', 352: '들의', 353: '▁봤다', 354: '▁ᄒᄒ', 355: '난', 356: '▁때', 357: '▁여자', 358: '▁뭔가', 359: '프', 360: '하나', 361: '길', 362: '판', 363: '경', 364: '단', 365: '▁재미있게', 366: '루', 367: '죠', 368: '▁애', 369: '▁재밌다', 370: '연기', 371: '▁신', 372: '▁시', 373: '민', 374: '▁이걸', 375: '▁코미디', 376: '▁해', 377: '▁아주', 378: '으', 379: '발', 380: '▁최악', 381: '▁구', 382: '번', 383: \"▁'\", 384: '하지만', 385: '저', 386: '합니다', 387: '▁소', 388: '처럼', 389: '▁제', 390: '▁같다', 391: '겨', 392: '재', 393: '때문에', 394: '봤는데', 395: '▁전혀', 396: '었다', 397: '▁이영화', 398: '▁장', 399: '▁하지만', 400: '되는', 401: '림', 402: '▁내용이', 403: '방', 404: '했던', 405: '▁후', 406: '▁남', 407: '엔', 408: '이랑', 409: '▁대한', 410: '▁계속', 411: '▁모두', 412: '날', 413: '▁최악의', 414: '-', 415: '티', 416: '▁사람', 417: '▁줄', 418: '님', 419: '▁재미없다', 420: '▁부', 421: '파', 422: '하면', 423: '▁스', 424: '하네', 425: '▁모', 426: '든', 427: '▁나오는', 428: '지는', 429: '(', 430: '▁4', 431: '희', 432: '▁많은', 433: '▁그래도', 434: '면서', 435: '▁아니라', 436: '▁반', 437: '▁대박', 438: '시간', 439: '터', 440: '며', 441: '▁강', 442: '▁만들어', 443: '▁보기', 444: '▁한번', 445: '▁우', 446: '▁어떻게', 447: '관', 448: '▁아닌', 449: '키', 450: '▁않고', 451: '▁내내', 452: '~~~', 453: '피', 454: '박', 455: '없다', 456: '까', 457: '▁7', 458: '▁배우들', 459: '▁딱', 460: '▁공포', 461: '▁되', 462: '점도', 463: '10', 464: '들은', 465: '▁장면', 466: '이라', 467: '버', 468: '▁만드는', 469: '▁연기가', 470: '▁우리', 471: '!!!!', 472: '▁실망', 473: '▁이제', 474: '▁인생', 475: '▁5', 476: '차', 477: '국', 478: '▁아름다운', 479: 'o', 480: '따', 481: '▁아니다', 482: '다니', 483: '▁추천', 484: '▁박', 485: '구나', 486: '4', 487: '겠다', 488: '▁모든', 489: '애', 490: '▁건', 491: '▁조금', 492: '▁8', 493: '▁제일', 494: '없이', 495: '카', 496: '점이', 497: '형', 498: 'ᄒᄒ', 499: '▁남자', 500: '실', 501: '▁듯', 502: '반', 503: '▁전개', 504: '▁연기도', 505: '▁끝', 506: '▁개봉', 507: '▁내용도', 508: '되', 509: '못', 510: '볼', 511: '▁스릴러', 512: '▁9', 513: '▁요즘', 514: '현', 515: '▁그런', 516: '▁굿', 517: '▁보다가', 518: '달', 519: '▁남는', 520: '즈', 521: '지도', 522: '▁보다', 523: '▁않는', 524: '▁불', 525: '보면', 526: '▁바', 527: '5', 528: '문', 529: '년대', 530: '▁근데', 531: '▁피', 532: '코', 533: '▁않은', 534: '▁기억', 535: '▁0', 536: '적으로', 537: '▁이해', 538: '▁시간이', 539: '다가', 540: '망', 541: '▁아까운', 542: '한테', 543: '▁애니', 544: '▁주인공', 545: '▁나는', 546: '▁음악', 547: '▁재미도', 548: '▁이상', 549: '♥', 550: '▁감독이', 551: '▁노', 552: 't', 553: '하네요', 554: '▁아직도', 555: '생각', 556: 'ᄒ', 557: '▁속', 558: '▁욕', 559: '▁수준', 560: '보는', 561: 'ᅳ', 562: '체', 563: '▁여운이', 564: '공', 565: '왜', 566: '\"', 567: '▁영화라고', 568: '▁반전', 569: '이라는', 570: '▁절대', 571: '니까', 572: '이란', 573: '▁눈', 574: '▁싶다', 575: '▁좋고', 576: '▁엄청', 577: '▁때문에', 578: '인듯', 579: '▁스토리가', 580: '▁울', 581: '▁날', 582: '▁나름', 583: '▁OO', 584: '어서', 585: '석', 586: '알', 587: '▁오랜만에', 588: '짱', 589: '산', 590: '▁걸', 591: '져', 592: '▁배', 593: '정도', 594: '▁영화입니다', 595: '▁있', 596: '▁되는', 597: '▁막장', 598: ';;;', 599: '▁현실', 600: '배', 601: '▁ᄏᄏᄏᄏ', 602: '???', 603: '▁봤', 604: 'e', 605: '▁멋진', 606: '▁원', 607: '▁공포영화', 608: '했는데', 609: '▁재', 610: '후', 611: '▁하고', 612: '▁아니고', 613: '테', 614: '▁제대로', 615: '였다', 616: '▁차라리', 617: '▁재밌어요', 618: '뿐', 619: '해요', 620: '▁봤습니다', 621: '매', 622: '▁진심', 623: '태', 624: '참', 625: '▁진', 626: '토', 627: '속', 628: '회', 629: '▁스토리도', 630: '▁주는', 631: '▁발', 632: '넘', 633: '▁봤던', 634: '이고', 635: '▁도대체', 636: '것도', 637: '▁뻔한', 638: '포', 639: '▁지루하고', 640: '▁캐릭터', 641: '7', 642: '▁영화의', 643: '▁연', 644: '▁좋았다', 645: '▁나오', 646: '▁지루한', 647: '▁나온', 648: '▁결말', 649: '스토리', 650: '▁감독의', 651: '▁만들', 652: '▁미국', 653: '양', 654: '▁제목', 655: '▁공감', 656: '극', 657: '▁공', 658: 'ᄏᄏᄏᄏ', 659: '/', 660: '▁파', 661: '▁시리즈', 662: '▁나도', 663: '8', 664: '▁영', 665: '▁좋아하는', 666: '던데', 667: '▁성', 668: '평점', 669: '배우', 670: '꺼', 671: '금', 672: '하기', 673: '▁재밌', 674: '▁재밌는', 675: '▁세', 676: '▁20', 677: '▁정도', 678: '▁연기력', 679: '▁우리나라', 680: '▁B', 681: '▁최고다', 682: '▁가슴', 683: '▁머', 684: '▁여', 685: '잼', 686: '▁대사', 687: '등', 688: '봤', 689: '▁보면서', 690: '점은', 691: '죽', 692: '감동', 693: '역', 694: '▁원작', 695: '▁ᅲ', 696: 'ᅮᅮ', 697: '▁동', 698: '▁^^', 699: '격', 700: '▁걍', 701: '력', 702: '사람', 703: '▁눈물', 704: '▁초', 705: '릴', 706: '더라', 707: '▁수작', 708: '6', 709: '려고', 710: '▁몇', 711: '▁긴장감', 712: '▁싶은', 713: '▁가족', 714: '▁표현', 715: '리는', 716: '쳐', 717: '▁없음', 718: '니다', 719: '▁않', 720: '▁기억에', 721: '▁심', 722: '법', 723: '▁인간', 724: '움', 725: '~!', 726: '절', 727: '▁영상', 728: '봤다', 729: '먹', 730: '▁보세요', 731: '▁마지막에', 732: '된다', 733: '▁재미가', 734: ',,,', 735: '는거', 736: '이라고', 737: '봄', 738: '▁지루함', 739: '▁쓰', 740: '▁배우들의', 741: '▁뭘', 742: '▁이해가', 743: '해도', 744: '▁시작', 745: '집', 746: '들을', 747: '녀', 748: '▁기분', 749: 'i', 750: '예', 751: '▁영화에', 752: '▁특히', 753: '▁코믹', 754: '▁OOO', 755: '▁막', 756: '▁6', 757: '▁괜찮은', 758: '▁사람들', 759: '을까', 760: '▁졸작', 761: '않', 762: '건지', 763: '▁될', 764: '▁허', 765: '밖에', 766: '▁보는내내', 767: '▁뭔', 768: '종', 769: '천', 770: '는게', 771: '▁후회', 772: '사랑', 773: '▁선', 774: '▁애니메이션', 775: '▁알바', 776: '그냥', 777: '구만', 778: 'd', 779: '행', 780: '▁지루하다', 781: '▁함께', 782: '능', 783: '악', 784: '▁재밋', 785: '최고', 786: '라도', 787: '▁\"', 788: '탄', 789: '▁예', 790: '▁맞', 791: '장면', 792: '근', 793: '았', 794: '강', 795: '▁극장에서', 796: '승', 797: '봐도', 798: '▁타', 799: '▁필요', 800: '설', 801: '▁베', 802: '이런', 803: '▁봤어요', 804: '김', 805: '감독', 806: '▁망', 807: '불', 808: '▁사실', 809: '▁오늘', 810: '케', 811: '너', 812: '▁소재', 813: '교', 814: '창', 815: '스트', 816: '만큼', 817: '▁노래', 818: '직', 819: '주는', 820: '중에', 821: '▁강추', 822: '대로', 823: '없', 824: '▁졸', 825: '뭐', 826: '었는데', 827: '머', 828: '학', 829: 'a', 830: '▁시나리오', 831: '▁된', 832: '▁호', 833: '▁매', 834: '▁어떤', 835: '▁그저', 836: '별', 837: '▁차', 838: '▁개인적으로', 839: '점대', 840: '통', 841: '난다', 842: '돈', 843: '▁없', 844: '글', 845: '▁못한', 846: '▁결국', 847: '투', 848: '▁큰', 849: '있다', 850: '▁영화로', 851: '른', 852: '담', 853: '▁만화', 854: '론', 855: '▁캐스팅', 856: '작품', 857: '▁들', 858: '거야', 859: '하면서', 860: '▁죽', 861: '좋', 862: '▁최', 863: '▁한국영화', 864: '▁상', 865: '레이', 866: '▁더빙', 867: '락', 868: '▁몰입도', 869: '▁봐야', 870: '재밌', 871: '▁인', 872: '계', 873: '▁억지', 874: '▁모르겠다', 875: '▁좋아요', 876: '▁살', 877: '돌', 878: '▁없이', 879: '▁제발', 880: '했음', 881: '▁웃', 882: 'ᅮ', 883: 's', 884: '이상', 885: '이네', 886: '는지', 887: '기도', 888: '맨', 889: '▁아무리', 890: '했', 891: '▁생각이', 892: '재미', 893: '▁연기는', 894: '평', 895: '아니', 896: '이야', 897: '잡', 898: 'g', 899: '버린', 900: '▁안되는', 901: '인줄', 902: '▁극', 903: '▁감동이', 904: '▁아이', 905: '▁재밌음', 906: '점을', 907: '▁분위기', 908: '열', 909: '초', 910: '▁매우', 911: '▁잼', 912: '권', 913: '▁행복', 914: '베', 915: '▁마음이', 916: '이네요', 917: '액션', 918: '▁총', 919: '업', 920: '봐', 921: '영화는', 922: '기는', 923: '▁별점', 924: '▁예술', 925: '▁ᅮᅮ', 926: '슨', 927: '▁준', 928: '입', 929: '▁않는다', 930: '름', 931: '갈', 932: '끼', 933: '▁보게', 934: '▁얼마나', 935: '▁물', 936: '슬', 937: '▁눈물이', 938: '보단', 939: '▁ᄒ', 940: '이지만', 941: '▁너무나', 942: '▁사람이', 943: '+', 944: '만들', 945: '▁기억이', 946: '▁걸작', 947: '▁영화중', 948: '▁존나', 949: '▁한다', 950: '▁영화네요', 951: '▁잠', 952: '군요', 953: '▁당', 954: '브', 955: '▁같이', 956: '▁보지', 957: '▁따라', 958: '하며', 959: '▁재밌고', 960: '▁하나도', 961: '났', 962: '병', 963: '▁높', 964: '▁않다', 965: '환', 966: '았다', 967: '▁있고', 968: '짐', 969: '▁길', 970: '▁위한', 971: '▁존', 972: '▁출연', 973: '뻔', 974: '▁미친', 975: '싶', 976: '▁그렇게', 977: '▁유치', 978: '이었다', 979: '▁가슴이', 980: '었던', 981: '▁것이', 982: '▁그만', 983: '씬', 984: '▁볼만한', 985: '▁치', 986: '▁로맨스', 987: '수가', 988: '치는', 989: '▁내용은', 990: '약', 991: '▁장난', 992: '▁느낌이', 993: '온', 994: '▁적', 995: '▁훨씬', 996: '▁입', 997: '▁-', 998: '나는', 999: '▁매력', 1000: '쓰레기', 1001: '▁약', 1002: '쓰', 1003: '께', 1004: '▁누가', 1005: '▁정신', 1006: '새', 1007: '블', 1008: '기에', 1009: '에도', 1010: '▁토', 1011: '칠', 1012: '▁쓰레기영화', 1013: '▁결말이', 1014: '▁없어', 1015: '외', 1016: '증', 1017: '▁알고', 1018: '될', 1019: '완전', 1020: '▁없었다', 1021: '▁그나마', 1022: '▁평', 1023: '라면', 1024: '▁대체', 1025: '▁엔딩', 1026: '▁애들', 1027: '느낌', 1028: '▁백', 1029: '올', 1030: '▁외', 1031: '▁갈수록', 1032: '>', 1033: '▁잔잔한', 1034: '언', 1035: '▁똥', 1036: '▁노잼', 1037: '▁재미있다', 1038: '▁단', 1039: '▁실', 1040: '▁웃음', 1041: '막', 1042: '▁있을', 1043: '▁마음', 1044: '▁웃기', 1045: '▁재미없음', 1046: '▁간만에', 1047: '▁어설픈', 1048: '▁카', 1049: '▁감', 1050: '건가', 1051: '색', 1052: '▁감동적인', 1053: '▁꽤', 1054: '나요', 1055: '해야', 1056: '▁영화관에서', 1057: '왕', 1058: '▁명', 1059: '▁허접', 1060: '▁주연', 1061: '내용', 1062: '짓', 1063: '▁다큐', 1064: '련', 1065: '재미있', 1066: '친', 1067: '▁지루', 1068: '어야', 1069: '▁경', 1070: '▁있었', 1071: '순', 1072: '▁밖에', 1073: '▁감동도', 1074: '기를', 1075: '빠', 1076: 'y', 1077: '▁발연기', 1078: '▁재미있는', 1079: '▁잡', 1080: '다고', 1081: '▁화', 1082: '이지', 1083: '보니', 1084: '▁위', 1085: '범', 1086: '▁생각보다', 1087: '었음', 1088: '▁성룡', 1089: '▁너', 1090: '거지', 1091: '소리', 1092: '▁구성', 1093: '짜', 1094: '▁중국', 1095: '▁음', 1096: '라서', 1097: '▁시즌', 1098: '수준', 1099: '백', 1100: '▁위해', 1101: '땜에', 1102: '▁설정', 1103: '나오는', 1104: '9', 1105: '잇', 1106: '▁아쉽다', 1107: '▁전쟁', 1108: '년이', 1109: '0', 1110: '편이', 1111: '여자', 1112: '▁이딴', 1113: '▁안되', 1114: '▁올', 1115: '훈', 1116: '하는데', 1117: '▁그래서', 1118: '▁보여주는', 1119: '▁많', 1120: '있', 1121: '션', 1122: '▁의미', 1123: '였', 1124: '▁추', 1125: '▁야', 1126: '존', 1127: '▁열', 1128: '었', 1129: '됨', 1130: '좋아', 1131: '결', 1132: '듯한', 1133: '향', 1134: '이건', 1135: '▁변', 1136: '▁좋', 1137: '합', 1138: '진다', 1139: '▁오래', 1140: '▁점수', 1141: '표', 1142: '광', 1143: '치고', 1144: '▁아무', 1145: '이거', 1146: '줘', 1147: '▁문제', 1148: '▁같', 1149: '▁맘에', 1150: '리고', 1151: '▁당시', 1152: '????', 1153: '▁연기를', 1154: '▁재미없', 1155: '했지만', 1156: 'h', 1157: '메', 1158: '▁약간', 1159: '▁모습', 1160: '▁관객', 1161: '주의', 1162: '받', 1163: '었어요', 1164: '▁스릴', 1165: '▁같아요', 1166: '월', 1167: '▁재미는', 1168: 'D', 1169: '▁다음', 1170: '▁뿐', 1171: '▁싶', 1172: '놈', 1173: '▁봐', 1174: '▁힘들', 1175: '▁번', 1176: '▁코', 1177: '느', 1178: '▁첨', 1179: '욕', 1180: '추', 1181: '▁나왔', 1182: '영화가', 1183: '▁영상미', 1184: '▁작가', 1185: '▁재미없는', 1186: '~!!', 1187: '출', 1188: '▁진정한', 1189: '▁네이버', 1190: '린다', 1191: 'r', 1192: '할수', 1193: '▁재밌네요', 1194: '▁영화였다', 1195: '처', 1196: 'p', 1197: '▁CG', 1198: '▁들어', 1199: '▁뭐야', 1200: '▁30', 1201: '할때', 1202: '맞', 1203: '▁좋은데', 1204: '▁힘', 1205: '▁언제', 1206: '▁전부', 1207: '채', 1208: '각', 1209: '커', 1210: '스러운', 1211: '▁엄마', 1212: '▁어느', 1213: '▁멜로', 1214: '더니', 1215: '▁만들었', 1216: '있고', 1217: '또', 1218: '▁평가', 1219: '적이', 1220: '▁종', 1221: '▁바로', 1222: '▁꿀잼', 1223: '▁중간에', 1224: '▁다들', 1225: '▁스토리는', 1226: '▁글', 1227: '▁감성', 1228: '▁아님', 1229: '▁자체', 1230: '끝', 1231: '같', 1232: '▁생각하게', 1233: '이야기', 1234: '기대', 1235: '길래', 1236: '졌', 1237: '_', 1238: '▁준다', 1239: '겠지', 1240: 'b', 1241: '기만', 1242: '척', 1243: '▁tv', 1244: '▁버', 1245: '플', 1246: '퍼', 1247: '나오', 1248: '▁제작', 1249: '▁높은', 1250: '▁감동을', 1251: '▁갈', 1252: '록', 1253: '▁얘기', 1254: '다는', 1255: '▁주고', 1256: '▁잼있', 1257: '▁판타지', 1258: '▁천', 1259: '없고', 1260: '▁간', 1261: '편은', 1262: '놓고', 1263: '~~~~', 1264: '▁메', 1265: '▁아이들', 1266: '▁여주인공', 1267: '▁배우들이', 1268: '▁상당히', 1269: '해라', 1270: '영화를', 1271: '▁나와서', 1272: '▁ᅳ', 1273: '▁손', 1274: '▁생각을', 1275: '▁나올', 1276: '으나', 1277: '▁있을까', 1278: '그리고', 1279: '▁찾아', 1280: 'u', 1281: '▁이영화를', 1282: '▁드', 1283: '세요', 1284: '▁비교', 1285: '▁봤지만', 1286: '▁몰입', 1287: '▁게', 1288: '▁얼굴', 1289: 'ᄋ', 1290: '혜', 1291: '▁줄거리', 1292: '▁재미있어요', 1293: '▁뭐지', 1294: '▁딸', 1295: '▁존재', 1296: '▁각본', 1297: '▁악', 1298: '▁여기', 1299: '눈', 1300: '▁편', 1301: '▁영화인데', 1302: '▁봐서', 1303: '▁담', 1304: '라니', 1305: '▁재미있', 1306: '▁영화임', 1307: '잖아', 1308: '▁깨', 1309: '▁포스터', 1310: '▁혼자', 1311: '이라도', 1312: '♡', 1313: '였음', 1314: '▁초딩', 1315: '▁산', 1316: '▁따', 1317: '빈', 1318: '▁데', 1319: '들어', 1320: '탈', 1321: '습', 1322: '▁그대로', 1323: '▁비해', 1324: '▁대해', 1325: '▁추억', 1326: '▁않았', 1327: '▁거의', 1328: '덕', 1329: '▁그러', 1330: '▁이런영화', 1331: '▁끝나', 1332: '▁마음에', 1333: '▁충격', 1334: '▁비디오', 1335: '없음', 1336: '햇', 1337: 'k', 1338: '▁된다', 1339: '▁감정', 1340: '▁친구', 1341: 'c', 1342: '해지는', 1343: '▁어디서', 1344: '복', 1345: '-_-', 1346: '▁소리', 1347: '▁옛날', 1348: '슴', 1349: 'OO', 1350: '청', 1351: '봐서', 1352: '▁것을', 1353: '▁저런', 1354: '숙', 1355: '▁먹', 1356: '▁꿈', 1357: '▁그리', 1358: '▁포', 1359: '▁상황', 1360: '▁봤음', 1361: '▁어릴때', 1362: '▁TV', 1363: '재밋', 1364: '▁90', 1365: '▁어디', 1366: '튼', 1367: '▁목소리', 1368: '▁암', 1369: '▁뭐냐', 1370: '▁나의', 1371: '▁숨', 1372: '▁살아', 1373: '▁질', 1374: '▁부족', 1375: '낸', 1376: '만한', 1377: 'm', 1378: '년전', 1379: '▁대단한', 1380: '▁아직', 1381: '▁몸', 1382: '▁절', 1383: '▁너무너무', 1384: '웃', 1385: '▁훌륭한', 1386: '▁사람들이', 1387: '▁영화도', 1388: '모르', 1389: '한거', 1390: '귀', 1391: '▁굉장히', 1392: '▁볼만', 1393: '시대', 1394: '▁더럽게', 1395: 'l', 1396: '했어요', 1397: '▁평점을', 1398: '▁나이', 1399: '▁궁금', 1400: '▁이름', 1401: '찍', 1402: '▁삼', 1403: '▁크', 1404: '먼', 1405: '겠', 1406: '▁같은데', 1407: '▁자기', 1408: '료', 1409: '▁패', 1410: '▁놀', 1411: '▁감독님', 1412: '▁봐라', 1413: '▁좋네요', 1414: '▁다시봐도', 1415: '▁사회', 1416: '▁말도', 1417: '▁머리', 1418: '▁극장판', 1419: '▁했는데', 1420: '앗', 1421: '엇', 1422: '독', 1423: '▁좋은영화', 1424: '▁아까움', 1425: ':', 1426: '▁뭐가', 1427: '다시', 1428: '것이', 1429: '겠지만', 1430: '▁생', 1431: '▁장르', 1432: '보기', 1433: '남자', 1434: '간다', 1435: '▁분', 1436: '혀', 1437: '▁처음부터', 1438: '씩', 1439: 'f', 1440: '▁레', 1441: '▁주제', 1442: '에는', 1443: '▁요', 1444: '▁짜증', 1445: '▁만', 1446: '는건', 1447: '구요', 1448: 'ᄉ', 1449: '같이', 1450: '▁흥행', 1451: '▁역사', 1452: '▁집중', 1453: '▁팬', 1454: '에선', 1455: '겟', 1456: '목', 1457: '대박', 1458: '▁보니', 1459: '분들', 1460: '▁원작을', 1461: '▁항상', 1462: '▁돌아', 1463: '잔', 1464: '▁배경', 1465: '▁헐', 1466: '▁ᄍᄍ', 1467: '▁제가', 1468: '▁b', 1469: '▁첫', 1470: '▁화면', 1471: '쯤', 1472: '▁낫다', 1473: '별로', 1474: '▁새로운', 1475: '이라니', 1476: '▁봄', 1477: '땐', 1478: '▁있지만', 1479: '지루', 1480: '건데', 1481: '침', 1482: '▁여배우', 1483: '하시', 1484: '▁따뜻한', 1485: '▁장면이', 1486: '▁감동적이', 1487: '조차', 1488: '▁안된다', 1489: '였는데', 1490: '▁슬픈', 1491: '▁빨리', 1492: '▁했다', 1493: '▁생각해', 1494: '▁것도', 1495: '링', 1496: '▁그런지', 1497: '패', 1498: '▁있어', 1499: '이라면', 1500: '근데', 1501: '▁현', 1502: '▁대단', 1503: '곡', 1504: '▁누구', 1505: '술', 1506: '좋은', 1507: '거리', 1508: '정도로', 1509: '▁예상', 1510: '효', 1511: '아서', 1512: '써', 1513: '▁정도로', 1514: '스럽다', 1515: '▁없네', 1516: '들도', 1517: '▁작', 1518: '▁(', 1519: '▁순', 1520: '▁빠져', 1521: '을때', 1522: '벌', 1523: '▁아버지', 1524: '츠', 1525: '거냐', 1526: '셨', 1527: '억', 1528: '▁하지', 1529: '▁좋겠다', 1530: '마지막', 1531: '▁통', 1532: '▁연출력', 1533: '▁재밌었다', 1534: '▁초반', 1535: '익', 1536: '▁세계', 1537: '▁가는', 1538: '지금', 1539: '▁돌', 1540: '고싶다', 1541: '▁앞', 1542: '▁그닥', 1543: '▁어린', 1544: '런', 1545: '^', 1546: '념', 1547: '페', 1548: '만든', 1549: '▁삼류', 1550: '▁충분히', 1551: '듣', 1552: '기가', 1553: '▁태', 1554: '▁두번', 1555: '▁이것도', 1556: '▁그러나', 1557: '▁계', 1558: '▁없을', 1559: '품', 1560: '▁새', 1561: '▁윤', 1562: '▁잘못', 1563: '듬', 1564: '들에게', 1565: '명작', 1566: '같다', 1567: '거다', 1568: '여서', 1569: '립', 1570: '다면', 1571: '▁100', 1572: '▁양', 1573: '시리즈', 1574: '렸다', 1575: '본다', 1576: '징', 1577: '껏', 1578: '▁낮', 1579: '한데', 1580: '내가', 1581: '▁교훈', 1582: '굿', 1583: '▁하다', 1584: '영화중', 1585: '▁흥미진진', 1586: '▁왕', 1587: '▁있어서', 1588: '▁관', 1589: '▁의도', 1590: '찬', 1591: '▁예전에', 1592: '▁재밌는데', 1593: '▁엄청난', 1594: '▁점점', 1595: '▁M', 1596: '▁성우', 1597: '▁낮은', 1598: '배우들', 1599: '그런', 1600: '▁뒤', 1601: '처음', 1602: '▁실화', 1603: '▁영화라', 1604: '했습니다', 1605: '▁지루해', 1606: '................', 1607: '▁돈주고', 1608: '▁되어', 1609: '곳', 1610: '▁달', 1611: '스럽', 1612: '▁못하는', 1613: '삼', 1614: '전개', 1615: '▁좋았어요', 1616: '▁없어서', 1617: '팬', 1618: '▁만족', 1619: '▁흠', 1620: '주세요', 1621: '사람들', 1622: '졌다', 1623: '한영화', 1624: '▁이영화는', 1625: '▁바라', 1626: '필', 1627: '하냐', 1628: '▁병맛', 1629: '▁찍', 1630: '보다는', 1631: '▁한마디로', 1632: '▁어렸을때', 1633: '하여', 1634: '만으로도', 1635: '▁좋음', 1636: '▁유치한', 1637: '괴', 1638: '것같다', 1639: '▁힘든', 1640: '것을', 1641: '허', 1642: '리가', 1643: '년에', 1644: '▁완벽한', 1645: '윤', 1646: '▁있었다', 1647: '시키', 1648: '▁뻔', 1649: '▁그래픽', 1650: '센', 1651: '▁괜찮', 1652: '▁자체가', 1653: '▁나와', 1654: '나서', 1655: '렌', 1656: '▁휴', 1657: '▁시절', 1658: '염', 1659: '▁지금까지', 1660: '▁영화보다', 1661: '나라', 1662: '▁나온다', 1663: '곤', 1664: '적이고', 1665: '틀', 1666: '년도', 1667: '▁봤네요', 1668: '철', 1669: '을듯', 1670: '답', 1671: '▁저는', 1672: '▁극장', 1673: '▁유머', 1674: '▁웃긴', 1675: '이에요', 1676: '▁쳐', 1677: '묘', 1678: '▁내인생', 1679: '▁사람은', 1680: '▁선택', 1681: '▁일본영화', 1682: '▁여주', 1683: '▁바보', 1684: '▁모르고', 1685: '▁아쉬운', 1686: '▁갑자기', 1687: '▁재미있고', 1688: '이냐', 1689: '▁디', 1690: '에요', 1691: '실망', 1692: '▁시대', 1693: '▁예고편', 1694: '였던', 1695: '▁써', 1696: '▁대작', 1697: '▁믿', 1698: '최고의', 1699: '▁자꾸', 1700: '▁설', 1701: '흑', 1702: '▁도저히', 1703: '▁평점에', 1704: '함이', 1705: '▁볼수', 1706: '많', 1707: '변', 1708: '▁알았', 1709: '놈들', 1710: '▁무서운', 1711: '▁믿고', 1712: '▁망작', 1713: '▁으', 1714: '▁반전이', 1715: '▁더욱', 1716: '으니', 1717: '쉬', 1718: '▁알았다', 1719: '▁보여주', 1720: '▁재미없어', 1721: '규', 1722: '▁역', 1723: '한번', 1724: '▁아쉽', 1725: '▁보는데', 1726: '도록', 1727: '▁이정도', 1728: '성이', 1729: '하니', 1730: '봐라', 1731: '킹', 1732: '▁무조건', 1733: '▁만들지', 1734: '예요', 1735: '▁터', 1736: '되어', 1737: '야지', 1738: '▁평점은', 1739: '아깝다', 1740: '▁불륜', 1741: '▁찾', 1742: '▁감독은', 1743: '▁80', 1744: '▁진실', 1745: '▁스타일', 1746: '▁귀', 1747: '싸', 1748: '많이', 1749: '▁어색', 1750: '▁나쁜', 1751: '걸까', 1752: '얼', 1753: '▁우연히', 1754: '▁맛', 1755: '연출', 1756: '겁', 1757: '추천', 1758: '거나', 1759: '십', 1760: '▁리메이크', 1761: '꼭', 1762: '▁해도', 1763: '재밌게', 1764: '▁재미없고', 1765: '▁사랑을', 1766: '음악', 1767: '▁댓글', 1768: '▁문', 1769: '어도', 1770: '▁알게', 1771: '--', 1772: '▁주인공이', 1773: '▁안보', 1774: '일까', 1775: '보다가', 1776: '▁책', 1777: '갑', 1778: '▁전형적인', 1779: '▁그때', 1780: '노잼', 1781: '재미없', 1782: '오는', 1783: '▁했', 1784: '▁SF', 1785: '▁원래', 1786: '특', 1787: '하던', 1788: '▁없었', 1789: '▁개연성', 1790: '주인공', 1791: '▁짜', 1792: '밀', 1793: '힌', 1794: '점준다', 1795: '아이', 1796: '견', 1797: '▁이상한', 1798: '맛', 1799: '▁느', 1800: '풍', 1801: '▁ᄒᄒᄒ', 1802: '▁등', 1803: '되고', 1804: '▁싸', 1805: '역시', 1806: '▁순간', 1807: '▁킬링타임용', 1808: '완', 1809: '▁기대하고', 1810: '▁좀비', 1811: '▁지루하', 1812: '▁천재', 1813: '▁허무', 1814: '휴', 1815: '▁가지고', 1816: '반전', 1817: '네여', 1818: '▁액션영화', 1819: '▁부족한', 1820: '▁프랑스', 1821: '▁느끼게', 1822: '▁아닌가', 1823: 'x', 1824: '▁전기세', 1825: '▁아이들이', 1826: '봐야', 1827: '▁저질', 1828: '▁느끼', 1829: '▁만점', 1830: '▁소설', 1831: '▁전작', 1832: '낮', 1833: '끔', 1834: '▁신기', 1835: '축', 1836: '▁집', 1837: '▁투', 1838: '▁참고', 1839: '하긴', 1840: '이게', 1841: '▁대한민국', 1842: '도없고', 1843: '놓', 1844: '▁액션도', 1845: 'n', 1846: '▁일단', 1847: '였습니다', 1848: '*', 1849: '▁상상', 1850: '육', 1851: '싱', 1852: '▁괜히', 1853: '자들', 1854: '▁돈이', 1855: '보는데', 1856: '▁먹먹', 1857: '▁이런거', 1858: '▁속편', 1859: '함을', 1860: '▁세상', 1861: '▁없네요', 1862: '▁청춘', 1863: '▁대단하다', 1864: '꼬', 1865: '▁노력', 1866: '▁티', 1867: '점짜리', 1868: '▁작품성', 1869: '▁해서', 1870: '▁개그', 1871: '▁여운', 1872: '놀', 1873: '▁왜이리', 1874: '▁마무리', 1875: '▁느낄', 1876: '엉', 1877: '▁모르는', 1878: '▁화이팅', 1879: '▁아무것도', 1880: '딱', 1881: '줬', 1882: '~^^', 1883: 'E', 1884: 'ᅲᅲᅲ', 1885: '▁완성도', 1886: '▁코메디', 1887: '▁이런걸', 1888: '▁감상', 1889: '좋다', 1890: '▁죽음', 1891: '▁귀신', 1892: '▁후반부', 1893: '▁유치하고', 1894: '킬', 1895: '▁끝내', 1896: '▁아까워', 1897: '▁영화였습니다', 1898: '시절', 1899: '▁있음', 1900: '▁지루하지', 1901: '▁안나오', 1902: '인거', 1903: '졸', 1904: '▁것은', 1905: '됐', 1906: '▁만나', 1907: '▁전개가', 1908: '려서', 1909: '영화다', 1910: '▁있는데', 1911: '▁억지로', 1912: '옥', 1913: '럽', 1914: '@', 1915: '▁리', 1916: '▁재밌었어요', 1917: '▁가치', 1918: '부분', 1919: '▁이리', 1920: '▁미화', 1921: '▁않을', 1922: '▁언', 1923: '▁ost', 1924: '▁아오', 1925: '▁화려한', 1926: '랄', 1927: '▁알았는데', 1928: '▁처음으로', 1929: '▁성장', 1930: '▁사람들은', 1931: '▁재밌어', 1932: '▁나만', 1933: '▁골', 1934: '▁티비', 1935: '▁리얼', 1936: '▁그것', 1937: '그래도', 1938: '드는', 1939: '을텐데', 1940: '▁명작이다', 1941: '▁금', 1942: '▁이유', 1943: ';;;;', 1944: '애니', 1945: '▁매력적인', 1946: '▁나에게', 1947: '▁연출이', 1948: '▁지금도', 1949: '것이다', 1950: '▁자연', 1951: '▁상영', 1952: '▁로맨틱', 1953: '들과', 1954: '▁둘', 1955: '▁인간의', 1956: '마저', 1957: '▁아들', 1958: '랬', 1959: '▁s', 1960: '▁끌', 1961: '취', 1962: '▁교', 1963: '▁우울', 1964: '▁진부한', 1965: '▁까', 1966: '지고', 1967: '황', 1968: '하세요', 1969: '봣', 1970: '▁엉성', 1971: '▁됐', 1972: '애들', 1973: '▁귀여운', 1974: '▁설명', 1975: '▁그랬', 1976: '▁수준이', 1977: '냥', 1978: '하는거', 1979: '▁온', 1980: '▁잘만든', 1981: '최', 1982: '▁흐', 1983: '셔', 1984: '릭', 1985: '감이', 1986: '▁편집', 1987: '최악', 1988: '말이', 1989: '▁이야기를', 1990: '▁불편', 1991: '났다', 1992: '속에', 1993: '널', 1994: '코미디', 1995: '강추', 1996: '▁니', 1997: '왔', 1998: '▁그게', 1999: '▁상상력', 2000: '▁작품이', 2001: '리스', 2002: '▁중에', 2003: '▁이후', 2004: '▁이쁘', 2005: '웠', 2006: '▁좋았습니다', 2007: '겠네', 2008: '▁시간낭비', 2009: '전에', 2010: '는걸', 2011: '▁아빠', 2012: '결말', 2013: '▁허접한', 2014: '▁영화중에', 2015: '▁짜증나', 2016: '▁느껴', 2017: '▁맥', 2018: '시켜', 2019: '▁그래', 2020: '안되', 2021: '▁왠지', 2022: '▁ᄏᄏᄏᄏᄏ', 2023: '▁졸라', 2024: '▁목', 2025: '벨', 2026: '▁방송', 2027: '▁독', 2028: '▁쓴', 2029: '혹', 2030: '됬', 2031: '때마다', 2032: '&', 2033: '▁밑에', 2034: '▁괴', 2035: '▁이미', 2036: '하자', 2037: '흐', 2038: '▁흥미', 2039: 'ᅲᅲᅲᅲ', 2040: '▁유쾌한', 2041: '로운', 2042: '했고', 2043: '필요', 2044: '▁슬', 2045: '▁비슷한', 2046: '쩔', 2047: '▁복수', 2048: '▁이번', 2049: '▁좋았음', 2050: '로서', 2051: '▁훨', 2052: '가서', 2053: ',,,,', 2054: '▁최악이다', 2055: '▁보고나서', 2056: '▁영웅', 2057: '▁별루', 2058: '▁키', 2059: '스타', 2060: '▁저도', 2061: '▁깊은', 2062: '가지', 2063: '인이', 2064: '▁수가', 2065: '픈', 2066: '▁처', 2067: '▁만들었다', 2068: '자가', 2069: '령', 2070: '▁감동적이고', 2071: '▁겁나', 2072: 'T', 2073: '▁여성', 2074: '▁왜이렇게', 2075: '뒤', 2076: '▁중반', 2077: '지않는', 2078: '다운', 2079: '인간', 2080: '알바', 2081: '▁잘봤습니다', 2082: '▁질질', 2083: '에겐', 2084: '▁소재는', 2085: '▁바람', 2086: '였어요', 2087: '지않은', 2088: '했으면', 2089: '짝', 2090: '잉', 2091: '▁진행', 2092: '▁방', 2093: '▁합니다', 2094: '▁과거', 2095: '엿', 2096: '▁인정', 2097: '해주는', 2098: '▁-_-', 2099: '▁형', 2100: '동안', 2101: '그러', 2102: '벽', 2103: '준다', 2104: '▁전편', 2105: '▁지금봐도', 2106: '▁어이없', 2107: '뜨', 2108: '▁살인', 2109: '▁감사', 2110: '가족', 2111: '닥', 2112: '▁이런게', 2113: '▁게임', 2114: '▁앞으로', 2115: '▁완벽', 2116: '▁명작이', 2117: '봉', 2118: '▁배우가', 2119: '▁뭔지', 2120: '▁자유', 2121: '빨', 2122: '수록', 2123: '▁창', 2124: '춘', 2125: '▁늘', 2126: '닝', 2127: '마다', 2128: '▁느껴지는', 2129: '▁지나', 2130: '▁C', 2131: '▁결혼', 2132: '족', 2133: '▁클', 2134: '▁깊이', 2135: '▁출', 2136: '▁해주는', 2137: '▁잔인하', 2138: '보세요', 2139: '멋', 2140: '▁그림', 2141: '는것', 2142: '▁것이다', 2143: '▁낭비', 2144: '활', 2145: '풀', 2146: '봤음', 2147: '스런', 2148: '▁않았다', 2149: '▁촬영', 2150: '쁘', 2151: '▁비슷', 2152: '▁노출', 2153: '놓은', 2154: '앙', 2155: '▁신선', 2156: '▁관람', 2157: '▁아름답다', 2158: '▁평론가', 2159: '▁않음', 2160: '▁마음을', 2161: '▁분명', 2162: '▁역대', 2163: '▁아놔', 2164: '▁이러', 2165: '르는', 2166: '송', 2167: 'or', 2168: 'w', 2169: '욱', 2170: '▁메세지', 2171: '▁만드', 2172: '▁생각나', 2173: '▁씨', 2174: '▁같네요', 2175: '▁인상', 2176: '▁아니지만', 2177: '▁이어', 2178: '롭', 2179: '눈물', 2180: '▁한계', 2181: '이제', 2182: '▁각', 2183: '▁답', 2184: '만으로', 2185: '▁어찌', 2186: '▁긴', 2187: '▁임', 2188: '▁좋았는데', 2189: 'ᄒᄒᄒ', 2190: '▁특유의', 2191: '▁말고', 2192: '▁보여준', 2193: '책', 2194: '▁똑같', 2195: '버리', 2196: '▁보지마세요', 2197: '킨', 2198: '▁맞는', 2199: '▁떠', 2200: '작가', 2201: '▁사랑이', 2202: '▁감사합니다', 2203: '▁동화', 2204: '▁유쾌', 2205: '갔', 2206: '▁19', 2207: '▁인물', 2208: '나옴', 2209: '▁급', 2210: '▁입니다', 2211: '▁스토리에', 2212: '팔', 2213: '▁갑', 2214: 'ᄂ', 2215: '▁모습이', 2216: '▁good', 2217: '▁요소', 2218: '었으면', 2219: '//', 2220: '버렸다', 2221: '소재', 2222: '없어', 2223: '▁이야기가', 2224: '▁소름', 2225: '▁광', 2226: '든다', 2227: '암', 2228: '▁액션이', 2229: '▁이영화가', 2230: '▁먼저', 2231: '▁넘어', 2232: '▁해준', 2233: '▁확', 2234: '이면', 2235: '▁어릴적', 2236: '▁아름답고', 2237: '누', 2238: '▁보고싶다', 2239: '흡', 2240: '▁슬프', 2241: '홍', 2242: '▁분들', 2243: '▁현재', 2244: '▁빠지', 2245: '려는', 2246: '▁빈', 2247: '보면서', 2248: '▁떠나', 2249: '었습니다', 2250: '▁듯한', 2251: '득', 2252: '▁취향', 2253: '▁멋있', 2254: '들아', 2255: '▁성공', 2256: '▁그녀', 2257: '▁매력이', 2258: '▁장면은', 2259: '▁법', 2260: '시간이', 2261: '▁성인', 2262: '거임', 2263: '사람이', 2264: '거같다', 2265: 'S', 2266: '▁지난', 2267: '▁표정', 2268: '▁하면', 2269: '▁너무나도', 2270: '▁여전히', 2271: '▁몰', 2272: '웃음', 2273: '아닌', 2274: '▁심심', 2275: '▁어색한', 2276: '▁꼬', 2277: '▁눈을', 2278: '있게', 2279: '팅', 2280: '량', 2281: '골', 2282: '▁스케일', 2283: '쪽', 2284: '▁좋았고', 2285: '▁저예산', 2286: '무슨', 2287: '재미없다', 2288: '▁본다', 2289: '▁슬프다', 2290: '▁있었던', 2291: '▁권', 2292: '▁범죄', 2293: '▁귀엽고', 2294: '▁시청률', 2295: '▁짱짱', 2296: '떡', 2297: '껄', 2298: '▁받아', 2299: '만들어', 2300: '▁젤', 2301: '▁보고싶', 2302: '▁황당', 2303: '▁있다는', 2304: 'v', 2305: '▁남주', 2306: '으며', 2307: '쩌', 2308: '▁독특한', 2309: '▁커', 2310: '분이', 2311: '되지', 2312: '한듯', 2313: '했어', 2314: '▁봤었는데', 2315: '▁비추', 2316: '▁일상', 2317: '롱', 2318: '일뿐', 2319: '▁OST', 2320: '모습', 2321: '▁몰랐', 2322: '▁등장', 2323: '▁복', 2324: '던가', 2325: '▁어이없는', 2326: '텐데', 2327: '▁나라', 2328: '▁삶', 2329: '짜리', 2330: '몽', 2331: '압', 2332: '깔', 2333: '▁전체적으로', 2334: '손', 2335: '▁신선한', 2336: '▁남는다', 2337: '언니', 2338: '▁이젠', 2339: '줌', 2340: '▁단순', 2341: '스가', 2342: '▁알아', 2343: '친구', 2344: '유치', 2345: '▁식상', 2346: '쿠', 2347: '▁싫어', 2348: '확', 2349: '떨어', 2350: '▁프로', 2351: '▁처음이다', 2352: '마음', 2353: '▁친', 2354: '▁싶어', 2355: '턴', 2356: 'P', 2357: '성을', 2358: '폭', 2359: '▁알바들', 2360: '▁확실히', 2361: '찌', 2362: '충', 2363: 'ᄍᄍ', 2364: '▁좋았', 2365: '▁세상에', 2366: '▁재밌습니다', 2367: '%', 2368: '▁사이', 2369: '▁어쩌', 2370: '▁트', 2371: '▁그렇고', 2372: '이렇게', 2373: '▁예쁜', 2374: '▁무섭', 2375: '클', 2376: '▁밀', 2377: '▁나를', 2378: '▁한편', 2379: '▁눈이', 2380: '▁얼', 2381: '오빠', 2382: '▁잼있게', 2383: '▁당신', 2384: '람', 2385: '▁마라', 2386: '▁받', 2387: '웃겼', 2388: '▁ᄉᄇ', 2389: '▁기대를', 2390: '▁후반', 2391: '영상', 2392: '▁보는게', 2393: '끼리', 2394: '▁모르겠', 2395: '▁감탄', 2396: '▁15', 2397: '지마라', 2398: '▁정치', 2399: '▁돋보', 2400: '▁해야', 2401: '▁애들이', 2402: '점주는', 2403: '▁잊혀지지', 2404: '▁관심', 2405: '▁ᅮ', 2406: '주고', 2407: '▁미치', 2408: '▁돌려', 2409: '응', 2410: '▁이것', 2411: '▁웃겨', 2412: '▁되었', 2413: '▁cg', 2414: '나온', 2415: '▁섹시', 2416: '▁답답', 2417: '몰', 2418: '▁아깝', 2419: '▁재밌었는데', 2420: 'ᄃ', 2421: '다른', 2422: '▁호러', 2423: '촌', 2424: '▁않아', 2425: '▁전달', 2426: '▁나왔으면', 2427: '▁필요없는', 2428: '코드', 2429: '것들', 2430: '▁여자들', 2431: '했을', 2432: '▁와닿', 2433: '▁조폭', 2434: '▁무엇보다', 2435: '만화', 2436: '▁캐릭터들', 2437: '▁싫다', 2438: '▁놓', 2439: '▁같음', 2440: '▁기분이', 2441: '▁보시길', 2442: '특히', 2443: '인의', 2444: '▁아저씨', 2445: '지마', 2446: '▁연기력이', 2447: '재밌어요', 2448: '▁다소', 2449: '▁취', 2450: '▁봐야할', 2451: '▁했지만', 2452: '▁끝나고', 2453: '▁근', 2454: '하는게', 2455: '▁실제', 2456: '하다니', 2457: '▁꺼', 2458: '쇼', 2459: '무섭', 2460: '드리', 2461: '▁ᄃᄃ', 2462: '▁그런가', 2463: '즐', 2464: '보이', 2465: '▁아니면', 2466: '▁삶을', 2467: '▁빨', 2468: '엄', 2469: '▁재밌었음', 2470: '▁히', 2471: '▁찍은', 2472: '▁미래', 2473: '▁좋을', 2474: '▁나가', 2475: '▁어렸을', 2476: '었지만', 2477: '▁서로', 2478: '▁훈훈', 2479: '▁여자가', 2480: '쾌', 2481: '▁볼거리', 2482: '흘', 2483: '시다', 2484: '▁부분', 2485: '드라', 2486: 'an', 2487: '▁아닌듯', 2488: '끝나', 2489: '급영화', 2490: 'ᄏᄏᄏᄏᄏᄏᄏᄏᄏᄏᄏᄏᄏᄏᄏᄏ', 2491: '둘', 2492: '▁재밌었', 2493: '▁시선', 2494: '웠다', 2495: '▁홍', 2496: '내요', 2497: '▁시원', 2498: '▁음악이', 2499: '▁멋지다', 2500: '▁있나', 2501: '▁빼', 2502: '땅', 2503: '▁물론', 2504: '▁주인공들', 2505: '▁독립영화', 2506: '면서도', 2507: '▁스토리와', 2508: '▁추천합니다', 2509: '한다면', 2510: '평점이', 2511: '▁잼없', 2512: '▁이하', 2513: '▁드는', 2514: '나올', 2515: '▁짜증나는', 2516: '▁그런데', 2517: '짜증', 2518: '▁관계', 2519: '순간', 2520: '▁회', 2521: '▁이연걸', 2522: '▁부분이', 2523: '돼', 2524: '▁같습니다', 2525: '▁사극', 2526: '▁티비에서', 2527: '버리고', 2528: '깨', 2529: '▁재미있음', 2530: '쓴', 2531: 'C', 2532: '▁오히려', 2533: '▁희망', 2534: '20', 2535: '▁평생', 2536: '▁굳', 2537: '▁송', 2538: '▁몰입감', 2539: '▁I', 2540: '▁아닌데', 2541: '▁보이는', 2542: '것은', 2543: '▁아닐까', 2544: '▁대충', 2545: '▁갖', 2546: '▁액션은', 2547: '갓', 2548: '하라', 2549: '▁몸매', 2550: '▁몇번을', 2551: '▁이유가', 2552: '▁카메라', 2553: '▁영화관', 2554: '▁재밋게', 2555: 'O', 2556: '▁이정도면', 2557: '▁청', 2558: '더군요', 2559: '새끼', 2560: '했는지', 2561: '▁역시나', 2562: '▁순수한', 2563: '=', 2564: '▁킬링타임', 2565: '▁추억의', 2566: '누나', 2567: 'j', 2568: 'ᄆ', 2569: '▁슬픔', 2570: '아주', 2571: '▁경찰', 2572: '▁볼때마다', 2573: '▁접', 2574: '▁표', 2575: '따위', 2576: '▁A', 2577: '제목', 2578: '시고', 2579: '▁용', 2580: '▁용서', 2581: '▁끝난', 2582: '▁황', 2583: '▁필요없다', 2584: '▁글쎄', 2585: '▁범인', 2586: '▁민', 2587: '▁슬프고', 2588: '▁누', 2589: '▁해주', 2590: '영환', 2591: '탕', 2592: 'er', 2593: '▁설레', 2594: 'A', 2595: '▁낫', 2596: '죄', 2597: '북', 2598: 'B', 2599: '▁받았', 2600: '인것', 2601: '▁평범한', 2602: '▁드라마가', 2603: '▁긴장', 2604: '좌', 2605: '▁짠', 2606: '▁생각나는', 2607: '▁가끔', 2608: '▁보기엔', 2609: '번째', 2610: '▁하게', 2611: '년전에', 2612: '용으로', 2613: '▁있다면', 2614: '▁고전', 2615: '000', 2616: '점준', 2617: '▁몇번', 2618: '▁멀', 2619: '빡', 2620: '뿌', 2621: '▁디즈니', 2622: '▁표절', 2623: '▁살짝', 2624: '▁재미를', 2625: '▁고민', 2626: '▁가볍게', 2627: '▁싫', 2628: '▁난다', 2629: '▁홍콩', 2630: '▁참신', 2631: '좋아요', 2632: '할듯', 2633: '▁벗', 2634: '수도', 2635: '하면서도', 2636: '방송', 2637: '인생', 2638: '▁죽는', 2639: '틱', 2640: '재밌다', 2641: '▁느낀', 2642: '▁소재를', 2643: '▁화려', 2644: '▁함', 2645: '▁철', 2646: '니깐', 2647: '으면서', 2648: '▁봤다가', 2649: '왔다', 2650: '나와', 2651: '▁아깝지', 2652: '율', 2653: '▁그럭저럭', 2654: '덤', 2655: '▁힐링', 2656: '잼있', 2657: '▁외국', 2658: '▁w', 2659: 'ᄀ', 2660: '▁딴', 2661: '▁무섭다', 2662: '▁빛', 2663: '와서', 2664: '▁그의', 2665: '▁틀', 2666: '~~~~~~~', 2667: '총', 2668: '뜻', 2669: '▁별로다', 2670: '▁떨어지는', 2671: '▁소름돋', 2672: '▁국', 2673: '▁사랑과', 2674: '▁화가', 2675: '▁먼', 2676: '말고', 2677: '▁논', 2678: '▁어린이', 2679: '하구', 2680: '던지', 2681: '버려', 2682: '▁캐', 2683: '▁언제나', 2684: '험', 2685: '▁압권', 2686: '▁무지', 2687: '▁팔', 2688: '▁볼수록', 2689: '걸로', 2690: '▁연애', 2691: '▁+', 2692: '▁괴물', 2693: '▁재미있네요', 2694: '시는', 2695: '▁프로그램', 2696: '괜찮', 2697: '생겼', 2698: '▁보이', 2699: '▁중간중간', 2700: '그래', 2701: '▁십', 2702: 'in', 2703: '▁스토리를', 2704: '▁제목이', 2705: '받고', 2706: '생활', 2707: '▁나서', 2708: '▁보았', 2709: '▁시걸', 2710: '되네요', 2711: '▁꼴', 2712: '항', 2713: '뉴', 2714: 'ᅡ', 2715: '▁S', 2716: '▁벌', 2717: '숨', 2718: '▁다르', 2719: '▁예전', 2720: '는건지', 2721: '있어', 2722: '▁모습을', 2723: '내는', 2724: '▁되게', 2725: '▁재밌네', 2726: '▁연기와', 2727: '▁뮤지컬', 2728: '▁재미있었다', 2729: '더만', 2730: '홀', 2731: '폰', 2732: '▁현대', 2733: '웃기', 2734: '나고', 2735: '▁좋았던', 2736: '▁마치', 2737: 'ᄏᄏᄏᄏᄏ', 2738: '▁사건', 2739: '▁지루해서', 2740: 'ᄅ', 2741: '한건', 2742: '겟다', 2743: '▁읽', 2744: '▁연기에', 2745: '▁<', 2746: '까진', 2747: '▁뒷', 2748: '봐요', 2749: '봣는데', 2750: '.......', 2751: '▁안하고', 2752: '없네', 2753: '▁폭', 2754: '▁엉성한', 2755: '웅', 2756: '▁실패', 2757: '낼', 2758: '▁행동', 2759: '하는지', 2760: '▁능력', 2761: '▁만들어진', 2762: '▁있지', 2763: '아님', 2764: 'ᄒᄒᄒᄒ', 2765: '▁통해', 2766: '▁그들의', 2767: '▁병', 2768: '▁초반에', 2769: '쏘', 2770: '▁감동과', 2771: '▁춤', 2772: '▁과연', 2773: '▁결', 2774: '▁어이가', 2775: '잃', 2776: '▁옛날에', 2777: '▁없나', 2778: '▁영화보고', 2779: '▁군대', 2780: 'ᄏᄏᄏᄏᄏᄏᄏᄏ', 2781: 'V', 2782: '영화의', 2783: '연기가', 2784: '▁영화이다', 2785: '▁보고싶은', 2786: '▁사람을', 2787: '값', 2788: '▁종교', 2789: '했네', 2790: '▁풍', 2791: '▁현실성', 2792: '▁맨', 2793: '봤어요', 2794: '상을', 2795: '흔', 2796: '▁제작진', 2797: '▁풀', 2798: '세계', 2799: '머리', 2800: '▁믿을', 2801: '▁재미없네', 2802: '▁퀄리티', 2803: '힐', 2804: 'R', 2805: '삭', 2806: '▁섹스', 2807: 'ᄃᄃ', 2808: '감독이', 2809: '▁시사회', 2810: '!!!!!', 2811: '▁사는', 2812: '▁붙', 2813: '함과', 2814: '▁든다', 2815: '쓸', 2816: '▁영화지만', 2817: '▁월', 2818: '아깝', 2819: '▁질리지', 2820: '▁못하고', 2821: '있네', 2822: '▁드라마를', 2823: '▁합', 2824: '남는', 2825: '자체', 2826: '▁해피엔딩', 2827: '았던', 2828: '▁볼만하다', 2829: '한게', 2830: '▁에로', 2831: '▁미드', 2832: '▁리뷰', 2833: '엘', 2834: '▁어쩔', 2835: '▁하는데', 2836: '쳤', 2837: 'M', 2838: '▁공감이', 2839: '▁죄', 2840: '진심', 2841: '▁쓸', 2842: '한국', 2843: '▁남아', 2844: '▁더이상', 2845: '(?)', 2846: '▁눈빛', 2847: '▁메시지', 2848: '스의', 2849: '▁펑펑', 2850: '▁생애', 2851: '▁그다지', 2852: '▁높다', 2853: '기분', 2854: '▁그린', 2855: '▁진심으로', 2856: '▁말로', 2857: '슈', 2858: '▁뜨', 2859: '▁덜', 2860: '▁소녀', 2861: '▁운', 2862: '▁볼만하', 2863: '▁포기', 2864: '▁봤으면', 2865: '보게', 2866: '▁무서워', 2867: '▁기대안하고', 2868: '▁심리', 2869: '▁봣', 2870: '내용이', 2871: '▁내용을', 2872: '▁12', 2873: '할까', 2874: '▁난해', 2875: '▁찍어', 2876: '기엔', 2877: '▁썩', 2878: '일이', 2879: '▁남기', 2880: '에서는', 2881: '▁다큐멘터리', 2882: '▁짓', 2883: '▁스타', 2884: 'ᄇ', 2885: '▁싸구려', 2886: '▁잔잔하고', 2887: '▁뛰어난', 2888: '▁전에', 2889: '▁사랑스러운', 2890: '!!!!!!!!!', 2891: '되서', 2892: 'ᄏᄏᄏᄏᄏᄏᄏᄏᄏ', 2893: '▁볼만함', 2894: '▁오버', 2895: '더라구요', 2896: '것만', 2897: '▁반전도', 2898: '▁자신', 2899: 'N', 2900: '▁페', 2901: '▁개판', 2902: '▁왜케', 2903: '▁중간', 2904: '굴', 2905: '▁같아', 2906: '틈', 2907: '▁없지만', 2908: 're', 2909: '▁나오고', 2910: '▁나중에', 2911: '▁죽을', 2912: '가슴', 2913: '첨', 2914: '▁올해', 2915: '▁지루할', 2916: '▁킬링타임용으로', 2917: '스릴러', 2918: '▁어른', 2919: '▁다행', 2920: '▁끼', 2921: '줄이야', 2922: '높', 2923: '틴', 2924: '봤던', 2925: '에서도', 2926: '시킨', 2927: '▁방금', 2928: '▁느낄수', 2929: '▁이거보고', 2930: '▁멋', 2931: '있음', 2932: '믿', 2933: '▁가서', 2934: '▁인기', 2935: '▁어제', 2936: '좋고', 2937: '▁음악도', 2938: '........', 2939: '먹고', 2940: 'X', 2941: '렬', 2942: '▁비주얼', 2943: '♥♥', 2944: '▁이건뭐', 2945: '▁우정', 2946: '▁분노', 2947: '님의', 2948: '혼', 2949: '▁이쁜', 2950: '▁아직까지', 2951: '▁재밋다', 2952: '중에서', 2953: '▁처음엔', 2954: '인가요', 2955: '세기', 2956: '찾', 2957: '안에', 2958: '있었', 2959: '▁찡', 2960: '헌', 2961: '▁개인', 2962: '▁c', 2963: '▁좋습니다', 2964: '영화라고', 2965: '▁필', 2966: '▁ᅲᅲᅲ', 2967: '▁굳이', 2968: '▁달리', 2969: '▁웃기고', 2970: '캐', 2971: '▁그럼', 2972: '▁낚', 2973: '기억', 2974: '▁열정', 2975: '나와서', 2976: '▁아는', 2977: '▁흘러', 2978: '▁탄탄한', 2979: '▁40', 2980: '▁사랑에', 2981: '내용도', 2982: '▁포장', 2983: '빵', 2984: '▁동물', 2985: '느라', 2986: '째', 2987: '많은', 2988: '▁삶의', 2989: '99', 2990: '공포', 2991: '면에서', 2992: '편보다', 2993: '협', 2994: '한다는', 2995: '댄', 2996: '▁열심히', 2997: '케이', 2998: '▁니콜', 2999: '▁이제야', 3000: '았는데', 3001: '▁여러', 3002: '▁빌', 3003: '설정', 3004: '▁연출도', 3005: '▁유치하다', 3006: '▁풀어', 3007: '▁판', 3008: '▁팬이', 3009: '지않고', 3010: '가지고', 3011: '개봉', 3012: '▁폭력', 3013: '하려고', 3014: '자는', 3015: '학생', 3016: '▁다시한번', 3017: '▁죽어', 3018: '▁소재가', 3019: '▁만든다', 3020: '▁안됨', 3021: '▁했던', 3022: '▁또한', 3023: '▁아나', 3024: '▁사랑하는', 3025: '▁푹', 3026: '▁배우의', 3027: '▁느끼는', 3028: '표현', 3029: '▁평이', 3030: '▁엘', 3031: '▁밋밋', 3032: '므', 3033: '▁드럽게', 3034: '▁나머지', 3035: '▁채널', 3036: '계속', 3037: '자의', 3038: '▁베스트', 3039: '▁헤', 3040: '▁찍었', 3041: '▁고생', 3042: '▁칼', 3043: '▁유치함', 3044: '▁주인공의', 3045: '볼만', 3046: '이었', 3047: '랜', 3048: '▁잼나', 3049: '솔', 3050: '▁씁쓸', 3051: '▁헐리우드', 3052: '컷', 3053: '▁따뜻해지는', 3054: '빼고', 3055: '고싶은', 3056: '으론', 3057: '막장', 3058: '스터', 3059: '▁역할', 3060: '▁맘', 3061: '티비', 3062: '▁결과', 3063: '▁소재로', 3064: '무비', 3065: '프로', 3066: '스러움', 3067: '얘기', 3068: '▁기본', 3069: '젤', 3070: '딸', 3071: '▁낮아서', 3072: '하는것', 3073: '이해', 3074: '▁죄다', 3075: '▁저렇게', 3076: '▁높아', 3077: '▁아름다움', 3078: '▁로그인', 3079: '형님', 3080: '▁통쾌', 3081: '▁무서웠', 3082: '나게', 3083: '▁영화냐', 3084: '▁올라', 3085: '▁자막', 3086: '▁매력적이', 3087: '▁인생의', 3088: '▁게이', 3089: '전쟁', 3090: '▁안타깝다', 3091: '리지', 3092: '연기도', 3093: '딩', 3094: '재밌음', 3095: '▁행', 3096: '▁자신의', 3097: '하려', 3098: '▁생각없이', 3099: '▁말할', 3100: '봤지만', 3101: '▁브', 3102: '사람은', 3103: '안되는', 3104: '▁승', 3105: '들만', 3106: '속에서', 3107: '멘', 3108: '텔', 3109: '▁시대를', 3110: '▁벌써', 3111: '▁최근', 3112: '▁악역', 3113: '▁생각한다', 3114: '만드는', 3115: '▁핵', 3116: '▁그렇다', 3117: '늘', 3118: '▁귀엽', 3119: '였지만', 3120: '▁퍼', 3121: '▁과정', 3122: '▁짧', 3123: '뛰', 3124: '릿', 3125: ']', 3126: '▁시트콤', 3127: '식이', 3128: '▁불쾌', 3129: '▁긴장감도', 3130: '▁영화에서', 3131: '▁남녀', 3132: 'ᅲᅮ', 3133: '▁매력있', 3134: '명이', 3135: '▁시시', 3136: '▁만큼', 3137: '▁몰입이', 3138: '접', 3139: '잠', 3140: '시간에', 3141: '먹는', 3142: '혁', 3143: '대사', 3144: '콜', 3145: '았습니다', 3146: '▁견자단', 3147: '▁70', 3148: '▁꾸', 3149: '▁명품', 3150: '▁끝나는', 3151: '▁d', 3152: '▁악당', 3153: '도아니고', 3154: '▁인생을', 3155: '▁느와르', 3156: '11', 3157: '현실', 3158: '젠', 3159: '▁있네요', 3160: '▁안되고', 3161: '▁되었다', 3162: '▁문화', 3163: '사가', 3164: '▁어려운', 3165: '▁의외로', 3166: '▁쓰래기', 3167: '▁빌려', 3168: '식으로', 3169: '▁나옴', 3170: '▁영국', 3171: '▁영화에요', 3172: '긴한데', 3173: '져서', 3174: '▁아침', 3175: '하겠', 3176: '보시', 3177: '▁생각합니다', 3178: '▁남을', 3179: '▁이쁘고', 3180: '▁T', 3181: '얻', 3182: '▁무엇을', 3183: '▁솔직', 3184: '▁젊은', 3185: '탁', 3186: '▁무엇', 3187: '▁폴', 3188: '어지는', 3189: '▁청소년', 3190: '영화로', 3191: '▁울었다', 3192: '하려는', 3193: '▁울고', 3194: '▁단순한', 3195: '▁둘다', 3196: '하지도', 3197: '스타일', 3198: '않는', 3199: '▁심장', 3200: '▁이기', 3201: '▁여기서', 3202: '▁그려', 3203: '님이', 3204: '▁당시에', 3205: '떄', 3206: '멸', 3207: '▁007', 3208: '▁마이클', 3209: '▁상처', 3210: '▁꽝', 3211: '이며', 3212: '▁불쌍', 3213: '극장', 3214: '▁동생', 3215: '▁즐겁게', 3216: '▁발로', 3217: '력이', 3218: '▁모든게', 3219: '▁퇴', 3220: '지가', 3221: '▁망한', 3222: '▁할말이', 3223: '▁출연진', 3224: '▁달라', 3225: '▁산으로', 3226: '감을', 3227: '▁환상', 3228: '꼽', 3229: '▁눈물을', 3230: '더라면', 3231: '▁봣는데', 3232: '▁나타', 3233: '▁발전', 3234: '▁코난', 3235: '▁표현한', 3236: '씨가', 3237: '▁자극', 3238: '▁무비', 3239: '점주', 3240: '▁의심', 3241: '했으나', 3242: '▁살아있', 3243: '▁드라마는', 3244: '▁쫌', 3245: '워서', 3246: '그렇', 3247: '▁;;', 3248: '▁괜찮았', 3249: '▁이유는', 3250: 'st', 3251: '▁올리', 3252: '드러', 3253: '훌륭', 3254: '꿀잼', 3255: '▁앤', 3256: '했나', 3257: '▁헐리웃', 3258: '착', 3259: '▁샤', 3260: '캐릭터', 3261: '▁많다', 3262: '▁가진', 3263: '▁생생', 3264: '▁단연', 3265: '▁홍보', 3266: '온다', 3267: '▁학교에서', 3268: '▁광고', 3269: '▁놈', 3270: '▁말을', 3271: '꾸', 3272: '▁나쁘지', 3273: '려면', 3274: '▁영화였어요', 3275: '▁있어요', 3276: '▁지금은', 3277: '▁아마', 3278: '본영화', 3279: '▁우와', 3280: '▁연속', 3281: '▁줌', 3282: '룡', 3283: '▁투자', 3284: '인들', 3285: '하다가', 3286: '옹', 3287: '▁짝퉁', 3288: '▁차이', 3289: '▁아쉬웠', 3290: '▁사기', 3291: '▁흐름', 3292: '▁타임', 3293: '▁어머니', 3294: '▁미소', 3295: '답답', 3296: '▁죽여', 3297: '▁정말로', 3298: '▁마세요', 3299: '수없는', 3300: '▁돌아가', 3301: '장난', 3302: '▁많아', 3303: '정신', 3304: '하셨', 3305: '▁정서', 3306: '▁북한', 3307: '▁쇼', 3308: '놨', 3309: '아라', 3310: '▁하루', 3311: '▁어렵', 3312: '▁몰라도', 3313: '▁보여', 3314: '▁보았다', 3315: '겹', 3316: '▁신선하고', 3317: '씀', 3318: '헤', 3319: '▁f', 3320: '▁아쉬움', 3321: '털', 3322: '▁쵝오', 3323: 'ing', 3324: '▁노답', 3325: '▁힘들다', 3326: '▁늘어', 3327: '▁지나치', 3328: '▁굿굿', 3329: '▁좋았을', 3330: '▁못했다', 3331: '점수', 3332: '으로서', 3333: '▁현실적인', 3334: 'on', 3335: '▁내려', 3336: '▁완', 3337: '지지', 3338: '▁넣', 3339: '자리', 3340: '중의', 3341: '`', 3342: '▁제작비', 3343: '폐', 3344: '▁옛', 3345: '▁울었', 3346: '▁좋아서', 3347: '시키는', 3348: '▁유쾌하고', 3349: '에대한', 3350: '▁모르', 3351: '▁있습니다', 3352: '▁이런영화가', 3353: '구성', 3354: '▁않게', 3355: '▁안돼', 3356: '▁끄', 3357: '▁뭉클', 3358: '▁전문가', 3359: '▁웃음이', 3360: '▁뻔하고', 3361: '▁없는데', 3362: '▁m', 3363: 'I', 3364: '▁반성', 3365: '▁웃김', 3366: '이런영화', 3367: '▁밥', 3368: '▁있으면', 3369: '▁야한', 3370: '노래', 3371: '편의', 3372: '▁건지', 3373: '▁좋지만', 3374: '▁무시', 3375: '즘', 3376: '▁이후로', 3377: '떼', 3378: '팀', 3379: '▁주성치', 3380: '▁쉽게', 3381: '▁멍청한', 3382: 'ar', 3383: '▁에휴', 3384: '▁희생', 3385: '▁최강', 3386: '리아', 3387: '▁되지', 3388: '▁우주', 3389: '▁결말도', 3390: '엄마', 3391: '슬프', 3392: '이유', 3393: '끝까지', 3394: '보자', 3395: '▁있게', 3396: '하더라', 3397: '▁쩐다', 3398: '▁빠', 3399: '스러웠', 3400: '▁마이너스', 3401: '뮤', 3402: '포인트', 3403: '했네요', 3404: '▁잔인한', 3405: '▁재미있었어요', 3406: '정이', 3407: '같음', 3408: '200', 3409: '갔다', 3410: '▁채', 3411: '끈', 3412: '▁놀라', 3413: '떠', 3414: '▁a', 3415: '아까', 3416: '흥', 3417: '아요', 3418: '▁많았', 3419: '▁떠나서', 3420: '▁점수를', 3421: '▁나왔다', 3422: '▁식', 3423: '해주세요', 3424: '▁싶네요', 3425: '사이', 3426: '계의', 3427: '영화임', 3428: '▁이따위', 3429: '▁시간을', 3430: '▁친구들', 3431: 'OOO', 3432: '버림', 3433: '끌', 3434: '▁잔', 3435: '▁즐거운', 3436: '▁빼고는', 3437: '▁크게', 3438: '▁하네요', 3439: '▁지루하게', 3440: '집니다', 3441: '▁루', 3442: '한것', 3443: '?!', 3444: '있는데', 3445: '야할', 3446: '▁보길', 3447: '▁이쁘다', 3448: '▁엉망', 3449: '관계', 3450: '물이', 3451: '▁중요한', 3452: '텐', 3453: '매력', 3454: '밝', 3455: '▁레전드', 3456: '▁무언가', 3457: '▁왠', 3458: '▁the', 3459: '▁흥미로운', 3460: '▁영화인듯', 3461: '▁사랑이야기', 3462: '▁라는', 3463: '▁지루했다', 3464: '로써', 3465: '지도않고', 3466: '▁보니까', 3467: '▁오랜만', 3468: '▁진정', 3469: '야한다', 3470: '장면이', 3471: '▁나오지', 3472: '▁못해', 3473: '▁지구', 3474: '▁잊지', 3475: '아니다', 3476: '친다', 3477: '▁손발이', 3478: 'ᅵ', 3479: '▁더러운', 3480: '▁반개도', 3481: '▁발견', 3482: '▁달달', 3483: '학교', 3484: '▁시각', 3485: '▁평범', 3486: '원작', 3487: '▁한데', 3488: '▁아쉽네요', 3489: '▁보아', 3490: '▁순수', 3491: '▁기대했는데', 3492: '▁결말은', 3493: '▁안타깝', 3494: '보는내내', 3495: '▁좀더', 3496: '▁중에서', 3497: '하지마라', 3498: '부족', 3499: '없어서', 3500: '보지말', 3501: '빙', 3502: '스럽고', 3503: '▁좋아할', 3504: '▁음악과', 3505: '지를', 3506: '택', 3507: '붕', 3508: '뽕', 3509: '롤', 3510: '▁위대한', 3511: '▁기다리', 3512: '잔잔', 3513: '적은', 3514: '▁올려', 3515: '▁누구나', 3516: '자체가', 3517: '왔는데', 3518: '▁재밌을', 3519: 'ᄏᄏᄏᄏᄏᄏᄏᄏᄏᄏᄏᄏᄏ', 3520: '▁딱히', 3521: '▁나오면', 3522: '▁받을', 3523: '▁만들고', 3524: '사는', 3525: '혈', 3526: '▁싸이코', 3527: '▁연예인', 3528: '▁더불어', 3529: '▁웃기지도', 3530: '▁민망', 3531: '▁뜻', 3532: '▁특이', 3533: '▁의리', 3534: '았음', 3535: '▁푸', 3536: '나온다', 3537: '▁의문', 3538: '빼곤', 3539: '▁멋있다', 3540: '되면', 3541: '▁무섭지도', 3542: '▁신파', 3543: '▁인상적이', 3544: '▁적당', 3545: '었어', 3546: '겠음', 3547: '그리', 3548: '▁의미를', 3549: '▁알수', 3550: '▁주말', 3551: '따라', 3552: '▁재미없어요', 3553: '아쉽', 3554: '있나', 3555: '▁가지', 3556: '▁떨어지', 3557: '이라서', 3558: '▁다만', 3559: '▁조합', 3560: '▁꽃', 3561: '대는', 3562: '▁빼고', 3563: '▁부족하다', 3564: '▁끝이', 3565: '▁묻', 3566: '▁극치', 3567: '렉', 3568: '▁집에서', 3569: '▁쓰레기같은', 3570: '▁속에', 3571: '넹', 3572: '▁김기덕', 3573: '▁보고나면', 3574: '▁묘사', 3575: '▁귀여워', 3576: '▁끊', 3577: '▁봤더니', 3578: '▁연결', 3579: '▁어휴', 3580: '▁역대급', 3581: '▁한국인', 3582: '뭔', 3583: '▁오바', 3584: '이었음', 3585: '▁[', 3586: '▁인간들', 3587: '▁보인다', 3588: '▁이해하기', 3589: '들고', 3590: '▁현실적이', 3591: '▁무협', 3592: '▁슈퍼', 3593: '땡', 3594: '▁피해자', 3595: '새끼들', 3596: '편도', 3597: '▁무척', 3598: '▁박수를', 3599: '거라', 3600: '▁쓰레기다', 3601: '▁전체', 3602: '▁학교', 3603: '▁못한다', 3604: '▁느낌을', 3605: '▁미모', 3606: '▁한마디', 3607: '▁영화인', 3608: '자나', 3609: '▁맡', 3610: '같네', 3611: '▁한참', 3612: 'it', 3613: '례', 3614: '▁멍청', 3615: '▁양심', 3616: '제발', 3617: '▁거지', 3618: '▁외모', 3619: '님들', 3620: '하기만', 3621: 'is', 3622: '▁우리가', 3623: '편을', 3624: '▁홍콩영화', 3625: '시즌', 3626: '렇', 3627: '점정도', 3628: '▁않지만', 3629: '▁케이블', 3630: '놔', 3631: '▁보러', 3632: '이자', 3633: '몬', 3634: '▁시간가는줄', 3635: '▁크리스마스', 3636: '▁불구하고', 3637: '▁맨날', 3638: '▁국민', 3639: '▁시리즈중', 3640: '▁한국영화는', 3641: '▁시청', 3642: '▁느꼈', 3643: '▁예쁘', 3644: '▁혼', 3645: '잔인', 3646: '엇다', 3647: '보여', 3648: '▁국내', 3649: '▁신경', 3650: '▁그렇지', 3651: '짜증나', 3652: '▁끌어', 3653: '했다는', 3654: '일본', 3655: '▁사랑의', 3656: '▁에피소드', 3657: '▁흔한', 3658: '▁필름', 3659: '▁없지', 3660: '▁싶지', 3661: '▁배우들도', 3662: '▁낳', 3663: '▁13', 3664: '만의', 3665: '고싶어', 3666: '않다', 3667: '▁짐', 3668: '다는게', 3669: '▁싶었', 3670: '▁이해할', 3671: '하는건', 3672: '▁공부', 3673: '▁관한', 3674: '콩', 3675: '밥', 3676: '▁어릴', 3677: '평가', 3678: '보지', 3679: '칙', 3680: '▁뒤로', 3681: '좋아하는', 3682: '▁잭', 3683: '▁가면', 3684: '시작', 3685: '▁이때', 3686: '▁한번쯤', 3687: '▁넘치는', 3688: '만큼은', 3689: '^^*', 3690: '▁18', 3691: '수있는', 3692: '지말고', 3693: '▁사람의', 3694: '와는', 3695: '▁무리', 3696: '▁작가가', 3697: '▁주기', 3698: '왔습니다', 3699: '▁왜이래', 3700: '▁50', 3701: '쥐', 3702: '▁끝났', 3703: '▁들었', 3704: '껴', 3705: '컬', 3706: 'K', 3707: '▁러닝타임', 3708: '▁초등학생', 3709: '▁포르노', 3710: '▁아줌마', 3711: '▁색다른', 3712: '▁인도', 3713: '▁꿈을', 3714: '▁장면에서', 3715: '▁하나하나', 3716: '하시는', 3717: '웨', 3718: '세상', 3719: '었고', 3720: '같고', 3721: '넣', 3722: '▁헤어', 3723: '봤네요', 3724: '▁냉', 3725: '맥', 3726: '▁ᄏᄏᄏᄏᄏᄏ', 3727: '..........', 3728: '버리는', 3729: '▁:', 3730: '▁이유를', 3731: '스러워', 3732: '까지는', 3733: '▁감동적', 3734: 'H', 3735: '▁왠만하면', 3736: '▁외계인', 3737: '▁검색', 3738: '▁좋았으나', 3739: '▁아역', 3740: '쳤다', 3741: '했었', 3742: '▁레알', 3743: '해진', 3744: '▁충격적', 3745: '었나', 3746: '▁몰입해서', 3747: '▁와우', 3748: '▁원작의', 3749: '▁제로', 3750: '아쉬', 3751: '기위해', 3752: '▁중요', 3753: '▁점수가', 3754: '짱짱', 3755: '▁가능', 3756: '▁드립니다', 3757: '▁진부하고', 3758: '▁덕분에', 3759: '▁오글', 3760: '▁군', 3761: '뭔가', 3762: '▁졸리', 3763: '▁볼수있', 3764: '▁돋', 3765: '윈', 3766: '▁핵노잼', 3767: '▁개뿔', 3768: '개도', 3769: '▁즐기', 3770: '▁방법', 3771: '년만에', 3772: '▁이래', 3773: '▁찌질', 3774: '▁다룬', 3775: '▁고통', 3776: '▁사랑은', 3777: '엔딩', 3778: '▁안보고', 3779: '▁죽이', 3780: '라는게', 3781: '▁착', 3782: '▁없었던', 3783: '▁허세', 3784: '▁장면들', 3785: '해준', 3786: '▁비극', 3787: '감독님', 3788: '치곤', 3789: '▁보기에', 3790: '▁인간이', 3791: '제작', 3792: '▁알겠', 3793: '머니', 3794: '쉽', 3795: '빌', 3796: '~!!!', 3797: '봅니다', 3798: '▁재미와', 3799: '밑', 3800: '나왔', 3801: '▁있으', 3802: '나가는', 3803: '컨', 3804: '▁카리스마', 3805: '▁좋아하는데', 3806: ':)', 3807: '대단', 3808: '겠네요', 3809: '▁지켜', 3810: '▁상업', 3811: '▁보지마', 3812: '▁남자가', 3813: '▁할말', 3814: '소설', 3815: '하기엔', 3816: '▁미안', 3817: '겼', 3818: '▁보긴', 3819: '씨의', 3820: '하신', 3821: '줘야', 3822: '었을', 3823: '씬은', 3824: '▁잊을', 3825: '▁대사가', 3826: '▁눈에', 3827: '점줌', 3828: '▁그렇', 3829: '▁아이가', 3830: '해야지', 3831: '▁작은', 3832: '공감', 3833: '▁한심', 3834: '란다', 3835: '▁되고', 3836: '▁들어가', 3837: '▁멍', 3838: '농', 3839: '냄새', 3840: '▁바꿔', 3841: '▁1,2', 3842: '▁어린시절', 3843: '▁느껴진다', 3844: '▁일품', 3845: '할만한', 3846: '▁뇌', 3847: '▁생각하는', 3848: '▁크리스', 3849: '▁남겨', 3850: '했을까', 3851: '신분들', 3852: '▁소름이', 3853: '사회', 3854: '▁진리', 3855: '점이다', 3856: '▁간다', 3857: '셈', 3858: '▁찌', 3859: '▁명작입니다', 3860: '▁하는지', 3861: '▁부르', 3862: '▁보자', 3863: '몰입', 3864: '▁뭐라', 3865: '낚', 3866: '낀', 3867: '쥬', 3868: '뽀', 3869: '▁여행', 3870: '▁좋겠어요', 3871: '▁풍경', 3872: '년도에', 3873: '아까움', 3874: '▁시도', 3875: '.........', 3876: '▁깔끔', 3877: '▁말하는', 3878: '▁그걸', 3879: '▁추억이', 3880: '그래서', 3881: '▁빠진', 3882: '편에', 3883: '▁재미있어', 3884: '▁가져', 3885: '의미', 3886: '였어', 3887: '▁11', 3888: '▁착한', 3889: '▁조연', 3890: '▁본다면', 3891: '▁억지스럽', 3892: '▁이런영화를', 3893: '▁그렇다고', 3894: '밤', 3895: '▁형님', 3896: '꾼', 3897: '▁아까울', 3898: '멍', 3899: '▁죽는줄', 3900: '보고싶다', 3901: '겁니다', 3902: '▁재미없게', 3903: '주고싶', 3904: '배경', 3905: '▁망치', 3906: '▁야동', 3907: '!!!!!!!!!!!!!!!!', 3908: '▁악마', 3909: '르고', 3910: '▁이럴', 3911: '▁개성', 3912: '해진다', 3913: '▁탈', 3914: '▁잼있다', 3915: '▁최고입니다', 3916: '▁척', 3917: '▁진지', 3918: '▁못할', 3919: '절대', 3920: '▁영어', 3921: '기로', 3922: '는것도', 3923: '▁희', 3924: '간의', 3925: '쟁이', 3926: '▁뛰어', 3927: '샤', 3928: '스럽게', 3929: '▁기독교', 3930: '둔', 3931: '▁아름다웠', 3932: '럭', 3933: '▁로봇', 3934: '▁기다려', 3935: '▁안나', 3936: '▁최대', 3937: '▁더럽', 3938: '▁뽑', 3939: '쓰고', 3940: '▁설마', 3941: '연기력', 3942: '▁훈훈한', 3943: '▁색', 3944: '만이', 3945: '▁빵', 3946: '잇는', 3947: '▁이것이', 3948: '봤어', 3949: '▁같아서', 3950: '▁들었다', 3951: '앞', 3952: '▁훌륭하다', 3953: '주면', 3954: '▁삶에', 3955: '▁찬', 3956: '했었는데', 3957: '▁있어야', 3958: '줬다', 3959: '▁인물들', 3960: '▁시청자', 3961: '저리', 3962: '▁본거', 3963: '▁이제서야', 3964: 'ᄌ', 3965: '얼굴', 3966: '▁철학', 3967: '▁짜증난다', 3968: '이였다', 3969: '▁변태', 3970: '▁비디오로', 3971: '▁여름', 3972: '▁동안', 3973: '▁D', 3974: '▁떨어진다', 3975: '힘', 3976: '▁니들', 3977: '▁색감', 3978: '▁가득', 3979: '▁먹고', 3980: '▁가슴에', 3981: '있냐', 3982: '▁필요없', 3983: '보구', 3984: '▁장르가', 3985: '!!!!!!', 3986: '배우가', 3987: '바뀌', 3988: '으려', 3989: '버릴', 3990: '할수있', 3991: '닮', 3992: '▁재밌다고', 3993: '▁고양이', 3994: '거면', 3995: '큰', 3996: '▁맹', 3997: '랄까', 3998: '▁아이돌', 3999: '▁개막장', 4000: '하던데', 4001: '갈수록', 4002: '▁생각하고', 4003: '▁지루하기', 4004: '▁O', 4005: '♥♥♥', 4006: '▁행복한', 4007: '없는영화', 4008: '▁본영화', 4009: '▁체', 4010: '▁이미지', 4011: '▁보여준다', 4012: '▁충', 4013: '내고', 4014: '▁괜찮은데', 4015: '▁힘이', 4016: '▁연기자들', 4017: '억지', 4018: '▁됨', 4019: '▁즐겁', 4020: '감독의', 4021: '▁작품을', 4022: '▁199', 4023: '▁누군가', 4024: '▁감동적이다', 4025: '적이다', 4026: '공포영화', 4027: '▁용기', 4028: '섹', 4029: '똥', 4030: '쭉', 4031: '▁극장가서', 4032: '▁미스', 4033: '▁빵점', 4034: '차라리', 4035: '▁개봉한', 4036: '▁좋았지만', 4037: '▁모르겠지만', 4038: '재밋음', 4039: '▁낮다', 4040: '▁ᄋᄋ', 4041: '더라도', 4042: '▁많고', 4043: '속의', 4044: '▁못하다', 4045: '▁볼만했', 4046: '되었', 4047: '▁섬', 4048: '▁자살', 4049: '▁탑', 4050: '▁틀어', 4051: '▁연기력도', 4052: '▁조화', 4053: '▁아픔', 4054: '▁재미잇', 4055: '▁좋아해서', 4056: '▁블랙', 4057: '렁', 4058: '핑', 4059: '▁가치가', 4060: '허접', 4061: '▁없어요', 4062: 'G', 4063: '▁따뜻', 4064: '▁있구나', 4065: '겠어요', 4066: '▁콩', 4067: '▁보여줬', 4068: '▁필요한', 4069: '▁웬', 4070: '▁못함', 4071: '▁플', 4072: '▁우리의', 4073: '▁ᄋ', 4074: '우리', 4075: '모든', 4076: '▁남자들', 4077: '▁때문', 4078: '어라', 4079: '빨리', 4080: '▁야구', 4081: '좋앗', 4082: '▁G', 4083: '▁살려', 4084: '자를', 4085: '칸', 4086: '▁그럴', 4087: '▁한명', 4088: '▁감흥', 4089: '하기도', 4090: '▁낮아', 4091: '▁줬', 4092: '▁캬', 4093: '겠습니다', 4094: '이걸', 4095: '▁볼게', 4096: '▁쥐', 4097: '▁작품이다', 4098: '▁자식', 4099: '▁명화', 4100: '▁감히', 4101: '빠지', 4102: '▁아픈', 4103: '▁살고', 4104: '▁엄', 4105: '기에는', 4106: '▁감안', 4107: '▁평점보고', 4108: '▁잇', 4109: '되나', 4110: '영화입니다', 4111: '▁내가본', 4112: '하고싶은', 4113: '▁전쟁영화', 4114: '▁검', 4115: '▁보내', 4116: '▁그녀의', 4117: '끄', 4118: '▁애기', 4119: '보이는', 4120: '▁긴장감이', 4121: '엠', 4122: '빅', 4123: '긋', 4124: '손가락', 4125: '있을', 4126: '▁교육', 4127: '▁겨우', 4128: '..^^', 4129: '▁최초', 4130: '▁웃기다', 4131: '▁기술', 4132: '▁오락', 4133: '▁괜찮다', 4134: '▁기대이상', 4135: '▁잊을수', 4136: '▁없다는', 4137: '었네', 4138: '됐다', 4139: '▁잼나게', 4140: '으로써', 4141: '아까운', 4142: '▁하는거', 4143: '▁조잡', 4144: '▁ᄏᄏᄏᄏᄏᄏᄏ', 4145: 'ᄏᄏᄏᄏᄏᄏᄏᄏᄏᄏᄏᄏ', 4146: '▁만든영화', 4147: '▁노래도', 4148: '▁공포물', 4149: '▁갔', 4150: '영화인데', 4151: '륜', 4152: '▁아프', 4153: '있어서', 4154: '▁반복', 4155: '마지막에', 4156: '▁좋게', 4157: '▁보았습니다', 4158: '▁아까웠다', 4159: '▁재미있습니다', 4160: '덜', 4161: '꼴', 4162: '돋', 4163: '한다고', 4164: '0%', 4165: '드립니다', 4166: '후회', 4167: '▁보통', 4168: '▁모르게', 4169: '▁비하면', 4170: '▁보지마라', 4171: '닌', 4172: '▁복잡', 4173: '▁완전히', 4174: '좋겠', 4175: '배우들의', 4176: '내내', 4177: '까요', 4178: '셀', 4179: '▁안타까운', 4180: '탓', 4181: '무서움', 4182: '보니까', 4183: '▁영원히', 4184: '▁바꾸', 4185: '▁특별한', 4186: '▁전투', 4187: '더빙', 4188: '요즘', 4189: '▁부모', 4190: '▁조카', 4191: '▁밤', 4192: '쓰레기영화', 4193: '▁모를', 4194: '♥♥♥♥', 4195: '▁낮네', 4196: '▁어른들', 4197: '▁할까', 4198: '었지', 4199: '살아', 4200: '▁에로영화', 4201: '▁유명', 4202: '춰', 4203: '뜬', 4204: '▁잔혹', 4205: '▁지나도', 4206: '▁방영', 4207: '▁말하고', 4208: '▁봤을때', 4209: '▁낚시', 4210: '▁케이블에서', 4211: '▁이래서', 4212: '▁재미도없고', 4213: '▁싶은데', 4214: '부작', 4215: '▁웃고', 4216: '것같아요', 4217: '▁씬', 4218: '▁감동의', 4219: 'ᄋᄋ', 4220: '▁답답한', 4221: '▁영화보는', 4222: '▁낚였다', 4223: '안됨', 4224: '럼', 4225: '▁예쁘고', 4226: '▁노래가', 4227: '하지마', 4228: '▁이상하게', 4229: '요소', 4230: '콘', 4231: '▁안맞', 4232: '없었', 4233: '▁생각함', 4234: 'U', 4235: '▁후속작', 4236: '▁젠장', 4237: '▁잠깐', 4238: '▁내면', 4239: '▁일이', 4240: '끄러', 4241: '잡고', 4242: '▁감정을', 4243: '명의', 4244: '감동적이', 4245: '스크', 4246: '▁오래된', 4247: '했지', 4248: '빛', 4249: 'F', 4250: '만듬', 4251: '긴하지만', 4252: '뭐야', 4253: '줘서', 4254: '▁만들면', 4255: '오래', 4256: '하하하', 4257: '▁돼', 4258: '▁떨', 4259: '새롭', 4260: '켜', 4261: '같은영화', 4262: '▁미쳤', 4263: '▁21', 4264: '▁개연성이', 4265: '는구나', 4266: '▁캐릭터가', 4267: '재미없음', 4268: '오오', 4269: '문화', 4270: '찮', 4271: '▁식상한', 4272: '★', 4273: '쿨', 4274: '▁스트레스', 4275: '▁특수효과', 4276: '▁소소한', 4277: '▁알려', 4278: '▁비현실적', 4279: '▁남자의', 4280: '▁알겠는데', 4281: '▁열연', 4282: '▁가족영화', 4283: '였고', 4284: '다큐', 4285: 'es', 4286: '▁빼면', 4287: '▁모르겠음', 4288: '▁멋지', 4289: '점대는', 4290: '기까지', 4291: '▁자주', 4292: '▁잊', 4293: '▁전설', 4294: '▁씹', 4295: '▁생각나서', 4296: '때매', 4297: '년작', 4298: '▁암튼', 4299: '▁쿠', 4300: '▁구성이', 4301: '▁작품은', 4302: '▁전설의', 4303: '지루함', 4304: '▁재미있었', 4305: '균', 4306: '▁패러디', 4307: '▁경험', 4308: '▁뿐이다', 4309: '▁무엇인지', 4310: '▁갈등', 4311: '브라', 4312: '리즈', 4313: '▁게다가', 4314: '▁커플', 4315: '▁분위기가', 4316: 'en', 4317: '▁그당시', 4318: '▁않을까', 4319: '▁쩝', 4320: '아저씨', 4321: '▁낮지', 4322: '▁한심한', 4323: '것인가', 4324: '▁조작', 4325: '▁만든거', 4326: '뻔한', 4327: '▁심하게', 4328: '▁실제로', 4329: '▁하면서', 4330: '▁초딩때', 4331: '모두', 4332: '▁뻔하', 4333: '바닥', 4334: '얘', 4335: '숭', 4336: '뚱', 4337: '▁DVD', 4338: '룩', 4339: '▁어설프고', 4340: '것같은', 4341: '좋음', 4342: '▁최근에', 4343: '▁할머니', 4344: '▁주기도', 4345: '받은', 4346: '▁다섯', 4347: '▁두번째', 4348: '▁전율', 4349: '인건', 4350: '▁존경', 4351: '▁만들다니', 4352: '▁따로', 4353: '▁살면서', 4354: '▁쌍', 4355: '▁만남', 4356: '▁본듯', 4357: '▁낙', 4358: '▁남편', 4359: '셔서', 4360: '▁여운을', 4361: '▁낚였', 4362: '하는영화', 4363: '옴', 4364: '것같', 4365: '▁에이', 4366: '▁유명한', 4367: '▁현실이', 4368: '▁정도의', 4369: '▁선생님', 4370: '▁불쌍하다', 4371: '▁대부분', 4372: '조아', 4373: '▁연출과', 4374: '▁둘이', 4375: '▁대화', 4376: '▁도전', 4377: '거같아요', 4378: '칭', 4379: '삐', 4380: '층', 4381: '핀', 4382: '▁직접', 4383: '▁잔뜩', 4384: '▁울컥', 4385: '▁스스로', 4386: '▁sf', 4387: '▁거짓말', 4388: '▁일어나', 4389: '주기', 4390: '▁정말이지', 4391: '▁봤을까', 4392: '▁W', 4393: '▁잘하고', 4394: '▁단지', 4395: '▁여러분', 4396: '▁출연한', 4397: '▁읽어', 4398: '▁속에서', 4399: '▁볼때', 4400: '▁이런건', 4401: '▁한국에서', 4402: '지않았', 4403: '휘', 4404: '▁사진', 4405: '▁재밌지', 4406: '▁재미없었다', 4407: '▁참신한', 4408: '▁전개도', 4409: '▁할수', 4410: '▁신비', 4411: '▁재미로', 4412: '▁앞으로도', 4413: '▁견', 4414: '▁얼마', 4415: '메이', 4416: '▁그거', 4417: '아무', 4418: '30', 4419: '퀴', 4420: '렷', 4421: '하기에', 4422: '랫', 4423: '▁로버트', 4424: '▁제임스', 4425: '▁소중한', 4426: '어가는', 4427: '▁가슴을', 4428: '▁몇몇', 4429: '▁여러가지', 4430: '▁돋보이는', 4431: '▁충실', 4432: '▁다시는', 4433: '나올때', 4434: '어디', 4435: '랜드', 4436: '▁관객들', 4437: '받는', 4438: '▁끝날', 4439: '▁대중', 4440: '▁넌', 4441: '로는', 4442: '▁운명', 4443: '▁잘봤어요', 4444: 'bb', 4445: '▁클레멘타인', 4446: '▁관객을', 4447: '▁엉성하고', 4448: '럴', 4449: '▁많은걸', 4450: '▁내용인지', 4451: '▁결론', 4452: '▁있었지만', 4453: '▁다르다', 4454: '▁배우를', 4455: '▁풍자', 4456: '▁안습', 4457: '▁보다니', 4458: '▁끈', 4459: '▁진부하', 4460: '거리는', 4461: '시길', 4462: '▁반전은', 4463: '▁죽이고', 4464: '때까지', 4465: '앵', 4466: '▁새벽에', 4467: 'ᅥ', 4468: '▁아이디어', 4469: '▁뛰어나', 4470: '거같은데', 4471: '▁기자', 4472: '▁지났', 4473: '▁모험', 4474: '때부터', 4475: '▁하늘', 4476: '▁만들었는지', 4477: '딴', 4478: '문제', 4479: '▁매력적', 4480: '▁욕망', 4481: '▁나에겐', 4482: '부분이', 4483: '▁없습니다', 4484: '▁깎', 4485: '▁흥', 4486: '▁나은', 4487: '▁있다니', 4488: '▁집에', 4489: '▁우리는', 4490: '잊', 4491: '▁아니야', 4492: '▁슈', 4493: '깝', 4494: '려나', 4495: '관람', 4496: '▁보려고', 4497: '▁수도', 4498: '▁헬', 4499: '적이지', 4500: '▁죽은', 4501: '나오고', 4502: '▁탄탄', 4503: '▁개연성도', 4504: '▁단편', 4505: '쓰는', 4506: '타임', 4507: '닉', 4508: '▁제이슨', 4509: '▁시청률이', 4510: '했더니', 4511: '납니다', 4512: '▁그저그런', 4513: '▁남자주인공', 4514: '▁모르겠고', 4515: '▁담배', 4516: '오글', 4517: '▁죽이는', 4518: '검', 4519: '▁이딴걸', 4520: '▁따뜻하고', 4521: '▁봤네', 4522: '▁해라', 4523: '▁해석', 4524: '▁높게', 4525: '트리', 4526: '▁안볼', 4527: '▁코미디영화', 4528: '▁여전', 4529: '............', 4530: '▁톰', 4531: '▁비판', 4532: '▁맞아', 4533: '최악의', 4534: '논', 4535: '분은', 4536: '<', 4537: '흠', 4538: '▁영상이', 4539: '포스터', 4540: '▁썼', 4541: '▁조용', 4542: '점이상', 4543: '▁맞지', 4544: '▁액션씬', 4545: '▁좀비영화', 4546: '▁살다살다', 4547: '▁내생에', 4548: '스토리도', 4549: '만드네', 4550: '▁억지스러운', 4551: '▁똑같은', 4552: '▁만들수', 4553: '그만', 4554: '▁재밌던데', 4555: '▁잘만들었', 4556: '치고는', 4557: '▁술', 4558: '▁확실', 4559: '후반', 4560: '▁막장드라마', 4561: 'ᅮᅮᅮ', 4562: '받아', 4563: '▁이런영화는', 4564: '▁영상과', 4565: '하진', 4566: '▁아름답', 4567: '▁남네요', 4568: '레스', 4569: '▁수준의', 4570: '▁헛', 4571: 'L', 4572: '▁보며', 4573: '▁반전을', 4574: '기전에', 4575: '버전', 4576: '개그', 4577: '▁대해서', 4578: '낫', 4579: '졸작', 4580: '았어요', 4581: '쟁', 4582: '으니까', 4583: '려다가', 4584: '롯', 4585: '곰', 4586: '른다', 4587: '▁보여주고', 4588: '▁로코', 4589: '▁단어', 4590: '▁효과', 4591: '▁오랫만에', 4592: '▁정의', 4593: '출연', 4594: '어린', 4595: '햇다', 4596: '▁부실', 4597: '▁소장', 4598: '▁다운', 4599: '었는지', 4600: '▁별로임', 4601: '슬퍼', 4602: '▁그립다', 4603: '▁뭘까', 4604: 'as', 4605: '몇', 4606: '▁훌륭하', 4607: '아빠', 4608: '▁북', 4609: '뇌', 4610: '▁최고였다', 4611: '붙', 4612: '읽', 4613: '싶다', 4614: '▁오글거리', 4615: '초반', 4616: '챙겨', 4617: '받아서', 4618: '획', 4619: '▁않네요', 4620: '▁쪽', 4621: '조금', 4622: '▁가벼운', 4623: '싼', 4624: '▁박중훈', 4625: '▁디테일', 4626: '▁다양한', 4627: '▁테러', 4628: '못해', 4629: '▁어쩜', 4630: '다음', 4631: '▁원작이', 4632: '▁어째', 4633: '▁진수', 4634: '▁대표', 4635: '▁모두가', 4636: '▁무술', 4637: '▁결정', 4638: '▁남은', 4639: '▁집중해서', 4640: '▁영화보면서', 4641: '▁잼잇', 4642: '▁엿', 4643: '하겠다', 4644: '공주', 4645: '▁안본', 4646: '게임', 4647: '▁p', 4648: '▁볼수있는', 4649: '▁돌리', 4650: '▁불러', 4651: '▁침', 4652: '▁줄수', 4653: 'ᄍ', 4654: '▁제외', 4655: '꽃', 4656: '▁재미없어서', 4657: '어떻게', 4658: '▁못보겠', 4659: '▁매력을', 4660: '하군', 4661: '었네요', 4662: '▁본방사수', 4663: '▁생각하면', 4664: '▁시리즈는', 4665: '사건', 4666: '▁형사', 4667: '렵', 4668: '닿', 4669: '액', 4670: '녕', 4671: '엑', 4672: '▁짜임새', 4673: '닷', 4674: '랭', 4675: '싹', 4676: '▁배트맨', 4677: '▁2014', 4678: '▁동성애', 4679: '▁교과서', 4680: '라곤', 4681: '▁나오네', 4682: '맘', 4683: '▁하길래', 4684: '▁싶을', 4685: '▁비밀', 4686: '▁깨닫게', 4687: '▁주변', 4688: '▁꼬마', 4689: '▁연극', 4690: '건가요', 4691: '▁^', 4692: '여주', 4693: '...........', 4694: '▁기억나는', 4695: '▁조절', 4696: '보시길', 4697: '▁재난영화', 4698: '▁아쉽지만', 4699: '▁연기력은', 4700: '▁답답하고', 4701: '▁만한', 4702: '놈이', 4703: '▁녹', 4704: '▁형편없', 4705: '▁받는', 4706: '▁세상을', 4707: '▁먼가', 4708: '▁F', 4709: '▁살린', 4710: '▁조선', 4711: '배우들이', 4712: '▁소년', 4713: '▁찰', 4714: '관객', 4715: '▁만들기', 4716: '▁본지', 4717: '▁자체는', 4718: '비디오', 4719: '걍', 4720: '몸', 4721: '웨이', 4722: '주연', 4723: '▁감동은', 4724: '섭', 4725: '략', 4726: '만하다', 4727: 'z', 4728: '▁dvd', 4729: '딜', 4730: '부끄럽', 4731: '▁인내심', 4732: '뎅', 4733: '▁유일하게', 4734: '▁쉬', 4735: '▁몇년', 4736: '씬이', 4737: '▁감각', 4738: '▁태어나서', 4739: '▁부터', 4740: '▁ᄍᄍᄍ', 4741: '▁해결', 4742: '였으면', 4743: '지말자', 4744: '▁봐도봐도', 4745: '▁독특', 4746: '▁동심', 4747: '▁뜬금없', 4748: '뻐', 4749: '▁선동', 4750: '▁어렵다', 4751: '▁괜찮음', 4752: '임에도', 4753: '▁잠이', 4754: '▁풋풋', 4755: '되었다', 4756: '▁탐', 4757: '▁엔딩이', 4758: '▁못보', 4759: '삶', 4760: '생각이', 4761: '번은', 4762: '긴장감', 4763: '▁인상적', 4764: '헐', 4765: '▁마지막장면', 4766: '사람들은', 4767: '커플', 4768: '▁대단하', 4769: '하길', 4770: '▁포스터가', 4771: '▁다운받아', 4772: '▁이보다', 4773: '것만으로도', 4774: '괜', 4775: '딘', 4776: '밍', 4777: '▁블록버스터', 4778: '젖', 4779: '▁심형래', 4780: '▁주윤발', 4781: '▁장국영', 4782: '▁허술한', 4783: '이름', 4784: '▁결코', 4785: '▁포스', 4786: '았지만', 4787: '낮은', 4788: '▁나름대로', 4789: '아까워', 4790: '-_-;', 4791: '▁귀엽다', 4792: '보는게', 4793: '점부터', 4794: '보셈', 4795: '▁원작에', 4796: '올리', 4797: '▁궁금하다', 4798: '▁빠르', 4799: '장애', 4800: '▁위로', 4801: '▁응', 4802: '로드', 4803: '높은', 4804: '▁재밌어서', 4805: '▁있던', 4806: '같아서', 4807: '▁허술하', 4808: 'th', 4809: '▁편견', 4810: '푸', 4811: '▁짧은', 4812: '잖', 4813: '▁느꼈다', 4814: '▁한편의', 4815: '▁진부', 4816: '▁있네', 4817: '이후', 4818: '▁주연배우', 4819: '▁아이들과', 4820: '웃김', 4821: '싶어서', 4822: '▁ᄌ', 4823: '▁왤케', 4824: '▁러시아', 4825: '▁제니퍼', 4826: '▁스크린', 4827: '▁집착', 4828: '▁예쁘다', 4829: '오늘', 4830: '▁데리고', 4831: '▁명작을', 4832: '해야할', 4833: '▁아깝고', 4834: '▁추리', 4835: '▁성격', 4836: '▁하나같이', 4837: '▁잼있어요', 4838: '▁충분', 4839: '▁길게', 4840: '본사람', 4841: '▁불쌍해', 4842: '▁싶어요', 4843: '▁이상의', 4844: '않음', 4845: '▁영화라는', 4846: '▁애들은', 4847: '▁않나', 4848: '▁내용과', 4849: '▁신선하', 4850: '▁교훈을', 4851: '▁낮게', 4852: '이었습니다', 4853: '낭', 4854: '갑니다', 4855: '재미도', 4856: '폼', 4857: '묵', 4858: '▁조니뎁', 4859: '찐', 4860: 'J', 4861: '땀', 4862: '쪼', 4863: '▁유일한', 4864: '▁탄생', 4865: '▁바랍니다', 4866: '▁말도안되는', 4867: '▁남아있', 4868: '▁흑인', 4869: '▁손색', 4870: '▁믿고보는', 4871: '▁보던', 4872: 'ut', 4873: '▁내용전개', 4874: '멜로', 4875: '▁좋겠네요', 4876: '좋았다', 4877: '해준다', 4878: '있으면', 4879: '▁잘만들', 4880: '▁잘생겼', 4881: '▁봐야하는', 4882: '▁약간의', 4883: '▁아까운영화', 4884: '엇는데', 4885: '▁사랑해요', 4886: '▁죽었', 4887: '▁매미', 4888: '▁어디에', 4889: '아닌가', 4890: '오브', 4891: '▁선물', 4892: '상태', 4893: '▁안맞는', 4894: '▁업', 4895: '▁강한', 4896: '있습니다', 4897: '▁영혼', 4898: '▁가볍', 4899: '지마세요', 4900: '▁ᄃᄃᄃ', 4901: '▁인생에', 4902: '보소', 4903: '닐', 4904: '할것', 4905: '▁자랑', 4906: '어이없', 4907: '▁최고로', 4908: '씁', 4909: '▁뱀파이어', 4910: '▁컴퓨터', 4911: '깃', 4912: '넬', 4913: '▁숨겨진', 4914: '▁깜짝', 4915: '▁아류작', 4916: '▁끔찍', 4917: '특별', 4918: '▁오빠', 4919: '▁폭풍', 4920: '▁오락영화', 4921: '▁첫사랑', 4922: '화이팅', 4923: '재미있게', 4924: '지않아', 4925: '▁최고의영화', 4926: '▁어울리는', 4927: '감정', 4928: 'le', 4929: '▁당연', 4930: '연기는', 4931: '▁소재도', 4932: '애들이', 4933: '▁개노잼', 4934: '▁알수있', 4935: '▁돈을', 4936: '▁따분', 4937: '▁요리', 4938: '▁방식', 4939: '▁제목만', 4940: '▁넘게', 4941: '▁갖고', 4942: '▁L', 4943: '▁막판에', 4944: '▁좋겠', 4945: '▁그자체', 4946: '기도하고', 4947: '덕에', 4948: '▁최고임', 4949: '멋있', 4950: '여운이', 4951: '스키', 4952: '▁망친', 4953: '역사', 4954: '▁국가', 4955: '당한', 4956: '바라', 4957: '춤', 4958: '마리', 4959: '깜', 4960: '▁케릭터', 4961: '▁해리포터', 4962: '▁즐거웠', 4963: '추억', 4964: '▁달콤', 4965: '사람들이', 4966: '▁작위적', 4967: '말이필요없', 4968: '재밌는', 4969: '▁놀라운', 4970: '▁중학교', 4971: '▁찾아보', 4972: '▁평론가들', 4973: '둥이', 4974: '▁디워', 4975: '▁별로고', 4976: '▁이뻐서', 4977: '블루', 4978: '▁반담', 4979: '같지만', 4980: '▁60', 4981: '▁부모님', 4982: '▁변화', 4983: '▁느낌의', 4984: '▁하나로', 4985: '▁다시보니', 4986: '보여주', 4987: '물로', 4988: '▁밀려', 4989: '▁으리', 4990: '▁있었는데', 4991: '▁기준', 4992: '▁보다는', 4993: '했을때', 4994: '▁볼만했다', 4995: '▁부부', 4996: '▁맛이', 4997: '▁이야기는', 4998: '왓', 4999: '▁머리가', 5000: '재미없어', 5001: '일듯', 5002: '▁소재와', 5003: '볼수', 5004: '느껴', 5005: '▁you', 5006: '▁임팩트', 5007: '퓨', 5008: '▁영환데', 5009: '차원', 5010: '▁잔잔하면서', 5011: '찡', 5012: '큐', 5013: '▁무섭지', 5014: '▁손에', 5015: '▁말하고자', 5016: '▁배역', 5017: '100', 5018: 've', 5019: '▁많아서', 5020: '▁휘', 5021: 'al', 5022: '▁놀랍다', 5023: '▁잠들', 5024: '이랄까', 5025: '▁소설을', 5026: '▁매일', 5027: '▁본인', 5028: 'od', 5029: '~~^^', 5030: '▁삼류영화', 5031: '▁발상', 5032: '인물', 5033: '▁멋있는', 5034: '▁듣고', 5035: '▁생각으로', 5036: '이었던', 5037: '▁아예', 5038: '▁관점', 5039: '벅', 5040: '컴', 5041: '^-^', 5042: '▁떠오르', 5043: '▁감정이입', 5044: '▁잡아', 5045: '▁재개봉', 5046: '▁흔들', 5047: '▁여자친구', 5048: '답니다', 5049: '싸움', 5050: '▁여자주인공', 5051: '아프', 5052: '아아아', 5053: '▁영화라니', 5054: '▁또다른', 5055: '노답', 5056: '빠져', 5057: '▁과장', 5058: '좋은영화', 5059: '▁갑니다', 5060: '학년', 5061: '▁괜찮았다', 5062: '▁살아가는', 5063: '상황', 5064: '▁재밌었던', 5065: '▁실력', 5066: '▁버리', 5067: '쳐서', 5068: '극장에서', 5069: '▁폐', 5070: '▁의미가', 5071: '00', 5072: '▁두고', 5073: '거같음', 5074: '▁안간다', 5075: '허술', 5076: '▁대본', 5077: '▁떨어지고', 5078: '▁감독을', 5079: '▁궁', 5080: '구석', 5081: 'ᅮᅲ', 5082: '떨', 5083: '▁줘야', 5084: '12', 5085: '▁기회', 5086: '▁새로', 5087: '▁거장', 5088: '▁보라', 5089: '▁즐겨', 5090: '▁늑대', 5091: '앤', 5092: '▁여러번', 5093: '아직도', 5094: '때문', 5095: '▁중독', 5096: '▁울리는', 5097: '▁위해서', 5098: '▁무료', 5099: '▁생에', 5100: '보고있어요', 5101: '재밌어', 5102: '▁보았는데', 5103: '글자', 5104: '▁이상해', 5105: '당시', 5106: '소름', 5107: '▁모든걸', 5108: '져요', 5109: '옆', 5110: '▁ᄀ', 5111: '▁연인', 5112: '▁벤', 5113: '스토', 5114: '▁명장면', 5115: '▁짜증나서', 5116: '90', 5117: '류영화', 5118: '▁열받', 5119: '▁지겹다', 5120: '▁멋지고', 5121: '여행', 5122: '▁어처구니', 5123: '▁수작이다', 5124: '▁없으면', 5125: '▁수입', 5126: '▁잤', 5127: '▁재미없을', 5128: '▁까지', 5129: '▁했으면', 5130: '후에', 5131: '하러', 5132: '▁스포츠', 5133: '벼', 5134: '앨', 5135: '쿵', 5136: '닼', 5137: '탱', 5138: '▁익숙', 5139: '▁배경음악', 5140: '▁다신', 5141: '무시', 5142: '줄알았는데', 5143: '▁언제봐도', 5144: '▁적당히', 5145: '솔직히', 5146: '▁내게', 5147: '▁생긴', 5148: '▁한개도', 5149: '▁순수함', 5150: '▁힘내', 5151: '웃겨', 5152: '▁어거지', 5153: '▁울면서', 5154: '두고', 5155: '▁독일', 5156: '▁답이', 5157: '▁생각난다', 5158: '먹은', 5159: '▁=', 5160: '▁난잡', 5161: '존나', 5162: '▁없었음', 5163: '▁시간아깝다', 5164: '▁폐지', 5165: '▁죽인', 5166: '기억이', 5167: '▁갔다', 5168: '언제', 5169: '▁본게', 5170: '▁이해할수', 5171: '▁몰랐다', 5172: '있지', 5173: '▁마음으로', 5174: '둥', 5175: '▁그지같', 5176: '▁아래', 5177: '만족', 5178: '닫', 5179: '▁주인공은', 5180: '닭', 5181: '램', 5182: '▁스티븐', 5183: '▁강렬한', 5184: '▁이소룡', 5185: '▁내생애', 5186: '▁우려먹', 5187: '보느니', 5188: '▁쓰는', 5189: '어색', 5190: '▁웃으면서', 5191: '▁처절', 5192: '▁옥', 5193: '▁만들었을까', 5194: '▁재밋어요', 5195: '▁짜증남', 5196: '불쌍', 5197: '▁결말을', 5198: '코믹', 5199: '▁아니지', 5200: '▁재미있을', 5201: '말아먹', 5202: '질질끌', 5203: '이딴', 5204: '▁멋졌', 5205: '▁최고봉', 5206: '좋아하', 5207: '쩐다', 5208: '장면은', 5209: '▁내용에', 5210: '▁가정', 5211: '라는걸', 5212: '▁여주인공이', 5213: '▁영원한', 5214: '▁본건데', 5215: '▁인해', 5216: '▁세번', 5217: '▁난리', 5218: '▁하아', 5219: '..............', 5220: '▁부분도', 5221: '▁적당한', 5222: '▁불편한', 5223: '달아', 5224: '▁망했', 5225: '▁모르겟', 5226: '봣다', 5227: '▁다루', 5228: '▁음식', 5229: '듯하다', 5230: '▁정도면', 5231: '▁포스터에', 5232: '측', 5233: '▁알겠다', 5234: '꼈', 5235: '멈', 5236: '윌', 5237: '뢰', 5238: '될듯', 5239: '▁아닙니다', 5240: '▁제시카', 5241: '▁드디어', 5242: '▁희대의', 5243: '▁당신은', 5244: '방식', 5245: '▁모른다', 5246: '▁눈물나', 5247: '▁적어도', 5248: '▁어른이', 5249: '해주고', 5250: '▁포스터만', 5251: '▁보기에는', 5252: '분위기', 5253: '궁', 5254: '수밖에', 5255: '▁프리', 5256: '▁주지', 5257: '▁한번도', 5258: '▁스토리전개', 5259: '▁믿기지', 5260: '▁아름답게', 5261: '▁사상', 5262: '거죠', 5263: '이런류의', 5264: '혼자', 5265: '▁살리', 5266: '▁느껴지', 5267: '▁않아서', 5268: '보인다', 5269: '▁싸우는', 5270: 'ᅮᅮᅮᅮ', 5271: '톤', 5272: '▁쩔어', 5273: '▁자신이', 5274: '▁한국영화의', 5275: '있는영화', 5276: '없나', 5277: '▁주제가', 5278: '▁뭐하나', 5279: '늙', 5280: '없을', 5281: '▁목적', 5282: '같아', 5283: '▁샘', 5284: '장르', 5285: '객', 5286: '▁정신없', 5287: '▁다시보고', 5288: '▁빵빵', 5289: '갠', 5290: '▁우뢰매', 5291: '똘', 5292: '▁명복을', 5293: '▁짜집기', 5294: '▁뭥미', 5295: '▁아놀드', 5296: '▁사운드', 5297: '▁오글거려', 5298: '▁아깝네', 5299: '버스', 5300: '▁평균', 5301: '▁명대사', 5302: '구리', 5303: '▁축구', 5304: '▁상영관', 5305: '▁사라지', 5306: '▁근래', 5307: '▁볼거', 5308: '▁봤을', 5309: '▁다운받', 5310: '▁실망스럽', 5311: '▁주제를', 5312: '▁그럴듯', 5313: '▁괜찮았는데', 5314: '▁봅니다', 5315: '찰', 5316: '▁분들은', 5317: '엄청', 5318: '▁뭐니', 5319: '▁얼굴이', 5320: '▁생각할', 5321: '있었다', 5322: '줄알았', 5323: '▁생각했는데', 5324: '▁없나요', 5325: '▁안본다', 5326: '스케', 5327: '▁시간만', 5328: '▁넘치', 5329: '▁키스', 5330: '▁집중이', 5331: '▁삶이', 5332: '▁없냐', 5333: '▁몰라', 5334: '▁옷', 5335: '19', 5336: '▁책을', 5337: '▁반대', 5338: '광구', 5339: '못한', 5340: '야겠다', 5341: '▁알았네', 5342: '▁슬픈영화', 5343: '였나', 5344: '▁재미있는데', 5345: '▁나랑', 5346: '▁엄마가', 5347: '▁라고', 5348: '▁바다', 5349: '에대해', 5350: '▁그만큼', 5351: '레인', 5352: '발연기', 5353: '▁보고싶어', 5354: '▁고등학교', 5355: '▁짐캐리', 5356: '▁할리우드', 5357: '맴', 5358: '켄', 5359: '▁브루스', 5360: 'ᄏᄏᄏᄏᄏᄏᄏ', 5361: '▁호기심', 5362: '▁즐길', 5363: '▁플롯', 5364: '▁잔잔하게', 5365: '▁싸움', 5366: '▁짜증이', 5367: '뻔했다', 5368: '▁유럽', 5369: '▁짜증만', 5370: '▁꼭보세요', 5371: '▁따뜻해', 5372: '▁첨엔', 5373: '▁역사를', 5374: '▁손발', 5375: '▁재능', 5376: '▁대놓고', 5377: '▁가수', 5378: '▁스릴도', 5379: '아버지', 5380: '▁가족의', 5381: '탑', 5382: '목소리', 5383: '보내', 5384: '▁보는거', 5385: '▁그건', 5386: '▁마지막까지', 5387: '▁우연', 5388: '▁작가님', 5389: '맞는', 5390: '보게되', 5391: '▁한국판', 5392: '▁놀랍', 5393: '부러', 5394: '▁지겹', 5395: '▁이상하고', 5396: '▁못보겠다', 5397: '▁하는게', 5398: '▁웃을', 5399: '▁아내', 5400: '나오네', 5401: '▁유치해', 5402: '겠죠', 5403: 'ad', 5404: '▁많은데', 5405: '▁줍니다', 5406: '▁반전에', 5407: '할뿐', 5408: '쩜', 5409: '납', 5410: '굿굿', 5411: '뷰', 5412: '▁설득력', 5413: '밴', 5414: '얄', 5415: '▁빨갱이', 5416: '▁홍상수', 5417: '▁하정우', 5418: '▁동시에', 5419: '주기도', 5420: '▁배우들은', 5421: '▁착각', 5422: '▁상어', 5423: '할수가', 5424: '분만에', 5425: '도좋고', 5426: '▁아쉬움이', 5427: '▁어디로', 5428: '▁안봐도', 5429: '▁재미있었습니다', 5430: '▁저평가', 5431: '갔는데', 5432: '▁예수', 5433: '아이들', 5434: '▁to', 5435: '▁아냐', 5436: '▁이뻐', 5437: '▁인형', 5438: '상영', 5439: '▁공감할', 5440: '썼', 5441: '벗', 5442: '왠', 5443: '▁높아서', 5444: '▁인생은', 5445: '▁터미네이터', 5446: '▁남긴', 5447: '▁봤다면', 5448: '▁괜찮고', 5449: '▁액션과', 5450: '▁마니', 5451: '보고싶어요', 5452: '▁받은', 5453: '거든', 5454: '▁영화였음', 5455: '▁먹는', 5456: '80', 5457: '▁때려', 5458: '젊', 5459: '웟', 5460: '▁웰메이드', 5461: '▁깡패', 5462: '->', 5463: '▁of', 5464: '▁시대에', 5465: '▁실화를', 5466: '▁아닐', 5467: '▁겨울', 5468: '▁돈내고', 5469: '▁부럽', 5470: '하는건지', 5471: '▁거리', 5472: '▁추격', 5473: '▁개콘', 5474: '▁예능', 5475: '했다면', 5476: '▁아무도', 5477: '신분', 5478: '▁영상미가', 5479: '세여', 5480: '▁정신병자', 5481: '▁찾아볼', 5482: '같았', 5483: '▁여주가', 5484: '▁들고', 5485: '스톤', 5486: '▁사랑합니다', 5487: '▁매력에', 5488: '▁어색하고', 5489: '▁전쟁의', 5490: '▁현실과', 5491: '주제', 5492: '▁정작', 5493: '▁아우', 5494: '여운', 5495: '▁시나리오가', 5496: '▁이름이', 5497: '▁감정이', 5498: '▁황당한', 5499: '▁보이지', 5500: '▁유발', 5501: '▁그립', 5502: '▁보게된', 5503: '▁영화예요', 5504: '▁그것도', 5505: '혹은', 5506: '▁쉽지', 5507: '▁연기자', 5508: '볼수있', 5509: '▁재난', 5510: '▁점수는', 5511: 'ᅢ', 5512: '▁네티즌', 5513: '셋', 5514: '쟈', 5515: '컸', 5516: '▁유덕화', 5517: '▁임창정', 5518: '▁도무지', 5519: '▁스타뎀', 5520: '▁낭만', 5521: '▁꿈꾸', 5522: '빼', 5523: '▁흐르는', 5524: '▁돈아까워', 5525: '▁할아버지', 5526: '▁은근히', 5527: '▁그림체', 5528: '▁폭발', 5529: '너무너무', 5530: '▁거북', 5531: '▁그야말로', 5532: '▁박수', 5533: '굳굳', 5534: '보기싫', 5535: '▁동양', 5536: '나왓', 5537: '▁사랑해', 5538: '▁재미있었음', 5539: '굳', 5540: '▁도망', 5541: '▁무엇인가', 5542: '▁순수하고', 5543: '▁일본인', 5544: '▁불쌍한', 5545: '▁찾을', 5546: '▁뒤에', 5547: '캐스팅', 5548: '귀엽', 5549: '▁엉망이', 5550: '도대체', 5551: '▁오브', 5552: '느끼', 5553: '편까지', 5554: '▁절정', 5555: '▁히어로', 5556: '외엔', 5557: 'lo', 5558: '▁책으로', 5559: '▁유치해서', 5560: '▁촌스러', 5561: '▁꿀', 5562: '▁별하나', 5563: '▁밤에', 5564: '▁졸았', 5565: '▁않은데', 5566: '▁어우', 5567: '순위', 5568: '▁잘만들었다', 5569: '▁이해를', 5570: '없네요', 5571: '▁망쳐', 5572: '뭣', 5573: '▁대통령', 5574: '▁나레이션', 5575: '간만에', 5576: '▁탈출', 5577: '▁이름을', 5578: '▁자신을', 5579: '▁이루어', 5580: '▁만화책', 5581: '▁아무런', 5582: '▁당연히', 5583: '▁말아야', 5584: '▁어디가', 5585: '분동안', 5586: '▁하품', 5587: '▁세상이', 5588: '▁형제', 5589: '앞에서', 5590: '하시길', 5591: '▁생기', 5592: '▁시작부터', 5593: '▁마리', 5594: '햇는데', 5595: '▁허무한', 5596: '▁매니아', 5597: '꿀', 5598: '▁문제가', 5599: '▁아깝네요', 5600: '▁풋풋한', 5601: '▁감동적이네요', 5602: '자신', 5603: '▁배경이', 5604: '겐', 5605: '▁배신', 5606: '델', 5607: '왔어요', 5608: '멜', 5609: '▁잊혀', 5610: '▁친구가', 5611: '▁나네요', 5612: '빠진', 5613: 'ᄁ', 5614: '▁빕니다', 5615: '읍', 5616: '▁이토록', 5617: '▁양아치', 5618: '▁갠적으로', 5619: '▁반드시', 5620: '▁정우성', 5621: '▁빠른', 5622: '부분은', 5623: '▁기대하지', 5624: '▁봐야지', 5625: 'ck', 5626: '뿐이다', 5627: '▁무섭고', 5628: '▁기가', 5629: '▁다행이다', 5630: '답게', 5631: '▁혹시나', 5632: '▁제작비가', 5633: '▁처음에는', 5634: '▁예술영화', 5635: '하실', 5636: '▁친구랑', 5637: '스릴', 5638: '알아', 5639: '▁위트', 5640: '▁내돈', 5641: '▁실감', 5642: '▁공간', 5643: '▁싶었다', 5644: '▁이만한', 5645: '▁기대없이', 5646: '▁기대이하', 5647: '▁만점에', 5648: '▁호구', 5649: '▁무섭게', 5650: '▁없게', 5651: '안돼', 5652: '▁설정이', 5653: '▁아진짜', 5654: '▁무난', 5655: '행복', 5656: '재미있어요', 5657: '▁가득한', 5658: '부분에서', 5659: '▁뭐라고', 5660: '나름', 5661: 'ᄏᄏᄏᄏᄏᄏ', 5662: '▁쩌는', 5663: '▁작품입니다', 5664: '▁추천하고', 5665: '랍', 5666: '엽', 5667: '빗', 5668: '▁아무생각없이', 5669: '인상깊었', 5670: '▁움직이', 5671: '▁공짜로', 5672: '▁떨어짐', 5673: '▁향연', 5674: '▁심지어', 5675: '▁뭐하자는', 5676: '▁귀여움', 5677: '▁이것보단', 5678: '찾아', 5679: '▁로빈', 5680: '▁김치', 5681: '▁루즈', 5682: '▁흘리', 5683: '지루하고', 5684: '▁따름', 5685: '그러나', 5686: '없구', 5687: '▁암울', 5688: '소녀', 5689: '▁깍', 5690: '▁하지원', 5691: '▁꽤나', 5692: '▁가고', 5693: '▁후에', 5694: 'ch', 5695: '봐야지', 5696: '▁대학', 5697: '▁원조', 5698: '▁프랑스영화', 5699: '놨네', 5700: '리스트', 5701: '▁좋을듯', 5702: '▁좋아하지만', 5703: '최고다', 5704: '▁아니었다', 5705: '하나하나가', 5706: '섬', 5707: '▁잼있음', 5708: '▁잤다', 5709: '내용은', 5710: '▁찍는', 5711: '귀신', 5712: '있어요', 5713: '▁명성', 5714: '콤', 5715: '▁만들어라', 5716: '갱', 5717: '▁명불허전', 5718: '▁스타워즈', 5719: '▁점수준것들', 5720: '짤', 5721: '▁소중함을', 5722: '▁역겨운', 5723: '덩어리', 5724: '▁적절한', 5725: '▁사투리', 5726: '펙트', 5727: '표정', 5728: '▁명배우', 5729: '▁당황', 5730: '▁안될', 5731: '▁판단', 5732: '▁요새', 5733: '▁생각해보게', 5734: '▁등장인물', 5735: '▁가능한', 5736: '것처럼', 5737: '▁빛을', 5738: '▁억지감동', 5739: '▁정상', 5740: '▁액션신', 5741: '▁수많은', 5742: '▁치유', 5743: '▁궁금해서', 5744: '▁욕심', 5745: '▁짜증나고', 5746: '▁시대의', 5747: '갈때', 5748: '시간동안', 5749: '▁남았', 5750: '▁확인', 5751: '40', 5752: '▁고어', 5753: '벤', 5754: '▁자아', 5755: '▁찍고', 5756: '긴했지만', 5757: '▁읽고', 5758: '▁캐리', 5759: '▁잼있는', 5760: '▁전편보다', 5761: '것보다', 5762: '지루하다', 5763: '▁2000', 5764: 'ᄎ', 5765: '덴', 5766: '츄', 5767: '▁쓸데없이', 5768: '욤', 5769: '▁이병헌', 5770: '▁화장실', 5771: '▁박진감', 5772: '▁흑백', 5773: '▁케빈', 5774: '▁저급', 5775: '▁4.44', 5776: '▁실험', 5777: '▁배꼽', 5778: '능력', 5779: '▁장난아니', 5780: '외에는', 5781: '못하는', 5782: '▁서울', 5783: '▁거품', 5784: '▁100%', 5785: '▁당신이', 5786: '▁아련하', 5787: '▁자극적', 5788: '▁멋있어', 5789: '▁미소가', 5790: '▁묻어', 5791: '싫어', 5792: '잖아요', 5793: '▁시작해서', 5794: '▁왜곡', 5795: '▁철학적', 5796: '좋네요', 5797: '쩝', 5798: '코메디', 5799: '해줄', 5800: '만드냐', 5801: '▁곧', 5802: '500', 5803: '▁웃었', 5804: '였지', 5805: '▁말고는', 5806: '지루해', 5807: '▁거기에', 5808: '▁실수', 5809: '▁괜찮게', 5810: '하지말고', 5811: '만큼이나', 5812: '▁현실감', 5813: '세포', 5814: '▁담은', 5815: '▁돼지', 5816: '▁등장인물들', 5817: '미친', 5818: '봤습니다', 5819: '숀', 5820: '및', 5821: '뻥', 5822: '쩍', 5823: '쯧쯧', 5824: '▁무거운', 5825: '▁이해불가', 5826: '▁감명깊게', 5827: '▁스파이', 5828: '▁이딴영화', 5829: '▁맞춰', 5830: '▁앞뒤', 5831: '▁오래전에', 5832: '▁일부러', 5833: '▁응원', 5834: '조연', 5835: '▁파괴', 5836: '▁어느정도', 5837: '▁만들어낸', 5838: '것같은데', 5839: '▁볼만합니다', 5840: '▁속았다', 5841: '▁사람이라면', 5842: '▁최악의영화', 5843: '▁귀여워요', 5844: '▁녹아', 5845: '점만점에', 5846: '▁산만하고', 5847: '있던', 5848: '▁답답해', 5849: '▁ᄡ', 5850: '▁내일', 5851: '▁사람들에게', 5852: '게만드는', 5853: '▁잘한다', 5854: '▁보겠다', 5855: '평론가', 5856: '뭘', 5857: 'TV', 5858: '있지만', 5859: '▁아프다', 5860: '줄알았다', 5861: '▁깔끔한', 5862: '전혀', 5863: '▁말자', 5864: '또한', 5865: '제대로', 5866: '▁메이', 5867: '팍', 5868: '퀄', 5869: '▁둘째치고', 5870: '껀', 5871: '랴', 5872: '븐', 5873: '템', 5874: '눌', 5875: '쉴', 5876: '▁전반적으로', 5877: '툭', 5878: '▁베드신', 5879: '▁하이틴', 5880: '▁혐오', 5881: '▁어둡', 5882: '▁목숨', 5883: '▁왠만한', 5884: '▁보시면', 5885: '▁빛나는', 5886: '▁엄청나게', 5887: '▁장난하냐', 5888: '▁마시길', 5889: '▁편안', 5890: '▁전체적인', 5891: '▁찾는', 5892: '뭐냐', 5893: '거에요', 5894: '▁여친', 5895: '▁모욕', 5896: '▁부담', 5897: '작이라', 5898: '▁어쩔수', 5899: '▁답답하다', 5900: 'am', 5901: '▁보았던', 5902: '▁평화', 5903: '미국', 5904: '▁알았음', 5905: '▁생명', 5906: '하하하하', 5907: '▁이거보단', 5908: '▁기적', 5909: '갖', 5910: '▁충격적인', 5911: '보긴', 5912: '못하고', 5913: '▁그렇지만', 5914: '터짐', 5915: '칼', 5916: '비슷', 5917: '그럼', 5918: '나왔으면', 5919: '▁끝나서', 5920: '겠어', 5921: '▁웃기는', 5922: '▁불가능', 5923: '나쁜', 5924: '▁이것보다', 5925: '싫다', 5926: '▁필요한가', 5927: '▁웃었다', 5928: '▁킬링', 5929: '쯔', 5930: '▁놀랐다', 5931: '▁인터넷', 5932: '▁흡입력', 5933: '렐', 5934: '밧', 5935: '▁도데체', 5936: '▁강동원', 5937: '▁오글오글', 5938: '▁상관없', 5939: '▁민폐', 5940: '▁최소', 5941: '▁잃은', 5942: '그렇게', 5943: '▁서양', 5944: '▁관련', 5945: '▁낫겠다', 5946: '▁절망', 5947: '으려고', 5948: '유발', 5949: '▁아만다', 5950: '▁진지하게', 5951: '▁미안하다', 5952: '▁희망을', 5953: '▁울었어요', 5954: '▁기존', 5955: '▁괜찮았음', 5956: '▁마지막엔', 5957: '▁있었으면', 5958: '▁나을듯', 5959: '겠는데', 5960: '▁표현할', 5961: '▁괜찮네요', 5962: '▁않았지만', 5963: '였다면', 5964: '▁보려', 5965: '▁다르게', 5966: '낫다', 5967: '▁상대', 5968: '줘야지', 5969: '▁괜찮아', 5970: '▁중심', 5971: '▁낮네요', 5972: '오랜만에', 5973: '▁명연기', 5974: '▁파리', 5975: '▁뭐임', 5976: '▁미국식', 5977: '▁두시간', 5978: '▁자극적인', 5979: '당시엔', 5980: '하니까', 5981: '▁혹시', 5982: '▁좋지', 5983: '▁초등학교', 5984: 'ᅩ', 5985: '쿡', 5986: '뭉', 5987: '뚝', 5988: '펜', 5989: '뻑', 5990: '톡', 5991: '▁가까운', 5992: '스파이더맨', 5993: '쫓', 5994: '▁어두운', 5995: '▁비호감', 5996: '▁격투', 5997: '▁ᄌᄂ', 5998: '▁만들었나', 5999: '▁어설프다', 6000: '▁짜릿', 6001: '▁예측', 6002: '▁대사들', 6003: 'us', 6004: '엇음', 6005: '▁감동적이에요', 6006: '▁기획', 6007: '▁도시', 6008: '▁에효', 6009: '▁인생영화', 6010: '▁중학생', 6011: '습니까', 6012: '지않게', 6013: '▁화나', 6014: '자마자', 6015: '▁갖다', 6016: '▁사랑스럽다', 6017: '것같네요', 6018: '▁담긴', 6019: '▁첨부터', 6020: '▁멋있고', 6021: '놈들은', 6022: '▁거지같은', 6023: '▁간지', 6024: '▁맞나', 6025: '▁안보는게', 6026: 'ᅲᅲᅲᅲᅲ', 6027: 'ce', 6028: '여배우', 6029: '▁연기잘하', 6030: '힘들', 6031: '되네', 6032: '▁벗어', 6033: '▁첨이다', 6034: '▁좋네', 6035: '▁가족들', 6036: '▁떠올', 6037: '▁나와야', 6038: '할수있는', 6039: '▁충분한', 6040: '▁뜬금없는', 6041: '▁소화', 6042: '잤', 6043: '시나리오', 6044: '유쾌하게', 6045: '▁소름끼치는', 6046: '핵', 6047: '예술', 6048: '선택', 6049: '천원', 6050: '▁감동입니다', 6051: '▁인상적인', 6052: '픔', 6053: '스티', 6054: '▁ᄒᄃᄃ', 6055: '▁시도는', 6056: '떤', 6057: '낯', 6058: '헉', 6059: '▁신하균', 6060: '▁오프닝', 6061: '▁리얼리티', 6062: '▁언젠가', 6063: '▁자동차', 6064: '▁누군지', 6065: '▁무대', 6066: '▁첩보', 6067: '스틴', 6068: '▁엽기', 6069: '▁블랙코미디', 6070: '괜찬', 6071: '▁만화영화', 6072: '웠던', 6073: '▁진지한', 6074: '▁살리지', 6075: '▁부활', 6076: '▁태국', 6077: '▁개똥', 6078: '녀석', 6079: '▁이거보다', 6080: '▁말하려는', 6081: '립니다', 6082: '▁망할', 6083: '▁한심하다', 6084: '▁절로', 6085: '모자', 6086: '▁무겁', 6087: '▁여자애', 6088: 'ᄃᄃᄃ', 6089: '▁보고싶은데', 6090: '꺼야', 6091: '▁유행', 6092: '▁멋있었', 6093: '까봐', 6094: '▁아니잖아', 6095: '▁그동안', 6096: '맘에', 6097: '▁모르겠네요', 6098: '▁형편없는', 6099: '▁넘넘', 6100: '▁삶과', 6101: '▁한번더', 6102: '있네요', 6103: '▁독특하고', 6104: '였네요', 6105: '▁아파', 6106: '▁가히', 6107: '곳이', 6108: '같아요', 6109: '곳에서', 6110: '▁처음이네', 6111: 'un', 6112: '▁짜증나게', 6113: '▁재미없었', 6114: '▁초반부', 6115: '▁훌륭했', 6116: '돈주고', 6117: '▁선정', 6118: '▁가족애', 6119: '덩', 6120: '셉', 6121: '됫', 6122: '▁말그대로', 6123: '▁박보영', 6124: '▁라이언', 6125: '▁기발한', 6126: '▁보지마셈', 6127: '였구나', 6128: '▁헛웃음', 6129: '▁극혐', 6130: '▁부탁', 6131: '▁좋았을텐데', 6132: '▁고딩', 6133: '▁개그맨', 6134: '▁동영상', 6135: '▁극복', 6136: '▁등등', 6137: '▁은근', 6138: '▁여태', 6139: '▁강추합니다', 6140: '▁마약', 6141: '해지고', 6142: '▁미녀', 6143: '▁중국영화', 6144: '▁끌고', 6145: '하거나', 6146: '▁인디', 6147: '▁어울리지', 6148: '▁만난', 6149: '▁귀여', 6150: '▁잊고', 6151: '밖', 6152: '▁마지막회', 6153: '▁여인', 6154: '▁말밖에', 6155: '더스', 6156: '▁낚인', 6157: '망작', 6158: '쁜', 6159: '▁화끈', 6160: '돌려', 6161: '▁세월이', 6162: '▁벗어나', 6163: '멋잇', 6164: '▁빠졌', 6165: '▁찾아서', 6166: '꿈', 6167: '▁뻔뻔', 6168: '바람', 6169: '하는구나', 6170: '맑', 6171: '▁어정쩡', 6172: '버렸네', 6173: '쉐', 6174: '혔', 6175: '▁EBS', 6176: '▁류승범', 6177: '▁오그라드는', 6178: '뱀', 6179: '셜', 6180: '캡', 6181: '▁쓸데없는', 6182: '앞으로', 6183: '▁죄송', 6184: '▁그려낸', 6185: '▁고뇌', 6186: '▁공룡', 6187: '▁밑도', 6188: '좋아하는데', 6189: '▁좋으나', 6190: '특집', 6191: 'ᄀᄀ', 6192: '▁이도저도', 6193: '▁대신', 6194: '좋은데', 6195: '▁충분하다', 6196: '▁천국', 6197: '▁잘못된', 6198: '▁마시', 6199: '▁드림', 6200: '▁살인마', 6201: '▁탄탄하고', 6202: '▁주온', 6203: '브리', 6204: '▁애매', 6205: '▁안나온다', 6206: '▁귀여웠', 6207: '▁답답함', 6208: '▁명성에', 6209: '아까운영화', 6210: '하고싶다', 6211: '^^;', 6212: '▁소장하고', 6213: '▁모르겠네', 6214: '▁잠시', 6215: '▁옆에', 6216: '드립', 6217: '▁만났', 6218: '▁낮은지', 6219: '▁신선함', 6220: '▁놓치', 6221: '▁싸우', 6222: '낭비', 6223: '▁막판', 6224: '로맨스', 6225: '▁부정', 6226: '허무', 6227: '볼까', 6228: '▁다시보기', 6229: '퉤', 6230: '▁movie', 6231: '▁못봐주겠', 6232: '▁송강호', 6233: '핫', 6234: '걷', 6235: '렛', 6236: '▁피아노', 6237: '▁배급사', 6238: '▁일주일', 6239: '▁미스캐스팅', 6240: '▁흥미로웠', 6241: '▁전성기', 6242: '▁위험', 6243: '▁장애인', 6244: '▁묘한', 6245: '▁고독', 6246: '▁사랑한다', 6247: '▁장난하나', 6248: '▁모르지만', 6249: '▁재미있었는데', 6250: '이후로', 6251: '▁마블', 6252: '▁한방', 6253: '▁역사상', 6254: '극히', 6255: '▁않았던', 6256: 'ed', 6257: '▁공유', 6258: '▁말인가', 6259: '▁비중', 6260: '▁반영', 6261: '보임', 6262: '▁결론은', 6263: '▁보는것', 6264: '▁보라고', 6265: '삼류', 6266: '살때', 6267: '▁어이없다', 6268: '었구나', 6269: '▁넣어', 6270: '15', 6271: '▁흉내', 6272: '▁본격', 6273: '초딩', 6274: '▁없군', 6275: '▁실망이다', 6276: '곽', 6277: 'ᄐ', 6278: '▁시종일관', 6279: '렴', 6280: '▁디카프리오', 6281: '겻', 6282: '랩', 6283: '몫', 6284: '쭈', 6285: '캠', 6286: '튜', 6287: '▁몽환적', 6288: '▁걱정', 6289: '▁킬러', 6290: '▁환경', 6291: '드려요', 6292: '마누라', 6293: '▁일반', 6294: '▁이번에', 6295: '▁느껴지지', 6296: '▁대박이다', 6297: '▁이끌어', 6298: '▁먹칠', 6299: '▁살렸다', 6300: '보일', 6301: '▁욕먹', 6302: '분짜리', 6303: '였네', 6304: '▁뻔하다', 6305: '▁다운받아서', 6306: '▁오글거리는', 6307: '▁짝이', 6308: '잭슨', 6309: '▁언제까지', 6310: '▁심한', 6311: '▁만들려', 6312: '느냐', 6313: '▁환상적인', 6314: '▁한시간', 6315: '다시보고싶', 6316: '▁개봉당시', 6317: '▁아까워서', 6318: '아니면', 6319: '▁잼있네요', 6320: '효과', 6321: 'el', 6322: '▁승리', 6323: '좀비', 6324: 'ne', 6325: '▁심하다', 6326: '할줄', 6327: '▁신화', 6328: '김정', 6329: '▁달려', 6330: '▁열라', 6331: '보니깐', 6332: '에비해', 6333: '▁싶다면', 6334: '▁알파치노', 6335: '풋', 6336: '▁아름다워', 6337: '▁섬세한', 6338: '▁칭찬', 6339: '▁닥치고', 6340: '▁드니로', 6341: '▁전설이', 6342: '▁2012', 6343: '▁라스트', 6344: '▁읽는', 6345: '▁-_-;;', 6346: '▁때리', 6347: '▁믿어', 6348: '▁재밌게봤어요', 6349: '▁개꿀잼', 6350: '▁역작', 6351: '여주인공', 6352: '▁조낸', 6353: '학년때', 6354: '▁대결', 6355: '▁역겹다', 6356: '▁모든것이', 6357: '▁최고에요', 6358: '형제', 6359: '▁잃었', 6360: '▁나무', 6361: '되길', 6362: '▁조잡한', 6363: '▁싫어하는', 6364: '중국', 6365: '▁빠져서', 6366: '▁옛날영화', 6367: '사실', 6368: '▁보여줘', 6369: '▁중년', 6370: '주려고', 6371: '▁재미없네요', 6372: '맹', 6373: '경찰', 6374: '뚫', 6375: '릇', 6376: '옳', 6377: '왈', 6378: '▁유치찬란', 6379: '덮', 6380: '둠', 6381: '엮', 6382: '▁왕조현', 6383: '▁짬뽕', 6384: '▁되돌아', 6385: '▁섬뜩', 6386: '▁혁명', 6387: '옵니다', 6388: '역할', 6389: '▁슈퍼맨', 6390: '▁각색', 6391: '▁영원', 6392: '페이스', 6393: '▁흘러가는', 6394: '▁사랑스럽고', 6395: '▁만약', 6396: '각본', 6397: '▁싶었던', 6398: '충격', 6399: '편집', 6400: '▁벌어', 6401: '흥미롭', 6402: '▁느껴졌다', 6403: '예뻐', 6404: '하자면', 6405: '▁어쩌다', 6406: '▁준비', 6407: '▁볼것', 6408: '▁남성', 6409: '비추', 6410: '▁단점', 6411: '▁뛰어넘는', 6412: '속으로', 6413: '봤네', 6414: '.,.,', 6415: '▁꼭봐야', 6416: '▁좋더라', 6417: '▁가시', 6418: '누님', 6419: '▁보고나니', 6420: '▁되야', 6421: '▁세상에서', 6422: '룬', 6423: '▁가야', 6424: 'CG', 6425: '랙', 6426: '퉁', 6427: 'ᄊ', 6428: '▁뒤죽박죽', 6429: '▁오랫동안', 6430: '▁즐거움', 6431: '켓', 6432: '▁2.22', 6433: '점준것중', 6434: '▁비행기', 6435: '▁바탕으로', 6436: '범죄', 6437: '▁쏘우', 6438: '병맛', 6439: '▁돌아보게', 6440: '▁과학', 6441: '▁로망', 6442: '▁흥분', 6443: '▁최후', 6444: '▁단순히', 6445: '▁기억난다', 6446: '▁뻔한스토리', 6447: '▁지옥', 6448: '▁실사', 6449: '맞아', 6450: '나보네', 6451: '물론', 6452: '▁최소한', 6453: '▁공연', 6454: '봣어요', 6455: '겨울', 6456: '▁여배우들', 6457: 'ost', 6458: 'he', 6459: '해줘서', 6460: '▁천사', 6461: '▁불안', 6462: '재밋엇', 6463: 'ᄃᄃᄃᄃ', 6464: 'ri', 6465: '뚜', 6466: '썸', 6467: '▁스필버그', 6468: '썬', 6469: '킴', 6470: '▁오그라들', 6471: '▁데이빗', 6472: '▁여러모로', 6473: '▁박평식', 6474: '▁엉뚱', 6475: '▁최민수', 6476: '▁원숭이', 6477: '▁한효주', 6478: '▁아련한', 6479: '▁무간도', 6480: 'ᅲᅲᅲᅲᅲᅲᅲᅲᅲᅲ', 6481: '▁상큼', 6482: '▁도둑', 6483: '▁늙은', 6484: '폴', 6485: '▁말이필요없다', 6486: '▁풀어낸', 6487: '▁로맨틱코미디', 6488: '▁역량', 6489: '밖엔', 6490: '▁앉아', 6491: '▁기대했', 6492: '▁멋짐', 6493: '▁잔잔함', 6494: '▁알려주는', 6495: '▁재탕', 6496: '▁좋겠습니다', 6497: '▁멋져요', 6498: '▁또라이', 6499: '▁봤는지', 6500: '보지마라', 6501: '아닌데', 6502: '▁완벽하다', 6503: '▁책임', 6504: '보고나서', 6505: '▁군인', 6506: '▁멋지게', 6507: '몰라', 6508: '▁제대로된', 6509: '▁모방', 6510: '▁놀란', 6511: '▁않아요', 6512: '▁말투', 6513: '▁웃겨서', 6514: '할수없는', 6515: '▁사람에게', 6516: '구역', 6517: '▁못했', 6518: '▁최고최고', 6519: '▁배경으로', 6520: '▁없던', 6521: '그저', 6522: '순수', 6523: '보셔', 6524: '▁별로였다', 6525: '▁환상적', 6526: '▁이상하다', 6527: '점주기도', 6528: '50', 6529: '▁독특하', 6530: '▁정체', 6531: '앉', 6532: '셧', 6533: '옮', 6534: '퀸', 6535: '▁아기자기', 6536: '▁아마추어', 6537: '▁클래식', 6538: '▁김희선', 6539: '▁깜놀', 6540: '▁데뷔작', 6541: '▁후속편', 6542: '▁완젼', 6543: '▁두고두고', 6544: '▁에라이', 6545: '▁레옹', 6546: '▁잔인함', 6547: '것같아', 6548: 'ter', 6549: '시청률', 6550: '애니메이션', 6551: '아름다운', 6552: '옛날', 6553: '▁떨어져', 6554: '우리나라', 6555: '▁같았다', 6556: '▁못하겠다', 6557: '결국', 6558: '▁감명', 6559: '▁아이들에게', 6560: '구먼', 6561: '▁미스터리', 6562: '▁어쩌면', 6563: '멋진', 6564: '▁인류', 6565: '▁어이없음', 6566: '회부터', 6567: '거같아', 6568: '▁전라도', 6569: 'se', 6570: '▁아이유', 6571: '할정도로', 6572: '▁구분', 6573: '▁토니', 6574: '▁기대했던', 6575: '▁부족함', 6576: '복수', 6577: '해놓고', 6578: '주었다', 6579: '▁정신병', 6580: '▁의상', 6581: '있었는데', 6582: '▁스릴감', 6583: '밋', 6584: '어설프', 6585: '▁찍으', 6586: '▁스릴러물', 6587: '쏴', 6588: '▁뒤늦게', 6589: '곱', 6590: '뤄', 6591: '▁다이하드', 6592: '▁마찬가지', 6593: '▁컨셉', 6594: '▁잊지못할', 6595: '▁김수현', 6596: '▁묵직', 6597: '▁빠져들게', 6598: '▁다니엘', 6599: '▁수면제', 6600: '▁컬트', 6601: '▁케미', 6602: '▁새삼', 6603: '▁거기다', 6604: '▁권력', 6605: '▁재앙', 6606: '▁상징', 6607: '▁보여줄', 6608: '무서워', 6609: '줍니다', 6610: '개인적으로', 6611: '▁말씀', 6612: '▁재미나게', 6613: '것같음', 6614: 'very', 6615: '▁괜찮았던', 6616: '예쁘', 6617: '▁흥미롭지', 6618: '▁채우', 6619: '합시다', 6620: '보지마세요', 6621: '▁있긴', 6622: '▁소통', 6623: '▁들어간', 6624: '▁공감되', 6625: '▁야하지도', 6626: '▁파워', 6627: '▁멋져', 6628: '보려고', 6629: '▁오직', 6630: '터졌', 6631: '지못한', 6632: '▁강간', 6633: '▁행복하게', 6634: '▁의미있는', 6635: '하겠습니다', 6636: '▁여신', 6637: 'ma', 6638: '▁않으면', 6639: '▁넘어서', 6640: '생기고', 6641: '▁이딴거', 6642: '감명깊', 6643: '흉', 6644: '▁고등학생', 6645: '▁군더더기', 6646: '▁비쥬얼', 6647: '듦', 6648: '뜸', 6649: '뺏', 6650: '홈', 6651: '▁Good', 6652: '▁테이큰', 6653: '룰', 6654: '턱', 6655: '▁그냥저냥', 6656: '▁엄정화', 6657: '▁차승원', 6658: '▁김혜수', 6659: '▁농담', 6660: '▁완죤', 6661: '▁봐줄만', 6662: '▁아쉬울', 6663: '▁거부감', 6664: '▁어설프게', 6665: '▁흥미롭게', 6666: '▁더러워', 6667: '▁아쉬워요', 6668: '샘', 6669: '▁감동적이었다', 6670: '킬링타임', 6671: '판타지', 6672: '▁재밌었습니다', 6673: '▁만들어주', 6674: '▁팬들', 6675: '▁무협영화', 6676: '▁흉내내', 6677: '▁재방', 6678: '▁미학', 6679: '▁레오', 6680: '▁부산', 6681: '▁울림', 6682: '▁한동안', 6683: '아무리', 6684: '▁지금보면', 6685: '▁세월', 6686: '맞음', 6687: '▁향수', 6688: '하길래', 6689: '▁어쩔수없', 6690: '▁있었음', 6691: '▁매주', 6692: '▁나왔던', 6693: '▁OOOO', 6694: '▁먹어', 6695: '원주고', 6696: '영활', 6697: '안좋', 6698: '▁광기', 6699: '솜', 6700: '▁애니매이션', 6701: '▁카메론', 6702: '팩', 6703: '▁새록새록', 6704: '▁송승헌', 6705: '▁포켓몬', 6706: '꽁', 6707: '뜯', 6708: '밉', 6709: '▁팝콘', 6710: '▁한석규', 6711: '▁멈추', 6712: '▁드래곤볼', 6713: '▁밝혀', 6714: '▁원피스', 6715: '▁택시', 6716: '▁자연스럽게', 6717: '▁크리스찬', 6718: '땜시', 6719: '▁찬양', 6720: '▁등록', 6721: '▁모자라', 6722: '▁감동적입니다', 6723: '▁가짜', 6724: '▁힘들었다', 6725: '▁웃다가', 6726: '▁범죄자', 6727: '▁불쌍하', 6728: '▁보고있는데', 6729: '▁보는동안', 6730: '▁비록', 6731: '▁no', 6732: '엇어요', 6733: '졌으면', 6734: '▁작화', 6735: '▁알바생', 6736: '▁보게되는', 6737: '▁평소', 6738: '▁대역', 6739: '▁인연', 6740: '웃긴', 6741: '▁좋아하네요', 6742: '재밋어요', 6743: '▁망쳐놓', 6744: '▁나올까', 6745: '▁화끈한', 6746: '셨으면', 6747: '▁그리워', 6748: '갈수', 6749: '졌음', 6750: '▁방해', 6751: '저런', 6752: '높아', 6753: '▁알게되', 6754: '▁오랜', 6755: '▁일깨워', 6756: '▁캐릭', 6757: '하더니', 6758: '^_^', 6759: '▁러브스토리', 6760: '▁호불호가', 6761: '팽', 6762: '▁엉망진창', 6763: '▁차태현', 6764: '▁키아누', 6765: '렘', 6766: '앜', 6767: '▁나루토', 6768: '▁흑역사', 6769: '▁머릿속', 6770: '▁빠순이', 6771: '▁왕가위', 6772: '▁애초에', 6773: '▁심오한', 6774: '▁엠마', 6775: '▁직업', 6776: '▁거기서', 6777: '겠는가', 6778: '▁그럴싸', 6779: '><', 6780: '▁민족', 6781: '▁첫번째', 6782: '▁억지스런', 6783: '같애', 6784: '▁국산', 6785: '▁짜증났', 6786: '돋는다', 6787: '▁늙어', 6788: '첫', 6789: '프로그램', 6790: '▁감동도없고', 6791: '그나마', 6792: '댓글', 6793: '▁다시보게', 6794: '다시봐도', 6795: '▁만든건지', 6796: '폭력', 6797: '▁화질', 6798: '▁편하게', 6799: 'ay', 6800: 'sh', 6801: '▁두명', 6802: '▁브레', 6803: '자꾸', 6804: '▁조연들', 6805: '누구', 6806: '실력', 6807: '혐', 6808: '첩', 6809: '밨', 6810: '▁영웅본색', 6811: '랏', 6812: '쇄', 6813: '짙', 6814: '▁세련된', 6815: '욬', 6816: '헨', 6817: '▁웬만하면', 6818: '▁빈약한', 6819: '▁찬사를', 6820: '▁2015', 6821: '▁강아지', 6822: '▁파격적', 6823: 'vs', 6824: '▁아무튼', 6825: '▁시간아까워', 6826: '▁프레', 6827: '▁시험', 6828: '점도아깝다', 6829: '▁반갑', 6830: '▁고증', 6831: '▁재밌기만', 6832: '▁모독', 6833: '▁처음본다', 6834: '▁챙겨보', 6835: '▁고문', 6836: '▁몰아', 6837: '▁싶습니다', 6838: '▁성형', 6839: '멀', 6840: '마무리', 6841: '묻', 6842: '▁이은주', 6843: '▁학생들', 6844: '얼마나', 6845: '♡♡♡', 6846: '잘봤습니다', 6847: '▁마녀', 6848: '▁네이버평점', 6849: '▁향한', 6850: '▁슬프네요', 6851: '영화자체는', 6852: '모르겠다', 6853: '▁일반인', 6854: 'il', 6855: '▁우디', 6856: '쓰렉', 6857: '▁맞추', 6858: '▁커버', 6859: '▁진부함', 6860: '깐', 6861: '▁살았', 6862: '▁완성', 6863: '▁맛있', 6864: '부르', 6865: '섯', 6866: '▁역사적', 6867: '뗄', 6868: '뎀', 6869: '믄', 6870: '줫', 6871: '훼', 6872: '▁드림웍스', 6873: '▁박찬욱', 6874: '▁안타까움', 6875: '▁윌리엄', 6876: '▁말았어야', 6877: '▁재발견', 6878: '▁가슴아픈', 6879: '▁김민종', 6880: '▁레이첼', 6881: '▁깨달음', 6882: '▁윌리스', 6883: '▁감성팔이', 6884: '▁외로움', 6885: '▁한쿡영화', 6886: '▁페이크', 6887: '▁흠잡을', 6888: '▁찢어', 6889: '▁치밀하', 6890: '▁방황', 6891: '▁극단적', 6892: '▁안성기', 6893: '▁람보', 6894: '▁고인의', 6895: '▁닮았', 6896: '▁열광', 6897: '▁놀라울', 6898: '▁혼란', 6899: '▁공허', 6900: '▁마틴', 6901: '▁음향', 6902: '▁독립', 6903: '▁시골', 6904: '▁아깝습니다', 6905: '▁백배', 6906: '▁무슨말이', 6907: '▁더욱더', 6908: '▁미술', 6909: '중간에', 6910: '▁필요없음', 6911: '▁에로물', 6912: '▁만날', 6913: '선생님', 6914: '짧', 6915: '덕분에', 6916: '무서운', 6917: '궁금', 6918: '▁비교하면', 6919: '입니까', 6920: '▁분장', 6921: 'tv', 6922: '▁않습니다', 6923: '▁끝남', 6924: '노출', 6925: '▁있어보이', 6926: '▁낚이지', 6927: '▁go', 6928: '▁뛰어넘', 6929: '▁없으니', 6930: '▁미쳐', 6931: '▁미안해', 6932: '눈물흘', 6933: '▁미스터', 6934: '보기엔', 6935: '야말로', 6936: '달라고', 6937: '▁허허', 6938: '▁다세포소녀', 6939: '▁시끄럽', 6940: '숲', 6941: '▁이탈리아', 6942: '릉', 6943: '▁구혜선', 6944: '▁사무라이', 6945: '▁설경구', 6946: '▁권상우', 6947: '▁펼쳐', 6948: '▁떨어뜨', 6949: '▁아바타', 6950: '▁클라스', 6951: '▁잔잔하지만', 6952: '▁틀림없', 6953: 'hat', 6954: '▁증명', 6955: '▁환장', 6956: '▁죽기전에', 6957: '▁가슴아프', 6958: '▁자연스러운', 6959: '▁재방송', 6960: '▁복수극', 6961: '-.-', 6962: '▁피곤', 6963: '▁어색함', 6964: '▁심각하게', 6965: '▁세계관', 6966: '▁영광', 6967: '▁동화같은', 6968: '많은것을', 6969: '▁없애', 6970: '▁없구나', 6971: '질질끄', 6972: '▁향기', 6973: '▁매번', 6974: '됬는데', 6975: '▁다시보고싶은', 6976: '▁알게된', 6977: '▁굿굿굿', 6978: '▁좋구', 6979: '현실적', 6980: '챙', 6981: '낄', 6982: '훌', 6983: 'Y', 6984: '릅', 6985: '▁best', 6986: '▁엑스맨', 6987: '삘', 6988: '얀', 6989: '훔', 6990: '▁인상깊게', 6991: '늬', 6992: '좆', 6993: '▁내취향', 6994: '습니당', 6995: '▁떡밥', 6996: '▁평점조절', 6997: '▁나머진', 6998: '랍니다', 6999: '▁살아야', 7000: '▁록키', 7001: '▁총체적', 7002: '▁온갖', 7003: '시리즈중', 7004: '▁역쉬', 7005: '▁분량', 7006: '창있네', 7007: '2005', 7008: '▁패션', 7009: '▁지브리', 7010: '끝날때까지', 7011: '▁뭐랄까', 7012: '▁산만하', 7013: '▁던져', 7014: '▁빠질', 7015: '▁거짓', 7016: '▁적당하다', 7017: '▁재미없었음', 7018: '봤을땐', 7019: '▁인간적으로', 7020: '검사', 7021: '▁기억남', 7022: '죽는줄', 7023: '▁나오다니', 7024: '▁봤었다', 7025: '▁채워', 7026: '싶은데', 7027: '▁시체', 7028: '귀여워', 7029: '몇번', 7030: '쫌', 7031: '암튼', 7032: '큼', 7033: '▁데려다', 7034: '피디', 7035: '완벽하게', 7036: '▁없을까', 7037: '♡♡', 7038: '대가리', 7039: 'ᄍᄍᄍ', 7040: '123', 7041: '▁진정성', 7042: '될까', 7043: '사람마다', 7044: '▁형식', 7045: '▁비극적', 7046: '영화관에서', 7047: '▁알아야', 7048: '제국', 7049: '둑', 7050: '킥', 7051: '덧', 7052: '띠', 7053: '뱅', 7054: '▁에드워드', 7055: '▁엔딩크레딧', 7056: '▁트랜스포머', 7057: '▁홧팅', 7058: '▁흘렀', 7059: '겄', 7060: '졋', 7061: '▁황정민', 7062: '▁이것저것', 7063: '▁납득', 7064: '▁조승우', 7065: '▁지저분', 7066: '▁워낙', 7067: '▁예뻐서', 7068: '▁상당한', 7069: '▁오로지', 7070: '▁이나영', 7071: '▁낮추', 7072: '▁꺼져', 7073: '▁반응', 7074: 'la', 7075: '▁유령', 7076: '▁초반엔', 7077: '▁유익', 7078: '▁우왕', 7079: '▁나은듯', 7080: '▁회상', 7081: '▁얻어', 7082: '▁소소하', 7083: '▁소름끼치', 7084: '▁먹먹해', 7085: '실화라', 7086: '촬영', 7087: '심각', 7088: '▁정체성', 7089: '힘든', 7090: '▁보러갔', 7091: '성룡', 7092: '봤었는데', 7093: 'com', 7094: '투성이', 7095: '▁만들었으면', 7096: '▁유치하기', 7097: '▁살아남', 7098: '재미잇', 7099: '▁시간아깝', 7100: '▁배우분들', 7101: '▁재수없', 7102: '점만점', 7103: '▁느껴졌', 7104: '내놔', 7105: '뎁', 7106: '▁학창시절', 7107: '짖', 7108: '▁겨울왕국', 7109: '▁곱씹', 7110: '▁기대됩니다', 7111: '▁소피마르소', 7112: '▁심리묘사', 7113: '▁어설퍼', 7114: '뼈', 7115: '▁김태희', 7116: '▁최민식', 7117: '▁정주행', 7118: '▁장동건', 7119: '▁고마워', 7120: '▁전지현', 7121: '▁돋보인다', 7122: '▁모자란', 7123: '▁간첩', 7124: '▁7.5', 7125: '▁증말', 7126: '영환줄', 7127: '▁괴롭', 7128: '▁아까웠던', 7129: '▁존경합니다', 7130: '▁쉬운', 7131: '▁좋아하시는', 7132: '십니다', 7133: '▁커피', 7134: '▁알려준', 7135: '▁원표', 7136: '▁소품', 7137: '▁감동적임', 7138: '▁울었습니다', 7139: '▁적극', 7140: '▁못따라', 7141: '중딩', 7142: '지않을', 7143: '▁마음속에', 7144: '맞추기', 7145: '옷', 7146: '탐', 7147: '특유의', 7148: '분들께', 7149: '▁쩌네', 7150: '네이버', 7151: '▁재미있었던', 7152: '떨어지는', 7153: 'ᄋᄋᄋ', 7154: '▁따뜻함', 7155: '▁기분좋은', 7156: '▁깨닫', 7157: '냄', 7158: '쎄', 7159: '봇', 7160: '삽', 7161: '▁러브라인', 7162: '팝', 7163: '▁KBS', 7164: '▁과대평가', 7165: '▁런닝타임', 7166: '▁미야자키', 7167: '▁슬펐다', 7168: '▁크레딧', 7169: '▁팀버튼', 7170: '▁파워레인저', 7171: '▁손예진', 7172: '▁어차피', 7173: '찜찜', 7174: '▁어떠한', 7175: '▁엉엉', 7176: '▁엽문', 7177: '▁2004', 7178: '▁도움이', 7179: '▁2003', 7180: '▁침묵', 7181: '▁사라져', 7182: '싶을때', 7183: '▁귀찮', 7184: '▁압도적', 7185: '▁말아먹은', 7186: '▁돈낭비', 7187: '▁욕나온다', 7188: '▁과장된', 7189: '라이브', 7190: '▁진행되는', 7191: '▁8.5', 7192: '▁경악', 7193: '▁존잼', 7194: '▁돈아깝다', 7195: '▁복선', 7196: '▁경계', 7197: '▁일찍', 7198: '▁늙었', 7199: '배틀', 7200: '흥미를', 7201: '왜이래', 7202: '히어로', 7203: '왔던', 7204: '철학', 7205: '바탕', 7206: '▁실화라는', 7207: '영웅', 7208: '▁흔하', 7209: '▁풀어내', 7210: '죽이고', 7211: '▁300', 7212: '▁가능성', 7213: '쉣', 7214: '썰', 7215: '▁고맙습니다', 7216: '▁조기종영', 7217: '멕', 7218: '썻', 7219: '쏙', 7220: '훗', 7221: '▁어우러진', 7222: '끓', 7223: '▁싸이코패스', 7224: '▁팍팍', 7225: '▁객관적', 7226: '▁오우삼', 7227: '떄문에', 7228: '그나저나', 7229: '▁어딘가', 7230: '▁임청하', 7231: '별반개도', 7232: '꼬맹이', 7233: '▁보낸다', 7234: '▁가까이', 7235: '▁미친듯이', 7236: '▁사기꾼', 7237: '▁잃어버린', 7238: '▁전도연', 7239: '▁아동용', 7240: '▁감동받았', 7241: '▁돌려줘', 7242: '▁ᄅᄋ', 7243: '▁황금', 7244: '할게요', 7245: '겠군', 7246: '▁197', 7247: '▁여태까지', 7248: '▁사이코', 7249: '▁조용히', 7250: '탁월한', 7251: '▁허탈', 7252: '▁중간부터', 7253: '▁실패작', 7254: '▁히어로물', 7255: '▁지나친', 7256: '▁도중에', 7257: '▁머리속', 7258: '▁로마', 7259: '팬이라', 7260: '▁유혹', 7261: '싫', 7262: '톰', 7263: 'ᄉᄇ', 7264: '좋았음', 7265: '낮아서', 7266: '▁198', 7267: 'all', 7268: '▁역겹', 7269: '▁태어나', 7270: '깁', 7271: '드래곤', 7272: '****', 7273: 'zzz', 7274: '↓', 7275: '▁ocn', 7276: '▁굉장한', 7277: '▁도라에몽', 7278: '▁어쨌든', 7279: '▁엉터리', 7280: '긔', 7281: '넼', 7282: '녁', 7283: '쌓', 7284: '잣', 7285: '텅', 7286: '▁양동근', 7287: '#', 7288: '▁고마운', 7289: '▁여기저기', 7290: '▁스티브', 7291: '▁스피드', 7292: '▁큐브', 7293: '▁입장에서', 7294: '▁저절로', 7295: '▁비정상', 7296: '▁솔까', 7297: '▁스킵', 7298: '▁웅장', 7299: '▁별한개도', 7300: '▁보여줌', 7301: '▁색채', 7302: '▁스토리라인', 7303: '▁심각한', 7304: '▁느리고', 7305: '였으나', 7306: '▁생존', 7307: '▁교회', 7308: '▁신세계', 7309: '▁바랬', 7310: '▁신나게', 7311: '▁간직', 7312: '▁노튼', 7313: '▁도통', 7314: '해지네요', 7315: '클럽', 7316: '본영화중에', 7317: '지않나', 7318: '역활', 7319: '썩', 7320: '고싶지', 7321: '이쁘고', 7322: '것일까', 7323: '댓', 7324: '뷔', 7325: '펼', 7326: '▁ebs', 7327: '▁겉멋만', 7328: '▁신데렐라', 7329: '▁일베충', 7330: '▁흐지부지', 7331: '곁', 7332: '껍', 7333: '즉', 7334: '펠', 7335: '▁국어책', 7336: '▁펭귄', 7337: '☆', 7338: '핸', 7339: '윽', 7340: '▁맙시다', 7341: '▁초중반', 7342: '▁소지섭', 7343: '▁인디아나', 7344: '▁오페라', 7345: '▁뉴욕', 7346: '▁납치', 7347: '▁색다르', 7348: '▁그들만의', 7349: '▁어지간', 7350: '▁젊음', 7351: '^.^', 7352: '▁케이트', 7353: '▁활용', 7354: '▁담겨있', 7355: '▁관람객', 7356: '깁니다', 7357: '▁성찰', 7358: '▁프레디', 7359: '▁사라진', 7360: '▁말이필요없는', 7361: '▁초등학교때', 7362: '▁서극', 7363: '▁제정신', 7364: '것같습니다', 7365: '▁발랄', 7366: '▁빠져들었', 7367: '▁지루했음', 7368: '▁볼만해요', 7369: '▁얘들', 7370: '더라고요', 7371: '▁me', 7372: '만들엇', 7373: '보고싶네', 7374: '좋았어요', 7375: '왜이리', 7376: '시간낭비', 7377: '결혼', 7378: '▁어린이들', 7379: '본것중', 7380: '▁어울리', 7381: '믹', 7382: '쯧', 7383: '켈', 7384: '쇠', 7385: '▁아이언맨', 7386: '▁임권택', 7387: '▁파라노말', 7388: '꺄', 7389: '넷', 7390: '웰', 7391: '▁주상욱', 7392: '▁더더욱', 7393: '▁홍금보', 7394: '▁2013', 7395: '▁ᄇᄉ', 7396: '▁타이틀', 7397: '▁멘탈', 7398: '▁태어난', 7399: '▁뛰쳐', 7400: '▁성유리', 7401: '▁거슬리', 7402: '▁The', 7403: '▁촌스럽지', 7404: '▁훈남', 7405: '낙', 7406: '긍', 7407: '궈', 7408: '샀', 7409: '펀', 7410: '人', 7411: '갇', 7412: '닦', 7413: '빚', 7414: '빤', 7415: '칫', 7416: '탠', 7417: '힛', 7418: '뎌', 7419: '췄', 7420: '퇴', 7421: '깎', 7422: '즌', 7423: 'ᅦ', 7424: '됌', 7425: '룸', 7426: '쉰', 7427: '쑤', 7428: '엌', 7429: '엣', 7430: '잎', 7431: '듀', 7432: '륵', 7433: '웬', 7434: '뿔', 7435: '낌', 7436: '봅', 7437: '깡', 7438: '됴', 7439: '뻘', 7440: '넋', 7441: '럿', 7442: 'q', 7443: '꾹', 7444: '꿨', 7445: '맷', 7446: '쿄', 7447: '흰', 7448: '낳', 7449: '젼', 7450: '。', 7451: '쏠', 7452: '겸', 7453: '뉘', 7454: '댐', 7455: '딕', 7456: '띵', 7457: '웩', 7458: '펄', 7459: '벙', 7460: '헝', 7461: '쌍', 7462: '깍', 7463: '넌', 7464: 'W', 7465: '뜩', 7466: '쵝', 7467: '펑', 7468: '짬', 7469: '밸', 7470: 'Z', 7471: '’', 7472: '둬', 7473: '륙', 7474: '샌', 7475: '쌩', 7476: '펴', 7477: '횽', 7478: '끗', 7479: '톨', 7480: '숫', 7481: '욜', 7482: '텀', 7483: '툰', 7484: '캬', 7485: '꽤', 7486: '꿔', 7487: '닙', 7488: '·', 7489: 'ᆞ', 7490: '룹', 7491: '슐', 7492: '쌤', 7493: '‘', 7494: '뇨', 7495: '뺀', 7496: '샷', 7497: '쫙', 7498: '쬐', 7499: '핏', 7500: '핳', 7501: '흙', 7502: '꽝', 7503: '줍', 7504: '댕', 7505: '췌', 7506: '칩', 7507: '햄', 7508: '떳', 7509: '끊', 7510: '뽑', 7511: '률', 7512: '맙', 7513: '돕', 7514: '쌀', 7515: '쌈', 7516: '엎', 7517: 'ᅭ', 7518: '묶', 7519: '뱉', 7520: '댈', 7521: '왼', 7522: '콕', 7523: '퀀', 7524: '젓', 7525: 'ᄑ', 7526: '밌', 7527: '짠', 7528: '닳', 7529: '탭', 7530: '퍽', 7531: '헷', 7532: '홉', 7533: '뒀', 7534: '딧', 7535: '붐', 7536: '옵', 7537: '죤', 7538: '샹', 7539: '욧', 7540: '햐', 7541: '썅', 7542: '눠', 7543: '젬', 7544: '캅', 7545: 'ᅣ', 7546: '\\\\', 7547: '甲', 7548: '꺅', 7549: '웁', 7550: '꽂', 7551: '쌔', 7552: '얌', 7553: '촉', 7554: '뺐', 7555: '쩡', 7556: '갤', 7557: '뤽', 7558: '뺴', 7559: '솟', 7560: '앳', 7561: '얕', 7562: '탔', 7563: '○', 7564: '깬', 7565: '냅', 7566: '섰', 7567: '엥', 7568: '팡', 7569: '찢', 7570: '륭', 7571: '됀', 7572: '롬', 7573: '쪄', 7574: '괘', 7575: '뮬', 7576: '씌', 7577: '쟝', 7578: '좁', 7579: '짚', 7580: '킷', 7581: '훅', 7582: '놉', 7583: '몹', 7584: '훨', 7585: '뭇', 7586: '캔', 7587: '굵', 7588: '꿋', 7589: '뎈', 7590: '乃', 7591: '굼', 7592: '늠', 7593: '떴', 7594: '낱', 7595: '씽', 7596: '[', 7597: '헬', 7598: '밭', 7599: '썽', 7600: '쵸', 7601: '♬', 7602: '뛴', 7603: '쨩', 7604: '윙', 7605: '맡', 7606: '녹', 7607: '찜', 7608: '겜', 7609: '뜰', 7610: '얔', 7611: '쑈', 7612: '짭', 7613: '쳇', 7614: '퀼', 7615: '팜', 7616: '핡', 7617: 'Q', 7618: '갸', 7619: '냉', 7620: '푹', 7621: '늑', 7622: '옜', 7623: '댜', 7624: '셸', 7625: '곸', 7626: '돠', 7627: '딥', 7628: '뚤', 7629: '빔', 7630: '싯', 7631: '욘', 7632: '덥', 7633: '밈', 7634: '윗', 7635: '힝', 7636: '펙', 7637: '횡', 7638: '無', 7639: '꾀', 7640: '땟', 7641: '룻', 7642: '샴', 7643: '쳣', 7644: '휼', 7645: '|', 7646: '뱃', 7647: 'ᅧ', 7648: '볍', 7649: '첼', 7650: '힙', 7651: '걔', 7652: '겔', 7653: '뵈', 7654: '빽', 7655: '쫑', 7656: '킁', 7657: '텨', 7658: '꿉', 7659: '뭍', 7660: '벡', 7661: '웡', 7662: '헛', 7663: '걱', 7664: '뭥', 7665: '핥', 7666: '꺾', 7667: '댔', 7668: '맬', 7669: '셰', 7670: '슥', 7671: '퀘', 7672: '훤', 7673: '→', 7674: '욯', 7675: '쪙', 7676: '캣', 7677: '쾅', 7678: '쿤', 7679: '텍', 7680: '곧', 7681: '촬', 7682: '뷁', 7683: '쒸', 7684: '”', 7685: '괸', 7686: '껑', 7687: '눅', 7688: '멧', 7689: '믓', 7690: '젝', 7691: '찼', 7692: '퉷', 7693: '폄', 7694: '풉', 7695: '“', 7696: '얍', 7697: '넝', 7698: '쨔', 7699: '쩐', 7700: '첸', 7701: '뇬', 7702: '뵙', 7703: '겅', 7704: '꼐', 7705: '뿍', 7706: '웹', 7707: '융', 7708: '잌', 7709: '좃', 7710: '챔', 7711: '칵', 7712: '$', 7713: '꿰', 7714: '잰', 7715: '뻗', 7716: '쏜', 7717: '졷', 7718: '땜', 7719: '넉', 7720: '됏', 7721: '숴', 7722: '욥', 7723: '읎', 7724: '잴', 7725: '퐁', 7726: '헿', 7727: '넥', 7728: '넴', 7729: '뿅', 7730: '샵', 7731: '쿼', 7732: '툴', 7733: '굽', 7734: '닛', 7735: '끽', 7736: '씹', 7737: '쒯', 7738: '냠', 7739: '앰', 7740: '넨', 7741: '랖', 7742: '뿡', 7743: '꿍', 7744: '벳', 7745: '흣', 7746: '♪', 7747: '컹', 7748: '낍', 7749: '꺠', 7750: '콱', 7751: '돔', 7752: '렜', 7753: '썹', 7754: '촤', 7755: '팟', 7756: '팰', 7757: '빰', 7758: '웽', 7759: '곀', 7760: '옛', 7761: '뒷', 7762: '컥', 7763: '갚', 7764: '쮸', 7765: '뎃', 7766: 'ᄈ', 7767: '냔', 7768: '댁', 7769: '뒈', 7770: '멱', 7771: '볶', 7772: '뽐', 7773: '죵', 7774: '줏', 7775: '쫘', 7776: '촐', 7777: '컵', 7778: 'ᆪ', 7779: '女', 7780: '괄', 7781: '깟', 7782: '꽈', 7783: '뤠', 7784: '뺑', 7785: '옌', 7786: '쨰', 7787: '찟', 7788: '캄', 7789: '死', 7790: 'ᄡ', 7791: '갘', 7792: '}', 7793: '作', 7794: '롸', 7795: '륨', 7796: '뮈', 7797: '쎈', 7798: '쥰', 7799: '펭', 7800: '휙', 7801: '떵', 7802: '짘', 7803: '캉', 7804: '햅', 7805: '딛', 7806: '잭', 7807: '뀌', 7808: '둡', 7809: '먀', 7810: '챦', 7811: '찹', 7812: '{', 7813: 'ᄄ', 7814: '넛', 7815: '숑', 7816: '읏', 7817: '쥴', 7818: '홬', 7819: '⌒', 7820: '궤', 7821: '뒹', 7822: '떙', 7823: '랗', 7824: '뭄', 7825: '읭', 7826: '챠', 7827: '녜', 7828: '섀', 7829: '잦', 7830: '밓', 7831: '킵', 7832: '、', 7833: '챘', 7834: '뀨', 7835: '랠', 7836: '앟', 7837: '팥', 7838: '갯', 7839: '멌', 7840: '옄', 7841: '캘', 7842: '콰', 7843: '퀵', 7844: '↑', 7845: '盧', 7846: '놧', 7847: '떔', 7848: '띨', 7849: '믈', 7850: '벵', 7851: '뺄', 7852: '숱', 7853: '쌌', 7854: '졍', 7855: '츰', 7856: '쿰', 7857: '팁', 7858: '─', 7859: '뤼', 7860: '왁', 7861: '롹', 7862: '☞', 7863: 'ン', 7864: '졉', 7865: '욀', 7866: '왘', 7867: '옅', 7868: '랔', 7869: '굶', 7870: '텼', 7871: '촛', 7872: '짴', 7873: '짰', 7874: '죨', 7875: '썪', 7876: '뉜', 7877: '궂', 7878: '괭', 7879: '윅', 7880: '쌉', 7881: '숟', 7882: '샛', 7883: '故', 7884: '훑', 7885: '헠', 7886: '햌', 7887: '츤', 7888: '읊', 7889: '앍', 7890: '쉼', 7891: '빴', 7892: '홥', 7893: '덱', 7894: '뀜', 7895: '닠', 7896: '냨', 7897: '깼', 7898: '휠', 7899: '큽', 7900: '좔', 7901: '̄', 7902: '헴', 7903: '촘', 7904: '쁩', 7905: '땔', 7906: '딪', 7907: '횟', 7908: '콥', 7909: '춥', 7910: '긁', 7911: '괞', 7912: '휩', 7913: '큘', 7914: '멎', 7915: '뀔', 7916: '쥔', 7917: '쟤', 7918: '샐', 7919: '릎', 7920: '쁠', 7921: '낰', 7922: '쉘', 7923: '낡', 7924: '꺽', 7925: '핍', 7926: '뤘', 7927: '쥑', 7928: '깽', 7929: '붓', 7930: '얹', 7931: '씻', 7932: '슌', 7933: '꼼', 7934: '펏', 7935: '꽥', 7936: '켠', 7937: '녔', 7938: '픕', 7939: '귓', 7940: '쫒', 7941: '뺨', 7942: '딨', 7943: '탤', 7944: '얽', 7945: '샬', 7946: '뀐', 7947: '꼇', 7948: '쨋', 7949: '뭡', 7950: '앓', 7951: '넓', 7952: '밟', 7953: '붉', 7954: '멤', 7955: '귄', 7956: '뻣', 7957: '꽉', 7958: '땠', 7959: '푼', 7960: '웍', 7961: '홧', 7962: '뿜', 7963: '틋', 7964: '맺', 7965: '쨌', 7966: '빕', 7967: '겪', 7968: '켰', 7969: '찔', 7970: '팠', 7971: '쫄', 7972: '띄', 7973: '텝', 7974: '틸', 7975: '렀', 7976: '콧', 7977: '껐', 7978: '쏟', 7979: '뻤', 7980: '슷', 7981: '왤', 7982: '듭', 7983: '섞', 7984: '톱', 7985: '튀', 7986: '펐', 7987: '겉', 7988: '쁨', 7989: '됩', 7990: '늦', 7991: '냈', 7992: '찝', 7993: '굉', 7994: '똑', 7995: '픽', 7996: '랐', 7997: '떻', 7998: '깊', 7999: '렸'}\n",
            "{'<unk>': 0, '<s>': 1, '</s>': 2, '▁': 3, '.': 4, '..': 5, '이': 6, '▁영화': 7, '...': 8, '가': 9, '의': 10, '도': 11, '는': 12, ',': 13, '을': 14, '에': 15, '고': 16, '다': 17, '은': 18, '지': 19, '?': 20, '한': 21, '▁너무': 22, '!': 23, '를': 24, '▁정말': 25, '만': 26, '▁이': 27, '로': 28, '▁진짜': 29, '나': 30, '게': 31, '영화': 32, '~': 33, '과': 34, '기': 35, '어': 36, '라': 37, '리': 38, '점': 39, '네': 40, '서': 41, '인': 42, '하고': 43, '아': 44, '▁안': 45, '으로': 46, '▁잘': 47, '!!': 48, '요': 49, '....': 50, '▁1': 51, '▁왜': 52, '에서': 53, '와': 54, '들': 55, '▁그': 56, '▁이런': 57, '▁아': 58, '▁더': 59, '▁다': 60, '해': 61, '▁수': 62, '네요': 63, '스': 64, '거': 65, '하는': 66, '자': 67, '▁그냥': 68, '▁본': 69, '▁드라마': 70, '음': 71, '면': 72, '▁10': 73, '수': 74, '하': 75, '시': 76, '지만': 77, '야': 78, '니': 79, '대': 80, '▁보고': 81, '함': 82, '▁평점': 83, '▁연기': 84, '사': 85, '▁내': 86, '▁한': 87, '하다': 88, '▁좀': 89, '일': 90, '하게': 91, '이다': 92, '▁영화를': 93, '▁봤는데': 94, '진': 95, '우': 96, '▁이거': 97, '▁ᄏᄏ': 98, '▁최고의': 99, '▁최고': 100, '데': 101, '여': 102, '드': 103, '▁참': 104, '▁쓰레기': 105, '주': 106, '▁없는': 107, '보다': 108, '미': 109, '▁못': 110, '구': 111, '는데': 112, '▁완전': 113, '임': 114, '안': 115, '▁내가': 116, '▁없다': 117, '!!!': 118, '냐': 119, 'ᄏᄏ': 120, '▁스토리': 121, '▁영화는': 122, '▁이건': 123, '할': 124, '보': 125, '▁2': 126, '▁영화가': 127, '▁개': 128, '정': 129, '듯': 130, '들이': 131, '▁나': 132, '성': 133, '▁이게': 134, '▁있는': 135, '▁좋은': 136, '신': 137, '상': 138, '▁다시': 139, '해서': 140, '▁이렇게': 141, '장': 142, '까지': 143, '던': 144, '적': 145, '▁보는': 146, '^^': 147, '부': 148, '마': 149, '▁난': 150, '▁것': 151, '▁평점이': 152, '치': 153, '~~': 154, '전': 155, '중': 156, '▁3': 157, '보고': 158, '▁재밌게': 159, 'ᄏ': 160, '개': 161, '건': 162, '려': 163, '트': 164, '랑': 165, '때': 166, '1': 167, '오': 168, '러': 169, '▁말': 170, '▁지': 171, '▁역시': 172, '질': 173, '화': 174, ';;': 175, '▁뭐': 176, '▁보': 177, '히': 178, '▁작품': 179, '▁많이': 180, '▁넘': 181, '▁볼': 182, '년': 183, '분': 184, '그': 185, '원': 186, '▁전': 187, '용': 188, '세': 189, '인데': 190, '비': 191, '▁오': 192, '??': 193, '내': 194, '2': 195, '▁또': 196, '▁저': 197, '적인': 198, '▁재미': 199, '▁하': 200, '▁감동': 201, '▁마지막': 202, '물': 203, '소': 204, '▁무': 205, '▁아깝다': 206, '▁꼭': 207, '했다': 208, '▁별로': 209, '▁하나': 210, '▁ᄏᄏᄏ': 211, '▁별': 212, '진짜': 213, '선': 214, '▁감독': 215, '같은': 216, '급': 217, '감': 218, '▁생각': 219, '것': 220, '▁액션': 221, '▁시간': 222, '식': 223, '하지': 224, '▁기대': 225, 'ᅲᅲ': 226, '라고': 227, '▁주': 228, '제': 229, '▁하는': 230, '습니다': 231, '말': 232, '▁가장': 233, '▁없고': 234, 'ᄏᄏᄏ': 235, '▁명작': 236, '동': 237, '본': 238, '▁사': 239, '▁이야기': 240, '무': 241, '▁그리고': 242, \"'\": 243, '입니다': 244, '▁지금': 245, '더': 246, '너무': 247, '걸': 248, '▁정': 249, '줄': 250, '어요': 251, '란': 252, '▁보면': 253, '▁김': 254, '편': 255, ';': 256, '▁무슨': 257, '호': 258, '드라마': 259, '▁사랑': 260, '영': 261, '▁ᅲᅲ': 262, '▁한국': 263, '좀': 264, '▁중': 265, '▁만든': 266, '▁아니': 267, '유': 268, '으면': 269, '군': 270, '▁마': 271, '씨': 272, '당': 273, '조': 274, '작': 275, '▁비': 276, '없는': 277, '디': 278, '▁다른': 279, '이나': 280, '긴': 281, '▁할': 282, '▁처음': 283, '부터': 284, '▁ᄏ': 285, '울': 286, '남': 287, 'ᅲ': 288, ')': 289, '▁어': 290, '▁배우': 291, '▁ᅳᅳ': 292, '▁조': 293, '된': 294, '▁말이': 295, '심': 296, '정말': 297, '린': 298, '3': 299, '▁대': 300, '▁자': 301, '에게': 302, '▁일본': 303, '모': 304, '연': 305, '▁와': 306, '▁느낌': 307, '워': 308, '▁좋아': 309, '▁연출': 310, '운': 311, '▁영화다': 312, '르': 313, '▁끝까지': 314, '▁짱': 315, '타': 316, '라는': 317, '생': 318, '▁기': 319, '▁일': 320, '▁미': 321, '바': 322, '있는': 323, '▁두': 324, '크': 325, '▁유': 326, '위': 327, '한다': 328, '두': 329, '▁돈': 330, '래': 331, '▁내용': 332, '▁좋다': 333, '간': 334, '명': 335, '레': 336, '준': 337, '노': 338, '▁있다': 339, '▁같은': 340, '▁봐도': 341, ',,': 342, 'ᅳᅳ': 343, '인지': 344, '인가': 345, '잘': 346, '살': 347, '▁거': 348, '류': 349, '▁알': 350, '▁솔직히': 351, '들의': 352, '▁봤다': 353, '▁ᄒᄒ': 354, '난': 355, '▁때': 356, '▁여자': 357, '▁뭔가': 358, '프': 359, '하나': 360, '길': 361, '판': 362, '경': 363, '단': 364, '▁재미있게': 365, '루': 366, '죠': 367, '▁애': 368, '▁재밌다': 369, '연기': 370, '▁신': 371, '▁시': 372, '민': 373, '▁이걸': 374, '▁코미디': 375, '▁해': 376, '▁아주': 377, '으': 378, '발': 379, '▁최악': 380, '▁구': 381, '번': 382, \"▁'\": 383, '하지만': 384, '저': 385, '합니다': 386, '▁소': 387, '처럼': 388, '▁제': 389, '▁같다': 390, '겨': 391, '재': 392, '때문에': 393, '봤는데': 394, '▁전혀': 395, '었다': 396, '▁이영화': 397, '▁장': 398, '▁하지만': 399, '되는': 400, '림': 401, '▁내용이': 402, '방': 403, '했던': 404, '▁후': 405, '▁남': 406, '엔': 407, '이랑': 408, '▁대한': 409, '▁계속': 410, '▁모두': 411, '날': 412, '▁최악의': 413, '-': 414, '티': 415, '▁사람': 416, '▁줄': 417, '님': 418, '▁재미없다': 419, '▁부': 420, '파': 421, '하면': 422, '▁스': 423, '하네': 424, '▁모': 425, '든': 426, '▁나오는': 427, '지는': 428, '(': 429, '▁4': 430, '희': 431, '▁많은': 432, '▁그래도': 433, '면서': 434, '▁아니라': 435, '▁반': 436, '▁대박': 437, '시간': 438, '터': 439, '며': 440, '▁강': 441, '▁만들어': 442, '▁보기': 443, '▁한번': 444, '▁우': 445, '▁어떻게': 446, '관': 447, '▁아닌': 448, '키': 449, '▁않고': 450, '▁내내': 451, '~~~': 452, '피': 453, '박': 454, '없다': 455, '까': 456, '▁7': 457, '▁배우들': 458, '▁딱': 459, '▁공포': 460, '▁되': 461, '점도': 462, '10': 463, '들은': 464, '▁장면': 465, '이라': 466, '버': 467, '▁만드는': 468, '▁연기가': 469, '▁우리': 470, '!!!!': 471, '▁실망': 472, '▁이제': 473, '▁인생': 474, '▁5': 475, '차': 476, '국': 477, '▁아름다운': 478, 'o': 479, '따': 480, '▁아니다': 481, '다니': 482, '▁추천': 483, '▁박': 484, '구나': 485, '4': 486, '겠다': 487, '▁모든': 488, '애': 489, '▁건': 490, '▁조금': 491, '▁8': 492, '▁제일': 493, '없이': 494, '카': 495, '점이': 496, '형': 497, 'ᄒᄒ': 498, '▁남자': 499, '실': 500, '▁듯': 501, '반': 502, '▁전개': 503, '▁연기도': 504, '▁끝': 505, '▁개봉': 506, '▁내용도': 507, '되': 508, '못': 509, '볼': 510, '▁스릴러': 511, '▁9': 512, '▁요즘': 513, '현': 514, '▁그런': 515, '▁굿': 516, '▁보다가': 517, '달': 518, '▁남는': 519, '즈': 520, '지도': 521, '▁보다': 522, '▁않는': 523, '▁불': 524, '보면': 525, '▁바': 526, '5': 527, '문': 528, '년대': 529, '▁근데': 530, '▁피': 531, '코': 532, '▁않은': 533, '▁기억': 534, '▁0': 535, '적으로': 536, '▁이해': 537, '▁시간이': 538, '다가': 539, '망': 540, '▁아까운': 541, '한테': 542, '▁애니': 543, '▁주인공': 544, '▁나는': 545, '▁음악': 546, '▁재미도': 547, '▁이상': 548, '♥': 549, '▁감독이': 550, '▁노': 551, 't': 552, '하네요': 553, '▁아직도': 554, '생각': 555, 'ᄒ': 556, '▁속': 557, '▁욕': 558, '▁수준': 559, '보는': 560, 'ᅳ': 561, '체': 562, '▁여운이': 563, '공': 564, '왜': 565, '\"': 566, '▁영화라고': 567, '▁반전': 568, '이라는': 569, '▁절대': 570, '니까': 571, '이란': 572, '▁눈': 573, '▁싶다': 574, '▁좋고': 575, '▁엄청': 576, '▁때문에': 577, '인듯': 578, '▁스토리가': 579, '▁울': 580, '▁날': 581, '▁나름': 582, '▁OO': 583, '어서': 584, '석': 585, '알': 586, '▁오랜만에': 587, '짱': 588, '산': 589, '▁걸': 590, '져': 591, '▁배': 592, '정도': 593, '▁영화입니다': 594, '▁있': 595, '▁되는': 596, '▁막장': 597, ';;;': 598, '▁현실': 599, '배': 600, '▁ᄏᄏᄏᄏ': 601, '???': 602, '▁봤': 603, 'e': 604, '▁멋진': 605, '▁원': 606, '▁공포영화': 607, '했는데': 608, '▁재': 609, '후': 610, '▁하고': 611, '▁아니고': 612, '테': 613, '▁제대로': 614, '였다': 615, '▁차라리': 616, '▁재밌어요': 617, '뿐': 618, '해요': 619, '▁봤습니다': 620, '매': 621, '▁진심': 622, '태': 623, '참': 624, '▁진': 625, '토': 626, '속': 627, '회': 628, '▁스토리도': 629, '▁주는': 630, '▁발': 631, '넘': 632, '▁봤던': 633, '이고': 634, '▁도대체': 635, '것도': 636, '▁뻔한': 637, '포': 638, '▁지루하고': 639, '▁캐릭터': 640, '7': 641, '▁영화의': 642, '▁연': 643, '▁좋았다': 644, '▁나오': 645, '▁지루한': 646, '▁나온': 647, '▁결말': 648, '스토리': 649, '▁감독의': 650, '▁만들': 651, '▁미국': 652, '양': 653, '▁제목': 654, '▁공감': 655, '극': 656, '▁공': 657, 'ᄏᄏᄏᄏ': 658, '/': 659, '▁파': 660, '▁시리즈': 661, '▁나도': 662, '8': 663, '▁영': 664, '▁좋아하는': 665, '던데': 666, '▁성': 667, '평점': 668, '배우': 669, '꺼': 670, '금': 671, '하기': 672, '▁재밌': 673, '▁재밌는': 674, '▁세': 675, '▁20': 676, '▁정도': 677, '▁연기력': 678, '▁우리나라': 679, '▁B': 680, '▁최고다': 681, '▁가슴': 682, '▁머': 683, '▁여': 684, '잼': 685, '▁대사': 686, '등': 687, '봤': 688, '▁보면서': 689, '점은': 690, '죽': 691, '감동': 692, '역': 693, '▁원작': 694, '▁ᅲ': 695, 'ᅮᅮ': 696, '▁동': 697, '▁^^': 698, '격': 699, '▁걍': 700, '력': 701, '사람': 702, '▁눈물': 703, '▁초': 704, '릴': 705, '더라': 706, '▁수작': 707, '6': 708, '려고': 709, '▁몇': 710, '▁긴장감': 711, '▁싶은': 712, '▁가족': 713, '▁표현': 714, '리는': 715, '쳐': 716, '▁없음': 717, '니다': 718, '▁않': 719, '▁기억에': 720, '▁심': 721, '법': 722, '▁인간': 723, '움': 724, '~!': 725, '절': 726, '▁영상': 727, '봤다': 728, '먹': 729, '▁보세요': 730, '▁마지막에': 731, '된다': 732, '▁재미가': 733, ',,,': 734, '는거': 735, '이라고': 736, '봄': 737, '▁지루함': 738, '▁쓰': 739, '▁배우들의': 740, '▁뭘': 741, '▁이해가': 742, '해도': 743, '▁시작': 744, '집': 745, '들을': 746, '녀': 747, '▁기분': 748, 'i': 749, '예': 750, '▁영화에': 751, '▁특히': 752, '▁코믹': 753, '▁OOO': 754, '▁막': 755, '▁6': 756, '▁괜찮은': 757, '▁사람들': 758, '을까': 759, '▁졸작': 760, '않': 761, '건지': 762, '▁될': 763, '▁허': 764, '밖에': 765, '▁보는내내': 766, '▁뭔': 767, '종': 768, '천': 769, '는게': 770, '▁후회': 771, '사랑': 772, '▁선': 773, '▁애니메이션': 774, '▁알바': 775, '그냥': 776, '구만': 777, 'd': 778, '행': 779, '▁지루하다': 780, '▁함께': 781, '능': 782, '악': 783, '▁재밋': 784, '최고': 785, '라도': 786, '▁\"': 787, '탄': 788, '▁예': 789, '▁맞': 790, '장면': 791, '근': 792, '았': 793, '강': 794, '▁극장에서': 795, '승': 796, '봐도': 797, '▁타': 798, '▁필요': 799, '설': 800, '▁베': 801, '이런': 802, '▁봤어요': 803, '김': 804, '감독': 805, '▁망': 806, '불': 807, '▁사실': 808, '▁오늘': 809, '케': 810, '너': 811, '▁소재': 812, '교': 813, '창': 814, '스트': 815, '만큼': 816, '▁노래': 817, '직': 818, '주는': 819, '중에': 820, '▁강추': 821, '대로': 822, '없': 823, '▁졸': 824, '뭐': 825, '었는데': 826, '머': 827, '학': 828, 'a': 829, '▁시나리오': 830, '▁된': 831, '▁호': 832, '▁매': 833, '▁어떤': 834, '▁그저': 835, '별': 836, '▁차': 837, '▁개인적으로': 838, '점대': 839, '통': 840, '난다': 841, '돈': 842, '▁없': 843, '글': 844, '▁못한': 845, '▁결국': 846, '투': 847, '▁큰': 848, '있다': 849, '▁영화로': 850, '른': 851, '담': 852, '▁만화': 853, '론': 854, '▁캐스팅': 855, '작품': 856, '▁들': 857, '거야': 858, '하면서': 859, '▁죽': 860, '좋': 861, '▁최': 862, '▁한국영화': 863, '▁상': 864, '레이': 865, '▁더빙': 866, '락': 867, '▁몰입도': 868, '▁봐야': 869, '재밌': 870, '▁인': 871, '계': 872, '▁억지': 873, '▁모르겠다': 874, '▁좋아요': 875, '▁살': 876, '돌': 877, '▁없이': 878, '▁제발': 879, '했음': 880, '▁웃': 881, 'ᅮ': 882, 's': 883, '이상': 884, '이네': 885, '는지': 886, '기도': 887, '맨': 888, '▁아무리': 889, '했': 890, '▁생각이': 891, '재미': 892, '▁연기는': 893, '평': 894, '아니': 895, '이야': 896, '잡': 897, 'g': 898, '버린': 899, '▁안되는': 900, '인줄': 901, '▁극': 902, '▁감동이': 903, '▁아이': 904, '▁재밌음': 905, '점을': 906, '▁분위기': 907, '열': 908, '초': 909, '▁매우': 910, '▁잼': 911, '권': 912, '▁행복': 913, '베': 914, '▁마음이': 915, '이네요': 916, '액션': 917, '▁총': 918, '업': 919, '봐': 920, '영화는': 921, '기는': 922, '▁별점': 923, '▁예술': 924, '▁ᅮᅮ': 925, '슨': 926, '▁준': 927, '입': 928, '▁않는다': 929, '름': 930, '갈': 931, '끼': 932, '▁보게': 933, '▁얼마나': 934, '▁물': 935, '슬': 936, '▁눈물이': 937, '보단': 938, '▁ᄒ': 939, '이지만': 940, '▁너무나': 941, '▁사람이': 942, '+': 943, '만들': 944, '▁기억이': 945, '▁걸작': 946, '▁영화중': 947, '▁존나': 948, '▁한다': 949, '▁영화네요': 950, '▁잠': 951, '군요': 952, '▁당': 953, '브': 954, '▁같이': 955, '▁보지': 956, '▁따라': 957, '하며': 958, '▁재밌고': 959, '▁하나도': 960, '났': 961, '병': 962, '▁높': 963, '▁않다': 964, '환': 965, '았다': 966, '▁있고': 967, '짐': 968, '▁길': 969, '▁위한': 970, '▁존': 971, '▁출연': 972, '뻔': 973, '▁미친': 974, '싶': 975, '▁그렇게': 976, '▁유치': 977, '이었다': 978, '▁가슴이': 979, '었던': 980, '▁것이': 981, '▁그만': 982, '씬': 983, '▁볼만한': 984, '▁치': 985, '▁로맨스': 986, '수가': 987, '치는': 988, '▁내용은': 989, '약': 990, '▁장난': 991, '▁느낌이': 992, '온': 993, '▁적': 994, '▁훨씬': 995, '▁입': 996, '▁-': 997, '나는': 998, '▁매력': 999, '쓰레기': 1000, '▁약': 1001, '쓰': 1002, '께': 1003, '▁누가': 1004, '▁정신': 1005, '새': 1006, '블': 1007, '기에': 1008, '에도': 1009, '▁토': 1010, '칠': 1011, '▁쓰레기영화': 1012, '▁결말이': 1013, '▁없어': 1014, '외': 1015, '증': 1016, '▁알고': 1017, '될': 1018, '완전': 1019, '▁없었다': 1020, '▁그나마': 1021, '▁평': 1022, '라면': 1023, '▁대체': 1024, '▁엔딩': 1025, '▁애들': 1026, '느낌': 1027, '▁백': 1028, '올': 1029, '▁외': 1030, '▁갈수록': 1031, '>': 1032, '▁잔잔한': 1033, '언': 1034, '▁똥': 1035, '▁노잼': 1036, '▁재미있다': 1037, '▁단': 1038, '▁실': 1039, '▁웃음': 1040, '막': 1041, '▁있을': 1042, '▁마음': 1043, '▁웃기': 1044, '▁재미없음': 1045, '▁간만에': 1046, '▁어설픈': 1047, '▁카': 1048, '▁감': 1049, '건가': 1050, '색': 1051, '▁감동적인': 1052, '▁꽤': 1053, '나요': 1054, '해야': 1055, '▁영화관에서': 1056, '왕': 1057, '▁명': 1058, '▁허접': 1059, '▁주연': 1060, '내용': 1061, '짓': 1062, '▁다큐': 1063, '련': 1064, '재미있': 1065, '친': 1066, '▁지루': 1067, '어야': 1068, '▁경': 1069, '▁있었': 1070, '순': 1071, '▁밖에': 1072, '▁감동도': 1073, '기를': 1074, '빠': 1075, 'y': 1076, '▁발연기': 1077, '▁재미있는': 1078, '▁잡': 1079, '다고': 1080, '▁화': 1081, '이지': 1082, '보니': 1083, '▁위': 1084, '범': 1085, '▁생각보다': 1086, '었음': 1087, '▁성룡': 1088, '▁너': 1089, '거지': 1090, '소리': 1091, '▁구성': 1092, '짜': 1093, '▁중국': 1094, '▁음': 1095, '라서': 1096, '▁시즌': 1097, '수준': 1098, '백': 1099, '▁위해': 1100, '땜에': 1101, '▁설정': 1102, '나오는': 1103, '9': 1104, '잇': 1105, '▁아쉽다': 1106, '▁전쟁': 1107, '년이': 1108, '0': 1109, '편이': 1110, '여자': 1111, '▁이딴': 1112, '▁안되': 1113, '▁올': 1114, '훈': 1115, '하는데': 1116, '▁그래서': 1117, '▁보여주는': 1118, '▁많': 1119, '있': 1120, '션': 1121, '▁의미': 1122, '였': 1123, '▁추': 1124, '▁야': 1125, '존': 1126, '▁열': 1127, '었': 1128, '됨': 1129, '좋아': 1130, '결': 1131, '듯한': 1132, '향': 1133, '이건': 1134, '▁변': 1135, '▁좋': 1136, '합': 1137, '진다': 1138, '▁오래': 1139, '▁점수': 1140, '표': 1141, '광': 1142, '치고': 1143, '▁아무': 1144, '이거': 1145, '줘': 1146, '▁문제': 1147, '▁같': 1148, '▁맘에': 1149, '리고': 1150, '▁당시': 1151, '????': 1152, '▁연기를': 1153, '▁재미없': 1154, '했지만': 1155, 'h': 1156, '메': 1157, '▁약간': 1158, '▁모습': 1159, '▁관객': 1160, '주의': 1161, '받': 1162, '었어요': 1163, '▁스릴': 1164, '▁같아요': 1165, '월': 1166, '▁재미는': 1167, 'D': 1168, '▁다음': 1169, '▁뿐': 1170, '▁싶': 1171, '놈': 1172, '▁봐': 1173, '▁힘들': 1174, '▁번': 1175, '▁코': 1176, '느': 1177, '▁첨': 1178, '욕': 1179, '추': 1180, '▁나왔': 1181, '영화가': 1182, '▁영상미': 1183, '▁작가': 1184, '▁재미없는': 1185, '~!!': 1186, '출': 1187, '▁진정한': 1188, '▁네이버': 1189, '린다': 1190, 'r': 1191, '할수': 1192, '▁재밌네요': 1193, '▁영화였다': 1194, '처': 1195, 'p': 1196, '▁CG': 1197, '▁들어': 1198, '▁뭐야': 1199, '▁30': 1200, '할때': 1201, '맞': 1202, '▁좋은데': 1203, '▁힘': 1204, '▁언제': 1205, '▁전부': 1206, '채': 1207, '각': 1208, '커': 1209, '스러운': 1210, '▁엄마': 1211, '▁어느': 1212, '▁멜로': 1213, '더니': 1214, '▁만들었': 1215, '있고': 1216, '또': 1217, '▁평가': 1218, '적이': 1219, '▁종': 1220, '▁바로': 1221, '▁꿀잼': 1222, '▁중간에': 1223, '▁다들': 1224, '▁스토리는': 1225, '▁글': 1226, '▁감성': 1227, '▁아님': 1228, '▁자체': 1229, '끝': 1230, '같': 1231, '▁생각하게': 1232, '이야기': 1233, '기대': 1234, '길래': 1235, '졌': 1236, '_': 1237, '▁준다': 1238, '겠지': 1239, 'b': 1240, '기만': 1241, '척': 1242, '▁tv': 1243, '▁버': 1244, '플': 1245, '퍼': 1246, '나오': 1247, '▁제작': 1248, '▁높은': 1249, '▁감동을': 1250, '▁갈': 1251, '록': 1252, '▁얘기': 1253, '다는': 1254, '▁주고': 1255, '▁잼있': 1256, '▁판타지': 1257, '▁천': 1258, '없고': 1259, '▁간': 1260, '편은': 1261, '놓고': 1262, '~~~~': 1263, '▁메': 1264, '▁아이들': 1265, '▁여주인공': 1266, '▁배우들이': 1267, '▁상당히': 1268, '해라': 1269, '영화를': 1270, '▁나와서': 1271, '▁ᅳ': 1272, '▁손': 1273, '▁생각을': 1274, '▁나올': 1275, '으나': 1276, '▁있을까': 1277, '그리고': 1278, '▁찾아': 1279, 'u': 1280, '▁이영화를': 1281, '▁드': 1282, '세요': 1283, '▁비교': 1284, '▁봤지만': 1285, '▁몰입': 1286, '▁게': 1287, '▁얼굴': 1288, 'ᄋ': 1289, '혜': 1290, '▁줄거리': 1291, '▁재미있어요': 1292, '▁뭐지': 1293, '▁딸': 1294, '▁존재': 1295, '▁각본': 1296, '▁악': 1297, '▁여기': 1298, '눈': 1299, '▁편': 1300, '▁영화인데': 1301, '▁봐서': 1302, '▁담': 1303, '라니': 1304, '▁재미있': 1305, '▁영화임': 1306, '잖아': 1307, '▁깨': 1308, '▁포스터': 1309, '▁혼자': 1310, '이라도': 1311, '♡': 1312, '였음': 1313, '▁초딩': 1314, '▁산': 1315, '▁따': 1316, '빈': 1317, '▁데': 1318, '들어': 1319, '탈': 1320, '습': 1321, '▁그대로': 1322, '▁비해': 1323, '▁대해': 1324, '▁추억': 1325, '▁않았': 1326, '▁거의': 1327, '덕': 1328, '▁그러': 1329, '▁이런영화': 1330, '▁끝나': 1331, '▁마음에': 1332, '▁충격': 1333, '▁비디오': 1334, '없음': 1335, '햇': 1336, 'k': 1337, '▁된다': 1338, '▁감정': 1339, '▁친구': 1340, 'c': 1341, '해지는': 1342, '▁어디서': 1343, '복': 1344, '-_-': 1345, '▁소리': 1346, '▁옛날': 1347, '슴': 1348, 'OO': 1349, '청': 1350, '봐서': 1351, '▁것을': 1352, '▁저런': 1353, '숙': 1354, '▁먹': 1355, '▁꿈': 1356, '▁그리': 1357, '▁포': 1358, '▁상황': 1359, '▁봤음': 1360, '▁어릴때': 1361, '▁TV': 1362, '재밋': 1363, '▁90': 1364, '▁어디': 1365, '튼': 1366, '▁목소리': 1367, '▁암': 1368, '▁뭐냐': 1369, '▁나의': 1370, '▁숨': 1371, '▁살아': 1372, '▁질': 1373, '▁부족': 1374, '낸': 1375, '만한': 1376, 'm': 1377, '년전': 1378, '▁대단한': 1379, '▁아직': 1380, '▁몸': 1381, '▁절': 1382, '▁너무너무': 1383, '웃': 1384, '▁훌륭한': 1385, '▁사람들이': 1386, '▁영화도': 1387, '모르': 1388, '한거': 1389, '귀': 1390, '▁굉장히': 1391, '▁볼만': 1392, '시대': 1393, '▁더럽게': 1394, 'l': 1395, '했어요': 1396, '▁평점을': 1397, '▁나이': 1398, '▁궁금': 1399, '▁이름': 1400, '찍': 1401, '▁삼': 1402, '▁크': 1403, '먼': 1404, '겠': 1405, '▁같은데': 1406, '▁자기': 1407, '료': 1408, '▁패': 1409, '▁놀': 1410, '▁감독님': 1411, '▁봐라': 1412, '▁좋네요': 1413, '▁다시봐도': 1414, '▁사회': 1415, '▁말도': 1416, '▁머리': 1417, '▁극장판': 1418, '▁했는데': 1419, '앗': 1420, '엇': 1421, '독': 1422, '▁좋은영화': 1423, '▁아까움': 1424, ':': 1425, '▁뭐가': 1426, '다시': 1427, '것이': 1428, '겠지만': 1429, '▁생': 1430, '▁장르': 1431, '보기': 1432, '남자': 1433, '간다': 1434, '▁분': 1435, '혀': 1436, '▁처음부터': 1437, '씩': 1438, 'f': 1439, '▁레': 1440, '▁주제': 1441, '에는': 1442, '▁요': 1443, '▁짜증': 1444, '▁만': 1445, '는건': 1446, '구요': 1447, 'ᄉ': 1448, '같이': 1449, '▁흥행': 1450, '▁역사': 1451, '▁집중': 1452, '▁팬': 1453, '에선': 1454, '겟': 1455, '목': 1456, '대박': 1457, '▁보니': 1458, '분들': 1459, '▁원작을': 1460, '▁항상': 1461, '▁돌아': 1462, '잔': 1463, '▁배경': 1464, '▁헐': 1465, '▁ᄍᄍ': 1466, '▁제가': 1467, '▁b': 1468, '▁첫': 1469, '▁화면': 1470, '쯤': 1471, '▁낫다': 1472, '별로': 1473, '▁새로운': 1474, '이라니': 1475, '▁봄': 1476, '땐': 1477, '▁있지만': 1478, '지루': 1479, '건데': 1480, '침': 1481, '▁여배우': 1482, '하시': 1483, '▁따뜻한': 1484, '▁장면이': 1485, '▁감동적이': 1486, '조차': 1487, '▁안된다': 1488, '였는데': 1489, '▁슬픈': 1490, '▁빨리': 1491, '▁했다': 1492, '▁생각해': 1493, '▁것도': 1494, '링': 1495, '▁그런지': 1496, '패': 1497, '▁있어': 1498, '이라면': 1499, '근데': 1500, '▁현': 1501, '▁대단': 1502, '곡': 1503, '▁누구': 1504, '술': 1505, '좋은': 1506, '거리': 1507, '정도로': 1508, '▁예상': 1509, '효': 1510, '아서': 1511, '써': 1512, '▁정도로': 1513, '스럽다': 1514, '▁없네': 1515, '들도': 1516, '▁작': 1517, '▁(': 1518, '▁순': 1519, '▁빠져': 1520, '을때': 1521, '벌': 1522, '▁아버지': 1523, '츠': 1524, '거냐': 1525, '셨': 1526, '억': 1527, '▁하지': 1528, '▁좋겠다': 1529, '마지막': 1530, '▁통': 1531, '▁연출력': 1532, '▁재밌었다': 1533, '▁초반': 1534, '익': 1535, '▁세계': 1536, '▁가는': 1537, '지금': 1538, '▁돌': 1539, '고싶다': 1540, '▁앞': 1541, '▁그닥': 1542, '▁어린': 1543, '런': 1544, '^': 1545, '념': 1546, '페': 1547, '만든': 1548, '▁삼류': 1549, '▁충분히': 1550, '듣': 1551, '기가': 1552, '▁태': 1553, '▁두번': 1554, '▁이것도': 1555, '▁그러나': 1556, '▁계': 1557, '▁없을': 1558, '품': 1559, '▁새': 1560, '▁윤': 1561, '▁잘못': 1562, '듬': 1563, '들에게': 1564, '명작': 1565, '같다': 1566, '거다': 1567, '여서': 1568, '립': 1569, '다면': 1570, '▁100': 1571, '▁양': 1572, '시리즈': 1573, '렸다': 1574, '본다': 1575, '징': 1576, '껏': 1577, '▁낮': 1578, '한데': 1579, '내가': 1580, '▁교훈': 1581, '굿': 1582, '▁하다': 1583, '영화중': 1584, '▁흥미진진': 1585, '▁왕': 1586, '▁있어서': 1587, '▁관': 1588, '▁의도': 1589, '찬': 1590, '▁예전에': 1591, '▁재밌는데': 1592, '▁엄청난': 1593, '▁점점': 1594, '▁M': 1595, '▁성우': 1596, '▁낮은': 1597, '배우들': 1598, '그런': 1599, '▁뒤': 1600, '처음': 1601, '▁실화': 1602, '▁영화라': 1603, '했습니다': 1604, '▁지루해': 1605, '................': 1606, '▁돈주고': 1607, '▁되어': 1608, '곳': 1609, '▁달': 1610, '스럽': 1611, '▁못하는': 1612, '삼': 1613, '전개': 1614, '▁좋았어요': 1615, '▁없어서': 1616, '팬': 1617, '▁만족': 1618, '▁흠': 1619, '주세요': 1620, '사람들': 1621, '졌다': 1622, '한영화': 1623, '▁이영화는': 1624, '▁바라': 1625, '필': 1626, '하냐': 1627, '▁병맛': 1628, '▁찍': 1629, '보다는': 1630, '▁한마디로': 1631, '▁어렸을때': 1632, '하여': 1633, '만으로도': 1634, '▁좋음': 1635, '▁유치한': 1636, '괴': 1637, '것같다': 1638, '▁힘든': 1639, '것을': 1640, '허': 1641, '리가': 1642, '년에': 1643, '▁완벽한': 1644, '윤': 1645, '▁있었다': 1646, '시키': 1647, '▁뻔': 1648, '▁그래픽': 1649, '센': 1650, '▁괜찮': 1651, '▁자체가': 1652, '▁나와': 1653, '나서': 1654, '렌': 1655, '▁휴': 1656, '▁시절': 1657, '염': 1658, '▁지금까지': 1659, '▁영화보다': 1660, '나라': 1661, '▁나온다': 1662, '곤': 1663, '적이고': 1664, '틀': 1665, '년도': 1666, '▁봤네요': 1667, '철': 1668, '을듯': 1669, '답': 1670, '▁저는': 1671, '▁극장': 1672, '▁유머': 1673, '▁웃긴': 1674, '이에요': 1675, '▁쳐': 1676, '묘': 1677, '▁내인생': 1678, '▁사람은': 1679, '▁선택': 1680, '▁일본영화': 1681, '▁여주': 1682, '▁바보': 1683, '▁모르고': 1684, '▁아쉬운': 1685, '▁갑자기': 1686, '▁재미있고': 1687, '이냐': 1688, '▁디': 1689, '에요': 1690, '실망': 1691, '▁시대': 1692, '▁예고편': 1693, '였던': 1694, '▁써': 1695, '▁대작': 1696, '▁믿': 1697, '최고의': 1698, '▁자꾸': 1699, '▁설': 1700, '흑': 1701, '▁도저히': 1702, '▁평점에': 1703, '함이': 1704, '▁볼수': 1705, '많': 1706, '변': 1707, '▁알았': 1708, '놈들': 1709, '▁무서운': 1710, '▁믿고': 1711, '▁망작': 1712, '▁으': 1713, '▁반전이': 1714, '▁더욱': 1715, '으니': 1716, '쉬': 1717, '▁알았다': 1718, '▁보여주': 1719, '▁재미없어': 1720, '규': 1721, '▁역': 1722, '한번': 1723, '▁아쉽': 1724, '▁보는데': 1725, '도록': 1726, '▁이정도': 1727, '성이': 1728, '하니': 1729, '봐라': 1730, '킹': 1731, '▁무조건': 1732, '▁만들지': 1733, '예요': 1734, '▁터': 1735, '되어': 1736, '야지': 1737, '▁평점은': 1738, '아깝다': 1739, '▁불륜': 1740, '▁찾': 1741, '▁감독은': 1742, '▁80': 1743, '▁진실': 1744, '▁스타일': 1745, '▁귀': 1746, '싸': 1747, '많이': 1748, '▁어색': 1749, '▁나쁜': 1750, '걸까': 1751, '얼': 1752, '▁우연히': 1753, '▁맛': 1754, '연출': 1755, '겁': 1756, '추천': 1757, '거나': 1758, '십': 1759, '▁리메이크': 1760, '꼭': 1761, '▁해도': 1762, '재밌게': 1763, '▁재미없고': 1764, '▁사랑을': 1765, '음악': 1766, '▁댓글': 1767, '▁문': 1768, '어도': 1769, '▁알게': 1770, '--': 1771, '▁주인공이': 1772, '▁안보': 1773, '일까': 1774, '보다가': 1775, '▁책': 1776, '갑': 1777, '▁전형적인': 1778, '▁그때': 1779, '노잼': 1780, '재미없': 1781, '오는': 1782, '▁했': 1783, '▁SF': 1784, '▁원래': 1785, '특': 1786, '하던': 1787, '▁없었': 1788, '▁개연성': 1789, '주인공': 1790, '▁짜': 1791, '밀': 1792, '힌': 1793, '점준다': 1794, '아이': 1795, '견': 1796, '▁이상한': 1797, '맛': 1798, '▁느': 1799, '풍': 1800, '▁ᄒᄒᄒ': 1801, '▁등': 1802, '되고': 1803, '▁싸': 1804, '역시': 1805, '▁순간': 1806, '▁킬링타임용': 1807, '완': 1808, '▁기대하고': 1809, '▁좀비': 1810, '▁지루하': 1811, '▁천재': 1812, '▁허무': 1813, '휴': 1814, '▁가지고': 1815, '반전': 1816, '네여': 1817, '▁액션영화': 1818, '▁부족한': 1819, '▁프랑스': 1820, '▁느끼게': 1821, '▁아닌가': 1822, 'x': 1823, '▁전기세': 1824, '▁아이들이': 1825, '봐야': 1826, '▁저질': 1827, '▁느끼': 1828, '▁만점': 1829, '▁소설': 1830, '▁전작': 1831, '낮': 1832, '끔': 1833, '▁신기': 1834, '축': 1835, '▁집': 1836, '▁투': 1837, '▁참고': 1838, '하긴': 1839, '이게': 1840, '▁대한민국': 1841, '도없고': 1842, '놓': 1843, '▁액션도': 1844, 'n': 1845, '▁일단': 1846, '였습니다': 1847, '*': 1848, '▁상상': 1849, '육': 1850, '싱': 1851, '▁괜히': 1852, '자들': 1853, '▁돈이': 1854, '보는데': 1855, '▁먹먹': 1856, '▁이런거': 1857, '▁속편': 1858, '함을': 1859, '▁세상': 1860, '▁없네요': 1861, '▁청춘': 1862, '▁대단하다': 1863, '꼬': 1864, '▁노력': 1865, '▁티': 1866, '점짜리': 1867, '▁작품성': 1868, '▁해서': 1869, '▁개그': 1870, '▁여운': 1871, '놀': 1872, '▁왜이리': 1873, '▁마무리': 1874, '▁느낄': 1875, '엉': 1876, '▁모르는': 1877, '▁화이팅': 1878, '▁아무것도': 1879, '딱': 1880, '줬': 1881, '~^^': 1882, 'E': 1883, 'ᅲᅲᅲ': 1884, '▁완성도': 1885, '▁코메디': 1886, '▁이런걸': 1887, '▁감상': 1888, '좋다': 1889, '▁죽음': 1890, '▁귀신': 1891, '▁후반부': 1892, '▁유치하고': 1893, '킬': 1894, '▁끝내': 1895, '▁아까워': 1896, '▁영화였습니다': 1897, '시절': 1898, '▁있음': 1899, '▁지루하지': 1900, '▁안나오': 1901, '인거': 1902, '졸': 1903, '▁것은': 1904, '됐': 1905, '▁만나': 1906, '▁전개가': 1907, '려서': 1908, '영화다': 1909, '▁있는데': 1910, '▁억지로': 1911, '옥': 1912, '럽': 1913, '@': 1914, '▁리': 1915, '▁재밌었어요': 1916, '▁가치': 1917, '부분': 1918, '▁이리': 1919, '▁미화': 1920, '▁않을': 1921, '▁언': 1922, '▁ost': 1923, '▁아오': 1924, '▁화려한': 1925, '랄': 1926, '▁알았는데': 1927, '▁처음으로': 1928, '▁성장': 1929, '▁사람들은': 1930, '▁재밌어': 1931, '▁나만': 1932, '▁골': 1933, '▁티비': 1934, '▁리얼': 1935, '▁그것': 1936, '그래도': 1937, '드는': 1938, '을텐데': 1939, '▁명작이다': 1940, '▁금': 1941, '▁이유': 1942, ';;;;': 1943, '애니': 1944, '▁매력적인': 1945, '▁나에게': 1946, '▁연출이': 1947, '▁지금도': 1948, '것이다': 1949, '▁자연': 1950, '▁상영': 1951, '▁로맨틱': 1952, '들과': 1953, '▁둘': 1954, '▁인간의': 1955, '마저': 1956, '▁아들': 1957, '랬': 1958, '▁s': 1959, '▁끌': 1960, '취': 1961, '▁교': 1962, '▁우울': 1963, '▁진부한': 1964, '▁까': 1965, '지고': 1966, '황': 1967, '하세요': 1968, '봣': 1969, '▁엉성': 1970, '▁됐': 1971, '애들': 1972, '▁귀여운': 1973, '▁설명': 1974, '▁그랬': 1975, '▁수준이': 1976, '냥': 1977, '하는거': 1978, '▁온': 1979, '▁잘만든': 1980, '최': 1981, '▁흐': 1982, '셔': 1983, '릭': 1984, '감이': 1985, '▁편집': 1986, '최악': 1987, '말이': 1988, '▁이야기를': 1989, '▁불편': 1990, '났다': 1991, '속에': 1992, '널': 1993, '코미디': 1994, '강추': 1995, '▁니': 1996, '왔': 1997, '▁그게': 1998, '▁상상력': 1999, '▁작품이': 2000, '리스': 2001, '▁중에': 2002, '▁이후': 2003, '▁이쁘': 2004, '웠': 2005, '▁좋았습니다': 2006, '겠네': 2007, '▁시간낭비': 2008, '전에': 2009, '는걸': 2010, '▁아빠': 2011, '결말': 2012, '▁허접한': 2013, '▁영화중에': 2014, '▁짜증나': 2015, '▁느껴': 2016, '▁맥': 2017, '시켜': 2018, '▁그래': 2019, '안되': 2020, '▁왠지': 2021, '▁ᄏᄏᄏᄏᄏ': 2022, '▁졸라': 2023, '▁목': 2024, '벨': 2025, '▁방송': 2026, '▁독': 2027, '▁쓴': 2028, '혹': 2029, '됬': 2030, '때마다': 2031, '&': 2032, '▁밑에': 2033, '▁괴': 2034, '▁이미': 2035, '하자': 2036, '흐': 2037, '▁흥미': 2038, 'ᅲᅲᅲᅲ': 2039, '▁유쾌한': 2040, '로운': 2041, '했고': 2042, '필요': 2043, '▁슬': 2044, '▁비슷한': 2045, '쩔': 2046, '▁복수': 2047, '▁이번': 2048, '▁좋았음': 2049, '로서': 2050, '▁훨': 2051, '가서': 2052, ',,,,': 2053, '▁최악이다': 2054, '▁보고나서': 2055, '▁영웅': 2056, '▁별루': 2057, '▁키': 2058, '스타': 2059, '▁저도': 2060, '▁깊은': 2061, '가지': 2062, '인이': 2063, '▁수가': 2064, '픈': 2065, '▁처': 2066, '▁만들었다': 2067, '자가': 2068, '령': 2069, '▁감동적이고': 2070, '▁겁나': 2071, 'T': 2072, '▁여성': 2073, '▁왜이렇게': 2074, '뒤': 2075, '▁중반': 2076, '지않는': 2077, '다운': 2078, '인간': 2079, '알바': 2080, '▁잘봤습니다': 2081, '▁질질': 2082, '에겐': 2083, '▁소재는': 2084, '▁바람': 2085, '였어요': 2086, '지않은': 2087, '했으면': 2088, '짝': 2089, '잉': 2090, '▁진행': 2091, '▁방': 2092, '▁합니다': 2093, '▁과거': 2094, '엿': 2095, '▁인정': 2096, '해주는': 2097, '▁-_-': 2098, '▁형': 2099, '동안': 2100, '그러': 2101, '벽': 2102, '준다': 2103, '▁전편': 2104, '▁지금봐도': 2105, '▁어이없': 2106, '뜨': 2107, '▁살인': 2108, '▁감사': 2109, '가족': 2110, '닥': 2111, '▁이런게': 2112, '▁게임': 2113, '▁앞으로': 2114, '▁완벽': 2115, '▁명작이': 2116, '봉': 2117, '▁배우가': 2118, '▁뭔지': 2119, '▁자유': 2120, '빨': 2121, '수록': 2122, '▁창': 2123, '춘': 2124, '▁늘': 2125, '닝': 2126, '마다': 2127, '▁느껴지는': 2128, '▁지나': 2129, '▁C': 2130, '▁결혼': 2131, '족': 2132, '▁클': 2133, '▁깊이': 2134, '▁출': 2135, '▁해주는': 2136, '▁잔인하': 2137, '보세요': 2138, '멋': 2139, '▁그림': 2140, '는것': 2141, '▁것이다': 2142, '▁낭비': 2143, '활': 2144, '풀': 2145, '봤음': 2146, '스런': 2147, '▁않았다': 2148, '▁촬영': 2149, '쁘': 2150, '▁비슷': 2151, '▁노출': 2152, '놓은': 2153, '앙': 2154, '▁신선': 2155, '▁관람': 2156, '▁아름답다': 2157, '▁평론가': 2158, '▁않음': 2159, '▁마음을': 2160, '▁분명': 2161, '▁역대': 2162, '▁아놔': 2163, '▁이러': 2164, '르는': 2165, '송': 2166, 'or': 2167, 'w': 2168, '욱': 2169, '▁메세지': 2170, '▁만드': 2171, '▁생각나': 2172, '▁씨': 2173, '▁같네요': 2174, '▁인상': 2175, '▁아니지만': 2176, '▁이어': 2177, '롭': 2178, '눈물': 2179, '▁한계': 2180, '이제': 2181, '▁각': 2182, '▁답': 2183, '만으로': 2184, '▁어찌': 2185, '▁긴': 2186, '▁임': 2187, '▁좋았는데': 2188, 'ᄒᄒᄒ': 2189, '▁특유의': 2190, '▁말고': 2191, '▁보여준': 2192, '책': 2193, '▁똑같': 2194, '버리': 2195, '▁보지마세요': 2196, '킨': 2197, '▁맞는': 2198, '▁떠': 2199, '작가': 2200, '▁사랑이': 2201, '▁감사합니다': 2202, '▁동화': 2203, '▁유쾌': 2204, '갔': 2205, '▁19': 2206, '▁인물': 2207, '나옴': 2208, '▁급': 2209, '▁입니다': 2210, '▁스토리에': 2211, '팔': 2212, '▁갑': 2213, 'ᄂ': 2214, '▁모습이': 2215, '▁good': 2216, '▁요소': 2217, '었으면': 2218, '//': 2219, '버렸다': 2220, '소재': 2221, '없어': 2222, '▁이야기가': 2223, '▁소름': 2224, '▁광': 2225, '든다': 2226, '암': 2227, '▁액션이': 2228, '▁이영화가': 2229, '▁먼저': 2230, '▁넘어': 2231, '▁해준': 2232, '▁확': 2233, '이면': 2234, '▁어릴적': 2235, '▁아름답고': 2236, '누': 2237, '▁보고싶다': 2238, '흡': 2239, '▁슬프': 2240, '홍': 2241, '▁분들': 2242, '▁현재': 2243, '▁빠지': 2244, '려는': 2245, '▁빈': 2246, '보면서': 2247, '▁떠나': 2248, '었습니다': 2249, '▁듯한': 2250, '득': 2251, '▁취향': 2252, '▁멋있': 2253, '들아': 2254, '▁성공': 2255, '▁그녀': 2256, '▁매력이': 2257, '▁장면은': 2258, '▁법': 2259, '시간이': 2260, '▁성인': 2261, '거임': 2262, '사람이': 2263, '거같다': 2264, 'S': 2265, '▁지난': 2266, '▁표정': 2267, '▁하면': 2268, '▁너무나도': 2269, '▁여전히': 2270, '▁몰': 2271, '웃음': 2272, '아닌': 2273, '▁심심': 2274, '▁어색한': 2275, '▁꼬': 2276, '▁눈을': 2277, '있게': 2278, '팅': 2279, '량': 2280, '골': 2281, '▁스케일': 2282, '쪽': 2283, '▁좋았고': 2284, '▁저예산': 2285, '무슨': 2286, '재미없다': 2287, '▁본다': 2288, '▁슬프다': 2289, '▁있었던': 2290, '▁권': 2291, '▁범죄': 2292, '▁귀엽고': 2293, '▁시청률': 2294, '▁짱짱': 2295, '떡': 2296, '껄': 2297, '▁받아': 2298, '만들어': 2299, '▁젤': 2300, '▁보고싶': 2301, '▁황당': 2302, '▁있다는': 2303, 'v': 2304, '▁남주': 2305, '으며': 2306, '쩌': 2307, '▁독특한': 2308, '▁커': 2309, '분이': 2310, '되지': 2311, '한듯': 2312, '했어': 2313, '▁봤었는데': 2314, '▁비추': 2315, '▁일상': 2316, '롱': 2317, '일뿐': 2318, '▁OST': 2319, '모습': 2320, '▁몰랐': 2321, '▁등장': 2322, '▁복': 2323, '던가': 2324, '▁어이없는': 2325, '텐데': 2326, '▁나라': 2327, '▁삶': 2328, '짜리': 2329, '몽': 2330, '압': 2331, '깔': 2332, '▁전체적으로': 2333, '손': 2334, '▁신선한': 2335, '▁남는다': 2336, '언니': 2337, '▁이젠': 2338, '줌': 2339, '▁단순': 2340, '스가': 2341, '▁알아': 2342, '친구': 2343, '유치': 2344, '▁식상': 2345, '쿠': 2346, '▁싫어': 2347, '확': 2348, '떨어': 2349, '▁프로': 2350, '▁처음이다': 2351, '마음': 2352, '▁친': 2353, '▁싶어': 2354, '턴': 2355, 'P': 2356, '성을': 2357, '폭': 2358, '▁알바들': 2359, '▁확실히': 2360, '찌': 2361, '충': 2362, 'ᄍᄍ': 2363, '▁좋았': 2364, '▁세상에': 2365, '▁재밌습니다': 2366, '%': 2367, '▁사이': 2368, '▁어쩌': 2369, '▁트': 2370, '▁그렇고': 2371, '이렇게': 2372, '▁예쁜': 2373, '▁무섭': 2374, '클': 2375, '▁밀': 2376, '▁나를': 2377, '▁한편': 2378, '▁눈이': 2379, '▁얼': 2380, '오빠': 2381, '▁잼있게': 2382, '▁당신': 2383, '람': 2384, '▁마라': 2385, '▁받': 2386, '웃겼': 2387, '▁ᄉᄇ': 2388, '▁기대를': 2389, '▁후반': 2390, '영상': 2391, '▁보는게': 2392, '끼리': 2393, '▁모르겠': 2394, '▁감탄': 2395, '▁15': 2396, '지마라': 2397, '▁정치': 2398, '▁돋보': 2399, '▁해야': 2400, '▁애들이': 2401, '점주는': 2402, '▁잊혀지지': 2403, '▁관심': 2404, '▁ᅮ': 2405, '주고': 2406, '▁미치': 2407, '▁돌려': 2408, '응': 2409, '▁이것': 2410, '▁웃겨': 2411, '▁되었': 2412, '▁cg': 2413, '나온': 2414, '▁섹시': 2415, '▁답답': 2416, '몰': 2417, '▁아깝': 2418, '▁재밌었는데': 2419, 'ᄃ': 2420, '다른': 2421, '▁호러': 2422, '촌': 2423, '▁않아': 2424, '▁전달': 2425, '▁나왔으면': 2426, '▁필요없는': 2427, '코드': 2428, '것들': 2429, '▁여자들': 2430, '했을': 2431, '▁와닿': 2432, '▁조폭': 2433, '▁무엇보다': 2434, '만화': 2435, '▁캐릭터들': 2436, '▁싫다': 2437, '▁놓': 2438, '▁같음': 2439, '▁기분이': 2440, '▁보시길': 2441, '특히': 2442, '인의': 2443, '▁아저씨': 2444, '지마': 2445, '▁연기력이': 2446, '재밌어요': 2447, '▁다소': 2448, '▁취': 2449, '▁봐야할': 2450, '▁했지만': 2451, '▁끝나고': 2452, '▁근': 2453, '하는게': 2454, '▁실제': 2455, '하다니': 2456, '▁꺼': 2457, '쇼': 2458, '무섭': 2459, '드리': 2460, '▁ᄃᄃ': 2461, '▁그런가': 2462, '즐': 2463, '보이': 2464, '▁아니면': 2465, '▁삶을': 2466, '▁빨': 2467, '엄': 2468, '▁재밌었음': 2469, '▁히': 2470, '▁찍은': 2471, '▁미래': 2472, '▁좋을': 2473, '▁나가': 2474, '▁어렸을': 2475, '었지만': 2476, '▁서로': 2477, '▁훈훈': 2478, '▁여자가': 2479, '쾌': 2480, '▁볼거리': 2481, '흘': 2482, '시다': 2483, '▁부분': 2484, '드라': 2485, 'an': 2486, '▁아닌듯': 2487, '끝나': 2488, '급영화': 2489, 'ᄏᄏᄏᄏᄏᄏᄏᄏᄏᄏᄏᄏᄏᄏᄏᄏ': 2490, '둘': 2491, '▁재밌었': 2492, '▁시선': 2493, '웠다': 2494, '▁홍': 2495, '내요': 2496, '▁시원': 2497, '▁음악이': 2498, '▁멋지다': 2499, '▁있나': 2500, '▁빼': 2501, '땅': 2502, '▁물론': 2503, '▁주인공들': 2504, '▁독립영화': 2505, '면서도': 2506, '▁스토리와': 2507, '▁추천합니다': 2508, '한다면': 2509, '평점이': 2510, '▁잼없': 2511, '▁이하': 2512, '▁드는': 2513, '나올': 2514, '▁짜증나는': 2515, '▁그런데': 2516, '짜증': 2517, '▁관계': 2518, '순간': 2519, '▁회': 2520, '▁이연걸': 2521, '▁부분이': 2522, '돼': 2523, '▁같습니다': 2524, '▁사극': 2525, '▁티비에서': 2526, '버리고': 2527, '깨': 2528, '▁재미있음': 2529, '쓴': 2530, 'C': 2531, '▁오히려': 2532, '▁희망': 2533, '20': 2534, '▁평생': 2535, '▁굳': 2536, '▁송': 2537, '▁몰입감': 2538, '▁I': 2539, '▁아닌데': 2540, '▁보이는': 2541, '것은': 2542, '▁아닐까': 2543, '▁대충': 2544, '▁갖': 2545, '▁액션은': 2546, '갓': 2547, '하라': 2548, '▁몸매': 2549, '▁몇번을': 2550, '▁이유가': 2551, '▁카메라': 2552, '▁영화관': 2553, '▁재밋게': 2554, 'O': 2555, '▁이정도면': 2556, '▁청': 2557, '더군요': 2558, '새끼': 2559, '했는지': 2560, '▁역시나': 2561, '▁순수한': 2562, '=': 2563, '▁킬링타임': 2564, '▁추억의': 2565, '누나': 2566, 'j': 2567, 'ᄆ': 2568, '▁슬픔': 2569, '아주': 2570, '▁경찰': 2571, '▁볼때마다': 2572, '▁접': 2573, '▁표': 2574, '따위': 2575, '▁A': 2576, '제목': 2577, '시고': 2578, '▁용': 2579, '▁용서': 2580, '▁끝난': 2581, '▁황': 2582, '▁필요없다': 2583, '▁글쎄': 2584, '▁범인': 2585, '▁민': 2586, '▁슬프고': 2587, '▁누': 2588, '▁해주': 2589, '영환': 2590, '탕': 2591, 'er': 2592, '▁설레': 2593, 'A': 2594, '▁낫': 2595, '죄': 2596, '북': 2597, 'B': 2598, '▁받았': 2599, '인것': 2600, '▁평범한': 2601, '▁드라마가': 2602, '▁긴장': 2603, '좌': 2604, '▁짠': 2605, '▁생각나는': 2606, '▁가끔': 2607, '▁보기엔': 2608, '번째': 2609, '▁하게': 2610, '년전에': 2611, '용으로': 2612, '▁있다면': 2613, '▁고전': 2614, '000': 2615, '점준': 2616, '▁몇번': 2617, '▁멀': 2618, '빡': 2619, '뿌': 2620, '▁디즈니': 2621, '▁표절': 2622, '▁살짝': 2623, '▁재미를': 2624, '▁고민': 2625, '▁가볍게': 2626, '▁싫': 2627, '▁난다': 2628, '▁홍콩': 2629, '▁참신': 2630, '좋아요': 2631, '할듯': 2632, '▁벗': 2633, '수도': 2634, '하면서도': 2635, '방송': 2636, '인생': 2637, '▁죽는': 2638, '틱': 2639, '재밌다': 2640, '▁느낀': 2641, '▁소재를': 2642, '▁화려': 2643, '▁함': 2644, '▁철': 2645, '니깐': 2646, '으면서': 2647, '▁봤다가': 2648, '왔다': 2649, '나와': 2650, '▁아깝지': 2651, '율': 2652, '▁그럭저럭': 2653, '덤': 2654, '▁힐링': 2655, '잼있': 2656, '▁외국': 2657, '▁w': 2658, 'ᄀ': 2659, '▁딴': 2660, '▁무섭다': 2661, '▁빛': 2662, '와서': 2663, '▁그의': 2664, '▁틀': 2665, '~~~~~~~': 2666, '총': 2667, '뜻': 2668, '▁별로다': 2669, '▁떨어지는': 2670, '▁소름돋': 2671, '▁국': 2672, '▁사랑과': 2673, '▁화가': 2674, '▁먼': 2675, '말고': 2676, '▁논': 2677, '▁어린이': 2678, '하구': 2679, '던지': 2680, '버려': 2681, '▁캐': 2682, '▁언제나': 2683, '험': 2684, '▁압권': 2685, '▁무지': 2686, '▁팔': 2687, '▁볼수록': 2688, '걸로': 2689, '▁연애': 2690, '▁+': 2691, '▁괴물': 2692, '▁재미있네요': 2693, '시는': 2694, '▁프로그램': 2695, '괜찮': 2696, '생겼': 2697, '▁보이': 2698, '▁중간중간': 2699, '그래': 2700, '▁십': 2701, 'in': 2702, '▁스토리를': 2703, '▁제목이': 2704, '받고': 2705, '생활': 2706, '▁나서': 2707, '▁보았': 2708, '▁시걸': 2709, '되네요': 2710, '▁꼴': 2711, '항': 2712, '뉴': 2713, 'ᅡ': 2714, '▁S': 2715, '▁벌': 2716, '숨': 2717, '▁다르': 2718, '▁예전': 2719, '는건지': 2720, '있어': 2721, '▁모습을': 2722, '내는': 2723, '▁되게': 2724, '▁재밌네': 2725, '▁연기와': 2726, '▁뮤지컬': 2727, '▁재미있었다': 2728, '더만': 2729, '홀': 2730, '폰': 2731, '▁현대': 2732, '웃기': 2733, '나고': 2734, '▁좋았던': 2735, '▁마치': 2736, 'ᄏᄏᄏᄏᄏ': 2737, '▁사건': 2738, '▁지루해서': 2739, 'ᄅ': 2740, '한건': 2741, '겟다': 2742, '▁읽': 2743, '▁연기에': 2744, '▁<': 2745, '까진': 2746, '▁뒷': 2747, '봐요': 2748, '봣는데': 2749, '.......': 2750, '▁안하고': 2751, '없네': 2752, '▁폭': 2753, '▁엉성한': 2754, '웅': 2755, '▁실패': 2756, '낼': 2757, '▁행동': 2758, '하는지': 2759, '▁능력': 2760, '▁만들어진': 2761, '▁있지': 2762, '아님': 2763, 'ᄒᄒᄒᄒ': 2764, '▁통해': 2765, '▁그들의': 2766, '▁병': 2767, '▁초반에': 2768, '쏘': 2769, '▁감동과': 2770, '▁춤': 2771, '▁과연': 2772, '▁결': 2773, '▁어이가': 2774, '잃': 2775, '▁옛날에': 2776, '▁없나': 2777, '▁영화보고': 2778, '▁군대': 2779, 'ᄏᄏᄏᄏᄏᄏᄏᄏ': 2780, 'V': 2781, '영화의': 2782, '연기가': 2783, '▁영화이다': 2784, '▁보고싶은': 2785, '▁사람을': 2786, '값': 2787, '▁종교': 2788, '했네': 2789, '▁풍': 2790, '▁현실성': 2791, '▁맨': 2792, '봤어요': 2793, '상을': 2794, '흔': 2795, '▁제작진': 2796, '▁풀': 2797, '세계': 2798, '머리': 2799, '▁믿을': 2800, '▁재미없네': 2801, '▁퀄리티': 2802, '힐': 2803, 'R': 2804, '삭': 2805, '▁섹스': 2806, 'ᄃᄃ': 2807, '감독이': 2808, '▁시사회': 2809, '!!!!!': 2810, '▁사는': 2811, '▁붙': 2812, '함과': 2813, '▁든다': 2814, '쓸': 2815, '▁영화지만': 2816, '▁월': 2817, '아깝': 2818, '▁질리지': 2819, '▁못하고': 2820, '있네': 2821, '▁드라마를': 2822, '▁합': 2823, '남는': 2824, '자체': 2825, '▁해피엔딩': 2826, '았던': 2827, '▁볼만하다': 2828, '한게': 2829, '▁에로': 2830, '▁미드': 2831, '▁리뷰': 2832, '엘': 2833, '▁어쩔': 2834, '▁하는데': 2835, '쳤': 2836, 'M': 2837, '▁공감이': 2838, '▁죄': 2839, '진심': 2840, '▁쓸': 2841, '한국': 2842, '▁남아': 2843, '▁더이상': 2844, '(?)': 2845, '▁눈빛': 2846, '▁메시지': 2847, '스의': 2848, '▁펑펑': 2849, '▁생애': 2850, '▁그다지': 2851, '▁높다': 2852, '기분': 2853, '▁그린': 2854, '▁진심으로': 2855, '▁말로': 2856, '슈': 2857, '▁뜨': 2858, '▁덜': 2859, '▁소녀': 2860, '▁운': 2861, '▁볼만하': 2862, '▁포기': 2863, '▁봤으면': 2864, '보게': 2865, '▁무서워': 2866, '▁기대안하고': 2867, '▁심리': 2868, '▁봣': 2869, '내용이': 2870, '▁내용을': 2871, '▁12': 2872, '할까': 2873, '▁난해': 2874, '▁찍어': 2875, '기엔': 2876, '▁썩': 2877, '일이': 2878, '▁남기': 2879, '에서는': 2880, '▁다큐멘터리': 2881, '▁짓': 2882, '▁스타': 2883, 'ᄇ': 2884, '▁싸구려': 2885, '▁잔잔하고': 2886, '▁뛰어난': 2887, '▁전에': 2888, '▁사랑스러운': 2889, '!!!!!!!!!': 2890, '되서': 2891, 'ᄏᄏᄏᄏᄏᄏᄏᄏᄏ': 2892, '▁볼만함': 2893, '▁오버': 2894, '더라구요': 2895, '것만': 2896, '▁반전도': 2897, '▁자신': 2898, 'N': 2899, '▁페': 2900, '▁개판': 2901, '▁왜케': 2902, '▁중간': 2903, '굴': 2904, '▁같아': 2905, '틈': 2906, '▁없지만': 2907, 're': 2908, '▁나오고': 2909, '▁나중에': 2910, '▁죽을': 2911, '가슴': 2912, '첨': 2913, '▁올해': 2914, '▁지루할': 2915, '▁킬링타임용으로': 2916, '스릴러': 2917, '▁어른': 2918, '▁다행': 2919, '▁끼': 2920, '줄이야': 2921, '높': 2922, '틴': 2923, '봤던': 2924, '에서도': 2925, '시킨': 2926, '▁방금': 2927, '▁느낄수': 2928, '▁이거보고': 2929, '▁멋': 2930, '있음': 2931, '믿': 2932, '▁가서': 2933, '▁인기': 2934, '▁어제': 2935, '좋고': 2936, '▁음악도': 2937, '........': 2938, '먹고': 2939, 'X': 2940, '렬': 2941, '▁비주얼': 2942, '♥♥': 2943, '▁이건뭐': 2944, '▁우정': 2945, '▁분노': 2946, '님의': 2947, '혼': 2948, '▁이쁜': 2949, '▁아직까지': 2950, '▁재밋다': 2951, '중에서': 2952, '▁처음엔': 2953, '인가요': 2954, '세기': 2955, '찾': 2956, '안에': 2957, '있었': 2958, '▁찡': 2959, '헌': 2960, '▁개인': 2961, '▁c': 2962, '▁좋습니다': 2963, '영화라고': 2964, '▁필': 2965, '▁ᅲᅲᅲ': 2966, '▁굳이': 2967, '▁달리': 2968, '▁웃기고': 2969, '캐': 2970, '▁그럼': 2971, '▁낚': 2972, '기억': 2973, '▁열정': 2974, '나와서': 2975, '▁아는': 2976, '▁흘러': 2977, '▁탄탄한': 2978, '▁40': 2979, '▁사랑에': 2980, '내용도': 2981, '▁포장': 2982, '빵': 2983, '▁동물': 2984, '느라': 2985, '째': 2986, '많은': 2987, '▁삶의': 2988, '99': 2989, '공포': 2990, '면에서': 2991, '편보다': 2992, '협': 2993, '한다는': 2994, '댄': 2995, '▁열심히': 2996, '케이': 2997, '▁니콜': 2998, '▁이제야': 2999, '았는데': 3000, '▁여러': 3001, '▁빌': 3002, '설정': 3003, '▁연출도': 3004, '▁유치하다': 3005, '▁풀어': 3006, '▁판': 3007, '▁팬이': 3008, '지않고': 3009, '가지고': 3010, '개봉': 3011, '▁폭력': 3012, '하려고': 3013, '자는': 3014, '학생': 3015, '▁다시한번': 3016, '▁죽어': 3017, '▁소재가': 3018, '▁만든다': 3019, '▁안됨': 3020, '▁했던': 3021, '▁또한': 3022, '▁아나': 3023, '▁사랑하는': 3024, '▁푹': 3025, '▁배우의': 3026, '▁느끼는': 3027, '표현': 3028, '▁평이': 3029, '▁엘': 3030, '▁밋밋': 3031, '므': 3032, '▁드럽게': 3033, '▁나머지': 3034, '▁채널': 3035, '계속': 3036, '자의': 3037, '▁베스트': 3038, '▁헤': 3039, '▁찍었': 3040, '▁고생': 3041, '▁칼': 3042, '▁유치함': 3043, '▁주인공의': 3044, '볼만': 3045, '이었': 3046, '랜': 3047, '▁잼나': 3048, '솔': 3049, '▁씁쓸': 3050, '▁헐리우드': 3051, '컷': 3052, '▁따뜻해지는': 3053, '빼고': 3054, '고싶은': 3055, '으론': 3056, '막장': 3057, '스터': 3058, '▁역할': 3059, '▁맘': 3060, '티비': 3061, '▁결과': 3062, '▁소재로': 3063, '무비': 3064, '프로': 3065, '스러움': 3066, '얘기': 3067, '▁기본': 3068, '젤': 3069, '딸': 3070, '▁낮아서': 3071, '하는것': 3072, '이해': 3073, '▁죄다': 3074, '▁저렇게': 3075, '▁높아': 3076, '▁아름다움': 3077, '▁로그인': 3078, '형님': 3079, '▁통쾌': 3080, '▁무서웠': 3081, '나게': 3082, '▁영화냐': 3083, '▁올라': 3084, '▁자막': 3085, '▁매력적이': 3086, '▁인생의': 3087, '▁게이': 3088, '전쟁': 3089, '▁안타깝다': 3090, '리지': 3091, '연기도': 3092, '딩': 3093, '재밌음': 3094, '▁행': 3095, '▁자신의': 3096, '하려': 3097, '▁생각없이': 3098, '▁말할': 3099, '봤지만': 3100, '▁브': 3101, '사람은': 3102, '안되는': 3103, '▁승': 3104, '들만': 3105, '속에서': 3106, '멘': 3107, '텔': 3108, '▁시대를': 3109, '▁벌써': 3110, '▁최근': 3111, '▁악역': 3112, '▁생각한다': 3113, '만드는': 3114, '▁핵': 3115, '▁그렇다': 3116, '늘': 3117, '▁귀엽': 3118, '였지만': 3119, '▁퍼': 3120, '▁과정': 3121, '▁짧': 3122, '뛰': 3123, '릿': 3124, ']': 3125, '▁시트콤': 3126, '식이': 3127, '▁불쾌': 3128, '▁긴장감도': 3129, '▁영화에서': 3130, '▁남녀': 3131, 'ᅲᅮ': 3132, '▁매력있': 3133, '명이': 3134, '▁시시': 3135, '▁만큼': 3136, '▁몰입이': 3137, '접': 3138, '잠': 3139, '시간에': 3140, '먹는': 3141, '혁': 3142, '대사': 3143, '콜': 3144, '았습니다': 3145, '▁견자단': 3146, '▁70': 3147, '▁꾸': 3148, '▁명품': 3149, '▁끝나는': 3150, '▁d': 3151, '▁악당': 3152, '도아니고': 3153, '▁인생을': 3154, '▁느와르': 3155, '11': 3156, '현실': 3157, '젠': 3158, '▁있네요': 3159, '▁안되고': 3160, '▁되었다': 3161, '▁문화': 3162, '사가': 3163, '▁어려운': 3164, '▁의외로': 3165, '▁쓰래기': 3166, '▁빌려': 3167, '식으로': 3168, '▁나옴': 3169, '▁영국': 3170, '▁영화에요': 3171, '긴한데': 3172, '져서': 3173, '▁아침': 3174, '하겠': 3175, '보시': 3176, '▁생각합니다': 3177, '▁남을': 3178, '▁이쁘고': 3179, '▁T': 3180, '얻': 3181, '▁무엇을': 3182, '▁솔직': 3183, '▁젊은': 3184, '탁': 3185, '▁무엇': 3186, '▁폴': 3187, '어지는': 3188, '▁청소년': 3189, '영화로': 3190, '▁울었다': 3191, '하려는': 3192, '▁울고': 3193, '▁단순한': 3194, '▁둘다': 3195, '하지도': 3196, '스타일': 3197, '않는': 3198, '▁심장': 3199, '▁이기': 3200, '▁여기서': 3201, '▁그려': 3202, '님이': 3203, '▁당시에': 3204, '떄': 3205, '멸': 3206, '▁007': 3207, '▁마이클': 3208, '▁상처': 3209, '▁꽝': 3210, '이며': 3211, '▁불쌍': 3212, '극장': 3213, '▁동생': 3214, '▁즐겁게': 3215, '▁발로': 3216, '력이': 3217, '▁모든게': 3218, '▁퇴': 3219, '지가': 3220, '▁망한': 3221, '▁할말이': 3222, '▁출연진': 3223, '▁달라': 3224, '▁산으로': 3225, '감을': 3226, '▁환상': 3227, '꼽': 3228, '▁눈물을': 3229, '더라면': 3230, '▁봣는데': 3231, '▁나타': 3232, '▁발전': 3233, '▁코난': 3234, '▁표현한': 3235, '씨가': 3236, '▁자극': 3237, '▁무비': 3238, '점주': 3239, '▁의심': 3240, '했으나': 3241, '▁살아있': 3242, '▁드라마는': 3243, '▁쫌': 3244, '워서': 3245, '그렇': 3246, '▁;;': 3247, '▁괜찮았': 3248, '▁이유는': 3249, 'st': 3250, '▁올리': 3251, '드러': 3252, '훌륭': 3253, '꿀잼': 3254, '▁앤': 3255, '했나': 3256, '▁헐리웃': 3257, '착': 3258, '▁샤': 3259, '캐릭터': 3260, '▁많다': 3261, '▁가진': 3262, '▁생생': 3263, '▁단연': 3264, '▁홍보': 3265, '온다': 3266, '▁학교에서': 3267, '▁광고': 3268, '▁놈': 3269, '▁말을': 3270, '꾸': 3271, '▁나쁘지': 3272, '려면': 3273, '▁영화였어요': 3274, '▁있어요': 3275, '▁지금은': 3276, '▁아마': 3277, '본영화': 3278, '▁우와': 3279, '▁연속': 3280, '▁줌': 3281, '룡': 3282, '▁투자': 3283, '인들': 3284, '하다가': 3285, '옹': 3286, '▁짝퉁': 3287, '▁차이': 3288, '▁아쉬웠': 3289, '▁사기': 3290, '▁흐름': 3291, '▁타임': 3292, '▁어머니': 3293, '▁미소': 3294, '답답': 3295, '▁죽여': 3296, '▁정말로': 3297, '▁마세요': 3298, '수없는': 3299, '▁돌아가': 3300, '장난': 3301, '▁많아': 3302, '정신': 3303, '하셨': 3304, '▁정서': 3305, '▁북한': 3306, '▁쇼': 3307, '놨': 3308, '아라': 3309, '▁하루': 3310, '▁어렵': 3311, '▁몰라도': 3312, '▁보여': 3313, '▁보았다': 3314, '겹': 3315, '▁신선하고': 3316, '씀': 3317, '헤': 3318, '▁f': 3319, '▁아쉬움': 3320, '털': 3321, '▁쵝오': 3322, 'ing': 3323, '▁노답': 3324, '▁힘들다': 3325, '▁늘어': 3326, '▁지나치': 3327, '▁굿굿': 3328, '▁좋았을': 3329, '▁못했다': 3330, '점수': 3331, '으로서': 3332, '▁현실적인': 3333, 'on': 3334, '▁내려': 3335, '▁완': 3336, '지지': 3337, '▁넣': 3338, '자리': 3339, '중의': 3340, '`': 3341, '▁제작비': 3342, '폐': 3343, '▁옛': 3344, '▁울었': 3345, '▁좋아서': 3346, '시키는': 3347, '▁유쾌하고': 3348, '에대한': 3349, '▁모르': 3350, '▁있습니다': 3351, '▁이런영화가': 3352, '구성': 3353, '▁않게': 3354, '▁안돼': 3355, '▁끄': 3356, '▁뭉클': 3357, '▁전문가': 3358, '▁웃음이': 3359, '▁뻔하고': 3360, '▁없는데': 3361, '▁m': 3362, 'I': 3363, '▁반성': 3364, '▁웃김': 3365, '이런영화': 3366, '▁밥': 3367, '▁있으면': 3368, '▁야한': 3369, '노래': 3370, '편의': 3371, '▁건지': 3372, '▁좋지만': 3373, '▁무시': 3374, '즘': 3375, '▁이후로': 3376, '떼': 3377, '팀': 3378, '▁주성치': 3379, '▁쉽게': 3380, '▁멍청한': 3381, 'ar': 3382, '▁에휴': 3383, '▁희생': 3384, '▁최강': 3385, '리아': 3386, '▁되지': 3387, '▁우주': 3388, '▁결말도': 3389, '엄마': 3390, '슬프': 3391, '이유': 3392, '끝까지': 3393, '보자': 3394, '▁있게': 3395, '하더라': 3396, '▁쩐다': 3397, '▁빠': 3398, '스러웠': 3399, '▁마이너스': 3400, '뮤': 3401, '포인트': 3402, '했네요': 3403, '▁잔인한': 3404, '▁재미있었어요': 3405, '정이': 3406, '같음': 3407, '200': 3408, '갔다': 3409, '▁채': 3410, '끈': 3411, '▁놀라': 3412, '떠': 3413, '▁a': 3414, '아까': 3415, '흥': 3416, '아요': 3417, '▁많았': 3418, '▁떠나서': 3419, '▁점수를': 3420, '▁나왔다': 3421, '▁식': 3422, '해주세요': 3423, '▁싶네요': 3424, '사이': 3425, '계의': 3426, '영화임': 3427, '▁이따위': 3428, '▁시간을': 3429, '▁친구들': 3430, 'OOO': 3431, '버림': 3432, '끌': 3433, '▁잔': 3434, '▁즐거운': 3435, '▁빼고는': 3436, '▁크게': 3437, '▁하네요': 3438, '▁지루하게': 3439, '집니다': 3440, '▁루': 3441, '한것': 3442, '?!': 3443, '있는데': 3444, '야할': 3445, '▁보길': 3446, '▁이쁘다': 3447, '▁엉망': 3448, '관계': 3449, '물이': 3450, '▁중요한': 3451, '텐': 3452, '매력': 3453, '밝': 3454, '▁레전드': 3455, '▁무언가': 3456, '▁왠': 3457, '▁the': 3458, '▁흥미로운': 3459, '▁영화인듯': 3460, '▁사랑이야기': 3461, '▁라는': 3462, '▁지루했다': 3463, '로써': 3464, '지도않고': 3465, '▁보니까': 3466, '▁오랜만': 3467, '▁진정': 3468, '야한다': 3469, '장면이': 3470, '▁나오지': 3471, '▁못해': 3472, '▁지구': 3473, '▁잊지': 3474, '아니다': 3475, '친다': 3476, '▁손발이': 3477, 'ᅵ': 3478, '▁더러운': 3479, '▁반개도': 3480, '▁발견': 3481, '▁달달': 3482, '학교': 3483, '▁시각': 3484, '▁평범': 3485, '원작': 3486, '▁한데': 3487, '▁아쉽네요': 3488, '▁보아': 3489, '▁순수': 3490, '▁기대했는데': 3491, '▁결말은': 3492, '▁안타깝': 3493, '보는내내': 3494, '▁좀더': 3495, '▁중에서': 3496, '하지마라': 3497, '부족': 3498, '없어서': 3499, '보지말': 3500, '빙': 3501, '스럽고': 3502, '▁좋아할': 3503, '▁음악과': 3504, '지를': 3505, '택': 3506, '붕': 3507, '뽕': 3508, '롤': 3509, '▁위대한': 3510, '▁기다리': 3511, '잔잔': 3512, '적은': 3513, '▁올려': 3514, '▁누구나': 3515, '자체가': 3516, '왔는데': 3517, '▁재밌을': 3518, 'ᄏᄏᄏᄏᄏᄏᄏᄏᄏᄏᄏᄏᄏ': 3519, '▁딱히': 3520, '▁나오면': 3521, '▁받을': 3522, '▁만들고': 3523, '사는': 3524, '혈': 3525, '▁싸이코': 3526, '▁연예인': 3527, '▁더불어': 3528, '▁웃기지도': 3529, '▁민망': 3530, '▁뜻': 3531, '▁특이': 3532, '▁의리': 3533, '았음': 3534, '▁푸': 3535, '나온다': 3536, '▁의문': 3537, '빼곤': 3538, '▁멋있다': 3539, '되면': 3540, '▁무섭지도': 3541, '▁신파': 3542, '▁인상적이': 3543, '▁적당': 3544, '었어': 3545, '겠음': 3546, '그리': 3547, '▁의미를': 3548, '▁알수': 3549, '▁주말': 3550, '따라': 3551, '▁재미없어요': 3552, '아쉽': 3553, '있나': 3554, '▁가지': 3555, '▁떨어지': 3556, '이라서': 3557, '▁다만': 3558, '▁조합': 3559, '▁꽃': 3560, '대는': 3561, '▁빼고': 3562, '▁부족하다': 3563, '▁끝이': 3564, '▁묻': 3565, '▁극치': 3566, '렉': 3567, '▁집에서': 3568, '▁쓰레기같은': 3569, '▁속에': 3570, '넹': 3571, '▁김기덕': 3572, '▁보고나면': 3573, '▁묘사': 3574, '▁귀여워': 3575, '▁끊': 3576, '▁봤더니': 3577, '▁연결': 3578, '▁어휴': 3579, '▁역대급': 3580, '▁한국인': 3581, '뭔': 3582, '▁오바': 3583, '이었음': 3584, '▁[': 3585, '▁인간들': 3586, '▁보인다': 3587, '▁이해하기': 3588, '들고': 3589, '▁현실적이': 3590, '▁무협': 3591, '▁슈퍼': 3592, '땡': 3593, '▁피해자': 3594, '새끼들': 3595, '편도': 3596, '▁무척': 3597, '▁박수를': 3598, '거라': 3599, '▁쓰레기다': 3600, '▁전체': 3601, '▁학교': 3602, '▁못한다': 3603, '▁느낌을': 3604, '▁미모': 3605, '▁한마디': 3606, '▁영화인': 3607, '자나': 3608, '▁맡': 3609, '같네': 3610, '▁한참': 3611, 'it': 3612, '례': 3613, '▁멍청': 3614, '▁양심': 3615, '제발': 3616, '▁거지': 3617, '▁외모': 3618, '님들': 3619, '하기만': 3620, 'is': 3621, '▁우리가': 3622, '편을': 3623, '▁홍콩영화': 3624, '시즌': 3625, '렇': 3626, '점정도': 3627, '▁않지만': 3628, '▁케이블': 3629, '놔': 3630, '▁보러': 3631, '이자': 3632, '몬': 3633, '▁시간가는줄': 3634, '▁크리스마스': 3635, '▁불구하고': 3636, '▁맨날': 3637, '▁국민': 3638, '▁시리즈중': 3639, '▁한국영화는': 3640, '▁시청': 3641, '▁느꼈': 3642, '▁예쁘': 3643, '▁혼': 3644, '잔인': 3645, '엇다': 3646, '보여': 3647, '▁국내': 3648, '▁신경': 3649, '▁그렇지': 3650, '짜증나': 3651, '▁끌어': 3652, '했다는': 3653, '일본': 3654, '▁사랑의': 3655, '▁에피소드': 3656, '▁흔한': 3657, '▁필름': 3658, '▁없지': 3659, '▁싶지': 3660, '▁배우들도': 3661, '▁낳': 3662, '▁13': 3663, '만의': 3664, '고싶어': 3665, '않다': 3666, '▁짐': 3667, '다는게': 3668, '▁싶었': 3669, '▁이해할': 3670, '하는건': 3671, '▁공부': 3672, '▁관한': 3673, '콩': 3674, '밥': 3675, '▁어릴': 3676, '평가': 3677, '보지': 3678, '칙': 3679, '▁뒤로': 3680, '좋아하는': 3681, '▁잭': 3682, '▁가면': 3683, '시작': 3684, '▁이때': 3685, '▁한번쯤': 3686, '▁넘치는': 3687, '만큼은': 3688, '^^*': 3689, '▁18': 3690, '수있는': 3691, '지말고': 3692, '▁사람의': 3693, '와는': 3694, '▁무리': 3695, '▁작가가': 3696, '▁주기': 3697, '왔습니다': 3698, '▁왜이래': 3699, '▁50': 3700, '쥐': 3701, '▁끝났': 3702, '▁들었': 3703, '껴': 3704, '컬': 3705, 'K': 3706, '▁러닝타임': 3707, '▁초등학생': 3708, '▁포르노': 3709, '▁아줌마': 3710, '▁색다른': 3711, '▁인도': 3712, '▁꿈을': 3713, '▁장면에서': 3714, '▁하나하나': 3715, '하시는': 3716, '웨': 3717, '세상': 3718, '었고': 3719, '같고': 3720, '넣': 3721, '▁헤어': 3722, '봤네요': 3723, '▁냉': 3724, '맥': 3725, '▁ᄏᄏᄏᄏᄏᄏ': 3726, '..........': 3727, '버리는': 3728, '▁:': 3729, '▁이유를': 3730, '스러워': 3731, '까지는': 3732, '▁감동적': 3733, 'H': 3734, '▁왠만하면': 3735, '▁외계인': 3736, '▁검색': 3737, '▁좋았으나': 3738, '▁아역': 3739, '쳤다': 3740, '했었': 3741, '▁레알': 3742, '해진': 3743, '▁충격적': 3744, '었나': 3745, '▁몰입해서': 3746, '▁와우': 3747, '▁원작의': 3748, '▁제로': 3749, '아쉬': 3750, '기위해': 3751, '▁중요': 3752, '▁점수가': 3753, '짱짱': 3754, '▁가능': 3755, '▁드립니다': 3756, '▁진부하고': 3757, '▁덕분에': 3758, '▁오글': 3759, '▁군': 3760, '뭔가': 3761, '▁졸리': 3762, '▁볼수있': 3763, '▁돋': 3764, '윈': 3765, '▁핵노잼': 3766, '▁개뿔': 3767, '개도': 3768, '▁즐기': 3769, '▁방법': 3770, '년만에': 3771, '▁이래': 3772, '▁찌질': 3773, '▁다룬': 3774, '▁고통': 3775, '▁사랑은': 3776, '엔딩': 3777, '▁안보고': 3778, '▁죽이': 3779, '라는게': 3780, '▁착': 3781, '▁없었던': 3782, '▁허세': 3783, '▁장면들': 3784, '해준': 3785, '▁비극': 3786, '감독님': 3787, '치곤': 3788, '▁보기에': 3789, '▁인간이': 3790, '제작': 3791, '▁알겠': 3792, '머니': 3793, '쉽': 3794, '빌': 3795, '~!!!': 3796, '봅니다': 3797, '▁재미와': 3798, '밑': 3799, '나왔': 3800, '▁있으': 3801, '나가는': 3802, '컨': 3803, '▁카리스마': 3804, '▁좋아하는데': 3805, ':)': 3806, '대단': 3807, '겠네요': 3808, '▁지켜': 3809, '▁상업': 3810, '▁보지마': 3811, '▁남자가': 3812, '▁할말': 3813, '소설': 3814, '하기엔': 3815, '▁미안': 3816, '겼': 3817, '▁보긴': 3818, '씨의': 3819, '하신': 3820, '줘야': 3821, '었을': 3822, '씬은': 3823, '▁잊을': 3824, '▁대사가': 3825, '▁눈에': 3826, '점줌': 3827, '▁그렇': 3828, '▁아이가': 3829, '해야지': 3830, '▁작은': 3831, '공감': 3832, '▁한심': 3833, '란다': 3834, '▁되고': 3835, '▁들어가': 3836, '▁멍': 3837, '농': 3838, '냄새': 3839, '▁바꿔': 3840, '▁1,2': 3841, '▁어린시절': 3842, '▁느껴진다': 3843, '▁일품': 3844, '할만한': 3845, '▁뇌': 3846, '▁생각하는': 3847, '▁크리스': 3848, '▁남겨': 3849, '했을까': 3850, '신분들': 3851, '▁소름이': 3852, '사회': 3853, '▁진리': 3854, '점이다': 3855, '▁간다': 3856, '셈': 3857, '▁찌': 3858, '▁명작입니다': 3859, '▁하는지': 3860, '▁부르': 3861, '▁보자': 3862, '몰입': 3863, '▁뭐라': 3864, '낚': 3865, '낀': 3866, '쥬': 3867, '뽀': 3868, '▁여행': 3869, '▁좋겠어요': 3870, '▁풍경': 3871, '년도에': 3872, '아까움': 3873, '▁시도': 3874, '.........': 3875, '▁깔끔': 3876, '▁말하는': 3877, '▁그걸': 3878, '▁추억이': 3879, '그래서': 3880, '▁빠진': 3881, '편에': 3882, '▁재미있어': 3883, '▁가져': 3884, '의미': 3885, '였어': 3886, '▁11': 3887, '▁착한': 3888, '▁조연': 3889, '▁본다면': 3890, '▁억지스럽': 3891, '▁이런영화를': 3892, '▁그렇다고': 3893, '밤': 3894, '▁형님': 3895, '꾼': 3896, '▁아까울': 3897, '멍': 3898, '▁죽는줄': 3899, '보고싶다': 3900, '겁니다': 3901, '▁재미없게': 3902, '주고싶': 3903, '배경': 3904, '▁망치': 3905, '▁야동': 3906, '!!!!!!!!!!!!!!!!': 3907, '▁악마': 3908, '르고': 3909, '▁이럴': 3910, '▁개성': 3911, '해진다': 3912, '▁탈': 3913, '▁잼있다': 3914, '▁최고입니다': 3915, '▁척': 3916, '▁진지': 3917, '▁못할': 3918, '절대': 3919, '▁영어': 3920, '기로': 3921, '는것도': 3922, '▁희': 3923, '간의': 3924, '쟁이': 3925, '▁뛰어': 3926, '샤': 3927, '스럽게': 3928, '▁기독교': 3929, '둔': 3930, '▁아름다웠': 3931, '럭': 3932, '▁로봇': 3933, '▁기다려': 3934, '▁안나': 3935, '▁최대': 3936, '▁더럽': 3937, '▁뽑': 3938, '쓰고': 3939, '▁설마': 3940, '연기력': 3941, '▁훈훈한': 3942, '▁색': 3943, '만이': 3944, '▁빵': 3945, '잇는': 3946, '▁이것이': 3947, '봤어': 3948, '▁같아서': 3949, '▁들었다': 3950, '앞': 3951, '▁훌륭하다': 3952, '주면': 3953, '▁삶에': 3954, '▁찬': 3955, '했었는데': 3956, '▁있어야': 3957, '줬다': 3958, '▁인물들': 3959, '▁시청자': 3960, '저리': 3961, '▁본거': 3962, '▁이제서야': 3963, 'ᄌ': 3964, '얼굴': 3965, '▁철학': 3966, '▁짜증난다': 3967, '이였다': 3968, '▁변태': 3969, '▁비디오로': 3970, '▁여름': 3971, '▁동안': 3972, '▁D': 3973, '▁떨어진다': 3974, '힘': 3975, '▁니들': 3976, '▁색감': 3977, '▁가득': 3978, '▁먹고': 3979, '▁가슴에': 3980, '있냐': 3981, '▁필요없': 3982, '보구': 3983, '▁장르가': 3984, '!!!!!!': 3985, '배우가': 3986, '바뀌': 3987, '으려': 3988, '버릴': 3989, '할수있': 3990, '닮': 3991, '▁재밌다고': 3992, '▁고양이': 3993, '거면': 3994, '큰': 3995, '▁맹': 3996, '랄까': 3997, '▁아이돌': 3998, '▁개막장': 3999, '하던데': 4000, '갈수록': 4001, '▁생각하고': 4002, '▁지루하기': 4003, '▁O': 4004, '♥♥♥': 4005, '▁행복한': 4006, '없는영화': 4007, '▁본영화': 4008, '▁체': 4009, '▁이미지': 4010, '▁보여준다': 4011, '▁충': 4012, '내고': 4013, '▁괜찮은데': 4014, '▁힘이': 4015, '▁연기자들': 4016, '억지': 4017, '▁됨': 4018, '▁즐겁': 4019, '감독의': 4020, '▁작품을': 4021, '▁199': 4022, '▁누군가': 4023, '▁감동적이다': 4024, '적이다': 4025, '공포영화': 4026, '▁용기': 4027, '섹': 4028, '똥': 4029, '쭉': 4030, '▁극장가서': 4031, '▁미스': 4032, '▁빵점': 4033, '차라리': 4034, '▁개봉한': 4035, '▁좋았지만': 4036, '▁모르겠지만': 4037, '재밋음': 4038, '▁낮다': 4039, '▁ᄋᄋ': 4040, '더라도': 4041, '▁많고': 4042, '속의': 4043, '▁못하다': 4044, '▁볼만했': 4045, '되었': 4046, '▁섬': 4047, '▁자살': 4048, '▁탑': 4049, '▁틀어': 4050, '▁연기력도': 4051, '▁조화': 4052, '▁아픔': 4053, '▁재미잇': 4054, '▁좋아해서': 4055, '▁블랙': 4056, '렁': 4057, '핑': 4058, '▁가치가': 4059, '허접': 4060, '▁없어요': 4061, 'G': 4062, '▁따뜻': 4063, '▁있구나': 4064, '겠어요': 4065, '▁콩': 4066, '▁보여줬': 4067, '▁필요한': 4068, '▁웬': 4069, '▁못함': 4070, '▁플': 4071, '▁우리의': 4072, '▁ᄋ': 4073, '우리': 4074, '모든': 4075, '▁남자들': 4076, '▁때문': 4077, '어라': 4078, '빨리': 4079, '▁야구': 4080, '좋앗': 4081, '▁G': 4082, '▁살려': 4083, '자를': 4084, '칸': 4085, '▁그럴': 4086, '▁한명': 4087, '▁감흥': 4088, '하기도': 4089, '▁낮아': 4090, '▁줬': 4091, '▁캬': 4092, '겠습니다': 4093, '이걸': 4094, '▁볼게': 4095, '▁쥐': 4096, '▁작품이다': 4097, '▁자식': 4098, '▁명화': 4099, '▁감히': 4100, '빠지': 4101, '▁아픈': 4102, '▁살고': 4103, '▁엄': 4104, '기에는': 4105, '▁감안': 4106, '▁평점보고': 4107, '▁잇': 4108, '되나': 4109, '영화입니다': 4110, '▁내가본': 4111, '하고싶은': 4112, '▁전쟁영화': 4113, '▁검': 4114, '▁보내': 4115, '▁그녀의': 4116, '끄': 4117, '▁애기': 4118, '보이는': 4119, '▁긴장감이': 4120, '엠': 4121, '빅': 4122, '긋': 4123, '손가락': 4124, '있을': 4125, '▁교육': 4126, '▁겨우': 4127, '..^^': 4128, '▁최초': 4129, '▁웃기다': 4130, '▁기술': 4131, '▁오락': 4132, '▁괜찮다': 4133, '▁기대이상': 4134, '▁잊을수': 4135, '▁없다는': 4136, '었네': 4137, '됐다': 4138, '▁잼나게': 4139, '으로써': 4140, '아까운': 4141, '▁하는거': 4142, '▁조잡': 4143, '▁ᄏᄏᄏᄏᄏᄏᄏ': 4144, 'ᄏᄏᄏᄏᄏᄏᄏᄏᄏᄏᄏᄏ': 4145, '▁만든영화': 4146, '▁노래도': 4147, '▁공포물': 4148, '▁갔': 4149, '영화인데': 4150, '륜': 4151, '▁아프': 4152, '있어서': 4153, '▁반복': 4154, '마지막에': 4155, '▁좋게': 4156, '▁보았습니다': 4157, '▁아까웠다': 4158, '▁재미있습니다': 4159, '덜': 4160, '꼴': 4161, '돋': 4162, '한다고': 4163, '0%': 4164, '드립니다': 4165, '후회': 4166, '▁보통': 4167, '▁모르게': 4168, '▁비하면': 4169, '▁보지마라': 4170, '닌': 4171, '▁복잡': 4172, '▁완전히': 4173, '좋겠': 4174, '배우들의': 4175, '내내': 4176, '까요': 4177, '셀': 4178, '▁안타까운': 4179, '탓': 4180, '무서움': 4181, '보니까': 4182, '▁영원히': 4183, '▁바꾸': 4184, '▁특별한': 4185, '▁전투': 4186, '더빙': 4187, '요즘': 4188, '▁부모': 4189, '▁조카': 4190, '▁밤': 4191, '쓰레기영화': 4192, '▁모를': 4193, '♥♥♥♥': 4194, '▁낮네': 4195, '▁어른들': 4196, '▁할까': 4197, '었지': 4198, '살아': 4199, '▁에로영화': 4200, '▁유명': 4201, '춰': 4202, '뜬': 4203, '▁잔혹': 4204, '▁지나도': 4205, '▁방영': 4206, '▁말하고': 4207, '▁봤을때': 4208, '▁낚시': 4209, '▁케이블에서': 4210, '▁이래서': 4211, '▁재미도없고': 4212, '▁싶은데': 4213, '부작': 4214, '▁웃고': 4215, '것같아요': 4216, '▁씬': 4217, '▁감동의': 4218, 'ᄋᄋ': 4219, '▁답답한': 4220, '▁영화보는': 4221, '▁낚였다': 4222, '안됨': 4223, '럼': 4224, '▁예쁘고': 4225, '▁노래가': 4226, '하지마': 4227, '▁이상하게': 4228, '요소': 4229, '콘': 4230, '▁안맞': 4231, '없었': 4232, '▁생각함': 4233, 'U': 4234, '▁후속작': 4235, '▁젠장': 4236, '▁잠깐': 4237, '▁내면': 4238, '▁일이': 4239, '끄러': 4240, '잡고': 4241, '▁감정을': 4242, '명의': 4243, '감동적이': 4244, '스크': 4245, '▁오래된': 4246, '했지': 4247, '빛': 4248, 'F': 4249, '만듬': 4250, '긴하지만': 4251, '뭐야': 4252, '줘서': 4253, '▁만들면': 4254, '오래': 4255, '하하하': 4256, '▁돼': 4257, '▁떨': 4258, '새롭': 4259, '켜': 4260, '같은영화': 4261, '▁미쳤': 4262, '▁21': 4263, '▁개연성이': 4264, '는구나': 4265, '▁캐릭터가': 4266, '재미없음': 4267, '오오': 4268, '문화': 4269, '찮': 4270, '▁식상한': 4271, '★': 4272, '쿨': 4273, '▁스트레스': 4274, '▁특수효과': 4275, '▁소소한': 4276, '▁알려': 4277, '▁비현실적': 4278, '▁남자의': 4279, '▁알겠는데': 4280, '▁열연': 4281, '▁가족영화': 4282, '였고': 4283, '다큐': 4284, 'es': 4285, '▁빼면': 4286, '▁모르겠음': 4287, '▁멋지': 4288, '점대는': 4289, '기까지': 4290, '▁자주': 4291, '▁잊': 4292, '▁전설': 4293, '▁씹': 4294, '▁생각나서': 4295, '때매': 4296, '년작': 4297, '▁암튼': 4298, '▁쿠': 4299, '▁구성이': 4300, '▁작품은': 4301, '▁전설의': 4302, '지루함': 4303, '▁재미있었': 4304, '균': 4305, '▁패러디': 4306, '▁경험': 4307, '▁뿐이다': 4308, '▁무엇인지': 4309, '▁갈등': 4310, '브라': 4311, '리즈': 4312, '▁게다가': 4313, '▁커플': 4314, '▁분위기가': 4315, 'en': 4316, '▁그당시': 4317, '▁않을까': 4318, '▁쩝': 4319, '아저씨': 4320, '▁낮지': 4321, '▁한심한': 4322, '것인가': 4323, '▁조작': 4324, '▁만든거': 4325, '뻔한': 4326, '▁심하게': 4327, '▁실제로': 4328, '▁하면서': 4329, '▁초딩때': 4330, '모두': 4331, '▁뻔하': 4332, '바닥': 4333, '얘': 4334, '숭': 4335, '뚱': 4336, '▁DVD': 4337, '룩': 4338, '▁어설프고': 4339, '것같은': 4340, '좋음': 4341, '▁최근에': 4342, '▁할머니': 4343, '▁주기도': 4344, '받은': 4345, '▁다섯': 4346, '▁두번째': 4347, '▁전율': 4348, '인건': 4349, '▁존경': 4350, '▁만들다니': 4351, '▁따로': 4352, '▁살면서': 4353, '▁쌍': 4354, '▁만남': 4355, '▁본듯': 4356, '▁낙': 4357, '▁남편': 4358, '셔서': 4359, '▁여운을': 4360, '▁낚였': 4361, '하는영화': 4362, '옴': 4363, '것같': 4364, '▁에이': 4365, '▁유명한': 4366, '▁현실이': 4367, '▁정도의': 4368, '▁선생님': 4369, '▁불쌍하다': 4370, '▁대부분': 4371, '조아': 4372, '▁연출과': 4373, '▁둘이': 4374, '▁대화': 4375, '▁도전': 4376, '거같아요': 4377, '칭': 4378, '삐': 4379, '층': 4380, '핀': 4381, '▁직접': 4382, '▁잔뜩': 4383, '▁울컥': 4384, '▁스스로': 4385, '▁sf': 4386, '▁거짓말': 4387, '▁일어나': 4388, '주기': 4389, '▁정말이지': 4390, '▁봤을까': 4391, '▁W': 4392, '▁잘하고': 4393, '▁단지': 4394, '▁여러분': 4395, '▁출연한': 4396, '▁읽어': 4397, '▁속에서': 4398, '▁볼때': 4399, '▁이런건': 4400, '▁한국에서': 4401, '지않았': 4402, '휘': 4403, '▁사진': 4404, '▁재밌지': 4405, '▁재미없었다': 4406, '▁참신한': 4407, '▁전개도': 4408, '▁할수': 4409, '▁신비': 4410, '▁재미로': 4411, '▁앞으로도': 4412, '▁견': 4413, '▁얼마': 4414, '메이': 4415, '▁그거': 4416, '아무': 4417, '30': 4418, '퀴': 4419, '렷': 4420, '하기에': 4421, '랫': 4422, '▁로버트': 4423, '▁제임스': 4424, '▁소중한': 4425, '어가는': 4426, '▁가슴을': 4427, '▁몇몇': 4428, '▁여러가지': 4429, '▁돋보이는': 4430, '▁충실': 4431, '▁다시는': 4432, '나올때': 4433, '어디': 4434, '랜드': 4435, '▁관객들': 4436, '받는': 4437, '▁끝날': 4438, '▁대중': 4439, '▁넌': 4440, '로는': 4441, '▁운명': 4442, '▁잘봤어요': 4443, 'bb': 4444, '▁클레멘타인': 4445, '▁관객을': 4446, '▁엉성하고': 4447, '럴': 4448, '▁많은걸': 4449, '▁내용인지': 4450, '▁결론': 4451, '▁있었지만': 4452, '▁다르다': 4453, '▁배우를': 4454, '▁풍자': 4455, '▁안습': 4456, '▁보다니': 4457, '▁끈': 4458, '▁진부하': 4459, '거리는': 4460, '시길': 4461, '▁반전은': 4462, '▁죽이고': 4463, '때까지': 4464, '앵': 4465, '▁새벽에': 4466, 'ᅥ': 4467, '▁아이디어': 4468, '▁뛰어나': 4469, '거같은데': 4470, '▁기자': 4471, '▁지났': 4472, '▁모험': 4473, '때부터': 4474, '▁하늘': 4475, '▁만들었는지': 4476, '딴': 4477, '문제': 4478, '▁매력적': 4479, '▁욕망': 4480, '▁나에겐': 4481, '부분이': 4482, '▁없습니다': 4483, '▁깎': 4484, '▁흥': 4485, '▁나은': 4486, '▁있다니': 4487, '▁집에': 4488, '▁우리는': 4489, '잊': 4490, '▁아니야': 4491, '▁슈': 4492, '깝': 4493, '려나': 4494, '관람': 4495, '▁보려고': 4496, '▁수도': 4497, '▁헬': 4498, '적이지': 4499, '▁죽은': 4500, '나오고': 4501, '▁탄탄': 4502, '▁개연성도': 4503, '▁단편': 4504, '쓰는': 4505, '타임': 4506, '닉': 4507, '▁제이슨': 4508, '▁시청률이': 4509, '했더니': 4510, '납니다': 4511, '▁그저그런': 4512, '▁남자주인공': 4513, '▁모르겠고': 4514, '▁담배': 4515, '오글': 4516, '▁죽이는': 4517, '검': 4518, '▁이딴걸': 4519, '▁따뜻하고': 4520, '▁봤네': 4521, '▁해라': 4522, '▁해석': 4523, '▁높게': 4524, '트리': 4525, '▁안볼': 4526, '▁코미디영화': 4527, '▁여전': 4528, '............': 4529, '▁톰': 4530, '▁비판': 4531, '▁맞아': 4532, '최악의': 4533, '논': 4534, '분은': 4535, '<': 4536, '흠': 4537, '▁영상이': 4538, '포스터': 4539, '▁썼': 4540, '▁조용': 4541, '점이상': 4542, '▁맞지': 4543, '▁액션씬': 4544, '▁좀비영화': 4545, '▁살다살다': 4546, '▁내생에': 4547, '스토리도': 4548, '만드네': 4549, '▁억지스러운': 4550, '▁똑같은': 4551, '▁만들수': 4552, '그만': 4553, '▁재밌던데': 4554, '▁잘만들었': 4555, '치고는': 4556, '▁술': 4557, '▁확실': 4558, '후반': 4559, '▁막장드라마': 4560, 'ᅮᅮᅮ': 4561, '받아': 4562, '▁이런영화는': 4563, '▁영상과': 4564, '하진': 4565, '▁아름답': 4566, '▁남네요': 4567, '레스': 4568, '▁수준의': 4569, '▁헛': 4570, 'L': 4571, '▁보며': 4572, '▁반전을': 4573, '기전에': 4574, '버전': 4575, '개그': 4576, '▁대해서': 4577, '낫': 4578, '졸작': 4579, '았어요': 4580, '쟁': 4581, '으니까': 4582, '려다가': 4583, '롯': 4584, '곰': 4585, '른다': 4586, '▁보여주고': 4587, '▁로코': 4588, '▁단어': 4589, '▁효과': 4590, '▁오랫만에': 4591, '▁정의': 4592, '출연': 4593, '어린': 4594, '햇다': 4595, '▁부실': 4596, '▁소장': 4597, '▁다운': 4598, '었는지': 4599, '▁별로임': 4600, '슬퍼': 4601, '▁그립다': 4602, '▁뭘까': 4603, 'as': 4604, '몇': 4605, '▁훌륭하': 4606, '아빠': 4607, '▁북': 4608, '뇌': 4609, '▁최고였다': 4610, '붙': 4611, '읽': 4612, '싶다': 4613, '▁오글거리': 4614, '초반': 4615, '챙겨': 4616, '받아서': 4617, '획': 4618, '▁않네요': 4619, '▁쪽': 4620, '조금': 4621, '▁가벼운': 4622, '싼': 4623, '▁박중훈': 4624, '▁디테일': 4625, '▁다양한': 4626, '▁테러': 4627, '못해': 4628, '▁어쩜': 4629, '다음': 4630, '▁원작이': 4631, '▁어째': 4632, '▁진수': 4633, '▁대표': 4634, '▁모두가': 4635, '▁무술': 4636, '▁결정': 4637, '▁남은': 4638, '▁집중해서': 4639, '▁영화보면서': 4640, '▁잼잇': 4641, '▁엿': 4642, '하겠다': 4643, '공주': 4644, '▁안본': 4645, '게임': 4646, '▁p': 4647, '▁볼수있는': 4648, '▁돌리': 4649, '▁불러': 4650, '▁침': 4651, '▁줄수': 4652, 'ᄍ': 4653, '▁제외': 4654, '꽃': 4655, '▁재미없어서': 4656, '어떻게': 4657, '▁못보겠': 4658, '▁매력을': 4659, '하군': 4660, '었네요': 4661, '▁본방사수': 4662, '▁생각하면': 4663, '▁시리즈는': 4664, '사건': 4665, '▁형사': 4666, '렵': 4667, '닿': 4668, '액': 4669, '녕': 4670, '엑': 4671, '▁짜임새': 4672, '닷': 4673, '랭': 4674, '싹': 4675, '▁배트맨': 4676, '▁2014': 4677, '▁동성애': 4678, '▁교과서': 4679, '라곤': 4680, '▁나오네': 4681, '맘': 4682, '▁하길래': 4683, '▁싶을': 4684, '▁비밀': 4685, '▁깨닫게': 4686, '▁주변': 4687, '▁꼬마': 4688, '▁연극': 4689, '건가요': 4690, '▁^': 4691, '여주': 4692, '...........': 4693, '▁기억나는': 4694, '▁조절': 4695, '보시길': 4696, '▁재난영화': 4697, '▁아쉽지만': 4698, '▁연기력은': 4699, '▁답답하고': 4700, '▁만한': 4701, '놈이': 4702, '▁녹': 4703, '▁형편없': 4704, '▁받는': 4705, '▁세상을': 4706, '▁먼가': 4707, '▁F': 4708, '▁살린': 4709, '▁조선': 4710, '배우들이': 4711, '▁소년': 4712, '▁찰': 4713, '관객': 4714, '▁만들기': 4715, '▁본지': 4716, '▁자체는': 4717, '비디오': 4718, '걍': 4719, '몸': 4720, '웨이': 4721, '주연': 4722, '▁감동은': 4723, '섭': 4724, '략': 4725, '만하다': 4726, 'z': 4727, '▁dvd': 4728, '딜': 4729, '부끄럽': 4730, '▁인내심': 4731, '뎅': 4732, '▁유일하게': 4733, '▁쉬': 4734, '▁몇년': 4735, '씬이': 4736, '▁감각': 4737, '▁태어나서': 4738, '▁부터': 4739, '▁ᄍᄍᄍ': 4740, '▁해결': 4741, '였으면': 4742, '지말자': 4743, '▁봐도봐도': 4744, '▁독특': 4745, '▁동심': 4746, '▁뜬금없': 4747, '뻐': 4748, '▁선동': 4749, '▁어렵다': 4750, '▁괜찮음': 4751, '임에도': 4752, '▁잠이': 4753, '▁풋풋': 4754, '되었다': 4755, '▁탐': 4756, '▁엔딩이': 4757, '▁못보': 4758, '삶': 4759, '생각이': 4760, '번은': 4761, '긴장감': 4762, '▁인상적': 4763, '헐': 4764, '▁마지막장면': 4765, '사람들은': 4766, '커플': 4767, '▁대단하': 4768, '하길': 4769, '▁포스터가': 4770, '▁다운받아': 4771, '▁이보다': 4772, '것만으로도': 4773, '괜': 4774, '딘': 4775, '밍': 4776, '▁블록버스터': 4777, '젖': 4778, '▁심형래': 4779, '▁주윤발': 4780, '▁장국영': 4781, '▁허술한': 4782, '이름': 4783, '▁결코': 4784, '▁포스': 4785, '았지만': 4786, '낮은': 4787, '▁나름대로': 4788, '아까워': 4789, '-_-;': 4790, '▁귀엽다': 4791, '보는게': 4792, '점부터': 4793, '보셈': 4794, '▁원작에': 4795, '올리': 4796, '▁궁금하다': 4797, '▁빠르': 4798, '장애': 4799, '▁위로': 4800, '▁응': 4801, '로드': 4802, '높은': 4803, '▁재밌어서': 4804, '▁있던': 4805, '같아서': 4806, '▁허술하': 4807, 'th': 4808, '▁편견': 4809, '푸': 4810, '▁짧은': 4811, '잖': 4812, '▁느꼈다': 4813, '▁한편의': 4814, '▁진부': 4815, '▁있네': 4816, '이후': 4817, '▁주연배우': 4818, '▁아이들과': 4819, '웃김': 4820, '싶어서': 4821, '▁ᄌ': 4822, '▁왤케': 4823, '▁러시아': 4824, '▁제니퍼': 4825, '▁스크린': 4826, '▁집착': 4827, '▁예쁘다': 4828, '오늘': 4829, '▁데리고': 4830, '▁명작을': 4831, '해야할': 4832, '▁아깝고': 4833, '▁추리': 4834, '▁성격': 4835, '▁하나같이': 4836, '▁잼있어요': 4837, '▁충분': 4838, '▁길게': 4839, '본사람': 4840, '▁불쌍해': 4841, '▁싶어요': 4842, '▁이상의': 4843, '않음': 4844, '▁영화라는': 4845, '▁애들은': 4846, '▁않나': 4847, '▁내용과': 4848, '▁신선하': 4849, '▁교훈을': 4850, '▁낮게': 4851, '이었습니다': 4852, '낭': 4853, '갑니다': 4854, '재미도': 4855, '폼': 4856, '묵': 4857, '▁조니뎁': 4858, '찐': 4859, 'J': 4860, '땀': 4861, '쪼': 4862, '▁유일한': 4863, '▁탄생': 4864, '▁바랍니다': 4865, '▁말도안되는': 4866, '▁남아있': 4867, '▁흑인': 4868, '▁손색': 4869, '▁믿고보는': 4870, '▁보던': 4871, 'ut': 4872, '▁내용전개': 4873, '멜로': 4874, '▁좋겠네요': 4875, '좋았다': 4876, '해준다': 4877, '있으면': 4878, '▁잘만들': 4879, '▁잘생겼': 4880, '▁봐야하는': 4881, '▁약간의': 4882, '▁아까운영화': 4883, '엇는데': 4884, '▁사랑해요': 4885, '▁죽었': 4886, '▁매미': 4887, '▁어디에': 4888, '아닌가': 4889, '오브': 4890, '▁선물': 4891, '상태': 4892, '▁안맞는': 4893, '▁업': 4894, '▁강한': 4895, '있습니다': 4896, '▁영혼': 4897, '▁가볍': 4898, '지마세요': 4899, '▁ᄃᄃᄃ': 4900, '▁인생에': 4901, '보소': 4902, '닐': 4903, '할것': 4904, '▁자랑': 4905, '어이없': 4906, '▁최고로': 4907, '씁': 4908, '▁뱀파이어': 4909, '▁컴퓨터': 4910, '깃': 4911, '넬': 4912, '▁숨겨진': 4913, '▁깜짝': 4914, '▁아류작': 4915, '▁끔찍': 4916, '특별': 4917, '▁오빠': 4918, '▁폭풍': 4919, '▁오락영화': 4920, '▁첫사랑': 4921, '화이팅': 4922, '재미있게': 4923, '지않아': 4924, '▁최고의영화': 4925, '▁어울리는': 4926, '감정': 4927, 'le': 4928, '▁당연': 4929, '연기는': 4930, '▁소재도': 4931, '애들이': 4932, '▁개노잼': 4933, '▁알수있': 4934, '▁돈을': 4935, '▁따분': 4936, '▁요리': 4937, '▁방식': 4938, '▁제목만': 4939, '▁넘게': 4940, '▁갖고': 4941, '▁L': 4942, '▁막판에': 4943, '▁좋겠': 4944, '▁그자체': 4945, '기도하고': 4946, '덕에': 4947, '▁최고임': 4948, '멋있': 4949, '여운이': 4950, '스키': 4951, '▁망친': 4952, '역사': 4953, '▁국가': 4954, '당한': 4955, '바라': 4956, '춤': 4957, '마리': 4958, '깜': 4959, '▁케릭터': 4960, '▁해리포터': 4961, '▁즐거웠': 4962, '추억': 4963, '▁달콤': 4964, '사람들이': 4965, '▁작위적': 4966, '말이필요없': 4967, '재밌는': 4968, '▁놀라운': 4969, '▁중학교': 4970, '▁찾아보': 4971, '▁평론가들': 4972, '둥이': 4973, '▁디워': 4974, '▁별로고': 4975, '▁이뻐서': 4976, '블루': 4977, '▁반담': 4978, '같지만': 4979, '▁60': 4980, '▁부모님': 4981, '▁변화': 4982, '▁느낌의': 4983, '▁하나로': 4984, '▁다시보니': 4985, '보여주': 4986, '물로': 4987, '▁밀려': 4988, '▁으리': 4989, '▁있었는데': 4990, '▁기준': 4991, '▁보다는': 4992, '했을때': 4993, '▁볼만했다': 4994, '▁부부': 4995, '▁맛이': 4996, '▁이야기는': 4997, '왓': 4998, '▁머리가': 4999, '재미없어': 5000, '일듯': 5001, '▁소재와': 5002, '볼수': 5003, '느껴': 5004, '▁you': 5005, '▁임팩트': 5006, '퓨': 5007, '▁영환데': 5008, '차원': 5009, '▁잔잔하면서': 5010, '찡': 5011, '큐': 5012, '▁무섭지': 5013, '▁손에': 5014, '▁말하고자': 5015, '▁배역': 5016, '100': 5017, 've': 5018, '▁많아서': 5019, '▁휘': 5020, 'al': 5021, '▁놀랍다': 5022, '▁잠들': 5023, '이랄까': 5024, '▁소설을': 5025, '▁매일': 5026, '▁본인': 5027, 'od': 5028, '~~^^': 5029, '▁삼류영화': 5030, '▁발상': 5031, '인물': 5032, '▁멋있는': 5033, '▁듣고': 5034, '▁생각으로': 5035, '이었던': 5036, '▁아예': 5037, '▁관점': 5038, '벅': 5039, '컴': 5040, '^-^': 5041, '▁떠오르': 5042, '▁감정이입': 5043, '▁잡아': 5044, '▁재개봉': 5045, '▁흔들': 5046, '▁여자친구': 5047, '답니다': 5048, '싸움': 5049, '▁여자주인공': 5050, '아프': 5051, '아아아': 5052, '▁영화라니': 5053, '▁또다른': 5054, '노답': 5055, '빠져': 5056, '▁과장': 5057, '좋은영화': 5058, '▁갑니다': 5059, '학년': 5060, '▁괜찮았다': 5061, '▁살아가는': 5062, '상황': 5063, '▁재밌었던': 5064, '▁실력': 5065, '▁버리': 5066, '쳐서': 5067, '극장에서': 5068, '▁폐': 5069, '▁의미가': 5070, '00': 5071, '▁두고': 5072, '거같음': 5073, '▁안간다': 5074, '허술': 5075, '▁대본': 5076, '▁떨어지고': 5077, '▁감독을': 5078, '▁궁': 5079, '구석': 5080, 'ᅮᅲ': 5081, '떨': 5082, '▁줘야': 5083, '12': 5084, '▁기회': 5085, '▁새로': 5086, '▁거장': 5087, '▁보라': 5088, '▁즐겨': 5089, '▁늑대': 5090, '앤': 5091, '▁여러번': 5092, '아직도': 5093, '때문': 5094, '▁중독': 5095, '▁울리는': 5096, '▁위해서': 5097, '▁무료': 5098, '▁생에': 5099, '보고있어요': 5100, '재밌어': 5101, '▁보았는데': 5102, '글자': 5103, '▁이상해': 5104, '당시': 5105, '소름': 5106, '▁모든걸': 5107, '져요': 5108, '옆': 5109, '▁ᄀ': 5110, '▁연인': 5111, '▁벤': 5112, '스토': 5113, '▁명장면': 5114, '▁짜증나서': 5115, '90': 5116, '류영화': 5117, '▁열받': 5118, '▁지겹다': 5119, '▁멋지고': 5120, '여행': 5121, '▁어처구니': 5122, '▁수작이다': 5123, '▁없으면': 5124, '▁수입': 5125, '▁잤': 5126, '▁재미없을': 5127, '▁까지': 5128, '▁했으면': 5129, '후에': 5130, '하러': 5131, '▁스포츠': 5132, '벼': 5133, '앨': 5134, '쿵': 5135, '닼': 5136, '탱': 5137, '▁익숙': 5138, '▁배경음악': 5139, '▁다신': 5140, '무시': 5141, '줄알았는데': 5142, '▁언제봐도': 5143, '▁적당히': 5144, '솔직히': 5145, '▁내게': 5146, '▁생긴': 5147, '▁한개도': 5148, '▁순수함': 5149, '▁힘내': 5150, '웃겨': 5151, '▁어거지': 5152, '▁울면서': 5153, '두고': 5154, '▁독일': 5155, '▁답이': 5156, '▁생각난다': 5157, '먹은': 5158, '▁=': 5159, '▁난잡': 5160, '존나': 5161, '▁없었음': 5162, '▁시간아깝다': 5163, '▁폐지': 5164, '▁죽인': 5165, '기억이': 5166, '▁갔다': 5167, '언제': 5168, '▁본게': 5169, '▁이해할수': 5170, '▁몰랐다': 5171, '있지': 5172, '▁마음으로': 5173, '둥': 5174, '▁그지같': 5175, '▁아래': 5176, '만족': 5177, '닫': 5178, '▁주인공은': 5179, '닭': 5180, '램': 5181, '▁스티븐': 5182, '▁강렬한': 5183, '▁이소룡': 5184, '▁내생애': 5185, '▁우려먹': 5186, '보느니': 5187, '▁쓰는': 5188, '어색': 5189, '▁웃으면서': 5190, '▁처절': 5191, '▁옥': 5192, '▁만들었을까': 5193, '▁재밋어요': 5194, '▁짜증남': 5195, '불쌍': 5196, '▁결말을': 5197, '코믹': 5198, '▁아니지': 5199, '▁재미있을': 5200, '말아먹': 5201, '질질끌': 5202, '이딴': 5203, '▁멋졌': 5204, '▁최고봉': 5205, '좋아하': 5206, '쩐다': 5207, '장면은': 5208, '▁내용에': 5209, '▁가정': 5210, '라는걸': 5211, '▁여주인공이': 5212, '▁영원한': 5213, '▁본건데': 5214, '▁인해': 5215, '▁세번': 5216, '▁난리': 5217, '▁하아': 5218, '..............': 5219, '▁부분도': 5220, '▁적당한': 5221, '▁불편한': 5222, '달아': 5223, '▁망했': 5224, '▁모르겟': 5225, '봣다': 5226, '▁다루': 5227, '▁음식': 5228, '듯하다': 5229, '▁정도면': 5230, '▁포스터에': 5231, '측': 5232, '▁알겠다': 5233, '꼈': 5234, '멈': 5235, '윌': 5236, '뢰': 5237, '될듯': 5238, '▁아닙니다': 5239, '▁제시카': 5240, '▁드디어': 5241, '▁희대의': 5242, '▁당신은': 5243, '방식': 5244, '▁모른다': 5245, '▁눈물나': 5246, '▁적어도': 5247, '▁어른이': 5248, '해주고': 5249, '▁포스터만': 5250, '▁보기에는': 5251, '분위기': 5252, '궁': 5253, '수밖에': 5254, '▁프리': 5255, '▁주지': 5256, '▁한번도': 5257, '▁스토리전개': 5258, '▁믿기지': 5259, '▁아름답게': 5260, '▁사상': 5261, '거죠': 5262, '이런류의': 5263, '혼자': 5264, '▁살리': 5265, '▁느껴지': 5266, '▁않아서': 5267, '보인다': 5268, '▁싸우는': 5269, 'ᅮᅮᅮᅮ': 5270, '톤': 5271, '▁쩔어': 5272, '▁자신이': 5273, '▁한국영화의': 5274, '있는영화': 5275, '없나': 5276, '▁주제가': 5277, '▁뭐하나': 5278, '늙': 5279, '없을': 5280, '▁목적': 5281, '같아': 5282, '▁샘': 5283, '장르': 5284, '객': 5285, '▁정신없': 5286, '▁다시보고': 5287, '▁빵빵': 5288, '갠': 5289, '▁우뢰매': 5290, '똘': 5291, '▁명복을': 5292, '▁짜집기': 5293, '▁뭥미': 5294, '▁아놀드': 5295, '▁사운드': 5296, '▁오글거려': 5297, '▁아깝네': 5298, '버스': 5299, '▁평균': 5300, '▁명대사': 5301, '구리': 5302, '▁축구': 5303, '▁상영관': 5304, '▁사라지': 5305, '▁근래': 5306, '▁볼거': 5307, '▁봤을': 5308, '▁다운받': 5309, '▁실망스럽': 5310, '▁주제를': 5311, '▁그럴듯': 5312, '▁괜찮았는데': 5313, '▁봅니다': 5314, '찰': 5315, '▁분들은': 5316, '엄청': 5317, '▁뭐니': 5318, '▁얼굴이': 5319, '▁생각할': 5320, '있었다': 5321, '줄알았': 5322, '▁생각했는데': 5323, '▁없나요': 5324, '▁안본다': 5325, '스케': 5326, '▁시간만': 5327, '▁넘치': 5328, '▁키스': 5329, '▁집중이': 5330, '▁삶이': 5331, '▁없냐': 5332, '▁몰라': 5333, '▁옷': 5334, '19': 5335, '▁책을': 5336, '▁반대': 5337, '광구': 5338, '못한': 5339, '야겠다': 5340, '▁알았네': 5341, '▁슬픈영화': 5342, '였나': 5343, '▁재미있는데': 5344, '▁나랑': 5345, '▁엄마가': 5346, '▁라고': 5347, '▁바다': 5348, '에대해': 5349, '▁그만큼': 5350, '레인': 5351, '발연기': 5352, '▁보고싶어': 5353, '▁고등학교': 5354, '▁짐캐리': 5355, '▁할리우드': 5356, '맴': 5357, '켄': 5358, '▁브루스': 5359, 'ᄏᄏᄏᄏᄏᄏᄏ': 5360, '▁호기심': 5361, '▁즐길': 5362, '▁플롯': 5363, '▁잔잔하게': 5364, '▁싸움': 5365, '▁짜증이': 5366, '뻔했다': 5367, '▁유럽': 5368, '▁짜증만': 5369, '▁꼭보세요': 5370, '▁따뜻해': 5371, '▁첨엔': 5372, '▁역사를': 5373, '▁손발': 5374, '▁재능': 5375, '▁대놓고': 5376, '▁가수': 5377, '▁스릴도': 5378, '아버지': 5379, '▁가족의': 5380, '탑': 5381, '목소리': 5382, '보내': 5383, '▁보는거': 5384, '▁그건': 5385, '▁마지막까지': 5386, '▁우연': 5387, '▁작가님': 5388, '맞는': 5389, '보게되': 5390, '▁한국판': 5391, '▁놀랍': 5392, '부러': 5393, '▁지겹': 5394, '▁이상하고': 5395, '▁못보겠다': 5396, '▁하는게': 5397, '▁웃을': 5398, '▁아내': 5399, '나오네': 5400, '▁유치해': 5401, '겠죠': 5402, 'ad': 5403, '▁많은데': 5404, '▁줍니다': 5405, '▁반전에': 5406, '할뿐': 5407, '쩜': 5408, '납': 5409, '굿굿': 5410, '뷰': 5411, '▁설득력': 5412, '밴': 5413, '얄': 5414, '▁빨갱이': 5415, '▁홍상수': 5416, '▁하정우': 5417, '▁동시에': 5418, '주기도': 5419, '▁배우들은': 5420, '▁착각': 5421, '▁상어': 5422, '할수가': 5423, '분만에': 5424, '도좋고': 5425, '▁아쉬움이': 5426, '▁어디로': 5427, '▁안봐도': 5428, '▁재미있었습니다': 5429, '▁저평가': 5430, '갔는데': 5431, '▁예수': 5432, '아이들': 5433, '▁to': 5434, '▁아냐': 5435, '▁이뻐': 5436, '▁인형': 5437, '상영': 5438, '▁공감할': 5439, '썼': 5440, '벗': 5441, '왠': 5442, '▁높아서': 5443, '▁인생은': 5444, '▁터미네이터': 5445, '▁남긴': 5446, '▁봤다면': 5447, '▁괜찮고': 5448, '▁액션과': 5449, '▁마니': 5450, '보고싶어요': 5451, '▁받은': 5452, '거든': 5453, '▁영화였음': 5454, '▁먹는': 5455, '80': 5456, '▁때려': 5457, '젊': 5458, '웟': 5459, '▁웰메이드': 5460, '▁깡패': 5461, '->': 5462, '▁of': 5463, '▁시대에': 5464, '▁실화를': 5465, '▁아닐': 5466, '▁겨울': 5467, '▁돈내고': 5468, '▁부럽': 5469, '하는건지': 5470, '▁거리': 5471, '▁추격': 5472, '▁개콘': 5473, '▁예능': 5474, '했다면': 5475, '▁아무도': 5476, '신분': 5477, '▁영상미가': 5478, '세여': 5479, '▁정신병자': 5480, '▁찾아볼': 5481, '같았': 5482, '▁여주가': 5483, '▁들고': 5484, '스톤': 5485, '▁사랑합니다': 5486, '▁매력에': 5487, '▁어색하고': 5488, '▁전쟁의': 5489, '▁현실과': 5490, '주제': 5491, '▁정작': 5492, '▁아우': 5493, '여운': 5494, '▁시나리오가': 5495, '▁이름이': 5496, '▁감정이': 5497, '▁황당한': 5498, '▁보이지': 5499, '▁유발': 5500, '▁그립': 5501, '▁보게된': 5502, '▁영화예요': 5503, '▁그것도': 5504, '혹은': 5505, '▁쉽지': 5506, '▁연기자': 5507, '볼수있': 5508, '▁재난': 5509, '▁점수는': 5510, 'ᅢ': 5511, '▁네티즌': 5512, '셋': 5513, '쟈': 5514, '컸': 5515, '▁유덕화': 5516, '▁임창정': 5517, '▁도무지': 5518, '▁스타뎀': 5519, '▁낭만': 5520, '▁꿈꾸': 5521, '빼': 5522, '▁흐르는': 5523, '▁돈아까워': 5524, '▁할아버지': 5525, '▁은근히': 5526, '▁그림체': 5527, '▁폭발': 5528, '너무너무': 5529, '▁거북': 5530, '▁그야말로': 5531, '▁박수': 5532, '굳굳': 5533, '보기싫': 5534, '▁동양': 5535, '나왓': 5536, '▁사랑해': 5537, '▁재미있었음': 5538, '굳': 5539, '▁도망': 5540, '▁무엇인가': 5541, '▁순수하고': 5542, '▁일본인': 5543, '▁불쌍한': 5544, '▁찾을': 5545, '▁뒤에': 5546, '캐스팅': 5547, '귀엽': 5548, '▁엉망이': 5549, '도대체': 5550, '▁오브': 5551, '느끼': 5552, '편까지': 5553, '▁절정': 5554, '▁히어로': 5555, '외엔': 5556, 'lo': 5557, '▁책으로': 5558, '▁유치해서': 5559, '▁촌스러': 5560, '▁꿀': 5561, '▁별하나': 5562, '▁밤에': 5563, '▁졸았': 5564, '▁않은데': 5565, '▁어우': 5566, '순위': 5567, '▁잘만들었다': 5568, '▁이해를': 5569, '없네요': 5570, '▁망쳐': 5571, '뭣': 5572, '▁대통령': 5573, '▁나레이션': 5574, '간만에': 5575, '▁탈출': 5576, '▁이름을': 5577, '▁자신을': 5578, '▁이루어': 5579, '▁만화책': 5580, '▁아무런': 5581, '▁당연히': 5582, '▁말아야': 5583, '▁어디가': 5584, '분동안': 5585, '▁하품': 5586, '▁세상이': 5587, '▁형제': 5588, '앞에서': 5589, '하시길': 5590, '▁생기': 5591, '▁시작부터': 5592, '▁마리': 5593, '햇는데': 5594, '▁허무한': 5595, '▁매니아': 5596, '꿀': 5597, '▁문제가': 5598, '▁아깝네요': 5599, '▁풋풋한': 5600, '▁감동적이네요': 5601, '자신': 5602, '▁배경이': 5603, '겐': 5604, '▁배신': 5605, '델': 5606, '왔어요': 5607, '멜': 5608, '▁잊혀': 5609, '▁친구가': 5610, '▁나네요': 5611, '빠진': 5612, 'ᄁ': 5613, '▁빕니다': 5614, '읍': 5615, '▁이토록': 5616, '▁양아치': 5617, '▁갠적으로': 5618, '▁반드시': 5619, '▁정우성': 5620, '▁빠른': 5621, '부분은': 5622, '▁기대하지': 5623, '▁봐야지': 5624, 'ck': 5625, '뿐이다': 5626, '▁무섭고': 5627, '▁기가': 5628, '▁다행이다': 5629, '답게': 5630, '▁혹시나': 5631, '▁제작비가': 5632, '▁처음에는': 5633, '▁예술영화': 5634, '하실': 5635, '▁친구랑': 5636, '스릴': 5637, '알아': 5638, '▁위트': 5639, '▁내돈': 5640, '▁실감': 5641, '▁공간': 5642, '▁싶었다': 5643, '▁이만한': 5644, '▁기대없이': 5645, '▁기대이하': 5646, '▁만점에': 5647, '▁호구': 5648, '▁무섭게': 5649, '▁없게': 5650, '안돼': 5651, '▁설정이': 5652, '▁아진짜': 5653, '▁무난': 5654, '행복': 5655, '재미있어요': 5656, '▁가득한': 5657, '부분에서': 5658, '▁뭐라고': 5659, '나름': 5660, 'ᄏᄏᄏᄏᄏᄏ': 5661, '▁쩌는': 5662, '▁작품입니다': 5663, '▁추천하고': 5664, '랍': 5665, '엽': 5666, '빗': 5667, '▁아무생각없이': 5668, '인상깊었': 5669, '▁움직이': 5670, '▁공짜로': 5671, '▁떨어짐': 5672, '▁향연': 5673, '▁심지어': 5674, '▁뭐하자는': 5675, '▁귀여움': 5676, '▁이것보단': 5677, '찾아': 5678, '▁로빈': 5679, '▁김치': 5680, '▁루즈': 5681, '▁흘리': 5682, '지루하고': 5683, '▁따름': 5684, '그러나': 5685, '없구': 5686, '▁암울': 5687, '소녀': 5688, '▁깍': 5689, '▁하지원': 5690, '▁꽤나': 5691, '▁가고': 5692, '▁후에': 5693, 'ch': 5694, '봐야지': 5695, '▁대학': 5696, '▁원조': 5697, '▁프랑스영화': 5698, '놨네': 5699, '리스트': 5700, '▁좋을듯': 5701, '▁좋아하지만': 5702, '최고다': 5703, '▁아니었다': 5704, '하나하나가': 5705, '섬': 5706, '▁잼있음': 5707, '▁잤다': 5708, '내용은': 5709, '▁찍는': 5710, '귀신': 5711, '있어요': 5712, '▁명성': 5713, '콤': 5714, '▁만들어라': 5715, '갱': 5716, '▁명불허전': 5717, '▁스타워즈': 5718, '▁점수준것들': 5719, '짤': 5720, '▁소중함을': 5721, '▁역겨운': 5722, '덩어리': 5723, '▁적절한': 5724, '▁사투리': 5725, '펙트': 5726, '표정': 5727, '▁명배우': 5728, '▁당황': 5729, '▁안될': 5730, '▁판단': 5731, '▁요새': 5732, '▁생각해보게': 5733, '▁등장인물': 5734, '▁가능한': 5735, '것처럼': 5736, '▁빛을': 5737, '▁억지감동': 5738, '▁정상': 5739, '▁액션신': 5740, '▁수많은': 5741, '▁치유': 5742, '▁궁금해서': 5743, '▁욕심': 5744, '▁짜증나고': 5745, '▁시대의': 5746, '갈때': 5747, '시간동안': 5748, '▁남았': 5749, '▁확인': 5750, '40': 5751, '▁고어': 5752, '벤': 5753, '▁자아': 5754, '▁찍고': 5755, '긴했지만': 5756, '▁읽고': 5757, '▁캐리': 5758, '▁잼있는': 5759, '▁전편보다': 5760, '것보다': 5761, '지루하다': 5762, '▁2000': 5763, 'ᄎ': 5764, '덴': 5765, '츄': 5766, '▁쓸데없이': 5767, '욤': 5768, '▁이병헌': 5769, '▁화장실': 5770, '▁박진감': 5771, '▁흑백': 5772, '▁케빈': 5773, '▁저급': 5774, '▁4.44': 5775, '▁실험': 5776, '▁배꼽': 5777, '능력': 5778, '▁장난아니': 5779, '외에는': 5780, '못하는': 5781, '▁서울': 5782, '▁거품': 5783, '▁100%': 5784, '▁당신이': 5785, '▁아련하': 5786, '▁자극적': 5787, '▁멋있어': 5788, '▁미소가': 5789, '▁묻어': 5790, '싫어': 5791, '잖아요': 5792, '▁시작해서': 5793, '▁왜곡': 5794, '▁철학적': 5795, '좋네요': 5796, '쩝': 5797, '코메디': 5798, '해줄': 5799, '만드냐': 5800, '▁곧': 5801, '500': 5802, '▁웃었': 5803, '였지': 5804, '▁말고는': 5805, '지루해': 5806, '▁거기에': 5807, '▁실수': 5808, '▁괜찮게': 5809, '하지말고': 5810, '만큼이나': 5811, '▁현실감': 5812, '세포': 5813, '▁담은': 5814, '▁돼지': 5815, '▁등장인물들': 5816, '미친': 5817, '봤습니다': 5818, '숀': 5819, '및': 5820, '뻥': 5821, '쩍': 5822, '쯧쯧': 5823, '▁무거운': 5824, '▁이해불가': 5825, '▁감명깊게': 5826, '▁스파이': 5827, '▁이딴영화': 5828, '▁맞춰': 5829, '▁앞뒤': 5830, '▁오래전에': 5831, '▁일부러': 5832, '▁응원': 5833, '조연': 5834, '▁파괴': 5835, '▁어느정도': 5836, '▁만들어낸': 5837, '것같은데': 5838, '▁볼만합니다': 5839, '▁속았다': 5840, '▁사람이라면': 5841, '▁최악의영화': 5842, '▁귀여워요': 5843, '▁녹아': 5844, '점만점에': 5845, '▁산만하고': 5846, '있던': 5847, '▁답답해': 5848, '▁ᄡ': 5849, '▁내일': 5850, '▁사람들에게': 5851, '게만드는': 5852, '▁잘한다': 5853, '▁보겠다': 5854, '평론가': 5855, '뭘': 5856, 'TV': 5857, '있지만': 5858, '▁아프다': 5859, '줄알았다': 5860, '▁깔끔한': 5861, '전혀': 5862, '▁말자': 5863, '또한': 5864, '제대로': 5865, '▁메이': 5866, '팍': 5867, '퀄': 5868, '▁둘째치고': 5869, '껀': 5870, '랴': 5871, '븐': 5872, '템': 5873, '눌': 5874, '쉴': 5875, '▁전반적으로': 5876, '툭': 5877, '▁베드신': 5878, '▁하이틴': 5879, '▁혐오': 5880, '▁어둡': 5881, '▁목숨': 5882, '▁왠만한': 5883, '▁보시면': 5884, '▁빛나는': 5885, '▁엄청나게': 5886, '▁장난하냐': 5887, '▁마시길': 5888, '▁편안': 5889, '▁전체적인': 5890, '▁찾는': 5891, '뭐냐': 5892, '거에요': 5893, '▁여친': 5894, '▁모욕': 5895, '▁부담': 5896, '작이라': 5897, '▁어쩔수': 5898, '▁답답하다': 5899, 'am': 5900, '▁보았던': 5901, '▁평화': 5902, '미국': 5903, '▁알았음': 5904, '▁생명': 5905, '하하하하': 5906, '▁이거보단': 5907, '▁기적': 5908, '갖': 5909, '▁충격적인': 5910, '보긴': 5911, '못하고': 5912, '▁그렇지만': 5913, '터짐': 5914, '칼': 5915, '비슷': 5916, '그럼': 5917, '나왔으면': 5918, '▁끝나서': 5919, '겠어': 5920, '▁웃기는': 5921, '▁불가능': 5922, '나쁜': 5923, '▁이것보다': 5924, '싫다': 5925, '▁필요한가': 5926, '▁웃었다': 5927, '▁킬링': 5928, '쯔': 5929, '▁놀랐다': 5930, '▁인터넷': 5931, '▁흡입력': 5932, '렐': 5933, '밧': 5934, '▁도데체': 5935, '▁강동원': 5936, '▁오글오글': 5937, '▁상관없': 5938, '▁민폐': 5939, '▁최소': 5940, '▁잃은': 5941, '그렇게': 5942, '▁서양': 5943, '▁관련': 5944, '▁낫겠다': 5945, '▁절망': 5946, '으려고': 5947, '유발': 5948, '▁아만다': 5949, '▁진지하게': 5950, '▁미안하다': 5951, '▁희망을': 5952, '▁울었어요': 5953, '▁기존': 5954, '▁괜찮았음': 5955, '▁마지막엔': 5956, '▁있었으면': 5957, '▁나을듯': 5958, '겠는데': 5959, '▁표현할': 5960, '▁괜찮네요': 5961, '▁않았지만': 5962, '였다면': 5963, '▁보려': 5964, '▁다르게': 5965, '낫다': 5966, '▁상대': 5967, '줘야지': 5968, '▁괜찮아': 5969, '▁중심': 5970, '▁낮네요': 5971, '오랜만에': 5972, '▁명연기': 5973, '▁파리': 5974, '▁뭐임': 5975, '▁미국식': 5976, '▁두시간': 5977, '▁자극적인': 5978, '당시엔': 5979, '하니까': 5980, '▁혹시': 5981, '▁좋지': 5982, '▁초등학교': 5983, 'ᅩ': 5984, '쿡': 5985, '뭉': 5986, '뚝': 5987, '펜': 5988, '뻑': 5989, '톡': 5990, '▁가까운': 5991, '스파이더맨': 5992, '쫓': 5993, '▁어두운': 5994, '▁비호감': 5995, '▁격투': 5996, '▁ᄌᄂ': 5997, '▁만들었나': 5998, '▁어설프다': 5999, '▁짜릿': 6000, '▁예측': 6001, '▁대사들': 6002, 'us': 6003, '엇음': 6004, '▁감동적이에요': 6005, '▁기획': 6006, '▁도시': 6007, '▁에효': 6008, '▁인생영화': 6009, '▁중학생': 6010, '습니까': 6011, '지않게': 6012, '▁화나': 6013, '자마자': 6014, '▁갖다': 6015, '▁사랑스럽다': 6016, '것같네요': 6017, '▁담긴': 6018, '▁첨부터': 6019, '▁멋있고': 6020, '놈들은': 6021, '▁거지같은': 6022, '▁간지': 6023, '▁맞나': 6024, '▁안보는게': 6025, 'ᅲᅲᅲᅲᅲ': 6026, 'ce': 6027, '여배우': 6028, '▁연기잘하': 6029, '힘들': 6030, '되네': 6031, '▁벗어': 6032, '▁첨이다': 6033, '▁좋네': 6034, '▁가족들': 6035, '▁떠올': 6036, '▁나와야': 6037, '할수있는': 6038, '▁충분한': 6039, '▁뜬금없는': 6040, '▁소화': 6041, '잤': 6042, '시나리오': 6043, '유쾌하게': 6044, '▁소름끼치는': 6045, '핵': 6046, '예술': 6047, '선택': 6048, '천원': 6049, '▁감동입니다': 6050, '▁인상적인': 6051, '픔': 6052, '스티': 6053, '▁ᄒᄃᄃ': 6054, '▁시도는': 6055, '떤': 6056, '낯': 6057, '헉': 6058, '▁신하균': 6059, '▁오프닝': 6060, '▁리얼리티': 6061, '▁언젠가': 6062, '▁자동차': 6063, '▁누군지': 6064, '▁무대': 6065, '▁첩보': 6066, '스틴': 6067, '▁엽기': 6068, '▁블랙코미디': 6069, '괜찬': 6070, '▁만화영화': 6071, '웠던': 6072, '▁진지한': 6073, '▁살리지': 6074, '▁부활': 6075, '▁태국': 6076, '▁개똥': 6077, '녀석': 6078, '▁이거보다': 6079, '▁말하려는': 6080, '립니다': 6081, '▁망할': 6082, '▁한심하다': 6083, '▁절로': 6084, '모자': 6085, '▁무겁': 6086, '▁여자애': 6087, 'ᄃᄃᄃ': 6088, '▁보고싶은데': 6089, '꺼야': 6090, '▁유행': 6091, '▁멋있었': 6092, '까봐': 6093, '▁아니잖아': 6094, '▁그동안': 6095, '맘에': 6096, '▁모르겠네요': 6097, '▁형편없는': 6098, '▁넘넘': 6099, '▁삶과': 6100, '▁한번더': 6101, '있네요': 6102, '▁독특하고': 6103, '였네요': 6104, '▁아파': 6105, '▁가히': 6106, '곳이': 6107, '같아요': 6108, '곳에서': 6109, '▁처음이네': 6110, 'un': 6111, '▁짜증나게': 6112, '▁재미없었': 6113, '▁초반부': 6114, '▁훌륭했': 6115, '돈주고': 6116, '▁선정': 6117, '▁가족애': 6118, '덩': 6119, '셉': 6120, '됫': 6121, '▁말그대로': 6122, '▁박보영': 6123, '▁라이언': 6124, '▁기발한': 6125, '▁보지마셈': 6126, '였구나': 6127, '▁헛웃음': 6128, '▁극혐': 6129, '▁부탁': 6130, '▁좋았을텐데': 6131, '▁고딩': 6132, '▁개그맨': 6133, '▁동영상': 6134, '▁극복': 6135, '▁등등': 6136, '▁은근': 6137, '▁여태': 6138, '▁강추합니다': 6139, '▁마약': 6140, '해지고': 6141, '▁미녀': 6142, '▁중국영화': 6143, '▁끌고': 6144, '하거나': 6145, '▁인디': 6146, '▁어울리지': 6147, '▁만난': 6148, '▁귀여': 6149, '▁잊고': 6150, '밖': 6151, '▁마지막회': 6152, '▁여인': 6153, '▁말밖에': 6154, '더스': 6155, '▁낚인': 6156, '망작': 6157, '쁜': 6158, '▁화끈': 6159, '돌려': 6160, '▁세월이': 6161, '▁벗어나': 6162, '멋잇': 6163, '▁빠졌': 6164, '▁찾아서': 6165, '꿈': 6166, '▁뻔뻔': 6167, '바람': 6168, '하는구나': 6169, '맑': 6170, '▁어정쩡': 6171, '버렸네': 6172, '쉐': 6173, '혔': 6174, '▁EBS': 6175, '▁류승범': 6176, '▁오그라드는': 6177, '뱀': 6178, '셜': 6179, '캡': 6180, '▁쓸데없는': 6181, '앞으로': 6182, '▁죄송': 6183, '▁그려낸': 6184, '▁고뇌': 6185, '▁공룡': 6186, '▁밑도': 6187, '좋아하는데': 6188, '▁좋으나': 6189, '특집': 6190, 'ᄀᄀ': 6191, '▁이도저도': 6192, '▁대신': 6193, '좋은데': 6194, '▁충분하다': 6195, '▁천국': 6196, '▁잘못된': 6197, '▁마시': 6198, '▁드림': 6199, '▁살인마': 6200, '▁탄탄하고': 6201, '▁주온': 6202, '브리': 6203, '▁애매': 6204, '▁안나온다': 6205, '▁귀여웠': 6206, '▁답답함': 6207, '▁명성에': 6208, '아까운영화': 6209, '하고싶다': 6210, '^^;': 6211, '▁소장하고': 6212, '▁모르겠네': 6213, '▁잠시': 6214, '▁옆에': 6215, '드립': 6216, '▁만났': 6217, '▁낮은지': 6218, '▁신선함': 6219, '▁놓치': 6220, '▁싸우': 6221, '낭비': 6222, '▁막판': 6223, '로맨스': 6224, '▁부정': 6225, '허무': 6226, '볼까': 6227, '▁다시보기': 6228, '퉤': 6229, '▁movie': 6230, '▁못봐주겠': 6231, '▁송강호': 6232, '핫': 6233, '걷': 6234, '렛': 6235, '▁피아노': 6236, '▁배급사': 6237, '▁일주일': 6238, '▁미스캐스팅': 6239, '▁흥미로웠': 6240, '▁전성기': 6241, '▁위험': 6242, '▁장애인': 6243, '▁묘한': 6244, '▁고독': 6245, '▁사랑한다': 6246, '▁장난하나': 6247, '▁모르지만': 6248, '▁재미있었는데': 6249, '이후로': 6250, '▁마블': 6251, '▁한방': 6252, '▁역사상': 6253, '극히': 6254, '▁않았던': 6255, 'ed': 6256, '▁공유': 6257, '▁말인가': 6258, '▁비중': 6259, '▁반영': 6260, '보임': 6261, '▁결론은': 6262, '▁보는것': 6263, '▁보라고': 6264, '삼류': 6265, '살때': 6266, '▁어이없다': 6267, '었구나': 6268, '▁넣어': 6269, '15': 6270, '▁흉내': 6271, '▁본격': 6272, '초딩': 6273, '▁없군': 6274, '▁실망이다': 6275, '곽': 6276, 'ᄐ': 6277, '▁시종일관': 6278, '렴': 6279, '▁디카프리오': 6280, '겻': 6281, '랩': 6282, '몫': 6283, '쭈': 6284, '캠': 6285, '튜': 6286, '▁몽환적': 6287, '▁걱정': 6288, '▁킬러': 6289, '▁환경': 6290, '드려요': 6291, '마누라': 6292, '▁일반': 6293, '▁이번에': 6294, '▁느껴지지': 6295, '▁대박이다': 6296, '▁이끌어': 6297, '▁먹칠': 6298, '▁살렸다': 6299, '보일': 6300, '▁욕먹': 6301, '분짜리': 6302, '였네': 6303, '▁뻔하다': 6304, '▁다운받아서': 6305, '▁오글거리는': 6306, '▁짝이': 6307, '잭슨': 6308, '▁언제까지': 6309, '▁심한': 6310, '▁만들려': 6311, '느냐': 6312, '▁환상적인': 6313, '▁한시간': 6314, '다시보고싶': 6315, '▁개봉당시': 6316, '▁아까워서': 6317, '아니면': 6318, '▁잼있네요': 6319, '효과': 6320, 'el': 6321, '▁승리': 6322, '좀비': 6323, 'ne': 6324, '▁심하다': 6325, '할줄': 6326, '▁신화': 6327, '김정': 6328, '▁달려': 6329, '▁열라': 6330, '보니깐': 6331, '에비해': 6332, '▁싶다면': 6333, '▁알파치노': 6334, '풋': 6335, '▁아름다워': 6336, '▁섬세한': 6337, '▁칭찬': 6338, '▁닥치고': 6339, '▁드니로': 6340, '▁전설이': 6341, '▁2012': 6342, '▁라스트': 6343, '▁읽는': 6344, '▁-_-;;': 6345, '▁때리': 6346, '▁믿어': 6347, '▁재밌게봤어요': 6348, '▁개꿀잼': 6349, '▁역작': 6350, '여주인공': 6351, '▁조낸': 6352, '학년때': 6353, '▁대결': 6354, '▁역겹다': 6355, '▁모든것이': 6356, '▁최고에요': 6357, '형제': 6358, '▁잃었': 6359, '▁나무': 6360, '되길': 6361, '▁조잡한': 6362, '▁싫어하는': 6363, '중국': 6364, '▁빠져서': 6365, '▁옛날영화': 6366, '사실': 6367, '▁보여줘': 6368, '▁중년': 6369, '주려고': 6370, '▁재미없네요': 6371, '맹': 6372, '경찰': 6373, '뚫': 6374, '릇': 6375, '옳': 6376, '왈': 6377, '▁유치찬란': 6378, '덮': 6379, '둠': 6380, '엮': 6381, '▁왕조현': 6382, '▁짬뽕': 6383, '▁되돌아': 6384, '▁섬뜩': 6385, '▁혁명': 6386, '옵니다': 6387, '역할': 6388, '▁슈퍼맨': 6389, '▁각색': 6390, '▁영원': 6391, '페이스': 6392, '▁흘러가는': 6393, '▁사랑스럽고': 6394, '▁만약': 6395, '각본': 6396, '▁싶었던': 6397, '충격': 6398, '편집': 6399, '▁벌어': 6400, '흥미롭': 6401, '▁느껴졌다': 6402, '예뻐': 6403, '하자면': 6404, '▁어쩌다': 6405, '▁준비': 6406, '▁볼것': 6407, '▁남성': 6408, '비추': 6409, '▁단점': 6410, '▁뛰어넘는': 6411, '속으로': 6412, '봤네': 6413, '.,.,': 6414, '▁꼭봐야': 6415, '▁좋더라': 6416, '▁가시': 6417, '누님': 6418, '▁보고나니': 6419, '▁되야': 6420, '▁세상에서': 6421, '룬': 6422, '▁가야': 6423, 'CG': 6424, '랙': 6425, '퉁': 6426, 'ᄊ': 6427, '▁뒤죽박죽': 6428, '▁오랫동안': 6429, '▁즐거움': 6430, '켓': 6431, '▁2.22': 6432, '점준것중': 6433, '▁비행기': 6434, '▁바탕으로': 6435, '범죄': 6436, '▁쏘우': 6437, '병맛': 6438, '▁돌아보게': 6439, '▁과학': 6440, '▁로망': 6441, '▁흥분': 6442, '▁최후': 6443, '▁단순히': 6444, '▁기억난다': 6445, '▁뻔한스토리': 6446, '▁지옥': 6447, '▁실사': 6448, '맞아': 6449, '나보네': 6450, '물론': 6451, '▁최소한': 6452, '▁공연': 6453, '봣어요': 6454, '겨울': 6455, '▁여배우들': 6456, 'ost': 6457, 'he': 6458, '해줘서': 6459, '▁천사': 6460, '▁불안': 6461, '재밋엇': 6462, 'ᄃᄃᄃᄃ': 6463, 'ri': 6464, '뚜': 6465, '썸': 6466, '▁스필버그': 6467, '썬': 6468, '킴': 6469, '▁오그라들': 6470, '▁데이빗': 6471, '▁여러모로': 6472, '▁박평식': 6473, '▁엉뚱': 6474, '▁최민수': 6475, '▁원숭이': 6476, '▁한효주': 6477, '▁아련한': 6478, '▁무간도': 6479, 'ᅲᅲᅲᅲᅲᅲᅲᅲᅲᅲ': 6480, '▁상큼': 6481, '▁도둑': 6482, '▁늙은': 6483, '폴': 6484, '▁말이필요없다': 6485, '▁풀어낸': 6486, '▁로맨틱코미디': 6487, '▁역량': 6488, '밖엔': 6489, '▁앉아': 6490, '▁기대했': 6491, '▁멋짐': 6492, '▁잔잔함': 6493, '▁알려주는': 6494, '▁재탕': 6495, '▁좋겠습니다': 6496, '▁멋져요': 6497, '▁또라이': 6498, '▁봤는지': 6499, '보지마라': 6500, '아닌데': 6501, '▁완벽하다': 6502, '▁책임': 6503, '보고나서': 6504, '▁군인': 6505, '▁멋지게': 6506, '몰라': 6507, '▁제대로된': 6508, '▁모방': 6509, '▁놀란': 6510, '▁않아요': 6511, '▁말투': 6512, '▁웃겨서': 6513, '할수없는': 6514, '▁사람에게': 6515, '구역': 6516, '▁못했': 6517, '▁최고최고': 6518, '▁배경으로': 6519, '▁없던': 6520, '그저': 6521, '순수': 6522, '보셔': 6523, '▁별로였다': 6524, '▁환상적': 6525, '▁이상하다': 6526, '점주기도': 6527, '50': 6528, '▁독특하': 6529, '▁정체': 6530, '앉': 6531, '셧': 6532, '옮': 6533, '퀸': 6534, '▁아기자기': 6535, '▁아마추어': 6536, '▁클래식': 6537, '▁김희선': 6538, '▁깜놀': 6539, '▁데뷔작': 6540, '▁후속편': 6541, '▁완젼': 6542, '▁두고두고': 6543, '▁에라이': 6544, '▁레옹': 6545, '▁잔인함': 6546, '것같아': 6547, 'ter': 6548, '시청률': 6549, '애니메이션': 6550, '아름다운': 6551, '옛날': 6552, '▁떨어져': 6553, '우리나라': 6554, '▁같았다': 6555, '▁못하겠다': 6556, '결국': 6557, '▁감명': 6558, '▁아이들에게': 6559, '구먼': 6560, '▁미스터리': 6561, '▁어쩌면': 6562, '멋진': 6563, '▁인류': 6564, '▁어이없음': 6565, '회부터': 6566, '거같아': 6567, '▁전라도': 6568, 'se': 6569, '▁아이유': 6570, '할정도로': 6571, '▁구분': 6572, '▁토니': 6573, '▁기대했던': 6574, '▁부족함': 6575, '복수': 6576, '해놓고': 6577, '주었다': 6578, '▁정신병': 6579, '▁의상': 6580, '있었는데': 6581, '▁스릴감': 6582, '밋': 6583, '어설프': 6584, '▁찍으': 6585, '▁스릴러물': 6586, '쏴': 6587, '▁뒤늦게': 6588, '곱': 6589, '뤄': 6590, '▁다이하드': 6591, '▁마찬가지': 6592, '▁컨셉': 6593, '▁잊지못할': 6594, '▁김수현': 6595, '▁묵직': 6596, '▁빠져들게': 6597, '▁다니엘': 6598, '▁수면제': 6599, '▁컬트': 6600, '▁케미': 6601, '▁새삼': 6602, '▁거기다': 6603, '▁권력': 6604, '▁재앙': 6605, '▁상징': 6606, '▁보여줄': 6607, '무서워': 6608, '줍니다': 6609, '개인적으로': 6610, '▁말씀': 6611, '▁재미나게': 6612, '것같음': 6613, 'very': 6614, '▁괜찮았던': 6615, '예쁘': 6616, '▁흥미롭지': 6617, '▁채우': 6618, '합시다': 6619, '보지마세요': 6620, '▁있긴': 6621, '▁소통': 6622, '▁들어간': 6623, '▁공감되': 6624, '▁야하지도': 6625, '▁파워': 6626, '▁멋져': 6627, '보려고': 6628, '▁오직': 6629, '터졌': 6630, '지못한': 6631, '▁강간': 6632, '▁행복하게': 6633, '▁의미있는': 6634, '하겠습니다': 6635, '▁여신': 6636, 'ma': 6637, '▁않으면': 6638, '▁넘어서': 6639, '생기고': 6640, '▁이딴거': 6641, '감명깊': 6642, '흉': 6643, '▁고등학생': 6644, '▁군더더기': 6645, '▁비쥬얼': 6646, '듦': 6647, '뜸': 6648, '뺏': 6649, '홈': 6650, '▁Good': 6651, '▁테이큰': 6652, '룰': 6653, '턱': 6654, '▁그냥저냥': 6655, '▁엄정화': 6656, '▁차승원': 6657, '▁김혜수': 6658, '▁농담': 6659, '▁완죤': 6660, '▁봐줄만': 6661, '▁아쉬울': 6662, '▁거부감': 6663, '▁어설프게': 6664, '▁흥미롭게': 6665, '▁더러워': 6666, '▁아쉬워요': 6667, '샘': 6668, '▁감동적이었다': 6669, '킬링타임': 6670, '판타지': 6671, '▁재밌었습니다': 6672, '▁만들어주': 6673, '▁팬들': 6674, '▁무협영화': 6675, '▁흉내내': 6676, '▁재방': 6677, '▁미학': 6678, '▁레오': 6679, '▁부산': 6680, '▁울림': 6681, '▁한동안': 6682, '아무리': 6683, '▁지금보면': 6684, '▁세월': 6685, '맞음': 6686, '▁향수': 6687, '하길래': 6688, '▁어쩔수없': 6689, '▁있었음': 6690, '▁매주': 6691, '▁나왔던': 6692, '▁OOOO': 6693, '▁먹어': 6694, '원주고': 6695, '영활': 6696, '안좋': 6697, '▁광기': 6698, '솜': 6699, '▁애니매이션': 6700, '▁카메론': 6701, '팩': 6702, '▁새록새록': 6703, '▁송승헌': 6704, '▁포켓몬': 6705, '꽁': 6706, '뜯': 6707, '밉': 6708, '▁팝콘': 6709, '▁한석규': 6710, '▁멈추': 6711, '▁드래곤볼': 6712, '▁밝혀': 6713, '▁원피스': 6714, '▁택시': 6715, '▁자연스럽게': 6716, '▁크리스찬': 6717, '땜시': 6718, '▁찬양': 6719, '▁등록': 6720, '▁모자라': 6721, '▁감동적입니다': 6722, '▁가짜': 6723, '▁힘들었다': 6724, '▁웃다가': 6725, '▁범죄자': 6726, '▁불쌍하': 6727, '▁보고있는데': 6728, '▁보는동안': 6729, '▁비록': 6730, '▁no': 6731, '엇어요': 6732, '졌으면': 6733, '▁작화': 6734, '▁알바생': 6735, '▁보게되는': 6736, '▁평소': 6737, '▁대역': 6738, '▁인연': 6739, '웃긴': 6740, '▁좋아하네요': 6741, '재밋어요': 6742, '▁망쳐놓': 6743, '▁나올까': 6744, '▁화끈한': 6745, '셨으면': 6746, '▁그리워': 6747, '갈수': 6748, '졌음': 6749, '▁방해': 6750, '저런': 6751, '높아': 6752, '▁알게되': 6753, '▁오랜': 6754, '▁일깨워': 6755, '▁캐릭': 6756, '하더니': 6757, '^_^': 6758, '▁러브스토리': 6759, '▁호불호가': 6760, '팽': 6761, '▁엉망진창': 6762, '▁차태현': 6763, '▁키아누': 6764, '렘': 6765, '앜': 6766, '▁나루토': 6767, '▁흑역사': 6768, '▁머릿속': 6769, '▁빠순이': 6770, '▁왕가위': 6771, '▁애초에': 6772, '▁심오한': 6773, '▁엠마': 6774, '▁직업': 6775, '▁거기서': 6776, '겠는가': 6777, '▁그럴싸': 6778, '><': 6779, '▁민족': 6780, '▁첫번째': 6781, '▁억지스런': 6782, '같애': 6783, '▁국산': 6784, '▁짜증났': 6785, '돋는다': 6786, '▁늙어': 6787, '첫': 6788, '프로그램': 6789, '▁감동도없고': 6790, '그나마': 6791, '댓글': 6792, '▁다시보게': 6793, '다시봐도': 6794, '▁만든건지': 6795, '폭력': 6796, '▁화질': 6797, '▁편하게': 6798, 'ay': 6799, 'sh': 6800, '▁두명': 6801, '▁브레': 6802, '자꾸': 6803, '▁조연들': 6804, '누구': 6805, '실력': 6806, '혐': 6807, '첩': 6808, '밨': 6809, '▁영웅본색': 6810, '랏': 6811, '쇄': 6812, '짙': 6813, '▁세련된': 6814, '욬': 6815, '헨': 6816, '▁웬만하면': 6817, '▁빈약한': 6818, '▁찬사를': 6819, '▁2015': 6820, '▁강아지': 6821, '▁파격적': 6822, 'vs': 6823, '▁아무튼': 6824, '▁시간아까워': 6825, '▁프레': 6826, '▁시험': 6827, '점도아깝다': 6828, '▁반갑': 6829, '▁고증': 6830, '▁재밌기만': 6831, '▁모독': 6832, '▁처음본다': 6833, '▁챙겨보': 6834, '▁고문': 6835, '▁몰아': 6836, '▁싶습니다': 6837, '▁성형': 6838, '멀': 6839, '마무리': 6840, '묻': 6841, '▁이은주': 6842, '▁학생들': 6843, '얼마나': 6844, '♡♡♡': 6845, '잘봤습니다': 6846, '▁마녀': 6847, '▁네이버평점': 6848, '▁향한': 6849, '▁슬프네요': 6850, '영화자체는': 6851, '모르겠다': 6852, '▁일반인': 6853, 'il': 6854, '▁우디': 6855, '쓰렉': 6856, '▁맞추': 6857, '▁커버': 6858, '▁진부함': 6859, '깐': 6860, '▁살았': 6861, '▁완성': 6862, '▁맛있': 6863, '부르': 6864, '섯': 6865, '▁역사적': 6866, '뗄': 6867, '뎀': 6868, '믄': 6869, '줫': 6870, '훼': 6871, '▁드림웍스': 6872, '▁박찬욱': 6873, '▁안타까움': 6874, '▁윌리엄': 6875, '▁말았어야': 6876, '▁재발견': 6877, '▁가슴아픈': 6878, '▁김민종': 6879, '▁레이첼': 6880, '▁깨달음': 6881, '▁윌리스': 6882, '▁감성팔이': 6883, '▁외로움': 6884, '▁한쿡영화': 6885, '▁페이크': 6886, '▁흠잡을': 6887, '▁찢어': 6888, '▁치밀하': 6889, '▁방황': 6890, '▁극단적': 6891, '▁안성기': 6892, '▁람보': 6893, '▁고인의': 6894, '▁닮았': 6895, '▁열광': 6896, '▁놀라울': 6897, '▁혼란': 6898, '▁공허': 6899, '▁마틴': 6900, '▁음향': 6901, '▁독립': 6902, '▁시골': 6903, '▁아깝습니다': 6904, '▁백배': 6905, '▁무슨말이': 6906, '▁더욱더': 6907, '▁미술': 6908, '중간에': 6909, '▁필요없음': 6910, '▁에로물': 6911, '▁만날': 6912, '선생님': 6913, '짧': 6914, '덕분에': 6915, '무서운': 6916, '궁금': 6917, '▁비교하면': 6918, '입니까': 6919, '▁분장': 6920, 'tv': 6921, '▁않습니다': 6922, '▁끝남': 6923, '노출': 6924, '▁있어보이': 6925, '▁낚이지': 6926, '▁go': 6927, '▁뛰어넘': 6928, '▁없으니': 6929, '▁미쳐': 6930, '▁미안해': 6931, '눈물흘': 6932, '▁미스터': 6933, '보기엔': 6934, '야말로': 6935, '달라고': 6936, '▁허허': 6937, '▁다세포소녀': 6938, '▁시끄럽': 6939, '숲': 6940, '▁이탈리아': 6941, '릉': 6942, '▁구혜선': 6943, '▁사무라이': 6944, '▁설경구': 6945, '▁권상우': 6946, '▁펼쳐': 6947, '▁떨어뜨': 6948, '▁아바타': 6949, '▁클라스': 6950, '▁잔잔하지만': 6951, '▁틀림없': 6952, 'hat': 6953, '▁증명': 6954, '▁환장': 6955, '▁죽기전에': 6956, '▁가슴아프': 6957, '▁자연스러운': 6958, '▁재방송': 6959, '▁복수극': 6960, '-.-': 6961, '▁피곤': 6962, '▁어색함': 6963, '▁심각하게': 6964, '▁세계관': 6965, '▁영광': 6966, '▁동화같은': 6967, '많은것을': 6968, '▁없애': 6969, '▁없구나': 6970, '질질끄': 6971, '▁향기': 6972, '▁매번': 6973, '됬는데': 6974, '▁다시보고싶은': 6975, '▁알게된': 6976, '▁굿굿굿': 6977, '▁좋구': 6978, '현실적': 6979, '챙': 6980, '낄': 6981, '훌': 6982, 'Y': 6983, '릅': 6984, '▁best': 6985, '▁엑스맨': 6986, '삘': 6987, '얀': 6988, '훔': 6989, '▁인상깊게': 6990, '늬': 6991, '좆': 6992, '▁내취향': 6993, '습니당': 6994, '▁떡밥': 6995, '▁평점조절': 6996, '▁나머진': 6997, '랍니다': 6998, '▁살아야': 6999, '▁록키': 7000, '▁총체적': 7001, '▁온갖': 7002, '시리즈중': 7003, '▁역쉬': 7004, '▁분량': 7005, '창있네': 7006, '2005': 7007, '▁패션': 7008, '▁지브리': 7009, '끝날때까지': 7010, '▁뭐랄까': 7011, '▁산만하': 7012, '▁던져': 7013, '▁빠질': 7014, '▁거짓': 7015, '▁적당하다': 7016, '▁재미없었음': 7017, '봤을땐': 7018, '▁인간적으로': 7019, '검사': 7020, '▁기억남': 7021, '죽는줄': 7022, '▁나오다니': 7023, '▁봤었다': 7024, '▁채워': 7025, '싶은데': 7026, '▁시체': 7027, '귀여워': 7028, '몇번': 7029, '쫌': 7030, '암튼': 7031, '큼': 7032, '▁데려다': 7033, '피디': 7034, '완벽하게': 7035, '▁없을까': 7036, '♡♡': 7037, '대가리': 7038, 'ᄍᄍᄍ': 7039, '123': 7040, '▁진정성': 7041, '될까': 7042, '사람마다': 7043, '▁형식': 7044, '▁비극적': 7045, '영화관에서': 7046, '▁알아야': 7047, '제국': 7048, '둑': 7049, '킥': 7050, '덧': 7051, '띠': 7052, '뱅': 7053, '▁에드워드': 7054, '▁엔딩크레딧': 7055, '▁트랜스포머': 7056, '▁홧팅': 7057, '▁흘렀': 7058, '겄': 7059, '졋': 7060, '▁황정민': 7061, '▁이것저것': 7062, '▁납득': 7063, '▁조승우': 7064, '▁지저분': 7065, '▁워낙': 7066, '▁예뻐서': 7067, '▁상당한': 7068, '▁오로지': 7069, '▁이나영': 7070, '▁낮추': 7071, '▁꺼져': 7072, '▁반응': 7073, 'la': 7074, '▁유령': 7075, '▁초반엔': 7076, '▁유익': 7077, '▁우왕': 7078, '▁나은듯': 7079, '▁회상': 7080, '▁얻어': 7081, '▁소소하': 7082, '▁소름끼치': 7083, '▁먹먹해': 7084, '실화라': 7085, '촬영': 7086, '심각': 7087, '▁정체성': 7088, '힘든': 7089, '▁보러갔': 7090, '성룡': 7091, '봤었는데': 7092, 'com': 7093, '투성이': 7094, '▁만들었으면': 7095, '▁유치하기': 7096, '▁살아남': 7097, '재미잇': 7098, '▁시간아깝': 7099, '▁배우분들': 7100, '▁재수없': 7101, '점만점': 7102, '▁느껴졌': 7103, '내놔': 7104, '뎁': 7105, '▁학창시절': 7106, '짖': 7107, '▁겨울왕국': 7108, '▁곱씹': 7109, '▁기대됩니다': 7110, '▁소피마르소': 7111, '▁심리묘사': 7112, '▁어설퍼': 7113, '뼈': 7114, '▁김태희': 7115, '▁최민식': 7116, '▁정주행': 7117, '▁장동건': 7118, '▁고마워': 7119, '▁전지현': 7120, '▁돋보인다': 7121, '▁모자란': 7122, '▁간첩': 7123, '▁7.5': 7124, '▁증말': 7125, '영환줄': 7126, '▁괴롭': 7127, '▁아까웠던': 7128, '▁존경합니다': 7129, '▁쉬운': 7130, '▁좋아하시는': 7131, '십니다': 7132, '▁커피': 7133, '▁알려준': 7134, '▁원표': 7135, '▁소품': 7136, '▁감동적임': 7137, '▁울었습니다': 7138, '▁적극': 7139, '▁못따라': 7140, '중딩': 7141, '지않을': 7142, '▁마음속에': 7143, '맞추기': 7144, '옷': 7145, '탐': 7146, '특유의': 7147, '분들께': 7148, '▁쩌네': 7149, '네이버': 7150, '▁재미있었던': 7151, '떨어지는': 7152, 'ᄋᄋᄋ': 7153, '▁따뜻함': 7154, '▁기분좋은': 7155, '▁깨닫': 7156, '냄': 7157, '쎄': 7158, '봇': 7159, '삽': 7160, '▁러브라인': 7161, '팝': 7162, '▁KBS': 7163, '▁과대평가': 7164, '▁런닝타임': 7165, '▁미야자키': 7166, '▁슬펐다': 7167, '▁크레딧': 7168, '▁팀버튼': 7169, '▁파워레인저': 7170, '▁손예진': 7171, '▁어차피': 7172, '찜찜': 7173, '▁어떠한': 7174, '▁엉엉': 7175, '▁엽문': 7176, '▁2004': 7177, '▁도움이': 7178, '▁2003': 7179, '▁침묵': 7180, '▁사라져': 7181, '싶을때': 7182, '▁귀찮': 7183, '▁압도적': 7184, '▁말아먹은': 7185, '▁돈낭비': 7186, '▁욕나온다': 7187, '▁과장된': 7188, '라이브': 7189, '▁진행되는': 7190, '▁8.5': 7191, '▁경악': 7192, '▁존잼': 7193, '▁돈아깝다': 7194, '▁복선': 7195, '▁경계': 7196, '▁일찍': 7197, '▁늙었': 7198, '배틀': 7199, '흥미를': 7200, '왜이래': 7201, '히어로': 7202, '왔던': 7203, '철학': 7204, '바탕': 7205, '▁실화라는': 7206, '영웅': 7207, '▁흔하': 7208, '▁풀어내': 7209, '죽이고': 7210, '▁300': 7211, '▁가능성': 7212, '쉣': 7213, '썰': 7214, '▁고맙습니다': 7215, '▁조기종영': 7216, '멕': 7217, '썻': 7218, '쏙': 7219, '훗': 7220, '▁어우러진': 7221, '끓': 7222, '▁싸이코패스': 7223, '▁팍팍': 7224, '▁객관적': 7225, '▁오우삼': 7226, '떄문에': 7227, '그나저나': 7228, '▁어딘가': 7229, '▁임청하': 7230, '별반개도': 7231, '꼬맹이': 7232, '▁보낸다': 7233, '▁가까이': 7234, '▁미친듯이': 7235, '▁사기꾼': 7236, '▁잃어버린': 7237, '▁전도연': 7238, '▁아동용': 7239, '▁감동받았': 7240, '▁돌려줘': 7241, '▁ᄅᄋ': 7242, '▁황금': 7243, '할게요': 7244, '겠군': 7245, '▁197': 7246, '▁여태까지': 7247, '▁사이코': 7248, '▁조용히': 7249, '탁월한': 7250, '▁허탈': 7251, '▁중간부터': 7252, '▁실패작': 7253, '▁히어로물': 7254, '▁지나친': 7255, '▁도중에': 7256, '▁머리속': 7257, '▁로마': 7258, '팬이라': 7259, '▁유혹': 7260, '싫': 7261, '톰': 7262, 'ᄉᄇ': 7263, '좋았음': 7264, '낮아서': 7265, '▁198': 7266, 'all': 7267, '▁역겹': 7268, '▁태어나': 7269, '깁': 7270, '드래곤': 7271, '****': 7272, 'zzz': 7273, '↓': 7274, '▁ocn': 7275, '▁굉장한': 7276, '▁도라에몽': 7277, '▁어쨌든': 7278, '▁엉터리': 7279, '긔': 7280, '넼': 7281, '녁': 7282, '쌓': 7283, '잣': 7284, '텅': 7285, '▁양동근': 7286, '#': 7287, '▁고마운': 7288, '▁여기저기': 7289, '▁스티브': 7290, '▁스피드': 7291, '▁큐브': 7292, '▁입장에서': 7293, '▁저절로': 7294, '▁비정상': 7295, '▁솔까': 7296, '▁스킵': 7297, '▁웅장': 7298, '▁별한개도': 7299, '▁보여줌': 7300, '▁색채': 7301, '▁스토리라인': 7302, '▁심각한': 7303, '▁느리고': 7304, '였으나': 7305, '▁생존': 7306, '▁교회': 7307, '▁신세계': 7308, '▁바랬': 7309, '▁신나게': 7310, '▁간직': 7311, '▁노튼': 7312, '▁도통': 7313, '해지네요': 7314, '클럽': 7315, '본영화중에': 7316, '지않나': 7317, '역활': 7318, '썩': 7319, '고싶지': 7320, '이쁘고': 7321, '것일까': 7322, '댓': 7323, '뷔': 7324, '펼': 7325, '▁ebs': 7326, '▁겉멋만': 7327, '▁신데렐라': 7328, '▁일베충': 7329, '▁흐지부지': 7330, '곁': 7331, '껍': 7332, '즉': 7333, '펠': 7334, '▁국어책': 7335, '▁펭귄': 7336, '☆': 7337, '핸': 7338, '윽': 7339, '▁맙시다': 7340, '▁초중반': 7341, '▁소지섭': 7342, '▁인디아나': 7343, '▁오페라': 7344, '▁뉴욕': 7345, '▁납치': 7346, '▁색다르': 7347, '▁그들만의': 7348, '▁어지간': 7349, '▁젊음': 7350, '^.^': 7351, '▁케이트': 7352, '▁활용': 7353, '▁담겨있': 7354, '▁관람객': 7355, '깁니다': 7356, '▁성찰': 7357, '▁프레디': 7358, '▁사라진': 7359, '▁말이필요없는': 7360, '▁초등학교때': 7361, '▁서극': 7362, '▁제정신': 7363, '것같습니다': 7364, '▁발랄': 7365, '▁빠져들었': 7366, '▁지루했음': 7367, '▁볼만해요': 7368, '▁얘들': 7369, '더라고요': 7370, '▁me': 7371, '만들엇': 7372, '보고싶네': 7373, '좋았어요': 7374, '왜이리': 7375, '시간낭비': 7376, '결혼': 7377, '▁어린이들': 7378, '본것중': 7379, '▁어울리': 7380, '믹': 7381, '쯧': 7382, '켈': 7383, '쇠': 7384, '▁아이언맨': 7385, '▁임권택': 7386, '▁파라노말': 7387, '꺄': 7388, '넷': 7389, '웰': 7390, '▁주상욱': 7391, '▁더더욱': 7392, '▁홍금보': 7393, '▁2013': 7394, '▁ᄇᄉ': 7395, '▁타이틀': 7396, '▁멘탈': 7397, '▁태어난': 7398, '▁뛰쳐': 7399, '▁성유리': 7400, '▁거슬리': 7401, '▁The': 7402, '▁촌스럽지': 7403, '▁훈남': 7404, '낙': 7405, '긍': 7406, '궈': 7407, '샀': 7408, '펀': 7409, '人': 7410, '갇': 7411, '닦': 7412, '빚': 7413, '빤': 7414, '칫': 7415, '탠': 7416, '힛': 7417, '뎌': 7418, '췄': 7419, '퇴': 7420, '깎': 7421, '즌': 7422, 'ᅦ': 7423, '됌': 7424, '룸': 7425, '쉰': 7426, '쑤': 7427, '엌': 7428, '엣': 7429, '잎': 7430, '듀': 7431, '륵': 7432, '웬': 7433, '뿔': 7434, '낌': 7435, '봅': 7436, '깡': 7437, '됴': 7438, '뻘': 7439, '넋': 7440, '럿': 7441, 'q': 7442, '꾹': 7443, '꿨': 7444, '맷': 7445, '쿄': 7446, '흰': 7447, '낳': 7448, '젼': 7449, '。': 7450, '쏠': 7451, '겸': 7452, '뉘': 7453, '댐': 7454, '딕': 7455, '띵': 7456, '웩': 7457, '펄': 7458, '벙': 7459, '헝': 7460, '쌍': 7461, '깍': 7462, '넌': 7463, 'W': 7464, '뜩': 7465, '쵝': 7466, '펑': 7467, '짬': 7468, '밸': 7469, 'Z': 7470, '’': 7471, '둬': 7472, '륙': 7473, '샌': 7474, '쌩': 7475, '펴': 7476, '횽': 7477, '끗': 7478, '톨': 7479, '숫': 7480, '욜': 7481, '텀': 7482, '툰': 7483, '캬': 7484, '꽤': 7485, '꿔': 7486, '닙': 7487, '·': 7488, 'ᆞ': 7489, '룹': 7490, '슐': 7491, '쌤': 7492, '‘': 7493, '뇨': 7494, '뺀': 7495, '샷': 7496, '쫙': 7497, '쬐': 7498, '핏': 7499, '핳': 7500, '흙': 7501, '꽝': 7502, '줍': 7503, '댕': 7504, '췌': 7505, '칩': 7506, '햄': 7507, '떳': 7508, '끊': 7509, '뽑': 7510, '률': 7511, '맙': 7512, '돕': 7513, '쌀': 7514, '쌈': 7515, '엎': 7516, 'ᅭ': 7517, '묶': 7518, '뱉': 7519, '댈': 7520, '왼': 7521, '콕': 7522, '퀀': 7523, '젓': 7524, 'ᄑ': 7525, '밌': 7526, '짠': 7527, '닳': 7528, '탭': 7529, '퍽': 7530, '헷': 7531, '홉': 7532, '뒀': 7533, '딧': 7534, '붐': 7535, '옵': 7536, '죤': 7537, '샹': 7538, '욧': 7539, '햐': 7540, '썅': 7541, '눠': 7542, '젬': 7543, '캅': 7544, 'ᅣ': 7545, '\\\\': 7546, '甲': 7547, '꺅': 7548, '웁': 7549, '꽂': 7550, '쌔': 7551, '얌': 7552, '촉': 7553, '뺐': 7554, '쩡': 7555, '갤': 7556, '뤽': 7557, '뺴': 7558, '솟': 7559, '앳': 7560, '얕': 7561, '탔': 7562, '○': 7563, '깬': 7564, '냅': 7565, '섰': 7566, '엥': 7567, '팡': 7568, '찢': 7569, '륭': 7570, '됀': 7571, '롬': 7572, '쪄': 7573, '괘': 7574, '뮬': 7575, '씌': 7576, '쟝': 7577, '좁': 7578, '짚': 7579, '킷': 7580, '훅': 7581, '놉': 7582, '몹': 7583, '훨': 7584, '뭇': 7585, '캔': 7586, '굵': 7587, '꿋': 7588, '뎈': 7589, '乃': 7590, '굼': 7591, '늠': 7592, '떴': 7593, '낱': 7594, '씽': 7595, '[': 7596, '헬': 7597, '밭': 7598, '썽': 7599, '쵸': 7600, '♬': 7601, '뛴': 7602, '쨩': 7603, '윙': 7604, '맡': 7605, '녹': 7606, '찜': 7607, '겜': 7608, '뜰': 7609, '얔': 7610, '쑈': 7611, '짭': 7612, '쳇': 7613, '퀼': 7614, '팜': 7615, '핡': 7616, 'Q': 7617, '갸': 7618, '냉': 7619, '푹': 7620, '늑': 7621, '옜': 7622, '댜': 7623, '셸': 7624, '곸': 7625, '돠': 7626, '딥': 7627, '뚤': 7628, '빔': 7629, '싯': 7630, '욘': 7631, '덥': 7632, '밈': 7633, '윗': 7634, '힝': 7635, '펙': 7636, '횡': 7637, '無': 7638, '꾀': 7639, '땟': 7640, '룻': 7641, '샴': 7642, '쳣': 7643, '휼': 7644, '|': 7645, '뱃': 7646, 'ᅧ': 7647, '볍': 7648, '첼': 7649, '힙': 7650, '걔': 7651, '겔': 7652, '뵈': 7653, '빽': 7654, '쫑': 7655, '킁': 7656, '텨': 7657, '꿉': 7658, '뭍': 7659, '벡': 7660, '웡': 7661, '헛': 7662, '걱': 7663, '뭥': 7664, '핥': 7665, '꺾': 7666, '댔': 7667, '맬': 7668, '셰': 7669, '슥': 7670, '퀘': 7671, '훤': 7672, '→': 7673, '욯': 7674, '쪙': 7675, '캣': 7676, '쾅': 7677, '쿤': 7678, '텍': 7679, '곧': 7680, '촬': 7681, '뷁': 7682, '쒸': 7683, '”': 7684, '괸': 7685, '껑': 7686, '눅': 7687, '멧': 7688, '믓': 7689, '젝': 7690, '찼': 7691, '퉷': 7692, '폄': 7693, '풉': 7694, '“': 7695, '얍': 7696, '넝': 7697, '쨔': 7698, '쩐': 7699, '첸': 7700, '뇬': 7701, '뵙': 7702, '겅': 7703, '꼐': 7704, '뿍': 7705, '웹': 7706, '융': 7707, '잌': 7708, '좃': 7709, '챔': 7710, '칵': 7711, '$': 7712, '꿰': 7713, '잰': 7714, '뻗': 7715, '쏜': 7716, '졷': 7717, '땜': 7718, '넉': 7719, '됏': 7720, '숴': 7721, '욥': 7722, '읎': 7723, '잴': 7724, '퐁': 7725, '헿': 7726, '넥': 7727, '넴': 7728, '뿅': 7729, '샵': 7730, '쿼': 7731, '툴': 7732, '굽': 7733, '닛': 7734, '끽': 7735, '씹': 7736, '쒯': 7737, '냠': 7738, '앰': 7739, '넨': 7740, '랖': 7741, '뿡': 7742, '꿍': 7743, '벳': 7744, '흣': 7745, '♪': 7746, '컹': 7747, '낍': 7748, '꺠': 7749, '콱': 7750, '돔': 7751, '렜': 7752, '썹': 7753, '촤': 7754, '팟': 7755, '팰': 7756, '빰': 7757, '웽': 7758, '곀': 7759, '옛': 7760, '뒷': 7761, '컥': 7762, '갚': 7763, '쮸': 7764, '뎃': 7765, 'ᄈ': 7766, '냔': 7767, '댁': 7768, '뒈': 7769, '멱': 7770, '볶': 7771, '뽐': 7772, '죵': 7773, '줏': 7774, '쫘': 7775, '촐': 7776, '컵': 7777, 'ᆪ': 7778, '女': 7779, '괄': 7780, '깟': 7781, '꽈': 7782, '뤠': 7783, '뺑': 7784, '옌': 7785, '쨰': 7786, '찟': 7787, '캄': 7788, '死': 7789, 'ᄡ': 7790, '갘': 7791, '}': 7792, '作': 7793, '롸': 7794, '륨': 7795, '뮈': 7796, '쎈': 7797, '쥰': 7798, '펭': 7799, '휙': 7800, '떵': 7801, '짘': 7802, '캉': 7803, '햅': 7804, '딛': 7805, '잭': 7806, '뀌': 7807, '둡': 7808, '먀': 7809, '챦': 7810, '찹': 7811, '{': 7812, 'ᄄ': 7813, '넛': 7814, '숑': 7815, '읏': 7816, '쥴': 7817, '홬': 7818, '⌒': 7819, '궤': 7820, '뒹': 7821, '떙': 7822, '랗': 7823, '뭄': 7824, '읭': 7825, '챠': 7826, '녜': 7827, '섀': 7828, '잦': 7829, '밓': 7830, '킵': 7831, '、': 7832, '챘': 7833, '뀨': 7834, '랠': 7835, '앟': 7836, '팥': 7837, '갯': 7838, '멌': 7839, '옄': 7840, '캘': 7841, '콰': 7842, '퀵': 7843, '↑': 7844, '盧': 7845, '놧': 7846, '떔': 7847, '띨': 7848, '믈': 7849, '벵': 7850, '뺄': 7851, '숱': 7852, '쌌': 7853, '졍': 7854, '츰': 7855, '쿰': 7856, '팁': 7857, '─': 7858, '뤼': 7859, '왁': 7860, '롹': 7861, '☞': 7862, 'ン': 7863, '졉': 7864, '욀': 7865, '왘': 7866, '옅': 7867, '랔': 7868, '굶': 7869, '텼': 7870, '촛': 7871, '짴': 7872, '짰': 7873, '죨': 7874, '썪': 7875, '뉜': 7876, '궂': 7877, '괭': 7878, '윅': 7879, '쌉': 7880, '숟': 7881, '샛': 7882, '故': 7883, '훑': 7884, '헠': 7885, '햌': 7886, '츤': 7887, '읊': 7888, '앍': 7889, '쉼': 7890, '빴': 7891, '홥': 7892, '덱': 7893, '뀜': 7894, '닠': 7895, '냨': 7896, '깼': 7897, '휠': 7898, '큽': 7899, '좔': 7900, '̄': 7901, '헴': 7902, '촘': 7903, '쁩': 7904, '땔': 7905, '딪': 7906, '횟': 7907, '콥': 7908, '춥': 7909, '긁': 7910, '괞': 7911, '휩': 7912, '큘': 7913, '멎': 7914, '뀔': 7915, '쥔': 7916, '쟤': 7917, '샐': 7918, '릎': 7919, '쁠': 7920, '낰': 7921, '쉘': 7922, '낡': 7923, '꺽': 7924, '핍': 7925, '뤘': 7926, '쥑': 7927, '깽': 7928, '붓': 7929, '얹': 7930, '씻': 7931, '슌': 7932, '꼼': 7933, '펏': 7934, '꽥': 7935, '켠': 7936, '녔': 7937, '픕': 7938, '귓': 7939, '쫒': 7940, '뺨': 7941, '딨': 7942, '탤': 7943, '얽': 7944, '샬': 7945, '뀐': 7946, '꼇': 7947, '쨋': 7948, '뭡': 7949, '앓': 7950, '넓': 7951, '밟': 7952, '붉': 7953, '멤': 7954, '귄': 7955, '뻣': 7956, '꽉': 7957, '땠': 7958, '푼': 7959, '웍': 7960, '홧': 7961, '뿜': 7962, '틋': 7963, '맺': 7964, '쨌': 7965, '빕': 7966, '겪': 7967, '켰': 7968, '찔': 7969, '팠': 7970, '쫄': 7971, '띄': 7972, '텝': 7973, '틸': 7974, '렀': 7975, '콧': 7976, '껐': 7977, '쏟': 7978, '뻤': 7979, '슷': 7980, '왤': 7981, '듭': 7982, '섞': 7983, '톱': 7984, '튀': 7985, '펐': 7986, '겉': 7987, '쁨': 7988, '됩': 7989, '늦': 7990, '냈': 7991, '찝': 7992, '굉': 7993, '똑': 7994, '픽': 7995, '랐': 7996, '떻': 7997, '깊': 7998, '렸': 7999}\n",
            "\n",
            "교도소 이야기구먼 ..솔직히 재미는 없다..평점 조정\n",
            "[[   0    0    0    0    0    0    0   58  866    5   29 2015   63 1367]\n",
            " [1962   11  204  240 6560    3    5 5145 1167  117    5  668  293  129]]\n",
            "{0: '<unk>', 1: '<s>', 2: '</s>', 3: '▁', 4: '.', 5: '..', 6: '이', 7: '▁영화', 8: '...', 9: '가', 10: '의', 11: '도', 12: '는', 13: ',', 14: '을', 15: '에', 16: '고', 17: '다', 18: '은', 19: '지', 20: '?', 21: '한', 22: '▁너무', 23: '!', 24: '를', 25: '▁정말', 26: '만', 27: '▁이', 28: '로', 29: '▁진짜', 30: '나', 31: '게', 32: '영화', 33: '~', 34: '과', 35: '기', 36: '어', 37: '라', 38: '리', 39: '점', 40: '네', 41: '서', 42: '인', 43: '하고', 44: '아', 45: '▁안', 46: '으로', 47: '▁잘', 48: '!!', 49: '요', 50: '....', 51: '▁1', 52: '▁왜', 53: '에서', 54: '와', 55: '들', 56: '▁그', 57: '▁이런', 58: '▁아', 59: '▁더', 60: '▁다', 61: '해', 62: '▁수', 63: '네요', 64: '스', 65: '거', 66: '하는', 67: '자', 68: '▁그냥', 69: '▁본', 70: '▁드라마', 71: '음', 72: '면', 73: '▁10', 74: '수', 75: '하', 76: '시', 77: '지만', 78: '야', 79: '니', 80: '대', 81: '▁보고', 82: '함', 83: '▁평점', 84: '▁연기', 85: '사', 86: '▁내', 87: '▁한', 88: '하다', 89: '▁좀', 90: '일', 91: '하게', 92: '이다', 93: '▁영화를', 94: '▁봤는데', 95: '진', 96: '우', 97: '▁이거', 98: '▁ᄏᄏ', 99: '▁최고의', 100: '▁최고', 101: '데', 102: '여', 103: '드', 104: '▁참', 105: '▁쓰레기', 106: '주', 107: '▁없는', 108: '보다', 109: '미', 110: '▁못', 111: '구', 112: '는데', 113: '▁완전', 114: '임', 115: '안', 116: '▁내가', 117: '▁없다', 118: '!!!', 119: '냐', 120: 'ᄏᄏ', 121: '▁스토리', 122: '▁영화는', 123: '▁이건', 124: '할', 125: '보', 126: '▁2', 127: '▁영화가', 128: '▁개', 129: '정', 130: '듯', 131: '들이', 132: '▁나', 133: '성', 134: '▁이게', 135: '▁있는', 136: '▁좋은', 137: '신', 138: '상', 139: '▁다시', 140: '해서', 141: '▁이렇게', 142: '장', 143: '까지', 144: '던', 145: '적', 146: '▁보는', 147: '^^', 148: '부', 149: '마', 150: '▁난', 151: '▁것', 152: '▁평점이', 153: '치', 154: '~~', 155: '전', 156: '중', 157: '▁3', 158: '보고', 159: '▁재밌게', 160: 'ᄏ', 161: '개', 162: '건', 163: '려', 164: '트', 165: '랑', 166: '때', 167: '1', 168: '오', 169: '러', 170: '▁말', 171: '▁지', 172: '▁역시', 173: '질', 174: '화', 175: ';;', 176: '▁뭐', 177: '▁보', 178: '히', 179: '▁작품', 180: '▁많이', 181: '▁넘', 182: '▁볼', 183: '년', 184: '분', 185: '그', 186: '원', 187: '▁전', 188: '용', 189: '세', 190: '인데', 191: '비', 192: '▁오', 193: '??', 194: '내', 195: '2', 196: '▁또', 197: '▁저', 198: '적인', 199: '▁재미', 200: '▁하', 201: '▁감동', 202: '▁마지막', 203: '물', 204: '소', 205: '▁무', 206: '▁아깝다', 207: '▁꼭', 208: '했다', 209: '▁별로', 210: '▁하나', 211: '▁ᄏᄏᄏ', 212: '▁별', 213: '진짜', 214: '선', 215: '▁감독', 216: '같은', 217: '급', 218: '감', 219: '▁생각', 220: '것', 221: '▁액션', 222: '▁시간', 223: '식', 224: '하지', 225: '▁기대', 226: 'ᅲᅲ', 227: '라고', 228: '▁주', 229: '제', 230: '▁하는', 231: '습니다', 232: '말', 233: '▁가장', 234: '▁없고', 235: 'ᄏᄏᄏ', 236: '▁명작', 237: '동', 238: '본', 239: '▁사', 240: '▁이야기', 241: '무', 242: '▁그리고', 243: \"'\", 244: '입니다', 245: '▁지금', 246: '더', 247: '너무', 248: '걸', 249: '▁정', 250: '줄', 251: '어요', 252: '란', 253: '▁보면', 254: '▁김', 255: '편', 256: ';', 257: '▁무슨', 258: '호', 259: '드라마', 260: '▁사랑', 261: '영', 262: '▁ᅲᅲ', 263: '▁한국', 264: '좀', 265: '▁중', 266: '▁만든', 267: '▁아니', 268: '유', 269: '으면', 270: '군', 271: '▁마', 272: '씨', 273: '당', 274: '조', 275: '작', 276: '▁비', 277: '없는', 278: '디', 279: '▁다른', 280: '이나', 281: '긴', 282: '▁할', 283: '▁처음', 284: '부터', 285: '▁ᄏ', 286: '울', 287: '남', 288: 'ᅲ', 289: ')', 290: '▁어', 291: '▁배우', 292: '▁ᅳᅳ', 293: '▁조', 294: '된', 295: '▁말이', 296: '심', 297: '정말', 298: '린', 299: '3', 300: '▁대', 301: '▁자', 302: '에게', 303: '▁일본', 304: '모', 305: '연', 306: '▁와', 307: '▁느낌', 308: '워', 309: '▁좋아', 310: '▁연출', 311: '운', 312: '▁영화다', 313: '르', 314: '▁끝까지', 315: '▁짱', 316: '타', 317: '라는', 318: '생', 319: '▁기', 320: '▁일', 321: '▁미', 322: '바', 323: '있는', 324: '▁두', 325: '크', 326: '▁유', 327: '위', 328: '한다', 329: '두', 330: '▁돈', 331: '래', 332: '▁내용', 333: '▁좋다', 334: '간', 335: '명', 336: '레', 337: '준', 338: '노', 339: '▁있다', 340: '▁같은', 341: '▁봐도', 342: ',,', 343: 'ᅳᅳ', 344: '인지', 345: '인가', 346: '잘', 347: '살', 348: '▁거', 349: '류', 350: '▁알', 351: '▁솔직히', 352: '들의', 353: '▁봤다', 354: '▁ᄒᄒ', 355: '난', 356: '▁때', 357: '▁여자', 358: '▁뭔가', 359: '프', 360: '하나', 361: '길', 362: '판', 363: '경', 364: '단', 365: '▁재미있게', 366: '루', 367: '죠', 368: '▁애', 369: '▁재밌다', 370: '연기', 371: '▁신', 372: '▁시', 373: '민', 374: '▁이걸', 375: '▁코미디', 376: '▁해', 377: '▁아주', 378: '으', 379: '발', 380: '▁최악', 381: '▁구', 382: '번', 383: \"▁'\", 384: '하지만', 385: '저', 386: '합니다', 387: '▁소', 388: '처럼', 389: '▁제', 390: '▁같다', 391: '겨', 392: '재', 393: '때문에', 394: '봤는데', 395: '▁전혀', 396: '었다', 397: '▁이영화', 398: '▁장', 399: '▁하지만', 400: '되는', 401: '림', 402: '▁내용이', 403: '방', 404: '했던', 405: '▁후', 406: '▁남', 407: '엔', 408: '이랑', 409: '▁대한', 410: '▁계속', 411: '▁모두', 412: '날', 413: '▁최악의', 414: '-', 415: '티', 416: '▁사람', 417: '▁줄', 418: '님', 419: '▁재미없다', 420: '▁부', 421: '파', 422: '하면', 423: '▁스', 424: '하네', 425: '▁모', 426: '든', 427: '▁나오는', 428: '지는', 429: '(', 430: '▁4', 431: '희', 432: '▁많은', 433: '▁그래도', 434: '면서', 435: '▁아니라', 436: '▁반', 437: '▁대박', 438: '시간', 439: '터', 440: '며', 441: '▁강', 442: '▁만들어', 443: '▁보기', 444: '▁한번', 445: '▁우', 446: '▁어떻게', 447: '관', 448: '▁아닌', 449: '키', 450: '▁않고', 451: '▁내내', 452: '~~~', 453: '피', 454: '박', 455: '없다', 456: '까', 457: '▁7', 458: '▁배우들', 459: '▁딱', 460: '▁공포', 461: '▁되', 462: '점도', 463: '10', 464: '들은', 465: '▁장면', 466: '이라', 467: '버', 468: '▁만드는', 469: '▁연기가', 470: '▁우리', 471: '!!!!', 472: '▁실망', 473: '▁이제', 474: '▁인생', 475: '▁5', 476: '차', 477: '국', 478: '▁아름다운', 479: 'o', 480: '따', 481: '▁아니다', 482: '다니', 483: '▁추천', 484: '▁박', 485: '구나', 486: '4', 487: '겠다', 488: '▁모든', 489: '애', 490: '▁건', 491: '▁조금', 492: '▁8', 493: '▁제일', 494: '없이', 495: '카', 496: '점이', 497: '형', 498: 'ᄒᄒ', 499: '▁남자', 500: '실', 501: '▁듯', 502: '반', 503: '▁전개', 504: '▁연기도', 505: '▁끝', 506: '▁개봉', 507: '▁내용도', 508: '되', 509: '못', 510: '볼', 511: '▁스릴러', 512: '▁9', 513: '▁요즘', 514: '현', 515: '▁그런', 516: '▁굿', 517: '▁보다가', 518: '달', 519: '▁남는', 520: '즈', 521: '지도', 522: '▁보다', 523: '▁않는', 524: '▁불', 525: '보면', 526: '▁바', 527: '5', 528: '문', 529: '년대', 530: '▁근데', 531: '▁피', 532: '코', 533: '▁않은', 534: '▁기억', 535: '▁0', 536: '적으로', 537: '▁이해', 538: '▁시간이', 539: '다가', 540: '망', 541: '▁아까운', 542: '한테', 543: '▁애니', 544: '▁주인공', 545: '▁나는', 546: '▁음악', 547: '▁재미도', 548: '▁이상', 549: '♥', 550: '▁감독이', 551: '▁노', 552: 't', 553: '하네요', 554: '▁아직도', 555: '생각', 556: 'ᄒ', 557: '▁속', 558: '▁욕', 559: '▁수준', 560: '보는', 561: 'ᅳ', 562: '체', 563: '▁여운이', 564: '공', 565: '왜', 566: '\"', 567: '▁영화라고', 568: '▁반전', 569: '이라는', 570: '▁절대', 571: '니까', 572: '이란', 573: '▁눈', 574: '▁싶다', 575: '▁좋고', 576: '▁엄청', 577: '▁때문에', 578: '인듯', 579: '▁스토리가', 580: '▁울', 581: '▁날', 582: '▁나름', 583: '▁OO', 584: '어서', 585: '석', 586: '알', 587: '▁오랜만에', 588: '짱', 589: '산', 590: '▁걸', 591: '져', 592: '▁배', 593: '정도', 594: '▁영화입니다', 595: '▁있', 596: '▁되는', 597: '▁막장', 598: ';;;', 599: '▁현실', 600: '배', 601: '▁ᄏᄏᄏᄏ', 602: '???', 603: '▁봤', 604: 'e', 605: '▁멋진', 606: '▁원', 607: '▁공포영화', 608: '했는데', 609: '▁재', 610: '후', 611: '▁하고', 612: '▁아니고', 613: '테', 614: '▁제대로', 615: '였다', 616: '▁차라리', 617: '▁재밌어요', 618: '뿐', 619: '해요', 620: '▁봤습니다', 621: '매', 622: '▁진심', 623: '태', 624: '참', 625: '▁진', 626: '토', 627: '속', 628: '회', 629: '▁스토리도', 630: '▁주는', 631: '▁발', 632: '넘', 633: '▁봤던', 634: '이고', 635: '▁도대체', 636: '것도', 637: '▁뻔한', 638: '포', 639: '▁지루하고', 640: '▁캐릭터', 641: '7', 642: '▁영화의', 643: '▁연', 644: '▁좋았다', 645: '▁나오', 646: '▁지루한', 647: '▁나온', 648: '▁결말', 649: '스토리', 650: '▁감독의', 651: '▁만들', 652: '▁미국', 653: '양', 654: '▁제목', 655: '▁공감', 656: '극', 657: '▁공', 658: 'ᄏᄏᄏᄏ', 659: '/', 660: '▁파', 661: '▁시리즈', 662: '▁나도', 663: '8', 664: '▁영', 665: '▁좋아하는', 666: '던데', 667: '▁성', 668: '평점', 669: '배우', 670: '꺼', 671: '금', 672: '하기', 673: '▁재밌', 674: '▁재밌는', 675: '▁세', 676: '▁20', 677: '▁정도', 678: '▁연기력', 679: '▁우리나라', 680: '▁B', 681: '▁최고다', 682: '▁가슴', 683: '▁머', 684: '▁여', 685: '잼', 686: '▁대사', 687: '등', 688: '봤', 689: '▁보면서', 690: '점은', 691: '죽', 692: '감동', 693: '역', 694: '▁원작', 695: '▁ᅲ', 696: 'ᅮᅮ', 697: '▁동', 698: '▁^^', 699: '격', 700: '▁걍', 701: '력', 702: '사람', 703: '▁눈물', 704: '▁초', 705: '릴', 706: '더라', 707: '▁수작', 708: '6', 709: '려고', 710: '▁몇', 711: '▁긴장감', 712: '▁싶은', 713: '▁가족', 714: '▁표현', 715: '리는', 716: '쳐', 717: '▁없음', 718: '니다', 719: '▁않', 720: '▁기억에', 721: '▁심', 722: '법', 723: '▁인간', 724: '움', 725: '~!', 726: '절', 727: '▁영상', 728: '봤다', 729: '먹', 730: '▁보세요', 731: '▁마지막에', 732: '된다', 733: '▁재미가', 734: ',,,', 735: '는거', 736: '이라고', 737: '봄', 738: '▁지루함', 739: '▁쓰', 740: '▁배우들의', 741: '▁뭘', 742: '▁이해가', 743: '해도', 744: '▁시작', 745: '집', 746: '들을', 747: '녀', 748: '▁기분', 749: 'i', 750: '예', 751: '▁영화에', 752: '▁특히', 753: '▁코믹', 754: '▁OOO', 755: '▁막', 756: '▁6', 757: '▁괜찮은', 758: '▁사람들', 759: '을까', 760: '▁졸작', 761: '않', 762: '건지', 763: '▁될', 764: '▁허', 765: '밖에', 766: '▁보는내내', 767: '▁뭔', 768: '종', 769: '천', 770: '는게', 771: '▁후회', 772: '사랑', 773: '▁선', 774: '▁애니메이션', 775: '▁알바', 776: '그냥', 777: '구만', 778: 'd', 779: '행', 780: '▁지루하다', 781: '▁함께', 782: '능', 783: '악', 784: '▁재밋', 785: '최고', 786: '라도', 787: '▁\"', 788: '탄', 789: '▁예', 790: '▁맞', 791: '장면', 792: '근', 793: '았', 794: '강', 795: '▁극장에서', 796: '승', 797: '봐도', 798: '▁타', 799: '▁필요', 800: '설', 801: '▁베', 802: '이런', 803: '▁봤어요', 804: '김', 805: '감독', 806: '▁망', 807: '불', 808: '▁사실', 809: '▁오늘', 810: '케', 811: '너', 812: '▁소재', 813: '교', 814: '창', 815: '스트', 816: '만큼', 817: '▁노래', 818: '직', 819: '주는', 820: '중에', 821: '▁강추', 822: '대로', 823: '없', 824: '▁졸', 825: '뭐', 826: '었는데', 827: '머', 828: '학', 829: 'a', 830: '▁시나리오', 831: '▁된', 832: '▁호', 833: '▁매', 834: '▁어떤', 835: '▁그저', 836: '별', 837: '▁차', 838: '▁개인적으로', 839: '점대', 840: '통', 841: '난다', 842: '돈', 843: '▁없', 844: '글', 845: '▁못한', 846: '▁결국', 847: '투', 848: '▁큰', 849: '있다', 850: '▁영화로', 851: '른', 852: '담', 853: '▁만화', 854: '론', 855: '▁캐스팅', 856: '작품', 857: '▁들', 858: '거야', 859: '하면서', 860: '▁죽', 861: '좋', 862: '▁최', 863: '▁한국영화', 864: '▁상', 865: '레이', 866: '▁더빙', 867: '락', 868: '▁몰입도', 869: '▁봐야', 870: '재밌', 871: '▁인', 872: '계', 873: '▁억지', 874: '▁모르겠다', 875: '▁좋아요', 876: '▁살', 877: '돌', 878: '▁없이', 879: '▁제발', 880: '했음', 881: '▁웃', 882: 'ᅮ', 883: 's', 884: '이상', 885: '이네', 886: '는지', 887: '기도', 888: '맨', 889: '▁아무리', 890: '했', 891: '▁생각이', 892: '재미', 893: '▁연기는', 894: '평', 895: '아니', 896: '이야', 897: '잡', 898: 'g', 899: '버린', 900: '▁안되는', 901: '인줄', 902: '▁극', 903: '▁감동이', 904: '▁아이', 905: '▁재밌음', 906: '점을', 907: '▁분위기', 908: '열', 909: '초', 910: '▁매우', 911: '▁잼', 912: '권', 913: '▁행복', 914: '베', 915: '▁마음이', 916: '이네요', 917: '액션', 918: '▁총', 919: '업', 920: '봐', 921: '영화는', 922: '기는', 923: '▁별점', 924: '▁예술', 925: '▁ᅮᅮ', 926: '슨', 927: '▁준', 928: '입', 929: '▁않는다', 930: '름', 931: '갈', 932: '끼', 933: '▁보게', 934: '▁얼마나', 935: '▁물', 936: '슬', 937: '▁눈물이', 938: '보단', 939: '▁ᄒ', 940: '이지만', 941: '▁너무나', 942: '▁사람이', 943: '+', 944: '만들', 945: '▁기억이', 946: '▁걸작', 947: '▁영화중', 948: '▁존나', 949: '▁한다', 950: '▁영화네요', 951: '▁잠', 952: '군요', 953: '▁당', 954: '브', 955: '▁같이', 956: '▁보지', 957: '▁따라', 958: '하며', 959: '▁재밌고', 960: '▁하나도', 961: '났', 962: '병', 963: '▁높', 964: '▁않다', 965: '환', 966: '았다', 967: '▁있고', 968: '짐', 969: '▁길', 970: '▁위한', 971: '▁존', 972: '▁출연', 973: '뻔', 974: '▁미친', 975: '싶', 976: '▁그렇게', 977: '▁유치', 978: '이었다', 979: '▁가슴이', 980: '었던', 981: '▁것이', 982: '▁그만', 983: '씬', 984: '▁볼만한', 985: '▁치', 986: '▁로맨스', 987: '수가', 988: '치는', 989: '▁내용은', 990: '약', 991: '▁장난', 992: '▁느낌이', 993: '온', 994: '▁적', 995: '▁훨씬', 996: '▁입', 997: '▁-', 998: '나는', 999: '▁매력', 1000: '쓰레기', 1001: '▁약', 1002: '쓰', 1003: '께', 1004: '▁누가', 1005: '▁정신', 1006: '새', 1007: '블', 1008: '기에', 1009: '에도', 1010: '▁토', 1011: '칠', 1012: '▁쓰레기영화', 1013: '▁결말이', 1014: '▁없어', 1015: '외', 1016: '증', 1017: '▁알고', 1018: '될', 1019: '완전', 1020: '▁없었다', 1021: '▁그나마', 1022: '▁평', 1023: '라면', 1024: '▁대체', 1025: '▁엔딩', 1026: '▁애들', 1027: '느낌', 1028: '▁백', 1029: '올', 1030: '▁외', 1031: '▁갈수록', 1032: '>', 1033: '▁잔잔한', 1034: '언', 1035: '▁똥', 1036: '▁노잼', 1037: '▁재미있다', 1038: '▁단', 1039: '▁실', 1040: '▁웃음', 1041: '막', 1042: '▁있을', 1043: '▁마음', 1044: '▁웃기', 1045: '▁재미없음', 1046: '▁간만에', 1047: '▁어설픈', 1048: '▁카', 1049: '▁감', 1050: '건가', 1051: '색', 1052: '▁감동적인', 1053: '▁꽤', 1054: '나요', 1055: '해야', 1056: '▁영화관에서', 1057: '왕', 1058: '▁명', 1059: '▁허접', 1060: '▁주연', 1061: '내용', 1062: '짓', 1063: '▁다큐', 1064: '련', 1065: '재미있', 1066: '친', 1067: '▁지루', 1068: '어야', 1069: '▁경', 1070: '▁있었', 1071: '순', 1072: '▁밖에', 1073: '▁감동도', 1074: '기를', 1075: '빠', 1076: 'y', 1077: '▁발연기', 1078: '▁재미있는', 1079: '▁잡', 1080: '다고', 1081: '▁화', 1082: '이지', 1083: '보니', 1084: '▁위', 1085: '범', 1086: '▁생각보다', 1087: '었음', 1088: '▁성룡', 1089: '▁너', 1090: '거지', 1091: '소리', 1092: '▁구성', 1093: '짜', 1094: '▁중국', 1095: '▁음', 1096: '라서', 1097: '▁시즌', 1098: '수준', 1099: '백', 1100: '▁위해', 1101: '땜에', 1102: '▁설정', 1103: '나오는', 1104: '9', 1105: '잇', 1106: '▁아쉽다', 1107: '▁전쟁', 1108: '년이', 1109: '0', 1110: '편이', 1111: '여자', 1112: '▁이딴', 1113: '▁안되', 1114: '▁올', 1115: '훈', 1116: '하는데', 1117: '▁그래서', 1118: '▁보여주는', 1119: '▁많', 1120: '있', 1121: '션', 1122: '▁의미', 1123: '였', 1124: '▁추', 1125: '▁야', 1126: '존', 1127: '▁열', 1128: '었', 1129: '됨', 1130: '좋아', 1131: '결', 1132: '듯한', 1133: '향', 1134: '이건', 1135: '▁변', 1136: '▁좋', 1137: '합', 1138: '진다', 1139: '▁오래', 1140: '▁점수', 1141: '표', 1142: '광', 1143: '치고', 1144: '▁아무', 1145: '이거', 1146: '줘', 1147: '▁문제', 1148: '▁같', 1149: '▁맘에', 1150: '리고', 1151: '▁당시', 1152: '????', 1153: '▁연기를', 1154: '▁재미없', 1155: '했지만', 1156: 'h', 1157: '메', 1158: '▁약간', 1159: '▁모습', 1160: '▁관객', 1161: '주의', 1162: '받', 1163: '었어요', 1164: '▁스릴', 1165: '▁같아요', 1166: '월', 1167: '▁재미는', 1168: 'D', 1169: '▁다음', 1170: '▁뿐', 1171: '▁싶', 1172: '놈', 1173: '▁봐', 1174: '▁힘들', 1175: '▁번', 1176: '▁코', 1177: '느', 1178: '▁첨', 1179: '욕', 1180: '추', 1181: '▁나왔', 1182: '영화가', 1183: '▁영상미', 1184: '▁작가', 1185: '▁재미없는', 1186: '~!!', 1187: '출', 1188: '▁진정한', 1189: '▁네이버', 1190: '린다', 1191: 'r', 1192: '할수', 1193: '▁재밌네요', 1194: '▁영화였다', 1195: '처', 1196: 'p', 1197: '▁CG', 1198: '▁들어', 1199: '▁뭐야', 1200: '▁30', 1201: '할때', 1202: '맞', 1203: '▁좋은데', 1204: '▁힘', 1205: '▁언제', 1206: '▁전부', 1207: '채', 1208: '각', 1209: '커', 1210: '스러운', 1211: '▁엄마', 1212: '▁어느', 1213: '▁멜로', 1214: '더니', 1215: '▁만들었', 1216: '있고', 1217: '또', 1218: '▁평가', 1219: '적이', 1220: '▁종', 1221: '▁바로', 1222: '▁꿀잼', 1223: '▁중간에', 1224: '▁다들', 1225: '▁스토리는', 1226: '▁글', 1227: '▁감성', 1228: '▁아님', 1229: '▁자체', 1230: '끝', 1231: '같', 1232: '▁생각하게', 1233: '이야기', 1234: '기대', 1235: '길래', 1236: '졌', 1237: '_', 1238: '▁준다', 1239: '겠지', 1240: 'b', 1241: '기만', 1242: '척', 1243: '▁tv', 1244: '▁버', 1245: '플', 1246: '퍼', 1247: '나오', 1248: '▁제작', 1249: '▁높은', 1250: '▁감동을', 1251: '▁갈', 1252: '록', 1253: '▁얘기', 1254: '다는', 1255: '▁주고', 1256: '▁잼있', 1257: '▁판타지', 1258: '▁천', 1259: '없고', 1260: '▁간', 1261: '편은', 1262: '놓고', 1263: '~~~~', 1264: '▁메', 1265: '▁아이들', 1266: '▁여주인공', 1267: '▁배우들이', 1268: '▁상당히', 1269: '해라', 1270: '영화를', 1271: '▁나와서', 1272: '▁ᅳ', 1273: '▁손', 1274: '▁생각을', 1275: '▁나올', 1276: '으나', 1277: '▁있을까', 1278: '그리고', 1279: '▁찾아', 1280: 'u', 1281: '▁이영화를', 1282: '▁드', 1283: '세요', 1284: '▁비교', 1285: '▁봤지만', 1286: '▁몰입', 1287: '▁게', 1288: '▁얼굴', 1289: 'ᄋ', 1290: '혜', 1291: '▁줄거리', 1292: '▁재미있어요', 1293: '▁뭐지', 1294: '▁딸', 1295: '▁존재', 1296: '▁각본', 1297: '▁악', 1298: '▁여기', 1299: '눈', 1300: '▁편', 1301: '▁영화인데', 1302: '▁봐서', 1303: '▁담', 1304: '라니', 1305: '▁재미있', 1306: '▁영화임', 1307: '잖아', 1308: '▁깨', 1309: '▁포스터', 1310: '▁혼자', 1311: '이라도', 1312: '♡', 1313: '였음', 1314: '▁초딩', 1315: '▁산', 1316: '▁따', 1317: '빈', 1318: '▁데', 1319: '들어', 1320: '탈', 1321: '습', 1322: '▁그대로', 1323: '▁비해', 1324: '▁대해', 1325: '▁추억', 1326: '▁않았', 1327: '▁거의', 1328: '덕', 1329: '▁그러', 1330: '▁이런영화', 1331: '▁끝나', 1332: '▁마음에', 1333: '▁충격', 1334: '▁비디오', 1335: '없음', 1336: '햇', 1337: 'k', 1338: '▁된다', 1339: '▁감정', 1340: '▁친구', 1341: 'c', 1342: '해지는', 1343: '▁어디서', 1344: '복', 1345: '-_-', 1346: '▁소리', 1347: '▁옛날', 1348: '슴', 1349: 'OO', 1350: '청', 1351: '봐서', 1352: '▁것을', 1353: '▁저런', 1354: '숙', 1355: '▁먹', 1356: '▁꿈', 1357: '▁그리', 1358: '▁포', 1359: '▁상황', 1360: '▁봤음', 1361: '▁어릴때', 1362: '▁TV', 1363: '재밋', 1364: '▁90', 1365: '▁어디', 1366: '튼', 1367: '▁목소리', 1368: '▁암', 1369: '▁뭐냐', 1370: '▁나의', 1371: '▁숨', 1372: '▁살아', 1373: '▁질', 1374: '▁부족', 1375: '낸', 1376: '만한', 1377: 'm', 1378: '년전', 1379: '▁대단한', 1380: '▁아직', 1381: '▁몸', 1382: '▁절', 1383: '▁너무너무', 1384: '웃', 1385: '▁훌륭한', 1386: '▁사람들이', 1387: '▁영화도', 1388: '모르', 1389: '한거', 1390: '귀', 1391: '▁굉장히', 1392: '▁볼만', 1393: '시대', 1394: '▁더럽게', 1395: 'l', 1396: '했어요', 1397: '▁평점을', 1398: '▁나이', 1399: '▁궁금', 1400: '▁이름', 1401: '찍', 1402: '▁삼', 1403: '▁크', 1404: '먼', 1405: '겠', 1406: '▁같은데', 1407: '▁자기', 1408: '료', 1409: '▁패', 1410: '▁놀', 1411: '▁감독님', 1412: '▁봐라', 1413: '▁좋네요', 1414: '▁다시봐도', 1415: '▁사회', 1416: '▁말도', 1417: '▁머리', 1418: '▁극장판', 1419: '▁했는데', 1420: '앗', 1421: '엇', 1422: '독', 1423: '▁좋은영화', 1424: '▁아까움', 1425: ':', 1426: '▁뭐가', 1427: '다시', 1428: '것이', 1429: '겠지만', 1430: '▁생', 1431: '▁장르', 1432: '보기', 1433: '남자', 1434: '간다', 1435: '▁분', 1436: '혀', 1437: '▁처음부터', 1438: '씩', 1439: 'f', 1440: '▁레', 1441: '▁주제', 1442: '에는', 1443: '▁요', 1444: '▁짜증', 1445: '▁만', 1446: '는건', 1447: '구요', 1448: 'ᄉ', 1449: '같이', 1450: '▁흥행', 1451: '▁역사', 1452: '▁집중', 1453: '▁팬', 1454: '에선', 1455: '겟', 1456: '목', 1457: '대박', 1458: '▁보니', 1459: '분들', 1460: '▁원작을', 1461: '▁항상', 1462: '▁돌아', 1463: '잔', 1464: '▁배경', 1465: '▁헐', 1466: '▁ᄍᄍ', 1467: '▁제가', 1468: '▁b', 1469: '▁첫', 1470: '▁화면', 1471: '쯤', 1472: '▁낫다', 1473: '별로', 1474: '▁새로운', 1475: '이라니', 1476: '▁봄', 1477: '땐', 1478: '▁있지만', 1479: '지루', 1480: '건데', 1481: '침', 1482: '▁여배우', 1483: '하시', 1484: '▁따뜻한', 1485: '▁장면이', 1486: '▁감동적이', 1487: '조차', 1488: '▁안된다', 1489: '였는데', 1490: '▁슬픈', 1491: '▁빨리', 1492: '▁했다', 1493: '▁생각해', 1494: '▁것도', 1495: '링', 1496: '▁그런지', 1497: '패', 1498: '▁있어', 1499: '이라면', 1500: '근데', 1501: '▁현', 1502: '▁대단', 1503: '곡', 1504: '▁누구', 1505: '술', 1506: '좋은', 1507: '거리', 1508: '정도로', 1509: '▁예상', 1510: '효', 1511: '아서', 1512: '써', 1513: '▁정도로', 1514: '스럽다', 1515: '▁없네', 1516: '들도', 1517: '▁작', 1518: '▁(', 1519: '▁순', 1520: '▁빠져', 1521: '을때', 1522: '벌', 1523: '▁아버지', 1524: '츠', 1525: '거냐', 1526: '셨', 1527: '억', 1528: '▁하지', 1529: '▁좋겠다', 1530: '마지막', 1531: '▁통', 1532: '▁연출력', 1533: '▁재밌었다', 1534: '▁초반', 1535: '익', 1536: '▁세계', 1537: '▁가는', 1538: '지금', 1539: '▁돌', 1540: '고싶다', 1541: '▁앞', 1542: '▁그닥', 1543: '▁어린', 1544: '런', 1545: '^', 1546: '념', 1547: '페', 1548: '만든', 1549: '▁삼류', 1550: '▁충분히', 1551: '듣', 1552: '기가', 1553: '▁태', 1554: '▁두번', 1555: '▁이것도', 1556: '▁그러나', 1557: '▁계', 1558: '▁없을', 1559: '품', 1560: '▁새', 1561: '▁윤', 1562: '▁잘못', 1563: '듬', 1564: '들에게', 1565: '명작', 1566: '같다', 1567: '거다', 1568: '여서', 1569: '립', 1570: '다면', 1571: '▁100', 1572: '▁양', 1573: '시리즈', 1574: '렸다', 1575: '본다', 1576: '징', 1577: '껏', 1578: '▁낮', 1579: '한데', 1580: '내가', 1581: '▁교훈', 1582: '굿', 1583: '▁하다', 1584: '영화중', 1585: '▁흥미진진', 1586: '▁왕', 1587: '▁있어서', 1588: '▁관', 1589: '▁의도', 1590: '찬', 1591: '▁예전에', 1592: '▁재밌는데', 1593: '▁엄청난', 1594: '▁점점', 1595: '▁M', 1596: '▁성우', 1597: '▁낮은', 1598: '배우들', 1599: '그런', 1600: '▁뒤', 1601: '처음', 1602: '▁실화', 1603: '▁영화라', 1604: '했습니다', 1605: '▁지루해', 1606: '................', 1607: '▁돈주고', 1608: '▁되어', 1609: '곳', 1610: '▁달', 1611: '스럽', 1612: '▁못하는', 1613: '삼', 1614: '전개', 1615: '▁좋았어요', 1616: '▁없어서', 1617: '팬', 1618: '▁만족', 1619: '▁흠', 1620: '주세요', 1621: '사람들', 1622: '졌다', 1623: '한영화', 1624: '▁이영화는', 1625: '▁바라', 1626: '필', 1627: '하냐', 1628: '▁병맛', 1629: '▁찍', 1630: '보다는', 1631: '▁한마디로', 1632: '▁어렸을때', 1633: '하여', 1634: '만으로도', 1635: '▁좋음', 1636: '▁유치한', 1637: '괴', 1638: '것같다', 1639: '▁힘든', 1640: '것을', 1641: '허', 1642: '리가', 1643: '년에', 1644: '▁완벽한', 1645: '윤', 1646: '▁있었다', 1647: '시키', 1648: '▁뻔', 1649: '▁그래픽', 1650: '센', 1651: '▁괜찮', 1652: '▁자체가', 1653: '▁나와', 1654: '나서', 1655: '렌', 1656: '▁휴', 1657: '▁시절', 1658: '염', 1659: '▁지금까지', 1660: '▁영화보다', 1661: '나라', 1662: '▁나온다', 1663: '곤', 1664: '적이고', 1665: '틀', 1666: '년도', 1667: '▁봤네요', 1668: '철', 1669: '을듯', 1670: '답', 1671: '▁저는', 1672: '▁극장', 1673: '▁유머', 1674: '▁웃긴', 1675: '이에요', 1676: '▁쳐', 1677: '묘', 1678: '▁내인생', 1679: '▁사람은', 1680: '▁선택', 1681: '▁일본영화', 1682: '▁여주', 1683: '▁바보', 1684: '▁모르고', 1685: '▁아쉬운', 1686: '▁갑자기', 1687: '▁재미있고', 1688: '이냐', 1689: '▁디', 1690: '에요', 1691: '실망', 1692: '▁시대', 1693: '▁예고편', 1694: '였던', 1695: '▁써', 1696: '▁대작', 1697: '▁믿', 1698: '최고의', 1699: '▁자꾸', 1700: '▁설', 1701: '흑', 1702: '▁도저히', 1703: '▁평점에', 1704: '함이', 1705: '▁볼수', 1706: '많', 1707: '변', 1708: '▁알았', 1709: '놈들', 1710: '▁무서운', 1711: '▁믿고', 1712: '▁망작', 1713: '▁으', 1714: '▁반전이', 1715: '▁더욱', 1716: '으니', 1717: '쉬', 1718: '▁알았다', 1719: '▁보여주', 1720: '▁재미없어', 1721: '규', 1722: '▁역', 1723: '한번', 1724: '▁아쉽', 1725: '▁보는데', 1726: '도록', 1727: '▁이정도', 1728: '성이', 1729: '하니', 1730: '봐라', 1731: '킹', 1732: '▁무조건', 1733: '▁만들지', 1734: '예요', 1735: '▁터', 1736: '되어', 1737: '야지', 1738: '▁평점은', 1739: '아깝다', 1740: '▁불륜', 1741: '▁찾', 1742: '▁감독은', 1743: '▁80', 1744: '▁진실', 1745: '▁스타일', 1746: '▁귀', 1747: '싸', 1748: '많이', 1749: '▁어색', 1750: '▁나쁜', 1751: '걸까', 1752: '얼', 1753: '▁우연히', 1754: '▁맛', 1755: '연출', 1756: '겁', 1757: '추천', 1758: '거나', 1759: '십', 1760: '▁리메이크', 1761: '꼭', 1762: '▁해도', 1763: '재밌게', 1764: '▁재미없고', 1765: '▁사랑을', 1766: '음악', 1767: '▁댓글', 1768: '▁문', 1769: '어도', 1770: '▁알게', 1771: '--', 1772: '▁주인공이', 1773: '▁안보', 1774: '일까', 1775: '보다가', 1776: '▁책', 1777: '갑', 1778: '▁전형적인', 1779: '▁그때', 1780: '노잼', 1781: '재미없', 1782: '오는', 1783: '▁했', 1784: '▁SF', 1785: '▁원래', 1786: '특', 1787: '하던', 1788: '▁없었', 1789: '▁개연성', 1790: '주인공', 1791: '▁짜', 1792: '밀', 1793: '힌', 1794: '점준다', 1795: '아이', 1796: '견', 1797: '▁이상한', 1798: '맛', 1799: '▁느', 1800: '풍', 1801: '▁ᄒᄒᄒ', 1802: '▁등', 1803: '되고', 1804: '▁싸', 1805: '역시', 1806: '▁순간', 1807: '▁킬링타임용', 1808: '완', 1809: '▁기대하고', 1810: '▁좀비', 1811: '▁지루하', 1812: '▁천재', 1813: '▁허무', 1814: '휴', 1815: '▁가지고', 1816: '반전', 1817: '네여', 1818: '▁액션영화', 1819: '▁부족한', 1820: '▁프랑스', 1821: '▁느끼게', 1822: '▁아닌가', 1823: 'x', 1824: '▁전기세', 1825: '▁아이들이', 1826: '봐야', 1827: '▁저질', 1828: '▁느끼', 1829: '▁만점', 1830: '▁소설', 1831: '▁전작', 1832: '낮', 1833: '끔', 1834: '▁신기', 1835: '축', 1836: '▁집', 1837: '▁투', 1838: '▁참고', 1839: '하긴', 1840: '이게', 1841: '▁대한민국', 1842: '도없고', 1843: '놓', 1844: '▁액션도', 1845: 'n', 1846: '▁일단', 1847: '였습니다', 1848: '*', 1849: '▁상상', 1850: '육', 1851: '싱', 1852: '▁괜히', 1853: '자들', 1854: '▁돈이', 1855: '보는데', 1856: '▁먹먹', 1857: '▁이런거', 1858: '▁속편', 1859: '함을', 1860: '▁세상', 1861: '▁없네요', 1862: '▁청춘', 1863: '▁대단하다', 1864: '꼬', 1865: '▁노력', 1866: '▁티', 1867: '점짜리', 1868: '▁작품성', 1869: '▁해서', 1870: '▁개그', 1871: '▁여운', 1872: '놀', 1873: '▁왜이리', 1874: '▁마무리', 1875: '▁느낄', 1876: '엉', 1877: '▁모르는', 1878: '▁화이팅', 1879: '▁아무것도', 1880: '딱', 1881: '줬', 1882: '~^^', 1883: 'E', 1884: 'ᅲᅲᅲ', 1885: '▁완성도', 1886: '▁코메디', 1887: '▁이런걸', 1888: '▁감상', 1889: '좋다', 1890: '▁죽음', 1891: '▁귀신', 1892: '▁후반부', 1893: '▁유치하고', 1894: '킬', 1895: '▁끝내', 1896: '▁아까워', 1897: '▁영화였습니다', 1898: '시절', 1899: '▁있음', 1900: '▁지루하지', 1901: '▁안나오', 1902: '인거', 1903: '졸', 1904: '▁것은', 1905: '됐', 1906: '▁만나', 1907: '▁전개가', 1908: '려서', 1909: '영화다', 1910: '▁있는데', 1911: '▁억지로', 1912: '옥', 1913: '럽', 1914: '@', 1915: '▁리', 1916: '▁재밌었어요', 1917: '▁가치', 1918: '부분', 1919: '▁이리', 1920: '▁미화', 1921: '▁않을', 1922: '▁언', 1923: '▁ost', 1924: '▁아오', 1925: '▁화려한', 1926: '랄', 1927: '▁알았는데', 1928: '▁처음으로', 1929: '▁성장', 1930: '▁사람들은', 1931: '▁재밌어', 1932: '▁나만', 1933: '▁골', 1934: '▁티비', 1935: '▁리얼', 1936: '▁그것', 1937: '그래도', 1938: '드는', 1939: '을텐데', 1940: '▁명작이다', 1941: '▁금', 1942: '▁이유', 1943: ';;;;', 1944: '애니', 1945: '▁매력적인', 1946: '▁나에게', 1947: '▁연출이', 1948: '▁지금도', 1949: '것이다', 1950: '▁자연', 1951: '▁상영', 1952: '▁로맨틱', 1953: '들과', 1954: '▁둘', 1955: '▁인간의', 1956: '마저', 1957: '▁아들', 1958: '랬', 1959: '▁s', 1960: '▁끌', 1961: '취', 1962: '▁교', 1963: '▁우울', 1964: '▁진부한', 1965: '▁까', 1966: '지고', 1967: '황', 1968: '하세요', 1969: '봣', 1970: '▁엉성', 1971: '▁됐', 1972: '애들', 1973: '▁귀여운', 1974: '▁설명', 1975: '▁그랬', 1976: '▁수준이', 1977: '냥', 1978: '하는거', 1979: '▁온', 1980: '▁잘만든', 1981: '최', 1982: '▁흐', 1983: '셔', 1984: '릭', 1985: '감이', 1986: '▁편집', 1987: '최악', 1988: '말이', 1989: '▁이야기를', 1990: '▁불편', 1991: '났다', 1992: '속에', 1993: '널', 1994: '코미디', 1995: '강추', 1996: '▁니', 1997: '왔', 1998: '▁그게', 1999: '▁상상력', 2000: '▁작품이', 2001: '리스', 2002: '▁중에', 2003: '▁이후', 2004: '▁이쁘', 2005: '웠', 2006: '▁좋았습니다', 2007: '겠네', 2008: '▁시간낭비', 2009: '전에', 2010: '는걸', 2011: '▁아빠', 2012: '결말', 2013: '▁허접한', 2014: '▁영화중에', 2015: '▁짜증나', 2016: '▁느껴', 2017: '▁맥', 2018: '시켜', 2019: '▁그래', 2020: '안되', 2021: '▁왠지', 2022: '▁ᄏᄏᄏᄏᄏ', 2023: '▁졸라', 2024: '▁목', 2025: '벨', 2026: '▁방송', 2027: '▁독', 2028: '▁쓴', 2029: '혹', 2030: '됬', 2031: '때마다', 2032: '&', 2033: '▁밑에', 2034: '▁괴', 2035: '▁이미', 2036: '하자', 2037: '흐', 2038: '▁흥미', 2039: 'ᅲᅲᅲᅲ', 2040: '▁유쾌한', 2041: '로운', 2042: '했고', 2043: '필요', 2044: '▁슬', 2045: '▁비슷한', 2046: '쩔', 2047: '▁복수', 2048: '▁이번', 2049: '▁좋았음', 2050: '로서', 2051: '▁훨', 2052: '가서', 2053: ',,,,', 2054: '▁최악이다', 2055: '▁보고나서', 2056: '▁영웅', 2057: '▁별루', 2058: '▁키', 2059: '스타', 2060: '▁저도', 2061: '▁깊은', 2062: '가지', 2063: '인이', 2064: '▁수가', 2065: '픈', 2066: '▁처', 2067: '▁만들었다', 2068: '자가', 2069: '령', 2070: '▁감동적이고', 2071: '▁겁나', 2072: 'T', 2073: '▁여성', 2074: '▁왜이렇게', 2075: '뒤', 2076: '▁중반', 2077: '지않는', 2078: '다운', 2079: '인간', 2080: '알바', 2081: '▁잘봤습니다', 2082: '▁질질', 2083: '에겐', 2084: '▁소재는', 2085: '▁바람', 2086: '였어요', 2087: '지않은', 2088: '했으면', 2089: '짝', 2090: '잉', 2091: '▁진행', 2092: '▁방', 2093: '▁합니다', 2094: '▁과거', 2095: '엿', 2096: '▁인정', 2097: '해주는', 2098: '▁-_-', 2099: '▁형', 2100: '동안', 2101: '그러', 2102: '벽', 2103: '준다', 2104: '▁전편', 2105: '▁지금봐도', 2106: '▁어이없', 2107: '뜨', 2108: '▁살인', 2109: '▁감사', 2110: '가족', 2111: '닥', 2112: '▁이런게', 2113: '▁게임', 2114: '▁앞으로', 2115: '▁완벽', 2116: '▁명작이', 2117: '봉', 2118: '▁배우가', 2119: '▁뭔지', 2120: '▁자유', 2121: '빨', 2122: '수록', 2123: '▁창', 2124: '춘', 2125: '▁늘', 2126: '닝', 2127: '마다', 2128: '▁느껴지는', 2129: '▁지나', 2130: '▁C', 2131: '▁결혼', 2132: '족', 2133: '▁클', 2134: '▁깊이', 2135: '▁출', 2136: '▁해주는', 2137: '▁잔인하', 2138: '보세요', 2139: '멋', 2140: '▁그림', 2141: '는것', 2142: '▁것이다', 2143: '▁낭비', 2144: '활', 2145: '풀', 2146: '봤음', 2147: '스런', 2148: '▁않았다', 2149: '▁촬영', 2150: '쁘', 2151: '▁비슷', 2152: '▁노출', 2153: '놓은', 2154: '앙', 2155: '▁신선', 2156: '▁관람', 2157: '▁아름답다', 2158: '▁평론가', 2159: '▁않음', 2160: '▁마음을', 2161: '▁분명', 2162: '▁역대', 2163: '▁아놔', 2164: '▁이러', 2165: '르는', 2166: '송', 2167: 'or', 2168: 'w', 2169: '욱', 2170: '▁메세지', 2171: '▁만드', 2172: '▁생각나', 2173: '▁씨', 2174: '▁같네요', 2175: '▁인상', 2176: '▁아니지만', 2177: '▁이어', 2178: '롭', 2179: '눈물', 2180: '▁한계', 2181: '이제', 2182: '▁각', 2183: '▁답', 2184: '만으로', 2185: '▁어찌', 2186: '▁긴', 2187: '▁임', 2188: '▁좋았는데', 2189: 'ᄒᄒᄒ', 2190: '▁특유의', 2191: '▁말고', 2192: '▁보여준', 2193: '책', 2194: '▁똑같', 2195: '버리', 2196: '▁보지마세요', 2197: '킨', 2198: '▁맞는', 2199: '▁떠', 2200: '작가', 2201: '▁사랑이', 2202: '▁감사합니다', 2203: '▁동화', 2204: '▁유쾌', 2205: '갔', 2206: '▁19', 2207: '▁인물', 2208: '나옴', 2209: '▁급', 2210: '▁입니다', 2211: '▁스토리에', 2212: '팔', 2213: '▁갑', 2214: 'ᄂ', 2215: '▁모습이', 2216: '▁good', 2217: '▁요소', 2218: '었으면', 2219: '//', 2220: '버렸다', 2221: '소재', 2222: '없어', 2223: '▁이야기가', 2224: '▁소름', 2225: '▁광', 2226: '든다', 2227: '암', 2228: '▁액션이', 2229: '▁이영화가', 2230: '▁먼저', 2231: '▁넘어', 2232: '▁해준', 2233: '▁확', 2234: '이면', 2235: '▁어릴적', 2236: '▁아름답고', 2237: '누', 2238: '▁보고싶다', 2239: '흡', 2240: '▁슬프', 2241: '홍', 2242: '▁분들', 2243: '▁현재', 2244: '▁빠지', 2245: '려는', 2246: '▁빈', 2247: '보면서', 2248: '▁떠나', 2249: '었습니다', 2250: '▁듯한', 2251: '득', 2252: '▁취향', 2253: '▁멋있', 2254: '들아', 2255: '▁성공', 2256: '▁그녀', 2257: '▁매력이', 2258: '▁장면은', 2259: '▁법', 2260: '시간이', 2261: '▁성인', 2262: '거임', 2263: '사람이', 2264: '거같다', 2265: 'S', 2266: '▁지난', 2267: '▁표정', 2268: '▁하면', 2269: '▁너무나도', 2270: '▁여전히', 2271: '▁몰', 2272: '웃음', 2273: '아닌', 2274: '▁심심', 2275: '▁어색한', 2276: '▁꼬', 2277: '▁눈을', 2278: '있게', 2279: '팅', 2280: '량', 2281: '골', 2282: '▁스케일', 2283: '쪽', 2284: '▁좋았고', 2285: '▁저예산', 2286: '무슨', 2287: '재미없다', 2288: '▁본다', 2289: '▁슬프다', 2290: '▁있었던', 2291: '▁권', 2292: '▁범죄', 2293: '▁귀엽고', 2294: '▁시청률', 2295: '▁짱짱', 2296: '떡', 2297: '껄', 2298: '▁받아', 2299: '만들어', 2300: '▁젤', 2301: '▁보고싶', 2302: '▁황당', 2303: '▁있다는', 2304: 'v', 2305: '▁남주', 2306: '으며', 2307: '쩌', 2308: '▁독특한', 2309: '▁커', 2310: '분이', 2311: '되지', 2312: '한듯', 2313: '했어', 2314: '▁봤었는데', 2315: '▁비추', 2316: '▁일상', 2317: '롱', 2318: '일뿐', 2319: '▁OST', 2320: '모습', 2321: '▁몰랐', 2322: '▁등장', 2323: '▁복', 2324: '던가', 2325: '▁어이없는', 2326: '텐데', 2327: '▁나라', 2328: '▁삶', 2329: '짜리', 2330: '몽', 2331: '압', 2332: '깔', 2333: '▁전체적으로', 2334: '손', 2335: '▁신선한', 2336: '▁남는다', 2337: '언니', 2338: '▁이젠', 2339: '줌', 2340: '▁단순', 2341: '스가', 2342: '▁알아', 2343: '친구', 2344: '유치', 2345: '▁식상', 2346: '쿠', 2347: '▁싫어', 2348: '확', 2349: '떨어', 2350: '▁프로', 2351: '▁처음이다', 2352: '마음', 2353: '▁친', 2354: '▁싶어', 2355: '턴', 2356: 'P', 2357: '성을', 2358: '폭', 2359: '▁알바들', 2360: '▁확실히', 2361: '찌', 2362: '충', 2363: 'ᄍᄍ', 2364: '▁좋았', 2365: '▁세상에', 2366: '▁재밌습니다', 2367: '%', 2368: '▁사이', 2369: '▁어쩌', 2370: '▁트', 2371: '▁그렇고', 2372: '이렇게', 2373: '▁예쁜', 2374: '▁무섭', 2375: '클', 2376: '▁밀', 2377: '▁나를', 2378: '▁한편', 2379: '▁눈이', 2380: '▁얼', 2381: '오빠', 2382: '▁잼있게', 2383: '▁당신', 2384: '람', 2385: '▁마라', 2386: '▁받', 2387: '웃겼', 2388: '▁ᄉᄇ', 2389: '▁기대를', 2390: '▁후반', 2391: '영상', 2392: '▁보는게', 2393: '끼리', 2394: '▁모르겠', 2395: '▁감탄', 2396: '▁15', 2397: '지마라', 2398: '▁정치', 2399: '▁돋보', 2400: '▁해야', 2401: '▁애들이', 2402: '점주는', 2403: '▁잊혀지지', 2404: '▁관심', 2405: '▁ᅮ', 2406: '주고', 2407: '▁미치', 2408: '▁돌려', 2409: '응', 2410: '▁이것', 2411: '▁웃겨', 2412: '▁되었', 2413: '▁cg', 2414: '나온', 2415: '▁섹시', 2416: '▁답답', 2417: '몰', 2418: '▁아깝', 2419: '▁재밌었는데', 2420: 'ᄃ', 2421: '다른', 2422: '▁호러', 2423: '촌', 2424: '▁않아', 2425: '▁전달', 2426: '▁나왔으면', 2427: '▁필요없는', 2428: '코드', 2429: '것들', 2430: '▁여자들', 2431: '했을', 2432: '▁와닿', 2433: '▁조폭', 2434: '▁무엇보다', 2435: '만화', 2436: '▁캐릭터들', 2437: '▁싫다', 2438: '▁놓', 2439: '▁같음', 2440: '▁기분이', 2441: '▁보시길', 2442: '특히', 2443: '인의', 2444: '▁아저씨', 2445: '지마', 2446: '▁연기력이', 2447: '재밌어요', 2448: '▁다소', 2449: '▁취', 2450: '▁봐야할', 2451: '▁했지만', 2452: '▁끝나고', 2453: '▁근', 2454: '하는게', 2455: '▁실제', 2456: '하다니', 2457: '▁꺼', 2458: '쇼', 2459: '무섭', 2460: '드리', 2461: '▁ᄃᄃ', 2462: '▁그런가', 2463: '즐', 2464: '보이', 2465: '▁아니면', 2466: '▁삶을', 2467: '▁빨', 2468: '엄', 2469: '▁재밌었음', 2470: '▁히', 2471: '▁찍은', 2472: '▁미래', 2473: '▁좋을', 2474: '▁나가', 2475: '▁어렸을', 2476: '었지만', 2477: '▁서로', 2478: '▁훈훈', 2479: '▁여자가', 2480: '쾌', 2481: '▁볼거리', 2482: '흘', 2483: '시다', 2484: '▁부분', 2485: '드라', 2486: 'an', 2487: '▁아닌듯', 2488: '끝나', 2489: '급영화', 2490: 'ᄏᄏᄏᄏᄏᄏᄏᄏᄏᄏᄏᄏᄏᄏᄏᄏ', 2491: '둘', 2492: '▁재밌었', 2493: '▁시선', 2494: '웠다', 2495: '▁홍', 2496: '내요', 2497: '▁시원', 2498: '▁음악이', 2499: '▁멋지다', 2500: '▁있나', 2501: '▁빼', 2502: '땅', 2503: '▁물론', 2504: '▁주인공들', 2505: '▁독립영화', 2506: '면서도', 2507: '▁스토리와', 2508: '▁추천합니다', 2509: '한다면', 2510: '평점이', 2511: '▁잼없', 2512: '▁이하', 2513: '▁드는', 2514: '나올', 2515: '▁짜증나는', 2516: '▁그런데', 2517: '짜증', 2518: '▁관계', 2519: '순간', 2520: '▁회', 2521: '▁이연걸', 2522: '▁부분이', 2523: '돼', 2524: '▁같습니다', 2525: '▁사극', 2526: '▁티비에서', 2527: '버리고', 2528: '깨', 2529: '▁재미있음', 2530: '쓴', 2531: 'C', 2532: '▁오히려', 2533: '▁희망', 2534: '20', 2535: '▁평생', 2536: '▁굳', 2537: '▁송', 2538: '▁몰입감', 2539: '▁I', 2540: '▁아닌데', 2541: '▁보이는', 2542: '것은', 2543: '▁아닐까', 2544: '▁대충', 2545: '▁갖', 2546: '▁액션은', 2547: '갓', 2548: '하라', 2549: '▁몸매', 2550: '▁몇번을', 2551: '▁이유가', 2552: '▁카메라', 2553: '▁영화관', 2554: '▁재밋게', 2555: 'O', 2556: '▁이정도면', 2557: '▁청', 2558: '더군요', 2559: '새끼', 2560: '했는지', 2561: '▁역시나', 2562: '▁순수한', 2563: '=', 2564: '▁킬링타임', 2565: '▁추억의', 2566: '누나', 2567: 'j', 2568: 'ᄆ', 2569: '▁슬픔', 2570: '아주', 2571: '▁경찰', 2572: '▁볼때마다', 2573: '▁접', 2574: '▁표', 2575: '따위', 2576: '▁A', 2577: '제목', 2578: '시고', 2579: '▁용', 2580: '▁용서', 2581: '▁끝난', 2582: '▁황', 2583: '▁필요없다', 2584: '▁글쎄', 2585: '▁범인', 2586: '▁민', 2587: '▁슬프고', 2588: '▁누', 2589: '▁해주', 2590: '영환', 2591: '탕', 2592: 'er', 2593: '▁설레', 2594: 'A', 2595: '▁낫', 2596: '죄', 2597: '북', 2598: 'B', 2599: '▁받았', 2600: '인것', 2601: '▁평범한', 2602: '▁드라마가', 2603: '▁긴장', 2604: '좌', 2605: '▁짠', 2606: '▁생각나는', 2607: '▁가끔', 2608: '▁보기엔', 2609: '번째', 2610: '▁하게', 2611: '년전에', 2612: '용으로', 2613: '▁있다면', 2614: '▁고전', 2615: '000', 2616: '점준', 2617: '▁몇번', 2618: '▁멀', 2619: '빡', 2620: '뿌', 2621: '▁디즈니', 2622: '▁표절', 2623: '▁살짝', 2624: '▁재미를', 2625: '▁고민', 2626: '▁가볍게', 2627: '▁싫', 2628: '▁난다', 2629: '▁홍콩', 2630: '▁참신', 2631: '좋아요', 2632: '할듯', 2633: '▁벗', 2634: '수도', 2635: '하면서도', 2636: '방송', 2637: '인생', 2638: '▁죽는', 2639: '틱', 2640: '재밌다', 2641: '▁느낀', 2642: '▁소재를', 2643: '▁화려', 2644: '▁함', 2645: '▁철', 2646: '니깐', 2647: '으면서', 2648: '▁봤다가', 2649: '왔다', 2650: '나와', 2651: '▁아깝지', 2652: '율', 2653: '▁그럭저럭', 2654: '덤', 2655: '▁힐링', 2656: '잼있', 2657: '▁외국', 2658: '▁w', 2659: 'ᄀ', 2660: '▁딴', 2661: '▁무섭다', 2662: '▁빛', 2663: '와서', 2664: '▁그의', 2665: '▁틀', 2666: '~~~~~~~', 2667: '총', 2668: '뜻', 2669: '▁별로다', 2670: '▁떨어지는', 2671: '▁소름돋', 2672: '▁국', 2673: '▁사랑과', 2674: '▁화가', 2675: '▁먼', 2676: '말고', 2677: '▁논', 2678: '▁어린이', 2679: '하구', 2680: '던지', 2681: '버려', 2682: '▁캐', 2683: '▁언제나', 2684: '험', 2685: '▁압권', 2686: '▁무지', 2687: '▁팔', 2688: '▁볼수록', 2689: '걸로', 2690: '▁연애', 2691: '▁+', 2692: '▁괴물', 2693: '▁재미있네요', 2694: '시는', 2695: '▁프로그램', 2696: '괜찮', 2697: '생겼', 2698: '▁보이', 2699: '▁중간중간', 2700: '그래', 2701: '▁십', 2702: 'in', 2703: '▁스토리를', 2704: '▁제목이', 2705: '받고', 2706: '생활', 2707: '▁나서', 2708: '▁보았', 2709: '▁시걸', 2710: '되네요', 2711: '▁꼴', 2712: '항', 2713: '뉴', 2714: 'ᅡ', 2715: '▁S', 2716: '▁벌', 2717: '숨', 2718: '▁다르', 2719: '▁예전', 2720: '는건지', 2721: '있어', 2722: '▁모습을', 2723: '내는', 2724: '▁되게', 2725: '▁재밌네', 2726: '▁연기와', 2727: '▁뮤지컬', 2728: '▁재미있었다', 2729: '더만', 2730: '홀', 2731: '폰', 2732: '▁현대', 2733: '웃기', 2734: '나고', 2735: '▁좋았던', 2736: '▁마치', 2737: 'ᄏᄏᄏᄏᄏ', 2738: '▁사건', 2739: '▁지루해서', 2740: 'ᄅ', 2741: '한건', 2742: '겟다', 2743: '▁읽', 2744: '▁연기에', 2745: '▁<', 2746: '까진', 2747: '▁뒷', 2748: '봐요', 2749: '봣는데', 2750: '.......', 2751: '▁안하고', 2752: '없네', 2753: '▁폭', 2754: '▁엉성한', 2755: '웅', 2756: '▁실패', 2757: '낼', 2758: '▁행동', 2759: '하는지', 2760: '▁능력', 2761: '▁만들어진', 2762: '▁있지', 2763: '아님', 2764: 'ᄒᄒᄒᄒ', 2765: '▁통해', 2766: '▁그들의', 2767: '▁병', 2768: '▁초반에', 2769: '쏘', 2770: '▁감동과', 2771: '▁춤', 2772: '▁과연', 2773: '▁결', 2774: '▁어이가', 2775: '잃', 2776: '▁옛날에', 2777: '▁없나', 2778: '▁영화보고', 2779: '▁군대', 2780: 'ᄏᄏᄏᄏᄏᄏᄏᄏ', 2781: 'V', 2782: '영화의', 2783: '연기가', 2784: '▁영화이다', 2785: '▁보고싶은', 2786: '▁사람을', 2787: '값', 2788: '▁종교', 2789: '했네', 2790: '▁풍', 2791: '▁현실성', 2792: '▁맨', 2793: '봤어요', 2794: '상을', 2795: '흔', 2796: '▁제작진', 2797: '▁풀', 2798: '세계', 2799: '머리', 2800: '▁믿을', 2801: '▁재미없네', 2802: '▁퀄리티', 2803: '힐', 2804: 'R', 2805: '삭', 2806: '▁섹스', 2807: 'ᄃᄃ', 2808: '감독이', 2809: '▁시사회', 2810: '!!!!!', 2811: '▁사는', 2812: '▁붙', 2813: '함과', 2814: '▁든다', 2815: '쓸', 2816: '▁영화지만', 2817: '▁월', 2818: '아깝', 2819: '▁질리지', 2820: '▁못하고', 2821: '있네', 2822: '▁드라마를', 2823: '▁합', 2824: '남는', 2825: '자체', 2826: '▁해피엔딩', 2827: '았던', 2828: '▁볼만하다', 2829: '한게', 2830: '▁에로', 2831: '▁미드', 2832: '▁리뷰', 2833: '엘', 2834: '▁어쩔', 2835: '▁하는데', 2836: '쳤', 2837: 'M', 2838: '▁공감이', 2839: '▁죄', 2840: '진심', 2841: '▁쓸', 2842: '한국', 2843: '▁남아', 2844: '▁더이상', 2845: '(?)', 2846: '▁눈빛', 2847: '▁메시지', 2848: '스의', 2849: '▁펑펑', 2850: '▁생애', 2851: '▁그다지', 2852: '▁높다', 2853: '기분', 2854: '▁그린', 2855: '▁진심으로', 2856: '▁말로', 2857: '슈', 2858: '▁뜨', 2859: '▁덜', 2860: '▁소녀', 2861: '▁운', 2862: '▁볼만하', 2863: '▁포기', 2864: '▁봤으면', 2865: '보게', 2866: '▁무서워', 2867: '▁기대안하고', 2868: '▁심리', 2869: '▁봣', 2870: '내용이', 2871: '▁내용을', 2872: '▁12', 2873: '할까', 2874: '▁난해', 2875: '▁찍어', 2876: '기엔', 2877: '▁썩', 2878: '일이', 2879: '▁남기', 2880: '에서는', 2881: '▁다큐멘터리', 2882: '▁짓', 2883: '▁스타', 2884: 'ᄇ', 2885: '▁싸구려', 2886: '▁잔잔하고', 2887: '▁뛰어난', 2888: '▁전에', 2889: '▁사랑스러운', 2890: '!!!!!!!!!', 2891: '되서', 2892: 'ᄏᄏᄏᄏᄏᄏᄏᄏᄏ', 2893: '▁볼만함', 2894: '▁오버', 2895: '더라구요', 2896: '것만', 2897: '▁반전도', 2898: '▁자신', 2899: 'N', 2900: '▁페', 2901: '▁개판', 2902: '▁왜케', 2903: '▁중간', 2904: '굴', 2905: '▁같아', 2906: '틈', 2907: '▁없지만', 2908: 're', 2909: '▁나오고', 2910: '▁나중에', 2911: '▁죽을', 2912: '가슴', 2913: '첨', 2914: '▁올해', 2915: '▁지루할', 2916: '▁킬링타임용으로', 2917: '스릴러', 2918: '▁어른', 2919: '▁다행', 2920: '▁끼', 2921: '줄이야', 2922: '높', 2923: '틴', 2924: '봤던', 2925: '에서도', 2926: '시킨', 2927: '▁방금', 2928: '▁느낄수', 2929: '▁이거보고', 2930: '▁멋', 2931: '있음', 2932: '믿', 2933: '▁가서', 2934: '▁인기', 2935: '▁어제', 2936: '좋고', 2937: '▁음악도', 2938: '........', 2939: '먹고', 2940: 'X', 2941: '렬', 2942: '▁비주얼', 2943: '♥♥', 2944: '▁이건뭐', 2945: '▁우정', 2946: '▁분노', 2947: '님의', 2948: '혼', 2949: '▁이쁜', 2950: '▁아직까지', 2951: '▁재밋다', 2952: '중에서', 2953: '▁처음엔', 2954: '인가요', 2955: '세기', 2956: '찾', 2957: '안에', 2958: '있었', 2959: '▁찡', 2960: '헌', 2961: '▁개인', 2962: '▁c', 2963: '▁좋습니다', 2964: '영화라고', 2965: '▁필', 2966: '▁ᅲᅲᅲ', 2967: '▁굳이', 2968: '▁달리', 2969: '▁웃기고', 2970: '캐', 2971: '▁그럼', 2972: '▁낚', 2973: '기억', 2974: '▁열정', 2975: '나와서', 2976: '▁아는', 2977: '▁흘러', 2978: '▁탄탄한', 2979: '▁40', 2980: '▁사랑에', 2981: '내용도', 2982: '▁포장', 2983: '빵', 2984: '▁동물', 2985: '느라', 2986: '째', 2987: '많은', 2988: '▁삶의', 2989: '99', 2990: '공포', 2991: '면에서', 2992: '편보다', 2993: '협', 2994: '한다는', 2995: '댄', 2996: '▁열심히', 2997: '케이', 2998: '▁니콜', 2999: '▁이제야', 3000: '았는데', 3001: '▁여러', 3002: '▁빌', 3003: '설정', 3004: '▁연출도', 3005: '▁유치하다', 3006: '▁풀어', 3007: '▁판', 3008: '▁팬이', 3009: '지않고', 3010: '가지고', 3011: '개봉', 3012: '▁폭력', 3013: '하려고', 3014: '자는', 3015: '학생', 3016: '▁다시한번', 3017: '▁죽어', 3018: '▁소재가', 3019: '▁만든다', 3020: '▁안됨', 3021: '▁했던', 3022: '▁또한', 3023: '▁아나', 3024: '▁사랑하는', 3025: '▁푹', 3026: '▁배우의', 3027: '▁느끼는', 3028: '표현', 3029: '▁평이', 3030: '▁엘', 3031: '▁밋밋', 3032: '므', 3033: '▁드럽게', 3034: '▁나머지', 3035: '▁채널', 3036: '계속', 3037: '자의', 3038: '▁베스트', 3039: '▁헤', 3040: '▁찍었', 3041: '▁고생', 3042: '▁칼', 3043: '▁유치함', 3044: '▁주인공의', 3045: '볼만', 3046: '이었', 3047: '랜', 3048: '▁잼나', 3049: '솔', 3050: '▁씁쓸', 3051: '▁헐리우드', 3052: '컷', 3053: '▁따뜻해지는', 3054: '빼고', 3055: '고싶은', 3056: '으론', 3057: '막장', 3058: '스터', 3059: '▁역할', 3060: '▁맘', 3061: '티비', 3062: '▁결과', 3063: '▁소재로', 3064: '무비', 3065: '프로', 3066: '스러움', 3067: '얘기', 3068: '▁기본', 3069: '젤', 3070: '딸', 3071: '▁낮아서', 3072: '하는것', 3073: '이해', 3074: '▁죄다', 3075: '▁저렇게', 3076: '▁높아', 3077: '▁아름다움', 3078: '▁로그인', 3079: '형님', 3080: '▁통쾌', 3081: '▁무서웠', 3082: '나게', 3083: '▁영화냐', 3084: '▁올라', 3085: '▁자막', 3086: '▁매력적이', 3087: '▁인생의', 3088: '▁게이', 3089: '전쟁', 3090: '▁안타깝다', 3091: '리지', 3092: '연기도', 3093: '딩', 3094: '재밌음', 3095: '▁행', 3096: '▁자신의', 3097: '하려', 3098: '▁생각없이', 3099: '▁말할', 3100: '봤지만', 3101: '▁브', 3102: '사람은', 3103: '안되는', 3104: '▁승', 3105: '들만', 3106: '속에서', 3107: '멘', 3108: '텔', 3109: '▁시대를', 3110: '▁벌써', 3111: '▁최근', 3112: '▁악역', 3113: '▁생각한다', 3114: '만드는', 3115: '▁핵', 3116: '▁그렇다', 3117: '늘', 3118: '▁귀엽', 3119: '였지만', 3120: '▁퍼', 3121: '▁과정', 3122: '▁짧', 3123: '뛰', 3124: '릿', 3125: ']', 3126: '▁시트콤', 3127: '식이', 3128: '▁불쾌', 3129: '▁긴장감도', 3130: '▁영화에서', 3131: '▁남녀', 3132: 'ᅲᅮ', 3133: '▁매력있', 3134: '명이', 3135: '▁시시', 3136: '▁만큼', 3137: '▁몰입이', 3138: '접', 3139: '잠', 3140: '시간에', 3141: '먹는', 3142: '혁', 3143: '대사', 3144: '콜', 3145: '았습니다', 3146: '▁견자단', 3147: '▁70', 3148: '▁꾸', 3149: '▁명품', 3150: '▁끝나는', 3151: '▁d', 3152: '▁악당', 3153: '도아니고', 3154: '▁인생을', 3155: '▁느와르', 3156: '11', 3157: '현실', 3158: '젠', 3159: '▁있네요', 3160: '▁안되고', 3161: '▁되었다', 3162: '▁문화', 3163: '사가', 3164: '▁어려운', 3165: '▁의외로', 3166: '▁쓰래기', 3167: '▁빌려', 3168: '식으로', 3169: '▁나옴', 3170: '▁영국', 3171: '▁영화에요', 3172: '긴한데', 3173: '져서', 3174: '▁아침', 3175: '하겠', 3176: '보시', 3177: '▁생각합니다', 3178: '▁남을', 3179: '▁이쁘고', 3180: '▁T', 3181: '얻', 3182: '▁무엇을', 3183: '▁솔직', 3184: '▁젊은', 3185: '탁', 3186: '▁무엇', 3187: '▁폴', 3188: '어지는', 3189: '▁청소년', 3190: '영화로', 3191: '▁울었다', 3192: '하려는', 3193: '▁울고', 3194: '▁단순한', 3195: '▁둘다', 3196: '하지도', 3197: '스타일', 3198: '않는', 3199: '▁심장', 3200: '▁이기', 3201: '▁여기서', 3202: '▁그려', 3203: '님이', 3204: '▁당시에', 3205: '떄', 3206: '멸', 3207: '▁007', 3208: '▁마이클', 3209: '▁상처', 3210: '▁꽝', 3211: '이며', 3212: '▁불쌍', 3213: '극장', 3214: '▁동생', 3215: '▁즐겁게', 3216: '▁발로', 3217: '력이', 3218: '▁모든게', 3219: '▁퇴', 3220: '지가', 3221: '▁망한', 3222: '▁할말이', 3223: '▁출연진', 3224: '▁달라', 3225: '▁산으로', 3226: '감을', 3227: '▁환상', 3228: '꼽', 3229: '▁눈물을', 3230: '더라면', 3231: '▁봣는데', 3232: '▁나타', 3233: '▁발전', 3234: '▁코난', 3235: '▁표현한', 3236: '씨가', 3237: '▁자극', 3238: '▁무비', 3239: '점주', 3240: '▁의심', 3241: '했으나', 3242: '▁살아있', 3243: '▁드라마는', 3244: '▁쫌', 3245: '워서', 3246: '그렇', 3247: '▁;;', 3248: '▁괜찮았', 3249: '▁이유는', 3250: 'st', 3251: '▁올리', 3252: '드러', 3253: '훌륭', 3254: '꿀잼', 3255: '▁앤', 3256: '했나', 3257: '▁헐리웃', 3258: '착', 3259: '▁샤', 3260: '캐릭터', 3261: '▁많다', 3262: '▁가진', 3263: '▁생생', 3264: '▁단연', 3265: '▁홍보', 3266: '온다', 3267: '▁학교에서', 3268: '▁광고', 3269: '▁놈', 3270: '▁말을', 3271: '꾸', 3272: '▁나쁘지', 3273: '려면', 3274: '▁영화였어요', 3275: '▁있어요', 3276: '▁지금은', 3277: '▁아마', 3278: '본영화', 3279: '▁우와', 3280: '▁연속', 3281: '▁줌', 3282: '룡', 3283: '▁투자', 3284: '인들', 3285: '하다가', 3286: '옹', 3287: '▁짝퉁', 3288: '▁차이', 3289: '▁아쉬웠', 3290: '▁사기', 3291: '▁흐름', 3292: '▁타임', 3293: '▁어머니', 3294: '▁미소', 3295: '답답', 3296: '▁죽여', 3297: '▁정말로', 3298: '▁마세요', 3299: '수없는', 3300: '▁돌아가', 3301: '장난', 3302: '▁많아', 3303: '정신', 3304: '하셨', 3305: '▁정서', 3306: '▁북한', 3307: '▁쇼', 3308: '놨', 3309: '아라', 3310: '▁하루', 3311: '▁어렵', 3312: '▁몰라도', 3313: '▁보여', 3314: '▁보았다', 3315: '겹', 3316: '▁신선하고', 3317: '씀', 3318: '헤', 3319: '▁f', 3320: '▁아쉬움', 3321: '털', 3322: '▁쵝오', 3323: 'ing', 3324: '▁노답', 3325: '▁힘들다', 3326: '▁늘어', 3327: '▁지나치', 3328: '▁굿굿', 3329: '▁좋았을', 3330: '▁못했다', 3331: '점수', 3332: '으로서', 3333: '▁현실적인', 3334: 'on', 3335: '▁내려', 3336: '▁완', 3337: '지지', 3338: '▁넣', 3339: '자리', 3340: '중의', 3341: '`', 3342: '▁제작비', 3343: '폐', 3344: '▁옛', 3345: '▁울었', 3346: '▁좋아서', 3347: '시키는', 3348: '▁유쾌하고', 3349: '에대한', 3350: '▁모르', 3351: '▁있습니다', 3352: '▁이런영화가', 3353: '구성', 3354: '▁않게', 3355: '▁안돼', 3356: '▁끄', 3357: '▁뭉클', 3358: '▁전문가', 3359: '▁웃음이', 3360: '▁뻔하고', 3361: '▁없는데', 3362: '▁m', 3363: 'I', 3364: '▁반성', 3365: '▁웃김', 3366: '이런영화', 3367: '▁밥', 3368: '▁있으면', 3369: '▁야한', 3370: '노래', 3371: '편의', 3372: '▁건지', 3373: '▁좋지만', 3374: '▁무시', 3375: '즘', 3376: '▁이후로', 3377: '떼', 3378: '팀', 3379: '▁주성치', 3380: '▁쉽게', 3381: '▁멍청한', 3382: 'ar', 3383: '▁에휴', 3384: '▁희생', 3385: '▁최강', 3386: '리아', 3387: '▁되지', 3388: '▁우주', 3389: '▁결말도', 3390: '엄마', 3391: '슬프', 3392: '이유', 3393: '끝까지', 3394: '보자', 3395: '▁있게', 3396: '하더라', 3397: '▁쩐다', 3398: '▁빠', 3399: '스러웠', 3400: '▁마이너스', 3401: '뮤', 3402: '포인트', 3403: '했네요', 3404: '▁잔인한', 3405: '▁재미있었어요', 3406: '정이', 3407: '같음', 3408: '200', 3409: '갔다', 3410: '▁채', 3411: '끈', 3412: '▁놀라', 3413: '떠', 3414: '▁a', 3415: '아까', 3416: '흥', 3417: '아요', 3418: '▁많았', 3419: '▁떠나서', 3420: '▁점수를', 3421: '▁나왔다', 3422: '▁식', 3423: '해주세요', 3424: '▁싶네요', 3425: '사이', 3426: '계의', 3427: '영화임', 3428: '▁이따위', 3429: '▁시간을', 3430: '▁친구들', 3431: 'OOO', 3432: '버림', 3433: '끌', 3434: '▁잔', 3435: '▁즐거운', 3436: '▁빼고는', 3437: '▁크게', 3438: '▁하네요', 3439: '▁지루하게', 3440: '집니다', 3441: '▁루', 3442: '한것', 3443: '?!', 3444: '있는데', 3445: '야할', 3446: '▁보길', 3447: '▁이쁘다', 3448: '▁엉망', 3449: '관계', 3450: '물이', 3451: '▁중요한', 3452: '텐', 3453: '매력', 3454: '밝', 3455: '▁레전드', 3456: '▁무언가', 3457: '▁왠', 3458: '▁the', 3459: '▁흥미로운', 3460: '▁영화인듯', 3461: '▁사랑이야기', 3462: '▁라는', 3463: '▁지루했다', 3464: '로써', 3465: '지도않고', 3466: '▁보니까', 3467: '▁오랜만', 3468: '▁진정', 3469: '야한다', 3470: '장면이', 3471: '▁나오지', 3472: '▁못해', 3473: '▁지구', 3474: '▁잊지', 3475: '아니다', 3476: '친다', 3477: '▁손발이', 3478: 'ᅵ', 3479: '▁더러운', 3480: '▁반개도', 3481: '▁발견', 3482: '▁달달', 3483: '학교', 3484: '▁시각', 3485: '▁평범', 3486: '원작', 3487: '▁한데', 3488: '▁아쉽네요', 3489: '▁보아', 3490: '▁순수', 3491: '▁기대했는데', 3492: '▁결말은', 3493: '▁안타깝', 3494: '보는내내', 3495: '▁좀더', 3496: '▁중에서', 3497: '하지마라', 3498: '부족', 3499: '없어서', 3500: '보지말', 3501: '빙', 3502: '스럽고', 3503: '▁좋아할', 3504: '▁음악과', 3505: '지를', 3506: '택', 3507: '붕', 3508: '뽕', 3509: '롤', 3510: '▁위대한', 3511: '▁기다리', 3512: '잔잔', 3513: '적은', 3514: '▁올려', 3515: '▁누구나', 3516: '자체가', 3517: '왔는데', 3518: '▁재밌을', 3519: 'ᄏᄏᄏᄏᄏᄏᄏᄏᄏᄏᄏᄏᄏ', 3520: '▁딱히', 3521: '▁나오면', 3522: '▁받을', 3523: '▁만들고', 3524: '사는', 3525: '혈', 3526: '▁싸이코', 3527: '▁연예인', 3528: '▁더불어', 3529: '▁웃기지도', 3530: '▁민망', 3531: '▁뜻', 3532: '▁특이', 3533: '▁의리', 3534: '았음', 3535: '▁푸', 3536: '나온다', 3537: '▁의문', 3538: '빼곤', 3539: '▁멋있다', 3540: '되면', 3541: '▁무섭지도', 3542: '▁신파', 3543: '▁인상적이', 3544: '▁적당', 3545: '었어', 3546: '겠음', 3547: '그리', 3548: '▁의미를', 3549: '▁알수', 3550: '▁주말', 3551: '따라', 3552: '▁재미없어요', 3553: '아쉽', 3554: '있나', 3555: '▁가지', 3556: '▁떨어지', 3557: '이라서', 3558: '▁다만', 3559: '▁조합', 3560: '▁꽃', 3561: '대는', 3562: '▁빼고', 3563: '▁부족하다', 3564: '▁끝이', 3565: '▁묻', 3566: '▁극치', 3567: '렉', 3568: '▁집에서', 3569: '▁쓰레기같은', 3570: '▁속에', 3571: '넹', 3572: '▁김기덕', 3573: '▁보고나면', 3574: '▁묘사', 3575: '▁귀여워', 3576: '▁끊', 3577: '▁봤더니', 3578: '▁연결', 3579: '▁어휴', 3580: '▁역대급', 3581: '▁한국인', 3582: '뭔', 3583: '▁오바', 3584: '이었음', 3585: '▁[', 3586: '▁인간들', 3587: '▁보인다', 3588: '▁이해하기', 3589: '들고', 3590: '▁현실적이', 3591: '▁무협', 3592: '▁슈퍼', 3593: '땡', 3594: '▁피해자', 3595: '새끼들', 3596: '편도', 3597: '▁무척', 3598: '▁박수를', 3599: '거라', 3600: '▁쓰레기다', 3601: '▁전체', 3602: '▁학교', 3603: '▁못한다', 3604: '▁느낌을', 3605: '▁미모', 3606: '▁한마디', 3607: '▁영화인', 3608: '자나', 3609: '▁맡', 3610: '같네', 3611: '▁한참', 3612: 'it', 3613: '례', 3614: '▁멍청', 3615: '▁양심', 3616: '제발', 3617: '▁거지', 3618: '▁외모', 3619: '님들', 3620: '하기만', 3621: 'is', 3622: '▁우리가', 3623: '편을', 3624: '▁홍콩영화', 3625: '시즌', 3626: '렇', 3627: '점정도', 3628: '▁않지만', 3629: '▁케이블', 3630: '놔', 3631: '▁보러', 3632: '이자', 3633: '몬', 3634: '▁시간가는줄', 3635: '▁크리스마스', 3636: '▁불구하고', 3637: '▁맨날', 3638: '▁국민', 3639: '▁시리즈중', 3640: '▁한국영화는', 3641: '▁시청', 3642: '▁느꼈', 3643: '▁예쁘', 3644: '▁혼', 3645: '잔인', 3646: '엇다', 3647: '보여', 3648: '▁국내', 3649: '▁신경', 3650: '▁그렇지', 3651: '짜증나', 3652: '▁끌어', 3653: '했다는', 3654: '일본', 3655: '▁사랑의', 3656: '▁에피소드', 3657: '▁흔한', 3658: '▁필름', 3659: '▁없지', 3660: '▁싶지', 3661: '▁배우들도', 3662: '▁낳', 3663: '▁13', 3664: '만의', 3665: '고싶어', 3666: '않다', 3667: '▁짐', 3668: '다는게', 3669: '▁싶었', 3670: '▁이해할', 3671: '하는건', 3672: '▁공부', 3673: '▁관한', 3674: '콩', 3675: '밥', 3676: '▁어릴', 3677: '평가', 3678: '보지', 3679: '칙', 3680: '▁뒤로', 3681: '좋아하는', 3682: '▁잭', 3683: '▁가면', 3684: '시작', 3685: '▁이때', 3686: '▁한번쯤', 3687: '▁넘치는', 3688: '만큼은', 3689: '^^*', 3690: '▁18', 3691: '수있는', 3692: '지말고', 3693: '▁사람의', 3694: '와는', 3695: '▁무리', 3696: '▁작가가', 3697: '▁주기', 3698: '왔습니다', 3699: '▁왜이래', 3700: '▁50', 3701: '쥐', 3702: '▁끝났', 3703: '▁들었', 3704: '껴', 3705: '컬', 3706: 'K', 3707: '▁러닝타임', 3708: '▁초등학생', 3709: '▁포르노', 3710: '▁아줌마', 3711: '▁색다른', 3712: '▁인도', 3713: '▁꿈을', 3714: '▁장면에서', 3715: '▁하나하나', 3716: '하시는', 3717: '웨', 3718: '세상', 3719: '었고', 3720: '같고', 3721: '넣', 3722: '▁헤어', 3723: '봤네요', 3724: '▁냉', 3725: '맥', 3726: '▁ᄏᄏᄏᄏᄏᄏ', 3727: '..........', 3728: '버리는', 3729: '▁:', 3730: '▁이유를', 3731: '스러워', 3732: '까지는', 3733: '▁감동적', 3734: 'H', 3735: '▁왠만하면', 3736: '▁외계인', 3737: '▁검색', 3738: '▁좋았으나', 3739: '▁아역', 3740: '쳤다', 3741: '했었', 3742: '▁레알', 3743: '해진', 3744: '▁충격적', 3745: '었나', 3746: '▁몰입해서', 3747: '▁와우', 3748: '▁원작의', 3749: '▁제로', 3750: '아쉬', 3751: '기위해', 3752: '▁중요', 3753: '▁점수가', 3754: '짱짱', 3755: '▁가능', 3756: '▁드립니다', 3757: '▁진부하고', 3758: '▁덕분에', 3759: '▁오글', 3760: '▁군', 3761: '뭔가', 3762: '▁졸리', 3763: '▁볼수있', 3764: '▁돋', 3765: '윈', 3766: '▁핵노잼', 3767: '▁개뿔', 3768: '개도', 3769: '▁즐기', 3770: '▁방법', 3771: '년만에', 3772: '▁이래', 3773: '▁찌질', 3774: '▁다룬', 3775: '▁고통', 3776: '▁사랑은', 3777: '엔딩', 3778: '▁안보고', 3779: '▁죽이', 3780: '라는게', 3781: '▁착', 3782: '▁없었던', 3783: '▁허세', 3784: '▁장면들', 3785: '해준', 3786: '▁비극', 3787: '감독님', 3788: '치곤', 3789: '▁보기에', 3790: '▁인간이', 3791: '제작', 3792: '▁알겠', 3793: '머니', 3794: '쉽', 3795: '빌', 3796: '~!!!', 3797: '봅니다', 3798: '▁재미와', 3799: '밑', 3800: '나왔', 3801: '▁있으', 3802: '나가는', 3803: '컨', 3804: '▁카리스마', 3805: '▁좋아하는데', 3806: ':)', 3807: '대단', 3808: '겠네요', 3809: '▁지켜', 3810: '▁상업', 3811: '▁보지마', 3812: '▁남자가', 3813: '▁할말', 3814: '소설', 3815: '하기엔', 3816: '▁미안', 3817: '겼', 3818: '▁보긴', 3819: '씨의', 3820: '하신', 3821: '줘야', 3822: '었을', 3823: '씬은', 3824: '▁잊을', 3825: '▁대사가', 3826: '▁눈에', 3827: '점줌', 3828: '▁그렇', 3829: '▁아이가', 3830: '해야지', 3831: '▁작은', 3832: '공감', 3833: '▁한심', 3834: '란다', 3835: '▁되고', 3836: '▁들어가', 3837: '▁멍', 3838: '농', 3839: '냄새', 3840: '▁바꿔', 3841: '▁1,2', 3842: '▁어린시절', 3843: '▁느껴진다', 3844: '▁일품', 3845: '할만한', 3846: '▁뇌', 3847: '▁생각하는', 3848: '▁크리스', 3849: '▁남겨', 3850: '했을까', 3851: '신분들', 3852: '▁소름이', 3853: '사회', 3854: '▁진리', 3855: '점이다', 3856: '▁간다', 3857: '셈', 3858: '▁찌', 3859: '▁명작입니다', 3860: '▁하는지', 3861: '▁부르', 3862: '▁보자', 3863: '몰입', 3864: '▁뭐라', 3865: '낚', 3866: '낀', 3867: '쥬', 3868: '뽀', 3869: '▁여행', 3870: '▁좋겠어요', 3871: '▁풍경', 3872: '년도에', 3873: '아까움', 3874: '▁시도', 3875: '.........', 3876: '▁깔끔', 3877: '▁말하는', 3878: '▁그걸', 3879: '▁추억이', 3880: '그래서', 3881: '▁빠진', 3882: '편에', 3883: '▁재미있어', 3884: '▁가져', 3885: '의미', 3886: '였어', 3887: '▁11', 3888: '▁착한', 3889: '▁조연', 3890: '▁본다면', 3891: '▁억지스럽', 3892: '▁이런영화를', 3893: '▁그렇다고', 3894: '밤', 3895: '▁형님', 3896: '꾼', 3897: '▁아까울', 3898: '멍', 3899: '▁죽는줄', 3900: '보고싶다', 3901: '겁니다', 3902: '▁재미없게', 3903: '주고싶', 3904: '배경', 3905: '▁망치', 3906: '▁야동', 3907: '!!!!!!!!!!!!!!!!', 3908: '▁악마', 3909: '르고', 3910: '▁이럴', 3911: '▁개성', 3912: '해진다', 3913: '▁탈', 3914: '▁잼있다', 3915: '▁최고입니다', 3916: '▁척', 3917: '▁진지', 3918: '▁못할', 3919: '절대', 3920: '▁영어', 3921: '기로', 3922: '는것도', 3923: '▁희', 3924: '간의', 3925: '쟁이', 3926: '▁뛰어', 3927: '샤', 3928: '스럽게', 3929: '▁기독교', 3930: '둔', 3931: '▁아름다웠', 3932: '럭', 3933: '▁로봇', 3934: '▁기다려', 3935: '▁안나', 3936: '▁최대', 3937: '▁더럽', 3938: '▁뽑', 3939: '쓰고', 3940: '▁설마', 3941: '연기력', 3942: '▁훈훈한', 3943: '▁색', 3944: '만이', 3945: '▁빵', 3946: '잇는', 3947: '▁이것이', 3948: '봤어', 3949: '▁같아서', 3950: '▁들었다', 3951: '앞', 3952: '▁훌륭하다', 3953: '주면', 3954: '▁삶에', 3955: '▁찬', 3956: '했었는데', 3957: '▁있어야', 3958: '줬다', 3959: '▁인물들', 3960: '▁시청자', 3961: '저리', 3962: '▁본거', 3963: '▁이제서야', 3964: 'ᄌ', 3965: '얼굴', 3966: '▁철학', 3967: '▁짜증난다', 3968: '이였다', 3969: '▁변태', 3970: '▁비디오로', 3971: '▁여름', 3972: '▁동안', 3973: '▁D', 3974: '▁떨어진다', 3975: '힘', 3976: '▁니들', 3977: '▁색감', 3978: '▁가득', 3979: '▁먹고', 3980: '▁가슴에', 3981: '있냐', 3982: '▁필요없', 3983: '보구', 3984: '▁장르가', 3985: '!!!!!!', 3986: '배우가', 3987: '바뀌', 3988: '으려', 3989: '버릴', 3990: '할수있', 3991: '닮', 3992: '▁재밌다고', 3993: '▁고양이', 3994: '거면', 3995: '큰', 3996: '▁맹', 3997: '랄까', 3998: '▁아이돌', 3999: '▁개막장', 4000: '하던데', 4001: '갈수록', 4002: '▁생각하고', 4003: '▁지루하기', 4004: '▁O', 4005: '♥♥♥', 4006: '▁행복한', 4007: '없는영화', 4008: '▁본영화', 4009: '▁체', 4010: '▁이미지', 4011: '▁보여준다', 4012: '▁충', 4013: '내고', 4014: '▁괜찮은데', 4015: '▁힘이', 4016: '▁연기자들', 4017: '억지', 4018: '▁됨', 4019: '▁즐겁', 4020: '감독의', 4021: '▁작품을', 4022: '▁199', 4023: '▁누군가', 4024: '▁감동적이다', 4025: '적이다', 4026: '공포영화', 4027: '▁용기', 4028: '섹', 4029: '똥', 4030: '쭉', 4031: '▁극장가서', 4032: '▁미스', 4033: '▁빵점', 4034: '차라리', 4035: '▁개봉한', 4036: '▁좋았지만', 4037: '▁모르겠지만', 4038: '재밋음', 4039: '▁낮다', 4040: '▁ᄋᄋ', 4041: '더라도', 4042: '▁많고', 4043: '속의', 4044: '▁못하다', 4045: '▁볼만했', 4046: '되었', 4047: '▁섬', 4048: '▁자살', 4049: '▁탑', 4050: '▁틀어', 4051: '▁연기력도', 4052: '▁조화', 4053: '▁아픔', 4054: '▁재미잇', 4055: '▁좋아해서', 4056: '▁블랙', 4057: '렁', 4058: '핑', 4059: '▁가치가', 4060: '허접', 4061: '▁없어요', 4062: 'G', 4063: '▁따뜻', 4064: '▁있구나', 4065: '겠어요', 4066: '▁콩', 4067: '▁보여줬', 4068: '▁필요한', 4069: '▁웬', 4070: '▁못함', 4071: '▁플', 4072: '▁우리의', 4073: '▁ᄋ', 4074: '우리', 4075: '모든', 4076: '▁남자들', 4077: '▁때문', 4078: '어라', 4079: '빨리', 4080: '▁야구', 4081: '좋앗', 4082: '▁G', 4083: '▁살려', 4084: '자를', 4085: '칸', 4086: '▁그럴', 4087: '▁한명', 4088: '▁감흥', 4089: '하기도', 4090: '▁낮아', 4091: '▁줬', 4092: '▁캬', 4093: '겠습니다', 4094: '이걸', 4095: '▁볼게', 4096: '▁쥐', 4097: '▁작품이다', 4098: '▁자식', 4099: '▁명화', 4100: '▁감히', 4101: '빠지', 4102: '▁아픈', 4103: '▁살고', 4104: '▁엄', 4105: '기에는', 4106: '▁감안', 4107: '▁평점보고', 4108: '▁잇', 4109: '되나', 4110: '영화입니다', 4111: '▁내가본', 4112: '하고싶은', 4113: '▁전쟁영화', 4114: '▁검', 4115: '▁보내', 4116: '▁그녀의', 4117: '끄', 4118: '▁애기', 4119: '보이는', 4120: '▁긴장감이', 4121: '엠', 4122: '빅', 4123: '긋', 4124: '손가락', 4125: '있을', 4126: '▁교육', 4127: '▁겨우', 4128: '..^^', 4129: '▁최초', 4130: '▁웃기다', 4131: '▁기술', 4132: '▁오락', 4133: '▁괜찮다', 4134: '▁기대이상', 4135: '▁잊을수', 4136: '▁없다는', 4137: '었네', 4138: '됐다', 4139: '▁잼나게', 4140: '으로써', 4141: '아까운', 4142: '▁하는거', 4143: '▁조잡', 4144: '▁ᄏᄏᄏᄏᄏᄏᄏ', 4145: 'ᄏᄏᄏᄏᄏᄏᄏᄏᄏᄏᄏᄏ', 4146: '▁만든영화', 4147: '▁노래도', 4148: '▁공포물', 4149: '▁갔', 4150: '영화인데', 4151: '륜', 4152: '▁아프', 4153: '있어서', 4154: '▁반복', 4155: '마지막에', 4156: '▁좋게', 4157: '▁보았습니다', 4158: '▁아까웠다', 4159: '▁재미있습니다', 4160: '덜', 4161: '꼴', 4162: '돋', 4163: '한다고', 4164: '0%', 4165: '드립니다', 4166: '후회', 4167: '▁보통', 4168: '▁모르게', 4169: '▁비하면', 4170: '▁보지마라', 4171: '닌', 4172: '▁복잡', 4173: '▁완전히', 4174: '좋겠', 4175: '배우들의', 4176: '내내', 4177: '까요', 4178: '셀', 4179: '▁안타까운', 4180: '탓', 4181: '무서움', 4182: '보니까', 4183: '▁영원히', 4184: '▁바꾸', 4185: '▁특별한', 4186: '▁전투', 4187: '더빙', 4188: '요즘', 4189: '▁부모', 4190: '▁조카', 4191: '▁밤', 4192: '쓰레기영화', 4193: '▁모를', 4194: '♥♥♥♥', 4195: '▁낮네', 4196: '▁어른들', 4197: '▁할까', 4198: '었지', 4199: '살아', 4200: '▁에로영화', 4201: '▁유명', 4202: '춰', 4203: '뜬', 4204: '▁잔혹', 4205: '▁지나도', 4206: '▁방영', 4207: '▁말하고', 4208: '▁봤을때', 4209: '▁낚시', 4210: '▁케이블에서', 4211: '▁이래서', 4212: '▁재미도없고', 4213: '▁싶은데', 4214: '부작', 4215: '▁웃고', 4216: '것같아요', 4217: '▁씬', 4218: '▁감동의', 4219: 'ᄋᄋ', 4220: '▁답답한', 4221: '▁영화보는', 4222: '▁낚였다', 4223: '안됨', 4224: '럼', 4225: '▁예쁘고', 4226: '▁노래가', 4227: '하지마', 4228: '▁이상하게', 4229: '요소', 4230: '콘', 4231: '▁안맞', 4232: '없었', 4233: '▁생각함', 4234: 'U', 4235: '▁후속작', 4236: '▁젠장', 4237: '▁잠깐', 4238: '▁내면', 4239: '▁일이', 4240: '끄러', 4241: '잡고', 4242: '▁감정을', 4243: '명의', 4244: '감동적이', 4245: '스크', 4246: '▁오래된', 4247: '했지', 4248: '빛', 4249: 'F', 4250: '만듬', 4251: '긴하지만', 4252: '뭐야', 4253: '줘서', 4254: '▁만들면', 4255: '오래', 4256: '하하하', 4257: '▁돼', 4258: '▁떨', 4259: '새롭', 4260: '켜', 4261: '같은영화', 4262: '▁미쳤', 4263: '▁21', 4264: '▁개연성이', 4265: '는구나', 4266: '▁캐릭터가', 4267: '재미없음', 4268: '오오', 4269: '문화', 4270: '찮', 4271: '▁식상한', 4272: '★', 4273: '쿨', 4274: '▁스트레스', 4275: '▁특수효과', 4276: '▁소소한', 4277: '▁알려', 4278: '▁비현실적', 4279: '▁남자의', 4280: '▁알겠는데', 4281: '▁열연', 4282: '▁가족영화', 4283: '였고', 4284: '다큐', 4285: 'es', 4286: '▁빼면', 4287: '▁모르겠음', 4288: '▁멋지', 4289: '점대는', 4290: '기까지', 4291: '▁자주', 4292: '▁잊', 4293: '▁전설', 4294: '▁씹', 4295: '▁생각나서', 4296: '때매', 4297: '년작', 4298: '▁암튼', 4299: '▁쿠', 4300: '▁구성이', 4301: '▁작품은', 4302: '▁전설의', 4303: '지루함', 4304: '▁재미있었', 4305: '균', 4306: '▁패러디', 4307: '▁경험', 4308: '▁뿐이다', 4309: '▁무엇인지', 4310: '▁갈등', 4311: '브라', 4312: '리즈', 4313: '▁게다가', 4314: '▁커플', 4315: '▁분위기가', 4316: 'en', 4317: '▁그당시', 4318: '▁않을까', 4319: '▁쩝', 4320: '아저씨', 4321: '▁낮지', 4322: '▁한심한', 4323: '것인가', 4324: '▁조작', 4325: '▁만든거', 4326: '뻔한', 4327: '▁심하게', 4328: '▁실제로', 4329: '▁하면서', 4330: '▁초딩때', 4331: '모두', 4332: '▁뻔하', 4333: '바닥', 4334: '얘', 4335: '숭', 4336: '뚱', 4337: '▁DVD', 4338: '룩', 4339: '▁어설프고', 4340: '것같은', 4341: '좋음', 4342: '▁최근에', 4343: '▁할머니', 4344: '▁주기도', 4345: '받은', 4346: '▁다섯', 4347: '▁두번째', 4348: '▁전율', 4349: '인건', 4350: '▁존경', 4351: '▁만들다니', 4352: '▁따로', 4353: '▁살면서', 4354: '▁쌍', 4355: '▁만남', 4356: '▁본듯', 4357: '▁낙', 4358: '▁남편', 4359: '셔서', 4360: '▁여운을', 4361: '▁낚였', 4362: '하는영화', 4363: '옴', 4364: '것같', 4365: '▁에이', 4366: '▁유명한', 4367: '▁현실이', 4368: '▁정도의', 4369: '▁선생님', 4370: '▁불쌍하다', 4371: '▁대부분', 4372: '조아', 4373: '▁연출과', 4374: '▁둘이', 4375: '▁대화', 4376: '▁도전', 4377: '거같아요', 4378: '칭', 4379: '삐', 4380: '층', 4381: '핀', 4382: '▁직접', 4383: '▁잔뜩', 4384: '▁울컥', 4385: '▁스스로', 4386: '▁sf', 4387: '▁거짓말', 4388: '▁일어나', 4389: '주기', 4390: '▁정말이지', 4391: '▁봤을까', 4392: '▁W', 4393: '▁잘하고', 4394: '▁단지', 4395: '▁여러분', 4396: '▁출연한', 4397: '▁읽어', 4398: '▁속에서', 4399: '▁볼때', 4400: '▁이런건', 4401: '▁한국에서', 4402: '지않았', 4403: '휘', 4404: '▁사진', 4405: '▁재밌지', 4406: '▁재미없었다', 4407: '▁참신한', 4408: '▁전개도', 4409: '▁할수', 4410: '▁신비', 4411: '▁재미로', 4412: '▁앞으로도', 4413: '▁견', 4414: '▁얼마', 4415: '메이', 4416: '▁그거', 4417: '아무', 4418: '30', 4419: '퀴', 4420: '렷', 4421: '하기에', 4422: '랫', 4423: '▁로버트', 4424: '▁제임스', 4425: '▁소중한', 4426: '어가는', 4427: '▁가슴을', 4428: '▁몇몇', 4429: '▁여러가지', 4430: '▁돋보이는', 4431: '▁충실', 4432: '▁다시는', 4433: '나올때', 4434: '어디', 4435: '랜드', 4436: '▁관객들', 4437: '받는', 4438: '▁끝날', 4439: '▁대중', 4440: '▁넌', 4441: '로는', 4442: '▁운명', 4443: '▁잘봤어요', 4444: 'bb', 4445: '▁클레멘타인', 4446: '▁관객을', 4447: '▁엉성하고', 4448: '럴', 4449: '▁많은걸', 4450: '▁내용인지', 4451: '▁결론', 4452: '▁있었지만', 4453: '▁다르다', 4454: '▁배우를', 4455: '▁풍자', 4456: '▁안습', 4457: '▁보다니', 4458: '▁끈', 4459: '▁진부하', 4460: '거리는', 4461: '시길', 4462: '▁반전은', 4463: '▁죽이고', 4464: '때까지', 4465: '앵', 4466: '▁새벽에', 4467: 'ᅥ', 4468: '▁아이디어', 4469: '▁뛰어나', 4470: '거같은데', 4471: '▁기자', 4472: '▁지났', 4473: '▁모험', 4474: '때부터', 4475: '▁하늘', 4476: '▁만들었는지', 4477: '딴', 4478: '문제', 4479: '▁매력적', 4480: '▁욕망', 4481: '▁나에겐', 4482: '부분이', 4483: '▁없습니다', 4484: '▁깎', 4485: '▁흥', 4486: '▁나은', 4487: '▁있다니', 4488: '▁집에', 4489: '▁우리는', 4490: '잊', 4491: '▁아니야', 4492: '▁슈', 4493: '깝', 4494: '려나', 4495: '관람', 4496: '▁보려고', 4497: '▁수도', 4498: '▁헬', 4499: '적이지', 4500: '▁죽은', 4501: '나오고', 4502: '▁탄탄', 4503: '▁개연성도', 4504: '▁단편', 4505: '쓰는', 4506: '타임', 4507: '닉', 4508: '▁제이슨', 4509: '▁시청률이', 4510: '했더니', 4511: '납니다', 4512: '▁그저그런', 4513: '▁남자주인공', 4514: '▁모르겠고', 4515: '▁담배', 4516: '오글', 4517: '▁죽이는', 4518: '검', 4519: '▁이딴걸', 4520: '▁따뜻하고', 4521: '▁봤네', 4522: '▁해라', 4523: '▁해석', 4524: '▁높게', 4525: '트리', 4526: '▁안볼', 4527: '▁코미디영화', 4528: '▁여전', 4529: '............', 4530: '▁톰', 4531: '▁비판', 4532: '▁맞아', 4533: '최악의', 4534: '논', 4535: '분은', 4536: '<', 4537: '흠', 4538: '▁영상이', 4539: '포스터', 4540: '▁썼', 4541: '▁조용', 4542: '점이상', 4543: '▁맞지', 4544: '▁액션씬', 4545: '▁좀비영화', 4546: '▁살다살다', 4547: '▁내생에', 4548: '스토리도', 4549: '만드네', 4550: '▁억지스러운', 4551: '▁똑같은', 4552: '▁만들수', 4553: '그만', 4554: '▁재밌던데', 4555: '▁잘만들었', 4556: '치고는', 4557: '▁술', 4558: '▁확실', 4559: '후반', 4560: '▁막장드라마', 4561: 'ᅮᅮᅮ', 4562: '받아', 4563: '▁이런영화는', 4564: '▁영상과', 4565: '하진', 4566: '▁아름답', 4567: '▁남네요', 4568: '레스', 4569: '▁수준의', 4570: '▁헛', 4571: 'L', 4572: '▁보며', 4573: '▁반전을', 4574: '기전에', 4575: '버전', 4576: '개그', 4577: '▁대해서', 4578: '낫', 4579: '졸작', 4580: '았어요', 4581: '쟁', 4582: '으니까', 4583: '려다가', 4584: '롯', 4585: '곰', 4586: '른다', 4587: '▁보여주고', 4588: '▁로코', 4589: '▁단어', 4590: '▁효과', 4591: '▁오랫만에', 4592: '▁정의', 4593: '출연', 4594: '어린', 4595: '햇다', 4596: '▁부실', 4597: '▁소장', 4598: '▁다운', 4599: '었는지', 4600: '▁별로임', 4601: '슬퍼', 4602: '▁그립다', 4603: '▁뭘까', 4604: 'as', 4605: '몇', 4606: '▁훌륭하', 4607: '아빠', 4608: '▁북', 4609: '뇌', 4610: '▁최고였다', 4611: '붙', 4612: '읽', 4613: '싶다', 4614: '▁오글거리', 4615: '초반', 4616: '챙겨', 4617: '받아서', 4618: '획', 4619: '▁않네요', 4620: '▁쪽', 4621: '조금', 4622: '▁가벼운', 4623: '싼', 4624: '▁박중훈', 4625: '▁디테일', 4626: '▁다양한', 4627: '▁테러', 4628: '못해', 4629: '▁어쩜', 4630: '다음', 4631: '▁원작이', 4632: '▁어째', 4633: '▁진수', 4634: '▁대표', 4635: '▁모두가', 4636: '▁무술', 4637: '▁결정', 4638: '▁남은', 4639: '▁집중해서', 4640: '▁영화보면서', 4641: '▁잼잇', 4642: '▁엿', 4643: '하겠다', 4644: '공주', 4645: '▁안본', 4646: '게임', 4647: '▁p', 4648: '▁볼수있는', 4649: '▁돌리', 4650: '▁불러', 4651: '▁침', 4652: '▁줄수', 4653: 'ᄍ', 4654: '▁제외', 4655: '꽃', 4656: '▁재미없어서', 4657: '어떻게', 4658: '▁못보겠', 4659: '▁매력을', 4660: '하군', 4661: '었네요', 4662: '▁본방사수', 4663: '▁생각하면', 4664: '▁시리즈는', 4665: '사건', 4666: '▁형사', 4667: '렵', 4668: '닿', 4669: '액', 4670: '녕', 4671: '엑', 4672: '▁짜임새', 4673: '닷', 4674: '랭', 4675: '싹', 4676: '▁배트맨', 4677: '▁2014', 4678: '▁동성애', 4679: '▁교과서', 4680: '라곤', 4681: '▁나오네', 4682: '맘', 4683: '▁하길래', 4684: '▁싶을', 4685: '▁비밀', 4686: '▁깨닫게', 4687: '▁주변', 4688: '▁꼬마', 4689: '▁연극', 4690: '건가요', 4691: '▁^', 4692: '여주', 4693: '...........', 4694: '▁기억나는', 4695: '▁조절', 4696: '보시길', 4697: '▁재난영화', 4698: '▁아쉽지만', 4699: '▁연기력은', 4700: '▁답답하고', 4701: '▁만한', 4702: '놈이', 4703: '▁녹', 4704: '▁형편없', 4705: '▁받는', 4706: '▁세상을', 4707: '▁먼가', 4708: '▁F', 4709: '▁살린', 4710: '▁조선', 4711: '배우들이', 4712: '▁소년', 4713: '▁찰', 4714: '관객', 4715: '▁만들기', 4716: '▁본지', 4717: '▁자체는', 4718: '비디오', 4719: '걍', 4720: '몸', 4721: '웨이', 4722: '주연', 4723: '▁감동은', 4724: '섭', 4725: '략', 4726: '만하다', 4727: 'z', 4728: '▁dvd', 4729: '딜', 4730: '부끄럽', 4731: '▁인내심', 4732: '뎅', 4733: '▁유일하게', 4734: '▁쉬', 4735: '▁몇년', 4736: '씬이', 4737: '▁감각', 4738: '▁태어나서', 4739: '▁부터', 4740: '▁ᄍᄍᄍ', 4741: '▁해결', 4742: '였으면', 4743: '지말자', 4744: '▁봐도봐도', 4745: '▁독특', 4746: '▁동심', 4747: '▁뜬금없', 4748: '뻐', 4749: '▁선동', 4750: '▁어렵다', 4751: '▁괜찮음', 4752: '임에도', 4753: '▁잠이', 4754: '▁풋풋', 4755: '되었다', 4756: '▁탐', 4757: '▁엔딩이', 4758: '▁못보', 4759: '삶', 4760: '생각이', 4761: '번은', 4762: '긴장감', 4763: '▁인상적', 4764: '헐', 4765: '▁마지막장면', 4766: '사람들은', 4767: '커플', 4768: '▁대단하', 4769: '하길', 4770: '▁포스터가', 4771: '▁다운받아', 4772: '▁이보다', 4773: '것만으로도', 4774: '괜', 4775: '딘', 4776: '밍', 4777: '▁블록버스터', 4778: '젖', 4779: '▁심형래', 4780: '▁주윤발', 4781: '▁장국영', 4782: '▁허술한', 4783: '이름', 4784: '▁결코', 4785: '▁포스', 4786: '았지만', 4787: '낮은', 4788: '▁나름대로', 4789: '아까워', 4790: '-_-;', 4791: '▁귀엽다', 4792: '보는게', 4793: '점부터', 4794: '보셈', 4795: '▁원작에', 4796: '올리', 4797: '▁궁금하다', 4798: '▁빠르', 4799: '장애', 4800: '▁위로', 4801: '▁응', 4802: '로드', 4803: '높은', 4804: '▁재밌어서', 4805: '▁있던', 4806: '같아서', 4807: '▁허술하', 4808: 'th', 4809: '▁편견', 4810: '푸', 4811: '▁짧은', 4812: '잖', 4813: '▁느꼈다', 4814: '▁한편의', 4815: '▁진부', 4816: '▁있네', 4817: '이후', 4818: '▁주연배우', 4819: '▁아이들과', 4820: '웃김', 4821: '싶어서', 4822: '▁ᄌ', 4823: '▁왤케', 4824: '▁러시아', 4825: '▁제니퍼', 4826: '▁스크린', 4827: '▁집착', 4828: '▁예쁘다', 4829: '오늘', 4830: '▁데리고', 4831: '▁명작을', 4832: '해야할', 4833: '▁아깝고', 4834: '▁추리', 4835: '▁성격', 4836: '▁하나같이', 4837: '▁잼있어요', 4838: '▁충분', 4839: '▁길게', 4840: '본사람', 4841: '▁불쌍해', 4842: '▁싶어요', 4843: '▁이상의', 4844: '않음', 4845: '▁영화라는', 4846: '▁애들은', 4847: '▁않나', 4848: '▁내용과', 4849: '▁신선하', 4850: '▁교훈을', 4851: '▁낮게', 4852: '이었습니다', 4853: '낭', 4854: '갑니다', 4855: '재미도', 4856: '폼', 4857: '묵', 4858: '▁조니뎁', 4859: '찐', 4860: 'J', 4861: '땀', 4862: '쪼', 4863: '▁유일한', 4864: '▁탄생', 4865: '▁바랍니다', 4866: '▁말도안되는', 4867: '▁남아있', 4868: '▁흑인', 4869: '▁손색', 4870: '▁믿고보는', 4871: '▁보던', 4872: 'ut', 4873: '▁내용전개', 4874: '멜로', 4875: '▁좋겠네요', 4876: '좋았다', 4877: '해준다', 4878: '있으면', 4879: '▁잘만들', 4880: '▁잘생겼', 4881: '▁봐야하는', 4882: '▁약간의', 4883: '▁아까운영화', 4884: '엇는데', 4885: '▁사랑해요', 4886: '▁죽었', 4887: '▁매미', 4888: '▁어디에', 4889: '아닌가', 4890: '오브', 4891: '▁선물', 4892: '상태', 4893: '▁안맞는', 4894: '▁업', 4895: '▁강한', 4896: '있습니다', 4897: '▁영혼', 4898: '▁가볍', 4899: '지마세요', 4900: '▁ᄃᄃᄃ', 4901: '▁인생에', 4902: '보소', 4903: '닐', 4904: '할것', 4905: '▁자랑', 4906: '어이없', 4907: '▁최고로', 4908: '씁', 4909: '▁뱀파이어', 4910: '▁컴퓨터', 4911: '깃', 4912: '넬', 4913: '▁숨겨진', 4914: '▁깜짝', 4915: '▁아류작', 4916: '▁끔찍', 4917: '특별', 4918: '▁오빠', 4919: '▁폭풍', 4920: '▁오락영화', 4921: '▁첫사랑', 4922: '화이팅', 4923: '재미있게', 4924: '지않아', 4925: '▁최고의영화', 4926: '▁어울리는', 4927: '감정', 4928: 'le', 4929: '▁당연', 4930: '연기는', 4931: '▁소재도', 4932: '애들이', 4933: '▁개노잼', 4934: '▁알수있', 4935: '▁돈을', 4936: '▁따분', 4937: '▁요리', 4938: '▁방식', 4939: '▁제목만', 4940: '▁넘게', 4941: '▁갖고', 4942: '▁L', 4943: '▁막판에', 4944: '▁좋겠', 4945: '▁그자체', 4946: '기도하고', 4947: '덕에', 4948: '▁최고임', 4949: '멋있', 4950: '여운이', 4951: '스키', 4952: '▁망친', 4953: '역사', 4954: '▁국가', 4955: '당한', 4956: '바라', 4957: '춤', 4958: '마리', 4959: '깜', 4960: '▁케릭터', 4961: '▁해리포터', 4962: '▁즐거웠', 4963: '추억', 4964: '▁달콤', 4965: '사람들이', 4966: '▁작위적', 4967: '말이필요없', 4968: '재밌는', 4969: '▁놀라운', 4970: '▁중학교', 4971: '▁찾아보', 4972: '▁평론가들', 4973: '둥이', 4974: '▁디워', 4975: '▁별로고', 4976: '▁이뻐서', 4977: '블루', 4978: '▁반담', 4979: '같지만', 4980: '▁60', 4981: '▁부모님', 4982: '▁변화', 4983: '▁느낌의', 4984: '▁하나로', 4985: '▁다시보니', 4986: '보여주', 4987: '물로', 4988: '▁밀려', 4989: '▁으리', 4990: '▁있었는데', 4991: '▁기준', 4992: '▁보다는', 4993: '했을때', 4994: '▁볼만했다', 4995: '▁부부', 4996: '▁맛이', 4997: '▁이야기는', 4998: '왓', 4999: '▁머리가', 5000: '재미없어', 5001: '일듯', 5002: '▁소재와', 5003: '볼수', 5004: '느껴', 5005: '▁you', 5006: '▁임팩트', 5007: '퓨', 5008: '▁영환데', 5009: '차원', 5010: '▁잔잔하면서', 5011: '찡', 5012: '큐', 5013: '▁무섭지', 5014: '▁손에', 5015: '▁말하고자', 5016: '▁배역', 5017: '100', 5018: 've', 5019: '▁많아서', 5020: '▁휘', 5021: 'al', 5022: '▁놀랍다', 5023: '▁잠들', 5024: '이랄까', 5025: '▁소설을', 5026: '▁매일', 5027: '▁본인', 5028: 'od', 5029: '~~^^', 5030: '▁삼류영화', 5031: '▁발상', 5032: '인물', 5033: '▁멋있는', 5034: '▁듣고', 5035: '▁생각으로', 5036: '이었던', 5037: '▁아예', 5038: '▁관점', 5039: '벅', 5040: '컴', 5041: '^-^', 5042: '▁떠오르', 5043: '▁감정이입', 5044: '▁잡아', 5045: '▁재개봉', 5046: '▁흔들', 5047: '▁여자친구', 5048: '답니다', 5049: '싸움', 5050: '▁여자주인공', 5051: '아프', 5052: '아아아', 5053: '▁영화라니', 5054: '▁또다른', 5055: '노답', 5056: '빠져', 5057: '▁과장', 5058: '좋은영화', 5059: '▁갑니다', 5060: '학년', 5061: '▁괜찮았다', 5062: '▁살아가는', 5063: '상황', 5064: '▁재밌었던', 5065: '▁실력', 5066: '▁버리', 5067: '쳐서', 5068: '극장에서', 5069: '▁폐', 5070: '▁의미가', 5071: '00', 5072: '▁두고', 5073: '거같음', 5074: '▁안간다', 5075: '허술', 5076: '▁대본', 5077: '▁떨어지고', 5078: '▁감독을', 5079: '▁궁', 5080: '구석', 5081: 'ᅮᅲ', 5082: '떨', 5083: '▁줘야', 5084: '12', 5085: '▁기회', 5086: '▁새로', 5087: '▁거장', 5088: '▁보라', 5089: '▁즐겨', 5090: '▁늑대', 5091: '앤', 5092: '▁여러번', 5093: '아직도', 5094: '때문', 5095: '▁중독', 5096: '▁울리는', 5097: '▁위해서', 5098: '▁무료', 5099: '▁생에', 5100: '보고있어요', 5101: '재밌어', 5102: '▁보았는데', 5103: '글자', 5104: '▁이상해', 5105: '당시', 5106: '소름', 5107: '▁모든걸', 5108: '져요', 5109: '옆', 5110: '▁ᄀ', 5111: '▁연인', 5112: '▁벤', 5113: '스토', 5114: '▁명장면', 5115: '▁짜증나서', 5116: '90', 5117: '류영화', 5118: '▁열받', 5119: '▁지겹다', 5120: '▁멋지고', 5121: '여행', 5122: '▁어처구니', 5123: '▁수작이다', 5124: '▁없으면', 5125: '▁수입', 5126: '▁잤', 5127: '▁재미없을', 5128: '▁까지', 5129: '▁했으면', 5130: '후에', 5131: '하러', 5132: '▁스포츠', 5133: '벼', 5134: '앨', 5135: '쿵', 5136: '닼', 5137: '탱', 5138: '▁익숙', 5139: '▁배경음악', 5140: '▁다신', 5141: '무시', 5142: '줄알았는데', 5143: '▁언제봐도', 5144: '▁적당히', 5145: '솔직히', 5146: '▁내게', 5147: '▁생긴', 5148: '▁한개도', 5149: '▁순수함', 5150: '▁힘내', 5151: '웃겨', 5152: '▁어거지', 5153: '▁울면서', 5154: '두고', 5155: '▁독일', 5156: '▁답이', 5157: '▁생각난다', 5158: '먹은', 5159: '▁=', 5160: '▁난잡', 5161: '존나', 5162: '▁없었음', 5163: '▁시간아깝다', 5164: '▁폐지', 5165: '▁죽인', 5166: '기억이', 5167: '▁갔다', 5168: '언제', 5169: '▁본게', 5170: '▁이해할수', 5171: '▁몰랐다', 5172: '있지', 5173: '▁마음으로', 5174: '둥', 5175: '▁그지같', 5176: '▁아래', 5177: '만족', 5178: '닫', 5179: '▁주인공은', 5180: '닭', 5181: '램', 5182: '▁스티븐', 5183: '▁강렬한', 5184: '▁이소룡', 5185: '▁내생애', 5186: '▁우려먹', 5187: '보느니', 5188: '▁쓰는', 5189: '어색', 5190: '▁웃으면서', 5191: '▁처절', 5192: '▁옥', 5193: '▁만들었을까', 5194: '▁재밋어요', 5195: '▁짜증남', 5196: '불쌍', 5197: '▁결말을', 5198: '코믹', 5199: '▁아니지', 5200: '▁재미있을', 5201: '말아먹', 5202: '질질끌', 5203: '이딴', 5204: '▁멋졌', 5205: '▁최고봉', 5206: '좋아하', 5207: '쩐다', 5208: '장면은', 5209: '▁내용에', 5210: '▁가정', 5211: '라는걸', 5212: '▁여주인공이', 5213: '▁영원한', 5214: '▁본건데', 5215: '▁인해', 5216: '▁세번', 5217: '▁난리', 5218: '▁하아', 5219: '..............', 5220: '▁부분도', 5221: '▁적당한', 5222: '▁불편한', 5223: '달아', 5224: '▁망했', 5225: '▁모르겟', 5226: '봣다', 5227: '▁다루', 5228: '▁음식', 5229: '듯하다', 5230: '▁정도면', 5231: '▁포스터에', 5232: '측', 5233: '▁알겠다', 5234: '꼈', 5235: '멈', 5236: '윌', 5237: '뢰', 5238: '될듯', 5239: '▁아닙니다', 5240: '▁제시카', 5241: '▁드디어', 5242: '▁희대의', 5243: '▁당신은', 5244: '방식', 5245: '▁모른다', 5246: '▁눈물나', 5247: '▁적어도', 5248: '▁어른이', 5249: '해주고', 5250: '▁포스터만', 5251: '▁보기에는', 5252: '분위기', 5253: '궁', 5254: '수밖에', 5255: '▁프리', 5256: '▁주지', 5257: '▁한번도', 5258: '▁스토리전개', 5259: '▁믿기지', 5260: '▁아름답게', 5261: '▁사상', 5262: '거죠', 5263: '이런류의', 5264: '혼자', 5265: '▁살리', 5266: '▁느껴지', 5267: '▁않아서', 5268: '보인다', 5269: '▁싸우는', 5270: 'ᅮᅮᅮᅮ', 5271: '톤', 5272: '▁쩔어', 5273: '▁자신이', 5274: '▁한국영화의', 5275: '있는영화', 5276: '없나', 5277: '▁주제가', 5278: '▁뭐하나', 5279: '늙', 5280: '없을', 5281: '▁목적', 5282: '같아', 5283: '▁샘', 5284: '장르', 5285: '객', 5286: '▁정신없', 5287: '▁다시보고', 5288: '▁빵빵', 5289: '갠', 5290: '▁우뢰매', 5291: '똘', 5292: '▁명복을', 5293: '▁짜집기', 5294: '▁뭥미', 5295: '▁아놀드', 5296: '▁사운드', 5297: '▁오글거려', 5298: '▁아깝네', 5299: '버스', 5300: '▁평균', 5301: '▁명대사', 5302: '구리', 5303: '▁축구', 5304: '▁상영관', 5305: '▁사라지', 5306: '▁근래', 5307: '▁볼거', 5308: '▁봤을', 5309: '▁다운받', 5310: '▁실망스럽', 5311: '▁주제를', 5312: '▁그럴듯', 5313: '▁괜찮았는데', 5314: '▁봅니다', 5315: '찰', 5316: '▁분들은', 5317: '엄청', 5318: '▁뭐니', 5319: '▁얼굴이', 5320: '▁생각할', 5321: '있었다', 5322: '줄알았', 5323: '▁생각했는데', 5324: '▁없나요', 5325: '▁안본다', 5326: '스케', 5327: '▁시간만', 5328: '▁넘치', 5329: '▁키스', 5330: '▁집중이', 5331: '▁삶이', 5332: '▁없냐', 5333: '▁몰라', 5334: '▁옷', 5335: '19', 5336: '▁책을', 5337: '▁반대', 5338: '광구', 5339: '못한', 5340: '야겠다', 5341: '▁알았네', 5342: '▁슬픈영화', 5343: '였나', 5344: '▁재미있는데', 5345: '▁나랑', 5346: '▁엄마가', 5347: '▁라고', 5348: '▁바다', 5349: '에대해', 5350: '▁그만큼', 5351: '레인', 5352: '발연기', 5353: '▁보고싶어', 5354: '▁고등학교', 5355: '▁짐캐리', 5356: '▁할리우드', 5357: '맴', 5358: '켄', 5359: '▁브루스', 5360: 'ᄏᄏᄏᄏᄏᄏᄏ', 5361: '▁호기심', 5362: '▁즐길', 5363: '▁플롯', 5364: '▁잔잔하게', 5365: '▁싸움', 5366: '▁짜증이', 5367: '뻔했다', 5368: '▁유럽', 5369: '▁짜증만', 5370: '▁꼭보세요', 5371: '▁따뜻해', 5372: '▁첨엔', 5373: '▁역사를', 5374: '▁손발', 5375: '▁재능', 5376: '▁대놓고', 5377: '▁가수', 5378: '▁스릴도', 5379: '아버지', 5380: '▁가족의', 5381: '탑', 5382: '목소리', 5383: '보내', 5384: '▁보는거', 5385: '▁그건', 5386: '▁마지막까지', 5387: '▁우연', 5388: '▁작가님', 5389: '맞는', 5390: '보게되', 5391: '▁한국판', 5392: '▁놀랍', 5393: '부러', 5394: '▁지겹', 5395: '▁이상하고', 5396: '▁못보겠다', 5397: '▁하는게', 5398: '▁웃을', 5399: '▁아내', 5400: '나오네', 5401: '▁유치해', 5402: '겠죠', 5403: 'ad', 5404: '▁많은데', 5405: '▁줍니다', 5406: '▁반전에', 5407: '할뿐', 5408: '쩜', 5409: '납', 5410: '굿굿', 5411: '뷰', 5412: '▁설득력', 5413: '밴', 5414: '얄', 5415: '▁빨갱이', 5416: '▁홍상수', 5417: '▁하정우', 5418: '▁동시에', 5419: '주기도', 5420: '▁배우들은', 5421: '▁착각', 5422: '▁상어', 5423: '할수가', 5424: '분만에', 5425: '도좋고', 5426: '▁아쉬움이', 5427: '▁어디로', 5428: '▁안봐도', 5429: '▁재미있었습니다', 5430: '▁저평가', 5431: '갔는데', 5432: '▁예수', 5433: '아이들', 5434: '▁to', 5435: '▁아냐', 5436: '▁이뻐', 5437: '▁인형', 5438: '상영', 5439: '▁공감할', 5440: '썼', 5441: '벗', 5442: '왠', 5443: '▁높아서', 5444: '▁인생은', 5445: '▁터미네이터', 5446: '▁남긴', 5447: '▁봤다면', 5448: '▁괜찮고', 5449: '▁액션과', 5450: '▁마니', 5451: '보고싶어요', 5452: '▁받은', 5453: '거든', 5454: '▁영화였음', 5455: '▁먹는', 5456: '80', 5457: '▁때려', 5458: '젊', 5459: '웟', 5460: '▁웰메이드', 5461: '▁깡패', 5462: '->', 5463: '▁of', 5464: '▁시대에', 5465: '▁실화를', 5466: '▁아닐', 5467: '▁겨울', 5468: '▁돈내고', 5469: '▁부럽', 5470: '하는건지', 5471: '▁거리', 5472: '▁추격', 5473: '▁개콘', 5474: '▁예능', 5475: '했다면', 5476: '▁아무도', 5477: '신분', 5478: '▁영상미가', 5479: '세여', 5480: '▁정신병자', 5481: '▁찾아볼', 5482: '같았', 5483: '▁여주가', 5484: '▁들고', 5485: '스톤', 5486: '▁사랑합니다', 5487: '▁매력에', 5488: '▁어색하고', 5489: '▁전쟁의', 5490: '▁현실과', 5491: '주제', 5492: '▁정작', 5493: '▁아우', 5494: '여운', 5495: '▁시나리오가', 5496: '▁이름이', 5497: '▁감정이', 5498: '▁황당한', 5499: '▁보이지', 5500: '▁유발', 5501: '▁그립', 5502: '▁보게된', 5503: '▁영화예요', 5504: '▁그것도', 5505: '혹은', 5506: '▁쉽지', 5507: '▁연기자', 5508: '볼수있', 5509: '▁재난', 5510: '▁점수는', 5511: 'ᅢ', 5512: '▁네티즌', 5513: '셋', 5514: '쟈', 5515: '컸', 5516: '▁유덕화', 5517: '▁임창정', 5518: '▁도무지', 5519: '▁스타뎀', 5520: '▁낭만', 5521: '▁꿈꾸', 5522: '빼', 5523: '▁흐르는', 5524: '▁돈아까워', 5525: '▁할아버지', 5526: '▁은근히', 5527: '▁그림체', 5528: '▁폭발', 5529: '너무너무', 5530: '▁거북', 5531: '▁그야말로', 5532: '▁박수', 5533: '굳굳', 5534: '보기싫', 5535: '▁동양', 5536: '나왓', 5537: '▁사랑해', 5538: '▁재미있었음', 5539: '굳', 5540: '▁도망', 5541: '▁무엇인가', 5542: '▁순수하고', 5543: '▁일본인', 5544: '▁불쌍한', 5545: '▁찾을', 5546: '▁뒤에', 5547: '캐스팅', 5548: '귀엽', 5549: '▁엉망이', 5550: '도대체', 5551: '▁오브', 5552: '느끼', 5553: '편까지', 5554: '▁절정', 5555: '▁히어로', 5556: '외엔', 5557: 'lo', 5558: '▁책으로', 5559: '▁유치해서', 5560: '▁촌스러', 5561: '▁꿀', 5562: '▁별하나', 5563: '▁밤에', 5564: '▁졸았', 5565: '▁않은데', 5566: '▁어우', 5567: '순위', 5568: '▁잘만들었다', 5569: '▁이해를', 5570: '없네요', 5571: '▁망쳐', 5572: '뭣', 5573: '▁대통령', 5574: '▁나레이션', 5575: '간만에', 5576: '▁탈출', 5577: '▁이름을', 5578: '▁자신을', 5579: '▁이루어', 5580: '▁만화책', 5581: '▁아무런', 5582: '▁당연히', 5583: '▁말아야', 5584: '▁어디가', 5585: '분동안', 5586: '▁하품', 5587: '▁세상이', 5588: '▁형제', 5589: '앞에서', 5590: '하시길', 5591: '▁생기', 5592: '▁시작부터', 5593: '▁마리', 5594: '햇는데', 5595: '▁허무한', 5596: '▁매니아', 5597: '꿀', 5598: '▁문제가', 5599: '▁아깝네요', 5600: '▁풋풋한', 5601: '▁감동적이네요', 5602: '자신', 5603: '▁배경이', 5604: '겐', 5605: '▁배신', 5606: '델', 5607: '왔어요', 5608: '멜', 5609: '▁잊혀', 5610: '▁친구가', 5611: '▁나네요', 5612: '빠진', 5613: 'ᄁ', 5614: '▁빕니다', 5615: '읍', 5616: '▁이토록', 5617: '▁양아치', 5618: '▁갠적으로', 5619: '▁반드시', 5620: '▁정우성', 5621: '▁빠른', 5622: '부분은', 5623: '▁기대하지', 5624: '▁봐야지', 5625: 'ck', 5626: '뿐이다', 5627: '▁무섭고', 5628: '▁기가', 5629: '▁다행이다', 5630: '답게', 5631: '▁혹시나', 5632: '▁제작비가', 5633: '▁처음에는', 5634: '▁예술영화', 5635: '하실', 5636: '▁친구랑', 5637: '스릴', 5638: '알아', 5639: '▁위트', 5640: '▁내돈', 5641: '▁실감', 5642: '▁공간', 5643: '▁싶었다', 5644: '▁이만한', 5645: '▁기대없이', 5646: '▁기대이하', 5647: '▁만점에', 5648: '▁호구', 5649: '▁무섭게', 5650: '▁없게', 5651: '안돼', 5652: '▁설정이', 5653: '▁아진짜', 5654: '▁무난', 5655: '행복', 5656: '재미있어요', 5657: '▁가득한', 5658: '부분에서', 5659: '▁뭐라고', 5660: '나름', 5661: 'ᄏᄏᄏᄏᄏᄏ', 5662: '▁쩌는', 5663: '▁작품입니다', 5664: '▁추천하고', 5665: '랍', 5666: '엽', 5667: '빗', 5668: '▁아무생각없이', 5669: '인상깊었', 5670: '▁움직이', 5671: '▁공짜로', 5672: '▁떨어짐', 5673: '▁향연', 5674: '▁심지어', 5675: '▁뭐하자는', 5676: '▁귀여움', 5677: '▁이것보단', 5678: '찾아', 5679: '▁로빈', 5680: '▁김치', 5681: '▁루즈', 5682: '▁흘리', 5683: '지루하고', 5684: '▁따름', 5685: '그러나', 5686: '없구', 5687: '▁암울', 5688: '소녀', 5689: '▁깍', 5690: '▁하지원', 5691: '▁꽤나', 5692: '▁가고', 5693: '▁후에', 5694: 'ch', 5695: '봐야지', 5696: '▁대학', 5697: '▁원조', 5698: '▁프랑스영화', 5699: '놨네', 5700: '리스트', 5701: '▁좋을듯', 5702: '▁좋아하지만', 5703: '최고다', 5704: '▁아니었다', 5705: '하나하나가', 5706: '섬', 5707: '▁잼있음', 5708: '▁잤다', 5709: '내용은', 5710: '▁찍는', 5711: '귀신', 5712: '있어요', 5713: '▁명성', 5714: '콤', 5715: '▁만들어라', 5716: '갱', 5717: '▁명불허전', 5718: '▁스타워즈', 5719: '▁점수준것들', 5720: '짤', 5721: '▁소중함을', 5722: '▁역겨운', 5723: '덩어리', 5724: '▁적절한', 5725: '▁사투리', 5726: '펙트', 5727: '표정', 5728: '▁명배우', 5729: '▁당황', 5730: '▁안될', 5731: '▁판단', 5732: '▁요새', 5733: '▁생각해보게', 5734: '▁등장인물', 5735: '▁가능한', 5736: '것처럼', 5737: '▁빛을', 5738: '▁억지감동', 5739: '▁정상', 5740: '▁액션신', 5741: '▁수많은', 5742: '▁치유', 5743: '▁궁금해서', 5744: '▁욕심', 5745: '▁짜증나고', 5746: '▁시대의', 5747: '갈때', 5748: '시간동안', 5749: '▁남았', 5750: '▁확인', 5751: '40', 5752: '▁고어', 5753: '벤', 5754: '▁자아', 5755: '▁찍고', 5756: '긴했지만', 5757: '▁읽고', 5758: '▁캐리', 5759: '▁잼있는', 5760: '▁전편보다', 5761: '것보다', 5762: '지루하다', 5763: '▁2000', 5764: 'ᄎ', 5765: '덴', 5766: '츄', 5767: '▁쓸데없이', 5768: '욤', 5769: '▁이병헌', 5770: '▁화장실', 5771: '▁박진감', 5772: '▁흑백', 5773: '▁케빈', 5774: '▁저급', 5775: '▁4.44', 5776: '▁실험', 5777: '▁배꼽', 5778: '능력', 5779: '▁장난아니', 5780: '외에는', 5781: '못하는', 5782: '▁서울', 5783: '▁거품', 5784: '▁100%', 5785: '▁당신이', 5786: '▁아련하', 5787: '▁자극적', 5788: '▁멋있어', 5789: '▁미소가', 5790: '▁묻어', 5791: '싫어', 5792: '잖아요', 5793: '▁시작해서', 5794: '▁왜곡', 5795: '▁철학적', 5796: '좋네요', 5797: '쩝', 5798: '코메디', 5799: '해줄', 5800: '만드냐', 5801: '▁곧', 5802: '500', 5803: '▁웃었', 5804: '였지', 5805: '▁말고는', 5806: '지루해', 5807: '▁거기에', 5808: '▁실수', 5809: '▁괜찮게', 5810: '하지말고', 5811: '만큼이나', 5812: '▁현실감', 5813: '세포', 5814: '▁담은', 5815: '▁돼지', 5816: '▁등장인물들', 5817: '미친', 5818: '봤습니다', 5819: '숀', 5820: '및', 5821: '뻥', 5822: '쩍', 5823: '쯧쯧', 5824: '▁무거운', 5825: '▁이해불가', 5826: '▁감명깊게', 5827: '▁스파이', 5828: '▁이딴영화', 5829: '▁맞춰', 5830: '▁앞뒤', 5831: '▁오래전에', 5832: '▁일부러', 5833: '▁응원', 5834: '조연', 5835: '▁파괴', 5836: '▁어느정도', 5837: '▁만들어낸', 5838: '것같은데', 5839: '▁볼만합니다', 5840: '▁속았다', 5841: '▁사람이라면', 5842: '▁최악의영화', 5843: '▁귀여워요', 5844: '▁녹아', 5845: '점만점에', 5846: '▁산만하고', 5847: '있던', 5848: '▁답답해', 5849: '▁ᄡ', 5850: '▁내일', 5851: '▁사람들에게', 5852: '게만드는', 5853: '▁잘한다', 5854: '▁보겠다', 5855: '평론가', 5856: '뭘', 5857: 'TV', 5858: '있지만', 5859: '▁아프다', 5860: '줄알았다', 5861: '▁깔끔한', 5862: '전혀', 5863: '▁말자', 5864: '또한', 5865: '제대로', 5866: '▁메이', 5867: '팍', 5868: '퀄', 5869: '▁둘째치고', 5870: '껀', 5871: '랴', 5872: '븐', 5873: '템', 5874: '눌', 5875: '쉴', 5876: '▁전반적으로', 5877: '툭', 5878: '▁베드신', 5879: '▁하이틴', 5880: '▁혐오', 5881: '▁어둡', 5882: '▁목숨', 5883: '▁왠만한', 5884: '▁보시면', 5885: '▁빛나는', 5886: '▁엄청나게', 5887: '▁장난하냐', 5888: '▁마시길', 5889: '▁편안', 5890: '▁전체적인', 5891: '▁찾는', 5892: '뭐냐', 5893: '거에요', 5894: '▁여친', 5895: '▁모욕', 5896: '▁부담', 5897: '작이라', 5898: '▁어쩔수', 5899: '▁답답하다', 5900: 'am', 5901: '▁보았던', 5902: '▁평화', 5903: '미국', 5904: '▁알았음', 5905: '▁생명', 5906: '하하하하', 5907: '▁이거보단', 5908: '▁기적', 5909: '갖', 5910: '▁충격적인', 5911: '보긴', 5912: '못하고', 5913: '▁그렇지만', 5914: '터짐', 5915: '칼', 5916: '비슷', 5917: '그럼', 5918: '나왔으면', 5919: '▁끝나서', 5920: '겠어', 5921: '▁웃기는', 5922: '▁불가능', 5923: '나쁜', 5924: '▁이것보다', 5925: '싫다', 5926: '▁필요한가', 5927: '▁웃었다', 5928: '▁킬링', 5929: '쯔', 5930: '▁놀랐다', 5931: '▁인터넷', 5932: '▁흡입력', 5933: '렐', 5934: '밧', 5935: '▁도데체', 5936: '▁강동원', 5937: '▁오글오글', 5938: '▁상관없', 5939: '▁민폐', 5940: '▁최소', 5941: '▁잃은', 5942: '그렇게', 5943: '▁서양', 5944: '▁관련', 5945: '▁낫겠다', 5946: '▁절망', 5947: '으려고', 5948: '유발', 5949: '▁아만다', 5950: '▁진지하게', 5951: '▁미안하다', 5952: '▁희망을', 5953: '▁울었어요', 5954: '▁기존', 5955: '▁괜찮았음', 5956: '▁마지막엔', 5957: '▁있었으면', 5958: '▁나을듯', 5959: '겠는데', 5960: '▁표현할', 5961: '▁괜찮네요', 5962: '▁않았지만', 5963: '였다면', 5964: '▁보려', 5965: '▁다르게', 5966: '낫다', 5967: '▁상대', 5968: '줘야지', 5969: '▁괜찮아', 5970: '▁중심', 5971: '▁낮네요', 5972: '오랜만에', 5973: '▁명연기', 5974: '▁파리', 5975: '▁뭐임', 5976: '▁미국식', 5977: '▁두시간', 5978: '▁자극적인', 5979: '당시엔', 5980: '하니까', 5981: '▁혹시', 5982: '▁좋지', 5983: '▁초등학교', 5984: 'ᅩ', 5985: '쿡', 5986: '뭉', 5987: '뚝', 5988: '펜', 5989: '뻑', 5990: '톡', 5991: '▁가까운', 5992: '스파이더맨', 5993: '쫓', 5994: '▁어두운', 5995: '▁비호감', 5996: '▁격투', 5997: '▁ᄌᄂ', 5998: '▁만들었나', 5999: '▁어설프다', 6000: '▁짜릿', 6001: '▁예측', 6002: '▁대사들', 6003: 'us', 6004: '엇음', 6005: '▁감동적이에요', 6006: '▁기획', 6007: '▁도시', 6008: '▁에효', 6009: '▁인생영화', 6010: '▁중학생', 6011: '습니까', 6012: '지않게', 6013: '▁화나', 6014: '자마자', 6015: '▁갖다', 6016: '▁사랑스럽다', 6017: '것같네요', 6018: '▁담긴', 6019: '▁첨부터', 6020: '▁멋있고', 6021: '놈들은', 6022: '▁거지같은', 6023: '▁간지', 6024: '▁맞나', 6025: '▁안보는게', 6026: 'ᅲᅲᅲᅲᅲ', 6027: 'ce', 6028: '여배우', 6029: '▁연기잘하', 6030: '힘들', 6031: '되네', 6032: '▁벗어', 6033: '▁첨이다', 6034: '▁좋네', 6035: '▁가족들', 6036: '▁떠올', 6037: '▁나와야', 6038: '할수있는', 6039: '▁충분한', 6040: '▁뜬금없는', 6041: '▁소화', 6042: '잤', 6043: '시나리오', 6044: '유쾌하게', 6045: '▁소름끼치는', 6046: '핵', 6047: '예술', 6048: '선택', 6049: '천원', 6050: '▁감동입니다', 6051: '▁인상적인', 6052: '픔', 6053: '스티', 6054: '▁ᄒᄃᄃ', 6055: '▁시도는', 6056: '떤', 6057: '낯', 6058: '헉', 6059: '▁신하균', 6060: '▁오프닝', 6061: '▁리얼리티', 6062: '▁언젠가', 6063: '▁자동차', 6064: '▁누군지', 6065: '▁무대', 6066: '▁첩보', 6067: '스틴', 6068: '▁엽기', 6069: '▁블랙코미디', 6070: '괜찬', 6071: '▁만화영화', 6072: '웠던', 6073: '▁진지한', 6074: '▁살리지', 6075: '▁부활', 6076: '▁태국', 6077: '▁개똥', 6078: '녀석', 6079: '▁이거보다', 6080: '▁말하려는', 6081: '립니다', 6082: '▁망할', 6083: '▁한심하다', 6084: '▁절로', 6085: '모자', 6086: '▁무겁', 6087: '▁여자애', 6088: 'ᄃᄃᄃ', 6089: '▁보고싶은데', 6090: '꺼야', 6091: '▁유행', 6092: '▁멋있었', 6093: '까봐', 6094: '▁아니잖아', 6095: '▁그동안', 6096: '맘에', 6097: '▁모르겠네요', 6098: '▁형편없는', 6099: '▁넘넘', 6100: '▁삶과', 6101: '▁한번더', 6102: '있네요', 6103: '▁독특하고', 6104: '였네요', 6105: '▁아파', 6106: '▁가히', 6107: '곳이', 6108: '같아요', 6109: '곳에서', 6110: '▁처음이네', 6111: 'un', 6112: '▁짜증나게', 6113: '▁재미없었', 6114: '▁초반부', 6115: '▁훌륭했', 6116: '돈주고', 6117: '▁선정', 6118: '▁가족애', 6119: '덩', 6120: '셉', 6121: '됫', 6122: '▁말그대로', 6123: '▁박보영', 6124: '▁라이언', 6125: '▁기발한', 6126: '▁보지마셈', 6127: '였구나', 6128: '▁헛웃음', 6129: '▁극혐', 6130: '▁부탁', 6131: '▁좋았을텐데', 6132: '▁고딩', 6133: '▁개그맨', 6134: '▁동영상', 6135: '▁극복', 6136: '▁등등', 6137: '▁은근', 6138: '▁여태', 6139: '▁강추합니다', 6140: '▁마약', 6141: '해지고', 6142: '▁미녀', 6143: '▁중국영화', 6144: '▁끌고', 6145: '하거나', 6146: '▁인디', 6147: '▁어울리지', 6148: '▁만난', 6149: '▁귀여', 6150: '▁잊고', 6151: '밖', 6152: '▁마지막회', 6153: '▁여인', 6154: '▁말밖에', 6155: '더스', 6156: '▁낚인', 6157: '망작', 6158: '쁜', 6159: '▁화끈', 6160: '돌려', 6161: '▁세월이', 6162: '▁벗어나', 6163: '멋잇', 6164: '▁빠졌', 6165: '▁찾아서', 6166: '꿈', 6167: '▁뻔뻔', 6168: '바람', 6169: '하는구나', 6170: '맑', 6171: '▁어정쩡', 6172: '버렸네', 6173: '쉐', 6174: '혔', 6175: '▁EBS', 6176: '▁류승범', 6177: '▁오그라드는', 6178: '뱀', 6179: '셜', 6180: '캡', 6181: '▁쓸데없는', 6182: '앞으로', 6183: '▁죄송', 6184: '▁그려낸', 6185: '▁고뇌', 6186: '▁공룡', 6187: '▁밑도', 6188: '좋아하는데', 6189: '▁좋으나', 6190: '특집', 6191: 'ᄀᄀ', 6192: '▁이도저도', 6193: '▁대신', 6194: '좋은데', 6195: '▁충분하다', 6196: '▁천국', 6197: '▁잘못된', 6198: '▁마시', 6199: '▁드림', 6200: '▁살인마', 6201: '▁탄탄하고', 6202: '▁주온', 6203: '브리', 6204: '▁애매', 6205: '▁안나온다', 6206: '▁귀여웠', 6207: '▁답답함', 6208: '▁명성에', 6209: '아까운영화', 6210: '하고싶다', 6211: '^^;', 6212: '▁소장하고', 6213: '▁모르겠네', 6214: '▁잠시', 6215: '▁옆에', 6216: '드립', 6217: '▁만났', 6218: '▁낮은지', 6219: '▁신선함', 6220: '▁놓치', 6221: '▁싸우', 6222: '낭비', 6223: '▁막판', 6224: '로맨스', 6225: '▁부정', 6226: '허무', 6227: '볼까', 6228: '▁다시보기', 6229: '퉤', 6230: '▁movie', 6231: '▁못봐주겠', 6232: '▁송강호', 6233: '핫', 6234: '걷', 6235: '렛', 6236: '▁피아노', 6237: '▁배급사', 6238: '▁일주일', 6239: '▁미스캐스팅', 6240: '▁흥미로웠', 6241: '▁전성기', 6242: '▁위험', 6243: '▁장애인', 6244: '▁묘한', 6245: '▁고독', 6246: '▁사랑한다', 6247: '▁장난하나', 6248: '▁모르지만', 6249: '▁재미있었는데', 6250: '이후로', 6251: '▁마블', 6252: '▁한방', 6253: '▁역사상', 6254: '극히', 6255: '▁않았던', 6256: 'ed', 6257: '▁공유', 6258: '▁말인가', 6259: '▁비중', 6260: '▁반영', 6261: '보임', 6262: '▁결론은', 6263: '▁보는것', 6264: '▁보라고', 6265: '삼류', 6266: '살때', 6267: '▁어이없다', 6268: '었구나', 6269: '▁넣어', 6270: '15', 6271: '▁흉내', 6272: '▁본격', 6273: '초딩', 6274: '▁없군', 6275: '▁실망이다', 6276: '곽', 6277: 'ᄐ', 6278: '▁시종일관', 6279: '렴', 6280: '▁디카프리오', 6281: '겻', 6282: '랩', 6283: '몫', 6284: '쭈', 6285: '캠', 6286: '튜', 6287: '▁몽환적', 6288: '▁걱정', 6289: '▁킬러', 6290: '▁환경', 6291: '드려요', 6292: '마누라', 6293: '▁일반', 6294: '▁이번에', 6295: '▁느껴지지', 6296: '▁대박이다', 6297: '▁이끌어', 6298: '▁먹칠', 6299: '▁살렸다', 6300: '보일', 6301: '▁욕먹', 6302: '분짜리', 6303: '였네', 6304: '▁뻔하다', 6305: '▁다운받아서', 6306: '▁오글거리는', 6307: '▁짝이', 6308: '잭슨', 6309: '▁언제까지', 6310: '▁심한', 6311: '▁만들려', 6312: '느냐', 6313: '▁환상적인', 6314: '▁한시간', 6315: '다시보고싶', 6316: '▁개봉당시', 6317: '▁아까워서', 6318: '아니면', 6319: '▁잼있네요', 6320: '효과', 6321: 'el', 6322: '▁승리', 6323: '좀비', 6324: 'ne', 6325: '▁심하다', 6326: '할줄', 6327: '▁신화', 6328: '김정', 6329: '▁달려', 6330: '▁열라', 6331: '보니깐', 6332: '에비해', 6333: '▁싶다면', 6334: '▁알파치노', 6335: '풋', 6336: '▁아름다워', 6337: '▁섬세한', 6338: '▁칭찬', 6339: '▁닥치고', 6340: '▁드니로', 6341: '▁전설이', 6342: '▁2012', 6343: '▁라스트', 6344: '▁읽는', 6345: '▁-_-;;', 6346: '▁때리', 6347: '▁믿어', 6348: '▁재밌게봤어요', 6349: '▁개꿀잼', 6350: '▁역작', 6351: '여주인공', 6352: '▁조낸', 6353: '학년때', 6354: '▁대결', 6355: '▁역겹다', 6356: '▁모든것이', 6357: '▁최고에요', 6358: '형제', 6359: '▁잃었', 6360: '▁나무', 6361: '되길', 6362: '▁조잡한', 6363: '▁싫어하는', 6364: '중국', 6365: '▁빠져서', 6366: '▁옛날영화', 6367: '사실', 6368: '▁보여줘', 6369: '▁중년', 6370: '주려고', 6371: '▁재미없네요', 6372: '맹', 6373: '경찰', 6374: '뚫', 6375: '릇', 6376: '옳', 6377: '왈', 6378: '▁유치찬란', 6379: '덮', 6380: '둠', 6381: '엮', 6382: '▁왕조현', 6383: '▁짬뽕', 6384: '▁되돌아', 6385: '▁섬뜩', 6386: '▁혁명', 6387: '옵니다', 6388: '역할', 6389: '▁슈퍼맨', 6390: '▁각색', 6391: '▁영원', 6392: '페이스', 6393: '▁흘러가는', 6394: '▁사랑스럽고', 6395: '▁만약', 6396: '각본', 6397: '▁싶었던', 6398: '충격', 6399: '편집', 6400: '▁벌어', 6401: '흥미롭', 6402: '▁느껴졌다', 6403: '예뻐', 6404: '하자면', 6405: '▁어쩌다', 6406: '▁준비', 6407: '▁볼것', 6408: '▁남성', 6409: '비추', 6410: '▁단점', 6411: '▁뛰어넘는', 6412: '속으로', 6413: '봤네', 6414: '.,.,', 6415: '▁꼭봐야', 6416: '▁좋더라', 6417: '▁가시', 6418: '누님', 6419: '▁보고나니', 6420: '▁되야', 6421: '▁세상에서', 6422: '룬', 6423: '▁가야', 6424: 'CG', 6425: '랙', 6426: '퉁', 6427: 'ᄊ', 6428: '▁뒤죽박죽', 6429: '▁오랫동안', 6430: '▁즐거움', 6431: '켓', 6432: '▁2.22', 6433: '점준것중', 6434: '▁비행기', 6435: '▁바탕으로', 6436: '범죄', 6437: '▁쏘우', 6438: '병맛', 6439: '▁돌아보게', 6440: '▁과학', 6441: '▁로망', 6442: '▁흥분', 6443: '▁최후', 6444: '▁단순히', 6445: '▁기억난다', 6446: '▁뻔한스토리', 6447: '▁지옥', 6448: '▁실사', 6449: '맞아', 6450: '나보네', 6451: '물론', 6452: '▁최소한', 6453: '▁공연', 6454: '봣어요', 6455: '겨울', 6456: '▁여배우들', 6457: 'ost', 6458: 'he', 6459: '해줘서', 6460: '▁천사', 6461: '▁불안', 6462: '재밋엇', 6463: 'ᄃᄃᄃᄃ', 6464: 'ri', 6465: '뚜', 6466: '썸', 6467: '▁스필버그', 6468: '썬', 6469: '킴', 6470: '▁오그라들', 6471: '▁데이빗', 6472: '▁여러모로', 6473: '▁박평식', 6474: '▁엉뚱', 6475: '▁최민수', 6476: '▁원숭이', 6477: '▁한효주', 6478: '▁아련한', 6479: '▁무간도', 6480: 'ᅲᅲᅲᅲᅲᅲᅲᅲᅲᅲ', 6481: '▁상큼', 6482: '▁도둑', 6483: '▁늙은', 6484: '폴', 6485: '▁말이필요없다', 6486: '▁풀어낸', 6487: '▁로맨틱코미디', 6488: '▁역량', 6489: '밖엔', 6490: '▁앉아', 6491: '▁기대했', 6492: '▁멋짐', 6493: '▁잔잔함', 6494: '▁알려주는', 6495: '▁재탕', 6496: '▁좋겠습니다', 6497: '▁멋져요', 6498: '▁또라이', 6499: '▁봤는지', 6500: '보지마라', 6501: '아닌데', 6502: '▁완벽하다', 6503: '▁책임', 6504: '보고나서', 6505: '▁군인', 6506: '▁멋지게', 6507: '몰라', 6508: '▁제대로된', 6509: '▁모방', 6510: '▁놀란', 6511: '▁않아요', 6512: '▁말투', 6513: '▁웃겨서', 6514: '할수없는', 6515: '▁사람에게', 6516: '구역', 6517: '▁못했', 6518: '▁최고최고', 6519: '▁배경으로', 6520: '▁없던', 6521: '그저', 6522: '순수', 6523: '보셔', 6524: '▁별로였다', 6525: '▁환상적', 6526: '▁이상하다', 6527: '점주기도', 6528: '50', 6529: '▁독특하', 6530: '▁정체', 6531: '앉', 6532: '셧', 6533: '옮', 6534: '퀸', 6535: '▁아기자기', 6536: '▁아마추어', 6537: '▁클래식', 6538: '▁김희선', 6539: '▁깜놀', 6540: '▁데뷔작', 6541: '▁후속편', 6542: '▁완젼', 6543: '▁두고두고', 6544: '▁에라이', 6545: '▁레옹', 6546: '▁잔인함', 6547: '것같아', 6548: 'ter', 6549: '시청률', 6550: '애니메이션', 6551: '아름다운', 6552: '옛날', 6553: '▁떨어져', 6554: '우리나라', 6555: '▁같았다', 6556: '▁못하겠다', 6557: '결국', 6558: '▁감명', 6559: '▁아이들에게', 6560: '구먼', 6561: '▁미스터리', 6562: '▁어쩌면', 6563: '멋진', 6564: '▁인류', 6565: '▁어이없음', 6566: '회부터', 6567: '거같아', 6568: '▁전라도', 6569: 'se', 6570: '▁아이유', 6571: '할정도로', 6572: '▁구분', 6573: '▁토니', 6574: '▁기대했던', 6575: '▁부족함', 6576: '복수', 6577: '해놓고', 6578: '주었다', 6579: '▁정신병', 6580: '▁의상', 6581: '있었는데', 6582: '▁스릴감', 6583: '밋', 6584: '어설프', 6585: '▁찍으', 6586: '▁스릴러물', 6587: '쏴', 6588: '▁뒤늦게', 6589: '곱', 6590: '뤄', 6591: '▁다이하드', 6592: '▁마찬가지', 6593: '▁컨셉', 6594: '▁잊지못할', 6595: '▁김수현', 6596: '▁묵직', 6597: '▁빠져들게', 6598: '▁다니엘', 6599: '▁수면제', 6600: '▁컬트', 6601: '▁케미', 6602: '▁새삼', 6603: '▁거기다', 6604: '▁권력', 6605: '▁재앙', 6606: '▁상징', 6607: '▁보여줄', 6608: '무서워', 6609: '줍니다', 6610: '개인적으로', 6611: '▁말씀', 6612: '▁재미나게', 6613: '것같음', 6614: 'very', 6615: '▁괜찮았던', 6616: '예쁘', 6617: '▁흥미롭지', 6618: '▁채우', 6619: '합시다', 6620: '보지마세요', 6621: '▁있긴', 6622: '▁소통', 6623: '▁들어간', 6624: '▁공감되', 6625: '▁야하지도', 6626: '▁파워', 6627: '▁멋져', 6628: '보려고', 6629: '▁오직', 6630: '터졌', 6631: '지못한', 6632: '▁강간', 6633: '▁행복하게', 6634: '▁의미있는', 6635: '하겠습니다', 6636: '▁여신', 6637: 'ma', 6638: '▁않으면', 6639: '▁넘어서', 6640: '생기고', 6641: '▁이딴거', 6642: '감명깊', 6643: '흉', 6644: '▁고등학생', 6645: '▁군더더기', 6646: '▁비쥬얼', 6647: '듦', 6648: '뜸', 6649: '뺏', 6650: '홈', 6651: '▁Good', 6652: '▁테이큰', 6653: '룰', 6654: '턱', 6655: '▁그냥저냥', 6656: '▁엄정화', 6657: '▁차승원', 6658: '▁김혜수', 6659: '▁농담', 6660: '▁완죤', 6661: '▁봐줄만', 6662: '▁아쉬울', 6663: '▁거부감', 6664: '▁어설프게', 6665: '▁흥미롭게', 6666: '▁더러워', 6667: '▁아쉬워요', 6668: '샘', 6669: '▁감동적이었다', 6670: '킬링타임', 6671: '판타지', 6672: '▁재밌었습니다', 6673: '▁만들어주', 6674: '▁팬들', 6675: '▁무협영화', 6676: '▁흉내내', 6677: '▁재방', 6678: '▁미학', 6679: '▁레오', 6680: '▁부산', 6681: '▁울림', 6682: '▁한동안', 6683: '아무리', 6684: '▁지금보면', 6685: '▁세월', 6686: '맞음', 6687: '▁향수', 6688: '하길래', 6689: '▁어쩔수없', 6690: '▁있었음', 6691: '▁매주', 6692: '▁나왔던', 6693: '▁OOOO', 6694: '▁먹어', 6695: '원주고', 6696: '영활', 6697: '안좋', 6698: '▁광기', 6699: '솜', 6700: '▁애니매이션', 6701: '▁카메론', 6702: '팩', 6703: '▁새록새록', 6704: '▁송승헌', 6705: '▁포켓몬', 6706: '꽁', 6707: '뜯', 6708: '밉', 6709: '▁팝콘', 6710: '▁한석규', 6711: '▁멈추', 6712: '▁드래곤볼', 6713: '▁밝혀', 6714: '▁원피스', 6715: '▁택시', 6716: '▁자연스럽게', 6717: '▁크리스찬', 6718: '땜시', 6719: '▁찬양', 6720: '▁등록', 6721: '▁모자라', 6722: '▁감동적입니다', 6723: '▁가짜', 6724: '▁힘들었다', 6725: '▁웃다가', 6726: '▁범죄자', 6727: '▁불쌍하', 6728: '▁보고있는데', 6729: '▁보는동안', 6730: '▁비록', 6731: '▁no', 6732: '엇어요', 6733: '졌으면', 6734: '▁작화', 6735: '▁알바생', 6736: '▁보게되는', 6737: '▁평소', 6738: '▁대역', 6739: '▁인연', 6740: '웃긴', 6741: '▁좋아하네요', 6742: '재밋어요', 6743: '▁망쳐놓', 6744: '▁나올까', 6745: '▁화끈한', 6746: '셨으면', 6747: '▁그리워', 6748: '갈수', 6749: '졌음', 6750: '▁방해', 6751: '저런', 6752: '높아', 6753: '▁알게되', 6754: '▁오랜', 6755: '▁일깨워', 6756: '▁캐릭', 6757: '하더니', 6758: '^_^', 6759: '▁러브스토리', 6760: '▁호불호가', 6761: '팽', 6762: '▁엉망진창', 6763: '▁차태현', 6764: '▁키아누', 6765: '렘', 6766: '앜', 6767: '▁나루토', 6768: '▁흑역사', 6769: '▁머릿속', 6770: '▁빠순이', 6771: '▁왕가위', 6772: '▁애초에', 6773: '▁심오한', 6774: '▁엠마', 6775: '▁직업', 6776: '▁거기서', 6777: '겠는가', 6778: '▁그럴싸', 6779: '><', 6780: '▁민족', 6781: '▁첫번째', 6782: '▁억지스런', 6783: '같애', 6784: '▁국산', 6785: '▁짜증났', 6786: '돋는다', 6787: '▁늙어', 6788: '첫', 6789: '프로그램', 6790: '▁감동도없고', 6791: '그나마', 6792: '댓글', 6793: '▁다시보게', 6794: '다시봐도', 6795: '▁만든건지', 6796: '폭력', 6797: '▁화질', 6798: '▁편하게', 6799: 'ay', 6800: 'sh', 6801: '▁두명', 6802: '▁브레', 6803: '자꾸', 6804: '▁조연들', 6805: '누구', 6806: '실력', 6807: '혐', 6808: '첩', 6809: '밨', 6810: '▁영웅본색', 6811: '랏', 6812: '쇄', 6813: '짙', 6814: '▁세련된', 6815: '욬', 6816: '헨', 6817: '▁웬만하면', 6818: '▁빈약한', 6819: '▁찬사를', 6820: '▁2015', 6821: '▁강아지', 6822: '▁파격적', 6823: 'vs', 6824: '▁아무튼', 6825: '▁시간아까워', 6826: '▁프레', 6827: '▁시험', 6828: '점도아깝다', 6829: '▁반갑', 6830: '▁고증', 6831: '▁재밌기만', 6832: '▁모독', 6833: '▁처음본다', 6834: '▁챙겨보', 6835: '▁고문', 6836: '▁몰아', 6837: '▁싶습니다', 6838: '▁성형', 6839: '멀', 6840: '마무리', 6841: '묻', 6842: '▁이은주', 6843: '▁학생들', 6844: '얼마나', 6845: '♡♡♡', 6846: '잘봤습니다', 6847: '▁마녀', 6848: '▁네이버평점', 6849: '▁향한', 6850: '▁슬프네요', 6851: '영화자체는', 6852: '모르겠다', 6853: '▁일반인', 6854: 'il', 6855: '▁우디', 6856: '쓰렉', 6857: '▁맞추', 6858: '▁커버', 6859: '▁진부함', 6860: '깐', 6861: '▁살았', 6862: '▁완성', 6863: '▁맛있', 6864: '부르', 6865: '섯', 6866: '▁역사적', 6867: '뗄', 6868: '뎀', 6869: '믄', 6870: '줫', 6871: '훼', 6872: '▁드림웍스', 6873: '▁박찬욱', 6874: '▁안타까움', 6875: '▁윌리엄', 6876: '▁말았어야', 6877: '▁재발견', 6878: '▁가슴아픈', 6879: '▁김민종', 6880: '▁레이첼', 6881: '▁깨달음', 6882: '▁윌리스', 6883: '▁감성팔이', 6884: '▁외로움', 6885: '▁한쿡영화', 6886: '▁페이크', 6887: '▁흠잡을', 6888: '▁찢어', 6889: '▁치밀하', 6890: '▁방황', 6891: '▁극단적', 6892: '▁안성기', 6893: '▁람보', 6894: '▁고인의', 6895: '▁닮았', 6896: '▁열광', 6897: '▁놀라울', 6898: '▁혼란', 6899: '▁공허', 6900: '▁마틴', 6901: '▁음향', 6902: '▁독립', 6903: '▁시골', 6904: '▁아깝습니다', 6905: '▁백배', 6906: '▁무슨말이', 6907: '▁더욱더', 6908: '▁미술', 6909: '중간에', 6910: '▁필요없음', 6911: '▁에로물', 6912: '▁만날', 6913: '선생님', 6914: '짧', 6915: '덕분에', 6916: '무서운', 6917: '궁금', 6918: '▁비교하면', 6919: '입니까', 6920: '▁분장', 6921: 'tv', 6922: '▁않습니다', 6923: '▁끝남', 6924: '노출', 6925: '▁있어보이', 6926: '▁낚이지', 6927: '▁go', 6928: '▁뛰어넘', 6929: '▁없으니', 6930: '▁미쳐', 6931: '▁미안해', 6932: '눈물흘', 6933: '▁미스터', 6934: '보기엔', 6935: '야말로', 6936: '달라고', 6937: '▁허허', 6938: '▁다세포소녀', 6939: '▁시끄럽', 6940: '숲', 6941: '▁이탈리아', 6942: '릉', 6943: '▁구혜선', 6944: '▁사무라이', 6945: '▁설경구', 6946: '▁권상우', 6947: '▁펼쳐', 6948: '▁떨어뜨', 6949: '▁아바타', 6950: '▁클라스', 6951: '▁잔잔하지만', 6952: '▁틀림없', 6953: 'hat', 6954: '▁증명', 6955: '▁환장', 6956: '▁죽기전에', 6957: '▁가슴아프', 6958: '▁자연스러운', 6959: '▁재방송', 6960: '▁복수극', 6961: '-.-', 6962: '▁피곤', 6963: '▁어색함', 6964: '▁심각하게', 6965: '▁세계관', 6966: '▁영광', 6967: '▁동화같은', 6968: '많은것을', 6969: '▁없애', 6970: '▁없구나', 6971: '질질끄', 6972: '▁향기', 6973: '▁매번', 6974: '됬는데', 6975: '▁다시보고싶은', 6976: '▁알게된', 6977: '▁굿굿굿', 6978: '▁좋구', 6979: '현실적', 6980: '챙', 6981: '낄', 6982: '훌', 6983: 'Y', 6984: '릅', 6985: '▁best', 6986: '▁엑스맨', 6987: '삘', 6988: '얀', 6989: '훔', 6990: '▁인상깊게', 6991: '늬', 6992: '좆', 6993: '▁내취향', 6994: '습니당', 6995: '▁떡밥', 6996: '▁평점조절', 6997: '▁나머진', 6998: '랍니다', 6999: '▁살아야', 7000: '▁록키', 7001: '▁총체적', 7002: '▁온갖', 7003: '시리즈중', 7004: '▁역쉬', 7005: '▁분량', 7006: '창있네', 7007: '2005', 7008: '▁패션', 7009: '▁지브리', 7010: '끝날때까지', 7011: '▁뭐랄까', 7012: '▁산만하', 7013: '▁던져', 7014: '▁빠질', 7015: '▁거짓', 7016: '▁적당하다', 7017: '▁재미없었음', 7018: '봤을땐', 7019: '▁인간적으로', 7020: '검사', 7021: '▁기억남', 7022: '죽는줄', 7023: '▁나오다니', 7024: '▁봤었다', 7025: '▁채워', 7026: '싶은데', 7027: '▁시체', 7028: '귀여워', 7029: '몇번', 7030: '쫌', 7031: '암튼', 7032: '큼', 7033: '▁데려다', 7034: '피디', 7035: '완벽하게', 7036: '▁없을까', 7037: '♡♡', 7038: '대가리', 7039: 'ᄍᄍᄍ', 7040: '123', 7041: '▁진정성', 7042: '될까', 7043: '사람마다', 7044: '▁형식', 7045: '▁비극적', 7046: '영화관에서', 7047: '▁알아야', 7048: '제국', 7049: '둑', 7050: '킥', 7051: '덧', 7052: '띠', 7053: '뱅', 7054: '▁에드워드', 7055: '▁엔딩크레딧', 7056: '▁트랜스포머', 7057: '▁홧팅', 7058: '▁흘렀', 7059: '겄', 7060: '졋', 7061: '▁황정민', 7062: '▁이것저것', 7063: '▁납득', 7064: '▁조승우', 7065: '▁지저분', 7066: '▁워낙', 7067: '▁예뻐서', 7068: '▁상당한', 7069: '▁오로지', 7070: '▁이나영', 7071: '▁낮추', 7072: '▁꺼져', 7073: '▁반응', 7074: 'la', 7075: '▁유령', 7076: '▁초반엔', 7077: '▁유익', 7078: '▁우왕', 7079: '▁나은듯', 7080: '▁회상', 7081: '▁얻어', 7082: '▁소소하', 7083: '▁소름끼치', 7084: '▁먹먹해', 7085: '실화라', 7086: '촬영', 7087: '심각', 7088: '▁정체성', 7089: '힘든', 7090: '▁보러갔', 7091: '성룡', 7092: '봤었는데', 7093: 'com', 7094: '투성이', 7095: '▁만들었으면', 7096: '▁유치하기', 7097: '▁살아남', 7098: '재미잇', 7099: '▁시간아깝', 7100: '▁배우분들', 7101: '▁재수없', 7102: '점만점', 7103: '▁느껴졌', 7104: '내놔', 7105: '뎁', 7106: '▁학창시절', 7107: '짖', 7108: '▁겨울왕국', 7109: '▁곱씹', 7110: '▁기대됩니다', 7111: '▁소피마르소', 7112: '▁심리묘사', 7113: '▁어설퍼', 7114: '뼈', 7115: '▁김태희', 7116: '▁최민식', 7117: '▁정주행', 7118: '▁장동건', 7119: '▁고마워', 7120: '▁전지현', 7121: '▁돋보인다', 7122: '▁모자란', 7123: '▁간첩', 7124: '▁7.5', 7125: '▁증말', 7126: '영환줄', 7127: '▁괴롭', 7128: '▁아까웠던', 7129: '▁존경합니다', 7130: '▁쉬운', 7131: '▁좋아하시는', 7132: '십니다', 7133: '▁커피', 7134: '▁알려준', 7135: '▁원표', 7136: '▁소품', 7137: '▁감동적임', 7138: '▁울었습니다', 7139: '▁적극', 7140: '▁못따라', 7141: '중딩', 7142: '지않을', 7143: '▁마음속에', 7144: '맞추기', 7145: '옷', 7146: '탐', 7147: '특유의', 7148: '분들께', 7149: '▁쩌네', 7150: '네이버', 7151: '▁재미있었던', 7152: '떨어지는', 7153: 'ᄋᄋᄋ', 7154: '▁따뜻함', 7155: '▁기분좋은', 7156: '▁깨닫', 7157: '냄', 7158: '쎄', 7159: '봇', 7160: '삽', 7161: '▁러브라인', 7162: '팝', 7163: '▁KBS', 7164: '▁과대평가', 7165: '▁런닝타임', 7166: '▁미야자키', 7167: '▁슬펐다', 7168: '▁크레딧', 7169: '▁팀버튼', 7170: '▁파워레인저', 7171: '▁손예진', 7172: '▁어차피', 7173: '찜찜', 7174: '▁어떠한', 7175: '▁엉엉', 7176: '▁엽문', 7177: '▁2004', 7178: '▁도움이', 7179: '▁2003', 7180: '▁침묵', 7181: '▁사라져', 7182: '싶을때', 7183: '▁귀찮', 7184: '▁압도적', 7185: '▁말아먹은', 7186: '▁돈낭비', 7187: '▁욕나온다', 7188: '▁과장된', 7189: '라이브', 7190: '▁진행되는', 7191: '▁8.5', 7192: '▁경악', 7193: '▁존잼', 7194: '▁돈아깝다', 7195: '▁복선', 7196: '▁경계', 7197: '▁일찍', 7198: '▁늙었', 7199: '배틀', 7200: '흥미를', 7201: '왜이래', 7202: '히어로', 7203: '왔던', 7204: '철학', 7205: '바탕', 7206: '▁실화라는', 7207: '영웅', 7208: '▁흔하', 7209: '▁풀어내', 7210: '죽이고', 7211: '▁300', 7212: '▁가능성', 7213: '쉣', 7214: '썰', 7215: '▁고맙습니다', 7216: '▁조기종영', 7217: '멕', 7218: '썻', 7219: '쏙', 7220: '훗', 7221: '▁어우러진', 7222: '끓', 7223: '▁싸이코패스', 7224: '▁팍팍', 7225: '▁객관적', 7226: '▁오우삼', 7227: '떄문에', 7228: '그나저나', 7229: '▁어딘가', 7230: '▁임청하', 7231: '별반개도', 7232: '꼬맹이', 7233: '▁보낸다', 7234: '▁가까이', 7235: '▁미친듯이', 7236: '▁사기꾼', 7237: '▁잃어버린', 7238: '▁전도연', 7239: '▁아동용', 7240: '▁감동받았', 7241: '▁돌려줘', 7242: '▁ᄅᄋ', 7243: '▁황금', 7244: '할게요', 7245: '겠군', 7246: '▁197', 7247: '▁여태까지', 7248: '▁사이코', 7249: '▁조용히', 7250: '탁월한', 7251: '▁허탈', 7252: '▁중간부터', 7253: '▁실패작', 7254: '▁히어로물', 7255: '▁지나친', 7256: '▁도중에', 7257: '▁머리속', 7258: '▁로마', 7259: '팬이라', 7260: '▁유혹', 7261: '싫', 7262: '톰', 7263: 'ᄉᄇ', 7264: '좋았음', 7265: '낮아서', 7266: '▁198', 7267: 'all', 7268: '▁역겹', 7269: '▁태어나', 7270: '깁', 7271: '드래곤', 7272: '****', 7273: 'zzz', 7274: '↓', 7275: '▁ocn', 7276: '▁굉장한', 7277: '▁도라에몽', 7278: '▁어쨌든', 7279: '▁엉터리', 7280: '긔', 7281: '넼', 7282: '녁', 7283: '쌓', 7284: '잣', 7285: '텅', 7286: '▁양동근', 7287: '#', 7288: '▁고마운', 7289: '▁여기저기', 7290: '▁스티브', 7291: '▁스피드', 7292: '▁큐브', 7293: '▁입장에서', 7294: '▁저절로', 7295: '▁비정상', 7296: '▁솔까', 7297: '▁스킵', 7298: '▁웅장', 7299: '▁별한개도', 7300: '▁보여줌', 7301: '▁색채', 7302: '▁스토리라인', 7303: '▁심각한', 7304: '▁느리고', 7305: '였으나', 7306: '▁생존', 7307: '▁교회', 7308: '▁신세계', 7309: '▁바랬', 7310: '▁신나게', 7311: '▁간직', 7312: '▁노튼', 7313: '▁도통', 7314: '해지네요', 7315: '클럽', 7316: '본영화중에', 7317: '지않나', 7318: '역활', 7319: '썩', 7320: '고싶지', 7321: '이쁘고', 7322: '것일까', 7323: '댓', 7324: '뷔', 7325: '펼', 7326: '▁ebs', 7327: '▁겉멋만', 7328: '▁신데렐라', 7329: '▁일베충', 7330: '▁흐지부지', 7331: '곁', 7332: '껍', 7333: '즉', 7334: '펠', 7335: '▁국어책', 7336: '▁펭귄', 7337: '☆', 7338: '핸', 7339: '윽', 7340: '▁맙시다', 7341: '▁초중반', 7342: '▁소지섭', 7343: '▁인디아나', 7344: '▁오페라', 7345: '▁뉴욕', 7346: '▁납치', 7347: '▁색다르', 7348: '▁그들만의', 7349: '▁어지간', 7350: '▁젊음', 7351: '^.^', 7352: '▁케이트', 7353: '▁활용', 7354: '▁담겨있', 7355: '▁관람객', 7356: '깁니다', 7357: '▁성찰', 7358: '▁프레디', 7359: '▁사라진', 7360: '▁말이필요없는', 7361: '▁초등학교때', 7362: '▁서극', 7363: '▁제정신', 7364: '것같습니다', 7365: '▁발랄', 7366: '▁빠져들었', 7367: '▁지루했음', 7368: '▁볼만해요', 7369: '▁얘들', 7370: '더라고요', 7371: '▁me', 7372: '만들엇', 7373: '보고싶네', 7374: '좋았어요', 7375: '왜이리', 7376: '시간낭비', 7377: '결혼', 7378: '▁어린이들', 7379: '본것중', 7380: '▁어울리', 7381: '믹', 7382: '쯧', 7383: '켈', 7384: '쇠', 7385: '▁아이언맨', 7386: '▁임권택', 7387: '▁파라노말', 7388: '꺄', 7389: '넷', 7390: '웰', 7391: '▁주상욱', 7392: '▁더더욱', 7393: '▁홍금보', 7394: '▁2013', 7395: '▁ᄇᄉ', 7396: '▁타이틀', 7397: '▁멘탈', 7398: '▁태어난', 7399: '▁뛰쳐', 7400: '▁성유리', 7401: '▁거슬리', 7402: '▁The', 7403: '▁촌스럽지', 7404: '▁훈남', 7405: '낙', 7406: '긍', 7407: '궈', 7408: '샀', 7409: '펀', 7410: '人', 7411: '갇', 7412: '닦', 7413: '빚', 7414: '빤', 7415: '칫', 7416: '탠', 7417: '힛', 7418: '뎌', 7419: '췄', 7420: '퇴', 7421: '깎', 7422: '즌', 7423: 'ᅦ', 7424: '됌', 7425: '룸', 7426: '쉰', 7427: '쑤', 7428: '엌', 7429: '엣', 7430: '잎', 7431: '듀', 7432: '륵', 7433: '웬', 7434: '뿔', 7435: '낌', 7436: '봅', 7437: '깡', 7438: '됴', 7439: '뻘', 7440: '넋', 7441: '럿', 7442: 'q', 7443: '꾹', 7444: '꿨', 7445: '맷', 7446: '쿄', 7447: '흰', 7448: '낳', 7449: '젼', 7450: '。', 7451: '쏠', 7452: '겸', 7453: '뉘', 7454: '댐', 7455: '딕', 7456: '띵', 7457: '웩', 7458: '펄', 7459: '벙', 7460: '헝', 7461: '쌍', 7462: '깍', 7463: '넌', 7464: 'W', 7465: '뜩', 7466: '쵝', 7467: '펑', 7468: '짬', 7469: '밸', 7470: 'Z', 7471: '’', 7472: '둬', 7473: '륙', 7474: '샌', 7475: '쌩', 7476: '펴', 7477: '횽', 7478: '끗', 7479: '톨', 7480: '숫', 7481: '욜', 7482: '텀', 7483: '툰', 7484: '캬', 7485: '꽤', 7486: '꿔', 7487: '닙', 7488: '·', 7489: 'ᆞ', 7490: '룹', 7491: '슐', 7492: '쌤', 7493: '‘', 7494: '뇨', 7495: '뺀', 7496: '샷', 7497: '쫙', 7498: '쬐', 7499: '핏', 7500: '핳', 7501: '흙', 7502: '꽝', 7503: '줍', 7504: '댕', 7505: '췌', 7506: '칩', 7507: '햄', 7508: '떳', 7509: '끊', 7510: '뽑', 7511: '률', 7512: '맙', 7513: '돕', 7514: '쌀', 7515: '쌈', 7516: '엎', 7517: 'ᅭ', 7518: '묶', 7519: '뱉', 7520: '댈', 7521: '왼', 7522: '콕', 7523: '퀀', 7524: '젓', 7525: 'ᄑ', 7526: '밌', 7527: '짠', 7528: '닳', 7529: '탭', 7530: '퍽', 7531: '헷', 7532: '홉', 7533: '뒀', 7534: '딧', 7535: '붐', 7536: '옵', 7537: '죤', 7538: '샹', 7539: '욧', 7540: '햐', 7541: '썅', 7542: '눠', 7543: '젬', 7544: '캅', 7545: 'ᅣ', 7546: '\\\\', 7547: '甲', 7548: '꺅', 7549: '웁', 7550: '꽂', 7551: '쌔', 7552: '얌', 7553: '촉', 7554: '뺐', 7555: '쩡', 7556: '갤', 7557: '뤽', 7558: '뺴', 7559: '솟', 7560: '앳', 7561: '얕', 7562: '탔', 7563: '○', 7564: '깬', 7565: '냅', 7566: '섰', 7567: '엥', 7568: '팡', 7569: '찢', 7570: '륭', 7571: '됀', 7572: '롬', 7573: '쪄', 7574: '괘', 7575: '뮬', 7576: '씌', 7577: '쟝', 7578: '좁', 7579: '짚', 7580: '킷', 7581: '훅', 7582: '놉', 7583: '몹', 7584: '훨', 7585: '뭇', 7586: '캔', 7587: '굵', 7588: '꿋', 7589: '뎈', 7590: '乃', 7591: '굼', 7592: '늠', 7593: '떴', 7594: '낱', 7595: '씽', 7596: '[', 7597: '헬', 7598: '밭', 7599: '썽', 7600: '쵸', 7601: '♬', 7602: '뛴', 7603: '쨩', 7604: '윙', 7605: '맡', 7606: '녹', 7607: '찜', 7608: '겜', 7609: '뜰', 7610: '얔', 7611: '쑈', 7612: '짭', 7613: '쳇', 7614: '퀼', 7615: '팜', 7616: '핡', 7617: 'Q', 7618: '갸', 7619: '냉', 7620: '푹', 7621: '늑', 7622: '옜', 7623: '댜', 7624: '셸', 7625: '곸', 7626: '돠', 7627: '딥', 7628: '뚤', 7629: '빔', 7630: '싯', 7631: '욘', 7632: '덥', 7633: '밈', 7634: '윗', 7635: '힝', 7636: '펙', 7637: '횡', 7638: '無', 7639: '꾀', 7640: '땟', 7641: '룻', 7642: '샴', 7643: '쳣', 7644: '휼', 7645: '|', 7646: '뱃', 7647: 'ᅧ', 7648: '볍', 7649: '첼', 7650: '힙', 7651: '걔', 7652: '겔', 7653: '뵈', 7654: '빽', 7655: '쫑', 7656: '킁', 7657: '텨', 7658: '꿉', 7659: '뭍', 7660: '벡', 7661: '웡', 7662: '헛', 7663: '걱', 7664: '뭥', 7665: '핥', 7666: '꺾', 7667: '댔', 7668: '맬', 7669: '셰', 7670: '슥', 7671: '퀘', 7672: '훤', 7673: '→', 7674: '욯', 7675: '쪙', 7676: '캣', 7677: '쾅', 7678: '쿤', 7679: '텍', 7680: '곧', 7681: '촬', 7682: '뷁', 7683: '쒸', 7684: '”', 7685: '괸', 7686: '껑', 7687: '눅', 7688: '멧', 7689: '믓', 7690: '젝', 7691: '찼', 7692: '퉷', 7693: '폄', 7694: '풉', 7695: '“', 7696: '얍', 7697: '넝', 7698: '쨔', 7699: '쩐', 7700: '첸', 7701: '뇬', 7702: '뵙', 7703: '겅', 7704: '꼐', 7705: '뿍', 7706: '웹', 7707: '융', 7708: '잌', 7709: '좃', 7710: '챔', 7711: '칵', 7712: '$', 7713: '꿰', 7714: '잰', 7715: '뻗', 7716: '쏜', 7717: '졷', 7718: '땜', 7719: '넉', 7720: '됏', 7721: '숴', 7722: '욥', 7723: '읎', 7724: '잴', 7725: '퐁', 7726: '헿', 7727: '넥', 7728: '넴', 7729: '뿅', 7730: '샵', 7731: '쿼', 7732: '툴', 7733: '굽', 7734: '닛', 7735: '끽', 7736: '씹', 7737: '쒯', 7738: '냠', 7739: '앰', 7740: '넨', 7741: '랖', 7742: '뿡', 7743: '꿍', 7744: '벳', 7745: '흣', 7746: '♪', 7747: '컹', 7748: '낍', 7749: '꺠', 7750: '콱', 7751: '돔', 7752: '렜', 7753: '썹', 7754: '촤', 7755: '팟', 7756: '팰', 7757: '빰', 7758: '웽', 7759: '곀', 7760: '옛', 7761: '뒷', 7762: '컥', 7763: '갚', 7764: '쮸', 7765: '뎃', 7766: 'ᄈ', 7767: '냔', 7768: '댁', 7769: '뒈', 7770: '멱', 7771: '볶', 7772: '뽐', 7773: '죵', 7774: '줏', 7775: '쫘', 7776: '촐', 7777: '컵', 7778: 'ᆪ', 7779: '女', 7780: '괄', 7781: '깟', 7782: '꽈', 7783: '뤠', 7784: '뺑', 7785: '옌', 7786: '쨰', 7787: '찟', 7788: '캄', 7789: '死', 7790: 'ᄡ', 7791: '갘', 7792: '}', 7793: '作', 7794: '롸', 7795: '륨', 7796: '뮈', 7797: '쎈', 7798: '쥰', 7799: '펭', 7800: '휙', 7801: '떵', 7802: '짘', 7803: '캉', 7804: '햅', 7805: '딛', 7806: '잭', 7807: '뀌', 7808: '둡', 7809: '먀', 7810: '챦', 7811: '찹', 7812: '{', 7813: 'ᄄ', 7814: '넛', 7815: '숑', 7816: '읏', 7817: '쥴', 7818: '홬', 7819: '⌒', 7820: '궤', 7821: '뒹', 7822: '떙', 7823: '랗', 7824: '뭄', 7825: '읭', 7826: '챠', 7827: '녜', 7828: '섀', 7829: '잦', 7830: '밓', 7831: '킵', 7832: '、', 7833: '챘', 7834: '뀨', 7835: '랠', 7836: '앟', 7837: '팥', 7838: '갯', 7839: '멌', 7840: '옄', 7841: '캘', 7842: '콰', 7843: '퀵', 7844: '↑', 7845: '盧', 7846: '놧', 7847: '떔', 7848: '띨', 7849: '믈', 7850: '벵', 7851: '뺄', 7852: '숱', 7853: '쌌', 7854: '졍', 7855: '츰', 7856: '쿰', 7857: '팁', 7858: '─', 7859: '뤼', 7860: '왁', 7861: '롹', 7862: '☞', 7863: 'ン', 7864: '졉', 7865: '욀', 7866: '왘', 7867: '옅', 7868: '랔', 7869: '굶', 7870: '텼', 7871: '촛', 7872: '짴', 7873: '짰', 7874: '죨', 7875: '썪', 7876: '뉜', 7877: '궂', 7878: '괭', 7879: '윅', 7880: '쌉', 7881: '숟', 7882: '샛', 7883: '故', 7884: '훑', 7885: '헠', 7886: '햌', 7887: '츤', 7888: '읊', 7889: '앍', 7890: '쉼', 7891: '빴', 7892: '홥', 7893: '덱', 7894: '뀜', 7895: '닠', 7896: '냨', 7897: '깼', 7898: '휠', 7899: '큽', 7900: '좔', 7901: '̄', 7902: '헴', 7903: '촘', 7904: '쁩', 7905: '땔', 7906: '딪', 7907: '횟', 7908: '콥', 7909: '춥', 7910: '긁', 7911: '괞', 7912: '휩', 7913: '큘', 7914: '멎', 7915: '뀔', 7916: '쥔', 7917: '쟤', 7918: '샐', 7919: '릎', 7920: '쁠', 7921: '낰', 7922: '쉘', 7923: '낡', 7924: '꺽', 7925: '핍', 7926: '뤘', 7927: '쥑', 7928: '깽', 7929: '붓', 7930: '얹', 7931: '씻', 7932: '슌', 7933: '꼼', 7934: '펏', 7935: '꽥', 7936: '켠', 7937: '녔', 7938: '픕', 7939: '귓', 7940: '쫒', 7941: '뺨', 7942: '딨', 7943: '탤', 7944: '얽', 7945: '샬', 7946: '뀐', 7947: '꼇', 7948: '쨋', 7949: '뭡', 7950: '앓', 7951: '넓', 7952: '밟', 7953: '붉', 7954: '멤', 7955: '귄', 7956: '뻣', 7957: '꽉', 7958: '땠', 7959: '푼', 7960: '웍', 7961: '홧', 7962: '뿜', 7963: '틋', 7964: '맺', 7965: '쨌', 7966: '빕', 7967: '겪', 7968: '켰', 7969: '찔', 7970: '팠', 7971: '쫄', 7972: '띄', 7973: '텝', 7974: '틸', 7975: '렀', 7976: '콧', 7977: '껐', 7978: '쏟', 7979: '뻤', 7980: '슷', 7981: '왤', 7982: '듭', 7983: '섞', 7984: '톱', 7985: '튀', 7986: '펐', 7987: '겉', 7988: '쁨', 7989: '됩', 7990: '늦', 7991: '냈', 7992: '찝', 7993: '굉', 7994: '똑', 7995: '픽', 7996: '랐', 7997: '떻', 7998: '깊', 7999: '렸'}\n",
            "{'<unk>': 0, '<s>': 1, '</s>': 2, '▁': 3, '.': 4, '..': 5, '이': 6, '▁영화': 7, '...': 8, '가': 9, '의': 10, '도': 11, '는': 12, ',': 13, '을': 14, '에': 15, '고': 16, '다': 17, '은': 18, '지': 19, '?': 20, '한': 21, '▁너무': 22, '!': 23, '를': 24, '▁정말': 25, '만': 26, '▁이': 27, '로': 28, '▁진짜': 29, '나': 30, '게': 31, '영화': 32, '~': 33, '과': 34, '기': 35, '어': 36, '라': 37, '리': 38, '점': 39, '네': 40, '서': 41, '인': 42, '하고': 43, '아': 44, '▁안': 45, '으로': 46, '▁잘': 47, '!!': 48, '요': 49, '....': 50, '▁1': 51, '▁왜': 52, '에서': 53, '와': 54, '들': 55, '▁그': 56, '▁이런': 57, '▁아': 58, '▁더': 59, '▁다': 60, '해': 61, '▁수': 62, '네요': 63, '스': 64, '거': 65, '하는': 66, '자': 67, '▁그냥': 68, '▁본': 69, '▁드라마': 70, '음': 71, '면': 72, '▁10': 73, '수': 74, '하': 75, '시': 76, '지만': 77, '야': 78, '니': 79, '대': 80, '▁보고': 81, '함': 82, '▁평점': 83, '▁연기': 84, '사': 85, '▁내': 86, '▁한': 87, '하다': 88, '▁좀': 89, '일': 90, '하게': 91, '이다': 92, '▁영화를': 93, '▁봤는데': 94, '진': 95, '우': 96, '▁이거': 97, '▁ᄏᄏ': 98, '▁최고의': 99, '▁최고': 100, '데': 101, '여': 102, '드': 103, '▁참': 104, '▁쓰레기': 105, '주': 106, '▁없는': 107, '보다': 108, '미': 109, '▁못': 110, '구': 111, '는데': 112, '▁완전': 113, '임': 114, '안': 115, '▁내가': 116, '▁없다': 117, '!!!': 118, '냐': 119, 'ᄏᄏ': 120, '▁스토리': 121, '▁영화는': 122, '▁이건': 123, '할': 124, '보': 125, '▁2': 126, '▁영화가': 127, '▁개': 128, '정': 129, '듯': 130, '들이': 131, '▁나': 132, '성': 133, '▁이게': 134, '▁있는': 135, '▁좋은': 136, '신': 137, '상': 138, '▁다시': 139, '해서': 140, '▁이렇게': 141, '장': 142, '까지': 143, '던': 144, '적': 145, '▁보는': 146, '^^': 147, '부': 148, '마': 149, '▁난': 150, '▁것': 151, '▁평점이': 152, '치': 153, '~~': 154, '전': 155, '중': 156, '▁3': 157, '보고': 158, '▁재밌게': 159, 'ᄏ': 160, '개': 161, '건': 162, '려': 163, '트': 164, '랑': 165, '때': 166, '1': 167, '오': 168, '러': 169, '▁말': 170, '▁지': 171, '▁역시': 172, '질': 173, '화': 174, ';;': 175, '▁뭐': 176, '▁보': 177, '히': 178, '▁작품': 179, '▁많이': 180, '▁넘': 181, '▁볼': 182, '년': 183, '분': 184, '그': 185, '원': 186, '▁전': 187, '용': 188, '세': 189, '인데': 190, '비': 191, '▁오': 192, '??': 193, '내': 194, '2': 195, '▁또': 196, '▁저': 197, '적인': 198, '▁재미': 199, '▁하': 200, '▁감동': 201, '▁마지막': 202, '물': 203, '소': 204, '▁무': 205, '▁아깝다': 206, '▁꼭': 207, '했다': 208, '▁별로': 209, '▁하나': 210, '▁ᄏᄏᄏ': 211, '▁별': 212, '진짜': 213, '선': 214, '▁감독': 215, '같은': 216, '급': 217, '감': 218, '▁생각': 219, '것': 220, '▁액션': 221, '▁시간': 222, '식': 223, '하지': 224, '▁기대': 225, 'ᅲᅲ': 226, '라고': 227, '▁주': 228, '제': 229, '▁하는': 230, '습니다': 231, '말': 232, '▁가장': 233, '▁없고': 234, 'ᄏᄏᄏ': 235, '▁명작': 236, '동': 237, '본': 238, '▁사': 239, '▁이야기': 240, '무': 241, '▁그리고': 242, \"'\": 243, '입니다': 244, '▁지금': 245, '더': 246, '너무': 247, '걸': 248, '▁정': 249, '줄': 250, '어요': 251, '란': 252, '▁보면': 253, '▁김': 254, '편': 255, ';': 256, '▁무슨': 257, '호': 258, '드라마': 259, '▁사랑': 260, '영': 261, '▁ᅲᅲ': 262, '▁한국': 263, '좀': 264, '▁중': 265, '▁만든': 266, '▁아니': 267, '유': 268, '으면': 269, '군': 270, '▁마': 271, '씨': 272, '당': 273, '조': 274, '작': 275, '▁비': 276, '없는': 277, '디': 278, '▁다른': 279, '이나': 280, '긴': 281, '▁할': 282, '▁처음': 283, '부터': 284, '▁ᄏ': 285, '울': 286, '남': 287, 'ᅲ': 288, ')': 289, '▁어': 290, '▁배우': 291, '▁ᅳᅳ': 292, '▁조': 293, '된': 294, '▁말이': 295, '심': 296, '정말': 297, '린': 298, '3': 299, '▁대': 300, '▁자': 301, '에게': 302, '▁일본': 303, '모': 304, '연': 305, '▁와': 306, '▁느낌': 307, '워': 308, '▁좋아': 309, '▁연출': 310, '운': 311, '▁영화다': 312, '르': 313, '▁끝까지': 314, '▁짱': 315, '타': 316, '라는': 317, '생': 318, '▁기': 319, '▁일': 320, '▁미': 321, '바': 322, '있는': 323, '▁두': 324, '크': 325, '▁유': 326, '위': 327, '한다': 328, '두': 329, '▁돈': 330, '래': 331, '▁내용': 332, '▁좋다': 333, '간': 334, '명': 335, '레': 336, '준': 337, '노': 338, '▁있다': 339, '▁같은': 340, '▁봐도': 341, ',,': 342, 'ᅳᅳ': 343, '인지': 344, '인가': 345, '잘': 346, '살': 347, '▁거': 348, '류': 349, '▁알': 350, '▁솔직히': 351, '들의': 352, '▁봤다': 353, '▁ᄒᄒ': 354, '난': 355, '▁때': 356, '▁여자': 357, '▁뭔가': 358, '프': 359, '하나': 360, '길': 361, '판': 362, '경': 363, '단': 364, '▁재미있게': 365, '루': 366, '죠': 367, '▁애': 368, '▁재밌다': 369, '연기': 370, '▁신': 371, '▁시': 372, '민': 373, '▁이걸': 374, '▁코미디': 375, '▁해': 376, '▁아주': 377, '으': 378, '발': 379, '▁최악': 380, '▁구': 381, '번': 382, \"▁'\": 383, '하지만': 384, '저': 385, '합니다': 386, '▁소': 387, '처럼': 388, '▁제': 389, '▁같다': 390, '겨': 391, '재': 392, '때문에': 393, '봤는데': 394, '▁전혀': 395, '었다': 396, '▁이영화': 397, '▁장': 398, '▁하지만': 399, '되는': 400, '림': 401, '▁내용이': 402, '방': 403, '했던': 404, '▁후': 405, '▁남': 406, '엔': 407, '이랑': 408, '▁대한': 409, '▁계속': 410, '▁모두': 411, '날': 412, '▁최악의': 413, '-': 414, '티': 415, '▁사람': 416, '▁줄': 417, '님': 418, '▁재미없다': 419, '▁부': 420, '파': 421, '하면': 422, '▁스': 423, '하네': 424, '▁모': 425, '든': 426, '▁나오는': 427, '지는': 428, '(': 429, '▁4': 430, '희': 431, '▁많은': 432, '▁그래도': 433, '면서': 434, '▁아니라': 435, '▁반': 436, '▁대박': 437, '시간': 438, '터': 439, '며': 440, '▁강': 441, '▁만들어': 442, '▁보기': 443, '▁한번': 444, '▁우': 445, '▁어떻게': 446, '관': 447, '▁아닌': 448, '키': 449, '▁않고': 450, '▁내내': 451, '~~~': 452, '피': 453, '박': 454, '없다': 455, '까': 456, '▁7': 457, '▁배우들': 458, '▁딱': 459, '▁공포': 460, '▁되': 461, '점도': 462, '10': 463, '들은': 464, '▁장면': 465, '이라': 466, '버': 467, '▁만드는': 468, '▁연기가': 469, '▁우리': 470, '!!!!': 471, '▁실망': 472, '▁이제': 473, '▁인생': 474, '▁5': 475, '차': 476, '국': 477, '▁아름다운': 478, 'o': 479, '따': 480, '▁아니다': 481, '다니': 482, '▁추천': 483, '▁박': 484, '구나': 485, '4': 486, '겠다': 487, '▁모든': 488, '애': 489, '▁건': 490, '▁조금': 491, '▁8': 492, '▁제일': 493, '없이': 494, '카': 495, '점이': 496, '형': 497, 'ᄒᄒ': 498, '▁남자': 499, '실': 500, '▁듯': 501, '반': 502, '▁전개': 503, '▁연기도': 504, '▁끝': 505, '▁개봉': 506, '▁내용도': 507, '되': 508, '못': 509, '볼': 510, '▁스릴러': 511, '▁9': 512, '▁요즘': 513, '현': 514, '▁그런': 515, '▁굿': 516, '▁보다가': 517, '달': 518, '▁남는': 519, '즈': 520, '지도': 521, '▁보다': 522, '▁않는': 523, '▁불': 524, '보면': 525, '▁바': 526, '5': 527, '문': 528, '년대': 529, '▁근데': 530, '▁피': 531, '코': 532, '▁않은': 533, '▁기억': 534, '▁0': 535, '적으로': 536, '▁이해': 537, '▁시간이': 538, '다가': 539, '망': 540, '▁아까운': 541, '한테': 542, '▁애니': 543, '▁주인공': 544, '▁나는': 545, '▁음악': 546, '▁재미도': 547, '▁이상': 548, '♥': 549, '▁감독이': 550, '▁노': 551, 't': 552, '하네요': 553, '▁아직도': 554, '생각': 555, 'ᄒ': 556, '▁속': 557, '▁욕': 558, '▁수준': 559, '보는': 560, 'ᅳ': 561, '체': 562, '▁여운이': 563, '공': 564, '왜': 565, '\"': 566, '▁영화라고': 567, '▁반전': 568, '이라는': 569, '▁절대': 570, '니까': 571, '이란': 572, '▁눈': 573, '▁싶다': 574, '▁좋고': 575, '▁엄청': 576, '▁때문에': 577, '인듯': 578, '▁스토리가': 579, '▁울': 580, '▁날': 581, '▁나름': 582, '▁OO': 583, '어서': 584, '석': 585, '알': 586, '▁오랜만에': 587, '짱': 588, '산': 589, '▁걸': 590, '져': 591, '▁배': 592, '정도': 593, '▁영화입니다': 594, '▁있': 595, '▁되는': 596, '▁막장': 597, ';;;': 598, '▁현실': 599, '배': 600, '▁ᄏᄏᄏᄏ': 601, '???': 602, '▁봤': 603, 'e': 604, '▁멋진': 605, '▁원': 606, '▁공포영화': 607, '했는데': 608, '▁재': 609, '후': 610, '▁하고': 611, '▁아니고': 612, '테': 613, '▁제대로': 614, '였다': 615, '▁차라리': 616, '▁재밌어요': 617, '뿐': 618, '해요': 619, '▁봤습니다': 620, '매': 621, '▁진심': 622, '태': 623, '참': 624, '▁진': 625, '토': 626, '속': 627, '회': 628, '▁스토리도': 629, '▁주는': 630, '▁발': 631, '넘': 632, '▁봤던': 633, '이고': 634, '▁도대체': 635, '것도': 636, '▁뻔한': 637, '포': 638, '▁지루하고': 639, '▁캐릭터': 640, '7': 641, '▁영화의': 642, '▁연': 643, '▁좋았다': 644, '▁나오': 645, '▁지루한': 646, '▁나온': 647, '▁결말': 648, '스토리': 649, '▁감독의': 650, '▁만들': 651, '▁미국': 652, '양': 653, '▁제목': 654, '▁공감': 655, '극': 656, '▁공': 657, 'ᄏᄏᄏᄏ': 658, '/': 659, '▁파': 660, '▁시리즈': 661, '▁나도': 662, '8': 663, '▁영': 664, '▁좋아하는': 665, '던데': 666, '▁성': 667, '평점': 668, '배우': 669, '꺼': 670, '금': 671, '하기': 672, '▁재밌': 673, '▁재밌는': 674, '▁세': 675, '▁20': 676, '▁정도': 677, '▁연기력': 678, '▁우리나라': 679, '▁B': 680, '▁최고다': 681, '▁가슴': 682, '▁머': 683, '▁여': 684, '잼': 685, '▁대사': 686, '등': 687, '봤': 688, '▁보면서': 689, '점은': 690, '죽': 691, '감동': 692, '역': 693, '▁원작': 694, '▁ᅲ': 695, 'ᅮᅮ': 696, '▁동': 697, '▁^^': 698, '격': 699, '▁걍': 700, '력': 701, '사람': 702, '▁눈물': 703, '▁초': 704, '릴': 705, '더라': 706, '▁수작': 707, '6': 708, '려고': 709, '▁몇': 710, '▁긴장감': 711, '▁싶은': 712, '▁가족': 713, '▁표현': 714, '리는': 715, '쳐': 716, '▁없음': 717, '니다': 718, '▁않': 719, '▁기억에': 720, '▁심': 721, '법': 722, '▁인간': 723, '움': 724, '~!': 725, '절': 726, '▁영상': 727, '봤다': 728, '먹': 729, '▁보세요': 730, '▁마지막에': 731, '된다': 732, '▁재미가': 733, ',,,': 734, '는거': 735, '이라고': 736, '봄': 737, '▁지루함': 738, '▁쓰': 739, '▁배우들의': 740, '▁뭘': 741, '▁이해가': 742, '해도': 743, '▁시작': 744, '집': 745, '들을': 746, '녀': 747, '▁기분': 748, 'i': 749, '예': 750, '▁영화에': 751, '▁특히': 752, '▁코믹': 753, '▁OOO': 754, '▁막': 755, '▁6': 756, '▁괜찮은': 757, '▁사람들': 758, '을까': 759, '▁졸작': 760, '않': 761, '건지': 762, '▁될': 763, '▁허': 764, '밖에': 765, '▁보는내내': 766, '▁뭔': 767, '종': 768, '천': 769, '는게': 770, '▁후회': 771, '사랑': 772, '▁선': 773, '▁애니메이션': 774, '▁알바': 775, '그냥': 776, '구만': 777, 'd': 778, '행': 779, '▁지루하다': 780, '▁함께': 781, '능': 782, '악': 783, '▁재밋': 784, '최고': 785, '라도': 786, '▁\"': 787, '탄': 788, '▁예': 789, '▁맞': 790, '장면': 791, '근': 792, '았': 793, '강': 794, '▁극장에서': 795, '승': 796, '봐도': 797, '▁타': 798, '▁필요': 799, '설': 800, '▁베': 801, '이런': 802, '▁봤어요': 803, '김': 804, '감독': 805, '▁망': 806, '불': 807, '▁사실': 808, '▁오늘': 809, '케': 810, '너': 811, '▁소재': 812, '교': 813, '창': 814, '스트': 815, '만큼': 816, '▁노래': 817, '직': 818, '주는': 819, '중에': 820, '▁강추': 821, '대로': 822, '없': 823, '▁졸': 824, '뭐': 825, '었는데': 826, '머': 827, '학': 828, 'a': 829, '▁시나리오': 830, '▁된': 831, '▁호': 832, '▁매': 833, '▁어떤': 834, '▁그저': 835, '별': 836, '▁차': 837, '▁개인적으로': 838, '점대': 839, '통': 840, '난다': 841, '돈': 842, '▁없': 843, '글': 844, '▁못한': 845, '▁결국': 846, '투': 847, '▁큰': 848, '있다': 849, '▁영화로': 850, '른': 851, '담': 852, '▁만화': 853, '론': 854, '▁캐스팅': 855, '작품': 856, '▁들': 857, '거야': 858, '하면서': 859, '▁죽': 860, '좋': 861, '▁최': 862, '▁한국영화': 863, '▁상': 864, '레이': 865, '▁더빙': 866, '락': 867, '▁몰입도': 868, '▁봐야': 869, '재밌': 870, '▁인': 871, '계': 872, '▁억지': 873, '▁모르겠다': 874, '▁좋아요': 875, '▁살': 876, '돌': 877, '▁없이': 878, '▁제발': 879, '했음': 880, '▁웃': 881, 'ᅮ': 882, 's': 883, '이상': 884, '이네': 885, '는지': 886, '기도': 887, '맨': 888, '▁아무리': 889, '했': 890, '▁생각이': 891, '재미': 892, '▁연기는': 893, '평': 894, '아니': 895, '이야': 896, '잡': 897, 'g': 898, '버린': 899, '▁안되는': 900, '인줄': 901, '▁극': 902, '▁감동이': 903, '▁아이': 904, '▁재밌음': 905, '점을': 906, '▁분위기': 907, '열': 908, '초': 909, '▁매우': 910, '▁잼': 911, '권': 912, '▁행복': 913, '베': 914, '▁마음이': 915, '이네요': 916, '액션': 917, '▁총': 918, '업': 919, '봐': 920, '영화는': 921, '기는': 922, '▁별점': 923, '▁예술': 924, '▁ᅮᅮ': 925, '슨': 926, '▁준': 927, '입': 928, '▁않는다': 929, '름': 930, '갈': 931, '끼': 932, '▁보게': 933, '▁얼마나': 934, '▁물': 935, '슬': 936, '▁눈물이': 937, '보단': 938, '▁ᄒ': 939, '이지만': 940, '▁너무나': 941, '▁사람이': 942, '+': 943, '만들': 944, '▁기억이': 945, '▁걸작': 946, '▁영화중': 947, '▁존나': 948, '▁한다': 949, '▁영화네요': 950, '▁잠': 951, '군요': 952, '▁당': 953, '브': 954, '▁같이': 955, '▁보지': 956, '▁따라': 957, '하며': 958, '▁재밌고': 959, '▁하나도': 960, '났': 961, '병': 962, '▁높': 963, '▁않다': 964, '환': 965, '았다': 966, '▁있고': 967, '짐': 968, '▁길': 969, '▁위한': 970, '▁존': 971, '▁출연': 972, '뻔': 973, '▁미친': 974, '싶': 975, '▁그렇게': 976, '▁유치': 977, '이었다': 978, '▁가슴이': 979, '었던': 980, '▁것이': 981, '▁그만': 982, '씬': 983, '▁볼만한': 984, '▁치': 985, '▁로맨스': 986, '수가': 987, '치는': 988, '▁내용은': 989, '약': 990, '▁장난': 991, '▁느낌이': 992, '온': 993, '▁적': 994, '▁훨씬': 995, '▁입': 996, '▁-': 997, '나는': 998, '▁매력': 999, '쓰레기': 1000, '▁약': 1001, '쓰': 1002, '께': 1003, '▁누가': 1004, '▁정신': 1005, '새': 1006, '블': 1007, '기에': 1008, '에도': 1009, '▁토': 1010, '칠': 1011, '▁쓰레기영화': 1012, '▁결말이': 1013, '▁없어': 1014, '외': 1015, '증': 1016, '▁알고': 1017, '될': 1018, '완전': 1019, '▁없었다': 1020, '▁그나마': 1021, '▁평': 1022, '라면': 1023, '▁대체': 1024, '▁엔딩': 1025, '▁애들': 1026, '느낌': 1027, '▁백': 1028, '올': 1029, '▁외': 1030, '▁갈수록': 1031, '>': 1032, '▁잔잔한': 1033, '언': 1034, '▁똥': 1035, '▁노잼': 1036, '▁재미있다': 1037, '▁단': 1038, '▁실': 1039, '▁웃음': 1040, '막': 1041, '▁있을': 1042, '▁마음': 1043, '▁웃기': 1044, '▁재미없음': 1045, '▁간만에': 1046, '▁어설픈': 1047, '▁카': 1048, '▁감': 1049, '건가': 1050, '색': 1051, '▁감동적인': 1052, '▁꽤': 1053, '나요': 1054, '해야': 1055, '▁영화관에서': 1056, '왕': 1057, '▁명': 1058, '▁허접': 1059, '▁주연': 1060, '내용': 1061, '짓': 1062, '▁다큐': 1063, '련': 1064, '재미있': 1065, '친': 1066, '▁지루': 1067, '어야': 1068, '▁경': 1069, '▁있었': 1070, '순': 1071, '▁밖에': 1072, '▁감동도': 1073, '기를': 1074, '빠': 1075, 'y': 1076, '▁발연기': 1077, '▁재미있는': 1078, '▁잡': 1079, '다고': 1080, '▁화': 1081, '이지': 1082, '보니': 1083, '▁위': 1084, '범': 1085, '▁생각보다': 1086, '었음': 1087, '▁성룡': 1088, '▁너': 1089, '거지': 1090, '소리': 1091, '▁구성': 1092, '짜': 1093, '▁중국': 1094, '▁음': 1095, '라서': 1096, '▁시즌': 1097, '수준': 1098, '백': 1099, '▁위해': 1100, '땜에': 1101, '▁설정': 1102, '나오는': 1103, '9': 1104, '잇': 1105, '▁아쉽다': 1106, '▁전쟁': 1107, '년이': 1108, '0': 1109, '편이': 1110, '여자': 1111, '▁이딴': 1112, '▁안되': 1113, '▁올': 1114, '훈': 1115, '하는데': 1116, '▁그래서': 1117, '▁보여주는': 1118, '▁많': 1119, '있': 1120, '션': 1121, '▁의미': 1122, '였': 1123, '▁추': 1124, '▁야': 1125, '존': 1126, '▁열': 1127, '었': 1128, '됨': 1129, '좋아': 1130, '결': 1131, '듯한': 1132, '향': 1133, '이건': 1134, '▁변': 1135, '▁좋': 1136, '합': 1137, '진다': 1138, '▁오래': 1139, '▁점수': 1140, '표': 1141, '광': 1142, '치고': 1143, '▁아무': 1144, '이거': 1145, '줘': 1146, '▁문제': 1147, '▁같': 1148, '▁맘에': 1149, '리고': 1150, '▁당시': 1151, '????': 1152, '▁연기를': 1153, '▁재미없': 1154, '했지만': 1155, 'h': 1156, '메': 1157, '▁약간': 1158, '▁모습': 1159, '▁관객': 1160, '주의': 1161, '받': 1162, '었어요': 1163, '▁스릴': 1164, '▁같아요': 1165, '월': 1166, '▁재미는': 1167, 'D': 1168, '▁다음': 1169, '▁뿐': 1170, '▁싶': 1171, '놈': 1172, '▁봐': 1173, '▁힘들': 1174, '▁번': 1175, '▁코': 1176, '느': 1177, '▁첨': 1178, '욕': 1179, '추': 1180, '▁나왔': 1181, '영화가': 1182, '▁영상미': 1183, '▁작가': 1184, '▁재미없는': 1185, '~!!': 1186, '출': 1187, '▁진정한': 1188, '▁네이버': 1189, '린다': 1190, 'r': 1191, '할수': 1192, '▁재밌네요': 1193, '▁영화였다': 1194, '처': 1195, 'p': 1196, '▁CG': 1197, '▁들어': 1198, '▁뭐야': 1199, '▁30': 1200, '할때': 1201, '맞': 1202, '▁좋은데': 1203, '▁힘': 1204, '▁언제': 1205, '▁전부': 1206, '채': 1207, '각': 1208, '커': 1209, '스러운': 1210, '▁엄마': 1211, '▁어느': 1212, '▁멜로': 1213, '더니': 1214, '▁만들었': 1215, '있고': 1216, '또': 1217, '▁평가': 1218, '적이': 1219, '▁종': 1220, '▁바로': 1221, '▁꿀잼': 1222, '▁중간에': 1223, '▁다들': 1224, '▁스토리는': 1225, '▁글': 1226, '▁감성': 1227, '▁아님': 1228, '▁자체': 1229, '끝': 1230, '같': 1231, '▁생각하게': 1232, '이야기': 1233, '기대': 1234, '길래': 1235, '졌': 1236, '_': 1237, '▁준다': 1238, '겠지': 1239, 'b': 1240, '기만': 1241, '척': 1242, '▁tv': 1243, '▁버': 1244, '플': 1245, '퍼': 1246, '나오': 1247, '▁제작': 1248, '▁높은': 1249, '▁감동을': 1250, '▁갈': 1251, '록': 1252, '▁얘기': 1253, '다는': 1254, '▁주고': 1255, '▁잼있': 1256, '▁판타지': 1257, '▁천': 1258, '없고': 1259, '▁간': 1260, '편은': 1261, '놓고': 1262, '~~~~': 1263, '▁메': 1264, '▁아이들': 1265, '▁여주인공': 1266, '▁배우들이': 1267, '▁상당히': 1268, '해라': 1269, '영화를': 1270, '▁나와서': 1271, '▁ᅳ': 1272, '▁손': 1273, '▁생각을': 1274, '▁나올': 1275, '으나': 1276, '▁있을까': 1277, '그리고': 1278, '▁찾아': 1279, 'u': 1280, '▁이영화를': 1281, '▁드': 1282, '세요': 1283, '▁비교': 1284, '▁봤지만': 1285, '▁몰입': 1286, '▁게': 1287, '▁얼굴': 1288, 'ᄋ': 1289, '혜': 1290, '▁줄거리': 1291, '▁재미있어요': 1292, '▁뭐지': 1293, '▁딸': 1294, '▁존재': 1295, '▁각본': 1296, '▁악': 1297, '▁여기': 1298, '눈': 1299, '▁편': 1300, '▁영화인데': 1301, '▁봐서': 1302, '▁담': 1303, '라니': 1304, '▁재미있': 1305, '▁영화임': 1306, '잖아': 1307, '▁깨': 1308, '▁포스터': 1309, '▁혼자': 1310, '이라도': 1311, '♡': 1312, '였음': 1313, '▁초딩': 1314, '▁산': 1315, '▁따': 1316, '빈': 1317, '▁데': 1318, '들어': 1319, '탈': 1320, '습': 1321, '▁그대로': 1322, '▁비해': 1323, '▁대해': 1324, '▁추억': 1325, '▁않았': 1326, '▁거의': 1327, '덕': 1328, '▁그러': 1329, '▁이런영화': 1330, '▁끝나': 1331, '▁마음에': 1332, '▁충격': 1333, '▁비디오': 1334, '없음': 1335, '햇': 1336, 'k': 1337, '▁된다': 1338, '▁감정': 1339, '▁친구': 1340, 'c': 1341, '해지는': 1342, '▁어디서': 1343, '복': 1344, '-_-': 1345, '▁소리': 1346, '▁옛날': 1347, '슴': 1348, 'OO': 1349, '청': 1350, '봐서': 1351, '▁것을': 1352, '▁저런': 1353, '숙': 1354, '▁먹': 1355, '▁꿈': 1356, '▁그리': 1357, '▁포': 1358, '▁상황': 1359, '▁봤음': 1360, '▁어릴때': 1361, '▁TV': 1362, '재밋': 1363, '▁90': 1364, '▁어디': 1365, '튼': 1366, '▁목소리': 1367, '▁암': 1368, '▁뭐냐': 1369, '▁나의': 1370, '▁숨': 1371, '▁살아': 1372, '▁질': 1373, '▁부족': 1374, '낸': 1375, '만한': 1376, 'm': 1377, '년전': 1378, '▁대단한': 1379, '▁아직': 1380, '▁몸': 1381, '▁절': 1382, '▁너무너무': 1383, '웃': 1384, '▁훌륭한': 1385, '▁사람들이': 1386, '▁영화도': 1387, '모르': 1388, '한거': 1389, '귀': 1390, '▁굉장히': 1391, '▁볼만': 1392, '시대': 1393, '▁더럽게': 1394, 'l': 1395, '했어요': 1396, '▁평점을': 1397, '▁나이': 1398, '▁궁금': 1399, '▁이름': 1400, '찍': 1401, '▁삼': 1402, '▁크': 1403, '먼': 1404, '겠': 1405, '▁같은데': 1406, '▁자기': 1407, '료': 1408, '▁패': 1409, '▁놀': 1410, '▁감독님': 1411, '▁봐라': 1412, '▁좋네요': 1413, '▁다시봐도': 1414, '▁사회': 1415, '▁말도': 1416, '▁머리': 1417, '▁극장판': 1418, '▁했는데': 1419, '앗': 1420, '엇': 1421, '독': 1422, '▁좋은영화': 1423, '▁아까움': 1424, ':': 1425, '▁뭐가': 1426, '다시': 1427, '것이': 1428, '겠지만': 1429, '▁생': 1430, '▁장르': 1431, '보기': 1432, '남자': 1433, '간다': 1434, '▁분': 1435, '혀': 1436, '▁처음부터': 1437, '씩': 1438, 'f': 1439, '▁레': 1440, '▁주제': 1441, '에는': 1442, '▁요': 1443, '▁짜증': 1444, '▁만': 1445, '는건': 1446, '구요': 1447, 'ᄉ': 1448, '같이': 1449, '▁흥행': 1450, '▁역사': 1451, '▁집중': 1452, '▁팬': 1453, '에선': 1454, '겟': 1455, '목': 1456, '대박': 1457, '▁보니': 1458, '분들': 1459, '▁원작을': 1460, '▁항상': 1461, '▁돌아': 1462, '잔': 1463, '▁배경': 1464, '▁헐': 1465, '▁ᄍᄍ': 1466, '▁제가': 1467, '▁b': 1468, '▁첫': 1469, '▁화면': 1470, '쯤': 1471, '▁낫다': 1472, '별로': 1473, '▁새로운': 1474, '이라니': 1475, '▁봄': 1476, '땐': 1477, '▁있지만': 1478, '지루': 1479, '건데': 1480, '침': 1481, '▁여배우': 1482, '하시': 1483, '▁따뜻한': 1484, '▁장면이': 1485, '▁감동적이': 1486, '조차': 1487, '▁안된다': 1488, '였는데': 1489, '▁슬픈': 1490, '▁빨리': 1491, '▁했다': 1492, '▁생각해': 1493, '▁것도': 1494, '링': 1495, '▁그런지': 1496, '패': 1497, '▁있어': 1498, '이라면': 1499, '근데': 1500, '▁현': 1501, '▁대단': 1502, '곡': 1503, '▁누구': 1504, '술': 1505, '좋은': 1506, '거리': 1507, '정도로': 1508, '▁예상': 1509, '효': 1510, '아서': 1511, '써': 1512, '▁정도로': 1513, '스럽다': 1514, '▁없네': 1515, '들도': 1516, '▁작': 1517, '▁(': 1518, '▁순': 1519, '▁빠져': 1520, '을때': 1521, '벌': 1522, '▁아버지': 1523, '츠': 1524, '거냐': 1525, '셨': 1526, '억': 1527, '▁하지': 1528, '▁좋겠다': 1529, '마지막': 1530, '▁통': 1531, '▁연출력': 1532, '▁재밌었다': 1533, '▁초반': 1534, '익': 1535, '▁세계': 1536, '▁가는': 1537, '지금': 1538, '▁돌': 1539, '고싶다': 1540, '▁앞': 1541, '▁그닥': 1542, '▁어린': 1543, '런': 1544, '^': 1545, '념': 1546, '페': 1547, '만든': 1548, '▁삼류': 1549, '▁충분히': 1550, '듣': 1551, '기가': 1552, '▁태': 1553, '▁두번': 1554, '▁이것도': 1555, '▁그러나': 1556, '▁계': 1557, '▁없을': 1558, '품': 1559, '▁새': 1560, '▁윤': 1561, '▁잘못': 1562, '듬': 1563, '들에게': 1564, '명작': 1565, '같다': 1566, '거다': 1567, '여서': 1568, '립': 1569, '다면': 1570, '▁100': 1571, '▁양': 1572, '시리즈': 1573, '렸다': 1574, '본다': 1575, '징': 1576, '껏': 1577, '▁낮': 1578, '한데': 1579, '내가': 1580, '▁교훈': 1581, '굿': 1582, '▁하다': 1583, '영화중': 1584, '▁흥미진진': 1585, '▁왕': 1586, '▁있어서': 1587, '▁관': 1588, '▁의도': 1589, '찬': 1590, '▁예전에': 1591, '▁재밌는데': 1592, '▁엄청난': 1593, '▁점점': 1594, '▁M': 1595, '▁성우': 1596, '▁낮은': 1597, '배우들': 1598, '그런': 1599, '▁뒤': 1600, '처음': 1601, '▁실화': 1602, '▁영화라': 1603, '했습니다': 1604, '▁지루해': 1605, '................': 1606, '▁돈주고': 1607, '▁되어': 1608, '곳': 1609, '▁달': 1610, '스럽': 1611, '▁못하는': 1612, '삼': 1613, '전개': 1614, '▁좋았어요': 1615, '▁없어서': 1616, '팬': 1617, '▁만족': 1618, '▁흠': 1619, '주세요': 1620, '사람들': 1621, '졌다': 1622, '한영화': 1623, '▁이영화는': 1624, '▁바라': 1625, '필': 1626, '하냐': 1627, '▁병맛': 1628, '▁찍': 1629, '보다는': 1630, '▁한마디로': 1631, '▁어렸을때': 1632, '하여': 1633, '만으로도': 1634, '▁좋음': 1635, '▁유치한': 1636, '괴': 1637, '것같다': 1638, '▁힘든': 1639, '것을': 1640, '허': 1641, '리가': 1642, '년에': 1643, '▁완벽한': 1644, '윤': 1645, '▁있었다': 1646, '시키': 1647, '▁뻔': 1648, '▁그래픽': 1649, '센': 1650, '▁괜찮': 1651, '▁자체가': 1652, '▁나와': 1653, '나서': 1654, '렌': 1655, '▁휴': 1656, '▁시절': 1657, '염': 1658, '▁지금까지': 1659, '▁영화보다': 1660, '나라': 1661, '▁나온다': 1662, '곤': 1663, '적이고': 1664, '틀': 1665, '년도': 1666, '▁봤네요': 1667, '철': 1668, '을듯': 1669, '답': 1670, '▁저는': 1671, '▁극장': 1672, '▁유머': 1673, '▁웃긴': 1674, '이에요': 1675, '▁쳐': 1676, '묘': 1677, '▁내인생': 1678, '▁사람은': 1679, '▁선택': 1680, '▁일본영화': 1681, '▁여주': 1682, '▁바보': 1683, '▁모르고': 1684, '▁아쉬운': 1685, '▁갑자기': 1686, '▁재미있고': 1687, '이냐': 1688, '▁디': 1689, '에요': 1690, '실망': 1691, '▁시대': 1692, '▁예고편': 1693, '였던': 1694, '▁써': 1695, '▁대작': 1696, '▁믿': 1697, '최고의': 1698, '▁자꾸': 1699, '▁설': 1700, '흑': 1701, '▁도저히': 1702, '▁평점에': 1703, '함이': 1704, '▁볼수': 1705, '많': 1706, '변': 1707, '▁알았': 1708, '놈들': 1709, '▁무서운': 1710, '▁믿고': 1711, '▁망작': 1712, '▁으': 1713, '▁반전이': 1714, '▁더욱': 1715, '으니': 1716, '쉬': 1717, '▁알았다': 1718, '▁보여주': 1719, '▁재미없어': 1720, '규': 1721, '▁역': 1722, '한번': 1723, '▁아쉽': 1724, '▁보는데': 1725, '도록': 1726, '▁이정도': 1727, '성이': 1728, '하니': 1729, '봐라': 1730, '킹': 1731, '▁무조건': 1732, '▁만들지': 1733, '예요': 1734, '▁터': 1735, '되어': 1736, '야지': 1737, '▁평점은': 1738, '아깝다': 1739, '▁불륜': 1740, '▁찾': 1741, '▁감독은': 1742, '▁80': 1743, '▁진실': 1744, '▁스타일': 1745, '▁귀': 1746, '싸': 1747, '많이': 1748, '▁어색': 1749, '▁나쁜': 1750, '걸까': 1751, '얼': 1752, '▁우연히': 1753, '▁맛': 1754, '연출': 1755, '겁': 1756, '추천': 1757, '거나': 1758, '십': 1759, '▁리메이크': 1760, '꼭': 1761, '▁해도': 1762, '재밌게': 1763, '▁재미없고': 1764, '▁사랑을': 1765, '음악': 1766, '▁댓글': 1767, '▁문': 1768, '어도': 1769, '▁알게': 1770, '--': 1771, '▁주인공이': 1772, '▁안보': 1773, '일까': 1774, '보다가': 1775, '▁책': 1776, '갑': 1777, '▁전형적인': 1778, '▁그때': 1779, '노잼': 1780, '재미없': 1781, '오는': 1782, '▁했': 1783, '▁SF': 1784, '▁원래': 1785, '특': 1786, '하던': 1787, '▁없었': 1788, '▁개연성': 1789, '주인공': 1790, '▁짜': 1791, '밀': 1792, '힌': 1793, '점준다': 1794, '아이': 1795, '견': 1796, '▁이상한': 1797, '맛': 1798, '▁느': 1799, '풍': 1800, '▁ᄒᄒᄒ': 1801, '▁등': 1802, '되고': 1803, '▁싸': 1804, '역시': 1805, '▁순간': 1806, '▁킬링타임용': 1807, '완': 1808, '▁기대하고': 1809, '▁좀비': 1810, '▁지루하': 1811, '▁천재': 1812, '▁허무': 1813, '휴': 1814, '▁가지고': 1815, '반전': 1816, '네여': 1817, '▁액션영화': 1818, '▁부족한': 1819, '▁프랑스': 1820, '▁느끼게': 1821, '▁아닌가': 1822, 'x': 1823, '▁전기세': 1824, '▁아이들이': 1825, '봐야': 1826, '▁저질': 1827, '▁느끼': 1828, '▁만점': 1829, '▁소설': 1830, '▁전작': 1831, '낮': 1832, '끔': 1833, '▁신기': 1834, '축': 1835, '▁집': 1836, '▁투': 1837, '▁참고': 1838, '하긴': 1839, '이게': 1840, '▁대한민국': 1841, '도없고': 1842, '놓': 1843, '▁액션도': 1844, 'n': 1845, '▁일단': 1846, '였습니다': 1847, '*': 1848, '▁상상': 1849, '육': 1850, '싱': 1851, '▁괜히': 1852, '자들': 1853, '▁돈이': 1854, '보는데': 1855, '▁먹먹': 1856, '▁이런거': 1857, '▁속편': 1858, '함을': 1859, '▁세상': 1860, '▁없네요': 1861, '▁청춘': 1862, '▁대단하다': 1863, '꼬': 1864, '▁노력': 1865, '▁티': 1866, '점짜리': 1867, '▁작품성': 1868, '▁해서': 1869, '▁개그': 1870, '▁여운': 1871, '놀': 1872, '▁왜이리': 1873, '▁마무리': 1874, '▁느낄': 1875, '엉': 1876, '▁모르는': 1877, '▁화이팅': 1878, '▁아무것도': 1879, '딱': 1880, '줬': 1881, '~^^': 1882, 'E': 1883, 'ᅲᅲᅲ': 1884, '▁완성도': 1885, '▁코메디': 1886, '▁이런걸': 1887, '▁감상': 1888, '좋다': 1889, '▁죽음': 1890, '▁귀신': 1891, '▁후반부': 1892, '▁유치하고': 1893, '킬': 1894, '▁끝내': 1895, '▁아까워': 1896, '▁영화였습니다': 1897, '시절': 1898, '▁있음': 1899, '▁지루하지': 1900, '▁안나오': 1901, '인거': 1902, '졸': 1903, '▁것은': 1904, '됐': 1905, '▁만나': 1906, '▁전개가': 1907, '려서': 1908, '영화다': 1909, '▁있는데': 1910, '▁억지로': 1911, '옥': 1912, '럽': 1913, '@': 1914, '▁리': 1915, '▁재밌었어요': 1916, '▁가치': 1917, '부분': 1918, '▁이리': 1919, '▁미화': 1920, '▁않을': 1921, '▁언': 1922, '▁ost': 1923, '▁아오': 1924, '▁화려한': 1925, '랄': 1926, '▁알았는데': 1927, '▁처음으로': 1928, '▁성장': 1929, '▁사람들은': 1930, '▁재밌어': 1931, '▁나만': 1932, '▁골': 1933, '▁티비': 1934, '▁리얼': 1935, '▁그것': 1936, '그래도': 1937, '드는': 1938, '을텐데': 1939, '▁명작이다': 1940, '▁금': 1941, '▁이유': 1942, ';;;;': 1943, '애니': 1944, '▁매력적인': 1945, '▁나에게': 1946, '▁연출이': 1947, '▁지금도': 1948, '것이다': 1949, '▁자연': 1950, '▁상영': 1951, '▁로맨틱': 1952, '들과': 1953, '▁둘': 1954, '▁인간의': 1955, '마저': 1956, '▁아들': 1957, '랬': 1958, '▁s': 1959, '▁끌': 1960, '취': 1961, '▁교': 1962, '▁우울': 1963, '▁진부한': 1964, '▁까': 1965, '지고': 1966, '황': 1967, '하세요': 1968, '봣': 1969, '▁엉성': 1970, '▁됐': 1971, '애들': 1972, '▁귀여운': 1973, '▁설명': 1974, '▁그랬': 1975, '▁수준이': 1976, '냥': 1977, '하는거': 1978, '▁온': 1979, '▁잘만든': 1980, '최': 1981, '▁흐': 1982, '셔': 1983, '릭': 1984, '감이': 1985, '▁편집': 1986, '최악': 1987, '말이': 1988, '▁이야기를': 1989, '▁불편': 1990, '났다': 1991, '속에': 1992, '널': 1993, '코미디': 1994, '강추': 1995, '▁니': 1996, '왔': 1997, '▁그게': 1998, '▁상상력': 1999, '▁작품이': 2000, '리스': 2001, '▁중에': 2002, '▁이후': 2003, '▁이쁘': 2004, '웠': 2005, '▁좋았습니다': 2006, '겠네': 2007, '▁시간낭비': 2008, '전에': 2009, '는걸': 2010, '▁아빠': 2011, '결말': 2012, '▁허접한': 2013, '▁영화중에': 2014, '▁짜증나': 2015, '▁느껴': 2016, '▁맥': 2017, '시켜': 2018, '▁그래': 2019, '안되': 2020, '▁왠지': 2021, '▁ᄏᄏᄏᄏᄏ': 2022, '▁졸라': 2023, '▁목': 2024, '벨': 2025, '▁방송': 2026, '▁독': 2027, '▁쓴': 2028, '혹': 2029, '됬': 2030, '때마다': 2031, '&': 2032, '▁밑에': 2033, '▁괴': 2034, '▁이미': 2035, '하자': 2036, '흐': 2037, '▁흥미': 2038, 'ᅲᅲᅲᅲ': 2039, '▁유쾌한': 2040, '로운': 2041, '했고': 2042, '필요': 2043, '▁슬': 2044, '▁비슷한': 2045, '쩔': 2046, '▁복수': 2047, '▁이번': 2048, '▁좋았음': 2049, '로서': 2050, '▁훨': 2051, '가서': 2052, ',,,,': 2053, '▁최악이다': 2054, '▁보고나서': 2055, '▁영웅': 2056, '▁별루': 2057, '▁키': 2058, '스타': 2059, '▁저도': 2060, '▁깊은': 2061, '가지': 2062, '인이': 2063, '▁수가': 2064, '픈': 2065, '▁처': 2066, '▁만들었다': 2067, '자가': 2068, '령': 2069, '▁감동적이고': 2070, '▁겁나': 2071, 'T': 2072, '▁여성': 2073, '▁왜이렇게': 2074, '뒤': 2075, '▁중반': 2076, '지않는': 2077, '다운': 2078, '인간': 2079, '알바': 2080, '▁잘봤습니다': 2081, '▁질질': 2082, '에겐': 2083, '▁소재는': 2084, '▁바람': 2085, '였어요': 2086, '지않은': 2087, '했으면': 2088, '짝': 2089, '잉': 2090, '▁진행': 2091, '▁방': 2092, '▁합니다': 2093, '▁과거': 2094, '엿': 2095, '▁인정': 2096, '해주는': 2097, '▁-_-': 2098, '▁형': 2099, '동안': 2100, '그러': 2101, '벽': 2102, '준다': 2103, '▁전편': 2104, '▁지금봐도': 2105, '▁어이없': 2106, '뜨': 2107, '▁살인': 2108, '▁감사': 2109, '가족': 2110, '닥': 2111, '▁이런게': 2112, '▁게임': 2113, '▁앞으로': 2114, '▁완벽': 2115, '▁명작이': 2116, '봉': 2117, '▁배우가': 2118, '▁뭔지': 2119, '▁자유': 2120, '빨': 2121, '수록': 2122, '▁창': 2123, '춘': 2124, '▁늘': 2125, '닝': 2126, '마다': 2127, '▁느껴지는': 2128, '▁지나': 2129, '▁C': 2130, '▁결혼': 2131, '족': 2132, '▁클': 2133, '▁깊이': 2134, '▁출': 2135, '▁해주는': 2136, '▁잔인하': 2137, '보세요': 2138, '멋': 2139, '▁그림': 2140, '는것': 2141, '▁것이다': 2142, '▁낭비': 2143, '활': 2144, '풀': 2145, '봤음': 2146, '스런': 2147, '▁않았다': 2148, '▁촬영': 2149, '쁘': 2150, '▁비슷': 2151, '▁노출': 2152, '놓은': 2153, '앙': 2154, '▁신선': 2155, '▁관람': 2156, '▁아름답다': 2157, '▁평론가': 2158, '▁않음': 2159, '▁마음을': 2160, '▁분명': 2161, '▁역대': 2162, '▁아놔': 2163, '▁이러': 2164, '르는': 2165, '송': 2166, 'or': 2167, 'w': 2168, '욱': 2169, '▁메세지': 2170, '▁만드': 2171, '▁생각나': 2172, '▁씨': 2173, '▁같네요': 2174, '▁인상': 2175, '▁아니지만': 2176, '▁이어': 2177, '롭': 2178, '눈물': 2179, '▁한계': 2180, '이제': 2181, '▁각': 2182, '▁답': 2183, '만으로': 2184, '▁어찌': 2185, '▁긴': 2186, '▁임': 2187, '▁좋았는데': 2188, 'ᄒᄒᄒ': 2189, '▁특유의': 2190, '▁말고': 2191, '▁보여준': 2192, '책': 2193, '▁똑같': 2194, '버리': 2195, '▁보지마세요': 2196, '킨': 2197, '▁맞는': 2198, '▁떠': 2199, '작가': 2200, '▁사랑이': 2201, '▁감사합니다': 2202, '▁동화': 2203, '▁유쾌': 2204, '갔': 2205, '▁19': 2206, '▁인물': 2207, '나옴': 2208, '▁급': 2209, '▁입니다': 2210, '▁스토리에': 2211, '팔': 2212, '▁갑': 2213, 'ᄂ': 2214, '▁모습이': 2215, '▁good': 2216, '▁요소': 2217, '었으면': 2218, '//': 2219, '버렸다': 2220, '소재': 2221, '없어': 2222, '▁이야기가': 2223, '▁소름': 2224, '▁광': 2225, '든다': 2226, '암': 2227, '▁액션이': 2228, '▁이영화가': 2229, '▁먼저': 2230, '▁넘어': 2231, '▁해준': 2232, '▁확': 2233, '이면': 2234, '▁어릴적': 2235, '▁아름답고': 2236, '누': 2237, '▁보고싶다': 2238, '흡': 2239, '▁슬프': 2240, '홍': 2241, '▁분들': 2242, '▁현재': 2243, '▁빠지': 2244, '려는': 2245, '▁빈': 2246, '보면서': 2247, '▁떠나': 2248, '었습니다': 2249, '▁듯한': 2250, '득': 2251, '▁취향': 2252, '▁멋있': 2253, '들아': 2254, '▁성공': 2255, '▁그녀': 2256, '▁매력이': 2257, '▁장면은': 2258, '▁법': 2259, '시간이': 2260, '▁성인': 2261, '거임': 2262, '사람이': 2263, '거같다': 2264, 'S': 2265, '▁지난': 2266, '▁표정': 2267, '▁하면': 2268, '▁너무나도': 2269, '▁여전히': 2270, '▁몰': 2271, '웃음': 2272, '아닌': 2273, '▁심심': 2274, '▁어색한': 2275, '▁꼬': 2276, '▁눈을': 2277, '있게': 2278, '팅': 2279, '량': 2280, '골': 2281, '▁스케일': 2282, '쪽': 2283, '▁좋았고': 2284, '▁저예산': 2285, '무슨': 2286, '재미없다': 2287, '▁본다': 2288, '▁슬프다': 2289, '▁있었던': 2290, '▁권': 2291, '▁범죄': 2292, '▁귀엽고': 2293, '▁시청률': 2294, '▁짱짱': 2295, '떡': 2296, '껄': 2297, '▁받아': 2298, '만들어': 2299, '▁젤': 2300, '▁보고싶': 2301, '▁황당': 2302, '▁있다는': 2303, 'v': 2304, '▁남주': 2305, '으며': 2306, '쩌': 2307, '▁독특한': 2308, '▁커': 2309, '분이': 2310, '되지': 2311, '한듯': 2312, '했어': 2313, '▁봤었는데': 2314, '▁비추': 2315, '▁일상': 2316, '롱': 2317, '일뿐': 2318, '▁OST': 2319, '모습': 2320, '▁몰랐': 2321, '▁등장': 2322, '▁복': 2323, '던가': 2324, '▁어이없는': 2325, '텐데': 2326, '▁나라': 2327, '▁삶': 2328, '짜리': 2329, '몽': 2330, '압': 2331, '깔': 2332, '▁전체적으로': 2333, '손': 2334, '▁신선한': 2335, '▁남는다': 2336, '언니': 2337, '▁이젠': 2338, '줌': 2339, '▁단순': 2340, '스가': 2341, '▁알아': 2342, '친구': 2343, '유치': 2344, '▁식상': 2345, '쿠': 2346, '▁싫어': 2347, '확': 2348, '떨어': 2349, '▁프로': 2350, '▁처음이다': 2351, '마음': 2352, '▁친': 2353, '▁싶어': 2354, '턴': 2355, 'P': 2356, '성을': 2357, '폭': 2358, '▁알바들': 2359, '▁확실히': 2360, '찌': 2361, '충': 2362, 'ᄍᄍ': 2363, '▁좋았': 2364, '▁세상에': 2365, '▁재밌습니다': 2366, '%': 2367, '▁사이': 2368, '▁어쩌': 2369, '▁트': 2370, '▁그렇고': 2371, '이렇게': 2372, '▁예쁜': 2373, '▁무섭': 2374, '클': 2375, '▁밀': 2376, '▁나를': 2377, '▁한편': 2378, '▁눈이': 2379, '▁얼': 2380, '오빠': 2381, '▁잼있게': 2382, '▁당신': 2383, '람': 2384, '▁마라': 2385, '▁받': 2386, '웃겼': 2387, '▁ᄉᄇ': 2388, '▁기대를': 2389, '▁후반': 2390, '영상': 2391, '▁보는게': 2392, '끼리': 2393, '▁모르겠': 2394, '▁감탄': 2395, '▁15': 2396, '지마라': 2397, '▁정치': 2398, '▁돋보': 2399, '▁해야': 2400, '▁애들이': 2401, '점주는': 2402, '▁잊혀지지': 2403, '▁관심': 2404, '▁ᅮ': 2405, '주고': 2406, '▁미치': 2407, '▁돌려': 2408, '응': 2409, '▁이것': 2410, '▁웃겨': 2411, '▁되었': 2412, '▁cg': 2413, '나온': 2414, '▁섹시': 2415, '▁답답': 2416, '몰': 2417, '▁아깝': 2418, '▁재밌었는데': 2419, 'ᄃ': 2420, '다른': 2421, '▁호러': 2422, '촌': 2423, '▁않아': 2424, '▁전달': 2425, '▁나왔으면': 2426, '▁필요없는': 2427, '코드': 2428, '것들': 2429, '▁여자들': 2430, '했을': 2431, '▁와닿': 2432, '▁조폭': 2433, '▁무엇보다': 2434, '만화': 2435, '▁캐릭터들': 2436, '▁싫다': 2437, '▁놓': 2438, '▁같음': 2439, '▁기분이': 2440, '▁보시길': 2441, '특히': 2442, '인의': 2443, '▁아저씨': 2444, '지마': 2445, '▁연기력이': 2446, '재밌어요': 2447, '▁다소': 2448, '▁취': 2449, '▁봐야할': 2450, '▁했지만': 2451, '▁끝나고': 2452, '▁근': 2453, '하는게': 2454, '▁실제': 2455, '하다니': 2456, '▁꺼': 2457, '쇼': 2458, '무섭': 2459, '드리': 2460, '▁ᄃᄃ': 2461, '▁그런가': 2462, '즐': 2463, '보이': 2464, '▁아니면': 2465, '▁삶을': 2466, '▁빨': 2467, '엄': 2468, '▁재밌었음': 2469, '▁히': 2470, '▁찍은': 2471, '▁미래': 2472, '▁좋을': 2473, '▁나가': 2474, '▁어렸을': 2475, '었지만': 2476, '▁서로': 2477, '▁훈훈': 2478, '▁여자가': 2479, '쾌': 2480, '▁볼거리': 2481, '흘': 2482, '시다': 2483, '▁부분': 2484, '드라': 2485, 'an': 2486, '▁아닌듯': 2487, '끝나': 2488, '급영화': 2489, 'ᄏᄏᄏᄏᄏᄏᄏᄏᄏᄏᄏᄏᄏᄏᄏᄏ': 2490, '둘': 2491, '▁재밌었': 2492, '▁시선': 2493, '웠다': 2494, '▁홍': 2495, '내요': 2496, '▁시원': 2497, '▁음악이': 2498, '▁멋지다': 2499, '▁있나': 2500, '▁빼': 2501, '땅': 2502, '▁물론': 2503, '▁주인공들': 2504, '▁독립영화': 2505, '면서도': 2506, '▁스토리와': 2507, '▁추천합니다': 2508, '한다면': 2509, '평점이': 2510, '▁잼없': 2511, '▁이하': 2512, '▁드는': 2513, '나올': 2514, '▁짜증나는': 2515, '▁그런데': 2516, '짜증': 2517, '▁관계': 2518, '순간': 2519, '▁회': 2520, '▁이연걸': 2521, '▁부분이': 2522, '돼': 2523, '▁같습니다': 2524, '▁사극': 2525, '▁티비에서': 2526, '버리고': 2527, '깨': 2528, '▁재미있음': 2529, '쓴': 2530, 'C': 2531, '▁오히려': 2532, '▁희망': 2533, '20': 2534, '▁평생': 2535, '▁굳': 2536, '▁송': 2537, '▁몰입감': 2538, '▁I': 2539, '▁아닌데': 2540, '▁보이는': 2541, '것은': 2542, '▁아닐까': 2543, '▁대충': 2544, '▁갖': 2545, '▁액션은': 2546, '갓': 2547, '하라': 2548, '▁몸매': 2549, '▁몇번을': 2550, '▁이유가': 2551, '▁카메라': 2552, '▁영화관': 2553, '▁재밋게': 2554, 'O': 2555, '▁이정도면': 2556, '▁청': 2557, '더군요': 2558, '새끼': 2559, '했는지': 2560, '▁역시나': 2561, '▁순수한': 2562, '=': 2563, '▁킬링타임': 2564, '▁추억의': 2565, '누나': 2566, 'j': 2567, 'ᄆ': 2568, '▁슬픔': 2569, '아주': 2570, '▁경찰': 2571, '▁볼때마다': 2572, '▁접': 2573, '▁표': 2574, '따위': 2575, '▁A': 2576, '제목': 2577, '시고': 2578, '▁용': 2579, '▁용서': 2580, '▁끝난': 2581, '▁황': 2582, '▁필요없다': 2583, '▁글쎄': 2584, '▁범인': 2585, '▁민': 2586, '▁슬프고': 2587, '▁누': 2588, '▁해주': 2589, '영환': 2590, '탕': 2591, 'er': 2592, '▁설레': 2593, 'A': 2594, '▁낫': 2595, '죄': 2596, '북': 2597, 'B': 2598, '▁받았': 2599, '인것': 2600, '▁평범한': 2601, '▁드라마가': 2602, '▁긴장': 2603, '좌': 2604, '▁짠': 2605, '▁생각나는': 2606, '▁가끔': 2607, '▁보기엔': 2608, '번째': 2609, '▁하게': 2610, '년전에': 2611, '용으로': 2612, '▁있다면': 2613, '▁고전': 2614, '000': 2615, '점준': 2616, '▁몇번': 2617, '▁멀': 2618, '빡': 2619, '뿌': 2620, '▁디즈니': 2621, '▁표절': 2622, '▁살짝': 2623, '▁재미를': 2624, '▁고민': 2625, '▁가볍게': 2626, '▁싫': 2627, '▁난다': 2628, '▁홍콩': 2629, '▁참신': 2630, '좋아요': 2631, '할듯': 2632, '▁벗': 2633, '수도': 2634, '하면서도': 2635, '방송': 2636, '인생': 2637, '▁죽는': 2638, '틱': 2639, '재밌다': 2640, '▁느낀': 2641, '▁소재를': 2642, '▁화려': 2643, '▁함': 2644, '▁철': 2645, '니깐': 2646, '으면서': 2647, '▁봤다가': 2648, '왔다': 2649, '나와': 2650, '▁아깝지': 2651, '율': 2652, '▁그럭저럭': 2653, '덤': 2654, '▁힐링': 2655, '잼있': 2656, '▁외국': 2657, '▁w': 2658, 'ᄀ': 2659, '▁딴': 2660, '▁무섭다': 2661, '▁빛': 2662, '와서': 2663, '▁그의': 2664, '▁틀': 2665, '~~~~~~~': 2666, '총': 2667, '뜻': 2668, '▁별로다': 2669, '▁떨어지는': 2670, '▁소름돋': 2671, '▁국': 2672, '▁사랑과': 2673, '▁화가': 2674, '▁먼': 2675, '말고': 2676, '▁논': 2677, '▁어린이': 2678, '하구': 2679, '던지': 2680, '버려': 2681, '▁캐': 2682, '▁언제나': 2683, '험': 2684, '▁압권': 2685, '▁무지': 2686, '▁팔': 2687, '▁볼수록': 2688, '걸로': 2689, '▁연애': 2690, '▁+': 2691, '▁괴물': 2692, '▁재미있네요': 2693, '시는': 2694, '▁프로그램': 2695, '괜찮': 2696, '생겼': 2697, '▁보이': 2698, '▁중간중간': 2699, '그래': 2700, '▁십': 2701, 'in': 2702, '▁스토리를': 2703, '▁제목이': 2704, '받고': 2705, '생활': 2706, '▁나서': 2707, '▁보았': 2708, '▁시걸': 2709, '되네요': 2710, '▁꼴': 2711, '항': 2712, '뉴': 2713, 'ᅡ': 2714, '▁S': 2715, '▁벌': 2716, '숨': 2717, '▁다르': 2718, '▁예전': 2719, '는건지': 2720, '있어': 2721, '▁모습을': 2722, '내는': 2723, '▁되게': 2724, '▁재밌네': 2725, '▁연기와': 2726, '▁뮤지컬': 2727, '▁재미있었다': 2728, '더만': 2729, '홀': 2730, '폰': 2731, '▁현대': 2732, '웃기': 2733, '나고': 2734, '▁좋았던': 2735, '▁마치': 2736, 'ᄏᄏᄏᄏᄏ': 2737, '▁사건': 2738, '▁지루해서': 2739, 'ᄅ': 2740, '한건': 2741, '겟다': 2742, '▁읽': 2743, '▁연기에': 2744, '▁<': 2745, '까진': 2746, '▁뒷': 2747, '봐요': 2748, '봣는데': 2749, '.......': 2750, '▁안하고': 2751, '없네': 2752, '▁폭': 2753, '▁엉성한': 2754, '웅': 2755, '▁실패': 2756, '낼': 2757, '▁행동': 2758, '하는지': 2759, '▁능력': 2760, '▁만들어진': 2761, '▁있지': 2762, '아님': 2763, 'ᄒᄒᄒᄒ': 2764, '▁통해': 2765, '▁그들의': 2766, '▁병': 2767, '▁초반에': 2768, '쏘': 2769, '▁감동과': 2770, '▁춤': 2771, '▁과연': 2772, '▁결': 2773, '▁어이가': 2774, '잃': 2775, '▁옛날에': 2776, '▁없나': 2777, '▁영화보고': 2778, '▁군대': 2779, 'ᄏᄏᄏᄏᄏᄏᄏᄏ': 2780, 'V': 2781, '영화의': 2782, '연기가': 2783, '▁영화이다': 2784, '▁보고싶은': 2785, '▁사람을': 2786, '값': 2787, '▁종교': 2788, '했네': 2789, '▁풍': 2790, '▁현실성': 2791, '▁맨': 2792, '봤어요': 2793, '상을': 2794, '흔': 2795, '▁제작진': 2796, '▁풀': 2797, '세계': 2798, '머리': 2799, '▁믿을': 2800, '▁재미없네': 2801, '▁퀄리티': 2802, '힐': 2803, 'R': 2804, '삭': 2805, '▁섹스': 2806, 'ᄃᄃ': 2807, '감독이': 2808, '▁시사회': 2809, '!!!!!': 2810, '▁사는': 2811, '▁붙': 2812, '함과': 2813, '▁든다': 2814, '쓸': 2815, '▁영화지만': 2816, '▁월': 2817, '아깝': 2818, '▁질리지': 2819, '▁못하고': 2820, '있네': 2821, '▁드라마를': 2822, '▁합': 2823, '남는': 2824, '자체': 2825, '▁해피엔딩': 2826, '았던': 2827, '▁볼만하다': 2828, '한게': 2829, '▁에로': 2830, '▁미드': 2831, '▁리뷰': 2832, '엘': 2833, '▁어쩔': 2834, '▁하는데': 2835, '쳤': 2836, 'M': 2837, '▁공감이': 2838, '▁죄': 2839, '진심': 2840, '▁쓸': 2841, '한국': 2842, '▁남아': 2843, '▁더이상': 2844, '(?)': 2845, '▁눈빛': 2846, '▁메시지': 2847, '스의': 2848, '▁펑펑': 2849, '▁생애': 2850, '▁그다지': 2851, '▁높다': 2852, '기분': 2853, '▁그린': 2854, '▁진심으로': 2855, '▁말로': 2856, '슈': 2857, '▁뜨': 2858, '▁덜': 2859, '▁소녀': 2860, '▁운': 2861, '▁볼만하': 2862, '▁포기': 2863, '▁봤으면': 2864, '보게': 2865, '▁무서워': 2866, '▁기대안하고': 2867, '▁심리': 2868, '▁봣': 2869, '내용이': 2870, '▁내용을': 2871, '▁12': 2872, '할까': 2873, '▁난해': 2874, '▁찍어': 2875, '기엔': 2876, '▁썩': 2877, '일이': 2878, '▁남기': 2879, '에서는': 2880, '▁다큐멘터리': 2881, '▁짓': 2882, '▁스타': 2883, 'ᄇ': 2884, '▁싸구려': 2885, '▁잔잔하고': 2886, '▁뛰어난': 2887, '▁전에': 2888, '▁사랑스러운': 2889, '!!!!!!!!!': 2890, '되서': 2891, 'ᄏᄏᄏᄏᄏᄏᄏᄏᄏ': 2892, '▁볼만함': 2893, '▁오버': 2894, '더라구요': 2895, '것만': 2896, '▁반전도': 2897, '▁자신': 2898, 'N': 2899, '▁페': 2900, '▁개판': 2901, '▁왜케': 2902, '▁중간': 2903, '굴': 2904, '▁같아': 2905, '틈': 2906, '▁없지만': 2907, 're': 2908, '▁나오고': 2909, '▁나중에': 2910, '▁죽을': 2911, '가슴': 2912, '첨': 2913, '▁올해': 2914, '▁지루할': 2915, '▁킬링타임용으로': 2916, '스릴러': 2917, '▁어른': 2918, '▁다행': 2919, '▁끼': 2920, '줄이야': 2921, '높': 2922, '틴': 2923, '봤던': 2924, '에서도': 2925, '시킨': 2926, '▁방금': 2927, '▁느낄수': 2928, '▁이거보고': 2929, '▁멋': 2930, '있음': 2931, '믿': 2932, '▁가서': 2933, '▁인기': 2934, '▁어제': 2935, '좋고': 2936, '▁음악도': 2937, '........': 2938, '먹고': 2939, 'X': 2940, '렬': 2941, '▁비주얼': 2942, '♥♥': 2943, '▁이건뭐': 2944, '▁우정': 2945, '▁분노': 2946, '님의': 2947, '혼': 2948, '▁이쁜': 2949, '▁아직까지': 2950, '▁재밋다': 2951, '중에서': 2952, '▁처음엔': 2953, '인가요': 2954, '세기': 2955, '찾': 2956, '안에': 2957, '있었': 2958, '▁찡': 2959, '헌': 2960, '▁개인': 2961, '▁c': 2962, '▁좋습니다': 2963, '영화라고': 2964, '▁필': 2965, '▁ᅲᅲᅲ': 2966, '▁굳이': 2967, '▁달리': 2968, '▁웃기고': 2969, '캐': 2970, '▁그럼': 2971, '▁낚': 2972, '기억': 2973, '▁열정': 2974, '나와서': 2975, '▁아는': 2976, '▁흘러': 2977, '▁탄탄한': 2978, '▁40': 2979, '▁사랑에': 2980, '내용도': 2981, '▁포장': 2982, '빵': 2983, '▁동물': 2984, '느라': 2985, '째': 2986, '많은': 2987, '▁삶의': 2988, '99': 2989, '공포': 2990, '면에서': 2991, '편보다': 2992, '협': 2993, '한다는': 2994, '댄': 2995, '▁열심히': 2996, '케이': 2997, '▁니콜': 2998, '▁이제야': 2999, '았는데': 3000, '▁여러': 3001, '▁빌': 3002, '설정': 3003, '▁연출도': 3004, '▁유치하다': 3005, '▁풀어': 3006, '▁판': 3007, '▁팬이': 3008, '지않고': 3009, '가지고': 3010, '개봉': 3011, '▁폭력': 3012, '하려고': 3013, '자는': 3014, '학생': 3015, '▁다시한번': 3016, '▁죽어': 3017, '▁소재가': 3018, '▁만든다': 3019, '▁안됨': 3020, '▁했던': 3021, '▁또한': 3022, '▁아나': 3023, '▁사랑하는': 3024, '▁푹': 3025, '▁배우의': 3026, '▁느끼는': 3027, '표현': 3028, '▁평이': 3029, '▁엘': 3030, '▁밋밋': 3031, '므': 3032, '▁드럽게': 3033, '▁나머지': 3034, '▁채널': 3035, '계속': 3036, '자의': 3037, '▁베스트': 3038, '▁헤': 3039, '▁찍었': 3040, '▁고생': 3041, '▁칼': 3042, '▁유치함': 3043, '▁주인공의': 3044, '볼만': 3045, '이었': 3046, '랜': 3047, '▁잼나': 3048, '솔': 3049, '▁씁쓸': 3050, '▁헐리우드': 3051, '컷': 3052, '▁따뜻해지는': 3053, '빼고': 3054, '고싶은': 3055, '으론': 3056, '막장': 3057, '스터': 3058, '▁역할': 3059, '▁맘': 3060, '티비': 3061, '▁결과': 3062, '▁소재로': 3063, '무비': 3064, '프로': 3065, '스러움': 3066, '얘기': 3067, '▁기본': 3068, '젤': 3069, '딸': 3070, '▁낮아서': 3071, '하는것': 3072, '이해': 3073, '▁죄다': 3074, '▁저렇게': 3075, '▁높아': 3076, '▁아름다움': 3077, '▁로그인': 3078, '형님': 3079, '▁통쾌': 3080, '▁무서웠': 3081, '나게': 3082, '▁영화냐': 3083, '▁올라': 3084, '▁자막': 3085, '▁매력적이': 3086, '▁인생의': 3087, '▁게이': 3088, '전쟁': 3089, '▁안타깝다': 3090, '리지': 3091, '연기도': 3092, '딩': 3093, '재밌음': 3094, '▁행': 3095, '▁자신의': 3096, '하려': 3097, '▁생각없이': 3098, '▁말할': 3099, '봤지만': 3100, '▁브': 3101, '사람은': 3102, '안되는': 3103, '▁승': 3104, '들만': 3105, '속에서': 3106, '멘': 3107, '텔': 3108, '▁시대를': 3109, '▁벌써': 3110, '▁최근': 3111, '▁악역': 3112, '▁생각한다': 3113, '만드는': 3114, '▁핵': 3115, '▁그렇다': 3116, '늘': 3117, '▁귀엽': 3118, '였지만': 3119, '▁퍼': 3120, '▁과정': 3121, '▁짧': 3122, '뛰': 3123, '릿': 3124, ']': 3125, '▁시트콤': 3126, '식이': 3127, '▁불쾌': 3128, '▁긴장감도': 3129, '▁영화에서': 3130, '▁남녀': 3131, 'ᅲᅮ': 3132, '▁매력있': 3133, '명이': 3134, '▁시시': 3135, '▁만큼': 3136, '▁몰입이': 3137, '접': 3138, '잠': 3139, '시간에': 3140, '먹는': 3141, '혁': 3142, '대사': 3143, '콜': 3144, '았습니다': 3145, '▁견자단': 3146, '▁70': 3147, '▁꾸': 3148, '▁명품': 3149, '▁끝나는': 3150, '▁d': 3151, '▁악당': 3152, '도아니고': 3153, '▁인생을': 3154, '▁느와르': 3155, '11': 3156, '현실': 3157, '젠': 3158, '▁있네요': 3159, '▁안되고': 3160, '▁되었다': 3161, '▁문화': 3162, '사가': 3163, '▁어려운': 3164, '▁의외로': 3165, '▁쓰래기': 3166, '▁빌려': 3167, '식으로': 3168, '▁나옴': 3169, '▁영국': 3170, '▁영화에요': 3171, '긴한데': 3172, '져서': 3173, '▁아침': 3174, '하겠': 3175, '보시': 3176, '▁생각합니다': 3177, '▁남을': 3178, '▁이쁘고': 3179, '▁T': 3180, '얻': 3181, '▁무엇을': 3182, '▁솔직': 3183, '▁젊은': 3184, '탁': 3185, '▁무엇': 3186, '▁폴': 3187, '어지는': 3188, '▁청소년': 3189, '영화로': 3190, '▁울었다': 3191, '하려는': 3192, '▁울고': 3193, '▁단순한': 3194, '▁둘다': 3195, '하지도': 3196, '스타일': 3197, '않는': 3198, '▁심장': 3199, '▁이기': 3200, '▁여기서': 3201, '▁그려': 3202, '님이': 3203, '▁당시에': 3204, '떄': 3205, '멸': 3206, '▁007': 3207, '▁마이클': 3208, '▁상처': 3209, '▁꽝': 3210, '이며': 3211, '▁불쌍': 3212, '극장': 3213, '▁동생': 3214, '▁즐겁게': 3215, '▁발로': 3216, '력이': 3217, '▁모든게': 3218, '▁퇴': 3219, '지가': 3220, '▁망한': 3221, '▁할말이': 3222, '▁출연진': 3223, '▁달라': 3224, '▁산으로': 3225, '감을': 3226, '▁환상': 3227, '꼽': 3228, '▁눈물을': 3229, '더라면': 3230, '▁봣는데': 3231, '▁나타': 3232, '▁발전': 3233, '▁코난': 3234, '▁표현한': 3235, '씨가': 3236, '▁자극': 3237, '▁무비': 3238, '점주': 3239, '▁의심': 3240, '했으나': 3241, '▁살아있': 3242, '▁드라마는': 3243, '▁쫌': 3244, '워서': 3245, '그렇': 3246, '▁;;': 3247, '▁괜찮았': 3248, '▁이유는': 3249, 'st': 3250, '▁올리': 3251, '드러': 3252, '훌륭': 3253, '꿀잼': 3254, '▁앤': 3255, '했나': 3256, '▁헐리웃': 3257, '착': 3258, '▁샤': 3259, '캐릭터': 3260, '▁많다': 3261, '▁가진': 3262, '▁생생': 3263, '▁단연': 3264, '▁홍보': 3265, '온다': 3266, '▁학교에서': 3267, '▁광고': 3268, '▁놈': 3269, '▁말을': 3270, '꾸': 3271, '▁나쁘지': 3272, '려면': 3273, '▁영화였어요': 3274, '▁있어요': 3275, '▁지금은': 3276, '▁아마': 3277, '본영화': 3278, '▁우와': 3279, '▁연속': 3280, '▁줌': 3281, '룡': 3282, '▁투자': 3283, '인들': 3284, '하다가': 3285, '옹': 3286, '▁짝퉁': 3287, '▁차이': 3288, '▁아쉬웠': 3289, '▁사기': 3290, '▁흐름': 3291, '▁타임': 3292, '▁어머니': 3293, '▁미소': 3294, '답답': 3295, '▁죽여': 3296, '▁정말로': 3297, '▁마세요': 3298, '수없는': 3299, '▁돌아가': 3300, '장난': 3301, '▁많아': 3302, '정신': 3303, '하셨': 3304, '▁정서': 3305, '▁북한': 3306, '▁쇼': 3307, '놨': 3308, '아라': 3309, '▁하루': 3310, '▁어렵': 3311, '▁몰라도': 3312, '▁보여': 3313, '▁보았다': 3314, '겹': 3315, '▁신선하고': 3316, '씀': 3317, '헤': 3318, '▁f': 3319, '▁아쉬움': 3320, '털': 3321, '▁쵝오': 3322, 'ing': 3323, '▁노답': 3324, '▁힘들다': 3325, '▁늘어': 3326, '▁지나치': 3327, '▁굿굿': 3328, '▁좋았을': 3329, '▁못했다': 3330, '점수': 3331, '으로서': 3332, '▁현실적인': 3333, 'on': 3334, '▁내려': 3335, '▁완': 3336, '지지': 3337, '▁넣': 3338, '자리': 3339, '중의': 3340, '`': 3341, '▁제작비': 3342, '폐': 3343, '▁옛': 3344, '▁울었': 3345, '▁좋아서': 3346, '시키는': 3347, '▁유쾌하고': 3348, '에대한': 3349, '▁모르': 3350, '▁있습니다': 3351, '▁이런영화가': 3352, '구성': 3353, '▁않게': 3354, '▁안돼': 3355, '▁끄': 3356, '▁뭉클': 3357, '▁전문가': 3358, '▁웃음이': 3359, '▁뻔하고': 3360, '▁없는데': 3361, '▁m': 3362, 'I': 3363, '▁반성': 3364, '▁웃김': 3365, '이런영화': 3366, '▁밥': 3367, '▁있으면': 3368, '▁야한': 3369, '노래': 3370, '편의': 3371, '▁건지': 3372, '▁좋지만': 3373, '▁무시': 3374, '즘': 3375, '▁이후로': 3376, '떼': 3377, '팀': 3378, '▁주성치': 3379, '▁쉽게': 3380, '▁멍청한': 3381, 'ar': 3382, '▁에휴': 3383, '▁희생': 3384, '▁최강': 3385, '리아': 3386, '▁되지': 3387, '▁우주': 3388, '▁결말도': 3389, '엄마': 3390, '슬프': 3391, '이유': 3392, '끝까지': 3393, '보자': 3394, '▁있게': 3395, '하더라': 3396, '▁쩐다': 3397, '▁빠': 3398, '스러웠': 3399, '▁마이너스': 3400, '뮤': 3401, '포인트': 3402, '했네요': 3403, '▁잔인한': 3404, '▁재미있었어요': 3405, '정이': 3406, '같음': 3407, '200': 3408, '갔다': 3409, '▁채': 3410, '끈': 3411, '▁놀라': 3412, '떠': 3413, '▁a': 3414, '아까': 3415, '흥': 3416, '아요': 3417, '▁많았': 3418, '▁떠나서': 3419, '▁점수를': 3420, '▁나왔다': 3421, '▁식': 3422, '해주세요': 3423, '▁싶네요': 3424, '사이': 3425, '계의': 3426, '영화임': 3427, '▁이따위': 3428, '▁시간을': 3429, '▁친구들': 3430, 'OOO': 3431, '버림': 3432, '끌': 3433, '▁잔': 3434, '▁즐거운': 3435, '▁빼고는': 3436, '▁크게': 3437, '▁하네요': 3438, '▁지루하게': 3439, '집니다': 3440, '▁루': 3441, '한것': 3442, '?!': 3443, '있는데': 3444, '야할': 3445, '▁보길': 3446, '▁이쁘다': 3447, '▁엉망': 3448, '관계': 3449, '물이': 3450, '▁중요한': 3451, '텐': 3452, '매력': 3453, '밝': 3454, '▁레전드': 3455, '▁무언가': 3456, '▁왠': 3457, '▁the': 3458, '▁흥미로운': 3459, '▁영화인듯': 3460, '▁사랑이야기': 3461, '▁라는': 3462, '▁지루했다': 3463, '로써': 3464, '지도않고': 3465, '▁보니까': 3466, '▁오랜만': 3467, '▁진정': 3468, '야한다': 3469, '장면이': 3470, '▁나오지': 3471, '▁못해': 3472, '▁지구': 3473, '▁잊지': 3474, '아니다': 3475, '친다': 3476, '▁손발이': 3477, 'ᅵ': 3478, '▁더러운': 3479, '▁반개도': 3480, '▁발견': 3481, '▁달달': 3482, '학교': 3483, '▁시각': 3484, '▁평범': 3485, '원작': 3486, '▁한데': 3487, '▁아쉽네요': 3488, '▁보아': 3489, '▁순수': 3490, '▁기대했는데': 3491, '▁결말은': 3492, '▁안타깝': 3493, '보는내내': 3494, '▁좀더': 3495, '▁중에서': 3496, '하지마라': 3497, '부족': 3498, '없어서': 3499, '보지말': 3500, '빙': 3501, '스럽고': 3502, '▁좋아할': 3503, '▁음악과': 3504, '지를': 3505, '택': 3506, '붕': 3507, '뽕': 3508, '롤': 3509, '▁위대한': 3510, '▁기다리': 3511, '잔잔': 3512, '적은': 3513, '▁올려': 3514, '▁누구나': 3515, '자체가': 3516, '왔는데': 3517, '▁재밌을': 3518, 'ᄏᄏᄏᄏᄏᄏᄏᄏᄏᄏᄏᄏᄏ': 3519, '▁딱히': 3520, '▁나오면': 3521, '▁받을': 3522, '▁만들고': 3523, '사는': 3524, '혈': 3525, '▁싸이코': 3526, '▁연예인': 3527, '▁더불어': 3528, '▁웃기지도': 3529, '▁민망': 3530, '▁뜻': 3531, '▁특이': 3532, '▁의리': 3533, '았음': 3534, '▁푸': 3535, '나온다': 3536, '▁의문': 3537, '빼곤': 3538, '▁멋있다': 3539, '되면': 3540, '▁무섭지도': 3541, '▁신파': 3542, '▁인상적이': 3543, '▁적당': 3544, '었어': 3545, '겠음': 3546, '그리': 3547, '▁의미를': 3548, '▁알수': 3549, '▁주말': 3550, '따라': 3551, '▁재미없어요': 3552, '아쉽': 3553, '있나': 3554, '▁가지': 3555, '▁떨어지': 3556, '이라서': 3557, '▁다만': 3558, '▁조합': 3559, '▁꽃': 3560, '대는': 3561, '▁빼고': 3562, '▁부족하다': 3563, '▁끝이': 3564, '▁묻': 3565, '▁극치': 3566, '렉': 3567, '▁집에서': 3568, '▁쓰레기같은': 3569, '▁속에': 3570, '넹': 3571, '▁김기덕': 3572, '▁보고나면': 3573, '▁묘사': 3574, '▁귀여워': 3575, '▁끊': 3576, '▁봤더니': 3577, '▁연결': 3578, '▁어휴': 3579, '▁역대급': 3580, '▁한국인': 3581, '뭔': 3582, '▁오바': 3583, '이었음': 3584, '▁[': 3585, '▁인간들': 3586, '▁보인다': 3587, '▁이해하기': 3588, '들고': 3589, '▁현실적이': 3590, '▁무협': 3591, '▁슈퍼': 3592, '땡': 3593, '▁피해자': 3594, '새끼들': 3595, '편도': 3596, '▁무척': 3597, '▁박수를': 3598, '거라': 3599, '▁쓰레기다': 3600, '▁전체': 3601, '▁학교': 3602, '▁못한다': 3603, '▁느낌을': 3604, '▁미모': 3605, '▁한마디': 3606, '▁영화인': 3607, '자나': 3608, '▁맡': 3609, '같네': 3610, '▁한참': 3611, 'it': 3612, '례': 3613, '▁멍청': 3614, '▁양심': 3615, '제발': 3616, '▁거지': 3617, '▁외모': 3618, '님들': 3619, '하기만': 3620, 'is': 3621, '▁우리가': 3622, '편을': 3623, '▁홍콩영화': 3624, '시즌': 3625, '렇': 3626, '점정도': 3627, '▁않지만': 3628, '▁케이블': 3629, '놔': 3630, '▁보러': 3631, '이자': 3632, '몬': 3633, '▁시간가는줄': 3634, '▁크리스마스': 3635, '▁불구하고': 3636, '▁맨날': 3637, '▁국민': 3638, '▁시리즈중': 3639, '▁한국영화는': 3640, '▁시청': 3641, '▁느꼈': 3642, '▁예쁘': 3643, '▁혼': 3644, '잔인': 3645, '엇다': 3646, '보여': 3647, '▁국내': 3648, '▁신경': 3649, '▁그렇지': 3650, '짜증나': 3651, '▁끌어': 3652, '했다는': 3653, '일본': 3654, '▁사랑의': 3655, '▁에피소드': 3656, '▁흔한': 3657, '▁필름': 3658, '▁없지': 3659, '▁싶지': 3660, '▁배우들도': 3661, '▁낳': 3662, '▁13': 3663, '만의': 3664, '고싶어': 3665, '않다': 3666, '▁짐': 3667, '다는게': 3668, '▁싶었': 3669, '▁이해할': 3670, '하는건': 3671, '▁공부': 3672, '▁관한': 3673, '콩': 3674, '밥': 3675, '▁어릴': 3676, '평가': 3677, '보지': 3678, '칙': 3679, '▁뒤로': 3680, '좋아하는': 3681, '▁잭': 3682, '▁가면': 3683, '시작': 3684, '▁이때': 3685, '▁한번쯤': 3686, '▁넘치는': 3687, '만큼은': 3688, '^^*': 3689, '▁18': 3690, '수있는': 3691, '지말고': 3692, '▁사람의': 3693, '와는': 3694, '▁무리': 3695, '▁작가가': 3696, '▁주기': 3697, '왔습니다': 3698, '▁왜이래': 3699, '▁50': 3700, '쥐': 3701, '▁끝났': 3702, '▁들었': 3703, '껴': 3704, '컬': 3705, 'K': 3706, '▁러닝타임': 3707, '▁초등학생': 3708, '▁포르노': 3709, '▁아줌마': 3710, '▁색다른': 3711, '▁인도': 3712, '▁꿈을': 3713, '▁장면에서': 3714, '▁하나하나': 3715, '하시는': 3716, '웨': 3717, '세상': 3718, '었고': 3719, '같고': 3720, '넣': 3721, '▁헤어': 3722, '봤네요': 3723, '▁냉': 3724, '맥': 3725, '▁ᄏᄏᄏᄏᄏᄏ': 3726, '..........': 3727, '버리는': 3728, '▁:': 3729, '▁이유를': 3730, '스러워': 3731, '까지는': 3732, '▁감동적': 3733, 'H': 3734, '▁왠만하면': 3735, '▁외계인': 3736, '▁검색': 3737, '▁좋았으나': 3738, '▁아역': 3739, '쳤다': 3740, '했었': 3741, '▁레알': 3742, '해진': 3743, '▁충격적': 3744, '었나': 3745, '▁몰입해서': 3746, '▁와우': 3747, '▁원작의': 3748, '▁제로': 3749, '아쉬': 3750, '기위해': 3751, '▁중요': 3752, '▁점수가': 3753, '짱짱': 3754, '▁가능': 3755, '▁드립니다': 3756, '▁진부하고': 3757, '▁덕분에': 3758, '▁오글': 3759, '▁군': 3760, '뭔가': 3761, '▁졸리': 3762, '▁볼수있': 3763, '▁돋': 3764, '윈': 3765, '▁핵노잼': 3766, '▁개뿔': 3767, '개도': 3768, '▁즐기': 3769, '▁방법': 3770, '년만에': 3771, '▁이래': 3772, '▁찌질': 3773, '▁다룬': 3774, '▁고통': 3775, '▁사랑은': 3776, '엔딩': 3777, '▁안보고': 3778, '▁죽이': 3779, '라는게': 3780, '▁착': 3781, '▁없었던': 3782, '▁허세': 3783, '▁장면들': 3784, '해준': 3785, '▁비극': 3786, '감독님': 3787, '치곤': 3788, '▁보기에': 3789, '▁인간이': 3790, '제작': 3791, '▁알겠': 3792, '머니': 3793, '쉽': 3794, '빌': 3795, '~!!!': 3796, '봅니다': 3797, '▁재미와': 3798, '밑': 3799, '나왔': 3800, '▁있으': 3801, '나가는': 3802, '컨': 3803, '▁카리스마': 3804, '▁좋아하는데': 3805, ':)': 3806, '대단': 3807, '겠네요': 3808, '▁지켜': 3809, '▁상업': 3810, '▁보지마': 3811, '▁남자가': 3812, '▁할말': 3813, '소설': 3814, '하기엔': 3815, '▁미안': 3816, '겼': 3817, '▁보긴': 3818, '씨의': 3819, '하신': 3820, '줘야': 3821, '었을': 3822, '씬은': 3823, '▁잊을': 3824, '▁대사가': 3825, '▁눈에': 3826, '점줌': 3827, '▁그렇': 3828, '▁아이가': 3829, '해야지': 3830, '▁작은': 3831, '공감': 3832, '▁한심': 3833, '란다': 3834, '▁되고': 3835, '▁들어가': 3836, '▁멍': 3837, '농': 3838, '냄새': 3839, '▁바꿔': 3840, '▁1,2': 3841, '▁어린시절': 3842, '▁느껴진다': 3843, '▁일품': 3844, '할만한': 3845, '▁뇌': 3846, '▁생각하는': 3847, '▁크리스': 3848, '▁남겨': 3849, '했을까': 3850, '신분들': 3851, '▁소름이': 3852, '사회': 3853, '▁진리': 3854, '점이다': 3855, '▁간다': 3856, '셈': 3857, '▁찌': 3858, '▁명작입니다': 3859, '▁하는지': 3860, '▁부르': 3861, '▁보자': 3862, '몰입': 3863, '▁뭐라': 3864, '낚': 3865, '낀': 3866, '쥬': 3867, '뽀': 3868, '▁여행': 3869, '▁좋겠어요': 3870, '▁풍경': 3871, '년도에': 3872, '아까움': 3873, '▁시도': 3874, '.........': 3875, '▁깔끔': 3876, '▁말하는': 3877, '▁그걸': 3878, '▁추억이': 3879, '그래서': 3880, '▁빠진': 3881, '편에': 3882, '▁재미있어': 3883, '▁가져': 3884, '의미': 3885, '였어': 3886, '▁11': 3887, '▁착한': 3888, '▁조연': 3889, '▁본다면': 3890, '▁억지스럽': 3891, '▁이런영화를': 3892, '▁그렇다고': 3893, '밤': 3894, '▁형님': 3895, '꾼': 3896, '▁아까울': 3897, '멍': 3898, '▁죽는줄': 3899, '보고싶다': 3900, '겁니다': 3901, '▁재미없게': 3902, '주고싶': 3903, '배경': 3904, '▁망치': 3905, '▁야동': 3906, '!!!!!!!!!!!!!!!!': 3907, '▁악마': 3908, '르고': 3909, '▁이럴': 3910, '▁개성': 3911, '해진다': 3912, '▁탈': 3913, '▁잼있다': 3914, '▁최고입니다': 3915, '▁척': 3916, '▁진지': 3917, '▁못할': 3918, '절대': 3919, '▁영어': 3920, '기로': 3921, '는것도': 3922, '▁희': 3923, '간의': 3924, '쟁이': 3925, '▁뛰어': 3926, '샤': 3927, '스럽게': 3928, '▁기독교': 3929, '둔': 3930, '▁아름다웠': 3931, '럭': 3932, '▁로봇': 3933, '▁기다려': 3934, '▁안나': 3935, '▁최대': 3936, '▁더럽': 3937, '▁뽑': 3938, '쓰고': 3939, '▁설마': 3940, '연기력': 3941, '▁훈훈한': 3942, '▁색': 3943, '만이': 3944, '▁빵': 3945, '잇는': 3946, '▁이것이': 3947, '봤어': 3948, '▁같아서': 3949, '▁들었다': 3950, '앞': 3951, '▁훌륭하다': 3952, '주면': 3953, '▁삶에': 3954, '▁찬': 3955, '했었는데': 3956, '▁있어야': 3957, '줬다': 3958, '▁인물들': 3959, '▁시청자': 3960, '저리': 3961, '▁본거': 3962, '▁이제서야': 3963, 'ᄌ': 3964, '얼굴': 3965, '▁철학': 3966, '▁짜증난다': 3967, '이였다': 3968, '▁변태': 3969, '▁비디오로': 3970, '▁여름': 3971, '▁동안': 3972, '▁D': 3973, '▁떨어진다': 3974, '힘': 3975, '▁니들': 3976, '▁색감': 3977, '▁가득': 3978, '▁먹고': 3979, '▁가슴에': 3980, '있냐': 3981, '▁필요없': 3982, '보구': 3983, '▁장르가': 3984, '!!!!!!': 3985, '배우가': 3986, '바뀌': 3987, '으려': 3988, '버릴': 3989, '할수있': 3990, '닮': 3991, '▁재밌다고': 3992, '▁고양이': 3993, '거면': 3994, '큰': 3995, '▁맹': 3996, '랄까': 3997, '▁아이돌': 3998, '▁개막장': 3999, '하던데': 4000, '갈수록': 4001, '▁생각하고': 4002, '▁지루하기': 4003, '▁O': 4004, '♥♥♥': 4005, '▁행복한': 4006, '없는영화': 4007, '▁본영화': 4008, '▁체': 4009, '▁이미지': 4010, '▁보여준다': 4011, '▁충': 4012, '내고': 4013, '▁괜찮은데': 4014, '▁힘이': 4015, '▁연기자들': 4016, '억지': 4017, '▁됨': 4018, '▁즐겁': 4019, '감독의': 4020, '▁작품을': 4021, '▁199': 4022, '▁누군가': 4023, '▁감동적이다': 4024, '적이다': 4025, '공포영화': 4026, '▁용기': 4027, '섹': 4028, '똥': 4029, '쭉': 4030, '▁극장가서': 4031, '▁미스': 4032, '▁빵점': 4033, '차라리': 4034, '▁개봉한': 4035, '▁좋았지만': 4036, '▁모르겠지만': 4037, '재밋음': 4038, '▁낮다': 4039, '▁ᄋᄋ': 4040, '더라도': 4041, '▁많고': 4042, '속의': 4043, '▁못하다': 4044, '▁볼만했': 4045, '되었': 4046, '▁섬': 4047, '▁자살': 4048, '▁탑': 4049, '▁틀어': 4050, '▁연기력도': 4051, '▁조화': 4052, '▁아픔': 4053, '▁재미잇': 4054, '▁좋아해서': 4055, '▁블랙': 4056, '렁': 4057, '핑': 4058, '▁가치가': 4059, '허접': 4060, '▁없어요': 4061, 'G': 4062, '▁따뜻': 4063, '▁있구나': 4064, '겠어요': 4065, '▁콩': 4066, '▁보여줬': 4067, '▁필요한': 4068, '▁웬': 4069, '▁못함': 4070, '▁플': 4071, '▁우리의': 4072, '▁ᄋ': 4073, '우리': 4074, '모든': 4075, '▁남자들': 4076, '▁때문': 4077, '어라': 4078, '빨리': 4079, '▁야구': 4080, '좋앗': 4081, '▁G': 4082, '▁살려': 4083, '자를': 4084, '칸': 4085, '▁그럴': 4086, '▁한명': 4087, '▁감흥': 4088, '하기도': 4089, '▁낮아': 4090, '▁줬': 4091, '▁캬': 4092, '겠습니다': 4093, '이걸': 4094, '▁볼게': 4095, '▁쥐': 4096, '▁작품이다': 4097, '▁자식': 4098, '▁명화': 4099, '▁감히': 4100, '빠지': 4101, '▁아픈': 4102, '▁살고': 4103, '▁엄': 4104, '기에는': 4105, '▁감안': 4106, '▁평점보고': 4107, '▁잇': 4108, '되나': 4109, '영화입니다': 4110, '▁내가본': 4111, '하고싶은': 4112, '▁전쟁영화': 4113, '▁검': 4114, '▁보내': 4115, '▁그녀의': 4116, '끄': 4117, '▁애기': 4118, '보이는': 4119, '▁긴장감이': 4120, '엠': 4121, '빅': 4122, '긋': 4123, '손가락': 4124, '있을': 4125, '▁교육': 4126, '▁겨우': 4127, '..^^': 4128, '▁최초': 4129, '▁웃기다': 4130, '▁기술': 4131, '▁오락': 4132, '▁괜찮다': 4133, '▁기대이상': 4134, '▁잊을수': 4135, '▁없다는': 4136, '었네': 4137, '됐다': 4138, '▁잼나게': 4139, '으로써': 4140, '아까운': 4141, '▁하는거': 4142, '▁조잡': 4143, '▁ᄏᄏᄏᄏᄏᄏᄏ': 4144, 'ᄏᄏᄏᄏᄏᄏᄏᄏᄏᄏᄏᄏ': 4145, '▁만든영화': 4146, '▁노래도': 4147, '▁공포물': 4148, '▁갔': 4149, '영화인데': 4150, '륜': 4151, '▁아프': 4152, '있어서': 4153, '▁반복': 4154, '마지막에': 4155, '▁좋게': 4156, '▁보았습니다': 4157, '▁아까웠다': 4158, '▁재미있습니다': 4159, '덜': 4160, '꼴': 4161, '돋': 4162, '한다고': 4163, '0%': 4164, '드립니다': 4165, '후회': 4166, '▁보통': 4167, '▁모르게': 4168, '▁비하면': 4169, '▁보지마라': 4170, '닌': 4171, '▁복잡': 4172, '▁완전히': 4173, '좋겠': 4174, '배우들의': 4175, '내내': 4176, '까요': 4177, '셀': 4178, '▁안타까운': 4179, '탓': 4180, '무서움': 4181, '보니까': 4182, '▁영원히': 4183, '▁바꾸': 4184, '▁특별한': 4185, '▁전투': 4186, '더빙': 4187, '요즘': 4188, '▁부모': 4189, '▁조카': 4190, '▁밤': 4191, '쓰레기영화': 4192, '▁모를': 4193, '♥♥♥♥': 4194, '▁낮네': 4195, '▁어른들': 4196, '▁할까': 4197, '었지': 4198, '살아': 4199, '▁에로영화': 4200, '▁유명': 4201, '춰': 4202, '뜬': 4203, '▁잔혹': 4204, '▁지나도': 4205, '▁방영': 4206, '▁말하고': 4207, '▁봤을때': 4208, '▁낚시': 4209, '▁케이블에서': 4210, '▁이래서': 4211, '▁재미도없고': 4212, '▁싶은데': 4213, '부작': 4214, '▁웃고': 4215, '것같아요': 4216, '▁씬': 4217, '▁감동의': 4218, 'ᄋᄋ': 4219, '▁답답한': 4220, '▁영화보는': 4221, '▁낚였다': 4222, '안됨': 4223, '럼': 4224, '▁예쁘고': 4225, '▁노래가': 4226, '하지마': 4227, '▁이상하게': 4228, '요소': 4229, '콘': 4230, '▁안맞': 4231, '없었': 4232, '▁생각함': 4233, 'U': 4234, '▁후속작': 4235, '▁젠장': 4236, '▁잠깐': 4237, '▁내면': 4238, '▁일이': 4239, '끄러': 4240, '잡고': 4241, '▁감정을': 4242, '명의': 4243, '감동적이': 4244, '스크': 4245, '▁오래된': 4246, '했지': 4247, '빛': 4248, 'F': 4249, '만듬': 4250, '긴하지만': 4251, '뭐야': 4252, '줘서': 4253, '▁만들면': 4254, '오래': 4255, '하하하': 4256, '▁돼': 4257, '▁떨': 4258, '새롭': 4259, '켜': 4260, '같은영화': 4261, '▁미쳤': 4262, '▁21': 4263, '▁개연성이': 4264, '는구나': 4265, '▁캐릭터가': 4266, '재미없음': 4267, '오오': 4268, '문화': 4269, '찮': 4270, '▁식상한': 4271, '★': 4272, '쿨': 4273, '▁스트레스': 4274, '▁특수효과': 4275, '▁소소한': 4276, '▁알려': 4277, '▁비현실적': 4278, '▁남자의': 4279, '▁알겠는데': 4280, '▁열연': 4281, '▁가족영화': 4282, '였고': 4283, '다큐': 4284, 'es': 4285, '▁빼면': 4286, '▁모르겠음': 4287, '▁멋지': 4288, '점대는': 4289, '기까지': 4290, '▁자주': 4291, '▁잊': 4292, '▁전설': 4293, '▁씹': 4294, '▁생각나서': 4295, '때매': 4296, '년작': 4297, '▁암튼': 4298, '▁쿠': 4299, '▁구성이': 4300, '▁작품은': 4301, '▁전설의': 4302, '지루함': 4303, '▁재미있었': 4304, '균': 4305, '▁패러디': 4306, '▁경험': 4307, '▁뿐이다': 4308, '▁무엇인지': 4309, '▁갈등': 4310, '브라': 4311, '리즈': 4312, '▁게다가': 4313, '▁커플': 4314, '▁분위기가': 4315, 'en': 4316, '▁그당시': 4317, '▁않을까': 4318, '▁쩝': 4319, '아저씨': 4320, '▁낮지': 4321, '▁한심한': 4322, '것인가': 4323, '▁조작': 4324, '▁만든거': 4325, '뻔한': 4326, '▁심하게': 4327, '▁실제로': 4328, '▁하면서': 4329, '▁초딩때': 4330, '모두': 4331, '▁뻔하': 4332, '바닥': 4333, '얘': 4334, '숭': 4335, '뚱': 4336, '▁DVD': 4337, '룩': 4338, '▁어설프고': 4339, '것같은': 4340, '좋음': 4341, '▁최근에': 4342, '▁할머니': 4343, '▁주기도': 4344, '받은': 4345, '▁다섯': 4346, '▁두번째': 4347, '▁전율': 4348, '인건': 4349, '▁존경': 4350, '▁만들다니': 4351, '▁따로': 4352, '▁살면서': 4353, '▁쌍': 4354, '▁만남': 4355, '▁본듯': 4356, '▁낙': 4357, '▁남편': 4358, '셔서': 4359, '▁여운을': 4360, '▁낚였': 4361, '하는영화': 4362, '옴': 4363, '것같': 4364, '▁에이': 4365, '▁유명한': 4366, '▁현실이': 4367, '▁정도의': 4368, '▁선생님': 4369, '▁불쌍하다': 4370, '▁대부분': 4371, '조아': 4372, '▁연출과': 4373, '▁둘이': 4374, '▁대화': 4375, '▁도전': 4376, '거같아요': 4377, '칭': 4378, '삐': 4379, '층': 4380, '핀': 4381, '▁직접': 4382, '▁잔뜩': 4383, '▁울컥': 4384, '▁스스로': 4385, '▁sf': 4386, '▁거짓말': 4387, '▁일어나': 4388, '주기': 4389, '▁정말이지': 4390, '▁봤을까': 4391, '▁W': 4392, '▁잘하고': 4393, '▁단지': 4394, '▁여러분': 4395, '▁출연한': 4396, '▁읽어': 4397, '▁속에서': 4398, '▁볼때': 4399, '▁이런건': 4400, '▁한국에서': 4401, '지않았': 4402, '휘': 4403, '▁사진': 4404, '▁재밌지': 4405, '▁재미없었다': 4406, '▁참신한': 4407, '▁전개도': 4408, '▁할수': 4409, '▁신비': 4410, '▁재미로': 4411, '▁앞으로도': 4412, '▁견': 4413, '▁얼마': 4414, '메이': 4415, '▁그거': 4416, '아무': 4417, '30': 4418, '퀴': 4419, '렷': 4420, '하기에': 4421, '랫': 4422, '▁로버트': 4423, '▁제임스': 4424, '▁소중한': 4425, '어가는': 4426, '▁가슴을': 4427, '▁몇몇': 4428, '▁여러가지': 4429, '▁돋보이는': 4430, '▁충실': 4431, '▁다시는': 4432, '나올때': 4433, '어디': 4434, '랜드': 4435, '▁관객들': 4436, '받는': 4437, '▁끝날': 4438, '▁대중': 4439, '▁넌': 4440, '로는': 4441, '▁운명': 4442, '▁잘봤어요': 4443, 'bb': 4444, '▁클레멘타인': 4445, '▁관객을': 4446, '▁엉성하고': 4447, '럴': 4448, '▁많은걸': 4449, '▁내용인지': 4450, '▁결론': 4451, '▁있었지만': 4452, '▁다르다': 4453, '▁배우를': 4454, '▁풍자': 4455, '▁안습': 4456, '▁보다니': 4457, '▁끈': 4458, '▁진부하': 4459, '거리는': 4460, '시길': 4461, '▁반전은': 4462, '▁죽이고': 4463, '때까지': 4464, '앵': 4465, '▁새벽에': 4466, 'ᅥ': 4467, '▁아이디어': 4468, '▁뛰어나': 4469, '거같은데': 4470, '▁기자': 4471, '▁지났': 4472, '▁모험': 4473, '때부터': 4474, '▁하늘': 4475, '▁만들었는지': 4476, '딴': 4477, '문제': 4478, '▁매력적': 4479, '▁욕망': 4480, '▁나에겐': 4481, '부분이': 4482, '▁없습니다': 4483, '▁깎': 4484, '▁흥': 4485, '▁나은': 4486, '▁있다니': 4487, '▁집에': 4488, '▁우리는': 4489, '잊': 4490, '▁아니야': 4491, '▁슈': 4492, '깝': 4493, '려나': 4494, '관람': 4495, '▁보려고': 4496, '▁수도': 4497, '▁헬': 4498, '적이지': 4499, '▁죽은': 4500, '나오고': 4501, '▁탄탄': 4502, '▁개연성도': 4503, '▁단편': 4504, '쓰는': 4505, '타임': 4506, '닉': 4507, '▁제이슨': 4508, '▁시청률이': 4509, '했더니': 4510, '납니다': 4511, '▁그저그런': 4512, '▁남자주인공': 4513, '▁모르겠고': 4514, '▁담배': 4515, '오글': 4516, '▁죽이는': 4517, '검': 4518, '▁이딴걸': 4519, '▁따뜻하고': 4520, '▁봤네': 4521, '▁해라': 4522, '▁해석': 4523, '▁높게': 4524, '트리': 4525, '▁안볼': 4526, '▁코미디영화': 4527, '▁여전': 4528, '............': 4529, '▁톰': 4530, '▁비판': 4531, '▁맞아': 4532, '최악의': 4533, '논': 4534, '분은': 4535, '<': 4536, '흠': 4537, '▁영상이': 4538, '포스터': 4539, '▁썼': 4540, '▁조용': 4541, '점이상': 4542, '▁맞지': 4543, '▁액션씬': 4544, '▁좀비영화': 4545, '▁살다살다': 4546, '▁내생에': 4547, '스토리도': 4548, '만드네': 4549, '▁억지스러운': 4550, '▁똑같은': 4551, '▁만들수': 4552, '그만': 4553, '▁재밌던데': 4554, '▁잘만들었': 4555, '치고는': 4556, '▁술': 4557, '▁확실': 4558, '후반': 4559, '▁막장드라마': 4560, 'ᅮᅮᅮ': 4561, '받아': 4562, '▁이런영화는': 4563, '▁영상과': 4564, '하진': 4565, '▁아름답': 4566, '▁남네요': 4567, '레스': 4568, '▁수준의': 4569, '▁헛': 4570, 'L': 4571, '▁보며': 4572, '▁반전을': 4573, '기전에': 4574, '버전': 4575, '개그': 4576, '▁대해서': 4577, '낫': 4578, '졸작': 4579, '았어요': 4580, '쟁': 4581, '으니까': 4582, '려다가': 4583, '롯': 4584, '곰': 4585, '른다': 4586, '▁보여주고': 4587, '▁로코': 4588, '▁단어': 4589, '▁효과': 4590, '▁오랫만에': 4591, '▁정의': 4592, '출연': 4593, '어린': 4594, '햇다': 4595, '▁부실': 4596, '▁소장': 4597, '▁다운': 4598, '었는지': 4599, '▁별로임': 4600, '슬퍼': 4601, '▁그립다': 4602, '▁뭘까': 4603, 'as': 4604, '몇': 4605, '▁훌륭하': 4606, '아빠': 4607, '▁북': 4608, '뇌': 4609, '▁최고였다': 4610, '붙': 4611, '읽': 4612, '싶다': 4613, '▁오글거리': 4614, '초반': 4615, '챙겨': 4616, '받아서': 4617, '획': 4618, '▁않네요': 4619, '▁쪽': 4620, '조금': 4621, '▁가벼운': 4622, '싼': 4623, '▁박중훈': 4624, '▁디테일': 4625, '▁다양한': 4626, '▁테러': 4627, '못해': 4628, '▁어쩜': 4629, '다음': 4630, '▁원작이': 4631, '▁어째': 4632, '▁진수': 4633, '▁대표': 4634, '▁모두가': 4635, '▁무술': 4636, '▁결정': 4637, '▁남은': 4638, '▁집중해서': 4639, '▁영화보면서': 4640, '▁잼잇': 4641, '▁엿': 4642, '하겠다': 4643, '공주': 4644, '▁안본': 4645, '게임': 4646, '▁p': 4647, '▁볼수있는': 4648, '▁돌리': 4649, '▁불러': 4650, '▁침': 4651, '▁줄수': 4652, 'ᄍ': 4653, '▁제외': 4654, '꽃': 4655, '▁재미없어서': 4656, '어떻게': 4657, '▁못보겠': 4658, '▁매력을': 4659, '하군': 4660, '었네요': 4661, '▁본방사수': 4662, '▁생각하면': 4663, '▁시리즈는': 4664, '사건': 4665, '▁형사': 4666, '렵': 4667, '닿': 4668, '액': 4669, '녕': 4670, '엑': 4671, '▁짜임새': 4672, '닷': 4673, '랭': 4674, '싹': 4675, '▁배트맨': 4676, '▁2014': 4677, '▁동성애': 4678, '▁교과서': 4679, '라곤': 4680, '▁나오네': 4681, '맘': 4682, '▁하길래': 4683, '▁싶을': 4684, '▁비밀': 4685, '▁깨닫게': 4686, '▁주변': 4687, '▁꼬마': 4688, '▁연극': 4689, '건가요': 4690, '▁^': 4691, '여주': 4692, '...........': 4693, '▁기억나는': 4694, '▁조절': 4695, '보시길': 4696, '▁재난영화': 4697, '▁아쉽지만': 4698, '▁연기력은': 4699, '▁답답하고': 4700, '▁만한': 4701, '놈이': 4702, '▁녹': 4703, '▁형편없': 4704, '▁받는': 4705, '▁세상을': 4706, '▁먼가': 4707, '▁F': 4708, '▁살린': 4709, '▁조선': 4710, '배우들이': 4711, '▁소년': 4712, '▁찰': 4713, '관객': 4714, '▁만들기': 4715, '▁본지': 4716, '▁자체는': 4717, '비디오': 4718, '걍': 4719, '몸': 4720, '웨이': 4721, '주연': 4722, '▁감동은': 4723, '섭': 4724, '략': 4725, '만하다': 4726, 'z': 4727, '▁dvd': 4728, '딜': 4729, '부끄럽': 4730, '▁인내심': 4731, '뎅': 4732, '▁유일하게': 4733, '▁쉬': 4734, '▁몇년': 4735, '씬이': 4736, '▁감각': 4737, '▁태어나서': 4738, '▁부터': 4739, '▁ᄍᄍᄍ': 4740, '▁해결': 4741, '였으면': 4742, '지말자': 4743, '▁봐도봐도': 4744, '▁독특': 4745, '▁동심': 4746, '▁뜬금없': 4747, '뻐': 4748, '▁선동': 4749, '▁어렵다': 4750, '▁괜찮음': 4751, '임에도': 4752, '▁잠이': 4753, '▁풋풋': 4754, '되었다': 4755, '▁탐': 4756, '▁엔딩이': 4757, '▁못보': 4758, '삶': 4759, '생각이': 4760, '번은': 4761, '긴장감': 4762, '▁인상적': 4763, '헐': 4764, '▁마지막장면': 4765, '사람들은': 4766, '커플': 4767, '▁대단하': 4768, '하길': 4769, '▁포스터가': 4770, '▁다운받아': 4771, '▁이보다': 4772, '것만으로도': 4773, '괜': 4774, '딘': 4775, '밍': 4776, '▁블록버스터': 4777, '젖': 4778, '▁심형래': 4779, '▁주윤발': 4780, '▁장국영': 4781, '▁허술한': 4782, '이름': 4783, '▁결코': 4784, '▁포스': 4785, '았지만': 4786, '낮은': 4787, '▁나름대로': 4788, '아까워': 4789, '-_-;': 4790, '▁귀엽다': 4791, '보는게': 4792, '점부터': 4793, '보셈': 4794, '▁원작에': 4795, '올리': 4796, '▁궁금하다': 4797, '▁빠르': 4798, '장애': 4799, '▁위로': 4800, '▁응': 4801, '로드': 4802, '높은': 4803, '▁재밌어서': 4804, '▁있던': 4805, '같아서': 4806, '▁허술하': 4807, 'th': 4808, '▁편견': 4809, '푸': 4810, '▁짧은': 4811, '잖': 4812, '▁느꼈다': 4813, '▁한편의': 4814, '▁진부': 4815, '▁있네': 4816, '이후': 4817, '▁주연배우': 4818, '▁아이들과': 4819, '웃김': 4820, '싶어서': 4821, '▁ᄌ': 4822, '▁왤케': 4823, '▁러시아': 4824, '▁제니퍼': 4825, '▁스크린': 4826, '▁집착': 4827, '▁예쁘다': 4828, '오늘': 4829, '▁데리고': 4830, '▁명작을': 4831, '해야할': 4832, '▁아깝고': 4833, '▁추리': 4834, '▁성격': 4835, '▁하나같이': 4836, '▁잼있어요': 4837, '▁충분': 4838, '▁길게': 4839, '본사람': 4840, '▁불쌍해': 4841, '▁싶어요': 4842, '▁이상의': 4843, '않음': 4844, '▁영화라는': 4845, '▁애들은': 4846, '▁않나': 4847, '▁내용과': 4848, '▁신선하': 4849, '▁교훈을': 4850, '▁낮게': 4851, '이었습니다': 4852, '낭': 4853, '갑니다': 4854, '재미도': 4855, '폼': 4856, '묵': 4857, '▁조니뎁': 4858, '찐': 4859, 'J': 4860, '땀': 4861, '쪼': 4862, '▁유일한': 4863, '▁탄생': 4864, '▁바랍니다': 4865, '▁말도안되는': 4866, '▁남아있': 4867, '▁흑인': 4868, '▁손색': 4869, '▁믿고보는': 4870, '▁보던': 4871, 'ut': 4872, '▁내용전개': 4873, '멜로': 4874, '▁좋겠네요': 4875, '좋았다': 4876, '해준다': 4877, '있으면': 4878, '▁잘만들': 4879, '▁잘생겼': 4880, '▁봐야하는': 4881, '▁약간의': 4882, '▁아까운영화': 4883, '엇는데': 4884, '▁사랑해요': 4885, '▁죽었': 4886, '▁매미': 4887, '▁어디에': 4888, '아닌가': 4889, '오브': 4890, '▁선물': 4891, '상태': 4892, '▁안맞는': 4893, '▁업': 4894, '▁강한': 4895, '있습니다': 4896, '▁영혼': 4897, '▁가볍': 4898, '지마세요': 4899, '▁ᄃᄃᄃ': 4900, '▁인생에': 4901, '보소': 4902, '닐': 4903, '할것': 4904, '▁자랑': 4905, '어이없': 4906, '▁최고로': 4907, '씁': 4908, '▁뱀파이어': 4909, '▁컴퓨터': 4910, '깃': 4911, '넬': 4912, '▁숨겨진': 4913, '▁깜짝': 4914, '▁아류작': 4915, '▁끔찍': 4916, '특별': 4917, '▁오빠': 4918, '▁폭풍': 4919, '▁오락영화': 4920, '▁첫사랑': 4921, '화이팅': 4922, '재미있게': 4923, '지않아': 4924, '▁최고의영화': 4925, '▁어울리는': 4926, '감정': 4927, 'le': 4928, '▁당연': 4929, '연기는': 4930, '▁소재도': 4931, '애들이': 4932, '▁개노잼': 4933, '▁알수있': 4934, '▁돈을': 4935, '▁따분': 4936, '▁요리': 4937, '▁방식': 4938, '▁제목만': 4939, '▁넘게': 4940, '▁갖고': 4941, '▁L': 4942, '▁막판에': 4943, '▁좋겠': 4944, '▁그자체': 4945, '기도하고': 4946, '덕에': 4947, '▁최고임': 4948, '멋있': 4949, '여운이': 4950, '스키': 4951, '▁망친': 4952, '역사': 4953, '▁국가': 4954, '당한': 4955, '바라': 4956, '춤': 4957, '마리': 4958, '깜': 4959, '▁케릭터': 4960, '▁해리포터': 4961, '▁즐거웠': 4962, '추억': 4963, '▁달콤': 4964, '사람들이': 4965, '▁작위적': 4966, '말이필요없': 4967, '재밌는': 4968, '▁놀라운': 4969, '▁중학교': 4970, '▁찾아보': 4971, '▁평론가들': 4972, '둥이': 4973, '▁디워': 4974, '▁별로고': 4975, '▁이뻐서': 4976, '블루': 4977, '▁반담': 4978, '같지만': 4979, '▁60': 4980, '▁부모님': 4981, '▁변화': 4982, '▁느낌의': 4983, '▁하나로': 4984, '▁다시보니': 4985, '보여주': 4986, '물로': 4987, '▁밀려': 4988, '▁으리': 4989, '▁있었는데': 4990, '▁기준': 4991, '▁보다는': 4992, '했을때': 4993, '▁볼만했다': 4994, '▁부부': 4995, '▁맛이': 4996, '▁이야기는': 4997, '왓': 4998, '▁머리가': 4999, '재미없어': 5000, '일듯': 5001, '▁소재와': 5002, '볼수': 5003, '느껴': 5004, '▁you': 5005, '▁임팩트': 5006, '퓨': 5007, '▁영환데': 5008, '차원': 5009, '▁잔잔하면서': 5010, '찡': 5011, '큐': 5012, '▁무섭지': 5013, '▁손에': 5014, '▁말하고자': 5015, '▁배역': 5016, '100': 5017, 've': 5018, '▁많아서': 5019, '▁휘': 5020, 'al': 5021, '▁놀랍다': 5022, '▁잠들': 5023, '이랄까': 5024, '▁소설을': 5025, '▁매일': 5026, '▁본인': 5027, 'od': 5028, '~~^^': 5029, '▁삼류영화': 5030, '▁발상': 5031, '인물': 5032, '▁멋있는': 5033, '▁듣고': 5034, '▁생각으로': 5035, '이었던': 5036, '▁아예': 5037, '▁관점': 5038, '벅': 5039, '컴': 5040, '^-^': 5041, '▁떠오르': 5042, '▁감정이입': 5043, '▁잡아': 5044, '▁재개봉': 5045, '▁흔들': 5046, '▁여자친구': 5047, '답니다': 5048, '싸움': 5049, '▁여자주인공': 5050, '아프': 5051, '아아아': 5052, '▁영화라니': 5053, '▁또다른': 5054, '노답': 5055, '빠져': 5056, '▁과장': 5057, '좋은영화': 5058, '▁갑니다': 5059, '학년': 5060, '▁괜찮았다': 5061, '▁살아가는': 5062, '상황': 5063, '▁재밌었던': 5064, '▁실력': 5065, '▁버리': 5066, '쳐서': 5067, '극장에서': 5068, '▁폐': 5069, '▁의미가': 5070, '00': 5071, '▁두고': 5072, '거같음': 5073, '▁안간다': 5074, '허술': 5075, '▁대본': 5076, '▁떨어지고': 5077, '▁감독을': 5078, '▁궁': 5079, '구석': 5080, 'ᅮᅲ': 5081, '떨': 5082, '▁줘야': 5083, '12': 5084, '▁기회': 5085, '▁새로': 5086, '▁거장': 5087, '▁보라': 5088, '▁즐겨': 5089, '▁늑대': 5090, '앤': 5091, '▁여러번': 5092, '아직도': 5093, '때문': 5094, '▁중독': 5095, '▁울리는': 5096, '▁위해서': 5097, '▁무료': 5098, '▁생에': 5099, '보고있어요': 5100, '재밌어': 5101, '▁보았는데': 5102, '글자': 5103, '▁이상해': 5104, '당시': 5105, '소름': 5106, '▁모든걸': 5107, '져요': 5108, '옆': 5109, '▁ᄀ': 5110, '▁연인': 5111, '▁벤': 5112, '스토': 5113, '▁명장면': 5114, '▁짜증나서': 5115, '90': 5116, '류영화': 5117, '▁열받': 5118, '▁지겹다': 5119, '▁멋지고': 5120, '여행': 5121, '▁어처구니': 5122, '▁수작이다': 5123, '▁없으면': 5124, '▁수입': 5125, '▁잤': 5126, '▁재미없을': 5127, '▁까지': 5128, '▁했으면': 5129, '후에': 5130, '하러': 5131, '▁스포츠': 5132, '벼': 5133, '앨': 5134, '쿵': 5135, '닼': 5136, '탱': 5137, '▁익숙': 5138, '▁배경음악': 5139, '▁다신': 5140, '무시': 5141, '줄알았는데': 5142, '▁언제봐도': 5143, '▁적당히': 5144, '솔직히': 5145, '▁내게': 5146, '▁생긴': 5147, '▁한개도': 5148, '▁순수함': 5149, '▁힘내': 5150, '웃겨': 5151, '▁어거지': 5152, '▁울면서': 5153, '두고': 5154, '▁독일': 5155, '▁답이': 5156, '▁생각난다': 5157, '먹은': 5158, '▁=': 5159, '▁난잡': 5160, '존나': 5161, '▁없었음': 5162, '▁시간아깝다': 5163, '▁폐지': 5164, '▁죽인': 5165, '기억이': 5166, '▁갔다': 5167, '언제': 5168, '▁본게': 5169, '▁이해할수': 5170, '▁몰랐다': 5171, '있지': 5172, '▁마음으로': 5173, '둥': 5174, '▁그지같': 5175, '▁아래': 5176, '만족': 5177, '닫': 5178, '▁주인공은': 5179, '닭': 5180, '램': 5181, '▁스티븐': 5182, '▁강렬한': 5183, '▁이소룡': 5184, '▁내생애': 5185, '▁우려먹': 5186, '보느니': 5187, '▁쓰는': 5188, '어색': 5189, '▁웃으면서': 5190, '▁처절': 5191, '▁옥': 5192, '▁만들었을까': 5193, '▁재밋어요': 5194, '▁짜증남': 5195, '불쌍': 5196, '▁결말을': 5197, '코믹': 5198, '▁아니지': 5199, '▁재미있을': 5200, '말아먹': 5201, '질질끌': 5202, '이딴': 5203, '▁멋졌': 5204, '▁최고봉': 5205, '좋아하': 5206, '쩐다': 5207, '장면은': 5208, '▁내용에': 5209, '▁가정': 5210, '라는걸': 5211, '▁여주인공이': 5212, '▁영원한': 5213, '▁본건데': 5214, '▁인해': 5215, '▁세번': 5216, '▁난리': 5217, '▁하아': 5218, '..............': 5219, '▁부분도': 5220, '▁적당한': 5221, '▁불편한': 5222, '달아': 5223, '▁망했': 5224, '▁모르겟': 5225, '봣다': 5226, '▁다루': 5227, '▁음식': 5228, '듯하다': 5229, '▁정도면': 5230, '▁포스터에': 5231, '측': 5232, '▁알겠다': 5233, '꼈': 5234, '멈': 5235, '윌': 5236, '뢰': 5237, '될듯': 5238, '▁아닙니다': 5239, '▁제시카': 5240, '▁드디어': 5241, '▁희대의': 5242, '▁당신은': 5243, '방식': 5244, '▁모른다': 5245, '▁눈물나': 5246, '▁적어도': 5247, '▁어른이': 5248, '해주고': 5249, '▁포스터만': 5250, '▁보기에는': 5251, '분위기': 5252, '궁': 5253, '수밖에': 5254, '▁프리': 5255, '▁주지': 5256, '▁한번도': 5257, '▁스토리전개': 5258, '▁믿기지': 5259, '▁아름답게': 5260, '▁사상': 5261, '거죠': 5262, '이런류의': 5263, '혼자': 5264, '▁살리': 5265, '▁느껴지': 5266, '▁않아서': 5267, '보인다': 5268, '▁싸우는': 5269, 'ᅮᅮᅮᅮ': 5270, '톤': 5271, '▁쩔어': 5272, '▁자신이': 5273, '▁한국영화의': 5274, '있는영화': 5275, '없나': 5276, '▁주제가': 5277, '▁뭐하나': 5278, '늙': 5279, '없을': 5280, '▁목적': 5281, '같아': 5282, '▁샘': 5283, '장르': 5284, '객': 5285, '▁정신없': 5286, '▁다시보고': 5287, '▁빵빵': 5288, '갠': 5289, '▁우뢰매': 5290, '똘': 5291, '▁명복을': 5292, '▁짜집기': 5293, '▁뭥미': 5294, '▁아놀드': 5295, '▁사운드': 5296, '▁오글거려': 5297, '▁아깝네': 5298, '버스': 5299, '▁평균': 5300, '▁명대사': 5301, '구리': 5302, '▁축구': 5303, '▁상영관': 5304, '▁사라지': 5305, '▁근래': 5306, '▁볼거': 5307, '▁봤을': 5308, '▁다운받': 5309, '▁실망스럽': 5310, '▁주제를': 5311, '▁그럴듯': 5312, '▁괜찮았는데': 5313, '▁봅니다': 5314, '찰': 5315, '▁분들은': 5316, '엄청': 5317, '▁뭐니': 5318, '▁얼굴이': 5319, '▁생각할': 5320, '있었다': 5321, '줄알았': 5322, '▁생각했는데': 5323, '▁없나요': 5324, '▁안본다': 5325, '스케': 5326, '▁시간만': 5327, '▁넘치': 5328, '▁키스': 5329, '▁집중이': 5330, '▁삶이': 5331, '▁없냐': 5332, '▁몰라': 5333, '▁옷': 5334, '19': 5335, '▁책을': 5336, '▁반대': 5337, '광구': 5338, '못한': 5339, '야겠다': 5340, '▁알았네': 5341, '▁슬픈영화': 5342, '였나': 5343, '▁재미있는데': 5344, '▁나랑': 5345, '▁엄마가': 5346, '▁라고': 5347, '▁바다': 5348, '에대해': 5349, '▁그만큼': 5350, '레인': 5351, '발연기': 5352, '▁보고싶어': 5353, '▁고등학교': 5354, '▁짐캐리': 5355, '▁할리우드': 5356, '맴': 5357, '켄': 5358, '▁브루스': 5359, 'ᄏᄏᄏᄏᄏᄏᄏ': 5360, '▁호기심': 5361, '▁즐길': 5362, '▁플롯': 5363, '▁잔잔하게': 5364, '▁싸움': 5365, '▁짜증이': 5366, '뻔했다': 5367, '▁유럽': 5368, '▁짜증만': 5369, '▁꼭보세요': 5370, '▁따뜻해': 5371, '▁첨엔': 5372, '▁역사를': 5373, '▁손발': 5374, '▁재능': 5375, '▁대놓고': 5376, '▁가수': 5377, '▁스릴도': 5378, '아버지': 5379, '▁가족의': 5380, '탑': 5381, '목소리': 5382, '보내': 5383, '▁보는거': 5384, '▁그건': 5385, '▁마지막까지': 5386, '▁우연': 5387, '▁작가님': 5388, '맞는': 5389, '보게되': 5390, '▁한국판': 5391, '▁놀랍': 5392, '부러': 5393, '▁지겹': 5394, '▁이상하고': 5395, '▁못보겠다': 5396, '▁하는게': 5397, '▁웃을': 5398, '▁아내': 5399, '나오네': 5400, '▁유치해': 5401, '겠죠': 5402, 'ad': 5403, '▁많은데': 5404, '▁줍니다': 5405, '▁반전에': 5406, '할뿐': 5407, '쩜': 5408, '납': 5409, '굿굿': 5410, '뷰': 5411, '▁설득력': 5412, '밴': 5413, '얄': 5414, '▁빨갱이': 5415, '▁홍상수': 5416, '▁하정우': 5417, '▁동시에': 5418, '주기도': 5419, '▁배우들은': 5420, '▁착각': 5421, '▁상어': 5422, '할수가': 5423, '분만에': 5424, '도좋고': 5425, '▁아쉬움이': 5426, '▁어디로': 5427, '▁안봐도': 5428, '▁재미있었습니다': 5429, '▁저평가': 5430, '갔는데': 5431, '▁예수': 5432, '아이들': 5433, '▁to': 5434, '▁아냐': 5435, '▁이뻐': 5436, '▁인형': 5437, '상영': 5438, '▁공감할': 5439, '썼': 5440, '벗': 5441, '왠': 5442, '▁높아서': 5443, '▁인생은': 5444, '▁터미네이터': 5445, '▁남긴': 5446, '▁봤다면': 5447, '▁괜찮고': 5448, '▁액션과': 5449, '▁마니': 5450, '보고싶어요': 5451, '▁받은': 5452, '거든': 5453, '▁영화였음': 5454, '▁먹는': 5455, '80': 5456, '▁때려': 5457, '젊': 5458, '웟': 5459, '▁웰메이드': 5460, '▁깡패': 5461, '->': 5462, '▁of': 5463, '▁시대에': 5464, '▁실화를': 5465, '▁아닐': 5466, '▁겨울': 5467, '▁돈내고': 5468, '▁부럽': 5469, '하는건지': 5470, '▁거리': 5471, '▁추격': 5472, '▁개콘': 5473, '▁예능': 5474, '했다면': 5475, '▁아무도': 5476, '신분': 5477, '▁영상미가': 5478, '세여': 5479, '▁정신병자': 5480, '▁찾아볼': 5481, '같았': 5482, '▁여주가': 5483, '▁들고': 5484, '스톤': 5485, '▁사랑합니다': 5486, '▁매력에': 5487, '▁어색하고': 5488, '▁전쟁의': 5489, '▁현실과': 5490, '주제': 5491, '▁정작': 5492, '▁아우': 5493, '여운': 5494, '▁시나리오가': 5495, '▁이름이': 5496, '▁감정이': 5497, '▁황당한': 5498, '▁보이지': 5499, '▁유발': 5500, '▁그립': 5501, '▁보게된': 5502, '▁영화예요': 5503, '▁그것도': 5504, '혹은': 5505, '▁쉽지': 5506, '▁연기자': 5507, '볼수있': 5508, '▁재난': 5509, '▁점수는': 5510, 'ᅢ': 5511, '▁네티즌': 5512, '셋': 5513, '쟈': 5514, '컸': 5515, '▁유덕화': 5516, '▁임창정': 5517, '▁도무지': 5518, '▁스타뎀': 5519, '▁낭만': 5520, '▁꿈꾸': 5521, '빼': 5522, '▁흐르는': 5523, '▁돈아까워': 5524, '▁할아버지': 5525, '▁은근히': 5526, '▁그림체': 5527, '▁폭발': 5528, '너무너무': 5529, '▁거북': 5530, '▁그야말로': 5531, '▁박수': 5532, '굳굳': 5533, '보기싫': 5534, '▁동양': 5535, '나왓': 5536, '▁사랑해': 5537, '▁재미있었음': 5538, '굳': 5539, '▁도망': 5540, '▁무엇인가': 5541, '▁순수하고': 5542, '▁일본인': 5543, '▁불쌍한': 5544, '▁찾을': 5545, '▁뒤에': 5546, '캐스팅': 5547, '귀엽': 5548, '▁엉망이': 5549, '도대체': 5550, '▁오브': 5551, '느끼': 5552, '편까지': 5553, '▁절정': 5554, '▁히어로': 5555, '외엔': 5556, 'lo': 5557, '▁책으로': 5558, '▁유치해서': 5559, '▁촌스러': 5560, '▁꿀': 5561, '▁별하나': 5562, '▁밤에': 5563, '▁졸았': 5564, '▁않은데': 5565, '▁어우': 5566, '순위': 5567, '▁잘만들었다': 5568, '▁이해를': 5569, '없네요': 5570, '▁망쳐': 5571, '뭣': 5572, '▁대통령': 5573, '▁나레이션': 5574, '간만에': 5575, '▁탈출': 5576, '▁이름을': 5577, '▁자신을': 5578, '▁이루어': 5579, '▁만화책': 5580, '▁아무런': 5581, '▁당연히': 5582, '▁말아야': 5583, '▁어디가': 5584, '분동안': 5585, '▁하품': 5586, '▁세상이': 5587, '▁형제': 5588, '앞에서': 5589, '하시길': 5590, '▁생기': 5591, '▁시작부터': 5592, '▁마리': 5593, '햇는데': 5594, '▁허무한': 5595, '▁매니아': 5596, '꿀': 5597, '▁문제가': 5598, '▁아깝네요': 5599, '▁풋풋한': 5600, '▁감동적이네요': 5601, '자신': 5602, '▁배경이': 5603, '겐': 5604, '▁배신': 5605, '델': 5606, '왔어요': 5607, '멜': 5608, '▁잊혀': 5609, '▁친구가': 5610, '▁나네요': 5611, '빠진': 5612, 'ᄁ': 5613, '▁빕니다': 5614, '읍': 5615, '▁이토록': 5616, '▁양아치': 5617, '▁갠적으로': 5618, '▁반드시': 5619, '▁정우성': 5620, '▁빠른': 5621, '부분은': 5622, '▁기대하지': 5623, '▁봐야지': 5624, 'ck': 5625, '뿐이다': 5626, '▁무섭고': 5627, '▁기가': 5628, '▁다행이다': 5629, '답게': 5630, '▁혹시나': 5631, '▁제작비가': 5632, '▁처음에는': 5633, '▁예술영화': 5634, '하실': 5635, '▁친구랑': 5636, '스릴': 5637, '알아': 5638, '▁위트': 5639, '▁내돈': 5640, '▁실감': 5641, '▁공간': 5642, '▁싶었다': 5643, '▁이만한': 5644, '▁기대없이': 5645, '▁기대이하': 5646, '▁만점에': 5647, '▁호구': 5648, '▁무섭게': 5649, '▁없게': 5650, '안돼': 5651, '▁설정이': 5652, '▁아진짜': 5653, '▁무난': 5654, '행복': 5655, '재미있어요': 5656, '▁가득한': 5657, '부분에서': 5658, '▁뭐라고': 5659, '나름': 5660, 'ᄏᄏᄏᄏᄏᄏ': 5661, '▁쩌는': 5662, '▁작품입니다': 5663, '▁추천하고': 5664, '랍': 5665, '엽': 5666, '빗': 5667, '▁아무생각없이': 5668, '인상깊었': 5669, '▁움직이': 5670, '▁공짜로': 5671, '▁떨어짐': 5672, '▁향연': 5673, '▁심지어': 5674, '▁뭐하자는': 5675, '▁귀여움': 5676, '▁이것보단': 5677, '찾아': 5678, '▁로빈': 5679, '▁김치': 5680, '▁루즈': 5681, '▁흘리': 5682, '지루하고': 5683, '▁따름': 5684, '그러나': 5685, '없구': 5686, '▁암울': 5687, '소녀': 5688, '▁깍': 5689, '▁하지원': 5690, '▁꽤나': 5691, '▁가고': 5692, '▁후에': 5693, 'ch': 5694, '봐야지': 5695, '▁대학': 5696, '▁원조': 5697, '▁프랑스영화': 5698, '놨네': 5699, '리스트': 5700, '▁좋을듯': 5701, '▁좋아하지만': 5702, '최고다': 5703, '▁아니었다': 5704, '하나하나가': 5705, '섬': 5706, '▁잼있음': 5707, '▁잤다': 5708, '내용은': 5709, '▁찍는': 5710, '귀신': 5711, '있어요': 5712, '▁명성': 5713, '콤': 5714, '▁만들어라': 5715, '갱': 5716, '▁명불허전': 5717, '▁스타워즈': 5718, '▁점수준것들': 5719, '짤': 5720, '▁소중함을': 5721, '▁역겨운': 5722, '덩어리': 5723, '▁적절한': 5724, '▁사투리': 5725, '펙트': 5726, '표정': 5727, '▁명배우': 5728, '▁당황': 5729, '▁안될': 5730, '▁판단': 5731, '▁요새': 5732, '▁생각해보게': 5733, '▁등장인물': 5734, '▁가능한': 5735, '것처럼': 5736, '▁빛을': 5737, '▁억지감동': 5738, '▁정상': 5739, '▁액션신': 5740, '▁수많은': 5741, '▁치유': 5742, '▁궁금해서': 5743, '▁욕심': 5744, '▁짜증나고': 5745, '▁시대의': 5746, '갈때': 5747, '시간동안': 5748, '▁남았': 5749, '▁확인': 5750, '40': 5751, '▁고어': 5752, '벤': 5753, '▁자아': 5754, '▁찍고': 5755, '긴했지만': 5756, '▁읽고': 5757, '▁캐리': 5758, '▁잼있는': 5759, '▁전편보다': 5760, '것보다': 5761, '지루하다': 5762, '▁2000': 5763, 'ᄎ': 5764, '덴': 5765, '츄': 5766, '▁쓸데없이': 5767, '욤': 5768, '▁이병헌': 5769, '▁화장실': 5770, '▁박진감': 5771, '▁흑백': 5772, '▁케빈': 5773, '▁저급': 5774, '▁4.44': 5775, '▁실험': 5776, '▁배꼽': 5777, '능력': 5778, '▁장난아니': 5779, '외에는': 5780, '못하는': 5781, '▁서울': 5782, '▁거품': 5783, '▁100%': 5784, '▁당신이': 5785, '▁아련하': 5786, '▁자극적': 5787, '▁멋있어': 5788, '▁미소가': 5789, '▁묻어': 5790, '싫어': 5791, '잖아요': 5792, '▁시작해서': 5793, '▁왜곡': 5794, '▁철학적': 5795, '좋네요': 5796, '쩝': 5797, '코메디': 5798, '해줄': 5799, '만드냐': 5800, '▁곧': 5801, '500': 5802, '▁웃었': 5803, '였지': 5804, '▁말고는': 5805, '지루해': 5806, '▁거기에': 5807, '▁실수': 5808, '▁괜찮게': 5809, '하지말고': 5810, '만큼이나': 5811, '▁현실감': 5812, '세포': 5813, '▁담은': 5814, '▁돼지': 5815, '▁등장인물들': 5816, '미친': 5817, '봤습니다': 5818, '숀': 5819, '및': 5820, '뻥': 5821, '쩍': 5822, '쯧쯧': 5823, '▁무거운': 5824, '▁이해불가': 5825, '▁감명깊게': 5826, '▁스파이': 5827, '▁이딴영화': 5828, '▁맞춰': 5829, '▁앞뒤': 5830, '▁오래전에': 5831, '▁일부러': 5832, '▁응원': 5833, '조연': 5834, '▁파괴': 5835, '▁어느정도': 5836, '▁만들어낸': 5837, '것같은데': 5838, '▁볼만합니다': 5839, '▁속았다': 5840, '▁사람이라면': 5841, '▁최악의영화': 5842, '▁귀여워요': 5843, '▁녹아': 5844, '점만점에': 5845, '▁산만하고': 5846, '있던': 5847, '▁답답해': 5848, '▁ᄡ': 5849, '▁내일': 5850, '▁사람들에게': 5851, '게만드는': 5852, '▁잘한다': 5853, '▁보겠다': 5854, '평론가': 5855, '뭘': 5856, 'TV': 5857, '있지만': 5858, '▁아프다': 5859, '줄알았다': 5860, '▁깔끔한': 5861, '전혀': 5862, '▁말자': 5863, '또한': 5864, '제대로': 5865, '▁메이': 5866, '팍': 5867, '퀄': 5868, '▁둘째치고': 5869, '껀': 5870, '랴': 5871, '븐': 5872, '템': 5873, '눌': 5874, '쉴': 5875, '▁전반적으로': 5876, '툭': 5877, '▁베드신': 5878, '▁하이틴': 5879, '▁혐오': 5880, '▁어둡': 5881, '▁목숨': 5882, '▁왠만한': 5883, '▁보시면': 5884, '▁빛나는': 5885, '▁엄청나게': 5886, '▁장난하냐': 5887, '▁마시길': 5888, '▁편안': 5889, '▁전체적인': 5890, '▁찾는': 5891, '뭐냐': 5892, '거에요': 5893, '▁여친': 5894, '▁모욕': 5895, '▁부담': 5896, '작이라': 5897, '▁어쩔수': 5898, '▁답답하다': 5899, 'am': 5900, '▁보았던': 5901, '▁평화': 5902, '미국': 5903, '▁알았음': 5904, '▁생명': 5905, '하하하하': 5906, '▁이거보단': 5907, '▁기적': 5908, '갖': 5909, '▁충격적인': 5910, '보긴': 5911, '못하고': 5912, '▁그렇지만': 5913, '터짐': 5914, '칼': 5915, '비슷': 5916, '그럼': 5917, '나왔으면': 5918, '▁끝나서': 5919, '겠어': 5920, '▁웃기는': 5921, '▁불가능': 5922, '나쁜': 5923, '▁이것보다': 5924, '싫다': 5925, '▁필요한가': 5926, '▁웃었다': 5927, '▁킬링': 5928, '쯔': 5929, '▁놀랐다': 5930, '▁인터넷': 5931, '▁흡입력': 5932, '렐': 5933, '밧': 5934, '▁도데체': 5935, '▁강동원': 5936, '▁오글오글': 5937, '▁상관없': 5938, '▁민폐': 5939, '▁최소': 5940, '▁잃은': 5941, '그렇게': 5942, '▁서양': 5943, '▁관련': 5944, '▁낫겠다': 5945, '▁절망': 5946, '으려고': 5947, '유발': 5948, '▁아만다': 5949, '▁진지하게': 5950, '▁미안하다': 5951, '▁희망을': 5952, '▁울었어요': 5953, '▁기존': 5954, '▁괜찮았음': 5955, '▁마지막엔': 5956, '▁있었으면': 5957, '▁나을듯': 5958, '겠는데': 5959, '▁표현할': 5960, '▁괜찮네요': 5961, '▁않았지만': 5962, '였다면': 5963, '▁보려': 5964, '▁다르게': 5965, '낫다': 5966, '▁상대': 5967, '줘야지': 5968, '▁괜찮아': 5969, '▁중심': 5970, '▁낮네요': 5971, '오랜만에': 5972, '▁명연기': 5973, '▁파리': 5974, '▁뭐임': 5975, '▁미국식': 5976, '▁두시간': 5977, '▁자극적인': 5978, '당시엔': 5979, '하니까': 5980, '▁혹시': 5981, '▁좋지': 5982, '▁초등학교': 5983, 'ᅩ': 5984, '쿡': 5985, '뭉': 5986, '뚝': 5987, '펜': 5988, '뻑': 5989, '톡': 5990, '▁가까운': 5991, '스파이더맨': 5992, '쫓': 5993, '▁어두운': 5994, '▁비호감': 5995, '▁격투': 5996, '▁ᄌᄂ': 5997, '▁만들었나': 5998, '▁어설프다': 5999, '▁짜릿': 6000, '▁예측': 6001, '▁대사들': 6002, 'us': 6003, '엇음': 6004, '▁감동적이에요': 6005, '▁기획': 6006, '▁도시': 6007, '▁에효': 6008, '▁인생영화': 6009, '▁중학생': 6010, '습니까': 6011, '지않게': 6012, '▁화나': 6013, '자마자': 6014, '▁갖다': 6015, '▁사랑스럽다': 6016, '것같네요': 6017, '▁담긴': 6018, '▁첨부터': 6019, '▁멋있고': 6020, '놈들은': 6021, '▁거지같은': 6022, '▁간지': 6023, '▁맞나': 6024, '▁안보는게': 6025, 'ᅲᅲᅲᅲᅲ': 6026, 'ce': 6027, '여배우': 6028, '▁연기잘하': 6029, '힘들': 6030, '되네': 6031, '▁벗어': 6032, '▁첨이다': 6033, '▁좋네': 6034, '▁가족들': 6035, '▁떠올': 6036, '▁나와야': 6037, '할수있는': 6038, '▁충분한': 6039, '▁뜬금없는': 6040, '▁소화': 6041, '잤': 6042, '시나리오': 6043, '유쾌하게': 6044, '▁소름끼치는': 6045, '핵': 6046, '예술': 6047, '선택': 6048, '천원': 6049, '▁감동입니다': 6050, '▁인상적인': 6051, '픔': 6052, '스티': 6053, '▁ᄒᄃᄃ': 6054, '▁시도는': 6055, '떤': 6056, '낯': 6057, '헉': 6058, '▁신하균': 6059, '▁오프닝': 6060, '▁리얼리티': 6061, '▁언젠가': 6062, '▁자동차': 6063, '▁누군지': 6064, '▁무대': 6065, '▁첩보': 6066, '스틴': 6067, '▁엽기': 6068, '▁블랙코미디': 6069, '괜찬': 6070, '▁만화영화': 6071, '웠던': 6072, '▁진지한': 6073, '▁살리지': 6074, '▁부활': 6075, '▁태국': 6076, '▁개똥': 6077, '녀석': 6078, '▁이거보다': 6079, '▁말하려는': 6080, '립니다': 6081, '▁망할': 6082, '▁한심하다': 6083, '▁절로': 6084, '모자': 6085, '▁무겁': 6086, '▁여자애': 6087, 'ᄃᄃᄃ': 6088, '▁보고싶은데': 6089, '꺼야': 6090, '▁유행': 6091, '▁멋있었': 6092, '까봐': 6093, '▁아니잖아': 6094, '▁그동안': 6095, '맘에': 6096, '▁모르겠네요': 6097, '▁형편없는': 6098, '▁넘넘': 6099, '▁삶과': 6100, '▁한번더': 6101, '있네요': 6102, '▁독특하고': 6103, '였네요': 6104, '▁아파': 6105, '▁가히': 6106, '곳이': 6107, '같아요': 6108, '곳에서': 6109, '▁처음이네': 6110, 'un': 6111, '▁짜증나게': 6112, '▁재미없었': 6113, '▁초반부': 6114, '▁훌륭했': 6115, '돈주고': 6116, '▁선정': 6117, '▁가족애': 6118, '덩': 6119, '셉': 6120, '됫': 6121, '▁말그대로': 6122, '▁박보영': 6123, '▁라이언': 6124, '▁기발한': 6125, '▁보지마셈': 6126, '였구나': 6127, '▁헛웃음': 6128, '▁극혐': 6129, '▁부탁': 6130, '▁좋았을텐데': 6131, '▁고딩': 6132, '▁개그맨': 6133, '▁동영상': 6134, '▁극복': 6135, '▁등등': 6136, '▁은근': 6137, '▁여태': 6138, '▁강추합니다': 6139, '▁마약': 6140, '해지고': 6141, '▁미녀': 6142, '▁중국영화': 6143, '▁끌고': 6144, '하거나': 6145, '▁인디': 6146, '▁어울리지': 6147, '▁만난': 6148, '▁귀여': 6149, '▁잊고': 6150, '밖': 6151, '▁마지막회': 6152, '▁여인': 6153, '▁말밖에': 6154, '더스': 6155, '▁낚인': 6156, '망작': 6157, '쁜': 6158, '▁화끈': 6159, '돌려': 6160, '▁세월이': 6161, '▁벗어나': 6162, '멋잇': 6163, '▁빠졌': 6164, '▁찾아서': 6165, '꿈': 6166, '▁뻔뻔': 6167, '바람': 6168, '하는구나': 6169, '맑': 6170, '▁어정쩡': 6171, '버렸네': 6172, '쉐': 6173, '혔': 6174, '▁EBS': 6175, '▁류승범': 6176, '▁오그라드는': 6177, '뱀': 6178, '셜': 6179, '캡': 6180, '▁쓸데없는': 6181, '앞으로': 6182, '▁죄송': 6183, '▁그려낸': 6184, '▁고뇌': 6185, '▁공룡': 6186, '▁밑도': 6187, '좋아하는데': 6188, '▁좋으나': 6189, '특집': 6190, 'ᄀᄀ': 6191, '▁이도저도': 6192, '▁대신': 6193, '좋은데': 6194, '▁충분하다': 6195, '▁천국': 6196, '▁잘못된': 6197, '▁마시': 6198, '▁드림': 6199, '▁살인마': 6200, '▁탄탄하고': 6201, '▁주온': 6202, '브리': 6203, '▁애매': 6204, '▁안나온다': 6205, '▁귀여웠': 6206, '▁답답함': 6207, '▁명성에': 6208, '아까운영화': 6209, '하고싶다': 6210, '^^;': 6211, '▁소장하고': 6212, '▁모르겠네': 6213, '▁잠시': 6214, '▁옆에': 6215, '드립': 6216, '▁만났': 6217, '▁낮은지': 6218, '▁신선함': 6219, '▁놓치': 6220, '▁싸우': 6221, '낭비': 6222, '▁막판': 6223, '로맨스': 6224, '▁부정': 6225, '허무': 6226, '볼까': 6227, '▁다시보기': 6228, '퉤': 6229, '▁movie': 6230, '▁못봐주겠': 6231, '▁송강호': 6232, '핫': 6233, '걷': 6234, '렛': 6235, '▁피아노': 6236, '▁배급사': 6237, '▁일주일': 6238, '▁미스캐스팅': 6239, '▁흥미로웠': 6240, '▁전성기': 6241, '▁위험': 6242, '▁장애인': 6243, '▁묘한': 6244, '▁고독': 6245, '▁사랑한다': 6246, '▁장난하나': 6247, '▁모르지만': 6248, '▁재미있었는데': 6249, '이후로': 6250, '▁마블': 6251, '▁한방': 6252, '▁역사상': 6253, '극히': 6254, '▁않았던': 6255, 'ed': 6256, '▁공유': 6257, '▁말인가': 6258, '▁비중': 6259, '▁반영': 6260, '보임': 6261, '▁결론은': 6262, '▁보는것': 6263, '▁보라고': 6264, '삼류': 6265, '살때': 6266, '▁어이없다': 6267, '었구나': 6268, '▁넣어': 6269, '15': 6270, '▁흉내': 6271, '▁본격': 6272, '초딩': 6273, '▁없군': 6274, '▁실망이다': 6275, '곽': 6276, 'ᄐ': 6277, '▁시종일관': 6278, '렴': 6279, '▁디카프리오': 6280, '겻': 6281, '랩': 6282, '몫': 6283, '쭈': 6284, '캠': 6285, '튜': 6286, '▁몽환적': 6287, '▁걱정': 6288, '▁킬러': 6289, '▁환경': 6290, '드려요': 6291, '마누라': 6292, '▁일반': 6293, '▁이번에': 6294, '▁느껴지지': 6295, '▁대박이다': 6296, '▁이끌어': 6297, '▁먹칠': 6298, '▁살렸다': 6299, '보일': 6300, '▁욕먹': 6301, '분짜리': 6302, '였네': 6303, '▁뻔하다': 6304, '▁다운받아서': 6305, '▁오글거리는': 6306, '▁짝이': 6307, '잭슨': 6308, '▁언제까지': 6309, '▁심한': 6310, '▁만들려': 6311, '느냐': 6312, '▁환상적인': 6313, '▁한시간': 6314, '다시보고싶': 6315, '▁개봉당시': 6316, '▁아까워서': 6317, '아니면': 6318, '▁잼있네요': 6319, '효과': 6320, 'el': 6321, '▁승리': 6322, '좀비': 6323, 'ne': 6324, '▁심하다': 6325, '할줄': 6326, '▁신화': 6327, '김정': 6328, '▁달려': 6329, '▁열라': 6330, '보니깐': 6331, '에비해': 6332, '▁싶다면': 6333, '▁알파치노': 6334, '풋': 6335, '▁아름다워': 6336, '▁섬세한': 6337, '▁칭찬': 6338, '▁닥치고': 6339, '▁드니로': 6340, '▁전설이': 6341, '▁2012': 6342, '▁라스트': 6343, '▁읽는': 6344, '▁-_-;;': 6345, '▁때리': 6346, '▁믿어': 6347, '▁재밌게봤어요': 6348, '▁개꿀잼': 6349, '▁역작': 6350, '여주인공': 6351, '▁조낸': 6352, '학년때': 6353, '▁대결': 6354, '▁역겹다': 6355, '▁모든것이': 6356, '▁최고에요': 6357, '형제': 6358, '▁잃었': 6359, '▁나무': 6360, '되길': 6361, '▁조잡한': 6362, '▁싫어하는': 6363, '중국': 6364, '▁빠져서': 6365, '▁옛날영화': 6366, '사실': 6367, '▁보여줘': 6368, '▁중년': 6369, '주려고': 6370, '▁재미없네요': 6371, '맹': 6372, '경찰': 6373, '뚫': 6374, '릇': 6375, '옳': 6376, '왈': 6377, '▁유치찬란': 6378, '덮': 6379, '둠': 6380, '엮': 6381, '▁왕조현': 6382, '▁짬뽕': 6383, '▁되돌아': 6384, '▁섬뜩': 6385, '▁혁명': 6386, '옵니다': 6387, '역할': 6388, '▁슈퍼맨': 6389, '▁각색': 6390, '▁영원': 6391, '페이스': 6392, '▁흘러가는': 6393, '▁사랑스럽고': 6394, '▁만약': 6395, '각본': 6396, '▁싶었던': 6397, '충격': 6398, '편집': 6399, '▁벌어': 6400, '흥미롭': 6401, '▁느껴졌다': 6402, '예뻐': 6403, '하자면': 6404, '▁어쩌다': 6405, '▁준비': 6406, '▁볼것': 6407, '▁남성': 6408, '비추': 6409, '▁단점': 6410, '▁뛰어넘는': 6411, '속으로': 6412, '봤네': 6413, '.,.,': 6414, '▁꼭봐야': 6415, '▁좋더라': 6416, '▁가시': 6417, '누님': 6418, '▁보고나니': 6419, '▁되야': 6420, '▁세상에서': 6421, '룬': 6422, '▁가야': 6423, 'CG': 6424, '랙': 6425, '퉁': 6426, 'ᄊ': 6427, '▁뒤죽박죽': 6428, '▁오랫동안': 6429, '▁즐거움': 6430, '켓': 6431, '▁2.22': 6432, '점준것중': 6433, '▁비행기': 6434, '▁바탕으로': 6435, '범죄': 6436, '▁쏘우': 6437, '병맛': 6438, '▁돌아보게': 6439, '▁과학': 6440, '▁로망': 6441, '▁흥분': 6442, '▁최후': 6443, '▁단순히': 6444, '▁기억난다': 6445, '▁뻔한스토리': 6446, '▁지옥': 6447, '▁실사': 6448, '맞아': 6449, '나보네': 6450, '물론': 6451, '▁최소한': 6452, '▁공연': 6453, '봣어요': 6454, '겨울': 6455, '▁여배우들': 6456, 'ost': 6457, 'he': 6458, '해줘서': 6459, '▁천사': 6460, '▁불안': 6461, '재밋엇': 6462, 'ᄃᄃᄃᄃ': 6463, 'ri': 6464, '뚜': 6465, '썸': 6466, '▁스필버그': 6467, '썬': 6468, '킴': 6469, '▁오그라들': 6470, '▁데이빗': 6471, '▁여러모로': 6472, '▁박평식': 6473, '▁엉뚱': 6474, '▁최민수': 6475, '▁원숭이': 6476, '▁한효주': 6477, '▁아련한': 6478, '▁무간도': 6479, 'ᅲᅲᅲᅲᅲᅲᅲᅲᅲᅲ': 6480, '▁상큼': 6481, '▁도둑': 6482, '▁늙은': 6483, '폴': 6484, '▁말이필요없다': 6485, '▁풀어낸': 6486, '▁로맨틱코미디': 6487, '▁역량': 6488, '밖엔': 6489, '▁앉아': 6490, '▁기대했': 6491, '▁멋짐': 6492, '▁잔잔함': 6493, '▁알려주는': 6494, '▁재탕': 6495, '▁좋겠습니다': 6496, '▁멋져요': 6497, '▁또라이': 6498, '▁봤는지': 6499, '보지마라': 6500, '아닌데': 6501, '▁완벽하다': 6502, '▁책임': 6503, '보고나서': 6504, '▁군인': 6505, '▁멋지게': 6506, '몰라': 6507, '▁제대로된': 6508, '▁모방': 6509, '▁놀란': 6510, '▁않아요': 6511, '▁말투': 6512, '▁웃겨서': 6513, '할수없는': 6514, '▁사람에게': 6515, '구역': 6516, '▁못했': 6517, '▁최고최고': 6518, '▁배경으로': 6519, '▁없던': 6520, '그저': 6521, '순수': 6522, '보셔': 6523, '▁별로였다': 6524, '▁환상적': 6525, '▁이상하다': 6526, '점주기도': 6527, '50': 6528, '▁독특하': 6529, '▁정체': 6530, '앉': 6531, '셧': 6532, '옮': 6533, '퀸': 6534, '▁아기자기': 6535, '▁아마추어': 6536, '▁클래식': 6537, '▁김희선': 6538, '▁깜놀': 6539, '▁데뷔작': 6540, '▁후속편': 6541, '▁완젼': 6542, '▁두고두고': 6543, '▁에라이': 6544, '▁레옹': 6545, '▁잔인함': 6546, '것같아': 6547, 'ter': 6548, '시청률': 6549, '애니메이션': 6550, '아름다운': 6551, '옛날': 6552, '▁떨어져': 6553, '우리나라': 6554, '▁같았다': 6555, '▁못하겠다': 6556, '결국': 6557, '▁감명': 6558, '▁아이들에게': 6559, '구먼': 6560, '▁미스터리': 6561, '▁어쩌면': 6562, '멋진': 6563, '▁인류': 6564, '▁어이없음': 6565, '회부터': 6566, '거같아': 6567, '▁전라도': 6568, 'se': 6569, '▁아이유': 6570, '할정도로': 6571, '▁구분': 6572, '▁토니': 6573, '▁기대했던': 6574, '▁부족함': 6575, '복수': 6576, '해놓고': 6577, '주었다': 6578, '▁정신병': 6579, '▁의상': 6580, '있었는데': 6581, '▁스릴감': 6582, '밋': 6583, '어설프': 6584, '▁찍으': 6585, '▁스릴러물': 6586, '쏴': 6587, '▁뒤늦게': 6588, '곱': 6589, '뤄': 6590, '▁다이하드': 6591, '▁마찬가지': 6592, '▁컨셉': 6593, '▁잊지못할': 6594, '▁김수현': 6595, '▁묵직': 6596, '▁빠져들게': 6597, '▁다니엘': 6598, '▁수면제': 6599, '▁컬트': 6600, '▁케미': 6601, '▁새삼': 6602, '▁거기다': 6603, '▁권력': 6604, '▁재앙': 6605, '▁상징': 6606, '▁보여줄': 6607, '무서워': 6608, '줍니다': 6609, '개인적으로': 6610, '▁말씀': 6611, '▁재미나게': 6612, '것같음': 6613, 'very': 6614, '▁괜찮았던': 6615, '예쁘': 6616, '▁흥미롭지': 6617, '▁채우': 6618, '합시다': 6619, '보지마세요': 6620, '▁있긴': 6621, '▁소통': 6622, '▁들어간': 6623, '▁공감되': 6624, '▁야하지도': 6625, '▁파워': 6626, '▁멋져': 6627, '보려고': 6628, '▁오직': 6629, '터졌': 6630, '지못한': 6631, '▁강간': 6632, '▁행복하게': 6633, '▁의미있는': 6634, '하겠습니다': 6635, '▁여신': 6636, 'ma': 6637, '▁않으면': 6638, '▁넘어서': 6639, '생기고': 6640, '▁이딴거': 6641, '감명깊': 6642, '흉': 6643, '▁고등학생': 6644, '▁군더더기': 6645, '▁비쥬얼': 6646, '듦': 6647, '뜸': 6648, '뺏': 6649, '홈': 6650, '▁Good': 6651, '▁테이큰': 6652, '룰': 6653, '턱': 6654, '▁그냥저냥': 6655, '▁엄정화': 6656, '▁차승원': 6657, '▁김혜수': 6658, '▁농담': 6659, '▁완죤': 6660, '▁봐줄만': 6661, '▁아쉬울': 6662, '▁거부감': 6663, '▁어설프게': 6664, '▁흥미롭게': 6665, '▁더러워': 6666, '▁아쉬워요': 6667, '샘': 6668, '▁감동적이었다': 6669, '킬링타임': 6670, '판타지': 6671, '▁재밌었습니다': 6672, '▁만들어주': 6673, '▁팬들': 6674, '▁무협영화': 6675, '▁흉내내': 6676, '▁재방': 6677, '▁미학': 6678, '▁레오': 6679, '▁부산': 6680, '▁울림': 6681, '▁한동안': 6682, '아무리': 6683, '▁지금보면': 6684, '▁세월': 6685, '맞음': 6686, '▁향수': 6687, '하길래': 6688, '▁어쩔수없': 6689, '▁있었음': 6690, '▁매주': 6691, '▁나왔던': 6692, '▁OOOO': 6693, '▁먹어': 6694, '원주고': 6695, '영활': 6696, '안좋': 6697, '▁광기': 6698, '솜': 6699, '▁애니매이션': 6700, '▁카메론': 6701, '팩': 6702, '▁새록새록': 6703, '▁송승헌': 6704, '▁포켓몬': 6705, '꽁': 6706, '뜯': 6707, '밉': 6708, '▁팝콘': 6709, '▁한석규': 6710, '▁멈추': 6711, '▁드래곤볼': 6712, '▁밝혀': 6713, '▁원피스': 6714, '▁택시': 6715, '▁자연스럽게': 6716, '▁크리스찬': 6717, '땜시': 6718, '▁찬양': 6719, '▁등록': 6720, '▁모자라': 6721, '▁감동적입니다': 6722, '▁가짜': 6723, '▁힘들었다': 6724, '▁웃다가': 6725, '▁범죄자': 6726, '▁불쌍하': 6727, '▁보고있는데': 6728, '▁보는동안': 6729, '▁비록': 6730, '▁no': 6731, '엇어요': 6732, '졌으면': 6733, '▁작화': 6734, '▁알바생': 6735, '▁보게되는': 6736, '▁평소': 6737, '▁대역': 6738, '▁인연': 6739, '웃긴': 6740, '▁좋아하네요': 6741, '재밋어요': 6742, '▁망쳐놓': 6743, '▁나올까': 6744, '▁화끈한': 6745, '셨으면': 6746, '▁그리워': 6747, '갈수': 6748, '졌음': 6749, '▁방해': 6750, '저런': 6751, '높아': 6752, '▁알게되': 6753, '▁오랜': 6754, '▁일깨워': 6755, '▁캐릭': 6756, '하더니': 6757, '^_^': 6758, '▁러브스토리': 6759, '▁호불호가': 6760, '팽': 6761, '▁엉망진창': 6762, '▁차태현': 6763, '▁키아누': 6764, '렘': 6765, '앜': 6766, '▁나루토': 6767, '▁흑역사': 6768, '▁머릿속': 6769, '▁빠순이': 6770, '▁왕가위': 6771, '▁애초에': 6772, '▁심오한': 6773, '▁엠마': 6774, '▁직업': 6775, '▁거기서': 6776, '겠는가': 6777, '▁그럴싸': 6778, '><': 6779, '▁민족': 6780, '▁첫번째': 6781, '▁억지스런': 6782, '같애': 6783, '▁국산': 6784, '▁짜증났': 6785, '돋는다': 6786, '▁늙어': 6787, '첫': 6788, '프로그램': 6789, '▁감동도없고': 6790, '그나마': 6791, '댓글': 6792, '▁다시보게': 6793, '다시봐도': 6794, '▁만든건지': 6795, '폭력': 6796, '▁화질': 6797, '▁편하게': 6798, 'ay': 6799, 'sh': 6800, '▁두명': 6801, '▁브레': 6802, '자꾸': 6803, '▁조연들': 6804, '누구': 6805, '실력': 6806, '혐': 6807, '첩': 6808, '밨': 6809, '▁영웅본색': 6810, '랏': 6811, '쇄': 6812, '짙': 6813, '▁세련된': 6814, '욬': 6815, '헨': 6816, '▁웬만하면': 6817, '▁빈약한': 6818, '▁찬사를': 6819, '▁2015': 6820, '▁강아지': 6821, '▁파격적': 6822, 'vs': 6823, '▁아무튼': 6824, '▁시간아까워': 6825, '▁프레': 6826, '▁시험': 6827, '점도아깝다': 6828, '▁반갑': 6829, '▁고증': 6830, '▁재밌기만': 6831, '▁모독': 6832, '▁처음본다': 6833, '▁챙겨보': 6834, '▁고문': 6835, '▁몰아': 6836, '▁싶습니다': 6837, '▁성형': 6838, '멀': 6839, '마무리': 6840, '묻': 6841, '▁이은주': 6842, '▁학생들': 6843, '얼마나': 6844, '♡♡♡': 6845, '잘봤습니다': 6846, '▁마녀': 6847, '▁네이버평점': 6848, '▁향한': 6849, '▁슬프네요': 6850, '영화자체는': 6851, '모르겠다': 6852, '▁일반인': 6853, 'il': 6854, '▁우디': 6855, '쓰렉': 6856, '▁맞추': 6857, '▁커버': 6858, '▁진부함': 6859, '깐': 6860, '▁살았': 6861, '▁완성': 6862, '▁맛있': 6863, '부르': 6864, '섯': 6865, '▁역사적': 6866, '뗄': 6867, '뎀': 6868, '믄': 6869, '줫': 6870, '훼': 6871, '▁드림웍스': 6872, '▁박찬욱': 6873, '▁안타까움': 6874, '▁윌리엄': 6875, '▁말았어야': 6876, '▁재발견': 6877, '▁가슴아픈': 6878, '▁김민종': 6879, '▁레이첼': 6880, '▁깨달음': 6881, '▁윌리스': 6882, '▁감성팔이': 6883, '▁외로움': 6884, '▁한쿡영화': 6885, '▁페이크': 6886, '▁흠잡을': 6887, '▁찢어': 6888, '▁치밀하': 6889, '▁방황': 6890, '▁극단적': 6891, '▁안성기': 6892, '▁람보': 6893, '▁고인의': 6894, '▁닮았': 6895, '▁열광': 6896, '▁놀라울': 6897, '▁혼란': 6898, '▁공허': 6899, '▁마틴': 6900, '▁음향': 6901, '▁독립': 6902, '▁시골': 6903, '▁아깝습니다': 6904, '▁백배': 6905, '▁무슨말이': 6906, '▁더욱더': 6907, '▁미술': 6908, '중간에': 6909, '▁필요없음': 6910, '▁에로물': 6911, '▁만날': 6912, '선생님': 6913, '짧': 6914, '덕분에': 6915, '무서운': 6916, '궁금': 6917, '▁비교하면': 6918, '입니까': 6919, '▁분장': 6920, 'tv': 6921, '▁않습니다': 6922, '▁끝남': 6923, '노출': 6924, '▁있어보이': 6925, '▁낚이지': 6926, '▁go': 6927, '▁뛰어넘': 6928, '▁없으니': 6929, '▁미쳐': 6930, '▁미안해': 6931, '눈물흘': 6932, '▁미스터': 6933, '보기엔': 6934, '야말로': 6935, '달라고': 6936, '▁허허': 6937, '▁다세포소녀': 6938, '▁시끄럽': 6939, '숲': 6940, '▁이탈리아': 6941, '릉': 6942, '▁구혜선': 6943, '▁사무라이': 6944, '▁설경구': 6945, '▁권상우': 6946, '▁펼쳐': 6947, '▁떨어뜨': 6948, '▁아바타': 6949, '▁클라스': 6950, '▁잔잔하지만': 6951, '▁틀림없': 6952, 'hat': 6953, '▁증명': 6954, '▁환장': 6955, '▁죽기전에': 6956, '▁가슴아프': 6957, '▁자연스러운': 6958, '▁재방송': 6959, '▁복수극': 6960, '-.-': 6961, '▁피곤': 6962, '▁어색함': 6963, '▁심각하게': 6964, '▁세계관': 6965, '▁영광': 6966, '▁동화같은': 6967, '많은것을': 6968, '▁없애': 6969, '▁없구나': 6970, '질질끄': 6971, '▁향기': 6972, '▁매번': 6973, '됬는데': 6974, '▁다시보고싶은': 6975, '▁알게된': 6976, '▁굿굿굿': 6977, '▁좋구': 6978, '현실적': 6979, '챙': 6980, '낄': 6981, '훌': 6982, 'Y': 6983, '릅': 6984, '▁best': 6985, '▁엑스맨': 6986, '삘': 6987, '얀': 6988, '훔': 6989, '▁인상깊게': 6990, '늬': 6991, '좆': 6992, '▁내취향': 6993, '습니당': 6994, '▁떡밥': 6995, '▁평점조절': 6996, '▁나머진': 6997, '랍니다': 6998, '▁살아야': 6999, '▁록키': 7000, '▁총체적': 7001, '▁온갖': 7002, '시리즈중': 7003, '▁역쉬': 7004, '▁분량': 7005, '창있네': 7006, '2005': 7007, '▁패션': 7008, '▁지브리': 7009, '끝날때까지': 7010, '▁뭐랄까': 7011, '▁산만하': 7012, '▁던져': 7013, '▁빠질': 7014, '▁거짓': 7015, '▁적당하다': 7016, '▁재미없었음': 7017, '봤을땐': 7018, '▁인간적으로': 7019, '검사': 7020, '▁기억남': 7021, '죽는줄': 7022, '▁나오다니': 7023, '▁봤었다': 7024, '▁채워': 7025, '싶은데': 7026, '▁시체': 7027, '귀여워': 7028, '몇번': 7029, '쫌': 7030, '암튼': 7031, '큼': 7032, '▁데려다': 7033, '피디': 7034, '완벽하게': 7035, '▁없을까': 7036, '♡♡': 7037, '대가리': 7038, 'ᄍᄍᄍ': 7039, '123': 7040, '▁진정성': 7041, '될까': 7042, '사람마다': 7043, '▁형식': 7044, '▁비극적': 7045, '영화관에서': 7046, '▁알아야': 7047, '제국': 7048, '둑': 7049, '킥': 7050, '덧': 7051, '띠': 7052, '뱅': 7053, '▁에드워드': 7054, '▁엔딩크레딧': 7055, '▁트랜스포머': 7056, '▁홧팅': 7057, '▁흘렀': 7058, '겄': 7059, '졋': 7060, '▁황정민': 7061, '▁이것저것': 7062, '▁납득': 7063, '▁조승우': 7064, '▁지저분': 7065, '▁워낙': 7066, '▁예뻐서': 7067, '▁상당한': 7068, '▁오로지': 7069, '▁이나영': 7070, '▁낮추': 7071, '▁꺼져': 7072, '▁반응': 7073, 'la': 7074, '▁유령': 7075, '▁초반엔': 7076, '▁유익': 7077, '▁우왕': 7078, '▁나은듯': 7079, '▁회상': 7080, '▁얻어': 7081, '▁소소하': 7082, '▁소름끼치': 7083, '▁먹먹해': 7084, '실화라': 7085, '촬영': 7086, '심각': 7087, '▁정체성': 7088, '힘든': 7089, '▁보러갔': 7090, '성룡': 7091, '봤었는데': 7092, 'com': 7093, '투성이': 7094, '▁만들었으면': 7095, '▁유치하기': 7096, '▁살아남': 7097, '재미잇': 7098, '▁시간아깝': 7099, '▁배우분들': 7100, '▁재수없': 7101, '점만점': 7102, '▁느껴졌': 7103, '내놔': 7104, '뎁': 7105, '▁학창시절': 7106, '짖': 7107, '▁겨울왕국': 7108, '▁곱씹': 7109, '▁기대됩니다': 7110, '▁소피마르소': 7111, '▁심리묘사': 7112, '▁어설퍼': 7113, '뼈': 7114, '▁김태희': 7115, '▁최민식': 7116, '▁정주행': 7117, '▁장동건': 7118, '▁고마워': 7119, '▁전지현': 7120, '▁돋보인다': 7121, '▁모자란': 7122, '▁간첩': 7123, '▁7.5': 7124, '▁증말': 7125, '영환줄': 7126, '▁괴롭': 7127, '▁아까웠던': 7128, '▁존경합니다': 7129, '▁쉬운': 7130, '▁좋아하시는': 7131, '십니다': 7132, '▁커피': 7133, '▁알려준': 7134, '▁원표': 7135, '▁소품': 7136, '▁감동적임': 7137, '▁울었습니다': 7138, '▁적극': 7139, '▁못따라': 7140, '중딩': 7141, '지않을': 7142, '▁마음속에': 7143, '맞추기': 7144, '옷': 7145, '탐': 7146, '특유의': 7147, '분들께': 7148, '▁쩌네': 7149, '네이버': 7150, '▁재미있었던': 7151, '떨어지는': 7152, 'ᄋᄋᄋ': 7153, '▁따뜻함': 7154, '▁기분좋은': 7155, '▁깨닫': 7156, '냄': 7157, '쎄': 7158, '봇': 7159, '삽': 7160, '▁러브라인': 7161, '팝': 7162, '▁KBS': 7163, '▁과대평가': 7164, '▁런닝타임': 7165, '▁미야자키': 7166, '▁슬펐다': 7167, '▁크레딧': 7168, '▁팀버튼': 7169, '▁파워레인저': 7170, '▁손예진': 7171, '▁어차피': 7172, '찜찜': 7173, '▁어떠한': 7174, '▁엉엉': 7175, '▁엽문': 7176, '▁2004': 7177, '▁도움이': 7178, '▁2003': 7179, '▁침묵': 7180, '▁사라져': 7181, '싶을때': 7182, '▁귀찮': 7183, '▁압도적': 7184, '▁말아먹은': 7185, '▁돈낭비': 7186, '▁욕나온다': 7187, '▁과장된': 7188, '라이브': 7189, '▁진행되는': 7190, '▁8.5': 7191, '▁경악': 7192, '▁존잼': 7193, '▁돈아깝다': 7194, '▁복선': 7195, '▁경계': 7196, '▁일찍': 7197, '▁늙었': 7198, '배틀': 7199, '흥미를': 7200, '왜이래': 7201, '히어로': 7202, '왔던': 7203, '철학': 7204, '바탕': 7205, '▁실화라는': 7206, '영웅': 7207, '▁흔하': 7208, '▁풀어내': 7209, '죽이고': 7210, '▁300': 7211, '▁가능성': 7212, '쉣': 7213, '썰': 7214, '▁고맙습니다': 7215, '▁조기종영': 7216, '멕': 7217, '썻': 7218, '쏙': 7219, '훗': 7220, '▁어우러진': 7221, '끓': 7222, '▁싸이코패스': 7223, '▁팍팍': 7224, '▁객관적': 7225, '▁오우삼': 7226, '떄문에': 7227, '그나저나': 7228, '▁어딘가': 7229, '▁임청하': 7230, '별반개도': 7231, '꼬맹이': 7232, '▁보낸다': 7233, '▁가까이': 7234, '▁미친듯이': 7235, '▁사기꾼': 7236, '▁잃어버린': 7237, '▁전도연': 7238, '▁아동용': 7239, '▁감동받았': 7240, '▁돌려줘': 7241, '▁ᄅᄋ': 7242, '▁황금': 7243, '할게요': 7244, '겠군': 7245, '▁197': 7246, '▁여태까지': 7247, '▁사이코': 7248, '▁조용히': 7249, '탁월한': 7250, '▁허탈': 7251, '▁중간부터': 7252, '▁실패작': 7253, '▁히어로물': 7254, '▁지나친': 7255, '▁도중에': 7256, '▁머리속': 7257, '▁로마': 7258, '팬이라': 7259, '▁유혹': 7260, '싫': 7261, '톰': 7262, 'ᄉᄇ': 7263, '좋았음': 7264, '낮아서': 7265, '▁198': 7266, 'all': 7267, '▁역겹': 7268, '▁태어나': 7269, '깁': 7270, '드래곤': 7271, '****': 7272, 'zzz': 7273, '↓': 7274, '▁ocn': 7275, '▁굉장한': 7276, '▁도라에몽': 7277, '▁어쨌든': 7278, '▁엉터리': 7279, '긔': 7280, '넼': 7281, '녁': 7282, '쌓': 7283, '잣': 7284, '텅': 7285, '▁양동근': 7286, '#': 7287, '▁고마운': 7288, '▁여기저기': 7289, '▁스티브': 7290, '▁스피드': 7291, '▁큐브': 7292, '▁입장에서': 7293, '▁저절로': 7294, '▁비정상': 7295, '▁솔까': 7296, '▁스킵': 7297, '▁웅장': 7298, '▁별한개도': 7299, '▁보여줌': 7300, '▁색채': 7301, '▁스토리라인': 7302, '▁심각한': 7303, '▁느리고': 7304, '였으나': 7305, '▁생존': 7306, '▁교회': 7307, '▁신세계': 7308, '▁바랬': 7309, '▁신나게': 7310, '▁간직': 7311, '▁노튼': 7312, '▁도통': 7313, '해지네요': 7314, '클럽': 7315, '본영화중에': 7316, '지않나': 7317, '역활': 7318, '썩': 7319, '고싶지': 7320, '이쁘고': 7321, '것일까': 7322, '댓': 7323, '뷔': 7324, '펼': 7325, '▁ebs': 7326, '▁겉멋만': 7327, '▁신데렐라': 7328, '▁일베충': 7329, '▁흐지부지': 7330, '곁': 7331, '껍': 7332, '즉': 7333, '펠': 7334, '▁국어책': 7335, '▁펭귄': 7336, '☆': 7337, '핸': 7338, '윽': 7339, '▁맙시다': 7340, '▁초중반': 7341, '▁소지섭': 7342, '▁인디아나': 7343, '▁오페라': 7344, '▁뉴욕': 7345, '▁납치': 7346, '▁색다르': 7347, '▁그들만의': 7348, '▁어지간': 7349, '▁젊음': 7350, '^.^': 7351, '▁케이트': 7352, '▁활용': 7353, '▁담겨있': 7354, '▁관람객': 7355, '깁니다': 7356, '▁성찰': 7357, '▁프레디': 7358, '▁사라진': 7359, '▁말이필요없는': 7360, '▁초등학교때': 7361, '▁서극': 7362, '▁제정신': 7363, '것같습니다': 7364, '▁발랄': 7365, '▁빠져들었': 7366, '▁지루했음': 7367, '▁볼만해요': 7368, '▁얘들': 7369, '더라고요': 7370, '▁me': 7371, '만들엇': 7372, '보고싶네': 7373, '좋았어요': 7374, '왜이리': 7375, '시간낭비': 7376, '결혼': 7377, '▁어린이들': 7378, '본것중': 7379, '▁어울리': 7380, '믹': 7381, '쯧': 7382, '켈': 7383, '쇠': 7384, '▁아이언맨': 7385, '▁임권택': 7386, '▁파라노말': 7387, '꺄': 7388, '넷': 7389, '웰': 7390, '▁주상욱': 7391, '▁더더욱': 7392, '▁홍금보': 7393, '▁2013': 7394, '▁ᄇᄉ': 7395, '▁타이틀': 7396, '▁멘탈': 7397, '▁태어난': 7398, '▁뛰쳐': 7399, '▁성유리': 7400, '▁거슬리': 7401, '▁The': 7402, '▁촌스럽지': 7403, '▁훈남': 7404, '낙': 7405, '긍': 7406, '궈': 7407, '샀': 7408, '펀': 7409, '人': 7410, '갇': 7411, '닦': 7412, '빚': 7413, '빤': 7414, '칫': 7415, '탠': 7416, '힛': 7417, '뎌': 7418, '췄': 7419, '퇴': 7420, '깎': 7421, '즌': 7422, 'ᅦ': 7423, '됌': 7424, '룸': 7425, '쉰': 7426, '쑤': 7427, '엌': 7428, '엣': 7429, '잎': 7430, '듀': 7431, '륵': 7432, '웬': 7433, '뿔': 7434, '낌': 7435, '봅': 7436, '깡': 7437, '됴': 7438, '뻘': 7439, '넋': 7440, '럿': 7441, 'q': 7442, '꾹': 7443, '꿨': 7444, '맷': 7445, '쿄': 7446, '흰': 7447, '낳': 7448, '젼': 7449, '。': 7450, '쏠': 7451, '겸': 7452, '뉘': 7453, '댐': 7454, '딕': 7455, '띵': 7456, '웩': 7457, '펄': 7458, '벙': 7459, '헝': 7460, '쌍': 7461, '깍': 7462, '넌': 7463, 'W': 7464, '뜩': 7465, '쵝': 7466, '펑': 7467, '짬': 7468, '밸': 7469, 'Z': 7470, '’': 7471, '둬': 7472, '륙': 7473, '샌': 7474, '쌩': 7475, '펴': 7476, '횽': 7477, '끗': 7478, '톨': 7479, '숫': 7480, '욜': 7481, '텀': 7482, '툰': 7483, '캬': 7484, '꽤': 7485, '꿔': 7486, '닙': 7487, '·': 7488, 'ᆞ': 7489, '룹': 7490, '슐': 7491, '쌤': 7492, '‘': 7493, '뇨': 7494, '뺀': 7495, '샷': 7496, '쫙': 7497, '쬐': 7498, '핏': 7499, '핳': 7500, '흙': 7501, '꽝': 7502, '줍': 7503, '댕': 7504, '췌': 7505, '칩': 7506, '햄': 7507, '떳': 7508, '끊': 7509, '뽑': 7510, '률': 7511, '맙': 7512, '돕': 7513, '쌀': 7514, '쌈': 7515, '엎': 7516, 'ᅭ': 7517, '묶': 7518, '뱉': 7519, '댈': 7520, '왼': 7521, '콕': 7522, '퀀': 7523, '젓': 7524, 'ᄑ': 7525, '밌': 7526, '짠': 7527, '닳': 7528, '탭': 7529, '퍽': 7530, '헷': 7531, '홉': 7532, '뒀': 7533, '딧': 7534, '붐': 7535, '옵': 7536, '죤': 7537, '샹': 7538, '욧': 7539, '햐': 7540, '썅': 7541, '눠': 7542, '젬': 7543, '캅': 7544, 'ᅣ': 7545, '\\\\': 7546, '甲': 7547, '꺅': 7548, '웁': 7549, '꽂': 7550, '쌔': 7551, '얌': 7552, '촉': 7553, '뺐': 7554, '쩡': 7555, '갤': 7556, '뤽': 7557, '뺴': 7558, '솟': 7559, '앳': 7560, '얕': 7561, '탔': 7562, '○': 7563, '깬': 7564, '냅': 7565, '섰': 7566, '엥': 7567, '팡': 7568, '찢': 7569, '륭': 7570, '됀': 7571, '롬': 7572, '쪄': 7573, '괘': 7574, '뮬': 7575, '씌': 7576, '쟝': 7577, '좁': 7578, '짚': 7579, '킷': 7580, '훅': 7581, '놉': 7582, '몹': 7583, '훨': 7584, '뭇': 7585, '캔': 7586, '굵': 7587, '꿋': 7588, '뎈': 7589, '乃': 7590, '굼': 7591, '늠': 7592, '떴': 7593, '낱': 7594, '씽': 7595, '[': 7596, '헬': 7597, '밭': 7598, '썽': 7599, '쵸': 7600, '♬': 7601, '뛴': 7602, '쨩': 7603, '윙': 7604, '맡': 7605, '녹': 7606, '찜': 7607, '겜': 7608, '뜰': 7609, '얔': 7610, '쑈': 7611, '짭': 7612, '쳇': 7613, '퀼': 7614, '팜': 7615, '핡': 7616, 'Q': 7617, '갸': 7618, '냉': 7619, '푹': 7620, '늑': 7621, '옜': 7622, '댜': 7623, '셸': 7624, '곸': 7625, '돠': 7626, '딥': 7627, '뚤': 7628, '빔': 7629, '싯': 7630, '욘': 7631, '덥': 7632, '밈': 7633, '윗': 7634, '힝': 7635, '펙': 7636, '횡': 7637, '無': 7638, '꾀': 7639, '땟': 7640, '룻': 7641, '샴': 7642, '쳣': 7643, '휼': 7644, '|': 7645, '뱃': 7646, 'ᅧ': 7647, '볍': 7648, '첼': 7649, '힙': 7650, '걔': 7651, '겔': 7652, '뵈': 7653, '빽': 7654, '쫑': 7655, '킁': 7656, '텨': 7657, '꿉': 7658, '뭍': 7659, '벡': 7660, '웡': 7661, '헛': 7662, '걱': 7663, '뭥': 7664, '핥': 7665, '꺾': 7666, '댔': 7667, '맬': 7668, '셰': 7669, '슥': 7670, '퀘': 7671, '훤': 7672, '→': 7673, '욯': 7674, '쪙': 7675, '캣': 7676, '쾅': 7677, '쿤': 7678, '텍': 7679, '곧': 7680, '촬': 7681, '뷁': 7682, '쒸': 7683, '”': 7684, '괸': 7685, '껑': 7686, '눅': 7687, '멧': 7688, '믓': 7689, '젝': 7690, '찼': 7691, '퉷': 7692, '폄': 7693, '풉': 7694, '“': 7695, '얍': 7696, '넝': 7697, '쨔': 7698, '쩐': 7699, '첸': 7700, '뇬': 7701, '뵙': 7702, '겅': 7703, '꼐': 7704, '뿍': 7705, '웹': 7706, '융': 7707, '잌': 7708, '좃': 7709, '챔': 7710, '칵': 7711, '$': 7712, '꿰': 7713, '잰': 7714, '뻗': 7715, '쏜': 7716, '졷': 7717, '땜': 7718, '넉': 7719, '됏': 7720, '숴': 7721, '욥': 7722, '읎': 7723, '잴': 7724, '퐁': 7725, '헿': 7726, '넥': 7727, '넴': 7728, '뿅': 7729, '샵': 7730, '쿼': 7731, '툴': 7732, '굽': 7733, '닛': 7734, '끽': 7735, '씹': 7736, '쒯': 7737, '냠': 7738, '앰': 7739, '넨': 7740, '랖': 7741, '뿡': 7742, '꿍': 7743, '벳': 7744, '흣': 7745, '♪': 7746, '컹': 7747, '낍': 7748, '꺠': 7749, '콱': 7750, '돔': 7751, '렜': 7752, '썹': 7753, '촤': 7754, '팟': 7755, '팰': 7756, '빰': 7757, '웽': 7758, '곀': 7759, '옛': 7760, '뒷': 7761, '컥': 7762, '갚': 7763, '쮸': 7764, '뎃': 7765, 'ᄈ': 7766, '냔': 7767, '댁': 7768, '뒈': 7769, '멱': 7770, '볶': 7771, '뽐': 7772, '죵': 7773, '줏': 7774, '쫘': 7775, '촐': 7776, '컵': 7777, 'ᆪ': 7778, '女': 7779, '괄': 7780, '깟': 7781, '꽈': 7782, '뤠': 7783, '뺑': 7784, '옌': 7785, '쨰': 7786, '찟': 7787, '캄': 7788, '死': 7789, 'ᄡ': 7790, '갘': 7791, '}': 7792, '作': 7793, '롸': 7794, '륨': 7795, '뮈': 7796, '쎈': 7797, '쥰': 7798, '펭': 7799, '휙': 7800, '떵': 7801, '짘': 7802, '캉': 7803, '햅': 7804, '딛': 7805, '잭': 7806, '뀌': 7807, '둡': 7808, '먀': 7809, '챦': 7810, '찹': 7811, '{': 7812, 'ᄄ': 7813, '넛': 7814, '숑': 7815, '읏': 7816, '쥴': 7817, '홬': 7818, '⌒': 7819, '궤': 7820, '뒹': 7821, '떙': 7822, '랗': 7823, '뭄': 7824, '읭': 7825, '챠': 7826, '녜': 7827, '섀': 7828, '잦': 7829, '밓': 7830, '킵': 7831, '、': 7832, '챘': 7833, '뀨': 7834, '랠': 7835, '앟': 7836, '팥': 7837, '갯': 7838, '멌': 7839, '옄': 7840, '캘': 7841, '콰': 7842, '퀵': 7843, '↑': 7844, '盧': 7845, '놧': 7846, '떔': 7847, '띨': 7848, '믈': 7849, '벵': 7850, '뺄': 7851, '숱': 7852, '쌌': 7853, '졍': 7854, '츰': 7855, '쿰': 7856, '팁': 7857, '─': 7858, '뤼': 7859, '왁': 7860, '롹': 7861, '☞': 7862, 'ン': 7863, '졉': 7864, '욀': 7865, '왘': 7866, '옅': 7867, '랔': 7868, '굶': 7869, '텼': 7870, '촛': 7871, '짴': 7872, '짰': 7873, '죨': 7874, '썪': 7875, '뉜': 7876, '궂': 7877, '괭': 7878, '윅': 7879, '쌉': 7880, '숟': 7881, '샛': 7882, '故': 7883, '훑': 7884, '헠': 7885, '햌': 7886, '츤': 7887, '읊': 7888, '앍': 7889, '쉼': 7890, '빴': 7891, '홥': 7892, '덱': 7893, '뀜': 7894, '닠': 7895, '냨': 7896, '깼': 7897, '휠': 7898, '큽': 7899, '좔': 7900, '̄': 7901, '헴': 7902, '촘': 7903, '쁩': 7904, '땔': 7905, '딪': 7906, '횟': 7907, '콥': 7908, '춥': 7909, '긁': 7910, '괞': 7911, '휩': 7912, '큘': 7913, '멎': 7914, '뀔': 7915, '쥔': 7916, '쟤': 7917, '샐': 7918, '릎': 7919, '쁠': 7920, '낰': 7921, '쉘': 7922, '낡': 7923, '꺽': 7924, '핍': 7925, '뤘': 7926, '쥑': 7927, '깽': 7928, '붓': 7929, '얹': 7930, '씻': 7931, '슌': 7932, '꼼': 7933, '펏': 7934, '꽥': 7935, '켠': 7936, '녔': 7937, '픕': 7938, '귓': 7939, '쫒': 7940, '뺨': 7941, '딨': 7942, '탤': 7943, '얽': 7944, '샬': 7945, '뀐': 7946, '꼇': 7947, '쨋': 7948, '뭡': 7949, '앓': 7950, '넓': 7951, '밟': 7952, '붉': 7953, '멤': 7954, '귄': 7955, '뻣': 7956, '꽉': 7957, '땠': 7958, '푼': 7959, '웍': 7960, '홧': 7961, '뿜': 7962, '틋': 7963, '맺': 7964, '쨌': 7965, '빕': 7966, '겪': 7967, '켰': 7968, '찔': 7969, '팠': 7970, '쫄': 7971, '띄': 7972, '텝': 7973, '틸': 7974, '렀': 7975, '콧': 7976, '껐': 7977, '쏟': 7978, '뻤': 7979, '슷': 7980, '왤': 7981, '듭': 7982, '섞': 7983, '톱': 7984, '튀': 7985, '펐': 7986, '겉': 7987, '쁨': 7988, '됩': 7989, '늦': 7990, '냈': 7991, '찝': 7992, '굉': 7993, '똑': 7994, '픽': 7995, '랐': 7996, '떻': 7997, '깊': 7998, '렸': 7999}\n",
            "\n"
          ]
        }
      ]
    },
    {
      "cell_type": "markdown",
      "source": [
        "### 3. Sentencepiece 모델 비교\n",
        "\n",
        "#### 연산속도에 어떠한 차이가 있을까?"
      ],
      "metadata": {
        "id": "EqaTPuPUWB-E"
      }
    },
    {
      "cell_type": "code",
      "source": [
        "text = \"\"\"장해준 형사는 한국어를 쓰고, 그 로맨스 상대 송서래는 중국어를 쓴다. 서래의 한국말은 꽤 수준급이지만 그것을 원어로 쓰는 해준에 비해선 서툴다. 이런 서래를 배려해 해준은 어려운 단어를 ‘쉽게 풀어’ 설명해준다.\n",
        "    언어가 다르지만 마음의 결은 같은 사람들끼리의 대화는 역시나 매력적이다. 한자로 축약된 단어를 ‘쉽게' 풀어 말할수록 오히려 더 원초적이고 솔직해진다. ‘외상성 두부 손상'은 ‘머리가 깨졌다'는 잔인한 말이 되고, ‘방수'는 ‘물을 막아 준다'는 단순한 뜻이 된다.\n",
        "    이런 해준의 친절은 곧 서래에 대한 무의식적 호감이다. 상대를 배려하기 위해 애쓰는 사랑의 몸짓은 너무나 솔직하고 투명하다. 어려운 단어에 갸웃하는 서래와 그것을 설명해주는 해준 사이의 공기. 뜻을 이해하는 동안의 적막 속 말없이 서로를 응시했던 시간. 그것이 모여 두 사람의 감정이 쌓여 간다.\n",
        "    영화의 대미인 ‘붕괴'라는 단어 또한 마찬가지다. “무너지고 깨어짐.” 두 사람의 관계, 혹은 해준의 일방적인 사랑이 얼마나 처참히 막을 내렸는지 알려주는 단어다. 그냥 ‘내가 붕괴됐어.’보단 ‘내가 무너지고 깨져 버렸어.’라는 말이 그 고통의 깊이를 더 절절히 담아낸다. 서래는 ‘붕괴'의 뜻을 사전에 찾아보고 나서야 해준이 자신을 얼마나 사랑했는지 알게 된다. 때문에 그녀에게 ‘붕괴'는 곧 ‘사랑'과 뜻을 같이한다.\n",
        "    번역의 오차를 사용하는 것 또한 엄청난 쾌감을 준다. 중국어로 하는 서래의 혼잣말은 “그 친절한 형사의 ‘심장'을 가져다주세요.”였다. 하지만 번역기의 한계였을 뿐. 사실 그 말의 원래 뜻은 ‘심장'이 아니라 ‘마음’이었다. ‘심장'이란 오번역 덕분에 해준은 심장을 바칠 각오를 하고 그녀를 사랑한다. 이 관점에서 영화를 한 마디로 축약하자면 이렇게 말할 수도 있겠다.\n",
        "  ‘심장까지 내어줄 각오를 했던 남자와 한 번도 가져보지 못한 마음이 필요했던 여자.’아무래도 탁월한 언어학자 한 분이 이 영화를 주제로 논문 한 편 써주시길 소망한다. 아주 멋진 글이 나올 거라 확신한다.\n",
        " \"\"\""
      ],
      "metadata": {
        "id": "03s3Ic-Kdrn0"
      },
      "execution_count": null,
      "outputs": []
    },
    {
      "cell_type": "code",
      "source": [
        "def test_tokenizer(sentencepiece_n):\n",
        "  if sentencepiece_n == \"nsmc_spm.model\":\n",
        "    s = spm.SentencePieceProcessor()\n",
        "    s.Load('nsmc_spm.model')\n",
        "    s.encode('text')\n",
        "  elif sentencepiece_n == \"nsmc_spm_2.model\":\n",
        "    s = spm.SentencePieceProcessor()\n",
        "    s.Load('nsmc_spm_2.model')\n",
        "    s.encode('text')\n",
        "  else:\n",
        "    s = spm.SentencePieceProcessor()\n",
        "    s.Load('nsmc_spm_3.model')\n",
        "    s.encode('text')\n",
        "  \n",
        "  return sentencepiece_n"
      ],
      "metadata": {
        "id": "x8JAvBvAPujV"
      },
      "execution_count": null,
      "outputs": []
    },
    {
      "cell_type": "code",
      "source": [
        "time_list = []\n",
        "tokenizer_list = [\"nsmc_spm.model\", \"nsmc_spm_2.model\", \"nsmc_spm_3.model\"]\n",
        "\n",
        "for i in tokenizer_list:\n",
        "    start = time.time()\n",
        "    test_tokenizer(i)    \n",
        "    time_required = time.time() - start\n",
        "    tokenizer_and_time = i, time_required\n",
        "    \n",
        "    time_list.append(tokenizer_and_time)\n",
        "\n",
        "tokenizer_time = pd.DataFrame(time_list, columns = ['Tokenizer', 'Tokenizer_time'])"
      ],
      "metadata": {
        "id": "IcOYUuLsXo-D"
      },
      "execution_count": null,
      "outputs": []
    },
    {
      "cell_type": "code",
      "source": [
        "tokenizer_time"
      ],
      "metadata": {
        "colab": {
          "base_uri": "https://localhost:8080/",
          "height": 143
        },
        "id": "kP8WqpjsbfkI",
        "outputId": "26e8a6b7-7f3d-48b7-ef05-174357fb11e8"
      },
      "execution_count": null,
      "outputs": [
        {
          "output_type": "execute_result",
          "data": {
            "text/plain": [
              "          Tokenizer  Tokenizer_time\n",
              "0    nsmc_spm.model        0.020905\n",
              "1  nsmc_spm_2.model        0.039304\n",
              "2  nsmc_spm_3.model        0.017693"
            ],
            "text/html": [
              "\n",
              "  <div id=\"df-894c1aa4-bbc0-4f7b-8df5-45ebd46947ef\">\n",
              "    <div class=\"colab-df-container\">\n",
              "      <div>\n",
              "<style scoped>\n",
              "    .dataframe tbody tr th:only-of-type {\n",
              "        vertical-align: middle;\n",
              "    }\n",
              "\n",
              "    .dataframe tbody tr th {\n",
              "        vertical-align: top;\n",
              "    }\n",
              "\n",
              "    .dataframe thead th {\n",
              "        text-align: right;\n",
              "    }\n",
              "</style>\n",
              "<table border=\"1\" class=\"dataframe\">\n",
              "  <thead>\n",
              "    <tr style=\"text-align: right;\">\n",
              "      <th></th>\n",
              "      <th>Tokenizer</th>\n",
              "      <th>Tokenizer_time</th>\n",
              "    </tr>\n",
              "  </thead>\n",
              "  <tbody>\n",
              "    <tr>\n",
              "      <th>0</th>\n",
              "      <td>nsmc_spm.model</td>\n",
              "      <td>0.020905</td>\n",
              "    </tr>\n",
              "    <tr>\n",
              "      <th>1</th>\n",
              "      <td>nsmc_spm_2.model</td>\n",
              "      <td>0.039304</td>\n",
              "    </tr>\n",
              "    <tr>\n",
              "      <th>2</th>\n",
              "      <td>nsmc_spm_3.model</td>\n",
              "      <td>0.017693</td>\n",
              "    </tr>\n",
              "  </tbody>\n",
              "</table>\n",
              "</div>\n",
              "      <button class=\"colab-df-convert\" onclick=\"convertToInteractive('df-894c1aa4-bbc0-4f7b-8df5-45ebd46947ef')\"\n",
              "              title=\"Convert this dataframe to an interactive table.\"\n",
              "              style=\"display:none;\">\n",
              "        \n",
              "  <svg xmlns=\"http://www.w3.org/2000/svg\" height=\"24px\"viewBox=\"0 0 24 24\"\n",
              "       width=\"24px\">\n",
              "    <path d=\"M0 0h24v24H0V0z\" fill=\"none\"/>\n",
              "    <path d=\"M18.56 5.44l.94 2.06.94-2.06 2.06-.94-2.06-.94-.94-2.06-.94 2.06-2.06.94zm-11 1L8.5 8.5l.94-2.06 2.06-.94-2.06-.94L8.5 2.5l-.94 2.06-2.06.94zm10 10l.94 2.06.94-2.06 2.06-.94-2.06-.94-.94-2.06-.94 2.06-2.06.94z\"/><path d=\"M17.41 7.96l-1.37-1.37c-.4-.4-.92-.59-1.43-.59-.52 0-1.04.2-1.43.59L10.3 9.45l-7.72 7.72c-.78.78-.78 2.05 0 2.83L4 21.41c.39.39.9.59 1.41.59.51 0 1.02-.2 1.41-.59l7.78-7.78 2.81-2.81c.8-.78.8-2.07 0-2.86zM5.41 20L4 18.59l7.72-7.72 1.47 1.35L5.41 20z\"/>\n",
              "  </svg>\n",
              "      </button>\n",
              "      \n",
              "  <style>\n",
              "    .colab-df-container {\n",
              "      display:flex;\n",
              "      flex-wrap:wrap;\n",
              "      gap: 12px;\n",
              "    }\n",
              "\n",
              "    .colab-df-convert {\n",
              "      background-color: #E8F0FE;\n",
              "      border: none;\n",
              "      border-radius: 50%;\n",
              "      cursor: pointer;\n",
              "      display: none;\n",
              "      fill: #1967D2;\n",
              "      height: 32px;\n",
              "      padding: 0 0 0 0;\n",
              "      width: 32px;\n",
              "    }\n",
              "\n",
              "    .colab-df-convert:hover {\n",
              "      background-color: #E2EBFA;\n",
              "      box-shadow: 0px 1px 2px rgba(60, 64, 67, 0.3), 0px 1px 3px 1px rgba(60, 64, 67, 0.15);\n",
              "      fill: #174EA6;\n",
              "    }\n",
              "\n",
              "    [theme=dark] .colab-df-convert {\n",
              "      background-color: #3B4455;\n",
              "      fill: #D2E3FC;\n",
              "    }\n",
              "\n",
              "    [theme=dark] .colab-df-convert:hover {\n",
              "      background-color: #434B5C;\n",
              "      box-shadow: 0px 1px 3px 1px rgba(0, 0, 0, 0.15);\n",
              "      filter: drop-shadow(0px 1px 2px rgba(0, 0, 0, 0.3));\n",
              "      fill: #FFFFFF;\n",
              "    }\n",
              "  </style>\n",
              "\n",
              "      <script>\n",
              "        const buttonEl =\n",
              "          document.querySelector('#df-894c1aa4-bbc0-4f7b-8df5-45ebd46947ef button.colab-df-convert');\n",
              "        buttonEl.style.display =\n",
              "          google.colab.kernel.accessAllowed ? 'block' : 'none';\n",
              "\n",
              "        async function convertToInteractive(key) {\n",
              "          const element = document.querySelector('#df-894c1aa4-bbc0-4f7b-8df5-45ebd46947ef');\n",
              "          const dataTable =\n",
              "            await google.colab.kernel.invokeFunction('convertToInteractive',\n",
              "                                                     [key], {});\n",
              "          if (!dataTable) return;\n",
              "\n",
              "          const docLinkHtml = 'Like what you see? Visit the ' +\n",
              "            '<a target=\"_blank\" href=https://colab.research.google.com/notebooks/data_table.ipynb>data table notebook</a>'\n",
              "            + ' to learn more about interactive tables.';\n",
              "          element.innerHTML = '';\n",
              "          dataTable['output_type'] = 'display_data';\n",
              "          await google.colab.output.renderOutput(dataTable, element);\n",
              "          const docLink = document.createElement('div');\n",
              "          docLink.innerHTML = docLinkHtml;\n",
              "          element.appendChild(docLink);\n",
              "        }\n",
              "      </script>\n",
              "    </div>\n",
              "  </div>\n",
              "  "
            ]
          },
          "metadata": {},
          "execution_count": 32
        }
      ]
    },
    {
      "cell_type": "markdown",
      "source": [
        "- 사실 유의미한 차이라고 보기에는 어렵지만, vocab_size가 크고, bpe방식의 sentencepiece 모델이 연산속도가 빠른 것을 확인할 수 있음"
      ],
      "metadata": {
        "id": "i9YpsYy3xjJ4"
      }
    },
    {
      "cell_type": "markdown",
      "source": [
        "### 4. Sentencepiece를 통한 토크나이징을 NSMC 감정분석\n",
        "- vocab_size=16000, model_type= bpe 모델 사용"
      ],
      "metadata": {
        "id": "3158pU0dfU9D"
      }
    },
    {
      "cell_type": "code",
      "source": [
        "s = spm.SentencePieceProcessor()\n",
        "s.Load('nsmc_spm_3.model')"
      ],
      "metadata": {
        "colab": {
          "base_uri": "https://localhost:8080/"
        },
        "id": "bif8jG51gNaF",
        "outputId": "18959492-5822-4237-ffd8-f2a126e44bd0"
      },
      "execution_count": null,
      "outputs": [
        {
          "output_type": "execute_result",
          "data": {
            "text/plain": [
              "True"
            ]
          },
          "metadata": {},
          "execution_count": 33
        }
      ]
    },
    {
      "cell_type": "code",
      "source": [
        "tensor, word_index, index_word = sp_tokenize(s, filtered_corpus['document'])"
      ],
      "metadata": {
        "id": "IrbB-Mm1I39X"
      },
      "execution_count": null,
      "outputs": []
    },
    {
      "cell_type": "code",
      "source": [
        "tensor"
      ],
      "metadata": {
        "colab": {
          "base_uri": "https://localhost:8080/"
        },
        "id": "nc8kr3J3I8sl",
        "outputId": "2c3ff568-aa04-4c28-e6b3-c249bea9427b"
      },
      "execution_count": null,
      "outputs": [
        {
          "output_type": "execute_result",
          "data": {
            "text/plain": [
              "array([[    0,     0,     0, ...,  7623,   810,    12],\n",
              "       [    0,     0,     0, ...,     3,    59, 14284],\n",
              "       [    0,     0,     0, ...,  2058,    52,  6146],\n",
              "       ...,\n",
              "       [    0,     0,     0, ..., 14481,  1241, 14284],\n",
              "       [    0,     0,     0, ...,  1438,  2432,    72],\n",
              "       [    0,     0,     0, ..., 14539, 14289, 14539]], dtype=int32)"
            ]
          },
          "metadata": {},
          "execution_count": 35
        }
      ]
    },
    {
      "cell_type": "code",
      "source": [
        "from collections import Counter\n",
        "from tensorflow import keras\n",
        "from tensorflow.keras import Input, Model\n",
        "import tensorflow as tf\n",
        "from tensorflow.keras.models import Sequential\n",
        "from tensorflow.keras.models import load_model\n",
        "from tensorflow.keras.preprocessing.sequence import pad_sequences\n",
        "from tensorflow.keras.layers import Dense, Embedding, Bidirectional, LSTM, Concatenate, Dropout"
      ],
      "metadata": {
        "id": "-poNTp51geep"
      },
      "execution_count": null,
      "outputs": []
    },
    {
      "cell_type": "code",
      "source": [
        "from sklearn.model_selection import train_test_split\n",
        "\n",
        "filtered_label = np.array(filtered_corpus['label'])\n",
        "x_train, x_val, y_train, y_val = train_test_split(tensor, filtered_label, test_size=0.2)\n",
        "x_train, x_test, y_train, y_test = train_test_split(x_train, y_train, test_size=0.2)"
      ],
      "metadata": {
        "id": "0MQbaZN4kirG"
      },
      "execution_count": null,
      "outputs": []
    },
    {
      "cell_type": "markdown",
      "source": [
        "### LSTM BASELINE MODEL 구축"
      ],
      "metadata": {
        "id": "v9Zgy7myk1SS"
      }
    },
    {
      "cell_type": "code",
      "source": [
        "vocab_size = 16000\n",
        "word_vector_dim = 64  "
      ],
      "metadata": {
        "id": "sTN9S2DVlEWY"
      },
      "execution_count": null,
      "outputs": []
    },
    {
      "cell_type": "code",
      "source": [
        "model = Sequential()\n",
        "model.add(Embedding(vocab_size, word_vector_dim, input_shape=(None,)))\n",
        "model.add(LSTM(128, dropout=0.1, recurrent_dropout=0.1))\n",
        "model.add(Dense(1, activation='sigmoid'))\n",
        "model.compile(loss='binary_crossentropy', optimizer='adam', metrics=['acc'])\n",
        "hist = model.fit(x_train, y_train, validation_data=(x_val, y_val), epochs=5)"
      ],
      "metadata": {
        "colab": {
          "base_uri": "https://localhost:8080/"
        },
        "id": "PtH-y9p0kyIl",
        "outputId": "f7520dd8-e9f7-42c6-c57c-81b3701d1a97"
      },
      "execution_count": null,
      "outputs": [
        {
          "output_type": "stream",
          "name": "stdout",
          "text": [
            "WARNING:tensorflow:Layer lstm will not use cuDNN kernels since it doesn't meet the criteria. It will use a generic GPU kernel as fallback when running on GPU.\n",
            "Epoch 1/5\n",
            "3408/3408 [==============================] - 839s 245ms/step - loss: 0.3850 - acc: 0.8254 - val_loss: 0.3267 - val_acc: 0.8577\n",
            "Epoch 2/5\n",
            "3408/3408 [==============================] - 822s 241ms/step - loss: 0.2757 - acc: 0.8830 - val_loss: 0.3266 - val_acc: 0.8589\n",
            "Epoch 3/5\n",
            "3408/3408 [==============================] - 814s 239ms/step - loss: 0.2236 - acc: 0.9052 - val_loss: 0.3445 - val_acc: 0.8571\n",
            "Epoch 4/5\n",
            "3408/3408 [==============================] - 811s 238ms/step - loss: 0.1767 - acc: 0.9281 - val_loss: 0.3717 - val_acc: 0.8536\n",
            "Epoch 5/5\n",
            "3408/3408 [==============================] - 809s 237ms/step - loss: 0.1312 - acc: 0.9493 - val_loss: 0.4326 - val_acc: 0.8461\n"
          ]
        }
      ]
    },
    {
      "cell_type": "code",
      "source": [
        "results = model.evaluate(x_test,  y_test, verbose=2)\n",
        "print(results)"
      ],
      "metadata": {
        "colab": {
          "base_uri": "https://localhost:8080/"
        },
        "id": "eNwShGZLk4ou",
        "outputId": "6d598ea6-8add-43d4-f15a-e401e34b52b7"
      },
      "execution_count": null,
      "outputs": [
        {
          "output_type": "stream",
          "name": "stdout",
          "text": [
            "852/852 - 15s - loss: 0.4241 - acc: 0.8458 - 15s/epoch - 17ms/step\n",
            "[0.42411887645721436, 0.8457813858985901]\n"
          ]
        }
      ]
    },
    {
      "cell_type": "markdown",
      "source": [
        "### 5. Sentencepiece 성능비교\n",
        "#### - 위의 모델은 꽤나 성능이 준수하게 나옴을 확인. 그렇다면 vocab_size=8000, model_type=unigram인 sentencepiece는 어떨까?"
      ],
      "metadata": {
        "id": "r7TUTj8Ox3Kc"
      }
    },
    {
      "cell_type": "code",
      "source": [
        "#model_type = unigram, vocab = 8000\n",
        "l = spm.SentencePieceProcessor()\n",
        "l.Load('nsmc_spm.model')\n",
        "tensor, word_index, index_word = sp_tokenize(l, filtered_corpus['document'])"
      ],
      "metadata": {
        "id": "guRs54ZCLLvI"
      },
      "execution_count": null,
      "outputs": []
    },
    {
      "cell_type": "code",
      "source": [
        "from sklearn.model_selection import train_test_split\n",
        "f\n",
        "filtered_label = np.array(filtered_corpus['label'])\n",
        "x_train, x_val, y_train, y_val = train_test_split(tensor, filtered_label, test_size=0.2)\n",
        "x_train, x_test, y_train, y_test = train_test_split(x_train, y_train, test_size=0.2)"
      ],
      "metadata": {
        "id": "Se_cuECXLS2j"
      },
      "execution_count": null,
      "outputs": []
    },
    {
      "cell_type": "code",
      "source": [
        "vocab_size = 8000\n",
        "word_vector_dim = 64  "
      ],
      "metadata": {
        "id": "oNqgQ2ZDDbr7"
      },
      "execution_count": null,
      "outputs": []
    },
    {
      "cell_type": "code",
      "source": [
        "model = Sequential()\n",
        "model.add(Embedding(vocab_size, word_vector_dim, input_shape=(None,)))\n",
        "model.add(LSTM(128, dropout=0.1, recurrent_dropout=0.1))\n",
        "model.add(Dense(1, activation='sigmoid'))\n",
        "model.compile(loss='binary_crossentropy', optimizer='adam', metrics=['acc'])\n",
        "hist = model.fit(x_train, y_train, validation_data=(x_val, y_val), epochs=5)"
      ],
      "metadata": {
        "id": "PtJtAOyRfkd8",
        "colab": {
          "base_uri": "https://localhost:8080/"
        },
        "outputId": "b4dcfd37-c09c-4ce9-bc78-9a1aabb2fae8"
      },
      "execution_count": null,
      "outputs": [
        {
          "output_type": "stream",
          "name": "stdout",
          "text": [
            "WARNING:tensorflow:Layer lstm_1 will not use cuDNN kernels since it doesn't meet the criteria. It will use a generic GPU kernel as fallback when running on GPU.\n",
            "Epoch 1/5\n",
            "3408/3408 [==============================] - 820s 240ms/step - loss: 0.3878 - acc: 0.8226 - val_loss: 0.3330 - val_acc: 0.8528\n",
            "Epoch 2/5\n",
            "3408/3408 [==============================] - 825s 242ms/step - loss: 0.3001 - acc: 0.8702 - val_loss: 0.3265 - val_acc: 0.8598\n",
            "Epoch 3/5\n",
            "3408/3408 [==============================] - 817s 240ms/step - loss: 0.2630 - acc: 0.8880 - val_loss: 0.3207 - val_acc: 0.8607\n",
            "Epoch 4/5\n",
            "3408/3408 [==============================] - 815s 239ms/step - loss: 0.2283 - acc: 0.9043 - val_loss: 0.3414 - val_acc: 0.8564\n",
            "Epoch 5/5\n",
            "3408/3408 [==============================] - 816s 239ms/step - loss: 0.1947 - acc: 0.9197 - val_loss: 0.3746 - val_acc: 0.8548\n"
          ]
        }
      ]
    },
    {
      "cell_type": "code",
      "source": [
        "results = model.evaluate(x_test,  y_test, verbose=2)\n",
        "print(results)"
      ],
      "metadata": {
        "colab": {
          "base_uri": "https://localhost:8080/"
        },
        "id": "vG76RXD0PEGD",
        "outputId": "7e35235f-cf9a-4bae-c778-0e6d4d862835"
      },
      "execution_count": null,
      "outputs": [
        {
          "output_type": "stream",
          "name": "stdout",
          "text": [
            "852/852 - 15s - loss: 0.3519 - acc: 0.8464 - 15s/epoch - 17ms/step\n",
            "[0.35191911458969116, 0.8464049696922302]\n"
          ]
        }
      ]
    },
    {
      "cell_type": "markdown",
      "source": [
        "### 마찬가지로 성능이 준수하기는 하나, 위의 토큰화 방식이 더 잘 작동함을 확인"
      ],
      "metadata": {
        "id": "bNN5il6wyHKN"
      }
    },
    {
      "cell_type": "markdown",
      "source": [
        "# 6. Konlpy Tokenize 연산속도 비교"
      ],
      "metadata": {
        "id": "DwrjT9WPl1Vy"
      }
    },
    {
      "cell_type": "code",
      "source": [
        "#Mecab 설치\n",
        "%%capture\n",
        "!curl -s https://raw.githubusercontent.com/teddylee777/machine-learning/master/99-Misc/01-Colab/mecab-colab.sh | bash"
      ],
      "metadata": {
        "id": "4aJ4ISiwlIqT"
      },
      "execution_count": null,
      "outputs": []
    },
    {
      "cell_type": "code",
      "source": [
        "import konlpy\n",
        "import konlpy.tag"
      ],
      "metadata": {
        "id": "yh3qAICunSok"
      },
      "execution_count": null,
      "outputs": []
    },
    {
      "cell_type": "code",
      "source": [
        "from konlpy.tag import Okt, Komoran, Mecab, Hannanum, Kkma"
      ],
      "metadata": {
        "id": "URDDChzinu8B"
      },
      "execution_count": null,
      "outputs": []
    },
    {
      "cell_type": "code",
      "source": [
        "def get_tokenizer(tokenizer_name):\n",
        "    if tokenizer_name == \"komoran\":\n",
        "        tokenizer = Komoran()\n",
        "    elif tokenizer_name == \"okt\":\n",
        "        tokenizer = Okt()\n",
        "    elif tokenizer_name == \"mecab\":\n",
        "        tokenizer = Mecab()\n",
        "    elif tokenizer_name == \"hannanum\":\n",
        "        tokenizer = Hannanum()\n",
        "    elif tokenizer_name == \"kkma\":\n",
        "        tokenizer = Kkma()\n",
        "    else:\n",
        "        tokenizer = Mecab()\n",
        "    return tokenizer"
      ],
      "metadata": {
        "id": "WD2_o_ZznvlK"
      },
      "execution_count": null,
      "outputs": []
    },
    {
      "cell_type": "code",
      "source": [
        "# 위와 동일한 텍스트로 연산속도비교!\n",
        "text = \"\"\"장해준 형사는 한국어를 쓰고, 그 로맨스 상대 송서래는 중국어를 쓴다. 서래의 한국말은 꽤 수준급이지만 그것을 원어로 쓰는 해준에 비해선 서툴다. 이런 서래를 배려해 해준은 어려운 단어를 ‘쉽게 풀어’ 설명해준다.\n",
        "    언어가 다르지만 마음의 결은 같은 사람들끼리의 대화는 역시나 매력적이다. 한자로 축약된 단어를 ‘쉽게' 풀어 말할수록 오히려 더 원초적이고 솔직해진다. ‘외상성 두부 손상'은 ‘머리가 깨졌다'는 잔인한 말이 되고, ‘방수'는 ‘물을 막아 준다'는 단순한 뜻이 된다.\n",
        "    이런 해준의 친절은 곧 서래에 대한 무의식적 호감이다. 상대를 배려하기 위해 애쓰는 사랑의 몸짓은 너무나 솔직하고 투명하다. 어려운 단어에 갸웃하는 서래와 그것을 설명해주는 해준 사이의 공기. 뜻을 이해하는 동안의 적막 속 말없이 서로를 응시했던 시간. 그것이 모여 두 사람의 감정이 쌓여 간다.\n",
        "    영화의 대미인 ‘붕괴'라는 단어 또한 마찬가지다. “무너지고 깨어짐.” 두 사람의 관계, 혹은 해준의 일방적인 사랑이 얼마나 처참히 막을 내렸는지 알려주는 단어다. 그냥 ‘내가 붕괴됐어.’보단 ‘내가 무너지고 깨져 버렸어.’라는 말이 그 고통의 깊이를 더 절절히 담아낸다. 서래는 ‘붕괴'의 뜻을 사전에 찾아보고 나서야 해준이 자신을 얼마나 사랑했는지 알게 된다. 때문에 그녀에게 ‘붕괴'는 곧 ‘사랑'과 뜻을 같이한다.\n",
        "    번역의 오차를 사용하는 것 또한 엄청난 쾌감을 준다. 중국어로 하는 서래의 혼잣말은 “그 친절한 형사의 ‘심장'을 가져다주세요.”였다. 하지만 번역기의 한계였을 뿐. 사실 그 말의 원래 뜻은 ‘심장'이 아니라 ‘마음’이었다. ‘심장'이란 오번역 덕분에 해준은 심장을 바칠 각오를 하고 그녀를 사랑한다. 이 관점에서 영화를 한 마디로 축약하자면 이렇게 말할 수도 있겠다.\n",
        "  ‘심장까지 내어줄 각오를 했던 남자와 한 번도 가져보지 못한 마음이 필요했던 여자.’아무래도 탁월한 언어학자 한 분이 이 영화를 주제로 논문 한 편 써주시길 소망한다. 아주 멋진 글이 나올 거라 확신한다.\n",
        " \"\"\""
      ],
      "metadata": {
        "id": "IyNJhbuNwZGx"
      },
      "execution_count": null,
      "outputs": []
    },
    {
      "cell_type": "code",
      "source": [
        "import time\n",
        "import pandas as pd\n",
        "\n",
        "time_list = []\n",
        "tokenizer_list = [\"komoran\", \"okt\", \"mecab\", \"hannanum\", \"kkma\"]\n",
        "\n",
        "for i in tokenizer_list:\n",
        "    start = time.time()\n",
        "    tokenizer = get_tokenizer(i)\n",
        "    tokenizer.morphs(text)\n",
        "    \n",
        "    time_required = time.time() - start\n",
        "    tokenizer_and_time = i, time_required\n",
        "    \n",
        "    time_list.append(tokenizer_and_time)\n",
        "\n",
        "Konlpy_Tokenizer_time = pd.DataFrame(time_list, columns = ['Tokenizer', 'Tokenizer_time'])\n"
      ],
      "metadata": {
        "id": "5mG88k8un3qt"
      },
      "execution_count": null,
      "outputs": []
    },
    {
      "cell_type": "code",
      "source": [
        "Konlpy_Tokenizer_time"
      ],
      "metadata": {
        "id": "bh9elfX8oDaM",
        "colab": {
          "base_uri": "https://localhost:8080/",
          "height": 206
        },
        "outputId": "abb1b9a3-166a-483f-c223-83da04f90248"
      },
      "execution_count": null,
      "outputs": [
        {
          "output_type": "execute_result",
          "data": {
            "text/plain": [
              "  Tokenizer  Tokenizer_time\n",
              "0   komoran        2.006054\n",
              "1       okt        0.012535\n",
              "2     mecab        0.001498\n",
              "3  hannanum        0.532593\n",
              "4      kkma        0.105328"
            ],
            "text/html": [
              "\n",
              "  <div id=\"df-53ed040e-5892-4266-9e90-fca2a4ec42a1\">\n",
              "    <div class=\"colab-df-container\">\n",
              "      <div>\n",
              "<style scoped>\n",
              "    .dataframe tbody tr th:only-of-type {\n",
              "        vertical-align: middle;\n",
              "    }\n",
              "\n",
              "    .dataframe tbody tr th {\n",
              "        vertical-align: top;\n",
              "    }\n",
              "\n",
              "    .dataframe thead th {\n",
              "        text-align: right;\n",
              "    }\n",
              "</style>\n",
              "<table border=\"1\" class=\"dataframe\">\n",
              "  <thead>\n",
              "    <tr style=\"text-align: right;\">\n",
              "      <th></th>\n",
              "      <th>Tokenizer</th>\n",
              "      <th>Tokenizer_time</th>\n",
              "    </tr>\n",
              "  </thead>\n",
              "  <tbody>\n",
              "    <tr>\n",
              "      <th>0</th>\n",
              "      <td>komoran</td>\n",
              "      <td>2.006054</td>\n",
              "    </tr>\n",
              "    <tr>\n",
              "      <th>1</th>\n",
              "      <td>okt</td>\n",
              "      <td>0.012535</td>\n",
              "    </tr>\n",
              "    <tr>\n",
              "      <th>2</th>\n",
              "      <td>mecab</td>\n",
              "      <td>0.001498</td>\n",
              "    </tr>\n",
              "    <tr>\n",
              "      <th>3</th>\n",
              "      <td>hannanum</td>\n",
              "      <td>0.532593</td>\n",
              "    </tr>\n",
              "    <tr>\n",
              "      <th>4</th>\n",
              "      <td>kkma</td>\n",
              "      <td>0.105328</td>\n",
              "    </tr>\n",
              "  </tbody>\n",
              "</table>\n",
              "</div>\n",
              "      <button class=\"colab-df-convert\" onclick=\"convertToInteractive('df-53ed040e-5892-4266-9e90-fca2a4ec42a1')\"\n",
              "              title=\"Convert this dataframe to an interactive table.\"\n",
              "              style=\"display:none;\">\n",
              "        \n",
              "  <svg xmlns=\"http://www.w3.org/2000/svg\" height=\"24px\"viewBox=\"0 0 24 24\"\n",
              "       width=\"24px\">\n",
              "    <path d=\"M0 0h24v24H0V0z\" fill=\"none\"/>\n",
              "    <path d=\"M18.56 5.44l.94 2.06.94-2.06 2.06-.94-2.06-.94-.94-2.06-.94 2.06-2.06.94zm-11 1L8.5 8.5l.94-2.06 2.06-.94-2.06-.94L8.5 2.5l-.94 2.06-2.06.94zm10 10l.94 2.06.94-2.06 2.06-.94-2.06-.94-.94-2.06-.94 2.06-2.06.94z\"/><path d=\"M17.41 7.96l-1.37-1.37c-.4-.4-.92-.59-1.43-.59-.52 0-1.04.2-1.43.59L10.3 9.45l-7.72 7.72c-.78.78-.78 2.05 0 2.83L4 21.41c.39.39.9.59 1.41.59.51 0 1.02-.2 1.41-.59l7.78-7.78 2.81-2.81c.8-.78.8-2.07 0-2.86zM5.41 20L4 18.59l7.72-7.72 1.47 1.35L5.41 20z\"/>\n",
              "  </svg>\n",
              "      </button>\n",
              "      \n",
              "  <style>\n",
              "    .colab-df-container {\n",
              "      display:flex;\n",
              "      flex-wrap:wrap;\n",
              "      gap: 12px;\n",
              "    }\n",
              "\n",
              "    .colab-df-convert {\n",
              "      background-color: #E8F0FE;\n",
              "      border: none;\n",
              "      border-radius: 50%;\n",
              "      cursor: pointer;\n",
              "      display: none;\n",
              "      fill: #1967D2;\n",
              "      height: 32px;\n",
              "      padding: 0 0 0 0;\n",
              "      width: 32px;\n",
              "    }\n",
              "\n",
              "    .colab-df-convert:hover {\n",
              "      background-color: #E2EBFA;\n",
              "      box-shadow: 0px 1px 2px rgba(60, 64, 67, 0.3), 0px 1px 3px 1px rgba(60, 64, 67, 0.15);\n",
              "      fill: #174EA6;\n",
              "    }\n",
              "\n",
              "    [theme=dark] .colab-df-convert {\n",
              "      background-color: #3B4455;\n",
              "      fill: #D2E3FC;\n",
              "    }\n",
              "\n",
              "    [theme=dark] .colab-df-convert:hover {\n",
              "      background-color: #434B5C;\n",
              "      box-shadow: 0px 1px 3px 1px rgba(0, 0, 0, 0.15);\n",
              "      filter: drop-shadow(0px 1px 2px rgba(0, 0, 0, 0.3));\n",
              "      fill: #FFFFFF;\n",
              "    }\n",
              "  </style>\n",
              "\n",
              "      <script>\n",
              "        const buttonEl =\n",
              "          document.querySelector('#df-53ed040e-5892-4266-9e90-fca2a4ec42a1 button.colab-df-convert');\n",
              "        buttonEl.style.display =\n",
              "          google.colab.kernel.accessAllowed ? 'block' : 'none';\n",
              "\n",
              "        async function convertToInteractive(key) {\n",
              "          const element = document.querySelector('#df-53ed040e-5892-4266-9e90-fca2a4ec42a1');\n",
              "          const dataTable =\n",
              "            await google.colab.kernel.invokeFunction('convertToInteractive',\n",
              "                                                     [key], {});\n",
              "          if (!dataTable) return;\n",
              "\n",
              "          const docLinkHtml = 'Like what you see? Visit the ' +\n",
              "            '<a target=\"_blank\" href=https://colab.research.google.com/notebooks/data_table.ipynb>data table notebook</a>'\n",
              "            + ' to learn more about interactive tables.';\n",
              "          element.innerHTML = '';\n",
              "          dataTable['output_type'] = 'display_data';\n",
              "          await google.colab.output.renderOutput(dataTable, element);\n",
              "          const docLink = document.createElement('div');\n",
              "          docLink.innerHTML = docLinkHtml;\n",
              "          element.appendChild(docLink);\n",
              "        }\n",
              "      </script>\n",
              "    </div>\n",
              "  </div>\n",
              "  "
            ]
          },
          "metadata": {},
          "execution_count": 94
        }
      ]
    },
    {
      "cell_type": "markdown",
      "source": [
        "- 여기서는 토큰화 연산속도가 비교적 크게 드러난다! "
      ],
      "metadata": {
        "id": "A-LfuOILyaeF"
      }
    },
    {
      "cell_type": "code",
      "source": [
        "tokenized_list = []\n",
        "\n",
        "for  i in tokenizer_list:\n",
        "  tokenizer = get_tokenizer(i)\n",
        "  tokenized = tokenizer.morphs('사이몬페그의 익살스런 연기가 돋보였던 영화!스파이더맨에서 늙어보이기만 했던 커스틴 던스트가 너무나도 이뻐보였다')\n",
        "  tokenized_list.append(tokenized)\n",
        "\n",
        "Konlpy_tokenized = pd.DataFrame({'tokneized_list':tokenized_list}, index=tokenizer_list)\n",
        "Konlpy_tokenized"
      ],
      "metadata": {
        "id": "CusRBZgRoEaO",
        "colab": {
          "base_uri": "https://localhost:8080/",
          "height": 206
        },
        "outputId": "c688b1f6-099f-4914-a4d4-d2a84d767b83"
      },
      "execution_count": null,
      "outputs": [
        {
          "output_type": "execute_result",
          "data": {
            "text/plain": [
              "                                             tokneized_list\n",
              "komoran   [사이몬페그의, 익살, 스럽, ㄴ, 연기, 가, 돋보이, 었, 던, 영화, !, 스...\n",
              "okt       [사이, 몬페, 그, 의, 익살스런, 연기, 가, 돋보였던, 영화, !, 스파이더맨...\n",
              "mecab     [사이몬페그, 의, 익살, 스런, 연기, 가, 돋보였, 던, 영화, !, 스파이더맨...\n",
              "hannanum  [사이몬페그, 의, 익살, 스런, 연기, 가, 돋보이, 었던, 영화, !, 스파이더...\n",
              "kkma      [사이몬페그, 의, 익살, 스럽, ㄴ, 연기, 가, 돋보이, 었, 더, ㄴ, 영화,..."
            ],
            "text/html": [
              "\n",
              "  <div id=\"df-9e05c124-0a73-4559-8eaa-63485f6a5957\">\n",
              "    <div class=\"colab-df-container\">\n",
              "      <div>\n",
              "<style scoped>\n",
              "    .dataframe tbody tr th:only-of-type {\n",
              "        vertical-align: middle;\n",
              "    }\n",
              "\n",
              "    .dataframe tbody tr th {\n",
              "        vertical-align: top;\n",
              "    }\n",
              "\n",
              "    .dataframe thead th {\n",
              "        text-align: right;\n",
              "    }\n",
              "</style>\n",
              "<table border=\"1\" class=\"dataframe\">\n",
              "  <thead>\n",
              "    <tr style=\"text-align: right;\">\n",
              "      <th></th>\n",
              "      <th>tokneized_list</th>\n",
              "    </tr>\n",
              "  </thead>\n",
              "  <tbody>\n",
              "    <tr>\n",
              "      <th>komoran</th>\n",
              "      <td>[사이몬페그의, 익살, 스럽, ㄴ, 연기, 가, 돋보이, 었, 던, 영화, !, 스...</td>\n",
              "    </tr>\n",
              "    <tr>\n",
              "      <th>okt</th>\n",
              "      <td>[사이, 몬페, 그, 의, 익살스런, 연기, 가, 돋보였던, 영화, !, 스파이더맨...</td>\n",
              "    </tr>\n",
              "    <tr>\n",
              "      <th>mecab</th>\n",
              "      <td>[사이몬페그, 의, 익살, 스런, 연기, 가, 돋보였, 던, 영화, !, 스파이더맨...</td>\n",
              "    </tr>\n",
              "    <tr>\n",
              "      <th>hannanum</th>\n",
              "      <td>[사이몬페그, 의, 익살, 스런, 연기, 가, 돋보이, 었던, 영화, !, 스파이더...</td>\n",
              "    </tr>\n",
              "    <tr>\n",
              "      <th>kkma</th>\n",
              "      <td>[사이몬페그, 의, 익살, 스럽, ㄴ, 연기, 가, 돋보이, 었, 더, ㄴ, 영화,...</td>\n",
              "    </tr>\n",
              "  </tbody>\n",
              "</table>\n",
              "</div>\n",
              "      <button class=\"colab-df-convert\" onclick=\"convertToInteractive('df-9e05c124-0a73-4559-8eaa-63485f6a5957')\"\n",
              "              title=\"Convert this dataframe to an interactive table.\"\n",
              "              style=\"display:none;\">\n",
              "        \n",
              "  <svg xmlns=\"http://www.w3.org/2000/svg\" height=\"24px\"viewBox=\"0 0 24 24\"\n",
              "       width=\"24px\">\n",
              "    <path d=\"M0 0h24v24H0V0z\" fill=\"none\"/>\n",
              "    <path d=\"M18.56 5.44l.94 2.06.94-2.06 2.06-.94-2.06-.94-.94-2.06-.94 2.06-2.06.94zm-11 1L8.5 8.5l.94-2.06 2.06-.94-2.06-.94L8.5 2.5l-.94 2.06-2.06.94zm10 10l.94 2.06.94-2.06 2.06-.94-2.06-.94-.94-2.06-.94 2.06-2.06.94z\"/><path d=\"M17.41 7.96l-1.37-1.37c-.4-.4-.92-.59-1.43-.59-.52 0-1.04.2-1.43.59L10.3 9.45l-7.72 7.72c-.78.78-.78 2.05 0 2.83L4 21.41c.39.39.9.59 1.41.59.51 0 1.02-.2 1.41-.59l7.78-7.78 2.81-2.81c.8-.78.8-2.07 0-2.86zM5.41 20L4 18.59l7.72-7.72 1.47 1.35L5.41 20z\"/>\n",
              "  </svg>\n",
              "      </button>\n",
              "      \n",
              "  <style>\n",
              "    .colab-df-container {\n",
              "      display:flex;\n",
              "      flex-wrap:wrap;\n",
              "      gap: 12px;\n",
              "    }\n",
              "\n",
              "    .colab-df-convert {\n",
              "      background-color: #E8F0FE;\n",
              "      border: none;\n",
              "      border-radius: 50%;\n",
              "      cursor: pointer;\n",
              "      display: none;\n",
              "      fill: #1967D2;\n",
              "      height: 32px;\n",
              "      padding: 0 0 0 0;\n",
              "      width: 32px;\n",
              "    }\n",
              "\n",
              "    .colab-df-convert:hover {\n",
              "      background-color: #E2EBFA;\n",
              "      box-shadow: 0px 1px 2px rgba(60, 64, 67, 0.3), 0px 1px 3px 1px rgba(60, 64, 67, 0.15);\n",
              "      fill: #174EA6;\n",
              "    }\n",
              "\n",
              "    [theme=dark] .colab-df-convert {\n",
              "      background-color: #3B4455;\n",
              "      fill: #D2E3FC;\n",
              "    }\n",
              "\n",
              "    [theme=dark] .colab-df-convert:hover {\n",
              "      background-color: #434B5C;\n",
              "      box-shadow: 0px 1px 3px 1px rgba(0, 0, 0, 0.15);\n",
              "      filter: drop-shadow(0px 1px 2px rgba(0, 0, 0, 0.3));\n",
              "      fill: #FFFFFF;\n",
              "    }\n",
              "  </style>\n",
              "\n",
              "      <script>\n",
              "        const buttonEl =\n",
              "          document.querySelector('#df-9e05c124-0a73-4559-8eaa-63485f6a5957 button.colab-df-convert');\n",
              "        buttonEl.style.display =\n",
              "          google.colab.kernel.accessAllowed ? 'block' : 'none';\n",
              "\n",
              "        async function convertToInteractive(key) {\n",
              "          const element = document.querySelector('#df-9e05c124-0a73-4559-8eaa-63485f6a5957');\n",
              "          const dataTable =\n",
              "            await google.colab.kernel.invokeFunction('convertToInteractive',\n",
              "                                                     [key], {});\n",
              "          if (!dataTable) return;\n",
              "\n",
              "          const docLinkHtml = 'Like what you see? Visit the ' +\n",
              "            '<a target=\"_blank\" href=https://colab.research.google.com/notebooks/data_table.ipynb>data table notebook</a>'\n",
              "            + ' to learn more about interactive tables.';\n",
              "          element.innerHTML = '';\n",
              "          dataTable['output_type'] = 'display_data';\n",
              "          await google.colab.output.renderOutput(dataTable, element);\n",
              "          const docLink = document.createElement('div');\n",
              "          docLink.innerHTML = docLinkHtml;\n",
              "          element.appendChild(docLink);\n",
              "        }\n",
              "      </script>\n",
              "    </div>\n",
              "  </div>\n",
              "  "
            ]
          },
          "metadata": {},
          "execution_count": 51
        }
      ]
    },
    {
      "cell_type": "code",
      "source": [
        "from google.colab import data_table\n",
        "data_table.DataTable(Konlpy_tokenized, include_index=True,  num_rows_per_page=10)"
      ],
      "metadata": {
        "id": "MWV_gTU11lg8",
        "colab": {
          "base_uri": "https://localhost:8080/",
          "height": 197
        },
        "outputId": "0f0b1362-0903-4972-9dd3-a76a5df70e4e"
      },
      "execution_count": null,
      "outputs": [
        {
          "output_type": "execute_result",
          "data": {
            "text/html": [
              "<div>\n",
              "<style scoped>\n",
              "    .dataframe tbody tr th:only-of-type {\n",
              "        vertical-align: middle;\n",
              "    }\n",
              "\n",
              "    .dataframe tbody tr th {\n",
              "        vertical-align: top;\n",
              "    }\n",
              "\n",
              "    .dataframe thead th {\n",
              "        text-align: right;\n",
              "    }\n",
              "</style>\n",
              "<table border=\"1\" class=\"dataframe\">\n",
              "  <thead>\n",
              "    <tr style=\"text-align: right;\">\n",
              "      <th></th>\n",
              "      <th>tokneized_list</th>\n",
              "    </tr>\n",
              "  </thead>\n",
              "  <tbody>\n",
              "    <tr>\n",
              "      <th>komoran</th>\n",
              "      <td>[사이몬페그의, 익살, 스럽, ㄴ, 연기, 가, 돋보이, 었, 던, 영화, !, 스...</td>\n",
              "    </tr>\n",
              "    <tr>\n",
              "      <th>okt</th>\n",
              "      <td>[사이, 몬페, 그, 의, 익살스런, 연기, 가, 돋보였던, 영화, !, 스파이더맨...</td>\n",
              "    </tr>\n",
              "    <tr>\n",
              "      <th>mecab</th>\n",
              "      <td>[사이몬페그, 의, 익살, 스런, 연기, 가, 돋보였, 던, 영화, !, 스파이더맨...</td>\n",
              "    </tr>\n",
              "    <tr>\n",
              "      <th>hannanum</th>\n",
              "      <td>[사이몬페그, 의, 익살, 스런, 연기, 가, 돋보이, 었던, 영화, !, 스파이더...</td>\n",
              "    </tr>\n",
              "    <tr>\n",
              "      <th>kkma</th>\n",
              "      <td>[사이몬페그, 의, 익살, 스럽, ㄴ, 연기, 가, 돋보이, 었, 더, ㄴ, 영화,...</td>\n",
              "    </tr>\n",
              "  </tbody>\n",
              "</table>\n",
              "</div>"
            ],
            "application/vnd.google.colaboratory.module+javascript": "\n      import \"https://ssl.gstatic.com/colaboratory/data_table/f872b2c2305463fd/data_table.js\";\n\n      window.createDataTable({\n        data: [[\"komoran\",\n[\"\\uc0ac\\uc774\\ubaac\\ud398\\uadf8\\uc758\", \"\\uc775\\uc0b4\", \"\\uc2a4\\ub7fd\", \"\\u3134\", \"\\uc5f0\\uae30\", \"\\uac00\", \"\\ub3cb\\ubcf4\\uc774\", \"\\uc5c8\", \"\\ub358\", \"\\uc601\\ud654\", \"!\", \"\\uc2a4\\ud30c\\uc774\\ub354\\ub9e8\", \"\\uc5d0\\uc11c\", \"\\ub299\", \"\\uc5b4\", \"\\ubcf4\\uc774\", \"\\uae30\", \"\\ub9cc\", \"\\ud558\", \"\\uc558\", \"\\ub358\", \"\\ucee4\\uc2a4\\ud2f4 \\ub358\\uc2a4\\ud2b8\", \"\\uac00\", \"\\ub108\\ubb34\\ub098\", \"\\ub3c4\", \"\\uc774\\ubed0\\ubcf4\\uc600\\ub2e4\"]],\n [\"okt\",\n[\"\\uc0ac\\uc774\", \"\\ubaac\\ud398\", \"\\uadf8\", \"\\uc758\", \"\\uc775\\uc0b4\\uc2a4\\ub7f0\", \"\\uc5f0\\uae30\", \"\\uac00\", \"\\ub3cb\\ubcf4\\uc600\\ub358\", \"\\uc601\\ud654\", \"!\", \"\\uc2a4\\ud30c\\uc774\\ub354\\ub9e8\", \"\\uc5d0\\uc11c\", \"\\ub299\\uc5b4\", \"\\ubcf4\\uc774\\uae30\\ub9cc\", \"\\ud588\\ub358\", \"\\ucee4\\uc2a4\\ud2f4\", \"\\ub358\\uc2a4\\ud2b8\", \"\\uac00\", \"\\ub108\\ubb34\\ub098\\ub3c4\", \"\\uc774\\ubed0\", \"\\ubcf4\\uc600\\ub2e4\"]],\n [\"mecab\",\n[\"\\uc0ac\\uc774\\ubaac\\ud398\\uadf8\", \"\\uc758\", \"\\uc775\\uc0b4\", \"\\uc2a4\\ub7f0\", \"\\uc5f0\\uae30\", \"\\uac00\", \"\\ub3cb\\ubcf4\\uc600\", \"\\ub358\", \"\\uc601\\ud654\", \"!\", \"\\uc2a4\\ud30c\\uc774\\ub354\\ub9e8\", \"\\uc5d0\\uc11c\", \"\\ub299\", \"\\uc5b4\", \"\\ubcf4\\uc774\", \"\\uae30\", \"\\ub9cc\", \"\\ud588\", \"\\ub358\", \"\\ucee4\\uc2a4\\ud2f4\", \"\\ub358\\uc2a4\\ud2b8\", \"\\uac00\", \"\\ub108\\ubb34\\ub098\", \"\\ub3c4\", \"\\uc774\\ubed0\", \"\\ubcf4\\uc600\", \"\\ub2e4\"]],\n [\"hannanum\",\n[\"\\uc0ac\\uc774\\ubaac\\ud398\\uadf8\", \"\\uc758\", \"\\uc775\\uc0b4\", \"\\uc2a4\\ub7f0\", \"\\uc5f0\\uae30\", \"\\uac00\", \"\\ub3cb\\ubcf4\\uc774\", \"\\uc5c8\\ub358\", \"\\uc601\\ud654\", \"!\", \"\\uc2a4\\ud30c\\uc774\\ub354\\ub9e8\", \"\\uc5d0\\uc11c\", \"\\ub299\", \"\\uc5b4\", \"\\ubcf4\\uc774\", \"\\uae30\", \"\\ub9cc\", \"\\ud558\", \"\\uc5c8\\ub358\", \"\\ucee4\\uc2a4\\ud2f4\", \"\\ub358\\uc2a4\\ud2b8\", \"\\uac00\", \"\\ub108\\ubb34\\ub098\", \"\\ub3c4\", \"\\uc774\\uc058\", \"\\uc5b4\", \"\\ubcf4\\uc774\", \"\\uc5c8\\ub2e4\"]],\n [\"kkma\",\n[\"\\uc0ac\\uc774\\ubaac\\ud398\\uadf8\", \"\\uc758\", \"\\uc775\\uc0b4\", \"\\uc2a4\\ub7fd\", \"\\u3134\", \"\\uc5f0\\uae30\", \"\\uac00\", \"\\ub3cb\\ubcf4\\uc774\", \"\\uc5c8\", \"\\ub354\", \"\\u3134\", \"\\uc601\\ud654\", \"!\", \"\\uc2a4\\ud30c\\uc774\", \"\\ub354\", \"\\ub9e8\", \"\\uc5d0\\uc11c\", \"\\ub299\", \"\\uc5b4\", \"\\ubcf4\\uc774\", \"\\uae30\", \"\\ub9cc\", \"\\ud558\", \"\\uc5c8\", \"\\ub354\", \"\\u3134\", \"\\ucee4\\uc2a4\\ud2f4\", \"\\ub358\\uc2a4\\ud2b8\", \"\\uac00\", \"\\ub108\\ubb34\\ub098\", \"\\ub3c4\", \"\\uc774\\uc058\", \"\\uc5b4\", \"\\ubcf4\\uc774\", \"\\uc5c8\", \"\\ub2e4\"]]],\n        columns: [[\"string\", \"index\"], [\"string\", \"tokneized_list\"]],\n        columnOptions: [{\"width\": \"1px\", \"className\": \"index_column\"}],\n        rowsPerPage: 10,\n        helpUrl: \"https://colab.research.google.com/notebooks/data_table.ipynb\",\n        suppressOutputScrolling: true,\n        minimumWidth: undefined,\n      });\n    ",
            "text/plain": [
              "<google.colab.data_table.DataTable object>"
            ]
          },
          "metadata": {},
          "execution_count": 52
        }
      ]
    },
    {
      "cell_type": "markdown",
      "source": [
        "#### 연산 속도로 보았을 때 kkma가 가장 느리고, mecab이 연산속도가 가장 빠른 것을 확인할 수 있다. \n",
        "#### komoran, okt의 경우 '사이몬페그'라는 고유명사를 제대로 토크나이징 못하고 있다!"
      ],
      "metadata": {
        "id": "eSRnM7iO0ziT"
      }
    },
    {
      "cell_type": "markdown",
      "source": [
        "<hr>\n",
        "\n",
        "# 7. Kobert, Khaiii 토큰화 방식 비교\n",
        "## KONLPY에 있는거 봤으니까... 다른 Tokenizer들은 어떨까?\n",
        "\n"
      ],
      "metadata": {
        "id": "2FO9XsrE_eZ9"
      }
    },
    {
      "cell_type": "markdown",
      "source": [
        "### Kobert"
      ],
      "metadata": {
        "id": "PY9xeAHH_uIv"
      }
    },
    {
      "cell_type": "code",
      "source": [
        "%%capture\n",
        "!pip install git+https://git@github.com/SKTBrain/KoBERT.git@master"
      ],
      "metadata": {
        "id": "dpqGYmCr8P2a"
      },
      "execution_count": null,
      "outputs": []
    },
    {
      "cell_type": "code",
      "source": [
        "import torch\n",
        "from kobert.utils import get_tokenizer\n",
        "from kobert.pytorch_kobert import get_pytorch_kobert_model\n",
        "import gluonnlp as nlp"
      ],
      "metadata": {
        "id": "WD5fa8tFA2la"
      },
      "execution_count": null,
      "outputs": []
    },
    {
      "cell_type": "code",
      "source": [
        "bertmodel, vocab = get_pytorch_kobert_model(cachedir = \".cache\")\n",
        "tokenizer = get_tokenizer()"
      ],
      "metadata": {
        "id": "d4eRdUoz_oAf",
        "colab": {
          "base_uri": "https://localhost:8080/"
        },
        "outputId": "2d681f24-e802-4231-ead2-86e19f56806b"
      },
      "execution_count": null,
      "outputs": [
        {
          "output_type": "stream",
          "name": "stdout",
          "text": [
            "using cached model. /content/.cache/kobert_v1.zip\n",
            "using cached model. /content/.cache/kobert_news_wiki_ko_cased-1087f8699e.spiece\n",
            "using cached model. /content/.cache/kobert_news_wiki_ko_cased-1087f8699e.spiece\n"
          ]
        }
      ]
    },
    {
      "cell_type": "code",
      "source": [
        "tok = nlp.data.BERTSPTokenizer(tokenizer, vocab, lower = False)"
      ],
      "metadata": {
        "id": "elSf-_bc_5xd"
      },
      "execution_count": null,
      "outputs": []
    },
    {
      "cell_type": "code",
      "source": [
        "text = '사이몬페그의 익살스런 연기가 돋보였던 영화!스파이더맨에서 늙어보이기만 했던 커스틴 던스트가 너무나도 이뻐보였다'"
      ],
      "metadata": {
        "id": "fIKmoGE_B0t7"
      },
      "execution_count": null,
      "outputs": []
    },
    {
      "cell_type": "code",
      "source": [
        "tok(text)"
      ],
      "metadata": {
        "id": "ANG7hUxo_6yJ",
        "colab": {
          "base_uri": "https://localhost:8080/"
        },
        "outputId": "b238babe-d525-441d-ecf3-3d285e64beb6"
      },
      "execution_count": null,
      "outputs": [
        {
          "output_type": "execute_result",
          "data": {
            "text/plain": [
              "['▁사이',\n",
              " '몬',\n",
              " '페',\n",
              " '그',\n",
              " '의',\n",
              " '▁익',\n",
              " '살',\n",
              " '스',\n",
              " '런',\n",
              " '▁연기',\n",
              " '가',\n",
              " '▁',\n",
              " '돋',\n",
              " '보',\n",
              " '였던',\n",
              " '▁영화',\n",
              " '▁',\n",
              " '!',\n",
              " '▁스',\n",
              " '파',\n",
              " '이',\n",
              " '더',\n",
              " '맨',\n",
              " '에서',\n",
              " '▁',\n",
              " '늙',\n",
              " '어',\n",
              " '보이',\n",
              " '기',\n",
              " '만',\n",
              " '▁했던',\n",
              " '▁커',\n",
              " '스',\n",
              " '틴',\n",
              " '▁',\n",
              " '던',\n",
              " '스트',\n",
              " '가',\n",
              " '▁너무',\n",
              " '나',\n",
              " '도',\n",
              " '▁이',\n",
              " '뻐',\n",
              " '보',\n",
              " '였다']"
            ]
          },
          "metadata": {},
          "execution_count": 58
        }
      ]
    },
    {
      "cell_type": "markdown",
      "source": [
        "### 카카오 khaiii Tokenizer"
      ],
      "metadata": {
        "id": "-Rf6ay3uCKVR"
      }
    },
    {
      "cell_type": "code",
      "source": [
        "%%capture\n",
        "!git clone https://github.com/kakao/khaiii.git"
      ],
      "metadata": {
        "id": "-fB0IoDpB0S4"
      },
      "execution_count": null,
      "outputs": []
    },
    {
      "cell_type": "code",
      "source": [
        "%%capture\n",
        "!pip install cmake"
      ],
      "metadata": {
        "id": "NI2viOcUCI6J"
      },
      "execution_count": null,
      "outputs": []
    },
    {
      "cell_type": "code",
      "source": [
        "!mkdir build"
      ],
      "metadata": {
        "id": "Wo1isfZyCJ1f",
        "colab": {
          "base_uri": "https://localhost:8080/"
        },
        "outputId": "718b0900-186d-4031-880e-cf7da4d2df68"
      },
      "execution_count": null,
      "outputs": [
        {
          "output_type": "stream",
          "name": "stdout",
          "text": [
            "mkdir: cannot create directory ‘build’: File exists\n"
          ]
        }
      ]
    },
    {
      "cell_type": "code",
      "source": [
        "%%capture\n",
        "!cd build && cmake /content/khaiii"
      ],
      "metadata": {
        "id": "dSfnJi_DCOO4"
      },
      "execution_count": null,
      "outputs": []
    },
    {
      "cell_type": "code",
      "source": [
        "%%capture\n",
        "!cd /content/build/ && make all"
      ],
      "metadata": {
        "id": "JkWOJpytCO6E"
      },
      "execution_count": null,
      "outputs": []
    },
    {
      "cell_type": "code",
      "source": [
        "%%capture\n",
        "!cd /content/build/ && make resource"
      ],
      "metadata": {
        "id": "eh_RbfUUCQpW"
      },
      "execution_count": null,
      "outputs": []
    },
    {
      "cell_type": "code",
      "source": [
        "%%capture\n",
        "!cd /content/build && make install"
      ],
      "metadata": {
        "id": "dg-_lggjCRfy"
      },
      "execution_count": null,
      "outputs": []
    },
    {
      "cell_type": "code",
      "source": [
        "%%capture\n",
        "!cd /content/build && make package_python"
      ],
      "metadata": {
        "id": "uNl06jImCScu"
      },
      "execution_count": null,
      "outputs": []
    },
    {
      "cell_type": "code",
      "source": [
        "%%capture\n",
        "!pip install /content/build/package_python"
      ],
      "metadata": {
        "id": "0vB7HSrlCTP2"
      },
      "execution_count": null,
      "outputs": []
    },
    {
      "cell_type": "code",
      "source": [
        "from khaiii import KhaiiiApi\n",
        "tokenizer = KhaiiiApi()\n",
        "\n",
        "data = tokenizer.analyze(text)\n",
        "\n",
        "tokens = []\n",
        "\n",
        "for word in data:\n",
        "    tokens.extend([str(m).split('/')[0] for m in word.morphs])\n",
        "\n",
        "tokens"
      ],
      "metadata": {
        "id": "NacewgzSCUWQ",
        "colab": {
          "base_uri": "https://localhost:8080/"
        },
        "outputId": "e785ac86-f01b-45c2-dcd6-ca0dfbfa0ce4"
      },
      "execution_count": null,
      "outputs": [
        {
          "output_type": "execute_result",
          "data": {
            "text/plain": [
              "['사',\n",
              " '이몬페그',\n",
              " '의',\n",
              " '익살',\n",
              " '스럽',\n",
              " 'ㄴ',\n",
              " '연기',\n",
              " '가',\n",
              " '돋보이',\n",
              " '었',\n",
              " '던',\n",
              " '영화',\n",
              " '!',\n",
              " '스파',\n",
              " '이',\n",
              " '더맨',\n",
              " '에서',\n",
              " '늙',\n",
              " '어',\n",
              " '보',\n",
              " '이',\n",
              " '기',\n",
              " '만',\n",
              " '하',\n",
              " '였',\n",
              " '던',\n",
              " '커스틴',\n",
              " '던',\n",
              " '스트',\n",
              " '가',\n",
              " '너무나',\n",
              " '도',\n",
              " '이쁘',\n",
              " '어',\n",
              " '보이',\n",
              " '었',\n",
              " '다']"
            ]
          },
          "metadata": {},
          "execution_count": 68
        }
      ]
    },
    {
      "cell_type": "markdown",
      "source": [
        "# 8. Mecab을 활용한 NSMC Modeling"
      ],
      "metadata": {
        "id": "rbs2Iye3GTeE"
      }
    },
    {
      "cell_type": "code",
      "source": [
        "from konlpy.tag import Mecab\n",
        "tokenizer = Mecab()\n",
        "\n",
        "filtered_corpus['tokenized'] = filtered_corpus['document'].apply(tokenizer.morphs)"
      ],
      "metadata": {
        "id": "ObuyhJwJXqS8"
      },
      "execution_count": null,
      "outputs": []
    },
    {
      "cell_type": "code",
      "source": [
        "from tensorflow.keras.preprocessing.text import Tokenizer\n",
        "tokenizer = Tokenizer()\n",
        "tokenizer.fit_on_texts(filtered_corpus['tokenized'])"
      ],
      "metadata": {
        "id": "q7PZ2h-1ZQ3F"
      },
      "execution_count": null,
      "outputs": []
    },
    {
      "cell_type": "code",
      "source": [
        "tensor = tokenizer.texts_to_sequences(filtered_corpus['tokenized'])\n",
        "tensor = tf.keras.preprocessing.sequence.pad_sequences(tensor, padding='pre')"
      ],
      "metadata": {
        "id": "o4UUy0sOeCXj"
      },
      "execution_count": null,
      "outputs": []
    },
    {
      "cell_type": "code",
      "source": [
        "tensor"
      ],
      "metadata": {
        "colab": {
          "base_uri": "https://localhost:8080/"
        },
        "id": "f16Yxq9XfFli",
        "outputId": "ad185046-b27a-42ca-fa53-112dc985a3c5"
      },
      "execution_count": null,
      "outputs": [
        {
          "output_type": "execute_result",
          "data": {
            "text/plain": [
              "array([[    0,     0,     0, ...,    37,    70,    49],\n",
              "       [    0,     0,     0, ...,     1,    57,     1],\n",
              "       [    0,     0,     0, ...,    42,     4,    21],\n",
              "       ...,\n",
              "       [    0,     0,     0, ..., 22373,     5,     1],\n",
              "       [    0,     0,     0, ...,   495,  1149,    49],\n",
              "       [    0,     0,     0, ...,  6007, 53628, 53629]], dtype=int32)"
            ]
          },
          "metadata": {},
          "execution_count": 72
        }
      ]
    },
    {
      "cell_type": "code",
      "source": [
        "filtered_label = np.array(filtered_corpus['label'])\n",
        "\n",
        "x_train, x_val, y_train, y_val = train_test_split(tensor, filtered_label, test_size=0.2)\n",
        "x_train, x_test, y_train, y_test = train_test_split(x_train, y_train, test_size=0.2)"
      ],
      "metadata": {
        "id": "o01Nmc-NfKK7"
      },
      "execution_count": null,
      "outputs": []
    },
    {
      "cell_type": "markdown",
      "source": [
        "### 동일하게 LSTM BASELINE MODEL 사용"
      ],
      "metadata": {
        "id": "Dq4I62ykfmCQ"
      }
    },
    {
      "cell_type": "code",
      "source": [
        "vocab_size = 16000\n",
        "word_vector_dim = 64\n",
        "\n",
        "model = Sequential()\n",
        "model.add(Embedding(vocab_size, word_vector_dim, input_shape=(None,)))\n",
        "model.add(LSTM(128, dropout=0.1, recurrent_dropout=0.1))\n",
        "model.add(Dense(1, activation='sigmoid'))\n",
        "model.compile(loss='binary_crossentropy', optimizer='adam', metrics=['acc'])\n",
        "hist = model.fit(x_train, y_train, validation_data=(x_val, y_val), epochs=5)"
      ],
      "metadata": {
        "id": "_UtoaMisCiYk",
        "colab": {
          "base_uri": "https://localhost:8080/"
        },
        "outputId": "9db16bab-8f4f-4d33-923c-a9917d36c7ae"
      },
      "execution_count": null,
      "outputs": [
        {
          "output_type": "stream",
          "name": "stdout",
          "text": [
            "WARNING:tensorflow:Layer lstm_3 will not use cuDNN kernels since it doesn't meet the criteria. It will use a generic GPU kernel as fallback when running on GPU.\n"
          ]
        },
        {
          "output_type": "stream",
          "name": "stderr",
          "text": [
            "WARNING:tensorflow:Layer lstm_3 will not use cuDNN kernels since it doesn't meet the criteria. It will use a generic GPU kernel as fallback when running on GPU.\n"
          ]
        },
        {
          "output_type": "stream",
          "name": "stdout",
          "text": [
            "Epoch 1/5\n",
            "3408/3408 [==============================] - 800s 234ms/step - loss: 0.3754 - acc: 0.8318 - val_loss: 0.3314 - val_acc: 0.8556\n",
            "Epoch 2/5\n",
            "3408/3408 [==============================] - 792s 232ms/step - loss: 0.2852 - acc: 0.8802 - val_loss: 0.3189 - val_acc: 0.8632\n",
            "Epoch 3/5\n",
            "3408/3408 [==============================] - 791s 232ms/step - loss: 0.2392 - acc: 0.9015 - val_loss: 0.3285 - val_acc: 0.8652\n",
            "Epoch 4/5\n",
            "3408/3408 [==============================] - 789s 231ms/step - loss: 0.2012 - acc: 0.9197 - val_loss: 0.3587 - val_acc: 0.8630\n",
            "Epoch 5/5\n",
            "3408/3408 [==============================] - 790s 232ms/step - loss: 0.1671 - acc: 0.9353 - val_loss: 0.3959 - val_acc: 0.8576\n"
          ]
        }
      ]
    },
    {
      "cell_type": "code",
      "source": [
        "results = model.evaluate(x_test,  y_test, verbose=2)\n",
        "print(results)"
      ],
      "metadata": {
        "id": "OFJk53kXISYl",
        "colab": {
          "base_uri": "https://localhost:8080/"
        },
        "outputId": "721798ac-cb62-4c94-f1c9-26bb45826584"
      },
      "execution_count": null,
      "outputs": [
        {
          "output_type": "stream",
          "name": "stdout",
          "text": [
            "852/852 - 14s - loss: 0.3961 - acc: 0.8579 - 14s/epoch - 17ms/step\n",
            "[0.39610353112220764, 0.8578503131866455]\n"
          ]
        }
      ]
    },
    {
      "cell_type": "markdown",
      "source": [
        "### 회고\n",
        "\n",
        "1. 어절? 형태소? Subword? 여기서 어떠한 방법론을 택할 것이냐?\n",
        "\n",
        "2. tokenizer를 사용한다는 것. 어절 단위로 한다는 것은 공백을 기준으로 토큰화한다는 것이고, 이는 한국어와 같은 교착어에서는 적합한 방법론이 아니다. 그렇다면 조금 더 쪼개어서 '형태소' 단위의 토큰을 구사할 수도 있고, 혹은 노드에서 제시한 방법대로 BPE와 같은 형태의 subword tokenize를 선택할 수 있다.\n",
        "\n",
        "3. 여기서 Subword 단위 tokenize에 이러한 문제가 등장할 수 있다. \"oov를 어떻게 해결할 것이냐?\"\n",
        "\n",
        "4. 문서 군집화/분류/기계번역 등의 분야에서는 subwords 기반으로 단어를 표현함으로써 미등록 단어 문제를 우회할 수 있다!\n",
        "\n",
        "5. 반면 키워드/연관어 분석, 토필 모델링과 같은 분석을 위해서는 온전한 단어로 인식해야하기에 subwords를 활용할 수 없다. 따라서 해당 tokenizer를 단순히 연산성능평가와 같은 척도로만 평가되어질 수 없으며, 해결하고자하는 task가 무엇인지에 따라 달라질 수 있다. \n",
        "\n",
        "6. 기존의 Tokenizer들의 연산속도, 토큰화 처리방식이 어떠한지를 살펴보는 작업이 첫째로 이루어져야하며, 풀고자하는 과제가 무엇인가에 따라 어떠한 토큰화방식을 택할 것인지 선택할 수 있다.\n"
      ],
      "metadata": {
        "id": "Q0Ruf7EIoRBn"
      }
    },
    {
      "cell_type": "code",
      "source": [],
      "metadata": {
        "id": "g-zjTMgdxM9d"
      },
      "execution_count": null,
      "outputs": []
    }
  ]
}