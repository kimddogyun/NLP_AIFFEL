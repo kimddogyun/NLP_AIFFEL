{
  "nbformat": 4,
  "nbformat_minor": 0,
  "metadata": {
    "colab": {
      "provenance": [],
      "collapsed_sections": []
    },
    "kernelspec": {
      "name": "python3",
      "display_name": "Python 3"
    },
    "language_info": {
      "name": "python"
    },
    "accelerator": "GPU",
    "gpuClass": "standard"
  },
  "cells": [
    {
      "cell_type": "markdown",
      "source": [
        "## GD:04 - > DTM, TF-IDF VOCABULARY SIZE\n",
        "###   reuters news classification\n",
        "\n",
        "<br> \n",
        "\n",
        "### 1. Num_words: 10000\n",
        "\n",
        "### 2. Num_words: 5000 \n",
        "\n",
        "### 3. Num_words: None\n",
        "\n",
        "### 4. RNN\n",
        "\n",
        "### 5. 1DCNN"
      ],
      "metadata": {
        "id": "_TH68ySTnLeQ"
      }
    },
    {
      "cell_type": "code",
      "execution_count": null,
      "metadata": {
        "id": "WposJ1Cja60m"
      },
      "outputs": [],
      "source": [
        "from tensorflow.keras.datasets import reuters\n",
        "import matplotlib.pyplot as plt\n",
        "import seaborn as sns\n",
        "import numpy as np\n",
        "import pandas as pd"
      ]
    },
    {
      "cell_type": "markdown",
      "source": [
        "# 1. Num_words = 10000"
      ],
      "metadata": {
        "id": "QnPkE5r_2aua"
      }
    },
    {
      "cell_type": "code",
      "source": [
        "(x_train, y_train), (x_test, y_test) = reuters.load_data(num_words=10000, test_split=0.2)"
      ],
      "metadata": {
        "id": "1CoRu1eHa9U6"
      },
      "execution_count": null,
      "outputs": []
    },
    {
      "cell_type": "code",
      "source": [
        "print('훈련 샘플의 수: {}'.format(len(x_train)))\n",
        "print('테스트 샘플의 수: {}'.format(len(x_test)))"
      ],
      "metadata": {
        "colab": {
          "base_uri": "https://localhost:8080/"
        },
        "id": "rE1ma35Wa_Lm",
        "outputId": "8ee8ac2a-40b0-4fa5-d7fb-c42cb927e818"
      },
      "execution_count": null,
      "outputs": [
        {
          "output_type": "stream",
          "name": "stdout",
          "text": [
            "훈련 샘플의 수: 8982\n",
            "테스트 샘플의 수: 2246\n"
          ]
        }
      ]
    },
    {
      "cell_type": "code",
      "source": [
        "num_classes = max(y_train) + 1\n",
        "print('클래스의 수 : {}'.format(num_classes))"
      ],
      "metadata": {
        "colab": {
          "base_uri": "https://localhost:8080/"
        },
        "id": "xHQWAqvpbVNH",
        "outputId": "933aff0e-226f-456e-9f67-cadd19641777"
      },
      "execution_count": null,
      "outputs": [
        {
          "output_type": "stream",
          "name": "stdout",
          "text": [
            "클래스의 수 : 46\n"
          ]
        }
      ]
    },
    {
      "cell_type": "code",
      "source": [
        "print('훈련용 뉴스의 최대 길이 :{}'.format(max(len(l) for l in x_train)))\n",
        "print('훈련용 뉴스의 평균 길이 :{}'.format(sum(map(len, x_train))/len(x_train)))\n",
        "\n",
        "plt.hist([len(s) for s in x_train], bins=50)\n",
        "plt.xlabel('length of samples')\n",
        "plt.ylabel('number of samples')\n",
        "plt.show()"
      ],
      "metadata": {
        "colab": {
          "base_uri": "https://localhost:8080/",
          "height": 316
        },
        "id": "gkY1gfgGbp50",
        "outputId": "43895931-d0c1-4642-a6ef-8af4aa3c07a8"
      },
      "execution_count": null,
      "outputs": [
        {
          "output_type": "stream",
          "name": "stdout",
          "text": [
            "훈련용 뉴스의 최대 길이 :2376\n",
            "훈련용 뉴스의 평균 길이 :145.5398574927633\n"
          ]
        },
        {
          "output_type": "display_data",
          "data": {
            "text/plain": [
              "<Figure size 432x288 with 1 Axes>"
            ],
            "image/png": "[encoded data removed]"
          },
          "metadata": {
            "needs_background": "light"
          }
        }
      ]
    },
    {
      "cell_type": "code",
      "source": [
        "unique_elements, counts_elements = np.unique(y_train, return_counts=True)\n",
        "print(\"각 클래스 빈도수:\")\n",
        "print(np.asarray((unique_elements, counts_elements)))"
      ],
      "metadata": {
        "colab": {
          "base_uri": "https://localhost:8080/"
        },
        "id": "zKP8gAtzbtBE",
        "outputId": "6996d904-7198-4d65-eb48-e4c31fe3d03a"
      },
      "execution_count": null,
      "outputs": [
        {
          "output_type": "stream",
          "name": "stdout",
          "text": [
            "각 클래스 빈도수:\n",
            "[[   0    1    2    3    4    5    6    7    8    9   10   11   12   13\n",
            "    14   15   16   17   18   19   20   21   22   23   24   25   26   27\n",
            "    28   29   30   31   32   33   34   35   36   37   38   39   40   41\n",
            "    42   43   44   45]\n",
            " [  55  432   74 3159 1949   17   48   16  139  101  124  390   49  172\n",
            "    26   20  444   39   66  549  269  100   15   41   62   92   24   15\n",
            "    48   19   45   39   32   11   50   10   49   19   19   24   36   30\n",
            "    13   21   12   18]]\n"
          ]
        }
      ]
    },
    {
      "cell_type": "code",
      "source": [
        "word_index = reuters.get_word_index(path=\"reuters_word_index.json\")"
      ],
      "metadata": {
        "id": "jYJFnYcSb_bL"
      },
      "execution_count": null,
      "outputs": []
    },
    {
      "cell_type": "code",
      "source": [
        "word_index['the']"
      ],
      "metadata": {
        "colab": {
          "base_uri": "https://localhost:8080/"
        },
        "id": "bMW9k-vccbHd",
        "outputId": "c04626ba-fb0b-4278-bdad-0b1c345aa57e"
      },
      "execution_count": null,
      "outputs": [
        {
          "output_type": "execute_result",
          "data": {
            "text/plain": [
              "1"
            ]
          },
          "metadata": {},
          "execution_count": 8
        }
      ]
    },
    {
      "cell_type": "code",
      "source": [
        "index_to_word = {index+3 : word for word, index in word_index.items()}"
      ],
      "metadata": {
        "id": "5IKp52xNce-O"
      },
      "execution_count": null,
      "outputs": []
    },
    {
      "cell_type": "code",
      "source": [
        "print(index_to_word[4])\n",
        "print(index_to_word[16])"
      ],
      "metadata": {
        "colab": {
          "base_uri": "https://localhost:8080/"
        },
        "id": "nRDL593scwVm",
        "outputId": "bd41f8c3-1373-4cd4-fd9c-9348d5918d9a"
      },
      "execution_count": null,
      "outputs": [
        {
          "output_type": "stream",
          "name": "stdout",
          "text": [
            "the\n",
            "it\n"
          ]
        }
      ]
    },
    {
      "cell_type": "code",
      "source": [
        "for index, token in enumerate((\"<pad>\", \"<sos>\", \"<unk>\")):\n",
        "  index_to_word[index] = token"
      ],
      "metadata": {
        "id": "9DiYfS7XcxSC"
      },
      "execution_count": null,
      "outputs": []
    },
    {
      "cell_type": "code",
      "source": [
        "print(' '.join([index_to_word[index] for index in x_train[0]]))"
      ],
      "metadata": {
        "colab": {
          "base_uri": "https://localhost:8080/"
        },
        "id": "cSICEl3ydCmh",
        "outputId": "cb7fb86f-7d70-4dd4-c2ee-2ed7025463d3"
      },
      "execution_count": null,
      "outputs": [
        {
          "output_type": "stream",
          "name": "stdout",
          "text": [
            "<sos> <unk> <unk> said as a result of its december acquisition of space co it expects earnings per share in 1987 of 1 15 to 1 30 dlrs per share up from 70 cts in 1986 the company said pretax net should rise to nine to 10 mln dlrs from six mln dlrs in 1986 and rental operation revenues to 19 to 22 mln dlrs from 12 5 mln dlrs it said cash flow per share this year should be 2 50 to three dlrs reuter 3\n"
          ]
        }
      ]
    },
    {
      "cell_type": "code",
      "source": [
        "print(' '.join([index_to_word[index] for index in [4, 12000, 23, 133, 6, 30, 515]\n",
        "]))"
      ],
      "metadata": {
        "colab": {
          "base_uri": "https://localhost:8080/"
        },
        "id": "29XOxw9tdKSj",
        "outputId": "9ccbf9ed-46fa-4c62-b8af-fce0e539c725"
      },
      "execution_count": null,
      "outputs": [
        {
          "output_type": "stream",
          "name": "stdout",
          "text": [
            "the staffing is expected to be completed\n"
          ]
        }
      ]
    },
    {
      "cell_type": "code",
      "source": [
        "decoded = []\n",
        "for i in range(len(x_train)):\n",
        "  t = ' '.join([index_to_word[index] for index in x_train[i]])\n",
        "  decoded.append(t)\n",
        "\n",
        "x_train = decoded\n",
        "print(len(x_train))"
      ],
      "metadata": {
        "colab": {
          "base_uri": "https://localhost:8080/"
        },
        "id": "BsaNJuG2dXvi",
        "outputId": "1df6e726-6631-47ff-def0-ce46f7f8ff90"
      },
      "execution_count": null,
      "outputs": [
        {
          "output_type": "stream",
          "name": "stdout",
          "text": [
            "8982\n"
          ]
        }
      ]
    },
    {
      "cell_type": "code",
      "source": [
        "decoded = []\n",
        "for i in range(len(x_test)):\n",
        "    t = ' '.join([index_to_word[index] for index in x_test[i]])\n",
        "    decoded.append(t)\n",
        "\n",
        "x_test = decoded\n",
        "print(len(x_test))"
      ],
      "metadata": {
        "colab": {
          "base_uri": "https://localhost:8080/"
        },
        "id": "wwypQgj3d3nN",
        "outputId": "9bba5963-1d11-40b4-d689-12bb1a84c328"
      },
      "execution_count": null,
      "outputs": [
        {
          "output_type": "stream",
          "name": "stdout",
          "text": [
            "2246\n"
          ]
        }
      ]
    },
    {
      "cell_type": "code",
      "source": [
        "from sklearn.feature_extraction.text import CountVectorizer\n",
        "from sklearn.feature_extraction.text import TfidfTransformer"
      ],
      "metadata": {
        "id": "uAI2qrvxe3zM"
      },
      "execution_count": null,
      "outputs": []
    },
    {
      "cell_type": "code",
      "source": [
        "dtmvector = CountVectorizer()\n",
        "x_train_dtm = dtmvector.fit_transform(x_train)\n",
        "print(x_train_dtm.shape)"
      ],
      "metadata": {
        "colab": {
          "base_uri": "https://localhost:8080/"
        },
        "id": "HdHZ_c9HfdDz",
        "outputId": "c49d3e14-3ade-4479-93ee-a06b2481e060"
      },
      "execution_count": null,
      "outputs": [
        {
          "output_type": "stream",
          "name": "stdout",
          "text": [
            "(8982, 9670)\n"
          ]
        }
      ]
    },
    {
      "cell_type": "code",
      "source": [
        "tfidf_transformer = TfidfTransformer()\n",
        "tfidfv = tfidf_transformer.fit_transform(x_train_dtm)\n",
        "print(tfidfv.shape)"
      ],
      "metadata": {
        "colab": {
          "base_uri": "https://localhost:8080/"
        },
        "id": "-k4rUPj6tOv4",
        "outputId": "dc868294-bb8f-4f38-f17a-937ab88d444a"
      },
      "execution_count": null,
      "outputs": [
        {
          "output_type": "stream",
          "name": "stdout",
          "text": [
            "(8982, 9670)\n"
          ]
        }
      ]
    },
    {
      "cell_type": "code",
      "source": [
        "from sklearn.naive_bayes import MultinomialNB #다항분포 나이브 베이즈 모델\n",
        "from sklearn.naive_bayes import GaussianNB\n",
        "from sklearn.linear_model import LogisticRegression, SGDClassifier\n",
        "from sklearn.naive_bayes import ComplementNB\n",
        "from sklearn.tree import DecisionTreeClassifier\n",
        "from sklearn.ensemble import RandomForestClassifier\n",
        "from sklearn.ensemble import GradientBoostingClassifier\n",
        "from sklearn.ensemble import VotingClassifier\n",
        "from sklearn.svm import LinearSVC\n",
        "from sklearn.metrics import accuracy_score #정확도 계산"
      ],
      "metadata": {
        "id": "JxO4UQadtg6D"
      },
      "execution_count": null,
      "outputs": []
    },
    {
      "cell_type": "code",
      "source": [
        "x_test_dtm = dtmvector.transform(x_test)\n",
        "tfidfv_test = tfidf_transformer.transform(x_test_dtm) "
      ],
      "metadata": {
        "id": "N1A7tt0Gm8Md"
      },
      "execution_count": null,
      "outputs": []
    },
    {
      "cell_type": "code",
      "source": [
        "def train_ml(tfidfv, y_train, tfidfv_test, y_test):\n",
        "\n",
        "  #Naive Bayse classification\n",
        "  nbc_model = MultinomialNB()\n",
        "  nbc_model.fit(tfidfv, y_train)\n",
        "  nbc_predicted = nbc_model.predict(tfidfv_test)\n",
        "  print(\"나이브 베이즈 정확도:\", accuracy_score(y_test, nbc_predicted))\n",
        "\n",
        "  #CNB\n",
        "\n",
        "  cb = ComplementNB()\n",
        "  cb.fit(tfidfv, y_train)\n",
        "  cb_predicted = cb.predict(tfidfv_test)\n",
        "  print(\"CNB 정확도:\", accuracy_score(y_test, cb_predicted))\n",
        "\n",
        "  #Logistic regression\n",
        "  lr = LogisticRegression(C=10000, penalty='l2')\n",
        "  lr.fit(tfidfv, y_train)\n",
        "\n",
        "  lr_predicted = lr.predict(tfidfv_test)\n",
        "  print(\"로지스틱 회귀 정확도:\", accuracy_score(y_test, lr_predicted))\n",
        "\n",
        "  #Svm\n",
        "\n",
        "  svc = LinearSVC(C=1000, penalty='l1', max_iter=500, dual=False)\n",
        "  svc.fit(tfidfv, y_train)\n",
        "  svc_predicted = svc.predict(tfidfv_test)\n",
        "  print('SVM 정확도:', accuracy_score(y_test, svc_predicted))\n",
        "\n",
        "  #결정 트리\n",
        "\n",
        "  tree = DecisionTreeClassifier(max_depth=10, random_state=0)\n",
        "  tree.fit(tfidfv, y_train)\n",
        "  tree_predicted = tree.predict(tfidfv_test)\n",
        "  print(\"결정 트리 정확도:\", accuracy_score(y_test, tree_predicted))\n",
        "\n",
        "  # 그래디언트 부스팅 트리\n",
        "  grbt = GradientBoostingClassifier(random_state=0)\n",
        "  grbt.fit(tfidfv, y_train)\n",
        "\n",
        "  grbt_predicted = grbt.predict(tfidfv_test) \n",
        "  print(\"그래디언트 부스팅 트리 정확도:\", accuracy_score(y_test, grbt_predicted)) \n",
        "\n",
        "  #랜덤 포레스트\n",
        "\n",
        "  forest = RandomForestClassifier(n_estimators=5, random_state=0)\n",
        "  forest.fit(tfidfv, y_train)\n",
        "  rf_predicted = forest.predict(tfidfv_test)\n",
        "  print(\"랜덤 포레스트 정확도:\", accuracy_score(y_test, rf_predicted))\n",
        "\n",
        "  #보팅\n",
        "  voting_model = VotingClassifier(estimators=[('lr', LogisticRegression(C=10000, penalty='l2')), ('cnb', ComplementNB()), ('grbt', GradientBoostingClassifier(random_state=0))], voting='soft')\n",
        "  voting_model.fit(tfidfv, y_train)\n",
        "\n",
        "  voting_model_predicted = voting_model.predict(tfidfv_test)\n",
        "  print(\"보팅 정확도\", accuracy_score(y_test, voting_model_predicted))\n",
        "\n",
        "  return nbc_model, cb, lr, svc, tree, grbt, forest, voting_model"
      ],
      "metadata": {
        "id": "BFufoXm2VcdT"
      },
      "execution_count": null,
      "outputs": []
    },
    {
      "cell_type": "code",
      "source": [
        "nbc_model, cb, lr, svc, tree, grbt, forest, voting_model = train_ml(tfidfv, y_train, tfidfv_test, y_test)"
      ],
      "metadata": {
        "colab": {
          "base_uri": "https://localhost:8080/"
        },
        "id": "j0-SYbeqtQFj",
        "outputId": "b230db55-c70d-47f6-ef3f-546d72ddc21d"
      },
      "execution_count": null,
      "outputs": [
        {
          "output_type": "stream",
          "name": "stdout",
          "text": [
            "나이브 베이즈 정확도: 0.6567230632235085\n",
            "CNB 정확도: 0.7707034728406055\n"
          ]
        },
        {
          "output_type": "stream",
          "name": "stderr",
          "text": [
            "/usr/local/lib/python3.7/dist-packages/sklearn/linear_model/_logistic.py:818: ConvergenceWarning: lbfgs failed to converge (status=1):\n",
            "STOP: TOTAL NO. of ITERATIONS REACHED LIMIT.\n",
            "\n",
            "Increase the number of iterations (max_iter) or scale the data as shown in:\n",
            "    https://scikit-learn.org/stable/modules/preprocessing.html\n",
            "Please also refer to the documentation for alternative solver options:\n",
            "    https://scikit-learn.org/stable/modules/linear_model.html#logistic-regression\n",
            "  extra_warning_msg=_LOGISTIC_SOLVER_CONVERGENCE_MSG,\n"
          ]
        },
        {
          "output_type": "stream",
          "name": "stdout",
          "text": [
            "로지스틱 회귀 정확도: 0.8076580587711487\n"
          ]
        },
        {
          "output_type": "stream",
          "name": "stderr",
          "text": [
            "/usr/local/lib/python3.7/dist-packages/sklearn/svm/_base.py:1208: ConvergenceWarning: Liblinear failed to converge, increase the number of iterations.\n",
            "  ConvergenceWarning,\n"
          ]
        },
        {
          "output_type": "stream",
          "name": "stdout",
          "text": [
            "SVM 정확도: 0.7715939447907391\n",
            "결정 트리 정확도: 0.6202137132680321\n",
            "그래디언트 부스팅 트리 정확도: 0.7666963490650045\n",
            "랜덤 포레스트 정확도: 0.674087266251113\n"
          ]
        },
        {
          "output_type": "stream",
          "name": "stderr",
          "text": [
            "/usr/local/lib/python3.7/dist-packages/sklearn/linear_model/_logistic.py:818: ConvergenceWarning: lbfgs failed to converge (status=1):\n",
            "STOP: TOTAL NO. of ITERATIONS REACHED LIMIT.\n",
            "\n",
            "Increase the number of iterations (max_iter) or scale the data as shown in:\n",
            "    https://scikit-learn.org/stable/modules/preprocessing.html\n",
            "Please also refer to the documentation for alternative solver options:\n",
            "    https://scikit-learn.org/stable/modules/linear_model.html#logistic-regression\n",
            "  extra_warning_msg=_LOGISTIC_SOLVER_CONVERGENCE_MSG,\n"
          ]
        },
        {
          "output_type": "stream",
          "name": "stdout",
          "text": [
            "보팅 정확도 0.8121104185218165\n"
          ]
        }
      ]
    },
    {
      "cell_type": "markdown",
      "source": [
        "# Num_words = 10000 / Accuracy\n",
        "\n",
        "- 나이브 베이즈 정확도: 0.6567230632235085\n",
        "- CNB 정확도: 0.7707034728406055\n",
        "- 로지스틱 회귀 정확도: 0.8076580587711487\n",
        "-SVM 정확도: 0.7715939447907391\n",
        "- 결정 트리 정확도: 0.6202137132680321\n",
        "- 그래디언트 부스팅 트리 정확도: 0.7666963490650045\n",
        "- 랜덤 포레스트 정확도: 0.674087266251113\n",
        "- 보팅 정확도 0.8121104185218165\n",
        "\n"
      ],
      "metadata": {
        "id": "Y0rXtUrJLIJu"
      }
    },
    {
      "cell_type": "markdown",
      "source": [
        "## Num_words 5000"
      ],
      "metadata": {
        "id": "76_hqKlYbwVa"
      }
    },
    {
      "cell_type": "code",
      "source": [
        "(x_train_5k, y_train_5k), (x_test_5k, y_test_5k) = reuters.load_data(num_words=5000, test_split=0.2)"
      ],
      "metadata": {
        "id": "SCiJ8Q6VbvFe"
      },
      "execution_count": null,
      "outputs": []
    },
    {
      "cell_type": "code",
      "source": [
        "decoded = []\n",
        "for i in range(len(x_train_5k)):\n",
        "  t = ' '.join([index_to_word[index] for index in x_train_5k[i]])\n",
        "  decoded.append(t)\n",
        "\n",
        "x_train_5k = decoded\n",
        "\n",
        "print(len(x_train_5k))"
      ],
      "metadata": {
        "colab": {
          "base_uri": "https://localhost:8080/"
        },
        "id": "loxOMXoQb1Kw",
        "outputId": "f3556973-c3c9-4781-94c4-a7927d2513c5"
      },
      "execution_count": null,
      "outputs": [
        {
          "output_type": "stream",
          "name": "stdout",
          "text": [
            "8982\n"
          ]
        }
      ]
    },
    {
      "cell_type": "code",
      "source": [
        "decoded = []\n",
        "for i in range(len(x_test_5k)):\n",
        "    t = ' '.join([index_to_word[index] for index in x_test_5k[i]])\n",
        "    decoded.append(t)\n",
        "\n",
        "x_test_5k = decoded\n",
        "print(len(x_test_5k))"
      ],
      "metadata": {
        "colab": {
          "base_uri": "https://localhost:8080/"
        },
        "id": "w_eVZ2Znb2JH",
        "outputId": "a408b7c0-5890-4e3d-b146-12f72db4f7bf"
      },
      "execution_count": null,
      "outputs": [
        {
          "output_type": "stream",
          "name": "stdout",
          "text": [
            "2246\n"
          ]
        }
      ]
    },
    {
      "cell_type": "code",
      "source": [
        "dtmvector = CountVectorizer()\n",
        "x_train5k_dtm = dtmvector.fit_transform(x_train_5k)\n",
        "print(x_train5k_dtm.shape)"
      ],
      "metadata": {
        "colab": {
          "base_uri": "https://localhost:8080/"
        },
        "id": "3afre1v8b36j",
        "outputId": "d3eab1f3-c440-468e-b15e-4249b0c018e2"
      },
      "execution_count": null,
      "outputs": [
        {
          "output_type": "stream",
          "name": "stdout",
          "text": [
            "(8982, 4867)\n"
          ]
        }
      ]
    },
    {
      "cell_type": "code",
      "source": [
        "tfidf_transformer = TfidfTransformer()\n",
        "tfidfv_5k = tfidf_transformer.fit_transform(x_train5k_dtm)\n",
        "print(tfidfv_5k.shape)"
      ],
      "metadata": {
        "colab": {
          "base_uri": "https://localhost:8080/"
        },
        "id": "wl4Qm_pQb5Ku",
        "outputId": "d6d58822-20e2-461b-dfde-1a7826702d26"
      },
      "execution_count": null,
      "outputs": [
        {
          "output_type": "stream",
          "name": "stdout",
          "text": [
            "(8982, 4867)\n"
          ]
        }
      ]
    },
    {
      "cell_type": "code",
      "source": [
        "x_test_dtm_5k = dtmvector.transform(x_test_5k) #테스트 데이터를 DTM으로 변환\n",
        "tfidfv_test_5k = tfidf_transformer.transform(x_test_dtm_5k) #DTM을 TF-IDF 행렬로 변환"
      ],
      "metadata": {
        "id": "3m_xazkGw6ck"
      },
      "execution_count": null,
      "outputs": []
    },
    {
      "cell_type": "code",
      "source": [
        "nbc_model, cb, lr, svc, tree, grbt, forest, voting_model = train_ml(tfidfv_5k, y_train_5k, tfidfv_test_5k, y_test_5k)"
      ],
      "metadata": {
        "colab": {
          "base_uri": "https://localhost:8080/"
        },
        "id": "w_sZgOUeb6Xh",
        "outputId": "c072eba9-6a3e-40f6-814e-d3f11aeca5b6"
      },
      "execution_count": null,
      "outputs": [
        {
          "output_type": "stream",
          "name": "stdout",
          "text": [
            "나이브 베이즈 정확도: 0.6731967943009796\n",
            "CNB 정확도: 0.7707034728406055\n"
          ]
        },
        {
          "output_type": "stream",
          "name": "stderr",
          "text": [
            "/usr/local/lib/python3.7/dist-packages/sklearn/linear_model/_logistic.py:818: ConvergenceWarning: lbfgs failed to converge (status=1):\n",
            "STOP: TOTAL NO. of ITERATIONS REACHED LIMIT.\n",
            "\n",
            "Increase the number of iterations (max_iter) or scale the data as shown in:\n",
            "    https://scikit-learn.org/stable/modules/preprocessing.html\n",
            "Please also refer to the documentation for alternative solver options:\n",
            "    https://scikit-learn.org/stable/modules/linear_model.html#logistic-regression\n",
            "  extra_warning_msg=_LOGISTIC_SOLVER_CONVERGENCE_MSG,\n"
          ]
        },
        {
          "output_type": "stream",
          "name": "stdout",
          "text": [
            "로지스틱 회귀 정확도: 0.8058771148708815\n"
          ]
        },
        {
          "output_type": "stream",
          "name": "stderr",
          "text": [
            "/usr/local/lib/python3.7/dist-packages/sklearn/svm/_base.py:1208: ConvergenceWarning: Liblinear failed to converge, increase the number of iterations.\n",
            "  ConvergenceWarning,\n"
          ]
        },
        {
          "output_type": "stream",
          "name": "stdout",
          "text": [
            "SVM 정확도: 0.7649154051647373\n",
            "결정 트리 정확도: 0.6179875333926982\n",
            "그래디언트 부스팅 트리 정확도: 0.7671415850400712\n",
            "랜덤 포레스트 정확도: 0.701246660730187\n"
          ]
        },
        {
          "output_type": "stream",
          "name": "stderr",
          "text": [
            "/usr/local/lib/python3.7/dist-packages/sklearn/linear_model/_logistic.py:818: ConvergenceWarning: lbfgs failed to converge (status=1):\n",
            "STOP: TOTAL NO. of ITERATIONS REACHED LIMIT.\n",
            "\n",
            "Increase the number of iterations (max_iter) or scale the data as shown in:\n",
            "    https://scikit-learn.org/stable/modules/preprocessing.html\n",
            "Please also refer to the documentation for alternative solver options:\n",
            "    https://scikit-learn.org/stable/modules/linear_model.html#logistic-regression\n",
            "  extra_warning_msg=_LOGISTIC_SOLVER_CONVERGENCE_MSG,\n"
          ]
        },
        {
          "output_type": "stream",
          "name": "stdout",
          "text": [
            "보팅 정확도 0.8161175422974176\n"
          ]
        }
      ]
    },
    {
      "cell_type": "markdown",
      "source": [
        "# Num_words : 5000  / Accuracy\n",
        "\n",
        "- 나이브 베이즈 정확도: 0.6731967943009796\n",
        "- CNB 정확도: 0.7707034728406055\n",
        "- 로지스틱 회귀 정확도: 0.8058771148708815\n",
        "-SVM 정확도: 0.7649154051647373\n",
        "- 결정 트리 정확도: 0.6179875333926982\n",
        "- 그래디언트 부스팅 트리 정확도: 0.7671415850400712\n",
        "- 랜덤 포레스트 정확도: 0.701246660730187\n",
        "- 보팅 정확도 0.8161175422974176\n"
      ],
      "metadata": {
        "id": "KK3FvqHUK7ek"
      }
    },
    {
      "cell_type": "markdown",
      "source": [
        "## Num_words 모든 단어 사용"
      ],
      "metadata": {
        "id": "s2qbVZN52poG"
      }
    },
    {
      "cell_type": "code",
      "source": [
        "(x_train_none, y_train_none), (x_test_none, y_test_none) = reuters.load_data(num_words=None, test_split=0.2)"
      ],
      "metadata": {
        "id": "JLIMQmuh5U3d"
      },
      "execution_count": null,
      "outputs": []
    },
    {
      "cell_type": "code",
      "source": [
        "decoded = []\n",
        "for i in range(len(x_train_none)):\n",
        "  t = ' '.join([index_to_word[index] for index in x_train_none[i]])\n",
        "  decoded.append(t)\n",
        "\n",
        "x_train_none = decoded\n",
        "\n",
        "print(len(x_train_none))"
      ],
      "metadata": {
        "id": "Dfj7R2KB6ySD",
        "colab": {
          "base_uri": "https://localhost:8080/"
        },
        "outputId": "c4c4616c-a8a6-4264-94e5-b15dbeaf1632"
      },
      "execution_count": null,
      "outputs": [
        {
          "output_type": "stream",
          "name": "stdout",
          "text": [
            "8982\n"
          ]
        }
      ]
    },
    {
      "cell_type": "code",
      "source": [
        "decoded = []\n",
        "for i in range(len(x_test_none)):\n",
        "    t = ' '.join([index_to_word[index] for index in x_test_none[i]])\n",
        "    decoded.append(t)\n",
        "\n",
        "x_test_none = decoded\n",
        "print(len(x_test_none))"
      ],
      "metadata": {
        "id": "o27zVXTq7Dpf",
        "colab": {
          "base_uri": "https://localhost:8080/"
        },
        "outputId": "bf4aa751-38bf-45be-eb1e-3814923bfa74"
      },
      "execution_count": null,
      "outputs": [
        {
          "output_type": "stream",
          "name": "stdout",
          "text": [
            "2246\n"
          ]
        }
      ]
    },
    {
      "cell_type": "code",
      "source": [
        "dtmvector = CountVectorizer()\n",
        "x_train_none_dtm = dtmvector.fit_transform(x_train_none)\n",
        "print(x_train_none_dtm.shape)"
      ],
      "metadata": {
        "colab": {
          "base_uri": "https://localhost:8080/"
        },
        "id": "ovZTMZuD69zw",
        "outputId": "4b153e17-989b-44a4-9718-2c8ea84300f4"
      },
      "execution_count": null,
      "outputs": [
        {
          "output_type": "stream",
          "name": "stdout",
          "text": [
            "(8982, 26506)\n"
          ]
        }
      ]
    },
    {
      "cell_type": "code",
      "source": [
        "tfidf_transformer = TfidfTransformer()\n",
        "tfidfv_none = tfidf_transformer.fit_transform(x_train_none_dtm)\n",
        "print(tfidfv_none.shape)"
      ],
      "metadata": {
        "colab": {
          "base_uri": "https://localhost:8080/"
        },
        "id": "uY6OKzf-7KzM",
        "outputId": "a8fb8d56-0ba2-4af6-a813-be303f44e7ab"
      },
      "execution_count": null,
      "outputs": [
        {
          "output_type": "stream",
          "name": "stdout",
          "text": [
            "(8982, 26506)\n"
          ]
        }
      ]
    },
    {
      "cell_type": "code",
      "source": [
        "x_test_dtm_none = dtmvector.transform(x_test_none) #테스트 데이터를 DTM으로 변환\n",
        "tfidfv_test_none = tfidf_transformer.transform(x_test_dtm_none) #DTM을 TF-IDF 행렬로 변환"
      ],
      "metadata": {
        "id": "HsOeglNNxy5q"
      },
      "execution_count": null,
      "outputs": []
    },
    {
      "cell_type": "code",
      "source": [
        "nbc_model, cb, lr, svc, tree, grbt, forest, voting_model  = train_ml(tfidfv_none, y_train_none, tfidfv_test_none, y_test_none)"
      ],
      "metadata": {
        "id": "vL5jFVG17YiJ",
        "outputId": "f3a1a5c9-a23b-4f82-a1f2-5322d45e1629",
        "colab": {
          "base_uri": "https://localhost:8080/"
        }
      },
      "execution_count": null,
      "outputs": [
        {
          "output_type": "stream",
          "name": "stdout",
          "text": [
            "나이브 베이즈 정확도: 0.5997328584149599\n",
            "CNB 정확도: 0.7649154051647373\n"
          ]
        },
        {
          "output_type": "stream",
          "name": "stderr",
          "text": [
            "/usr/local/lib/python3.7/dist-packages/sklearn/linear_model/_logistic.py:818: ConvergenceWarning: lbfgs failed to converge (status=1):\n",
            "STOP: TOTAL NO. of ITERATIONS REACHED LIMIT.\n",
            "\n",
            "Increase the number of iterations (max_iter) or scale the data as shown in:\n",
            "    https://scikit-learn.org/stable/modules/preprocessing.html\n",
            "Please also refer to the documentation for alternative solver options:\n",
            "    https://scikit-learn.org/stable/modules/linear_model.html#logistic-regression\n",
            "  extra_warning_msg=_LOGISTIC_SOLVER_CONVERGENCE_MSG,\n"
          ]
        },
        {
          "output_type": "stream",
          "name": "stdout",
          "text": [
            "로지스틱 회귀 정확도: 0.813446126447017\n"
          ]
        },
        {
          "output_type": "stream",
          "name": "stderr",
          "text": [
            "/usr/local/lib/python3.7/dist-packages/sklearn/svm/_base.py:1208: ConvergenceWarning: Liblinear failed to converge, increase the number of iterations.\n",
            "  ConvergenceWarning,\n"
          ]
        },
        {
          "output_type": "stream",
          "name": "stdout",
          "text": [
            "SVM 정확도: 0.7782724844167409\n",
            "결정 트리 정확도: 0.6211041852181657\n",
            "그래디언트 부스팅 트리 정확도: 0.7666963490650045\n",
            "랜덤 포레스트 정확도: 0.6544968833481746\n"
          ]
        },
        {
          "output_type": "stream",
          "name": "stderr",
          "text": [
            "/usr/local/lib/python3.7/dist-packages/sklearn/linear_model/_logistic.py:818: ConvergenceWarning: lbfgs failed to converge (status=1):\n",
            "STOP: TOTAL NO. of ITERATIONS REACHED LIMIT.\n",
            "\n",
            "Increase the number of iterations (max_iter) or scale the data as shown in:\n",
            "    https://scikit-learn.org/stable/modules/preprocessing.html\n",
            "Please also refer to the documentation for alternative solver options:\n",
            "    https://scikit-learn.org/stable/modules/linear_model.html#logistic-regression\n",
            "  extra_warning_msg=_LOGISTIC_SOLVER_CONVERGENCE_MSG,\n"
          ]
        },
        {
          "output_type": "stream",
          "name": "stdout",
          "text": [
            "보팅 정확도 0.8183437221727515\n"
          ]
        }
      ]
    },
    {
      "cell_type": "markdown",
      "source": [
        "# Num_words : 10000  / Accuracy\n",
        "- 나이브 베이즈 정확도 : 0.5997328584149599\n",
        "- CNB 정확도: 0.7649154051647373\n",
        "- 로지스틱 회귀 정확도: 0.813446126447017\n",
        "- SVM 정확도: 0.7782724844167409\n",
        "- 결정 트리 정확도: 0.6211041852181657\n",
        "- 그래디언트 부스팅 트리 정확도: 0.7666963490650045\n",
        "- 랜덤 포레스트 정확도: 0.6544968833481746\n",
        "- 보팅 정확도 0.8183437221727515\n",
        "\n",
        "\n"
      ],
      "metadata": {
        "id": "gthk34HBKnYw"
      }
    },
    {
      "cell_type": "markdown",
      "source": [
        "##RNN"
      ],
      "metadata": {
        "id": "aXcHYej7b-4S"
      }
    },
    {
      "cell_type": "code",
      "source": [
        "from tensorflow import keras\n",
        "from tensorflow.keras import Input, Model\n",
        "import tensorflow as tf\n",
        "from tensorflow.keras.models import Sequential\n",
        "from tensorflow.keras.models import load_model\n",
        "from tensorflow.keras.callbacks import EarlyStopping, ModelCheckpoint\n",
        "from tensorflow.keras.preprocessing.sequence import pad_sequences\n",
        "from tensorflow.keras.layers import Dense, Embedding, Bidirectional, LSTM, Concatenate, Dropout\n",
        "from sklearn.metrics import classification_report\n",
        "from sklearn.metrics import confusion_matrix"
      ],
      "metadata": {
        "id": "TcYCYAMJGvna"
      },
      "execution_count": null,
      "outputs": []
    },
    {
      "cell_type": "code",
      "source": [
        "tfidfv_none_arr = tfidfv_none.toarray()\n",
        "tfidfv_test_none_arr = tfidfv_test_none.toarray()"
      ],
      "metadata": {
        "id": "5KHg7Z_eF3Wv"
      },
      "execution_count": null,
      "outputs": []
    },
    {
      "cell_type": "code",
      "source": [
        "y_train_none.shape"
      ],
      "metadata": {
        "colab": {
          "base_uri": "https://localhost:8080/"
        },
        "id": "AYpidzA2K67M",
        "outputId": "35928d6e-f07e-4b9c-db58-8cfe88c36330"
      },
      "execution_count": null,
      "outputs": [
        {
          "output_type": "execute_result",
          "data": {
            "text/plain": [
              "(8982,)"
            ]
          },
          "metadata": {},
          "execution_count": 51
        }
      ]
    },
    {
      "cell_type": "code",
      "source": [
        "vocab_size = 20000\n",
        "word_vector_dim = 32  \n",
        "num_classes = 46\n",
        "\n",
        "LSTM_MODEL = keras.Sequential()\n",
        "LSTM_MODEL.add(keras.layers.Embedding(vocab_size, \n",
        "                                 word_vector_dim))\n",
        "LSTM_MODEL.add(keras.layers.LSTM(32))\n",
        "LSTM_MODEL.add(keras.layers.Dense(num_classes, activation='softmax'))  \n",
        "LSTM_MODEL.summary()"
      ],
      "metadata": {
        "colab": {
          "base_uri": "https://localhost:8080/"
        },
        "id": "vCWqoGfPcn0p",
        "outputId": "ba1183c9-3999-4b5a-ec04-578b21d9cd74"
      },
      "execution_count": null,
      "outputs": [
        {
          "output_type": "stream",
          "name": "stdout",
          "text": [
            "Model: \"sequential\"\n",
            "_________________________________________________________________\n",
            " Layer (type)                Output Shape              Param #   \n",
            "=================================================================\n",
            " embedding (Embedding)       (None, None, 32)          640000    \n",
            "                                                                 \n",
            " lstm (LSTM)                 (None, 32)                8320      \n",
            "                                                                 \n",
            " dense (Dense)               (None, 46)                1518      \n",
            "                                                                 \n",
            "=================================================================\n",
            "Total params: 649,838\n",
            "Trainable params: 649,838\n",
            "Non-trainable params: 0\n",
            "_________________________________________________________________\n"
          ]
        }
      ]
    },
    {
      "cell_type": "code",
      "source": [
        "es = keras.callbacks.EarlyStopping(monitor='val_loss', mode='min', verbose=1, patience=4)\n",
        "\n",
        "LSTM_MODEL.compile(optimizer='adam',\n",
        "              loss='sparse_categorical_crossentropy',\n",
        "              metrics=['accuracy'])\n",
        "            \n",
        "epochs=5\n",
        "batch_size=64\n",
        "\n",
        "history = LSTM_MODEL.fit(tfidfv_none_arr,\n",
        "                                y_train_none,\n",
        "                                epochs=epochs,\n",
        "                                batch_size=batch_size,\n",
        "                                callbacks=[es],\n",
        "                                validation_split=0.2,\n",
        "                                verbose=1)"
      ],
      "metadata": {
        "colab": {
          "base_uri": "https://localhost:8080/"
        },
        "id": "5j10la_mLRBZ",
        "outputId": "9d74fb1a-c096-4cb0-987a-4d34d5eeba1e"
      },
      "execution_count": null,
      "outputs": [
        {
          "output_type": "stream",
          "name": "stdout",
          "text": [
            "Epoch 1/5\n",
            "113/113 [==============================] - 108s 941ms/step - loss: 2.7951 - accuracy: 0.3376 - val_loss: 2.4101 - val_accuracy: 0.3450\n",
            "Epoch 2/5\n",
            "113/113 [==============================] - 106s 936ms/step - loss: 2.4086 - accuracy: 0.3534 - val_loss: 2.4071 - val_accuracy: 0.3450\n",
            "Epoch 3/5\n",
            "113/113 [==============================] - 106s 935ms/step - loss: 2.4067 - accuracy: 0.3534 - val_loss: 2.4063 - val_accuracy: 0.3450\n",
            "Epoch 4/5\n",
            "113/113 [==============================] - 106s 941ms/step - loss: 2.4063 - accuracy: 0.3534 - val_loss: 2.4058 - val_accuracy: 0.3450\n",
            "Epoch 5/5\n",
            "113/113 [==============================] - 106s 942ms/step - loss: 2.4066 - accuracy: 0.3534 - val_loss: 2.4072 - val_accuracy: 0.3450\n"
          ]
        }
      ]
    },
    {
      "cell_type": "code",
      "source": [
        "results = LSTM_MODEL.evaluate(tfidfv_test_none_arr, y_test_none, verbose=2)\n",
        "print(results)"
      ],
      "metadata": {
        "colab": {
          "base_uri": "https://localhost:8080/"
        },
        "id": "2uC2uOtycr82",
        "outputId": "42ce956a-0e02-41d8-f029-fd220c09b5d0"
      },
      "execution_count": null,
      "outputs": [
        {
          "output_type": "stream",
          "name": "stdout",
          "text": [
            "71/71 - 24s - loss: 2.4151 - accuracy: 0.3620 - 24s/epoch - 342ms/step\n",
            "[2.4151406288146973, 0.36197686195373535]\n"
          ]
        }
      ]
    },
    {
      "cell_type": "code",
      "source": [
        "epochs = range(1, len(history.history['accuracy']) + 1)\n",
        "plt.plot(epochs, history.history['loss'])\n",
        "plt.plot(epochs, history.history['val_loss'])\n",
        "plt.title('model loss')\n",
        "plt.ylabel('loss')\n",
        "plt.xlabel('epoch')\n",
        "plt.legend(['train', 'test'], loc='upper left')\n",
        "plt.show()"
      ],
      "metadata": {
        "colab": {
          "base_uri": "https://localhost:8080/",
          "height": 295
        },
        "id": "bf1ZmIgdRSAZ",
        "outputId": "e3081237-b232-4164-c6c8-278eb4b121fb"
      },
      "execution_count": null,
      "outputs": [
        {
          "output_type": "display_data",
          "data": {
            "text/plain": [
              "<Figure size 432x288 with 1 Axes>"
            ],
            "image/png": "[encoded data removed]"
          },
          "metadata": {
            "needs_background": "light"
          }
        }
      ]
    },
    {
      "cell_type": "code",
      "source": [
        "print(classification_report(y_test_none, LSTM_MODEL.predict(tfidfv_test_none_arr).argmax(axis=1)))"
      ],
      "metadata": {
        "colab": {
          "base_uri": "https://localhost:8080/"
        },
        "id": "oc02bKSDjUiE",
        "outputId": "dd4894db-29dc-442a-ef1f-c99e1cc5ef8d"
      },
      "execution_count": null,
      "outputs": [
        {
          "output_type": "stream",
          "name": "stdout",
          "text": [
            "              precision    recall  f1-score   support\n",
            "\n",
            "           0       0.00      0.00      0.00        12\n",
            "           1       0.00      0.00      0.00       105\n",
            "           2       0.00      0.00      0.00        20\n",
            "           3       0.36      1.00      0.53       813\n",
            "           4       0.00      0.00      0.00       474\n",
            "           5       0.00      0.00      0.00         5\n",
            "           6       0.00      0.00      0.00        14\n",
            "           7       0.00      0.00      0.00         3\n",
            "           8       0.00      0.00      0.00        38\n",
            "           9       0.00      0.00      0.00        25\n",
            "          10       0.00      0.00      0.00        30\n",
            "          11       0.00      0.00      0.00        83\n",
            "          12       0.00      0.00      0.00        13\n",
            "          13       0.00      0.00      0.00        37\n",
            "          14       0.00      0.00      0.00         2\n",
            "          15       0.00      0.00      0.00         9\n",
            "          16       0.00      0.00      0.00        99\n",
            "          17       0.00      0.00      0.00        12\n",
            "          18       0.00      0.00      0.00        20\n",
            "          19       0.00      0.00      0.00       133\n",
            "          20       0.00      0.00      0.00        70\n",
            "          21       0.00      0.00      0.00        27\n",
            "          22       0.00      0.00      0.00         7\n",
            "          23       0.00      0.00      0.00        12\n",
            "          24       0.00      0.00      0.00        19\n",
            "          25       0.00      0.00      0.00        31\n",
            "          26       0.00      0.00      0.00         8\n",
            "          27       0.00      0.00      0.00         4\n",
            "          28       0.00      0.00      0.00        10\n",
            "          29       0.00      0.00      0.00         4\n",
            "          30       0.00      0.00      0.00        12\n",
            "          31       0.00      0.00      0.00        13\n",
            "          32       0.00      0.00      0.00        10\n",
            "          33       0.00      0.00      0.00         5\n",
            "          34       0.00      0.00      0.00         7\n",
            "          35       0.00      0.00      0.00         6\n",
            "          36       0.00      0.00      0.00        11\n",
            "          37       0.00      0.00      0.00         2\n",
            "          38       0.00      0.00      0.00         3\n",
            "          39       0.00      0.00      0.00         5\n",
            "          40       0.00      0.00      0.00        10\n",
            "          41       0.00      0.00      0.00         8\n",
            "          42       0.00      0.00      0.00         3\n",
            "          43       0.00      0.00      0.00         6\n",
            "          44       0.00      0.00      0.00         5\n",
            "          45       0.00      0.00      0.00         1\n",
            "\n",
            "    accuracy                           0.36      2246\n",
            "   macro avg       0.01      0.02      0.01      2246\n",
            "weighted avg       0.13      0.36      0.19      2246\n",
            "\n"
          ]
        },
        {
          "output_type": "stream",
          "name": "stderr",
          "text": [
            "/usr/local/lib/python3.7/dist-packages/sklearn/metrics/_classification.py:1318: UndefinedMetricWarning: Precision and F-score are ill-defined and being set to 0.0 in labels with no predicted samples. Use `zero_division` parameter to control this behavior.\n",
            "  _warn_prf(average, modifier, msg_start, len(result))\n",
            "/usr/local/lib/python3.7/dist-packages/sklearn/metrics/_classification.py:1318: UndefinedMetricWarning: Precision and F-score are ill-defined and being set to 0.0 in labels with no predicted samples. Use `zero_division` parameter to control this behavior.\n",
            "  _warn_prf(average, modifier, msg_start, len(result))\n",
            "/usr/local/lib/python3.7/dist-packages/sklearn/metrics/_classification.py:1318: UndefinedMetricWarning: Precision and F-score are ill-defined and being set to 0.0 in labels with no predicted samples. Use `zero_division` parameter to control this behavior.\n",
            "  _warn_prf(average, modifier, msg_start, len(result))\n"
          ]
        }
      ]
    },
    {
      "cell_type": "markdown",
      "source": [
        "# Graph_confusion_matrix를 통한 해당 모델 시각화"
      ],
      "metadata": {
        "id": "J-kFb7YPJ1g5"
      }
    },
    {
      "cell_type": "code",
      "source": [
        "def graph_confusion_matrix(model, x_test, y_test):\n",
        "    df_cm = pd.DataFrame(confusion_matrix(y_test, model.predict(x_test).argmax(axis=1)))\n",
        "    fig = plt.figure(figsize=(15,15))\n",
        "    heatmap = sns.heatmap(df_cm, annot=True, fmt=\"d\")\n",
        "    heatmap.yaxis.set_ticklabels(heatmap.yaxis.get_ticklabels(), rotation=0, ha='right', fontsize=12)\n",
        "    heatmap.xaxis.set_ticklabels(heatmap.xaxis.get_ticklabels(), rotation=45, ha='right', fontsize=12)\n",
        "    plt.ylabel('label')\n",
        "    plt.xlabel('predicted value')"
      ],
      "metadata": {
        "id": "Hs2G2vvTixcX"
      },
      "execution_count": null,
      "outputs": []
    },
    {
      "cell_type": "code",
      "source": [
        "graph_confusion_matrix(LSTM_MODEL,tfidfv_test_none_arr, y_test_none)"
      ],
      "metadata": {
        "colab": {
          "base_uri": "https://localhost:8080/",
          "height": 887
        },
        "id": "215cyYVdjFaF",
        "outputId": "32d2bcce-9d58-45d1-f45d-14bcb33428c7"
      },
      "execution_count": null,
      "outputs": [
        {
          "output_type": "display_data",
          "data": {
            "text/plain": [
              "<Figure size 1080x1080 with 2 Axes>"
            ],
            "image/png": "[encoded data removed]"
          },
          "metadata": {
            "needs_background": "light"
          }
        }
      ]
    },
    {
      "cell_type": "code",
      "source": [
        "from tensorflow.keras.preprocessing.sequence import pad_sequences\n",
        "from tensorflow.keras.utils import to_categorical"
      ],
      "metadata": {
        "id": "5uWsL0sEPFqW"
      },
      "execution_count": null,
      "outputs": []
    },
    {
      "cell_type": "markdown",
      "source": [
        "## Num_words=10000을 기준으로 위와 동일한 모델구조를 짜서, 임베딩 대신에 pad_sequence, to_categorical한 Train_set을 넣어보자!"
      ],
      "metadata": {
        "id": "JJ4ZPtG_J7yk"
      }
    },
    {
      "cell_type": "code",
      "source": [
        "(X_train, y_train), (X_test, y_test) = reuters.load_data(num_words=10000, test_split=0.2)"
      ],
      "metadata": {
        "id": "q3hnurYjH557"
      },
      "execution_count": null,
      "outputs": []
    },
    {
      "cell_type": "code",
      "source": [
        "max_len = 100\n",
        "\n",
        "X_train = pad_sequences(X_train, maxlen=max_len)\n",
        "X_test = pad_sequences(X_test, maxlen=max_len)\n",
        "\n",
        "y_train = to_categorical(y_train)\n",
        "y_test = to_categorical(y_test)"
      ],
      "metadata": {
        "id": "axs5togsOgE7"
      },
      "execution_count": null,
      "outputs": []
    },
    {
      "cell_type": "code",
      "source": [
        "model = Sequential()\n",
        "model.add(Embedding(vocab_size, word_vector_dim))\n",
        "model.add(LSTM(32))\n",
        "model.add(keras.layers.Dense(num_classes, activation='softmax'))\n",
        "model.summary()"
      ],
      "metadata": {
        "colab": {
          "base_uri": "https://localhost:8080/"
        },
        "id": "zPTwv0RMO8MB",
        "outputId": "af9ed82b-7d37-436c-cca7-d100df696f07"
      },
      "execution_count": null,
      "outputs": [
        {
          "output_type": "stream",
          "name": "stdout",
          "text": [
            "Model: \"sequential_1\"\n",
            "_________________________________________________________________\n",
            " Layer (type)                Output Shape              Param #   \n",
            "=================================================================\n",
            " embedding_1 (Embedding)     (None, None, 32)          640000    \n",
            "                                                                 \n",
            " lstm_1 (LSTM)               (None, 32)                8320      \n",
            "                                                                 \n",
            " dense_1 (Dense)             (None, 46)                1518      \n",
            "                                                                 \n",
            "=================================================================\n",
            "Total params: 649,838\n",
            "Trainable params: 649,838\n",
            "Non-trainable params: 0\n",
            "_________________________________________________________________\n"
          ]
        }
      ]
    },
    {
      "cell_type": "code",
      "source": [
        "es = keras.callbacks.EarlyStopping(monitor='val_loss', mode='min', verbose=1, patience=4)\n",
        "mc = ModelCheckpoint('best_model.h5', monitor='val_acc', mode='max', verbose=1, save_best_only=True)\n",
        "model.compile(loss='categorical_crossentropy', optimizer='adam', metrics=['acc'])\n",
        "history = model.fit(X_train, y_train, batch_size=64, epochs=20, callbacks=[es, mc], validation_split=0.2, verbose=1)"
      ],
      "metadata": {
        "colab": {
          "base_uri": "https://localhost:8080/"
        },
        "id": "LoR_UWIsPa1A",
        "outputId": "80f9e71a-b2d8-485b-c342-c5b5443b831f"
      },
      "execution_count": null,
      "outputs": [
        {
          "output_type": "stream",
          "name": "stdout",
          "text": [
            "Epoch 1/20\n",
            "106/113 [===========================>..] - ETA: 0s - loss: 2.8181 - acc: 0.3443\n",
            "Epoch 1: val_acc improved from -inf to 0.34502, saving model to best_model.h5\n",
            "113/113 [==============================] - 3s 12ms/step - loss: 2.7918 - acc: 0.3442 - val_loss: 2.4056 - val_acc: 0.3450\n",
            "Epoch 2/20\n",
            "113/113 [==============================] - ETA: 0s - loss: 2.2622 - acc: 0.4134\n",
            "Epoch 2: val_acc improved from 0.34502 to 0.49917, saving model to best_model.h5\n",
            "113/113 [==============================] - 1s 8ms/step - loss: 2.2622 - acc: 0.4134 - val_loss: 2.0826 - val_acc: 0.4992\n",
            "Epoch 3/20\n",
            "109/113 [===========================>..] - ETA: 0s - loss: 1.9586 - acc: 0.5097\n",
            "Epoch 3: val_acc improved from 0.49917 to 0.51308, saving model to best_model.h5\n",
            "113/113 [==============================] - 1s 9ms/step - loss: 1.9584 - acc: 0.5090 - val_loss: 1.8069 - val_acc: 0.5131\n",
            "Epoch 4/20\n",
            "112/113 [============================>.] - ETA: 0s - loss: 1.7320 - acc: 0.5466\n",
            "Epoch 4: val_acc did not improve from 0.51308\n",
            "113/113 [==============================] - 1s 8ms/step - loss: 1.7321 - acc: 0.5464 - val_loss: 1.8368 - val_acc: 0.5014\n",
            "Epoch 5/20\n",
            "110/113 [============================>.] - ETA: 0s - loss: 1.6262 - acc: 0.5717\n",
            "Epoch 5: val_acc improved from 0.51308 to 0.56038, saving model to best_model.h5\n",
            "113/113 [==============================] - 1s 9ms/step - loss: 1.6242 - acc: 0.5720 - val_loss: 1.6832 - val_acc: 0.5604\n",
            "Epoch 6/20\n",
            "109/113 [===========================>..] - ETA: 0s - loss: 1.5348 - acc: 0.5923\n",
            "Epoch 6: val_acc improved from 0.56038 to 0.56260, saving model to best_model.h5\n",
            "113/113 [==============================] - 1s 9ms/step - loss: 1.5345 - acc: 0.5929 - val_loss: 1.6794 - val_acc: 0.5626\n",
            "Epoch 7/20\n",
            "110/113 [============================>.] - ETA: 0s - loss: 1.4321 - acc: 0.6236\n",
            "Epoch 7: val_acc improved from 0.56260 to 0.58987, saving model to best_model.h5\n",
            "113/113 [==============================] - 1s 8ms/step - loss: 1.4335 - acc: 0.6237 - val_loss: 1.6488 - val_acc: 0.5899\n",
            "Epoch 8/20\n",
            "111/113 [============================>.] - ETA: 0s - loss: 1.3277 - acc: 0.6636\n",
            "Epoch 8: val_acc improved from 0.58987 to 0.60935, saving model to best_model.h5\n",
            "113/113 [==============================] - 1s 8ms/step - loss: 1.3277 - acc: 0.6636 - val_loss: 1.5682 - val_acc: 0.6093\n",
            "Epoch 9/20\n",
            "111/113 [============================>.] - ETA: 0s - loss: 1.2207 - acc: 0.6860\n",
            "Epoch 9: val_acc did not improve from 0.60935\n",
            "113/113 [==============================] - 1s 8ms/step - loss: 1.2246 - acc: 0.6853 - val_loss: 1.5809 - val_acc: 0.6060\n",
            "Epoch 10/20\n",
            "109/113 [===========================>..] - ETA: 0s - loss: 1.1401 - acc: 0.7050\n",
            "Epoch 10: val_acc improved from 0.60935 to 0.61658, saving model to best_model.h5\n",
            "113/113 [==============================] - 1s 9ms/step - loss: 1.1377 - acc: 0.7061 - val_loss: 1.5687 - val_acc: 0.6166\n",
            "Epoch 11/20\n",
            "110/113 [============================>.] - ETA: 0s - loss: 1.0302 - acc: 0.7368\n",
            "Epoch 11: val_acc improved from 0.61658 to 0.63829, saving model to best_model.h5\n",
            "113/113 [==============================] - 1s 8ms/step - loss: 1.0342 - acc: 0.7358 - val_loss: 1.5306 - val_acc: 0.6383\n",
            "Epoch 12/20\n",
            "109/113 [===========================>..] - ETA: 0s - loss: 0.9565 - acc: 0.7509\n",
            "Epoch 12: val_acc improved from 0.63829 to 0.64329, saving model to best_model.h5\n",
            "113/113 [==============================] - 1s 8ms/step - loss: 0.9533 - acc: 0.7521 - val_loss: 1.5456 - val_acc: 0.6433\n",
            "Epoch 13/20\n",
            "110/113 [============================>.] - ETA: 0s - loss: 0.8826 - acc: 0.7680\n",
            "Epoch 13: val_acc did not improve from 0.64329\n",
            "113/113 [==============================] - 1s 8ms/step - loss: 0.8873 - acc: 0.7678 - val_loss: 1.5490 - val_acc: 0.6372\n",
            "Epoch 14/20\n",
            "111/113 [============================>.] - ETA: 0s - loss: 0.8197 - acc: 0.7862\n",
            "Epoch 14: val_acc did not improve from 0.64329\n",
            "113/113 [==============================] - 1s 8ms/step - loss: 0.8202 - acc: 0.7859 - val_loss: 1.5875 - val_acc: 0.6355\n",
            "Epoch 15/20\n",
            "112/113 [============================>.] - ETA: 0s - loss: 0.7666 - acc: 0.8039\n",
            "Epoch 15: val_acc did not improve from 0.64329\n",
            "113/113 [==============================] - 1s 8ms/step - loss: 0.7659 - acc: 0.8040 - val_loss: 1.5687 - val_acc: 0.6433\n",
            "Epoch 15: early stopping\n"
          ]
        }
      ]
    },
    {
      "cell_type": "code",
      "source": [
        "results = model.evaluate(X_test, y_test, verbose=2)\n",
        "print(results)"
      ],
      "metadata": {
        "colab": {
          "base_uri": "https://localhost:8080/"
        },
        "id": "_Ut9nspsell0",
        "outputId": "48da89e9-a797-4a4c-a3a9-edc5b4238b7e"
      },
      "execution_count": null,
      "outputs": [
        {
          "output_type": "stream",
          "name": "stdout",
          "text": [
            "71/71 - 0s - loss: 1.6871 - acc: 0.6215 - 231ms/epoch - 3ms/step\n",
            "[1.6871209144592285, 0.6215494275093079]\n"
          ]
        }
      ]
    },
    {
      "cell_type": "markdown",
      "source": [
        "## 이때는 비교적 성능이 높게 나옴을 확인"
      ],
      "metadata": {
        "id": "n7C7GBR5KH7E"
      }
    },
    {
      "cell_type": "code",
      "source": [
        "epochs = range(1, len(history.history['acc']) + 1)\n",
        "plt.plot(epochs, history.history['loss'])\n",
        "plt.plot(epochs, history.history['val_loss'])\n",
        "plt.title('model loss')\n",
        "plt.ylabel('loss')\n",
        "plt.xlabel('epoch')\n",
        "plt.legend(['train', 'test'], loc='upper left')\n",
        "plt.show()"
      ],
      "metadata": {
        "colab": {
          "base_uri": "https://localhost:8080/",
          "height": 295
        },
        "id": "Ge076G9VQN66",
        "outputId": "06011d8b-9f90-4c22-b6bd-9a08b3c4eab0"
      },
      "execution_count": null,
      "outputs": [
        {
          "output_type": "display_data",
          "data": {
            "text/plain": [
              "<Figure size 432x288 with 1 Axes>"
            ],
            "image/png": "[encoded data removed]"
          },
          "metadata": {
            "needs_background": "light"
          }
        }
      ]
    },
    {
      "cell_type": "code",
      "source": [
        "print(classification_report(y_test_none, model.predict(X_test).argmax(axis=1)))"
      ],
      "metadata": {
        "colab": {
          "base_uri": "https://localhost:8080/"
        },
        "id": "_h7XZJBhi7Ks",
        "outputId": "270bfae2-bc2d-4059-99c6-11743d55befa"
      },
      "execution_count": null,
      "outputs": [
        {
          "output_type": "stream",
          "name": "stdout",
          "text": [
            "              precision    recall  f1-score   support\n",
            "\n",
            "           0       0.00      0.00      0.00        12\n",
            "           1       0.42      0.53      0.47       105\n",
            "           2       0.04      0.05      0.04        20\n",
            "           3       0.89      0.89      0.89       813\n",
            "           4       0.78      0.79      0.78       474\n",
            "           5       0.00      0.00      0.00         5\n",
            "           6       0.27      0.29      0.28        14\n",
            "           7       0.00      0.00      0.00         3\n",
            "           8       0.30      0.16      0.21        38\n",
            "           9       0.10      0.08      0.09        25\n",
            "          10       0.22      0.43      0.29        30\n",
            "          11       0.24      0.49      0.33        83\n",
            "          12       0.29      0.15      0.20        13\n",
            "          13       0.16      0.14      0.14        37\n",
            "          14       0.00      0.00      0.00         2\n",
            "          15       0.00      0.00      0.00         9\n",
            "          16       0.38      0.55      0.44        99\n",
            "          17       0.00      0.00      0.00        12\n",
            "          18       0.00      0.00      0.00        20\n",
            "          19       0.47      0.52      0.49       133\n",
            "          20       0.36      0.40      0.38        70\n",
            "          21       0.50      0.04      0.07        27\n",
            "          22       0.00      0.00      0.00         7\n",
            "          23       0.00      0.00      0.00        12\n",
            "          24       0.00      0.00      0.00        19\n",
            "          25       0.14      0.26      0.18        31\n",
            "          26       0.00      0.00      0.00         8\n",
            "          27       0.00      0.00      0.00         4\n",
            "          28       0.00      0.00      0.00        10\n",
            "          29       0.00      0.00      0.00         4\n",
            "          30       0.17      0.25      0.20        12\n",
            "          31       0.00      0.00      0.00        13\n",
            "          32       0.11      0.10      0.11        10\n",
            "          33       0.00      0.00      0.00         5\n",
            "          34       0.00      0.00      0.00         7\n",
            "          35       0.00      0.00      0.00         6\n",
            "          36       0.00      0.00      0.00        11\n",
            "          37       0.00      0.00      0.00         2\n",
            "          38       0.00      0.00      0.00         3\n",
            "          39       0.00      0.00      0.00         5\n",
            "          40       0.00      0.00      0.00        10\n",
            "          41       0.00      0.00      0.00         8\n",
            "          42       0.00      0.00      0.00         3\n",
            "          43       0.00      0.00      0.00         6\n",
            "          44       0.80      0.80      0.80         5\n",
            "          45       0.00      0.00      0.00         1\n",
            "\n",
            "    accuracy                           0.62      2246\n",
            "   macro avg       0.14      0.15      0.14      2246\n",
            "weighted avg       0.60      0.62      0.60      2246\n",
            "\n"
          ]
        },
        {
          "output_type": "stream",
          "name": "stderr",
          "text": [
            "/usr/local/lib/python3.7/dist-packages/sklearn/metrics/_classification.py:1318: UndefinedMetricWarning: Precision and F-score are ill-defined and being set to 0.0 in labels with no predicted samples. Use `zero_division` parameter to control this behavior.\n",
            "  _warn_prf(average, modifier, msg_start, len(result))\n",
            "/usr/local/lib/python3.7/dist-packages/sklearn/metrics/_classification.py:1318: UndefinedMetricWarning: Precision and F-score are ill-defined and being set to 0.0 in labels with no predicted samples. Use `zero_division` parameter to control this behavior.\n",
            "  _warn_prf(average, modifier, msg_start, len(result))\n",
            "/usr/local/lib/python3.7/dist-packages/sklearn/metrics/_classification.py:1318: UndefinedMetricWarning: Precision and F-score are ill-defined and being set to 0.0 in labels with no predicted samples. Use `zero_division` parameter to control this behavior.\n",
            "  _warn_prf(average, modifier, msg_start, len(result))\n"
          ]
        }
      ]
    },
    {
      "cell_type": "code",
      "source": [
        "graph_confusion_matrix(model,tfidfv_test_none_arr, y_test_none)"
      ],
      "metadata": {
        "colab": {
          "base_uri": "https://localhost:8080/",
          "height": 887
        },
        "id": "EVKobtFQjkiO",
        "outputId": "f2a47979-d823-4c67-ad28-1bf3fec8fdaa"
      },
      "execution_count": null,
      "outputs": [
        {
          "output_type": "display_data",
          "data": {
            "text/plain": [
              "<Figure size 1080x1080 with 2 Axes>"
            ],
            "image/png": "[encoded data removed]"
          },
          "metadata": {
            "needs_background": "light"
          }
        }
      ]
    },
    {
      "cell_type": "markdown",
      "source": [
        "# Conv1D를 통한 tfidfv_arr에 대해 학습! "
      ],
      "metadata": {
        "id": "4JMyB-oIKKpj"
      }
    },
    {
      "cell_type": "code",
      "source": [
        "from tensorflow.keras.layers import Embedding, Dropout, Conv1D, GlobalMaxPooling1D, Dense\n",
        "\n",
        "vocab_size = 20000\n",
        "word_vector_dim = 32  \n",
        "embedding_dim = 256 # 임베딩 벡터의 차원\n",
        "dropout_ratio = 0.3 # 드롭아웃 비율\n",
        "num_filters = 256 # 커널의 수\n",
        "kernel_size = 3 # 커널의 크기\n",
        "hidden_units = 128 # 뉴런의 수\n",
        "\n",
        "cnn_model = Sequential()\n",
        "cnn_model.add(keras.layers.Embedding(vocab_size, \n",
        "                                 word_vector_dim))\n",
        "cnn_model.add(Dropout(dropout_ratio))\n",
        "cnn_model.add(keras.layers.Conv1D(filters=num_filters, kernel_size=kernel_size, padding='valid', activation='relu'))\n",
        "cnn_model.add(GlobalMaxPooling1D())\n",
        "cnn_model.add(Dense(hidden_units, activation='relu'))\n",
        "cnn_model.add(Dropout(dropout_ratio))\n",
        "cnn_model.add(keras.layers.Dense(num_classes, activation='softmax'))  \n",
        "cnn_model.summary()"
      ],
      "metadata": {
        "colab": {
          "base_uri": "https://localhost:8080/"
        },
        "id": "o4M7RgGLZcxv",
        "outputId": "ad4543dd-8bf2-47bc-9b93-df17c1e21e55"
      },
      "execution_count": null,
      "outputs": [
        {
          "output_type": "stream",
          "name": "stdout",
          "text": [
            "Model: \"sequential_2\"\n",
            "_________________________________________________________________\n",
            " Layer (type)                Output Shape              Param #   \n",
            "=================================================================\n",
            " embedding_2 (Embedding)     (None, None, 32)          640000    \n",
            "                                                                 \n",
            " dropout (Dropout)           (None, None, 32)          0         \n",
            "                                                                 \n",
            " conv1d (Conv1D)             (None, None, 256)         24832     \n",
            "                                                                 \n",
            " global_max_pooling1d (Globa  (None, 256)              0         \n",
            " lMaxPooling1D)                                                  \n",
            "                                                                 \n",
            " dense_2 (Dense)             (None, 128)               32896     \n",
            "                                                                 \n",
            " dropout_1 (Dropout)         (None, 128)               0         \n",
            "                                                                 \n",
            " dense_3 (Dense)             (None, 46)                5934      \n",
            "                                                                 \n",
            "=================================================================\n",
            "Total params: 703,662\n",
            "Trainable params: 703,662\n",
            "Non-trainable params: 0\n",
            "_________________________________________________________________\n"
          ]
        }
      ]
    },
    {
      "cell_type": "code",
      "source": [
        "es = keras.callbacks.EarlyStopping(monitor='val_loss', mode='min', verbose=1, patience=4)\n",
        "mc = ModelCheckpoint('best_model.h5', monitor='val_acc', mode='max', verbose=1, save_best_only=True)\n",
        "cnn_model.compile(optimizer=tf.keras.optimizers.Adam(), \n",
        "              loss='sparse_categorical_crossentropy', \n",
        "              metrics=['acc'])\n",
        "\n",
        "history = cnn_model.fit(tfidfv_none_arr,\n",
        "                                y_train_none,\n",
        "                                epochs=5,\n",
        "                                batch_size=batch_size,\n",
        "                                callbacks=[es,mc],\n",
        "                                validation_split=0.2,                        \n",
        ")"
      ],
      "metadata": {
        "colab": {
          "base_uri": "https://localhost:8080/"
        },
        "id": "XEdhg8EzaPhL",
        "outputId": "3db627fe-78c9-4bdb-a965-16e6517648a9"
      },
      "execution_count": null,
      "outputs": [
        {
          "output_type": "stream",
          "name": "stdout",
          "text": [
            "Epoch 1/5\n",
            "113/113 [==============================] - ETA: 0s - loss: 2.6727 - acc: 0.3232\n",
            "Epoch 1: val_acc improved from -inf to 0.34502, saving model to best_model.h5\n",
            "113/113 [==============================] - 32s 270ms/step - loss: 2.6727 - acc: 0.3232 - val_loss: 2.5590 - val_acc: 0.3450\n",
            "Epoch 2/5\n",
            "113/113 [==============================] - ETA: 0s - loss: 2.4651 - acc: 0.3402\n",
            "Epoch 2: val_acc did not improve from 0.34502\n",
            "113/113 [==============================] - 30s 264ms/step - loss: 2.4651 - acc: 0.3402 - val_loss: 2.6116 - val_acc: 0.3450\n",
            "Epoch 3/5\n",
            "113/113 [==============================] - ETA: 0s - loss: 2.4417 - acc: 0.3471\n",
            "Epoch 3: val_acc did not improve from 0.34502\n",
            "113/113 [==============================] - 30s 266ms/step - loss: 2.4417 - acc: 0.3471 - val_loss: 2.5815 - val_acc: 0.3450\n",
            "Epoch 4/5\n",
            "113/113 [==============================] - ETA: 0s - loss: 2.4395 - acc: 0.3523\n",
            "Epoch 4: val_acc did not improve from 0.34502\n",
            "113/113 [==============================] - 30s 264ms/step - loss: 2.4395 - acc: 0.3523 - val_loss: 2.5876 - val_acc: 0.3450\n",
            "Epoch 5/5\n",
            "113/113 [==============================] - ETA: 0s - loss: 2.4383 - acc: 0.3510\n",
            "Epoch 5: val_acc did not improve from 0.34502\n",
            "113/113 [==============================] - 30s 265ms/step - loss: 2.4383 - acc: 0.3510 - val_loss: 2.5739 - val_acc: 0.3450\n",
            "Epoch 5: early stopping\n"
          ]
        }
      ]
    },
    {
      "cell_type": "code",
      "source": [
        "results = cnn_model.evaluate(tfidfv_test_none_arr, y_test_none, verbose=2)\n",
        "print(results)"
      ],
      "metadata": {
        "colab": {
          "base_uri": "https://localhost:8080/"
        },
        "id": "4wxW9u7TgE5w",
        "outputId": "9c3e93de-9383-42cc-ab5d-a9d52b14e23d"
      },
      "execution_count": null,
      "outputs": [
        {
          "output_type": "stream",
          "name": "stdout",
          "text": [
            "71/71 - 2s - loss: 2.5795 - acc: 0.3620 - 2s/epoch - 34ms/step\n",
            "[2.579521656036377, 0.36197686195373535]\n"
          ]
        }
      ]
    },
    {
      "cell_type": "code",
      "source": [
        "print(classification_report(y_test_none, cnn_model.predict(tfidfv_test_none_arr).argmax(axis=1)))"
      ],
      "metadata": {
        "colab": {
          "base_uri": "https://localhost:8080/"
        },
        "id": "KUhHUApOfgKd",
        "outputId": "5a3c92e2-d9ae-4c51-b768-bda55490715a"
      },
      "execution_count": null,
      "outputs": [
        {
          "output_type": "stream",
          "name": "stdout",
          "text": [
            "              precision    recall  f1-score   support\n",
            "\n",
            "           0       0.00      0.00      0.00        12\n",
            "           1       0.00      0.00      0.00       105\n",
            "           2       0.00      0.00      0.00        20\n",
            "           3       0.36      1.00      0.53       813\n",
            "           4       0.00      0.00      0.00       474\n",
            "           5       0.00      0.00      0.00         5\n",
            "           6       0.00      0.00      0.00        14\n",
            "           7       0.00      0.00      0.00         3\n",
            "           8       0.00      0.00      0.00        38\n",
            "           9       0.00      0.00      0.00        25\n",
            "          10       0.00      0.00      0.00        30\n",
            "          11       0.00      0.00      0.00        83\n",
            "          12       0.00      0.00      0.00        13\n",
            "          13       0.00      0.00      0.00        37\n",
            "          14       0.00      0.00      0.00         2\n",
            "          15       0.00      0.00      0.00         9\n",
            "          16       0.00      0.00      0.00        99\n",
            "          17       0.00      0.00      0.00        12\n",
            "          18       0.00      0.00      0.00        20\n",
            "          19       0.00      0.00      0.00       133\n",
            "          20       0.00      0.00      0.00        70\n",
            "          21       0.00      0.00      0.00        27\n",
            "          22       0.00      0.00      0.00         7\n",
            "          23       0.00      0.00      0.00        12\n",
            "          24       0.00      0.00      0.00        19\n",
            "          25       0.00      0.00      0.00        31\n",
            "          26       0.00      0.00      0.00         8\n",
            "          27       0.00      0.00      0.00         4\n",
            "          28       0.00      0.00      0.00        10\n",
            "          29       0.00      0.00      0.00         4\n",
            "          30       0.00      0.00      0.00        12\n",
            "          31       0.00      0.00      0.00        13\n",
            "          32       0.00      0.00      0.00        10\n",
            "          33       0.00      0.00      0.00         5\n",
            "          34       0.00      0.00      0.00         7\n",
            "          35       0.00      0.00      0.00         6\n",
            "          36       0.00      0.00      0.00        11\n",
            "          37       0.00      0.00      0.00         2\n",
            "          38       0.00      0.00      0.00         3\n",
            "          39       0.00      0.00      0.00         5\n",
            "          40       0.00      0.00      0.00        10\n",
            "          41       0.00      0.00      0.00         8\n",
            "          42       0.00      0.00      0.00         3\n",
            "          43       0.00      0.00      0.00         6\n",
            "          44       0.00      0.00      0.00         5\n",
            "          45       0.00      0.00      0.00         1\n",
            "\n",
            "    accuracy                           0.36      2246\n",
            "   macro avg       0.01      0.02      0.01      2246\n",
            "weighted avg       0.13      0.36      0.19      2246\n",
            "\n"
          ]
        },
        {
          "output_type": "stream",
          "name": "stderr",
          "text": [
            "/usr/local/lib/python3.7/dist-packages/sklearn/metrics/_classification.py:1318: UndefinedMetricWarning: Precision and F-score are ill-defined and being set to 0.0 in labels with no predicted samples. Use `zero_division` parameter to control this behavior.\n",
            "  _warn_prf(average, modifier, msg_start, len(result))\n",
            "/usr/local/lib/python3.7/dist-packages/sklearn/metrics/_classification.py:1318: UndefinedMetricWarning: Precision and F-score are ill-defined and being set to 0.0 in labels with no predicted samples. Use `zero_division` parameter to control this behavior.\n",
            "  _warn_prf(average, modifier, msg_start, len(result))\n",
            "/usr/local/lib/python3.7/dist-packages/sklearn/metrics/_classification.py:1318: UndefinedMetricWarning: Precision and F-score are ill-defined and being set to 0.0 in labels with no predicted samples. Use `zero_division` parameter to control this behavior.\n",
            "  _warn_prf(average, modifier, msg_start, len(result))\n"
          ]
        }
      ]
    },
    {
      "cell_type": "code",
      "source": [
        "graph_confusion_matrix(model,tfidfv_test_none_arr, y_test_none)"
      ],
      "metadata": {
        "colab": {
          "base_uri": "https://localhost:8080/",
          "height": 887
        },
        "id": "wUp17klzfxRm",
        "outputId": "4f1963c5-b4f2-4a29-a206-af57b961922e"
      },
      "execution_count": null,
      "outputs": [
        {
          "output_type": "display_data",
          "data": {
            "text/plain": [
              "<Figure size 1080x1080 with 2 Axes>"
            ],
            "image/png": "[encoded data removed]"
          },
          "metadata": {
            "needs_background": "light"
          }
        }
      ]
    },
    {
      "cell_type": "markdown",
      "source": [
        "### 동일하게 CNN1D에 대해서 TF-IDF Embedding대신에 따로 전처리 과정을 거친 데이터셋에 대해 학습!"
      ],
      "metadata": {
        "id": "KORJftzVKVSw"
      }
    },
    {
      "cell_type": "code",
      "source": [
        "(X_train, y_train), (X_test, y_test) = reuters.load_data(num_words=10000, test_split=0.2)"
      ],
      "metadata": {
        "id": "oIXORpi-_DIh"
      },
      "execution_count": null,
      "outputs": []
    },
    {
      "cell_type": "code",
      "source": [
        "max_len = 100\n",
        "\n",
        "X_train = pad_sequences(X_train, maxlen=max_len)\n",
        "X_test = pad_sequences(X_test, maxlen=max_len)\n",
        "\n",
        "y_train = to_categorical(y_train)\n",
        "y_test = to_categorical(y_test)"
      ],
      "metadata": {
        "id": "6QRjOMA__JKW"
      },
      "execution_count": null,
      "outputs": []
    },
    {
      "cell_type": "code",
      "source": [
        "from tensorflow.keras.layers import Embedding, Dropout, Conv1D, GlobalMaxPooling1D, Dense\n",
        "\n",
        "vocab_size = 10000\n",
        "word_vector_dim = 32  \n",
        "embedding_dim = 256 # 임베딩 벡터의 차원\n",
        "dropout_ratio = 0.3 # 드롭아웃 비율\n",
        "num_filters = 256 # 커널의 수\n",
        "kernel_size = 3 # 커널의 크기\n",
        "hidden_units = 128 # 뉴런의 수\n",
        "\n",
        "cnn_model = Sequential()\n",
        "cnn_model.add(keras.layers.Embedding(vocab_size, \n",
        "                                 word_vector_dim))\n",
        "cnn_model.add(Dropout(dropout_ratio))\n",
        "cnn_model.add(keras.layers.Conv1D(filters=num_filters, kernel_size=kernel_size, padding='valid', activation='relu'))\n",
        "cnn_model.add(GlobalMaxPooling1D())\n",
        "cnn_model.add(Dense(hidden_units, activation='relu'))\n",
        "cnn_model.add(Dropout(dropout_ratio))\n",
        "cnn_model.add(keras.layers.Dense(num_classes, activation='softmax'))  \n",
        "cnn_model.summary()"
      ],
      "metadata": {
        "id": "rsJUgaoHpJHI",
        "colab": {
          "base_uri": "https://localhost:8080/"
        },
        "outputId": "8ff9c43d-cb93-4f7a-d794-e1f9221daf2f"
      },
      "execution_count": null,
      "outputs": [
        {
          "output_type": "stream",
          "name": "stdout",
          "text": [
            "Model: \"sequential_3\"\n",
            "_________________________________________________________________\n",
            " Layer (type)                Output Shape              Param #   \n",
            "=================================================================\n",
            " embedding_3 (Embedding)     (None, None, 32)          320000    \n",
            "                                                                 \n",
            " dropout_2 (Dropout)         (None, None, 32)          0         \n",
            "                                                                 \n",
            " conv1d_1 (Conv1D)           (None, None, 256)         24832     \n",
            "                                                                 \n",
            " global_max_pooling1d_1 (Glo  (None, 256)              0         \n",
            " balMaxPooling1D)                                                \n",
            "                                                                 \n",
            " dense_4 (Dense)             (None, 128)               32896     \n",
            "                                                                 \n",
            " dropout_3 (Dropout)         (None, 128)               0         \n",
            "                                                                 \n",
            " dense_5 (Dense)             (None, 46)                5934      \n",
            "                                                                 \n",
            "=================================================================\n",
            "Total params: 383,662\n",
            "Trainable params: 383,662\n",
            "Non-trainable params: 0\n",
            "_________________________________________________________________\n"
          ]
        }
      ]
    },
    {
      "cell_type": "code",
      "source": [
        "es = keras.callbacks.EarlyStopping(monitor='val_loss', mode='min', verbose=1, patience=4)\n",
        "mc = ModelCheckpoint('best_model.h5', monitor='val_acc', mode='max', verbose=1, save_best_only=True)\n",
        "cnn_model.compile(optimizer=tf.keras.optimizers.Adam(), \n",
        "              loss='categorical_crossentropy', \n",
        "              metrics=['acc'])\n",
        "history = cnn_model.fit(X_train, y_train, epochs=5, batch_size=batch_size, callbacks=[es,mc], validation_split=0.2, )"
      ],
      "metadata": {
        "id": "ez_bfqHL_K5z",
        "colab": {
          "base_uri": "https://localhost:8080/"
        },
        "outputId": "acf7b332-4ba4-47fc-96f2-d3b98982c888"
      },
      "execution_count": null,
      "outputs": [
        {
          "output_type": "stream",
          "name": "stdout",
          "text": [
            "Epoch 1/5\n",
            "105/113 [==========================>...] - ETA: 0s - loss: 1.0941 - acc: 0.7208\n",
            "Epoch 1: val_acc improved from -inf to 0.68503, saving model to best_model.h5\n",
            "113/113 [==============================] - 1s 7ms/step - loss: 1.0890 - acc: 0.7229 - val_loss: 1.2906 - val_acc: 0.6850\n",
            "Epoch 2/5\n",
            "107/113 [===========================>..] - ETA: 0s - loss: 0.9802 - acc: 0.7407\n",
            "Epoch 2: val_acc improved from 0.68503 to 0.69004, saving model to best_model.h5\n",
            "113/113 [==============================] - 1s 5ms/step - loss: 0.9860 - acc: 0.7404 - val_loss: 1.2893 - val_acc: 0.6900\n",
            "Epoch 3/5\n",
            "104/113 [==========================>...] - ETA: 0s - loss: 0.8794 - acc: 0.7670\n",
            "Epoch 3: val_acc improved from 0.69004 to 0.69783, saving model to best_model.h5\n",
            "113/113 [==============================] - 1s 6ms/step - loss: 0.8819 - acc: 0.7669 - val_loss: 1.2988 - val_acc: 0.6978\n",
            "Epoch 4/5\n",
            "108/113 [===========================>..] - ETA: 0s - loss: 0.7981 - acc: 0.7850\n",
            "Epoch 4: val_acc improved from 0.69783 to 0.69894, saving model to best_model.h5\n",
            "113/113 [==============================] - 1s 6ms/step - loss: 0.7959 - acc: 0.7847 - val_loss: 1.3092 - val_acc: 0.6989\n",
            "Epoch 5/5\n",
            "106/113 [===========================>..] - ETA: 0s - loss: 0.7240 - acc: 0.8050\n",
            "Epoch 5: val_acc did not improve from 0.69894\n",
            "113/113 [==============================] - 1s 6ms/step - loss: 0.7192 - acc: 0.8058 - val_loss: 1.3251 - val_acc: 0.6962\n"
          ]
        }
      ]
    },
    {
      "cell_type": "code",
      "source": [
        "results = cnn_model.evaluate(X_test, y_test, verbose=2)\n",
        "print(results)"
      ],
      "metadata": {
        "id": "lIyPolJE_PkW",
        "colab": {
          "base_uri": "https://localhost:8080/"
        },
        "outputId": "0f102faa-5594-466e-ff9f-9098ff0ca70e"
      },
      "execution_count": null,
      "outputs": [
        {
          "output_type": "stream",
          "name": "stdout",
          "text": [
            "71/71 - 0s - loss: 1.3928 - acc: 0.6915 - 411ms/epoch - 6ms/step\n",
            "[1.3927570581436157, 0.6914514899253845]\n"
          ]
        }
      ]
    },
    {
      "cell_type": "markdown",
      "source": [
        "## 이것도 마찬가지로 0.69로 Accuracy가 기존의 임베딩보다 높게나옴을 확인!"
      ],
      "metadata": {
        "id": "d7hmq-ISNB6U"
      }
    },
    {
      "cell_type": "markdown",
      "source": [
        "### 회고\n",
        "\n",
        "1. 왜 TF-IDF로 임베딩한 것은 성능이 낮게나오는 것에 대한 명확한 해답을 찾지 못함. 결국 TF-IDF가 임베딩의 역할도 마찬가지로 수행하고 있는 것인데, 이것에 대해 Keras의 Embedding을 해주면, 원래의 정보가 사라지는 것일까..? \n",
        "\n",
        "2. 아니라면 모델 자체가 해당 Task에 적합하지 않아서일 수도 있겠다!\n",
        "\n",
        "3. 그럼에도 머신러닝이 오히려 '꽤' 괜찮은 성능을 보여준 것은 흥미로운데, 위와 같이 비교적 작은 데이터라면, 혹은 머신러닝이 필요한 어떠한 task라면 위의 모델을 통해 문제들을 풀어볼 수 있겠다.\n",
        "\n",
        "4. 결국 해당 과제를 통해서 로이터 문제를 풀수있는 최적의 해답을 얻었다기 보다는, 여러 머신러닝 방법론들과, TF-IDF, DTM에 관한 것들 정도가 얻어갈 수 있는 것인듯 싶다.\n"
      ],
      "metadata": {
        "id": "-9DBiKX7I1Br"
      }
    }
  ]
}